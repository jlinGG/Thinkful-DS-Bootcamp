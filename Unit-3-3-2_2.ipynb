{
 "cells": [
  {
   "cell_type": "markdown",
   "metadata": {},
   "source": [
    "# Unit 3.3.2 Ridge Regression"
   ]
  },
  {
   "cell_type": "code",
   "execution_count": 1,
   "metadata": {},
   "outputs": [],
   "source": [
    "import pandas as pd\n",
    "from matplotlib import pyplot as plt\n",
    "import numpy as np\n",
    "import math\n",
    "import seaborn as sns\n",
    "import sklearn\n",
    "from sklearn import linear_model\n",
    "from sklearn import preprocessing\n",
    "%matplotlib inline\n",
    "sns.set_style('white')"
   ]
  },
  {
   "cell_type": "markdown",
   "metadata": {},
   "source": [
    "# Improving on OLS\n",
    "\n",
    "When we introduced regression, we said that the model fit is determined by minimizing the sum of the squared differences between the predicted and actual values. This is _Ordinary Least Squares_:\n",
    "\n",
    "$$\\sum_{i=1}^n(y_i-(\\alpha+\\beta x_i))^2$$\n",
    "\n",
    "It just so happens, however, that we can get more accurate *predictions* by modifying this cost function in various ways.  One way to think of this is that the OLS cost function optimizes variance explained *in the training set.*  Ridge and lasso regressions are two examples of modifying this cost function. They lead to models that optimize variance explained *in the test sets.*  Generally our goal is to make a model that tells us about the world (and not just our training sample), so ridge and lasso solutions are useful."
   ]
  },
  {
   "cell_type": "markdown",
   "metadata": {},
   "source": [
    "# Ridge regression\n",
    "\n",
    "**Ridge regression** minimizes this cost function:\n",
    "\n",
    "$$\\sum_{i=1}^n(y_i-(\\alpha+\\beta x_i))^2+\\lambda\\sum_{j=1}^p\\beta_j^2 $$\n",
    "\n",
    "Comparing this cost function to the OLS cost function above, you can see it consists of the OLS function with a new part to the right:\n",
    "\n",
    "$$\\lambda\\sum_{j=1}^p\\beta_j^2 $$\n",
    "\n",
    "**This new part imposes a penalty for large coefficients.**  It represents the sum of the square of all model coefficients (numbered 1 through $p$), multiplied by the regularization parameter $\\lambda$.  As $\\lambda$ gets larger, the penalty for coefficient size also gets larger, and the solution that minimizes the cost function will by necessity have smaller coefficient estimates.  Regularization based on the sum of the squared weights is also called \"**L2 regularization**\".\n",
    "\n",
    "[**Quick check**: If the convention is to call the regularization parameter \"*lambda*\" ($\\lambda$), why does SKlearn call it \"*alpha*\"?  Hint: It's the same reason why you shouldn't name your own variables in Python things like \"mean\".]\n",
    "\n",
    "**The core principle behind ridge regression is that, as models become increasingly complex and features correlate with one another more and more (become _multicolinear_), coefficients arrived at by OLS become increasingly large.** This is a sign that the model is incorporating too much variance from the dataset – in other words, overfitting. Ridge regression is a model variance minimizer and works to keep that from happening. For a deep dive into the underlying math and origin of the term \"ridge regression\" see this detailed [Stack Exchange answer](http://stats.stackexchange.com/questions/151304/why-is-ridge-regression-called-ridge-why-is-it-needed-and-what-happens-when).\n",
    "\n",
    "Here's an example of coefficient inflation, using some patterns of defaulting on credit accounts. You can [read more about this data here](http://vincentarelbundock.github.io/Rdatasets/doc/ISLR/Default.html).\n",
    "\n",
    "First, we'll build an OLS multivariate linear regression model predicting defaults using all the features in the data. Then, we'll create some new correlated features, add them to the model, and see what that does to the size of the original coefficients."
   ]
  },
  {
   "cell_type": "code",
   "execution_count": 2,
   "metadata": {},
   "outputs": [],
   "source": [
    "# Load air quality data, drop the index column and any missing data columns.\n",
    "df = pd.read_csv(\n",
    "    'https://raw.githubusercontent.com/vincentarelbundock/Rdatasets/master/csv/ISLR/Default.csv'\n",
    ").iloc[:, 1:].dropna()"
   ]
  },
  {
   "cell_type": "code",
   "execution_count": 3,
   "metadata": {},
   "outputs": [
    {
     "data": {
      "text/html": [
       "<div>\n",
       "<style>\n",
       "    .dataframe thead tr:only-child th {\n",
       "        text-align: right;\n",
       "    }\n",
       "\n",
       "    .dataframe thead th {\n",
       "        text-align: left;\n",
       "    }\n",
       "\n",
       "    .dataframe tbody tr th {\n",
       "        vertical-align: top;\n",
       "    }\n",
       "</style>\n",
       "<table border=\"1\" class=\"dataframe\">\n",
       "  <thead>\n",
       "    <tr style=\"text-align: right;\">\n",
       "      <th></th>\n",
       "      <th>default</th>\n",
       "      <th>student</th>\n",
       "      <th>balance</th>\n",
       "      <th>income</th>\n",
       "    </tr>\n",
       "  </thead>\n",
       "  <tbody>\n",
       "    <tr>\n",
       "      <th>0</th>\n",
       "      <td>No</td>\n",
       "      <td>No</td>\n",
       "      <td>729.526495</td>\n",
       "      <td>44361.625074</td>\n",
       "    </tr>\n",
       "    <tr>\n",
       "      <th>1</th>\n",
       "      <td>No</td>\n",
       "      <td>Yes</td>\n",
       "      <td>817.180407</td>\n",
       "      <td>12106.134700</td>\n",
       "    </tr>\n",
       "    <tr>\n",
       "      <th>2</th>\n",
       "      <td>No</td>\n",
       "      <td>No</td>\n",
       "      <td>1073.549164</td>\n",
       "      <td>31767.138947</td>\n",
       "    </tr>\n",
       "    <tr>\n",
       "      <th>3</th>\n",
       "      <td>No</td>\n",
       "      <td>No</td>\n",
       "      <td>529.250605</td>\n",
       "      <td>35704.493935</td>\n",
       "    </tr>\n",
       "    <tr>\n",
       "      <th>4</th>\n",
       "      <td>No</td>\n",
       "      <td>No</td>\n",
       "      <td>785.655883</td>\n",
       "      <td>38463.495879</td>\n",
       "    </tr>\n",
       "  </tbody>\n",
       "</table>\n",
       "</div>"
      ],
      "text/plain": [
       "  default student      balance        income\n",
       "0      No      No   729.526495  44361.625074\n",
       "1      No     Yes   817.180407  12106.134700\n",
       "2      No      No  1073.549164  31767.138947\n",
       "3      No      No   529.250605  35704.493935\n",
       "4      No      No   785.655883  38463.495879"
      ]
     },
     "execution_count": 3,
     "metadata": {},
     "output_type": "execute_result"
    }
   ],
   "source": [
    "df.head()"
   ]
  },
  {
   "cell_type": "code",
   "execution_count": 4,
   "metadata": {},
   "outputs": [],
   "source": [
    "# Recode strings to numeric.\n",
    "df['default'] = np.where(df['default'] == 'Yes', 1, 0)\n",
    "df['student'] = np.where(df['student'] == 'Yes', 1, 0)\n",
    "names = df.columns\n",
    "df = pd.DataFrame(preprocessing.scale(df), columns=names)\n",
    "\n",
    "# Define the training and test sizes.  Half of dataset for testing, half for training\n",
    "trainsize = int(df.shape[0] / 2)\n",
    "df_test = df.iloc[trainsize:, :].copy()\n",
    "df_train = df.iloc[:trainsize, :].copy()"
   ]
  },
  {
   "cell_type": "code",
   "execution_count": 5,
   "metadata": {},
   "outputs": [
    {
     "name": "stdout",
     "output_type": "stream",
     "text": [
      "\n",
      "R-squared simple model:\n",
      "0.573878496272\n"
     ]
    },
    {
     "name": "stderr",
     "output_type": "stream",
     "text": [
      "/Library/Frameworks/Python.framework/Versions/3.4/lib/python3.4/site-packages/scipy/linalg/basic.py:1018: RuntimeWarning: internal gelsd driver lwork query error, required iwork dimension not returned. This is likely the result of LAPACK bug 0038, fixed in LAPACK 3.2.2 (released July 21, 2010). Falling back to 'gelss' driver.\n",
      "  warnings.warn(mesg, RuntimeWarning)\n"
     ]
    }
   ],
   "source": [
    "# Set up the regression model to predict defaults using all other\n",
    "# variables as features.\n",
    "regr1 = linear_model.LinearRegression()\n",
    "Y_train = df_train['income'].values.reshape(-1, 1)\n",
    "X_train = df_train.loc[:, ~(df_train.columns).isin(['income'])]\n",
    "regr1.fit(X_train, Y_train)\n",
    "print('\\nR-squared simple model:')\n",
    "print(regr1.score(X_train, Y_train))\n",
    "\n",
    "#Store the parameter estimates.\n",
    "origparams = np.append(regr1.coef_, regr1.intercept_)"
   ]
  },
  {
   "cell_type": "code",
   "execution_count": 6,
   "metadata": {},
   "outputs": [
    {
     "name": "stdout",
     "output_type": "stream",
     "text": [
      "\n",
      "R-squared complex model:\n",
      "0.573973445206\n"
     ]
    }
   ],
   "source": [
    "# Make new features to capture potential quadratic and cubic relationships\n",
    "# between the features.\n",
    "df_train['balance_student'] = df_train['balance'] * df_train['student']\n",
    "df_train['balance_default'] = df_train['balance'] * df_train['default']\n",
    "df_train['student_default'] = df_train['student'] * df_train['default']\n",
    "df_train['balance_sqrt'] = (df_train['balance'] + 100) ** .5\n",
    "df_train['balance2'] = (df_train['balance'] + 100) ** 2\n",
    "df_train['balance3'] = (df_train['balance'] + 100) ** 3\n",
    "\n",
    "# Re-run the model with the new features.\n",
    "regrBig = linear_model.LinearRegression()\n",
    "X_train2 = df_train.loc[:, ~(df_train.columns).isin(['income'])]\n",
    "regrBig.fit(X_train2, Y_train)\n",
    "print('\\nR-squared complex model:')\n",
    "print(regrBig.score(X_train2, Y_train))\n",
    "\n",
    "# Store the new parameter estimates for the same features.\n",
    "newparams = np.append(\n",
    "    regrBig.coef_[0,0:(len(origparams)-1)],\n",
    "    regrBig.intercept_)"
   ]
  },
  {
   "cell_type": "code",
   "execution_count": 7,
   "metadata": {},
   "outputs": [
    {
     "name": "stdout",
     "output_type": "stream",
     "text": [
      "\n",
      "Parameter Estimates for the same predictors for the small model and large model:\n",
      "[[0.014 -0.004]\n",
      " [-0.759 -0.759]\n",
      " [0.000 4157.864]\n",
      " [-0.001 553434.239]]\n"
     ]
    }
   ],
   "source": [
    "print('\\nParameter Estimates for the same predictors for the small model '\n",
    "      'and large model:')\n",
    "compare = np.column_stack((origparams, newparams))\n",
    "prettycompare = np.array2string(\n",
    "    compare,\n",
    "    formatter={'float_kind':'{0:.3f}'.format})\n",
    "print(prettycompare)"
   ]
  },
  {
   "cell_type": "markdown",
   "metadata": {},
   "source": [
    "Look at that intercept (last line)!  The R-squared value barely increased, but even so the inflation of the parameters suggests that the gain is due to overfitting.  Let's apply the model to the test set and find out:"
   ]
  },
  {
   "cell_type": "code",
   "execution_count": 8,
   "metadata": {},
   "outputs": [
    {
     "name": "stdout",
     "output_type": "stream",
     "text": [
      "\n",
      "R-squared simple model:\n",
      "0.56306979225\n",
      "\n",
      "R-squared complex model:\n",
      "0.563023952732\n"
     ]
    }
   ],
   "source": [
    "# Test the simpler model with smaller coefficients.\n",
    "Y_test = df_test['income'].values.reshape(-1, 1)\n",
    "X_test = df_test.loc[:, ~(df_test.columns).isin(['income'])]\n",
    "print('\\nR-squared simple model:')\n",
    "print(regr1.score(X_test, Y_test))\n",
    "\n",
    "# Test the more complex model with larger coefficients.\n",
    "df_test['balance_student'] = df_test['balance'] * df_test['student']\n",
    "df_test['balance_default'] = df_test['balance'] * df_test['default']\n",
    "df_test['student_default'] = df_test['student'] * df_test['default']\n",
    "df_test['balance_sqrt'] = (df_test['balance'] + 100) ** .5\n",
    "df_test['balance2'] = (df_test['balance'] + 100) ** 2\n",
    "df_test['balance3'] = (df_test['balance'] + 100) ** 3\n",
    "\n",
    "# Re-run the model with the new features.\n",
    "X_test2 = df_test.loc[:, ~(df_test.columns).isin(['income'])]\n",
    "print('\\nR-squared complex model:')\n",
    "print(regrBig.score(X_test2, Y_test))"
   ]
  },
  {
   "cell_type": "markdown",
   "metadata": {},
   "source": [
    "Yup- the more complex model actually fits worse.  The differences here are quite small, but that isn't always the case.  What happens if we apply ridge regression to this situation?"
   ]
  },
  {
   "cell_type": "code",
   "execution_count": 9,
   "metadata": {},
   "outputs": [
    {
     "name": "stdout",
     "output_type": "stream",
     "text": [
      "0.57387391644\n",
      "[  1.36988466e-02  -7.57859433e-01  -3.25298557e-04]\n",
      "0.573946428961\n",
      "\n",
      "Parameter Estimates for the same predictors for the small model and large model:\n",
      "[[0.014 -0.002]\n",
      " [-0.758 -0.757]\n",
      " [-0.000 0.048]]\n"
     ]
    }
   ],
   "source": [
    "# Fitting a ridge regression model. Alpha is the regularization\n",
    "# parameter (usually called lambda). As alpha gets larger, parameter\n",
    "# shrinkage grows more pronounced. Note that by convention, the\n",
    "# intercept is not regularized. Since we standardized the data\n",
    "# earlier, the intercept should be equal to zero and can be dropped.\n",
    "\n",
    "ridgeregr = linear_model.Ridge(alpha=10, fit_intercept=False) \n",
    "ridgeregr.fit(X_train, Y_train)\n",
    "print(ridgeregr.score(X_train, Y_train))\n",
    "origparams = ridgeregr.coef_[0]\n",
    "print(origparams)\n",
    "\n",
    "ridgeregrBig = linear_model.Ridge(alpha=10, fit_intercept=False)\n",
    "ridgeregrBig.fit(X_train2, Y_train)\n",
    "print(ridgeregrBig.score(X_train2, Y_train))\n",
    "newparams = ridgeregrBig.coef_[0, 0:len(origparams)]\n",
    "\n",
    "print('\\nParameter Estimates for the same predictors for the small model'\n",
    "      ' and large model:')\n",
    "compare = np.column_stack((origparams, newparams))\n",
    "prettycompare = np.array2string(\n",
    "    compare,\n",
    "    formatter={'float_kind':'{0:.3f}'.format})\n",
    "print(prettycompare)"
   ]
  },
  {
   "cell_type": "markdown",
   "metadata": {},
   "source": [
    "For a detailed discussion of why the intercept is not regularized, see [this entry on Stack Exchange](http://stats.stackexchange.com/questions/86991/reason-for-not-shrinking-the-bias-intercept-term-in-regression).\n",
    "\n",
    "The difference in magnitude for parameters in the training set is much smaller – no parameter explosion here. Let's check the implications for the fit of the models on the test set."
   ]
  },
  {
   "cell_type": "code",
   "execution_count": 10,
   "metadata": {},
   "outputs": [
    {
     "name": "stdout",
     "output_type": "stream",
     "text": [
      "0.563108876308\n",
      "0.563180432393\n"
     ]
    }
   ],
   "source": [
    "print(ridgeregr.score(X_test, Y_test))\n",
    "print(ridgeregrBig.score(X_test2, Y_test))"
   ]
  },
  {
   "cell_type": "markdown",
   "metadata": {},
   "source": [
    "And now, the model that worked a little better on the training set also works a little better on the test set. Again, these differences are small and don't matter much here, but in real life much larger differences can happen. Ridge regression is an excellent tool to reach for whenever you have many correlated parameters, or when you start to see parameter estimates inflate as the R-square estimate goes up, suggesting overfitting."
   ]
  },
  {
   "cell_type": "markdown",
   "metadata": {},
   "source": [
    "## Regularization parameter: Ridge\n",
    "\n",
    "Earlier, we set the regularization parameter $\\lambda=10$.  In ridge regression, the regularization parameter $\\lambda$ can take any value greater than 0.  The best way to choose an optimal regularization parameter is through cross-validation, checking which parameter gives the most consistent results across training and test sets.  Here is an illustration of how the parameter values in the income model vary as alpha goes up."
   ]
  },
  {
   "cell_type": "code",
   "execution_count": 11,
   "metadata": {},
   "outputs": [
    {
     "data": {
      "image/png": "[encoded data removed]",
      "text/plain": [
       "<matplotlib.figure.Figure at 0x10af3d630>"
      ]
     },
     "metadata": {},
     "output_type": "display_data"
    }
   ],
   "source": [
    "# Store estimates.\n",
    "estimates = np.append(ridgeregrBig.coef_, [10])\n",
    "\n",
    "# Storing legend information.\n",
    "labels = []\n",
    "\n",
    "#Run the model for many alphas.\n",
    "for lambd in range(1, 50, 2):\n",
    "    ridgeregrBig = linear_model.Ridge(alpha=lambd, fit_intercept=False)\n",
    "    ridgeregrBig.fit(X_train2, Y_train)\n",
    "    estimates = np.row_stack((\n",
    "        estimates,\n",
    "        np.append(ridgeregrBig.coef_,[lambd])))\n",
    "\n",
    "# Make the data pretty.\n",
    "estimates_df = pd.DataFrame(\n",
    "    estimates,\n",
    "    columns=list(X_train2.columns) + ['lambda'])\n",
    "estimates_df.sort_values(by='lambda', inplace=True, ascending=True)\n",
    "\n",
    "# Leave out the 'student' variable.\n",
    "# It has very high values and throws off our plot's scale.\n",
    "varstoplot = list(estimates_df.columns[:9,])\n",
    "varstoplot.remove('student')\n",
    "\n",
    "# Plot a line for each parameter.\n",
    "for var in varstoplot:\n",
    "    plt.plot(estimates_df['lambda'], estimates_df[var])\n",
    "    labels.append(var)\n",
    "plt.xlabel('lambda')\n",
    "plt.ylabel('Parameter estimate size')\n",
    "plt.legend(labels)\n",
    "plt.show()"
   ]
  },
  {
   "cell_type": "markdown",
   "metadata": {},
   "source": [
    "### How do you read this graph?\n",
    "Is it, we pick the lambdas where the parameters are the smallest?  What is the advantage of picking smaller or bigger lambdas?"
   ]
  },
  {
   "cell_type": "markdown",
   "metadata": {},
   "source": [
    "For a truly deep-dive into the math behind ridge regression, check out these lecture slides on [Ridge Regression](http://www.few.vu.nl/~wvanwie/Courses/HighdimensionalDataAnalysis/WNvanWieringen_HDDA_Lecture23_RidgeRegression_20172018.pdf)."
   ]
  },
  {
   "cell_type": "markdown",
   "metadata": {},
   "source": [
    "# Unit 3.3.3 Lasso Regression"
   ]
  },
  {
   "cell_type": "markdown",
   "metadata": {},
   "source": [
    "Ridge regression shrinks parameter estimates, but the estimates never reach exactly 0.  **LASSO** (Least Absolute Shrinkage and Selection Operator), on the other hand, is a model optimization mechanic that works by trying to **force small parameter estimates to be equal to zero, effectively dropping them from the model.**  This can prevent overfitting, and also works as an **embedded feature selection method.**  Lasso is extremely handy when you are dealing with thousands or hundreds of thousands of predictors and need to optimize processor time, or when you want to arrive at a simpler solution that is easier to interpret.\n",
    "\n",
    "The cost function to minimize for lasso is _very similar_ to the cost function minimized for ridge. Can you spot the difference?\n",
    "\n",
    "$$\\sum_{i=1}^n(y_i-(\\alpha+\\beta x_i))^2+\\lambda\\sum_{j=1}^p|\\beta_j| $$\n",
    "\n",
    "The difference is that rather than penalizing by the sum of *squared* coefficients as ridge does, lasso penalizes by the sum of the ***absolute values* of the coefficients.**  This means the penalty doesn't increase as swiftly with coefficient size.  Regularization based on the sum of the absolute weights is also called \"**L1 regularization**\".\n",
    "\n",
    "Why would penalizing with the sum of the absolute values of coefficients lead to a solution with zero estimates for some parameters, while penalizing with the sum of the squares of coefficients does not?  It all comes down to derivatives.\n",
    "\n",
    "We encountered derivatives briefly during an earlier assignment on the gradient descent algorithm.  You may recall that a partial derivative represents the sensitivity of one quantity to changes in another quantity.  In the case of both ordinary least squares regression and ridge regression, the derivative used to find the optimal solution is the partial derivative of the cost function relative to the coefficients in $\\beta$:\n",
    "\n",
    "$$\\frac{\\partial}{\\partial\\beta}$$\n",
    "\n",
    "Unfortunately, that won't work for lasso. While we can calculate a derivative for most of the values of $x$ in lasso, there is no derivative where $x=0$.  You can imagine this as our multi-dimensional surface made up of gradients having a big hole in it (the technical term for the hole is a \"*discontinuity*\"). If the gradient descent algorithm calculates a value that falls in the \"hole\", it has no idea where to go next.  The model \"fails to converge\". In other words, it fails to arrive at an optimal solution.\n",
    "\n",
    "^^ **I don't understand this...**"
   ]
  },
  {
   "cell_type": "markdown",
   "metadata": {},
   "source": [
    "# Fitting Lasso: Coordinate Descent Algorithm\n",
    "\n",
    "Since basing modeling strategy on a surface with a hole in it is obviously not ideal, lasso regression models are optimized using a **coordinate descent algorithm** rather than a gradient descent algorithm.  Coordinate descent works like this:\n",
    "\n",
    "Pick some starting values for $\\beta$, often $\\beta=0$. \n",
    "\n",
    "For each feature $j$ in $\\beta$:\n",
    "* Predict the outcome using all features except for $j$.  \n",
    "* Look at how the residuals from the model using $\\beta_{-j}$ (all betas except $j$) correlate with feature $j$. This correlation is called $\\rho_j$.  \n",
    "* If the correlation falls within an area enclosing 0 defined by $\\lambda$, set $\\beta_j=0$. (called *soft threshholding*)\n",
    "* If $\\rho_j < \\frac{\\lambda}2$ set $\\beta_j$ equal to $\\rho_j + \\frac{\\lambda}2$\n",
    "* If $\\rho_j > \\frac{\\lambda}2$ set $\\beta_j$ equal to $\\rho_j - \\frac{\\lambda}2$\n",
    "\n",
    "This will iterate through all features 1 through $j$ on each cycle, then begin again.  Alternatively, the algorithm can be set to choose to exclude a feature at random each iteration, rather than cycling through all features.  Each time a feature is checked, it will shrink a bit from the previous time (unless the feature is already set to 0, in which case it will remain 0).\n",
    "\n",
    "Continue until the maximum difference between parameter estimates in the previous cycle and the current cycle is less than a pre-determined threshold $tol$.  For SKlearn, $tol$ defaults to 0.0001.\n",
    "\n",
    "**To summarize:** Lasso works by iteratively fitting a model to the data while excluding one of the features.  It then checks how well the model reproduces the data, and if the model fit is good enough (with \"good enough\" determined by $\\lambda$) then the excluded feature is deemed unnecessary and its $\\beta$ is set to zero, effectively excluding it from the model. Otherwise, the excluded feature's $\\beta$ is set using a combination of the correlation of the feature with the model residuals ($\\rho_j$) and $\\frac{\\lambda}2$ and a new iteration begins, using the newly-computed $\\beta$ for the previously-excluded feature and excluding a new feature.  This continues until the change in $\\beta$ is less than a pre-determined threshold.\n",
    "\n",
    "Hopefully this demonstrates how lasso can both create overfitting-protection through shrinkage and create sparsity (many parameters set to 0) through feature selection.  Let's see it at work, using the same dataset as previously.\n",
    "\n",
    "\n",
    "**Why does Lasso regression use smaller lambdas (alphas)???**"
   ]
  },
  {
   "cell_type": "code",
   "execution_count": 12,
   "metadata": {},
   "outputs": [
    {
     "name": "stdout",
     "output_type": "stream",
     "text": [
      "R² for the model with few features:\n",
      "0.450062579301\n",
      "\n",
      "Parameter estimates for the model with few features:\n",
      "[-0.         -0.40657726 -0.          0.00114596]\n",
      "\n",
      "R² for the model with many features:\n",
      "0.443633767129\n",
      "\n",
      "Parameter estimates for the model with many features:\n",
      "[  0.00000000e+00  -3.89351238e-01   0.00000000e+00  -0.00000000e+00\n",
      "   0.00000000e+00  -0.00000000e+00   0.00000000e+00  -2.77688887e-04\n",
      "  -7.09158792e-07   3.48711577e+00]\n"
     ]
    }
   ],
   "source": [
    "# Small number of parameters.\n",
    "lass = linear_model.Lasso(alpha=.35)\n",
    "lassfit = lass.fit(X_train, Y_train)\n",
    "print('R² for the model with few features:')\n",
    "print(lass.score(X_train, Y_train))\n",
    "origparams = np.append(lassfit.coef_, lassfit.intercept_)\n",
    "print('\\nParameter estimates for the model with few features:')\n",
    "print(origparams)\n",
    "\n",
    "# Large number of parameters.\n",
    "lassBig = linear_model.Lasso(alpha=.35)\n",
    "lassBig.fit(X_train2, Y_train)\n",
    "print('\\nR² for the model with many features:')\n",
    "print(lassBig.score(X_train2, Y_train))\n",
    "origparams = np.append(lassBig.coef_, lassBig.intercept_)\n",
    "print('\\nParameter estimates for the model with many features:')\n",
    "print(origparams)"
   ]
  },
  {
   "cell_type": "markdown",
   "metadata": {},
   "source": [
    "Checking predictive power using the test set:"
   ]
  },
  {
   "cell_type": "code",
   "execution_count": 13,
   "metadata": {},
   "outputs": [
    {
     "name": "stdout",
     "output_type": "stream",
     "text": [
      "0.445532251512\n",
      "0.438046634591\n"
     ]
    }
   ],
   "source": [
    "print(lass.score(X_test, Y_test))\n",
    "\n",
    "print(lassBig.score(X_test2, Y_test))"
   ]
  },
  {
   "cell_type": "markdown",
   "metadata": {},
   "source": [
    "## Regularization parameter: Lasso\n",
    "\n",
    "The $\\lambda$ for lasso can vary between 0 (no penalty, acts like OLS) and infinity.  If $\\lambda$ is too large, all parameters will be set to zero.  \n",
    "\n",
    "Create a plot below of how $R^2$ varies across different values of $\\lambda$ for ridge and lasso regression. Use logic and code similar to the ridge regression demonstration above, and base your plot on the X_train2 feature set.\n",
    "\n",
    "Do lasso and ridge yield the same $R^2$ for a given lambda value?\n",
    "\n",
    "Submit your work and discuss the results with your mentor."
   ]
  },
  {
   "cell_type": "code",
   "execution_count": 14,
   "metadata": {},
   "outputs": [
    {
     "name": "stderr",
     "output_type": "stream",
     "text": [
      "/Library/Frameworks/Python.framework/Versions/3.4/lib/python3.4/site-packages/sklearn/linear_model/coordinate_descent.py:491: ConvergenceWarning: Objective did not converge. You might want to increase the number of iterations. Fitting data with very small alpha may cause precision problems.\n",
      "  ConvergenceWarning)\n"
     ]
    },
    {
     "data": {
      "image/png": "[encoded data removed]",
      "text/plain": [
       "<matplotlib.figure.Figure at 0x10aefd400>"
      ]
     },
     "metadata": {},
     "output_type": "display_data"
    }
   ],
   "source": [
    "# Store estimates.\n",
    "estimates = np.append(lassBig.coef_, [10])\n",
    "\n",
    "# Storing legend information.\n",
    "labels = []\n",
    "\n",
    "#Run the model for many alphas.\n",
    "for lambd in range(1, 50, 2):\n",
    "    lassregrBig = linear_model.Lasso(alpha=lambd, fit_intercept=False)\n",
    "    lassregrBig.fit(X_train2, Y_train)\n",
    "    estimates = np.row_stack((\n",
    "        estimates,\n",
    "        np.append(lassBig.coef_,[lambd])))\n",
    "\n",
    "# Make the data pretty.\n",
    "estimates_df = pd.DataFrame(\n",
    "    estimates,\n",
    "    columns=list(X_train2.columns) + ['lambda'])\n",
    "estimates_df.sort_values(by='lambda', inplace=True, ascending=True)\n",
    "\n",
    "# Leave out the 'student' variable.\n",
    "# It has very high values and throws off our plot's scale.\n",
    "varstoplot = list(estimates_df.columns[:9,])\n",
    "varstoplot.remove('student')\n",
    "\n",
    "# Plot a line for each parameter.\n",
    "for var in varstoplot:\n",
    "    plt.plot(estimates_df['lambda'], estimates_df[var])\n",
    "    labels.append(var)\n",
    "plt.xlabel('lambda')\n",
    "plt.ylabel('Parameter estimate size')\n",
    "plt.legend(labels)\n",
    "plt.show()"
   ]
  },
  {
   "cell_type": "markdown",
   "metadata": {},
   "source": [
    "^^ Did I do this right?\n",
    "\n",
    "Calculating $R^2$s with different lambdas."
   ]
  },
  {
   "cell_type": "code",
   "execution_count": 41,
   "metadata": {},
   "outputs": [
    {
     "name": "stderr",
     "output_type": "stream",
     "text": [
      "/Library/Frameworks/Python.framework/Versions/3.4/lib/python3.4/site-packages/ipykernel_launcher.py:11: UserWarning: With alpha=0, this algorithm does not converge well. You are advised to use the LinearRegression estimator\n",
      "  # This is added back by InteractiveShellApp.init_path()\n",
      "/Library/Frameworks/Python.framework/Versions/3.4/lib/python3.4/site-packages/sklearn/linear_model/coordinate_descent.py:477: UserWarning: Coordinate descent with no regularization may lead to unexpected results and is discouraged.\n",
      "  positive)\n",
      "/Library/Frameworks/Python.framework/Versions/3.4/lib/python3.4/site-packages/sklearn/linear_model/coordinate_descent.py:491: ConvergenceWarning: Objective did not converge. You might want to increase the number of iterations. Fitting data with very small alpha may cause precision problems.\n",
      "  ConvergenceWarning)\n"
     ]
    }
   ],
   "source": [
    "# Store R^2.\n",
    "lassoBigR2 = np.append(lassBig.score(X_train2, Y_train), [10])\n",
    "ridgeBigR2 = np.append(ridgeregrBig.score(X_train2, Y_train), [10])\n",
    "\n",
    "# Storing legend information.\n",
    "labels = []\n",
    "\n",
    "#Run the model for many alphas.\n",
    "for lambd in np.arange(0,50,2):\n",
    "    lassregrBig = linear_model.Lasso(alpha=lambd, fit_intercept=False)\n",
    "    lassregrBig.fit(X_train2, Y_train)\n",
    "    lassoBigR2 = np.row_stack((\n",
    "        lassoBigR2,\n",
    "        np.append(lassregrBig.score(X_train2, Y_train),[lambd])))\n",
    "\n",
    "for lambd in np.arange(0,50,2):\n",
    "    ridgeregrBig = linear_model.Ridge(alpha=lambd, fit_intercept=False)\n",
    "    ridgeregrBig.fit(X_train2, Y_train)\n",
    "    ridgeBigR2 = np.row_stack((\n",
    "        ridgeBigR2,\n",
    "        np.append(ridgeregrBig.score(X_train2, Y_train),[lambd])))"
   ]
  },
  {
   "cell_type": "code",
   "execution_count": 42,
   "metadata": {},
   "outputs": [
    {
     "data": {
      "text/plain": [
       "array([[  0.57396614,  10.        ],\n",
       "       [  0.57397331,   0.        ],\n",
       "       [  0.57396386,   2.        ],\n",
       "       [  0.573957  ,   4.        ],\n",
       "       [  0.57395251,   6.        ],\n",
       "       [  0.57394918,   8.        ],\n",
       "       [  0.57394643,  10.        ],\n",
       "       [  0.57394396,  12.        ],\n",
       "       [  0.5739416 ,  14.        ],\n",
       "       [  0.57393927,  16.        ],\n",
       "       [  0.57393689,  18.        ],\n",
       "       [  0.57393443,  20.        ],\n",
       "       [  0.57393186,  22.        ],\n",
       "       [  0.57392916,  24.        ],\n",
       "       [  0.57392633,  26.        ],\n",
       "       [  0.57392334,  28.        ],\n",
       "       [  0.57392019,  30.        ],\n",
       "       [  0.57391688,  32.        ],\n",
       "       [  0.5739134 ,  34.        ],\n",
       "       [  0.57390974,  36.        ],\n",
       "       [  0.57390592,  38.        ],\n",
       "       [  0.57390191,  40.        ],\n",
       "       [  0.57389773,  42.        ],\n",
       "       [  0.57389337,  44.        ],\n",
       "       [  0.57388883,  46.        ],\n",
       "       [  0.5738841 ,  48.        ]])"
      ]
     },
     "execution_count": 42,
     "metadata": {},
     "output_type": "execute_result"
    }
   ],
   "source": [
    "ridgeBigR2"
   ]
  },
  {
   "cell_type": "code",
   "execution_count": 43,
   "metadata": {},
   "outputs": [
    {
     "data": {
      "text/plain": [
       "array([[  4.43633767e-01,   1.00000000e+01],\n",
       "       [  5.73938904e-01,   0.00000000e+00],\n",
       "       [  4.34046037e-03,   2.00000000e+00],\n",
       "       [  3.75518950e-03,   4.00000000e+00],\n",
       "       [  3.16242342e-03,   6.00000000e+00],\n",
       "       [  2.56239143e-03,   8.00000000e+00],\n",
       "       [  1.95521310e-03,   1.00000000e+01],\n",
       "       [  1.34055365e-03,   1.20000000e+01],\n",
       "       [  7.18413080e-04,   1.40000000e+01],\n",
       "       [  8.87913979e-05,   1.60000000e+01],\n",
       "       [ -1.51811140e-05,   1.80000000e+01],\n",
       "       [ -1.51811901e-05,   2.00000000e+01],\n",
       "       [ -1.51812743e-05,   2.20000000e+01],\n",
       "       [ -1.51813664e-05,   2.40000000e+01],\n",
       "       [ -1.51814666e-05,   2.60000000e+01],\n",
       "       [ -1.51815748e-05,   2.80000000e+01],\n",
       "       [ -1.51816910e-05,   3.00000000e+01],\n",
       "       [ -1.51818152e-05,   3.20000000e+01],\n",
       "       [ -1.51819474e-05,   3.40000000e+01],\n",
       "       [ -1.51820877e-05,   3.60000000e+01],\n",
       "       [ -1.51822359e-05,   3.80000000e+01],\n",
       "       [ -1.51823922e-05,   4.00000000e+01],\n",
       "       [ -1.51825565e-05,   4.20000000e+01],\n",
       "       [ -1.51827288e-05,   4.40000000e+01],\n",
       "       [ -1.51829091e-05,   4.60000000e+01],\n",
       "       [ -1.51830974e-05,   4.80000000e+01]])"
      ]
     },
     "execution_count": 43,
     "metadata": {},
     "output_type": "execute_result"
    }
   ],
   "source": [
    "lassoBigR2"
   ]
  },
  {
   "cell_type": "markdown",
   "metadata": {},
   "source": [
    "Ridge regression does better than lasso when lambda is set between 0 and 50.\n",
    "\n",
    "\n",
    "(Why though?  And what does mean for the analysis?)"
   ]
  },
  {
   "cell_type": "code",
   "execution_count": null,
   "metadata": {},
   "outputs": [],
   "source": []
  }
 ],
 "metadata": {
  "kernelspec": {
   "display_name": "Python 3",
   "language": "python",
   "name": "python3"
  },
  "language_info": {
   "codemirror_mode": {
    "name": "ipython",
    "version": 3
   },
   "file_extension": ".py",
   "mimetype": "text/x-python",
   "name": "python",
   "nbconvert_exporter": "python",
   "pygments_lexer": "ipython3",
   "version": "3.4.3"
  }
 },
 "nbformat": 4,
 "nbformat_minor": 2
}

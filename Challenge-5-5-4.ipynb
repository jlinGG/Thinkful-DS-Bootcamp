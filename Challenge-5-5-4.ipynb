{
 "cells": [
  {
   "cell_type": "markdown",
   "metadata": {},
   "source": [
    "# Challenge 5.5.4\n",
    "\n",
    "Using selected questions from the 2012 and 2014 editions of the [European Social Survey](http://www.europeansocialsurvey.org/data/round-index.html), address the following questions. Keep track of your code and results in a Jupyter notebook or other source that you can share with your mentor. For each question, explain why you chose the approach you did.\n",
    "\n",
    "Here is the [data file](https://raw.githubusercontent.com/Thinkful-Ed/data-201-resources/master/ESS_practice_data/ESSdata_Thinkful.csv). And here is the [codebook](https://thinkful-ed.github.io/data-201-resources/ESS_practice_data/ESS_codebook.html), with information about the variable coding and content.\n",
    "\n",
    "In this dataset, the same participants answered questions in 2012 and again 2014.\n",
    "\n",
    "1. Did people become less trusting from 2012 to 2014? Compute results for each country in the sample.\n",
    "2. Did people become happier from 2012 to 2014? Compute results for each country in the sample.\n",
    "3. Who reported watching more TV in 2012, men or women?\n",
    "4. Who was more likely to believe people were fair in 2012, people living with a partner or people living alone?\n",
    "5. Pick three or four of the countries in the sample and compare how often people met socially in 2014. Are there differences, and if so, which countries stand out?\n",
    "6. Pick three or four of the countries in the sample and compare how often people took part in social activities, relative to others their age, in 2014. Are there differences, and if so, which countries stand out?\n",
    "\n",
    "Note: If ordinal data is only 5, use nonparametric test.  At 10 or more, you can use parametric tests. In between, it's a judgement call."
   ]
  },
  {
   "cell_type": "code",
   "execution_count": 1,
   "metadata": {},
   "outputs": [],
   "source": [
    "import numpy as np\n",
    "import pandas as pd\n",
    "import seaborn as sns\n",
    "import scipy.stats as stats\n",
    "import matplotlib.pyplot as plt\n",
    "%matplotlib inline"
   ]
  },
  {
   "cell_type": "code",
   "execution_count": 2,
   "metadata": {},
   "outputs": [],
   "source": [
    "df = pd.read_csv('https://raw.githubusercontent.com/Thinkful-Ed/data-201-resources/master/ESS_practice_data/ESSdata_Thinkful.csv')"
   ]
  },
  {
   "cell_type": "code",
   "execution_count": 3,
   "metadata": {},
   "outputs": [
    {
     "data": {
      "text/html": [
       "<div>\n",
       "<style scoped>\n",
       "    .dataframe tbody tr th:only-of-type {\n",
       "        vertical-align: middle;\n",
       "    }\n",
       "\n",
       "    .dataframe tbody tr th {\n",
       "        vertical-align: top;\n",
       "    }\n",
       "\n",
       "    .dataframe thead th {\n",
       "        text-align: right;\n",
       "    }\n",
       "</style>\n",
       "<table border=\"1\" class=\"dataframe\">\n",
       "  <thead>\n",
       "    <tr style=\"text-align: right;\">\n",
       "      <th></th>\n",
       "      <th>cntry</th>\n",
       "      <th>idno</th>\n",
       "      <th>year</th>\n",
       "      <th>tvtot</th>\n",
       "      <th>ppltrst</th>\n",
       "      <th>pplfair</th>\n",
       "      <th>pplhlp</th>\n",
       "      <th>happy</th>\n",
       "      <th>sclmeet</th>\n",
       "      <th>sclact</th>\n",
       "      <th>gndr</th>\n",
       "      <th>agea</th>\n",
       "      <th>partner</th>\n",
       "    </tr>\n",
       "  </thead>\n",
       "  <tbody>\n",
       "    <tr>\n",
       "      <th>0</th>\n",
       "      <td>CH</td>\n",
       "      <td>5.0</td>\n",
       "      <td>6</td>\n",
       "      <td>3.0</td>\n",
       "      <td>3.0</td>\n",
       "      <td>10.0</td>\n",
       "      <td>5.0</td>\n",
       "      <td>8.0</td>\n",
       "      <td>5.0</td>\n",
       "      <td>4.0</td>\n",
       "      <td>2.0</td>\n",
       "      <td>60.0</td>\n",
       "      <td>1.0</td>\n",
       "    </tr>\n",
       "    <tr>\n",
       "      <th>1</th>\n",
       "      <td>CH</td>\n",
       "      <td>25.0</td>\n",
       "      <td>6</td>\n",
       "      <td>6.0</td>\n",
       "      <td>5.0</td>\n",
       "      <td>7.0</td>\n",
       "      <td>5.0</td>\n",
       "      <td>9.0</td>\n",
       "      <td>3.0</td>\n",
       "      <td>2.0</td>\n",
       "      <td>2.0</td>\n",
       "      <td>59.0</td>\n",
       "      <td>1.0</td>\n",
       "    </tr>\n",
       "    <tr>\n",
       "      <th>2</th>\n",
       "      <td>CH</td>\n",
       "      <td>26.0</td>\n",
       "      <td>6</td>\n",
       "      <td>1.0</td>\n",
       "      <td>8.0</td>\n",
       "      <td>8.0</td>\n",
       "      <td>8.0</td>\n",
       "      <td>7.0</td>\n",
       "      <td>6.0</td>\n",
       "      <td>3.0</td>\n",
       "      <td>1.0</td>\n",
       "      <td>24.0</td>\n",
       "      <td>2.0</td>\n",
       "    </tr>\n",
       "    <tr>\n",
       "      <th>3</th>\n",
       "      <td>CH</td>\n",
       "      <td>28.0</td>\n",
       "      <td>6</td>\n",
       "      <td>4.0</td>\n",
       "      <td>6.0</td>\n",
       "      <td>6.0</td>\n",
       "      <td>7.0</td>\n",
       "      <td>10.0</td>\n",
       "      <td>6.0</td>\n",
       "      <td>2.0</td>\n",
       "      <td>2.0</td>\n",
       "      <td>64.0</td>\n",
       "      <td>1.0</td>\n",
       "    </tr>\n",
       "    <tr>\n",
       "      <th>4</th>\n",
       "      <td>CH</td>\n",
       "      <td>29.0</td>\n",
       "      <td>6</td>\n",
       "      <td>5.0</td>\n",
       "      <td>6.0</td>\n",
       "      <td>7.0</td>\n",
       "      <td>5.0</td>\n",
       "      <td>8.0</td>\n",
       "      <td>7.0</td>\n",
       "      <td>2.0</td>\n",
       "      <td>2.0</td>\n",
       "      <td>55.0</td>\n",
       "      <td>1.0</td>\n",
       "    </tr>\n",
       "  </tbody>\n",
       "</table>\n",
       "</div>"
      ],
      "text/plain": [
       "  cntry  idno  year  tvtot  ppltrst  pplfair  pplhlp  happy  sclmeet  sclact  \\\n",
       "0    CH   5.0     6    3.0      3.0     10.0     5.0    8.0      5.0     4.0   \n",
       "1    CH  25.0     6    6.0      5.0      7.0     5.0    9.0      3.0     2.0   \n",
       "2    CH  26.0     6    1.0      8.0      8.0     8.0    7.0      6.0     3.0   \n",
       "3    CH  28.0     6    4.0      6.0      6.0     7.0   10.0      6.0     2.0   \n",
       "4    CH  29.0     6    5.0      6.0      7.0     5.0    8.0      7.0     2.0   \n",
       "\n",
       "   gndr  agea  partner  \n",
       "0   2.0  60.0      1.0  \n",
       "1   2.0  59.0      1.0  \n",
       "2   1.0  24.0      2.0  \n",
       "3   2.0  64.0      1.0  \n",
       "4   2.0  55.0      1.0  "
      ]
     },
     "execution_count": 3,
     "metadata": {},
     "output_type": "execute_result"
    }
   ],
   "source": [
    "df.head()"
   ]
  },
  {
   "cell_type": "markdown",
   "metadata": {},
   "source": [
    "According to the codebook, 6 is 2012 and 7 is 2014."
   ]
  },
  {
   "cell_type": "code",
   "execution_count": 4,
   "metadata": {},
   "outputs": [
    {
     "data": {
      "text/plain": [
       "array(['CH', 'CZ', 'DE', 'ES', 'NO', 'SE'], dtype=object)"
      ]
     },
     "execution_count": 4,
     "metadata": {},
     "output_type": "execute_result"
    }
   ],
   "source": [
    "df.cntry.unique()"
   ]
  },
  {
   "cell_type": "code",
   "execution_count": 5,
   "metadata": {},
   "outputs": [],
   "source": [
    "df = df.dropna()"
   ]
  },
  {
   "cell_type": "code",
   "execution_count": 6,
   "metadata": {},
   "outputs": [
    {
     "name": "stdout",
     "output_type": "stream",
     "text": [
      "<class 'pandas.core.frame.DataFrame'>\n",
      "Int64Index: 8147 entries, 0 to 8593\n",
      "Data columns (total 13 columns):\n",
      "cntry      8147 non-null object\n",
      "idno       8147 non-null float64\n",
      "year       8147 non-null int64\n",
      "tvtot      8147 non-null float64\n",
      "ppltrst    8147 non-null float64\n",
      "pplfair    8147 non-null float64\n",
      "pplhlp     8147 non-null float64\n",
      "happy      8147 non-null float64\n",
      "sclmeet    8147 non-null float64\n",
      "sclact     8147 non-null float64\n",
      "gndr       8147 non-null float64\n",
      "agea       8147 non-null float64\n",
      "partner    8147 non-null float64\n",
      "dtypes: float64(11), int64(1), object(1)\n",
      "memory usage: 891.1+ KB\n"
     ]
    }
   ],
   "source": [
    "df.info()"
   ]
  },
  {
   "cell_type": "markdown",
   "metadata": {},
   "source": [
    "## Did people become less trusting from 2012 to 2014? Compute results for each country in the sample."
   ]
  },
  {
   "cell_type": "code",
   "execution_count": 7,
   "metadata": {},
   "outputs": [
    {
     "data": {
      "text/plain": [
       "<matplotlib.axes._subplots.AxesSubplot at 0x1a0f8fb470>"
      ]
     },
     "execution_count": 7,
     "metadata": {},
     "output_type": "execute_result"
    },
    {
     "data": {
      "image/png": "[encoded data removed]",
      "text/plain": [
       "<matplotlib.figure.Figure at 0x1a0f8fba90>"
      ]
     },
     "metadata": {},
     "output_type": "display_data"
    }
   ],
   "source": [
    "sns.distplot( df[\"ppltrst\"])"
   ]
  },
  {
   "cell_type": "markdown",
   "metadata": {},
   "source": [
    "The ppltrst histogram looks roughly normal, though we are looking at ranking data, not continuous data.  \n",
    "\n",
    "We could use a pairwise t-test, since there seems to be survey respondesnts in 2012 that also responded in 2014.  However, if a respondent doesn't respond to both surveys, we lose that data.  So we will just use a t-test "
   ]
  },
  {
   "cell_type": "code",
   "execution_count": 8,
   "metadata": {},
   "outputs": [
    {
     "name": "stdout",
     "output_type": "stream",
     "text": [
      "CH:\n",
      "Ttest_indResult(statistic=-0.7156974792217816, pvalue=0.4742916002909491)\n",
      "CZ:\n",
      "Ttest_indResult(statistic=0.34075433231518504, pvalue=0.7333479315909976)\n",
      "DE:\n",
      "Ttest_indResult(statistic=-0.3466213170125284, pvalue=0.7317764273785732)\n",
      "ES:\n",
      "Ttest_indResult(statistic=2.1000674443244907, pvalue=0.03583204193521363)\n",
      "NO:\n",
      "Ttest_indResult(statistic=0.5119224181145228, pvalue=0.6087850218131978)\n",
      "SE:\n",
      "Ttest_indResult(statistic=-2.0268698056063146, pvalue=0.0428293634522298)\n"
     ]
    }
   ],
   "source": [
    "cntry_list = ['CH', 'CZ', 'DE', 'ES', 'NO', 'SE']\n",
    "\n",
    "for c in cntry_list:\n",
    "    print(c + ':')\n",
    "    print(stats.ttest_ind(df.loc[(df['cntry'] == c) & (df['year'] == 6)].ppltrst, \n",
    "                          df.loc[(df['cntry'] == c) & (df['year'] == 7)].ppltrst))"
   ]
  },
  {
   "cell_type": "markdown",
   "metadata": {},
   "source": [
    "We have two signficant p-values for Estonia and Sweden.  Estonians became more trusting between 2012 and 2014 and Swedes became less trusting.\n",
    "\n",
    "## Did people become happier from 2012 to 2014? Compute results for each country in the sample."
   ]
  },
  {
   "cell_type": "code",
   "execution_count": 9,
   "metadata": {},
   "outputs": [
    {
     "name": "stdout",
     "output_type": "stream",
     "text": [
      "CH:\n",
      "Ttest_indResult(statistic=-0.812142488327401, pvalue=0.4168411011770018)\n",
      "CZ:\n",
      "Ttest_indResult(statistic=-1.1592536826704618, pvalue=0.24658245820500238)\n",
      "DE:\n",
      "Ttest_indResult(statistic=-0.966317541228559, pvalue=0.3431409128727073)\n",
      "ES:\n",
      "Ttest_indResult(statistic=1.3750588408504656, pvalue=0.16924771370417369)\n",
      "NO:\n",
      "Ttest_indResult(statistic=4.152957205997266, pvalue=3.4778681704487346e-05)\n",
      "SE:\n",
      "Ttest_indResult(statistic=-0.5372790210326394, pvalue=0.5911442306272388)\n"
     ]
    }
   ],
   "source": [
    "for c in cntry_list:\n",
    "    print(c + ':')\n",
    "    print(stats.ttest_ind(df.loc[(df['cntry'] == c) & (df['year'] == 6)].happy, \n",
    "                          df.loc[(df['cntry'] == c) & (df['year'] == 7)].happy))"
   ]
  },
  {
   "cell_type": "markdown",
   "metadata": {},
   "source": [
    "Norway has a significant pvalue.  We have evidence that Norweigens are happier in 2014 compared to 2012. \n",
    "\n",
    "## Who reported watching more TV in 2012, men or women?\n",
    "1 is male and 2 is female in the dataset."
   ]
  },
  {
   "cell_type": "code",
   "execution_count": 10,
   "metadata": {},
   "outputs": [
    {
     "data": {
      "text/plain": [
       "<matplotlib.axes._subplots.AxesSubplot at 0x1a0f9c0a58>"
      ]
     },
     "execution_count": 10,
     "metadata": {},
     "output_type": "execute_result"
    },
    {
     "data": {
      "image/png": "[encoded data removed]",
      "text/plain": [
       "<matplotlib.figure.Figure at 0x1a10a6db38>"
      ]
     },
     "metadata": {},
     "output_type": "display_data"
    }
   ],
   "source": [
    "sns.distplot( df[\"tvtot\"])"
   ]
  },
  {
   "cell_type": "code",
   "execution_count": 11,
   "metadata": {},
   "outputs": [
    {
     "name": "stdout",
     "output_type": "stream",
     "text": [
      "MannwhitneyuResult(statistic=8122750.5, pvalue=0.049256286965603954)\n"
     ]
    }
   ],
   "source": [
    " print(stats.mannwhitneyu(df.loc[(df['gndr'] == 1)].tvtot, \n",
    "                          df.loc[(df['gndr'] == 2)].tvtot))"
   ]
  },
  {
   "cell_type": "markdown",
   "metadata": {},
   "source": [
    "We are using Mann-Whitney here because the data is not normal.  With a p-value of 0.049, we have barely enough evidence to reject the null that men and women watch the same amount of tv. I would say that the difference is not signficant."
   ]
  },
  {
   "cell_type": "markdown",
   "metadata": {},
   "source": [
    "\n",
    "## Who was more likely to believe people were fair in 2012, people living with a partner or people living alone?\n",
    "\n",
    "In the partner column, 1 means living with partner and 2 means not living with partner. "
   ]
  },
  {
   "cell_type": "code",
   "execution_count": 12,
   "metadata": {},
   "outputs": [
    {
     "data": {
      "text/plain": [
       "<matplotlib.axes._subplots.AxesSubplot at 0x1a19b58a90>"
      ]
     },
     "execution_count": 12,
     "metadata": {},
     "output_type": "execute_result"
    },
    {
     "data": {
      "image/png": "[encoded data removed]",
      "text/plain": [
       "<matplotlib.figure.Figure at 0x1a10a8a860>"
      ]
     },
     "metadata": {},
     "output_type": "display_data"
    }
   ],
   "source": [
    "sns.distplot( df[\"pplfair\"])"
   ]
  },
  {
   "cell_type": "markdown",
   "metadata": {},
   "source": [
    "Graph is roughly normal here.  Let's use the t-test."
   ]
  },
  {
   "cell_type": "code",
   "execution_count": 13,
   "metadata": {},
   "outputs": [
    {
     "name": "stdout",
     "output_type": "stream",
     "text": [
      "Ttest_indResult(statistic=3.0430439318464235, pvalue=0.002356936676939248)\n"
     ]
    }
   ],
   "source": [
    "print(stats.ttest_ind(df.loc[(df['partner'] == 1) & (df['year'] == 6)].pplfair, \n",
    "                          df.loc[(df['partner'] == 2) & (df['year'] == 6)].pplfair))"
   ]
  },
  {
   "cell_type": "markdown",
   "metadata": {},
   "source": [
    "The pvalue is significant here.  People who are living with a partner is more likely to believe people were fair in 2012 than people living alone."
   ]
  },
  {
   "cell_type": "markdown",
   "metadata": {},
   "source": [
    "## Pick three or four of the countries in the sample and compare how often people met socially in 2014. Are there differences, and if so, which countries stand out?\n",
    "\n",
    "Let's first look at the boxplot"
   ]
  },
  {
   "cell_type": "code",
   "execution_count": 14,
   "metadata": {},
   "outputs": [],
   "source": [
    "df2=df.loc[df['cntry'].isin(['CH','CZ','ES']) & (df['year'] == 6)]"
   ]
  },
  {
   "cell_type": "code",
   "execution_count": 15,
   "metadata": {},
   "outputs": [
    {
     "data": {
      "text/plain": [
       "<matplotlib.axes._subplots.AxesSubplot at 0x1a10a41278>"
      ]
     },
     "execution_count": 15,
     "metadata": {},
     "output_type": "execute_result"
    },
    {
     "data": {
      "image/png": "[encoded data removed]",
      "text/plain": [
       "<matplotlib.figure.Figure at 0x1a19b9e630>"
      ]
     },
     "metadata": {},
     "output_type": "display_data"
    }
   ],
   "source": [
    "sns.distplot( df2[\"sclmeet\"])"
   ]
  },
  {
   "cell_type": "markdown",
   "metadata": {},
   "source": [
    "There is a skew in the plot, so we are going to use Kruskal-Wallis, the nonparametric test for one way ANOVA.  "
   ]
  },
  {
   "cell_type": "code",
   "execution_count": 16,
   "metadata": {},
   "outputs": [
    {
     "data": {
      "image/png": "[encoded data removed]",
      "text/plain": [
       "<matplotlib.figure.Figure at 0x1a19bc7b70>"
      ]
     },
     "metadata": {},
     "output_type": "display_data"
    }
   ],
   "source": [
    "plt.figure(figsize=(12,6))\n",
    "sns.boxplot(x=\"cntry\", y=\"sclmeet\", data=df2, palette=\"Set3_r\")\n",
    "sns.despine(offset=10, trim=True)"
   ]
  },
  {
   "cell_type": "markdown",
   "metadata": {},
   "source": [
    "They all look the same."
   ]
  },
  {
   "cell_type": "code",
   "execution_count": 17,
   "metadata": {},
   "outputs": [
    {
     "data": {
      "text/plain": [
       "KruskalResult(statistic=126.52408817790707, pvalue=3.354620049166388e-28)"
      ]
     },
     "execution_count": 17,
     "metadata": {},
     "output_type": "execute_result"
    }
   ],
   "source": [
    "stats.kruskal(\n",
    "    df.loc[(df['cntry'] == 'CH') & (df['year'] == 7)].sclmeet,\n",
    "    df.loc[(df['cntry'] == 'CZ') & (df['year'] == 7)].sclmeet,\n",
    "    df.loc[(df['cntry'] == 'ES') & (df['year'] == 7)].sclmeet)"
   ]
  },
  {
   "cell_type": "markdown",
   "metadata": {},
   "source": [
    "p-value is very low, indicating that there is a significant difference between how many times people in China, Czech Republic and Denmark meet.  This is different than I would have expected from the boxplots."
   ]
  },
  {
   "cell_type": "code",
   "execution_count": 18,
   "metadata": {},
   "outputs": [
    {
     "data": {
      "text/html": [
       "<table class=\"simpletable\">\n",
       "<caption>Multiple Comparison of Means - Tukey HSD,FWER=0.05</caption>\n",
       "<tr>\n",
       "  <th>group1</th> <th>group2</th> <th>meandiff</th>  <th>lower</th>   <th>upper</th> <th>reject</th>\n",
       "</tr>\n",
       "<tr>\n",
       "    <td>CH</td>     <td>CZ</td>    <td>-0.3922</td> <td>-0.5844</td>  <td>-0.2</td>   <td>True</td> \n",
       "</tr>\n",
       "<tr>\n",
       "    <td>CH</td>     <td>ES</td>    <td>0.0976</td>  <td>-0.0673</td> <td>0.2625</td>  <td>False</td>\n",
       "</tr>\n",
       "<tr>\n",
       "    <td>CZ</td>     <td>ES</td>    <td>0.4898</td>  <td>0.3143</td>  <td>0.6654</td>  <td>True</td> \n",
       "</tr>\n",
       "</table>"
      ],
      "text/plain": [
       "<class 'statsmodels.iolib.table.SimpleTable'>"
      ]
     },
     "execution_count": 18,
     "metadata": {},
     "output_type": "execute_result"
    }
   ],
   "source": [
    "from statsmodels.stats.multicomp import pairwise_tukeyhsd\n",
    "\n",
    "tukey = pairwise_tukeyhsd(endog=df2['sclmeet'],      # Data\n",
    "                          groups=df2['cntry'],   # Groups\n",
    "                          alpha=0.05)         # Significance level\n",
    "\n",
    "tukey.summary()  "
   ]
  },
  {
   "cell_type": "markdown",
   "metadata": {},
   "source": [
    "Running the Tukey test, we can see where the difference lies. It looks like China and Czech Republic have significantly different social meeting patterns, and Czech is different from Estonians.  The differences between China and Estonia are not significant enough to reject the null hypothesis.\n",
    "\n",
    "### Pick three or four of the countries in the sample and compare how often people took part in social activities, relative to others their age, in 2014. Are there differences, and if so, which countries stand out?"
   ]
  },
  {
   "cell_type": "code",
   "execution_count": 19,
   "metadata": {},
   "outputs": [
    {
     "data": {
      "text/plain": [
       "<matplotlib.axes._subplots.AxesSubplot at 0x1a1a172c18>"
      ]
     },
     "execution_count": 19,
     "metadata": {},
     "output_type": "execute_result"
    },
    {
     "data": {
      "image/png": "[encoded data removed]",
      "text/plain": [
       "<matplotlib.figure.Figure at 0x1a19cc8d30>"
      ]
     },
     "metadata": {},
     "output_type": "display_data"
    }
   ],
   "source": [
    "sns.distplot( df[\"sclact\"])"
   ]
  },
  {
   "cell_type": "markdown",
   "metadata": {},
   "source": [
    "As there are only 5 ordinal options, we will use Mann-Whitney here or Kruskal-Wallis test. "
   ]
  },
  {
   "cell_type": "code",
   "execution_count": 20,
   "metadata": {},
   "outputs": [],
   "source": [
    "df['age_grp'] = pd.cut(df['agea'], [0, 35, 45, 55, 65, 75, 150], labels=['0-35'\n",
    "                            ,'36-45','46-55','56-65','66-75','76+'])"
   ]
  },
  {
   "cell_type": "markdown",
   "metadata": {},
   "source": [
    "Let's look at China first."
   ]
  },
  {
   "cell_type": "code",
   "execution_count": 21,
   "metadata": {},
   "outputs": [
    {
     "data": {
      "image/png": "[encoded data removed]",
      "text/plain": [
       "<matplotlib.figure.Figure at 0x1a19dbeeb8>"
      ]
     },
     "metadata": {},
     "output_type": "display_data"
    }
   ],
   "source": [
    "ch = df.loc[(df['cntry'] == 'CH') & (df['year'] == 7)]\n",
    "\n",
    "plt.figure(figsize=(12,6))\n",
    "sns.boxplot(x=\"age_grp\", y=\"sclact\", data= ch, palette=\"Set3_r\")\n",
    "sns.despine(offset=10, trim=True)"
   ]
  },
  {
   "cell_type": "code",
   "execution_count": 22,
   "metadata": {},
   "outputs": [
    {
     "data": {
      "text/plain": [
       "KruskalResult(statistic=4.163465676568204, pvalue=0.5261291319737488)"
      ]
     },
     "execution_count": 22,
     "metadata": {},
     "output_type": "execute_result"
    }
   ],
   "source": [
    "stats.kruskal(\n",
    "    ch.loc[ch['age_grp'] == '0-35'].sclact,\n",
    "    ch.loc[(ch['age_grp'] == '36-45')].sclact,\n",
    "    ch.loc[(ch['age_grp'] == '46-55')].sclact,\n",
    "    ch.loc[(ch['age_grp'] == '56-65')].sclact,\n",
    "    ch.loc[(ch['age_grp'] == '66-75')].sclact,\n",
    "    ch.loc[(ch['age_grp'] == '76+')].sclact)"
   ]
  },
  {
   "cell_type": "markdown",
   "metadata": {},
   "source": [
    "No differences in social activity for age groups in China.\n",
    "\n",
    "What about the Czech Republic?"
   ]
  },
  {
   "cell_type": "code",
   "execution_count": 23,
   "metadata": {},
   "outputs": [
    {
     "data": {
      "image/png": "[encoded data removed]",
      "text/plain": [
       "<matplotlib.figure.Figure at 0x1a1a1b7940>"
      ]
     },
     "metadata": {},
     "output_type": "display_data"
    }
   ],
   "source": [
    "cz = df.loc[df['cntry']=='CZ']\n",
    "\n",
    "plt.figure(figsize=(12,6))\n",
    "sns.boxplot(x=\"age_grp\", y=\"sclact\", data= cz, palette=\"Set3_r\")\n",
    "sns.despine(offset=10, trim=True)"
   ]
  },
  {
   "cell_type": "code",
   "execution_count": 24,
   "metadata": {},
   "outputs": [
    {
     "data": {
      "text/plain": [
       "0-35     353\n",
       "36-45    260\n",
       "56-65    218\n",
       "46-55    217\n",
       "66-75    130\n",
       "76+       29\n",
       "Name: age_grp, dtype: int64"
      ]
     },
     "execution_count": 24,
     "metadata": {},
     "output_type": "execute_result"
    }
   ],
   "source": [
    "cz.age_grp.value_counts()"
   ]
  },
  {
   "cell_type": "markdown",
   "metadata": {},
   "source": [
    "Older people look less likely to participate in social activities and people under the age of 36 tend to respond the same way so that the boxplot is just a line.  This seems a little unbelievable to me..."
   ]
  },
  {
   "cell_type": "code",
   "execution_count": 25,
   "metadata": {},
   "outputs": [
    {
     "data": {
      "text/plain": [
       "KruskalResult(statistic=34.38660742568639, pvalue=1.9941495030919304e-06)"
      ]
     },
     "execution_count": 25,
     "metadata": {},
     "output_type": "execute_result"
    }
   ],
   "source": [
    "stats.kruskal(\n",
    "    cz.loc[cz['age_grp'] == '0-35'].sclact,\n",
    "    cz.loc[(cz['age_grp'] == '36-45')].sclact,\n",
    "    cz.loc[(cz['age_grp'] == '46-55')].sclact,\n",
    "    cz.loc[(cz['age_grp'] == '56-65')].sclact,\n",
    "    cz.loc[(cz['age_grp'] == '66-75')].sclact,\n",
    "    cz.loc[(cz['age_grp'] == '76+')].sclact)"
   ]
  },
  {
   "cell_type": "markdown",
   "metadata": {},
   "source": [
    "Kruskal wallis test shows a significant p-value.  Let's run Tukey to see where the significance lies.  I'm guessing with the 0-35 age group."
   ]
  },
  {
   "cell_type": "code",
   "execution_count": 26,
   "metadata": {},
   "outputs": [
    {
     "data": {
      "text/html": [
       "<table class=\"simpletable\">\n",
       "<caption>Multiple Comparison of Means - Tukey HSD,FWER=0.05</caption>\n",
       "<tr>\n",
       "  <th>group1</th> <th>group2</th> <th>meandiff</th>  <th>lower</th>   <th>upper</th>  <th>reject</th>\n",
       "</tr>\n",
       "<tr>\n",
       "   <td>0-35</td>   <td>36-45</td>  <td>-0.2812</td> <td>-0.4872</td> <td>-0.0752</td>  <td>True</td> \n",
       "</tr>\n",
       "<tr>\n",
       "   <td>0-35</td>   <td>46-55</td>  <td>-0.2706</td> <td>-0.488</td>  <td>-0.0532</td>  <td>True</td> \n",
       "</tr>\n",
       "<tr>\n",
       "   <td>0-35</td>   <td>56-65</td>  <td>-0.2367</td> <td>-0.4538</td> <td>-0.0195</td>  <td>True</td> \n",
       "</tr>\n",
       "<tr>\n",
       "   <td>0-35</td>   <td>66-75</td>  <td>-0.2543</td> <td>-0.5129</td> <td>0.0043</td>   <td>False</td>\n",
       "</tr>\n",
       "<tr>\n",
       "   <td>0-35</td>    <td>76+</td>   <td>-0.6973</td> <td>-1.1842</td> <td>-0.2104</td>  <td>True</td> \n",
       "</tr>\n",
       "<tr>\n",
       "   <td>36-45</td>  <td>46-55</td>  <td>0.0106</td>  <td>-0.2212</td> <td>0.2424</td>   <td>False</td>\n",
       "</tr>\n",
       "<tr>\n",
       "   <td>36-45</td>  <td>56-65</td>  <td>0.0446</td>  <td>-0.1869</td>  <td>0.276</td>   <td>False</td>\n",
       "</tr>\n",
       "<tr>\n",
       "   <td>36-45</td>  <td>66-75</td>  <td>0.0269</td>  <td>-0.2438</td> <td>0.2977</td>   <td>False</td>\n",
       "</tr>\n",
       "<tr>\n",
       "   <td>36-45</td>   <td>76+</td>   <td>-0.416</td>  <td>-0.9095</td> <td>0.0774</td>   <td>False</td>\n",
       "</tr>\n",
       "<tr>\n",
       "   <td>46-55</td>  <td>56-65</td>  <td>0.0339</td>  <td>-0.2078</td> <td>0.2757</td>   <td>False</td>\n",
       "</tr>\n",
       "<tr>\n",
       "   <td>46-55</td>  <td>66-75</td>  <td>0.0163</td>  <td>-0.2633</td> <td>0.2959</td>   <td>False</td>\n",
       "</tr>\n",
       "<tr>\n",
       "   <td>46-55</td>   <td>76+</td>   <td>-0.4267</td> <td>-0.925</td>  <td>0.0717</td>   <td>False</td>\n",
       "</tr>\n",
       "<tr>\n",
       "   <td>56-65</td>  <td>66-75</td>  <td>-0.0176</td> <td>-0.297</td>  <td>0.2617</td>   <td>False</td>\n",
       "</tr>\n",
       "<tr>\n",
       "   <td>56-65</td>   <td>76+</td>   <td>-0.4606</td> <td>-0.9588</td> <td>0.0376</td>   <td>False</td>\n",
       "</tr>\n",
       "<tr>\n",
       "   <td>66-75</td>   <td>76+</td>   <td>-0.443</td>  <td>-0.9606</td> <td>0.0747</td>   <td>False</td>\n",
       "</tr>\n",
       "</table>"
      ],
      "text/plain": [
       "<class 'statsmodels.iolib.table.SimpleTable'>"
      ]
     },
     "execution_count": 26,
     "metadata": {},
     "output_type": "execute_result"
    }
   ],
   "source": [
    "tukey = pairwise_tukeyhsd(endog=cz['sclact'],      # Data\n",
    "                          groups=cz['age_grp'],   # Groups\n",
    "                          alpha=0.05)         # Significance level\n",
    "\n",
    "tukey.summary() "
   ]
  },
  {
   "cell_type": "markdown",
   "metadata": {},
   "source": [
    "Yep. Most of the differences are with the 0-35 age group.  \n",
    "\n",
    "Let's try Estonia"
   ]
  },
  {
   "cell_type": "code",
   "execution_count": 27,
   "metadata": {},
   "outputs": [
    {
     "data": {
      "image/png": "[encoded data removed]",
      "text/plain": [
       "<matplotlib.figure.Figure at 0x1a1a2fdcf8>"
      ]
     },
     "metadata": {},
     "output_type": "display_data"
    }
   ],
   "source": [
    "es = df.loc[df['cntry']=='ES']\n",
    "\n",
    "plt.figure(figsize=(12,6))\n",
    "sns.boxplot(x=\"age_grp\", y=\"sclact\", data= es, palette=\"Set3_r\")\n",
    "sns.despine(offset=10, trim=True)"
   ]
  },
  {
   "cell_type": "code",
   "execution_count": 28,
   "metadata": {},
   "outputs": [
    {
     "data": {
      "text/plain": [
       "0-35     653\n",
       "36-45    447\n",
       "46-55    445\n",
       "56-65    350\n",
       "66-75    229\n",
       "76+      168\n",
       "Name: age_grp, dtype: int64"
      ]
     },
     "execution_count": 28,
     "metadata": {},
     "output_type": "execute_result"
    }
   ],
   "source": [
    "es.age_grp.value_counts()"
   ]
  },
  {
   "cell_type": "code",
   "execution_count": 29,
   "metadata": {},
   "outputs": [
    {
     "data": {
      "text/plain": [
       "KruskalResult(statistic=24.89043222613837, pvalue=0.00014628738325358842)"
      ]
     },
     "execution_count": 29,
     "metadata": {},
     "output_type": "execute_result"
    }
   ],
   "source": [
    "stats.kruskal(\n",
    "    es.loc[es['age_grp'] == '0-35'].sclact,\n",
    "    es.loc[(es['age_grp'] == '36-45')].sclact,\n",
    "    es.loc[(es['age_grp'] == '46-55')].sclact,\n",
    "    es.loc[(es['age_grp'] == '56-65')].sclact,\n",
    "    es.loc[(es['age_grp'] == '66-75')].sclact,\n",
    "    es.loc[(es['age_grp'] == '76+')].sclact)"
   ]
  },
  {
   "cell_type": "markdown",
   "metadata": {},
   "source": [
    "We have a significant p-value, so let's run Tukey to see where the differences are."
   ]
  },
  {
   "cell_type": "code",
   "execution_count": 30,
   "metadata": {},
   "outputs": [
    {
     "data": {
      "text/html": [
       "<table class=\"simpletable\">\n",
       "<caption>Multiple Comparison of Means - Tukey HSD,FWER=0.05</caption>\n",
       "<tr>\n",
       "  <th>group1</th> <th>group2</th> <th>meandiff</th>  <th>lower</th>   <th>upper</th>  <th>reject</th>\n",
       "</tr>\n",
       "<tr>\n",
       "   <td>0-35</td>   <td>36-45</td>  <td>-0.0651</td> <td>-0.2326</td> <td>0.1025</td>   <td>False</td>\n",
       "</tr>\n",
       "<tr>\n",
       "   <td>0-35</td>   <td>46-55</td>  <td>-0.0422</td> <td>-0.2099</td> <td>0.1256</td>   <td>False</td>\n",
       "</tr>\n",
       "<tr>\n",
       "   <td>0-35</td>   <td>56-65</td>  <td>-0.0532</td> <td>-0.234</td>  <td>0.1276</td>   <td>False</td>\n",
       "</tr>\n",
       "<tr>\n",
       "   <td>0-35</td>   <td>66-75</td>  <td>-0.0358</td> <td>-0.2454</td> <td>0.1738</td>   <td>False</td>\n",
       "</tr>\n",
       "<tr>\n",
       "   <td>0-35</td>    <td>76+</td>   <td>-0.4206</td> <td>-0.6567</td> <td>-0.1845</td>  <td>True</td> \n",
       "</tr>\n",
       "<tr>\n",
       "   <td>36-45</td>  <td>46-55</td>  <td>0.0229</td>  <td>-0.1598</td> <td>0.2057</td>   <td>False</td>\n",
       "</tr>\n",
       "<tr>\n",
       "   <td>36-45</td>  <td>56-65</td>  <td>0.0119</td>  <td>-0.1829</td> <td>0.2067</td>   <td>False</td>\n",
       "</tr>\n",
       "<tr>\n",
       "   <td>36-45</td>  <td>66-75</td>  <td>0.0293</td>  <td>-0.1925</td>  <td>0.251</td>   <td>False</td>\n",
       "</tr>\n",
       "<tr>\n",
       "   <td>36-45</td>   <td>76+</td>   <td>-0.3555</td> <td>-0.6025</td> <td>-0.1085</td>  <td>True</td> \n",
       "</tr>\n",
       "<tr>\n",
       "   <td>46-55</td>  <td>56-65</td>  <td>-0.011</td>  <td>-0.206</td>  <td>0.1839</td>   <td>False</td>\n",
       "</tr>\n",
       "<tr>\n",
       "   <td>46-55</td>  <td>66-75</td>  <td>0.0063</td>  <td>-0.2156</td> <td>0.2283</td>   <td>False</td>\n",
       "</tr>\n",
       "<tr>\n",
       "   <td>46-55</td>   <td>76+</td>   <td>-0.3784</td> <td>-0.6255</td> <td>-0.1313</td>  <td>True</td> \n",
       "</tr>\n",
       "<tr>\n",
       "   <td>56-65</td>  <td>66-75</td>  <td>0.0174</td>  <td>-0.2146</td> <td>0.2493</td>   <td>False</td>\n",
       "</tr>\n",
       "<tr>\n",
       "   <td>56-65</td>   <td>76+</td>   <td>-0.3674</td> <td>-0.6235</td> <td>-0.1112</td>  <td>True</td> \n",
       "</tr>\n",
       "<tr>\n",
       "   <td>66-75</td>   <td>76+</td>   <td>-0.3848</td> <td>-0.662</td>  <td>-0.1075</td>  <td>True</td> \n",
       "</tr>\n",
       "</table>"
      ],
      "text/plain": [
       "<class 'statsmodels.iolib.table.SimpleTable'>"
      ]
     },
     "execution_count": 30,
     "metadata": {},
     "output_type": "execute_result"
    }
   ],
   "source": [
    "tukey = pairwise_tukeyhsd(endog=es['sclact'],      # Data\n",
    "                          groups=es['age_grp'],   # Groups\n",
    "                          alpha=0.05)         # Significance level\n",
    "\n",
    "tukey.summary()"
   ]
  },
  {
   "cell_type": "markdown",
   "metadata": {},
   "source": [
    "The 76+ age group have social activities that are significantly different than the other age groups.  They participate in less activities."
   ]
  },
  {
   "cell_type": "code",
   "execution_count": null,
   "metadata": {},
   "outputs": [],
   "source": []
  }
 ],
 "metadata": {
  "kernelspec": {
   "display_name": "Python 3",
   "language": "python",
   "name": "python3"
  },
  "language_info": {
   "codemirror_mode": {
    "name": "ipython",
    "version": 3
   },
   "file_extension": ".py",
   "mimetype": "text/x-python",
   "name": "python",
   "nbconvert_exporter": "python",
   "pygments_lexer": "ipython3",
   "version": "3.6.4"
  }
 },
 "nbformat": 4,
 "nbformat_minor": 2
}

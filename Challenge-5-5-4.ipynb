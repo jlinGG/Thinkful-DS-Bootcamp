{
 "cells": [
  {
   "cell_type": "markdown",
   "metadata": {},
   "source": [
    "# Challenge 5.5.4\n",
    "\n",
    "Using selected questions from the 2012 and 2014 editions of the [European Social Survey](http://www.europeansocialsurvey.org/data/round-index.html), address the following questions. Keep track of your code and results in a Jupyter notebook or other source that you can share with your mentor. For each question, explain why you chose the approach you did.\n",
    "\n",
    "Here is the [data file](https://raw.githubusercontent.com/Thinkful-Ed/data-201-resources/master/ESS_practice_data/ESSdata_Thinkful.csv). And here is the [codebook](https://thinkful-ed.github.io/data-201-resources/ESS_practice_data/ESS_codebook.html), with information about the variable coding and content.\n",
    "\n",
    "In this dataset, the same participants answered questions in 2012 and again 2014.\n",
    "\n",
    "1. Did people become less trusting from 2012 to 2014? Compute results for each country in the sample.\n",
    "2. Did people become happier from 2012 to 2014? Compute results for each country in the sample.\n",
    "3. Who reported watching more TV in 2012, men or women?\n",
    "4. Who was more likely to believe people were fair in 2012, people living with a partner or people living alone?\n",
    "5. Pick three or four of the countries in the sample and compare how often people met socially in 2014. Are there differences, and if so, which countries stand out?\n",
    "6. Pick three or four of the countries in the sample and compare how often people took part in social activities, relative to others their age, in 2014. Are there differences, and if so, which countries stand out?"
   ]
  },
  {
   "cell_type": "code",
   "execution_count": 1,
   "metadata": {},
   "outputs": [],
   "source": [
    "import numpy as np\n",
    "import pandas as pd\n",
    "import seaborn as sns\n",
    "import scipy.stats as stats\n",
    "import matplotlib.pyplot as plt\n",
    "%matplotlib inline"
   ]
  },
  {
   "cell_type": "code",
   "execution_count": 2,
   "metadata": {},
   "outputs": [],
   "source": [
    "df = pd.read_csv('https://raw.githubusercontent.com/Thinkful-Ed/data-201-resources/master/ESS_practice_data/ESSdata_Thinkful.csv')"
   ]
  },
  {
   "cell_type": "code",
   "execution_count": 3,
   "metadata": {},
   "outputs": [
    {
     "data": {
      "text/html": [
       "<div>\n",
       "<style scoped>\n",
       "    .dataframe tbody tr th:only-of-type {\n",
       "        vertical-align: middle;\n",
       "    }\n",
       "\n",
       "    .dataframe tbody tr th {\n",
       "        vertical-align: top;\n",
       "    }\n",
       "\n",
       "    .dataframe thead th {\n",
       "        text-align: right;\n",
       "    }\n",
       "</style>\n",
       "<table border=\"1\" class=\"dataframe\">\n",
       "  <thead>\n",
       "    <tr style=\"text-align: right;\">\n",
       "      <th></th>\n",
       "      <th>cntry</th>\n",
       "      <th>idno</th>\n",
       "      <th>year</th>\n",
       "      <th>tvtot</th>\n",
       "      <th>ppltrst</th>\n",
       "      <th>pplfair</th>\n",
       "      <th>pplhlp</th>\n",
       "      <th>happy</th>\n",
       "      <th>sclmeet</th>\n",
       "      <th>sclact</th>\n",
       "      <th>gndr</th>\n",
       "      <th>agea</th>\n",
       "      <th>partner</th>\n",
       "    </tr>\n",
       "  </thead>\n",
       "  <tbody>\n",
       "    <tr>\n",
       "      <th>0</th>\n",
       "      <td>CH</td>\n",
       "      <td>5.0</td>\n",
       "      <td>6</td>\n",
       "      <td>3.0</td>\n",
       "      <td>3.0</td>\n",
       "      <td>10.0</td>\n",
       "      <td>5.0</td>\n",
       "      <td>8.0</td>\n",
       "      <td>5.0</td>\n",
       "      <td>4.0</td>\n",
       "      <td>2.0</td>\n",
       "      <td>60.0</td>\n",
       "      <td>1.0</td>\n",
       "    </tr>\n",
       "    <tr>\n",
       "      <th>1</th>\n",
       "      <td>CH</td>\n",
       "      <td>25.0</td>\n",
       "      <td>6</td>\n",
       "      <td>6.0</td>\n",
       "      <td>5.0</td>\n",
       "      <td>7.0</td>\n",
       "      <td>5.0</td>\n",
       "      <td>9.0</td>\n",
       "      <td>3.0</td>\n",
       "      <td>2.0</td>\n",
       "      <td>2.0</td>\n",
       "      <td>59.0</td>\n",
       "      <td>1.0</td>\n",
       "    </tr>\n",
       "    <tr>\n",
       "      <th>2</th>\n",
       "      <td>CH</td>\n",
       "      <td>26.0</td>\n",
       "      <td>6</td>\n",
       "      <td>1.0</td>\n",
       "      <td>8.0</td>\n",
       "      <td>8.0</td>\n",
       "      <td>8.0</td>\n",
       "      <td>7.0</td>\n",
       "      <td>6.0</td>\n",
       "      <td>3.0</td>\n",
       "      <td>1.0</td>\n",
       "      <td>24.0</td>\n",
       "      <td>2.0</td>\n",
       "    </tr>\n",
       "    <tr>\n",
       "      <th>3</th>\n",
       "      <td>CH</td>\n",
       "      <td>28.0</td>\n",
       "      <td>6</td>\n",
       "      <td>4.0</td>\n",
       "      <td>6.0</td>\n",
       "      <td>6.0</td>\n",
       "      <td>7.0</td>\n",
       "      <td>10.0</td>\n",
       "      <td>6.0</td>\n",
       "      <td>2.0</td>\n",
       "      <td>2.0</td>\n",
       "      <td>64.0</td>\n",
       "      <td>1.0</td>\n",
       "    </tr>\n",
       "    <tr>\n",
       "      <th>4</th>\n",
       "      <td>CH</td>\n",
       "      <td>29.0</td>\n",
       "      <td>6</td>\n",
       "      <td>5.0</td>\n",
       "      <td>6.0</td>\n",
       "      <td>7.0</td>\n",
       "      <td>5.0</td>\n",
       "      <td>8.0</td>\n",
       "      <td>7.0</td>\n",
       "      <td>2.0</td>\n",
       "      <td>2.0</td>\n",
       "      <td>55.0</td>\n",
       "      <td>1.0</td>\n",
       "    </tr>\n",
       "  </tbody>\n",
       "</table>\n",
       "</div>"
      ],
      "text/plain": [
       "  cntry  idno  year  tvtot  ppltrst  pplfair  pplhlp  happy  sclmeet  sclact  \\\n",
       "0    CH   5.0     6    3.0      3.0     10.0     5.0    8.0      5.0     4.0   \n",
       "1    CH  25.0     6    6.0      5.0      7.0     5.0    9.0      3.0     2.0   \n",
       "2    CH  26.0     6    1.0      8.0      8.0     8.0    7.0      6.0     3.0   \n",
       "3    CH  28.0     6    4.0      6.0      6.0     7.0   10.0      6.0     2.0   \n",
       "4    CH  29.0     6    5.0      6.0      7.0     5.0    8.0      7.0     2.0   \n",
       "\n",
       "   gndr  agea  partner  \n",
       "0   2.0  60.0      1.0  \n",
       "1   2.0  59.0      1.0  \n",
       "2   1.0  24.0      2.0  \n",
       "3   2.0  64.0      1.0  \n",
       "4   2.0  55.0      1.0  "
      ]
     },
     "execution_count": 3,
     "metadata": {},
     "output_type": "execute_result"
    }
   ],
   "source": [
    "df.head()"
   ]
  },
  {
   "cell_type": "markdown",
   "metadata": {},
   "source": [
    "According to the codebook, 6 is 2012 and 7 is 2014."
   ]
  },
  {
   "cell_type": "code",
   "execution_count": 4,
   "metadata": {},
   "outputs": [
    {
     "data": {
      "text/plain": [
       "array(['CH', 'CZ', 'DE', 'ES', 'NO', 'SE'], dtype=object)"
      ]
     },
     "execution_count": 4,
     "metadata": {},
     "output_type": "execute_result"
    }
   ],
   "source": [
    "df.cntry.unique()"
   ]
  },
  {
   "cell_type": "code",
   "execution_count": 5,
   "metadata": {},
   "outputs": [],
   "source": [
    "df = df.dropna()"
   ]
  },
  {
   "cell_type": "markdown",
   "metadata": {},
   "source": [
    "## Did people become less trusting from 2012 to 2014? Compute results for each country in the sample."
   ]
  },
  {
   "cell_type": "code",
   "execution_count": 6,
   "metadata": {},
   "outputs": [
    {
     "data": {
      "text/plain": [
       "<matplotlib.axes._subplots.AxesSubplot at 0x1a0f17a6a0>"
      ]
     },
     "execution_count": 6,
     "metadata": {},
     "output_type": "execute_result"
    },
    {
     "data": {
      "image/png": "[encoded data removed]",
      "text/plain": [
       "<matplotlib.figure.Figure at 0x1a0f17af60>"
      ]
     },
     "metadata": {},
     "output_type": "display_data"
    }
   ],
   "source": [
    "sns.distplot( df[\"ppltrst\"])"
   ]
  },
  {
   "cell_type": "markdown",
   "metadata": {},
   "source": [
    "The ppltrst histogram looks roughly normal, though we are looking at ranking data, not continuous data.  \n",
    "\n",
    "We could use a pairwise t-test, since there seems to be survey respondesnts in 2012 that also responded in 2014.  However, if a respondent doesn't respond to both surveys, we lose that data.  So we will just use a t-test "
   ]
  },
  {
   "cell_type": "code",
   "execution_count": 7,
   "metadata": {},
   "outputs": [
    {
     "name": "stdout",
     "output_type": "stream",
     "text": [
      "CH:\n",
      "Ttest_indResult(statistic=-0.7156974792217816, pvalue=0.4742916002909491)\n",
      "CZ:\n",
      "Ttest_indResult(statistic=0.34075433231518504, pvalue=0.7333479315909976)\n",
      "DE:\n",
      "Ttest_indResult(statistic=-0.3466213170125284, pvalue=0.7317764273785732)\n",
      "ES:\n",
      "Ttest_indResult(statistic=2.1000674443244907, pvalue=0.03583204193521363)\n",
      "NO:\n",
      "Ttest_indResult(statistic=0.5119224181145228, pvalue=0.6087850218131978)\n",
      "SE:\n",
      "Ttest_indResult(statistic=-2.0268698056063146, pvalue=0.0428293634522298)\n"
     ]
    }
   ],
   "source": [
    "cntry_list = ['CH', 'CZ', 'DE', 'ES', 'NO', 'SE']\n",
    "\n",
    "for c in cntry_list:\n",
    "    print(c + ':')\n",
    "    print(stats.ttest_ind(df.loc[(df['cntry'] == c) & (df['year'] == 6)].ppltrst, \n",
    "                          df.loc[(df['cntry'] == c) & (df['year'] == 7)].ppltrst))"
   ]
  },
  {
   "cell_type": "markdown",
   "metadata": {},
   "source": [
    "We have two signficant p-values for Estonia and Sweden.  Estonians became more trusting between 2012 and 2014 and Swedes became less trusting.\n",
    "\n",
    "## Did people become happier from 2012 to 2014? Compute results for each country in the sample."
   ]
  },
  {
   "cell_type": "code",
   "execution_count": 8,
   "metadata": {},
   "outputs": [
    {
     "name": "stdout",
     "output_type": "stream",
     "text": [
      "CH:\n",
      "Ttest_indResult(statistic=-0.812142488327401, pvalue=0.4168411011770018)\n",
      "CZ:\n",
      "Ttest_indResult(statistic=-1.1592536826704618, pvalue=0.24658245820500238)\n",
      "DE:\n",
      "Ttest_indResult(statistic=-0.966317541228559, pvalue=0.3431409128727073)\n",
      "ES:\n",
      "Ttest_indResult(statistic=1.3750588408504656, pvalue=0.16924771370417369)\n",
      "NO:\n",
      "Ttest_indResult(statistic=4.152957205997266, pvalue=3.4778681704487346e-05)\n",
      "SE:\n",
      "Ttest_indResult(statistic=-0.5372790210326394, pvalue=0.5911442306272388)\n"
     ]
    }
   ],
   "source": [
    "for c in cntry_list:\n",
    "    print(c + ':')\n",
    "    print(stats.ttest_ind(df.loc[(df['cntry'] == c) & (df['year'] == 6)].happy, \n",
    "                          df.loc[(df['cntry'] == c) & (df['year'] == 7)].happy))"
   ]
  },
  {
   "cell_type": "markdown",
   "metadata": {},
   "source": [
    "Norway has a significant pvalue.  We have evidence that Norweigens are happier in 2014 compared to 2012. \n",
    "\n",
    "## Who reported watching more TV in 2012, men or women?\n",
    "1 is male and 2 is female in the dataset."
   ]
  },
  {
   "cell_type": "code",
   "execution_count": 9,
   "metadata": {},
   "outputs": [
    {
     "data": {
      "text/plain": [
       "<matplotlib.axes._subplots.AxesSubplot at 0x1a10337048>"
      ]
     },
     "execution_count": 9,
     "metadata": {},
     "output_type": "execute_result"
    },
    {
     "data": {
      "image/png": "[encoded data removed]",
      "text/plain": [
       "<matplotlib.figure.Figure at 0x1a10337748>"
      ]
     },
     "metadata": {},
     "output_type": "display_data"
    }
   ],
   "source": [
    "sns.distplot( df[\"tvtot\"])"
   ]
  },
  {
   "cell_type": "code",
   "execution_count": 10,
   "metadata": {},
   "outputs": [
    {
     "name": "stdout",
     "output_type": "stream",
     "text": [
      "Ttest_indResult(statistic=-1.6176926106407103, pvalue=0.10576758143732026)\n"
     ]
    }
   ],
   "source": [
    " print(stats.ttest_ind(df.loc[(df['gndr'] == 1)].tvtot, \n",
    "                          df.loc[(df['gndr'] == 2)].tvtot))"
   ]
  },
  {
   "cell_type": "markdown",
   "metadata": {},
   "source": [
    "With a pvalue of 0.105, we don't have enough evidence to reject the null that there is no difference between men and women's tv watching.\n",
    "\n",
    "## Who was more likely to believe people were fair in 2012, people living with a partner or people living alone?\n",
    "\n",
    "In the partner column, 1 means living with partner and 2 means not living with partner. "
   ]
  },
  {
   "cell_type": "code",
   "execution_count": 11,
   "metadata": {},
   "outputs": [
    {
     "name": "stdout",
     "output_type": "stream",
     "text": [
      "Ttest_indResult(statistic=3.0430439318464235, pvalue=0.002356936676939248)\n"
     ]
    }
   ],
   "source": [
    "print(stats.ttest_ind(df.loc[(df['partner'] == 1) & (df['year'] == 6)].pplfair, \n",
    "                          df.loc[(df['partner'] == 2) & (df['year'] == 6)].pplfair))"
   ]
  },
  {
   "cell_type": "markdown",
   "metadata": {},
   "source": [
    "The pvalue is significant here.  People who are living with a partner is more likely to believe people were fair in 2012 than people living alone."
   ]
  },
  {
   "cell_type": "markdown",
   "metadata": {},
   "source": [
    "## Pick three or four of the countries in the sample and compare how often people met socially in 2014. Are there differences, and if so, which countries stand out?\n",
    "\n",
    "Let's first look at the boxplot"
   ]
  },
  {
   "cell_type": "code",
   "execution_count": 12,
   "metadata": {},
   "outputs": [],
   "source": [
    "df2=df.loc[df['cntry'].isin(['CH','CZ','ES']) & (df['year'] == 6)]"
   ]
  },
  {
   "cell_type": "code",
   "execution_count": 13,
   "metadata": {},
   "outputs": [
    {
     "data": {
      "text/plain": [
       "<matplotlib.axes._subplots.AxesSubplot at 0x1a1036d0b8>"
      ]
     },
     "execution_count": 13,
     "metadata": {},
     "output_type": "execute_result"
    },
    {
     "data": {
      "image/png": "[encoded data removed]",
      "text/plain": [
       "<matplotlib.figure.Figure at 0x1a10337400>"
      ]
     },
     "metadata": {},
     "output_type": "display_data"
    }
   ],
   "source": [
    "sns.distplot( df2[\"sclmeet\"])"
   ]
  },
  {
   "cell_type": "markdown",
   "metadata": {},
   "source": [
    "Plot looks roughly normal."
   ]
  },
  {
   "cell_type": "code",
   "execution_count": 14,
   "metadata": {},
   "outputs": [
    {
     "data": {
      "image/png": "[encoded data removed]",
      "text/plain": [
       "<matplotlib.figure.Figure at 0x1a19557630>"
      ]
     },
     "metadata": {},
     "output_type": "display_data"
    }
   ],
   "source": [
    "plt.figure(figsize=(12,6))\n",
    "sns.boxplot(x=\"cntry\", y=\"sclmeet\", data=df2, palette=\"Set3_r\")\n",
    "sns.despine(offset=10, trim=True)"
   ]
  },
  {
   "cell_type": "markdown",
   "metadata": {},
   "source": [
    "They all look the same."
   ]
  },
  {
   "cell_type": "code",
   "execution_count": 15,
   "metadata": {},
   "outputs": [
    {
     "name": "stdout",
     "output_type": "stream",
     "text": [
      "63.151657307073876\n",
      "1.774754769196842e-27\n"
     ]
    }
   ],
   "source": [
    "F, p = stats.f_oneway(\n",
    "    df.loc[(df['cntry'] == 'CH') & (df['year'] == 7)].sclmeet,\n",
    "    df.loc[(df['cntry'] == 'CZ') & (df['year'] == 7)].sclmeet,\n",
    "    df.loc[(df['cntry'] == 'ES') & (df['year'] == 7)].sclmeet)\n",
    "\n",
    "# The F statistic.\n",
    "print(F)\n",
    "\n",
    "# The probability. A p < .05 would lead us to believe the group means were\n",
    "# not all similar in the population.\n",
    "print(p)"
   ]
  },
  {
   "cell_type": "markdown",
   "metadata": {},
   "source": [
    "p-value is very low, indicating that there is a significant difference between how many times people in China, Czech Republic and Denmark meet.  This is different than I would have expected from the boxplots."
   ]
  },
  {
   "cell_type": "code",
   "execution_count": 16,
   "metadata": {},
   "outputs": [
    {
     "data": {
      "text/html": [
       "<table class=\"simpletable\">\n",
       "<caption>Multiple Comparison of Means - Tukey HSD,FWER=0.05</caption>\n",
       "<tr>\n",
       "  <th>group1</th> <th>group2</th> <th>meandiff</th>  <th>lower</th>   <th>upper</th> <th>reject</th>\n",
       "</tr>\n",
       "<tr>\n",
       "    <td>CH</td>     <td>CZ</td>    <td>-0.3922</td> <td>-0.5844</td>  <td>-0.2</td>   <td>True</td> \n",
       "</tr>\n",
       "<tr>\n",
       "    <td>CH</td>     <td>ES</td>    <td>0.0976</td>  <td>-0.0673</td> <td>0.2625</td>  <td>False</td>\n",
       "</tr>\n",
       "<tr>\n",
       "    <td>CZ</td>     <td>ES</td>    <td>0.4898</td>  <td>0.3143</td>  <td>0.6654</td>  <td>True</td> \n",
       "</tr>\n",
       "</table>"
      ],
      "text/plain": [
       "<class 'statsmodels.iolib.table.SimpleTable'>"
      ]
     },
     "execution_count": 16,
     "metadata": {},
     "output_type": "execute_result"
    }
   ],
   "source": [
    "from statsmodels.stats.multicomp import pairwise_tukeyhsd\n",
    "\n",
    "tukey = pairwise_tukeyhsd(endog=df2['sclmeet'],      # Data\n",
    "                          groups=df2['cntry'],   # Groups\n",
    "                          alpha=0.05)         # Significance level\n",
    "\n",
    "tukey.summary()  "
   ]
  },
  {
   "cell_type": "markdown",
   "metadata": {},
   "source": [
    "Running the Tukey test, we can see where the difference lies. It looks like China and Czech Republic have significantly different social meeting patterns, and Czech is different from Estonians.  The differences between China and Estonia are not significant enough to reject the null hypothesis.\n",
    "\n",
    "### Pick three or four of the countries in the sample and compare how often people took part in social activities, relative to others their age, in 2014. Are there differences, and if so, which countries stand out?"
   ]
  },
  {
   "cell_type": "code",
   "execution_count": 17,
   "metadata": {},
   "outputs": [
    {
     "data": {
      "text/plain": [
       "<matplotlib.axes._subplots.AxesSubplot at 0x1a19963a90>"
      ]
     },
     "execution_count": 17,
     "metadata": {},
     "output_type": "execute_result"
    },
    {
     "data": {
      "image/png": "[encoded data removed]",
      "text/plain": [
       "<matplotlib.figure.Figure at 0x1a102f4240>"
      ]
     },
     "metadata": {},
     "output_type": "display_data"
    }
   ],
   "source": [
    "sns.distplot( df2[\"sclact\"])"
   ]
  },
  {
   "cell_type": "code",
   "execution_count": 18,
   "metadata": {},
   "outputs": [
    {
     "name": "stderr",
     "output_type": "stream",
     "text": [
      "/anaconda3/lib/python3.6/site-packages/ipykernel_launcher.py:2: SettingWithCopyWarning: \n",
      "A value is trying to be set on a copy of a slice from a DataFrame.\n",
      "Try using .loc[row_indexer,col_indexer] = value instead\n",
      "\n",
      "See the caveats in the documentation: http://pandas.pydata.org/pandas-docs/stable/indexing.html#indexing-view-versus-copy\n",
      "  \n"
     ]
    }
   ],
   "source": [
    "df2['age_grp'] = pd.cut(df2['agea'], [0, 35, 45, 55, 65, 75, 150], labels=['0-35'\n",
    "                            ,'36-45','46-55','56-65','66-75','76+'])"
   ]
  },
  {
   "cell_type": "markdown",
   "metadata": {},
   "source": [
    "Let's look at China first."
   ]
  },
  {
   "cell_type": "code",
   "execution_count": 19,
   "metadata": {},
   "outputs": [
    {
     "data": {
      "image/png": "[encoded data removed]",
      "text/plain": [
       "<matplotlib.figure.Figure at 0x1a195c1f60>"
      ]
     },
     "metadata": {},
     "output_type": "display_data"
    }
   ],
   "source": [
    "ch = df2.loc[df2['cntry']=='CH']\n",
    "\n",
    "plt.figure(figsize=(12,6))\n",
    "sns.boxplot(x=\"age_grp\", y=\"sclact\", data= ch, palette=\"Set3_r\")\n",
    "sns.despine(offset=10, trim=True)"
   ]
  },
  {
   "cell_type": "code",
   "execution_count": 20,
   "metadata": {},
   "outputs": [
    {
     "data": {
      "text/html": [
       "<table class=\"simpletable\">\n",
       "<caption>Multiple Comparison of Means - Tukey HSD,FWER=0.05</caption>\n",
       "<tr>\n",
       "  <th>group1</th> <th>group2</th> <th>meandiff</th>  <th>lower</th>   <th>upper</th> <th>reject</th>\n",
       "</tr>\n",
       "<tr>\n",
       "   <td>0-35</td>   <td>36-45</td>  <td>-0.1503</td> <td>-0.4271</td> <td>0.1264</td>  <td>False</td>\n",
       "</tr>\n",
       "<tr>\n",
       "   <td>0-35</td>   <td>46-55</td>  <td>-0.0025</td> <td>-0.2799</td> <td>0.2749</td>  <td>False</td>\n",
       "</tr>\n",
       "<tr>\n",
       "   <td>0-35</td>   <td>56-65</td>  <td>-0.0912</td> <td>-0.3738</td> <td>0.1914</td>  <td>False</td>\n",
       "</tr>\n",
       "<tr>\n",
       "   <td>0-35</td>   <td>66-75</td>  <td>-0.1779</td> <td>-0.4979</td> <td>0.1422</td>  <td>False</td>\n",
       "</tr>\n",
       "<tr>\n",
       "   <td>0-35</td>    <td>76+</td>   <td>-0.1136</td> <td>-0.4911</td> <td>0.2639</td>  <td>False</td>\n",
       "</tr>\n",
       "<tr>\n",
       "   <td>36-45</td>  <td>46-55</td>  <td>0.1479</td>  <td>-0.1651</td> <td>0.4609</td>  <td>False</td>\n",
       "</tr>\n",
       "<tr>\n",
       "   <td>36-45</td>  <td>56-65</td>  <td>0.0592</td>  <td>-0.2584</td> <td>0.3767</td>  <td>False</td>\n",
       "</tr>\n",
       "<tr>\n",
       "   <td>36-45</td>  <td>66-75</td>  <td>-0.0275</td> <td>-0.3789</td> <td>0.3238</td>  <td>False</td>\n",
       "</tr>\n",
       "<tr>\n",
       "   <td>36-45</td>   <td>76+</td>   <td>0.0367</td>  <td>-0.3676</td> <td>0.4411</td>  <td>False</td>\n",
       "</tr>\n",
       "<tr>\n",
       "   <td>46-55</td>  <td>56-65</td>  <td>-0.0887</td> <td>-0.4069</td> <td>0.2295</td>  <td>False</td>\n",
       "</tr>\n",
       "<tr>\n",
       "   <td>46-55</td>  <td>66-75</td>  <td>-0.1754</td> <td>-0.5273</td> <td>0.1765</td>  <td>False</td>\n",
       "</tr>\n",
       "<tr>\n",
       "   <td>46-55</td>   <td>76+</td>   <td>-0.1111</td> <td>-0.516</td>  <td>0.2938</td>  <td>False</td>\n",
       "</tr>\n",
       "<tr>\n",
       "   <td>56-65</td>  <td>66-75</td>  <td>-0.0867</td> <td>-0.4426</td> <td>0.2693</td>  <td>False</td>\n",
       "</tr>\n",
       "<tr>\n",
       "   <td>56-65</td>   <td>76+</td>   <td>-0.0224</td> <td>-0.4308</td>  <td>0.386</td>  <td>False</td>\n",
       "</tr>\n",
       "<tr>\n",
       "   <td>66-75</td>   <td>76+</td>   <td>0.0643</td>  <td>-0.3709</td> <td>0.4995</td>  <td>False</td>\n",
       "</tr>\n",
       "</table>"
      ],
      "text/plain": [
       "<class 'statsmodels.iolib.table.SimpleTable'>"
      ]
     },
     "execution_count": 20,
     "metadata": {},
     "output_type": "execute_result"
    }
   ],
   "source": [
    "tukey = pairwise_tukeyhsd(endog=ch['sclact'],      # Data\n",
    "                          groups=ch['age_grp'],   # Groups\n",
    "                          alpha=0.05)         # Significance level\n",
    "\n",
    "tukey.summary() "
   ]
  },
  {
   "cell_type": "markdown",
   "metadata": {},
   "source": [
    "No differences in social activity for age groups in China.\n",
    "\n",
    "What about the Czech Republic?"
   ]
  },
  {
   "cell_type": "code",
   "execution_count": 21,
   "metadata": {},
   "outputs": [
    {
     "data": {
      "image/png": "[encoded data removed]",
      "text/plain": [
       "<matplotlib.figure.Figure at 0x1a199a2128>"
      ]
     },
     "metadata": {},
     "output_type": "display_data"
    }
   ],
   "source": [
    "cz = df2.loc[df2['cntry']=='CZ']\n",
    "\n",
    "plt.figure(figsize=(12,6))\n",
    "sns.boxplot(x=\"age_grp\", y=\"sclact\", data= cz, palette=\"Set3_r\")\n",
    "sns.despine(offset=10, trim=True)"
   ]
  },
  {
   "cell_type": "code",
   "execution_count": 22,
   "metadata": {},
   "outputs": [
    {
     "data": {
      "text/plain": [
       "0-35     172\n",
       "36-45    126\n",
       "46-55    105\n",
       "56-65    102\n",
       "66-75     76\n",
       "76+       20\n",
       "Name: age_grp, dtype: int64"
      ]
     },
     "execution_count": 22,
     "metadata": {},
     "output_type": "execute_result"
    }
   ],
   "source": [
    "cz.age_grp.value_counts()"
   ]
  },
  {
   "cell_type": "markdown",
   "metadata": {},
   "source": [
    "Older people look less likely to participate in social activities and people under the age of 36 tend to respond the same way.  This seems a little unbelievable to me..."
   ]
  },
  {
   "cell_type": "code",
   "execution_count": 23,
   "metadata": {},
   "outputs": [
    {
     "data": {
      "text/html": [
       "<table class=\"simpletable\">\n",
       "<caption>Multiple Comparison of Means - Tukey HSD,FWER=0.05</caption>\n",
       "<tr>\n",
       "  <th>group1</th> <th>group2</th> <th>meandiff</th>  <th>lower</th>   <th>upper</th>  <th>reject</th>\n",
       "</tr>\n",
       "<tr>\n",
       "   <td>0-35</td>   <td>36-45</td>  <td>-0.3578</td> <td>-0.6664</td> <td>-0.0492</td>  <td>True</td> \n",
       "</tr>\n",
       "<tr>\n",
       "   <td>0-35</td>   <td>46-55</td>  <td>-0.3181</td> <td>-0.644</td>  <td>0.0078</td>   <td>False</td>\n",
       "</tr>\n",
       "<tr>\n",
       "   <td>0-35</td>   <td>56-65</td>  <td>-0.4189</td> <td>-0.7478</td> <td>-0.0901</td>  <td>True</td> \n",
       "</tr>\n",
       "<tr>\n",
       "   <td>0-35</td>   <td>66-75</td>  <td>-0.3501</td> <td>-0.7125</td> <td>0.0124</td>   <td>False</td>\n",
       "</tr>\n",
       "<tr>\n",
       "   <td>0-35</td>    <td>76+</td>   <td>-0.7895</td> <td>-1.4112</td> <td>-0.1678</td>  <td>True</td> \n",
       "</tr>\n",
       "<tr>\n",
       "   <td>36-45</td>  <td>46-55</td>  <td>0.0397</td>  <td>-0.308</td>  <td>0.3874</td>   <td>False</td>\n",
       "</tr>\n",
       "<tr>\n",
       "   <td>36-45</td>  <td>56-65</td>  <td>-0.0612</td> <td>-0.4117</td> <td>0.2893</td>   <td>False</td>\n",
       "</tr>\n",
       "<tr>\n",
       "   <td>36-45</td>  <td>66-75</td>  <td>0.0077</td>  <td>-0.3745</td> <td>0.3899</td>   <td>False</td>\n",
       "</tr>\n",
       "<tr>\n",
       "   <td>36-45</td>   <td>76+</td>   <td>-0.4317</td> <td>-1.0652</td> <td>0.2017</td>   <td>False</td>\n",
       "</tr>\n",
       "<tr>\n",
       "   <td>46-55</td>  <td>56-65</td>  <td>-0.1008</td> <td>-0.4667</td>  <td>0.265</td>   <td>False</td>\n",
       "</tr>\n",
       "<tr>\n",
       "   <td>46-55</td>  <td>66-75</td>  <td>-0.032</td>  <td>-0.4283</td> <td>0.3644</td>   <td>False</td>\n",
       "</tr>\n",
       "<tr>\n",
       "   <td>46-55</td>   <td>76+</td>   <td>-0.4714</td> <td>-1.1135</td> <td>0.1706</td>   <td>False</td>\n",
       "</tr>\n",
       "<tr>\n",
       "   <td>56-65</td>  <td>66-75</td>  <td>0.0689</td>  <td>-0.3299</td> <td>0.4676</td>   <td>False</td>\n",
       "</tr>\n",
       "<tr>\n",
       "   <td>56-65</td>   <td>76+</td>   <td>-0.3706</td> <td>-1.0141</td> <td>0.2729</td>   <td>False</td>\n",
       "</tr>\n",
       "<tr>\n",
       "   <td>66-75</td>   <td>76+</td>   <td>-0.4395</td> <td>-1.1008</td> <td>0.2219</td>   <td>False</td>\n",
       "</tr>\n",
       "</table>"
      ],
      "text/plain": [
       "<class 'statsmodels.iolib.table.SimpleTable'>"
      ]
     },
     "execution_count": 23,
     "metadata": {},
     "output_type": "execute_result"
    }
   ],
   "source": [
    "tukey = pairwise_tukeyhsd(endog=cz['sclact'],      # Data\n",
    "                          groups=cz['age_grp'],   # Groups\n",
    "                          alpha=0.05)         # Significance level\n",
    "\n",
    "tukey.summary() "
   ]
  },
  {
   "cell_type": "markdown",
   "metadata": {},
   "source": [
    "Most of the differences are with the 0-35 age group.  "
   ]
  },
  {
   "cell_type": "code",
   "execution_count": 25,
   "metadata": {},
   "outputs": [
    {
     "data": {
      "image/png": "[encoded data removed]",
      "text/plain": [
       "<matplotlib.figure.Figure at 0x1a19adfef0>"
      ]
     },
     "metadata": {},
     "output_type": "display_data"
    }
   ],
   "source": [
    "es = df2.loc[df2['cntry']=='ES']\n",
    "\n",
    "plt.figure(figsize=(12,6))\n",
    "sns.boxplot(x=\"age_grp\", y=\"sclact\", data= es, palette=\"Set3_r\")\n",
    "sns.despine(offset=10, trim=True)"
   ]
  },
  {
   "cell_type": "code",
   "execution_count": 27,
   "metadata": {},
   "outputs": [
    {
     "data": {
      "text/plain": [
       "0-35     324\n",
       "36-45    248\n",
       "46-55    218\n",
       "56-65    173\n",
       "66-75    112\n",
       "76+       83\n",
       "Name: age_grp, dtype: int64"
      ]
     },
     "execution_count": 27,
     "metadata": {},
     "output_type": "execute_result"
    }
   ],
   "source": [
    "es.age_grp.value_counts()"
   ]
  },
  {
   "cell_type": "markdown",
   "metadata": {},
   "source": [
    "They all look pretty consistent except the older Estonians.  My guess is that the differences across the board are not significant."
   ]
  },
  {
   "cell_type": "code",
   "execution_count": 28,
   "metadata": {},
   "outputs": [
    {
     "data": {
      "text/html": [
       "<table class=\"simpletable\">\n",
       "<caption>Multiple Comparison of Means - Tukey HSD,FWER=0.05</caption>\n",
       "<tr>\n",
       "  <th>group1</th> <th>group2</th> <th>meandiff</th>  <th>lower</th>   <th>upper</th> <th>reject</th>\n",
       "</tr>\n",
       "<tr>\n",
       "   <td>0-35</td>   <td>36-45</td>  <td>-0.1135</td> <td>-0.3471</td> <td>0.1201</td>  <td>False</td>\n",
       "</tr>\n",
       "<tr>\n",
       "   <td>0-35</td>   <td>46-55</td>  <td>-0.0975</td> <td>-0.3401</td>  <td>0.145</td>  <td>False</td>\n",
       "</tr>\n",
       "<tr>\n",
       "   <td>0-35</td>   <td>56-65</td>  <td>-0.0285</td> <td>-0.2892</td> <td>0.2323</td>  <td>False</td>\n",
       "</tr>\n",
       "<tr>\n",
       "   <td>0-35</td>   <td>66-75</td>  <td>0.0757</td>  <td>-0.2278</td> <td>0.3792</td>  <td>False</td>\n",
       "</tr>\n",
       "<tr>\n",
       "   <td>0-35</td>    <td>76+</td>   <td>-0.2561</td> <td>-0.5968</td> <td>0.0845</td>  <td>False</td>\n",
       "</tr>\n",
       "<tr>\n",
       "   <td>36-45</td>  <td>46-55</td>   <td>0.016</td>  <td>-0.2411</td>  <td>0.273</td>  <td>False</td>\n",
       "</tr>\n",
       "<tr>\n",
       "   <td>36-45</td>  <td>56-65</td>   <td>0.085</td>  <td>-0.1893</td> <td>0.3593</td>  <td>False</td>\n",
       "</tr>\n",
       "<tr>\n",
       "   <td>36-45</td>  <td>66-75</td>  <td>0.1892</td>  <td>-0.126</td>  <td>0.5045</td>  <td>False</td>\n",
       "</tr>\n",
       "<tr>\n",
       "   <td>36-45</td>   <td>76+</td>   <td>-0.1426</td> <td>-0.4938</td> <td>0.2085</td>  <td>False</td>\n",
       "</tr>\n",
       "<tr>\n",
       "   <td>46-55</td>  <td>56-65</td>   <td>0.069</td>  <td>-0.2129</td>  <td>0.351</td>  <td>False</td>\n",
       "</tr>\n",
       "<tr>\n",
       "   <td>46-55</td>  <td>66-75</td>  <td>0.1732</td>  <td>-0.1487</td> <td>0.4952</td>  <td>False</td>\n",
       "</tr>\n",
       "<tr>\n",
       "   <td>46-55</td>   <td>76+</td>   <td>-0.1586</td> <td>-0.5157</td> <td>0.1985</td>  <td>False</td>\n",
       "</tr>\n",
       "<tr>\n",
       "   <td>56-65</td>  <td>66-75</td>  <td>0.1042</td>  <td>-0.2316</td>  <td>0.44</td>   <td>False</td>\n",
       "</tr>\n",
       "<tr>\n",
       "   <td>56-65</td>   <td>76+</td>   <td>-0.2277</td> <td>-0.5974</td>  <td>0.142</td>  <td>False</td>\n",
       "</tr>\n",
       "<tr>\n",
       "   <td>66-75</td>   <td>76+</td>   <td>-0.3319</td> <td>-0.7329</td> <td>0.0692</td>  <td>False</td>\n",
       "</tr>\n",
       "</table>"
      ],
      "text/plain": [
       "<class 'statsmodels.iolib.table.SimpleTable'>"
      ]
     },
     "execution_count": 28,
     "metadata": {},
     "output_type": "execute_result"
    }
   ],
   "source": [
    "tukey = pairwise_tukeyhsd(endog=es['sclact'],      # Data\n",
    "                          groups=es['age_grp'],   # Groups\n",
    "                          alpha=0.05)         # Significance level\n",
    "\n",
    "tukey.summary()"
   ]
  },
  {
   "cell_type": "markdown",
   "metadata": {},
   "source": [
    "Yep."
   ]
  },
  {
   "cell_type": "code",
   "execution_count": null,
   "metadata": {},
   "outputs": [],
   "source": []
  }
 ],
 "metadata": {
  "kernelspec": {
   "display_name": "Python 3",
   "language": "python",
   "name": "python3"
  },
  "language_info": {
   "codemirror_mode": {
    "name": "ipython",
    "version": 3
   },
   "file_extension": ".py",
   "mimetype": "text/x-python",
   "name": "python",
   "nbconvert_exporter": "python",
   "pygments_lexer": "ipython3",
   "version": "3.6.4"
  }
 },
 "nbformat": 4,
 "nbformat_minor": 2
}

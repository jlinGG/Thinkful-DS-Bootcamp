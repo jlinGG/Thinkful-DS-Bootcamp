{
 "cells": [
  {
   "cell_type": "markdown",
   "metadata": {},
   "source": [
    "# Title\n",
    "\n",
    "## Abstract"
   ]
  },
  {
   "cell_type": "markdown",
   "metadata": {},
   "source": [
    "Can we predict outcome of animal based on:\n",
    "- animal type\n",
    "- animal breed (separate model for cats and dogs?)\n",
    "- age of animal\n",
    "- baby/adult/senior feature\n",
    "- sex of animal\n",
    "- color of animal\n",
    "- whether or not animal has a name\n",
    "- month/year of outcome (difference between datetime and monthyear?)\n",
    "\n",
    "Models:\n",
    "- Decision tree/Random forest\n",
    "- Logistic regression? (Lots of dummy variables..)\n",
    "- SVM\n",
    "\n",
    "Other considerations:\n",
    "- Additional models specific to adoption outcomes? To dogs or cats?\n",
    "- \n"
   ]
  },
  {
   "cell_type": "markdown",
   "metadata": {},
   "source": [
    "## Imports"
   ]
  },
  {
   "cell_type": "code",
   "execution_count": 2,
   "metadata": {},
   "outputs": [],
   "source": [
    "import numpy as np\n",
    "import pandas as pd\n",
    "import seaborn as sns\n",
    "import matplotlib.pyplot as plt\n",
    "%matplotlib inline\n",
    "\n",
    "#Ignore warnings\n",
    "import warnings\n",
    "warnings.filterwarnings('ignore')\n",
    "\n",
    "# Random Forest\n",
    "from sklearn import ensemble\n",
    "from sklearn.model_selection import cross_val_score\n",
    "from sklearn.model_selection import train_test_split\n",
    "\n",
    "# Support Vector Machine\n",
    "from sklearn.svm import SVC\n",
    "\n",
    "#Stylings\n",
    "sns.set(style=\"white\", color_codes=True)"
   ]
  },
  {
   "cell_type": "markdown",
   "metadata": {},
   "source": [
    "## Uploading and describing data"
   ]
  },
  {
   "cell_type": "code",
   "execution_count": 3,
   "metadata": {},
   "outputs": [
    {
     "data": {
      "text/html": [
       "<div>\n",
       "<style>\n",
       "    .dataframe thead tr:only-child th {\n",
       "        text-align: right;\n",
       "    }\n",
       "\n",
       "    .dataframe thead th {\n",
       "        text-align: left;\n",
       "    }\n",
       "\n",
       "    .dataframe tbody tr th {\n",
       "        vertical-align: top;\n",
       "    }\n",
       "</style>\n",
       "<table border=\"1\" class=\"dataframe\">\n",
       "  <thead>\n",
       "    <tr style=\"text-align: right;\">\n",
       "      <th></th>\n",
       "      <th>age_upon_outcome</th>\n",
       "      <th>animal_id</th>\n",
       "      <th>animal_type</th>\n",
       "      <th>breed</th>\n",
       "      <th>color</th>\n",
       "      <th>date_of_birth</th>\n",
       "      <th>datetime</th>\n",
       "      <th>monthyear</th>\n",
       "      <th>name</th>\n",
       "      <th>outcome_subtype</th>\n",
       "      <th>outcome_type</th>\n",
       "      <th>sex_upon_outcome</th>\n",
       "    </tr>\n",
       "  </thead>\n",
       "  <tbody>\n",
       "    <tr>\n",
       "      <th>0</th>\n",
       "      <td>2 weeks</td>\n",
       "      <td>A684346</td>\n",
       "      <td>Cat</td>\n",
       "      <td>Domestic Shorthair Mix</td>\n",
       "      <td>Orange Tabby</td>\n",
       "      <td>2014-07-07T00:00:00</td>\n",
       "      <td>2014-07-22T16:04:00</td>\n",
       "      <td>2014-07-22T16:04:00</td>\n",
       "      <td>NaN</td>\n",
       "      <td>Partner</td>\n",
       "      <td>Transfer</td>\n",
       "      <td>Intact Male</td>\n",
       "    </tr>\n",
       "    <tr>\n",
       "      <th>1</th>\n",
       "      <td>1 year</td>\n",
       "      <td>A666430</td>\n",
       "      <td>Dog</td>\n",
       "      <td>Beagle Mix</td>\n",
       "      <td>White/Brown</td>\n",
       "      <td>2012-11-06T00:00:00</td>\n",
       "      <td>2013-11-07T11:47:00</td>\n",
       "      <td>2013-11-07T11:47:00</td>\n",
       "      <td>Lucy</td>\n",
       "      <td>Partner</td>\n",
       "      <td>Transfer</td>\n",
       "      <td>Spayed Female</td>\n",
       "    </tr>\n",
       "    <tr>\n",
       "      <th>2</th>\n",
       "      <td>1 year</td>\n",
       "      <td>A675708</td>\n",
       "      <td>Dog</td>\n",
       "      <td>Pit Bull</td>\n",
       "      <td>Blue/White</td>\n",
       "      <td>2013-03-31T00:00:00</td>\n",
       "      <td>2014-06-03T14:20:00</td>\n",
       "      <td>2014-06-03T14:20:00</td>\n",
       "      <td>*Johnny</td>\n",
       "      <td>NaN</td>\n",
       "      <td>Adoption</td>\n",
       "      <td>Neutered Male</td>\n",
       "    </tr>\n",
       "    <tr>\n",
       "      <th>3</th>\n",
       "      <td>9 years</td>\n",
       "      <td>A680386</td>\n",
       "      <td>Dog</td>\n",
       "      <td>Miniature Schnauzer Mix</td>\n",
       "      <td>White</td>\n",
       "      <td>2005-06-02T00:00:00</td>\n",
       "      <td>2014-06-15T15:50:00</td>\n",
       "      <td>2014-06-15T15:50:00</td>\n",
       "      <td>Monday</td>\n",
       "      <td>Partner</td>\n",
       "      <td>Transfer</td>\n",
       "      <td>Neutered Male</td>\n",
       "    </tr>\n",
       "    <tr>\n",
       "      <th>4</th>\n",
       "      <td>5 months</td>\n",
       "      <td>A683115</td>\n",
       "      <td>Other</td>\n",
       "      <td>Bat Mix</td>\n",
       "      <td>Brown</td>\n",
       "      <td>2014-01-07T00:00:00</td>\n",
       "      <td>2014-07-07T14:04:00</td>\n",
       "      <td>2014-07-07T14:04:00</td>\n",
       "      <td>NaN</td>\n",
       "      <td>Rabies Risk</td>\n",
       "      <td>Euthanasia</td>\n",
       "      <td>Unknown</td>\n",
       "    </tr>\n",
       "    <tr>\n",
       "      <th>5</th>\n",
       "      <td>4 months</td>\n",
       "      <td>A664462</td>\n",
       "      <td>Dog</td>\n",
       "      <td>Leonberger Mix</td>\n",
       "      <td>Brown/White</td>\n",
       "      <td>2013-06-03T00:00:00</td>\n",
       "      <td>2013-10-07T13:06:00</td>\n",
       "      <td>2013-10-07T13:06:00</td>\n",
       "      <td>*Edgar</td>\n",
       "      <td>Partner</td>\n",
       "      <td>Transfer</td>\n",
       "      <td>Intact Male</td>\n",
       "    </tr>\n",
       "    <tr>\n",
       "      <th>6</th>\n",
       "      <td>1 year</td>\n",
       "      <td>A693700</td>\n",
       "      <td>Other</td>\n",
       "      <td>Squirrel Mix</td>\n",
       "      <td>Tan</td>\n",
       "      <td>2013-12-13T00:00:00</td>\n",
       "      <td>2014-12-13T12:20:00</td>\n",
       "      <td>2014-12-13T12:20:00</td>\n",
       "      <td>NaN</td>\n",
       "      <td>Suffering</td>\n",
       "      <td>Euthanasia</td>\n",
       "      <td>Unknown</td>\n",
       "    </tr>\n",
       "    <tr>\n",
       "      <th>7</th>\n",
       "      <td>3 years</td>\n",
       "      <td>A692618</td>\n",
       "      <td>Dog</td>\n",
       "      <td>Chihuahua Shorthair Mix</td>\n",
       "      <td>Brown</td>\n",
       "      <td>2011-11-23T00:00:00</td>\n",
       "      <td>2014-12-08T15:55:00</td>\n",
       "      <td>2014-12-08T15:55:00</td>\n",
       "      <td>*Ella</td>\n",
       "      <td>Partner</td>\n",
       "      <td>Transfer</td>\n",
       "      <td>Spayed Female</td>\n",
       "    </tr>\n",
       "    <tr>\n",
       "      <th>8</th>\n",
       "      <td>1 month</td>\n",
       "      <td>A685067</td>\n",
       "      <td>Cat</td>\n",
       "      <td>Domestic Shorthair Mix</td>\n",
       "      <td>Blue Tabby/White</td>\n",
       "      <td>2014-06-16T00:00:00</td>\n",
       "      <td>2014-08-14T18:45:00</td>\n",
       "      <td>2014-08-14T18:45:00</td>\n",
       "      <td>Lucy</td>\n",
       "      <td>NaN</td>\n",
       "      <td>Adoption</td>\n",
       "      <td>Intact Female</td>\n",
       "    </tr>\n",
       "    <tr>\n",
       "      <th>9</th>\n",
       "      <td>3 months</td>\n",
       "      <td>A678580</td>\n",
       "      <td>Cat</td>\n",
       "      <td>Domestic Shorthair Mix</td>\n",
       "      <td>White/Black</td>\n",
       "      <td>2014-03-26T00:00:00</td>\n",
       "      <td>2014-06-29T17:45:00</td>\n",
       "      <td>2014-06-29T17:45:00</td>\n",
       "      <td>*Frida</td>\n",
       "      <td>Offsite</td>\n",
       "      <td>Adoption</td>\n",
       "      <td>Spayed Female</td>\n",
       "    </tr>\n",
       "    <tr>\n",
       "      <th>10</th>\n",
       "      <td>1 year</td>\n",
       "      <td>A675405</td>\n",
       "      <td>Cat</td>\n",
       "      <td>Domestic Medium Hair Mix</td>\n",
       "      <td>Black/White</td>\n",
       "      <td>2013-03-27T00:00:00</td>\n",
       "      <td>2014-03-28T14:55:00</td>\n",
       "      <td>2014-03-28T14:55:00</td>\n",
       "      <td>Stella Luna</td>\n",
       "      <td>NaN</td>\n",
       "      <td>Return to Owner</td>\n",
       "      <td>Spayed Female</td>\n",
       "    </tr>\n",
       "    <tr>\n",
       "      <th>11</th>\n",
       "      <td>2 years</td>\n",
       "      <td>A673652</td>\n",
       "      <td>Dog</td>\n",
       "      <td>Papillon/Border Collie</td>\n",
       "      <td>Black/White</td>\n",
       "      <td>2012-02-28T00:00:00</td>\n",
       "      <td>2014-03-28T14:39:00</td>\n",
       "      <td>2014-03-28T14:39:00</td>\n",
       "      <td>Fancy</td>\n",
       "      <td>Partner</td>\n",
       "      <td>Transfer</td>\n",
       "      <td>Neutered Male</td>\n",
       "    </tr>\n",
       "    <tr>\n",
       "      <th>12</th>\n",
       "      <td>2 months</td>\n",
       "      <td>A677679</td>\n",
       "      <td>Dog</td>\n",
       "      <td>Chihuahua Shorthair/Pomeranian</td>\n",
       "      <td>Black</td>\n",
       "      <td>2014-03-07T00:00:00</td>\n",
       "      <td>2014-05-26T19:10:00</td>\n",
       "      <td>2014-05-26T19:10:00</td>\n",
       "      <td>Kash</td>\n",
       "      <td>Foster</td>\n",
       "      <td>Adoption</td>\n",
       "      <td>Neutered Male</td>\n",
       "    </tr>\n",
       "    <tr>\n",
       "      <th>13</th>\n",
       "      <td>4 years</td>\n",
       "      <td>A640655</td>\n",
       "      <td>Dog</td>\n",
       "      <td>Miniature Schnauzer/Miniature Poodle</td>\n",
       "      <td>White</td>\n",
       "      <td>2009-04-27T00:00:00</td>\n",
       "      <td>2014-04-25T11:17:00</td>\n",
       "      <td>2014-04-25T11:17:00</td>\n",
       "      <td>Sandy</td>\n",
       "      <td>NaN</td>\n",
       "      <td>Return to Owner</td>\n",
       "      <td>Spayed Female</td>\n",
       "    </tr>\n",
       "    <tr>\n",
       "      <th>14</th>\n",
       "      <td>8 years</td>\n",
       "      <td>A690350</td>\n",
       "      <td>Dog</td>\n",
       "      <td>Labrador Retriever Mix</td>\n",
       "      <td>Black</td>\n",
       "      <td>2006-10-18T00:00:00</td>\n",
       "      <td>2014-10-26T18:20:00</td>\n",
       "      <td>2014-10-26T18:20:00</td>\n",
       "      <td>Shy</td>\n",
       "      <td>NaN</td>\n",
       "      <td>Return to Owner</td>\n",
       "      <td>Neutered Male</td>\n",
       "    </tr>\n",
       "    <tr>\n",
       "      <th>15</th>\n",
       "      <td>2 years</td>\n",
       "      <td>A680396</td>\n",
       "      <td>Dog</td>\n",
       "      <td>Rat Terrier Mix</td>\n",
       "      <td>White/Black</td>\n",
       "      <td>2012-06-02T00:00:00</td>\n",
       "      <td>2014-06-15T15:11:00</td>\n",
       "      <td>2014-06-15T15:11:00</td>\n",
       "      <td>*Truman</td>\n",
       "      <td>Partner</td>\n",
       "      <td>Transfer</td>\n",
       "      <td>Neutered Male</td>\n",
       "    </tr>\n",
       "    <tr>\n",
       "      <th>16</th>\n",
       "      <td>1 year</td>\n",
       "      <td>A674298</td>\n",
       "      <td>Dog</td>\n",
       "      <td>Pit Bull Mix</td>\n",
       "      <td>Brown Brindle/White</td>\n",
       "      <td>2013-03-11T00:00:00</td>\n",
       "      <td>2014-04-16T12:51:00</td>\n",
       "      <td>2014-04-16T12:51:00</td>\n",
       "      <td>*Newt</td>\n",
       "      <td>Partner</td>\n",
       "      <td>Transfer</td>\n",
       "      <td>Neutered Male</td>\n",
       "    </tr>\n",
       "    <tr>\n",
       "      <th>17</th>\n",
       "      <td>3 weeks</td>\n",
       "      <td>A670420</td>\n",
       "      <td>Cat</td>\n",
       "      <td>Domestic Shorthair Mix</td>\n",
       "      <td>Black/White</td>\n",
       "      <td>2013-12-16T00:00:00</td>\n",
       "      <td>2014-01-09T19:29:00</td>\n",
       "      <td>2014-01-09T19:29:00</td>\n",
       "      <td>NaN</td>\n",
       "      <td>Partner</td>\n",
       "      <td>Transfer</td>\n",
       "      <td>Intact Male</td>\n",
       "    </tr>\n",
       "    <tr>\n",
       "      <th>18</th>\n",
       "      <td>2 months</td>\n",
       "      <td>A692378</td>\n",
       "      <td>Dog</td>\n",
       "      <td>German Shepherd/Labrador Retriever</td>\n",
       "      <td>Black/White</td>\n",
       "      <td>2014-10-19T00:00:00</td>\n",
       "      <td>2014-12-21T18:20:00</td>\n",
       "      <td>2014-12-21T18:20:00</td>\n",
       "      <td>*Bonnie</td>\n",
       "      <td>Foster</td>\n",
       "      <td>Adoption</td>\n",
       "      <td>Spayed Female</td>\n",
       "    </tr>\n",
       "    <tr>\n",
       "      <th>19</th>\n",
       "      <td>2 months</td>\n",
       "      <td>A684460</td>\n",
       "      <td>Cat</td>\n",
       "      <td>Domestic Shorthair Mix</td>\n",
       "      <td>Brown Tabby</td>\n",
       "      <td>2014-06-02T00:00:00</td>\n",
       "      <td>2014-08-13T15:04:00</td>\n",
       "      <td>2014-08-13T15:04:00</td>\n",
       "      <td>Elsa</td>\n",
       "      <td>NaN</td>\n",
       "      <td>Adoption</td>\n",
       "      <td>Spayed Female</td>\n",
       "    </tr>\n",
       "  </tbody>\n",
       "</table>\n",
       "</div>"
      ],
      "text/plain": [
       "   age_upon_outcome animal_id animal_type  \\\n",
       "0           2 weeks   A684346         Cat   \n",
       "1            1 year   A666430         Dog   \n",
       "2            1 year   A675708         Dog   \n",
       "3           9 years   A680386         Dog   \n",
       "4          5 months   A683115       Other   \n",
       "5          4 months   A664462         Dog   \n",
       "6            1 year   A693700       Other   \n",
       "7           3 years   A692618         Dog   \n",
       "8           1 month   A685067         Cat   \n",
       "9          3 months   A678580         Cat   \n",
       "10           1 year   A675405         Cat   \n",
       "11          2 years   A673652         Dog   \n",
       "12         2 months   A677679         Dog   \n",
       "13          4 years   A640655         Dog   \n",
       "14          8 years   A690350         Dog   \n",
       "15          2 years   A680396         Dog   \n",
       "16           1 year   A674298         Dog   \n",
       "17          3 weeks   A670420         Cat   \n",
       "18         2 months   A692378         Dog   \n",
       "19         2 months   A684460         Cat   \n",
       "\n",
       "                                   breed                color  \\\n",
       "0                 Domestic Shorthair Mix         Orange Tabby   \n",
       "1                             Beagle Mix          White/Brown   \n",
       "2                               Pit Bull           Blue/White   \n",
       "3                Miniature Schnauzer Mix                White   \n",
       "4                                Bat Mix                Brown   \n",
       "5                         Leonberger Mix          Brown/White   \n",
       "6                           Squirrel Mix                  Tan   \n",
       "7                Chihuahua Shorthair Mix                Brown   \n",
       "8                 Domestic Shorthair Mix     Blue Tabby/White   \n",
       "9                 Domestic Shorthair Mix          White/Black   \n",
       "10              Domestic Medium Hair Mix          Black/White   \n",
       "11                Papillon/Border Collie          Black/White   \n",
       "12        Chihuahua Shorthair/Pomeranian                Black   \n",
       "13  Miniature Schnauzer/Miniature Poodle                White   \n",
       "14                Labrador Retriever Mix                Black   \n",
       "15                       Rat Terrier Mix          White/Black   \n",
       "16                          Pit Bull Mix  Brown Brindle/White   \n",
       "17                Domestic Shorthair Mix          Black/White   \n",
       "18    German Shepherd/Labrador Retriever          Black/White   \n",
       "19                Domestic Shorthair Mix          Brown Tabby   \n",
       "\n",
       "          date_of_birth             datetime            monthyear  \\\n",
       "0   2014-07-07T00:00:00  2014-07-22T16:04:00  2014-07-22T16:04:00   \n",
       "1   2012-11-06T00:00:00  2013-11-07T11:47:00  2013-11-07T11:47:00   \n",
       "2   2013-03-31T00:00:00  2014-06-03T14:20:00  2014-06-03T14:20:00   \n",
       "3   2005-06-02T00:00:00  2014-06-15T15:50:00  2014-06-15T15:50:00   \n",
       "4   2014-01-07T00:00:00  2014-07-07T14:04:00  2014-07-07T14:04:00   \n",
       "5   2013-06-03T00:00:00  2013-10-07T13:06:00  2013-10-07T13:06:00   \n",
       "6   2013-12-13T00:00:00  2014-12-13T12:20:00  2014-12-13T12:20:00   \n",
       "7   2011-11-23T00:00:00  2014-12-08T15:55:00  2014-12-08T15:55:00   \n",
       "8   2014-06-16T00:00:00  2014-08-14T18:45:00  2014-08-14T18:45:00   \n",
       "9   2014-03-26T00:00:00  2014-06-29T17:45:00  2014-06-29T17:45:00   \n",
       "10  2013-03-27T00:00:00  2014-03-28T14:55:00  2014-03-28T14:55:00   \n",
       "11  2012-02-28T00:00:00  2014-03-28T14:39:00  2014-03-28T14:39:00   \n",
       "12  2014-03-07T00:00:00  2014-05-26T19:10:00  2014-05-26T19:10:00   \n",
       "13  2009-04-27T00:00:00  2014-04-25T11:17:00  2014-04-25T11:17:00   \n",
       "14  2006-10-18T00:00:00  2014-10-26T18:20:00  2014-10-26T18:20:00   \n",
       "15  2012-06-02T00:00:00  2014-06-15T15:11:00  2014-06-15T15:11:00   \n",
       "16  2013-03-11T00:00:00  2014-04-16T12:51:00  2014-04-16T12:51:00   \n",
       "17  2013-12-16T00:00:00  2014-01-09T19:29:00  2014-01-09T19:29:00   \n",
       "18  2014-10-19T00:00:00  2014-12-21T18:20:00  2014-12-21T18:20:00   \n",
       "19  2014-06-02T00:00:00  2014-08-13T15:04:00  2014-08-13T15:04:00   \n",
       "\n",
       "           name outcome_subtype     outcome_type sex_upon_outcome  \n",
       "0           NaN         Partner         Transfer      Intact Male  \n",
       "1          Lucy         Partner         Transfer    Spayed Female  \n",
       "2       *Johnny             NaN         Adoption    Neutered Male  \n",
       "3        Monday         Partner         Transfer    Neutered Male  \n",
       "4           NaN     Rabies Risk       Euthanasia          Unknown  \n",
       "5        *Edgar         Partner         Transfer      Intact Male  \n",
       "6           NaN       Suffering       Euthanasia          Unknown  \n",
       "7         *Ella         Partner         Transfer    Spayed Female  \n",
       "8          Lucy             NaN         Adoption    Intact Female  \n",
       "9        *Frida         Offsite         Adoption    Spayed Female  \n",
       "10  Stella Luna             NaN  Return to Owner    Spayed Female  \n",
       "11        Fancy         Partner         Transfer    Neutered Male  \n",
       "12         Kash          Foster         Adoption    Neutered Male  \n",
       "13        Sandy             NaN  Return to Owner    Spayed Female  \n",
       "14          Shy             NaN  Return to Owner    Neutered Male  \n",
       "15      *Truman         Partner         Transfer    Neutered Male  \n",
       "16        *Newt         Partner         Transfer    Neutered Male  \n",
       "17          NaN         Partner         Transfer      Intact Male  \n",
       "18      *Bonnie          Foster         Adoption    Spayed Female  \n",
       "19         Elsa             NaN         Adoption    Spayed Female  "
      ]
     },
     "execution_count": 3,
     "metadata": {},
     "output_type": "execute_result"
    }
   ],
   "source": [
    "raw_data = pd.read_csv('datafiles/aac_shelter_outcomes.csv')\n",
    "raw_data.head(20)"
   ]
  },
  {
   "cell_type": "code",
   "execution_count": 4,
   "metadata": {},
   "outputs": [
    {
     "name": "stdout",
     "output_type": "stream",
     "text": [
      "<class 'pandas.core.frame.DataFrame'>\n",
      "RangeIndex: 78256 entries, 0 to 78255\n",
      "Data columns (total 12 columns):\n",
      "age_upon_outcome    78248 non-null object\n",
      "animal_id           78256 non-null object\n",
      "animal_type         78256 non-null object\n",
      "breed               78256 non-null object\n",
      "color               78256 non-null object\n",
      "date_of_birth       78256 non-null object\n",
      "datetime            78256 non-null object\n",
      "monthyear           78256 non-null object\n",
      "name                54370 non-null object\n",
      "outcome_subtype     35963 non-null object\n",
      "outcome_type        78244 non-null object\n",
      "sex_upon_outcome    78254 non-null object\n",
      "dtypes: object(12)\n",
      "memory usage: 7.2+ MB\n"
     ]
    }
   ],
   "source": [
    "raw_data.info()"
   ]
  },
  {
   "cell_type": "code",
   "execution_count": 5,
   "metadata": {},
   "outputs": [
    {
     "data": {
      "text/plain": [
       "age_upon_outcome       46\n",
       "animal_id           70855\n",
       "animal_type             5\n",
       "breed                2128\n",
       "color                 525\n",
       "date_of_birth        5869\n",
       "datetime            64361\n",
       "monthyear           64361\n",
       "name                14574\n",
       "outcome_subtype        19\n",
       "outcome_type            9\n",
       "sex_upon_outcome        5\n",
       "dtype: int64"
      ]
     },
     "execution_count": 5,
     "metadata": {},
     "output_type": "execute_result"
    }
   ],
   "source": [
    "raw_data.nunique()"
   ]
  },
  {
   "cell_type": "markdown",
   "metadata": {},
   "source": [
    "## Exploratory Data Analysis"
   ]
  },
  {
   "cell_type": "code",
   "execution_count": 6,
   "metadata": {},
   "outputs": [
    {
     "data": {
      "text/plain": [
       "<matplotlib.axes._subplots.AxesSubplot at 0x105875278>"
      ]
     },
     "execution_count": 6,
     "metadata": {},
     "output_type": "execute_result"
    },
    {
     "data": {
      "image/png": "[encoded data removed]",
      "text/plain": [
       "<matplotlib.figure.Figure at 0x10a888128>"
      ]
     },
     "metadata": {},
     "output_type": "display_data"
    }
   ],
   "source": [
    "plt.figure(figsize=(12,4))\n",
    "sns.countplot(x='outcome_type', data=raw_data, palette='Set3_r')"
   ]
  },
  {
   "cell_type": "code",
   "execution_count": 7,
   "metadata": {},
   "outputs": [
    {
     "data": {
      "text/plain": [
       "outcome_type  outcome_subtype    \n",
       "Adoption      Barn                       1\n",
       "              Foster                  5558\n",
       "              Offsite                  367\n",
       "Died          At Vet                    33\n",
       "              Enroute                   45\n",
       "              In Foster                164\n",
       "              In Kennel                335\n",
       "              In Surgery                16\n",
       "Euthanasia    Aggressive               506\n",
       "              At Vet                    26\n",
       "              Behavior                 142\n",
       "              Court/Investigation       18\n",
       "              Medical                  259\n",
       "              Rabies Risk             2417\n",
       "              Suffering               2514\n",
       "              Underage                  28\n",
       "Missing       In Foster                 18\n",
       "              In Kennel                  8\n",
       "              Possible Theft             9\n",
       "Transfer      Barn                       2\n",
       "              Partner                19660\n",
       "              SCRP                    3211\n",
       "              Snr                      626\n",
       "dtype: int64"
      ]
     },
     "execution_count": 7,
     "metadata": {},
     "output_type": "execute_result"
    }
   ],
   "source": [
    "raw_data.groupby(['outcome_type','outcome_subtype']).size()"
   ]
  },
  {
   "cell_type": "markdown",
   "metadata": {},
   "source": [
    "Note that adoption subtype NA doesn't seem to be counted in subtype.\n",
    "\n",
    "SCRP - Stray cat release program: http://www.maddiesfund.org/austin-animal-services-stray-cat-return-program.htm\n",
    "Snr - Senior?"
   ]
  },
  {
   "cell_type": "code",
   "execution_count": 8,
   "metadata": {},
   "outputs": [
    {
     "data": {
      "text/plain": [
       "Dog          44242\n",
       "Cat          29422\n",
       "Other         4249\n",
       "Bird           334\n",
       "Livestock        9\n",
       "Name: animal_type, dtype: int64"
      ]
     },
     "execution_count": 8,
     "metadata": {},
     "output_type": "execute_result"
    }
   ],
   "source": [
    "raw_data['animal_type'].value_counts()"
   ]
  },
  {
   "cell_type": "code",
   "execution_count": 9,
   "metadata": {},
   "outputs": [
    {
     "data": {
      "text/plain": [
       "<matplotlib.axes._subplots.AxesSubplot at 0x10a8b5128>"
      ]
     },
     "execution_count": 9,
     "metadata": {},
     "output_type": "execute_result"
    },
    {
     "data": {
      "image/png": "[encoded data removed]",
      "text/plain": [
       "<matplotlib.figure.Figure at 0x1047b43c8>"
      ]
     },
     "metadata": {},
     "output_type": "display_data"
    }
   ],
   "source": [
    "sns.countplot(x='animal_type', data=raw_data, palette='Set3_r')"
   ]
  },
  {
   "cell_type": "code",
   "execution_count": 10,
   "metadata": {},
   "outputs": [
    {
     "data": {
      "image/png": "[encoded data removed]",
      "text/plain": [
       "<matplotlib.figure.Figure at 0x10a8fa160>"
      ]
     },
     "metadata": {},
     "output_type": "display_data"
    }
   ],
   "source": [
    "plt.figure(figsize=(12,6))\n",
    "sns.countplot(data=raw_data,\n",
    "              x='animal_type',\n",
    "              hue='outcome_type',\n",
    "              palette='Set3')\n",
    "plt.legend(loc='upper right')\n",
    "plt.show()"
   ]
  },
  {
   "cell_type": "raw",
   "metadata": {},
   "source": [
    "Bar graph with percents?"
   ]
  },
  {
   "cell_type": "code",
   "execution_count": 11,
   "metadata": {},
   "outputs": [
    {
     "data": {
      "image/png": "[encoded data removed]",
      "text/plain": [
       "<matplotlib.figure.Figure at 0x10bfd7b38>"
      ]
     },
     "metadata": {},
     "output_type": "display_data"
    }
   ],
   "source": [
    "plt.figure(figsize=(12,6))\n",
    "sns.countplot(data=raw_data,\n",
    "              x='sex_upon_outcome',\n",
    "              hue='outcome_type',\n",
    "              palette='Set3')\n",
    "plt.legend(loc='upper right')\n",
    "plt.show()"
   ]
  },
  {
   "cell_type": "code",
   "execution_count": 12,
   "metadata": {},
   "outputs": [
    {
     "data": {
      "text/plain": [
       "<seaborn.axisgrid.FacetGrid at 0x1098cdcf8>"
      ]
     },
     "execution_count": 12,
     "metadata": {},
     "output_type": "execute_result"
    },
    {
     "data": {
      "image/png": "[encoded data removed]",
      "text/plain": [
       "<matplotlib.figure.Figure at 0x10a8de438>"
      ]
     },
     "metadata": {},
     "output_type": "display_data"
    }
   ],
   "source": [
    "# plt.figure(figsize=(12,10))\n",
    "# sns.countplot(y=data['sex_upon_outcome'], \n",
    "#                   palette='rainbow',\n",
    "#                   hue=data['outcome_type'])\n",
    "# plt.show()\n",
    "#data['sex_upon_outcome'].value_counts()\n",
    "g = sns.FacetGrid(raw_data, row=\"sex_upon_outcome\", aspect=5)\n",
    "g.map(sns.countplot, 'outcome_type', palette='Set3')\n",
    "#x = data[['sex_upon_outcome', 'outcome_type']].groupby(by=['sex_upon_outcome', 'outcome_type']).head()\n",
    "#x.value_counts()"
   ]
  },
  {
   "cell_type": "markdown",
   "metadata": {},
   "source": [
    "Why does this graph look different than the one above it?"
   ]
  },
  {
   "cell_type": "markdown",
   "metadata": {},
   "source": [
    "## Feature Engineering\n",
    "\n",
    "1. Name: Name vs no name\n",
    "2. Sex: M vs F vs unknown\n",
    "3. Intact: Intact vs not vs unknown\n",
    "4. Age in days\n",
    "5. Kitten/Puppy vs adult\n",
    "5. Color\n",
    "6. Breed\n",
    "7. Mix vs no mix\n",
    "8. Month \n",
    "9. Time of year"
   ]
  },
  {
   "cell_type": "markdown",
   "metadata": {},
   "source": [
    "### Data cleaning\n",
    "\n",
    "There are 12 entries that do not have an outcome type.  Since that is the basis of what we are interested in, I am going to remove these rows."
   ]
  },
  {
   "cell_type": "code",
   "execution_count": 13,
   "metadata": {},
   "outputs": [
    {
     "data": {
      "text/plain": [
       "12"
      ]
     },
     "execution_count": 13,
     "metadata": {},
     "output_type": "execute_result"
    }
   ],
   "source": [
    "raw_data.outcome_type.isnull().sum()"
   ]
  },
  {
   "cell_type": "code",
   "execution_count": 14,
   "metadata": {},
   "outputs": [],
   "source": [
    "raw_data = raw_data[pd.notnull(raw_data['outcome_type'])]"
   ]
  },
  {
   "cell_type": "markdown",
   "metadata": {},
   "source": [
    "### Adoption Outcome - Binary\n",
    "I want to create an outcome feature that just captures whether or not an animal gets adopted. "
   ]
  },
  {
   "cell_type": "code",
   "execution_count": 15,
   "metadata": {},
   "outputs": [],
   "source": [
    "raw_data['adopt_bi'] = np.where(raw_data['outcome_type'] == 'Adoption', 1, 0)"
   ]
  },
  {
   "cell_type": "markdown",
   "metadata": {},
   "source": [
    "### Name\n",
    "\n",
    "Does naming an animal increase its chances of getting adopted?  To assess this, I am creating feature in which animals are categorized as with or without names. "
   ]
  },
  {
   "cell_type": "code",
   "execution_count": 16,
   "metadata": {},
   "outputs": [],
   "source": [
    "raw_data['name_bi'] = np.where(raw_data['name'].isnull(), 0, 1)"
   ]
  },
  {
   "cell_type": "markdown",
   "metadata": {},
   "source": [
    "### Sex and Intact\n",
    "\n",
    "The raw data has the animals \"intactness\" and its sex in one category.  It may be helpful to split it into two for our model."
   ]
  },
  {
   "cell_type": "code",
   "execution_count": 17,
   "metadata": {},
   "outputs": [
    {
     "data": {
      "text/plain": [
       "Neutered Male    27783\n",
       "Spayed Female    25203\n",
       "Intact Male       9547\n",
       "Intact Female     9140\n",
       "Unknown           6570\n",
       "Name: sex_upon_outcome, dtype: int64"
      ]
     },
     "execution_count": 17,
     "metadata": {},
     "output_type": "execute_result"
    }
   ],
   "source": [
    "raw_data.sex_upon_outcome.value_counts()"
   ]
  },
  {
   "cell_type": "code",
   "execution_count": 18,
   "metadata": {},
   "outputs": [
    {
     "data": {
      "text/plain": [
       "1"
      ]
     },
     "execution_count": 18,
     "metadata": {},
     "output_type": "execute_result"
    }
   ],
   "source": [
    "raw_data.sex_upon_outcome.isnull().sum()"
   ]
  },
  {
   "cell_type": "markdown",
   "metadata": {},
   "source": [
    "There is a pretty significant amount of animals with unknown sexes.  Too many entries to just remove them outright.  I believe the best option is create an unknown category within Sex and Intact.  There are also two rows with null values.  We will assign these as unknown."
   ]
  },
  {
   "cell_type": "code",
   "execution_count": 19,
   "metadata": {},
   "outputs": [],
   "source": [
    "# Assigning null value as Unknown\n",
    "raw_data['sex_upon_outcome'].fillna('Unknown', inplace=True)"
   ]
  },
  {
   "cell_type": "code",
   "execution_count": 20,
   "metadata": {},
   "outputs": [],
   "source": [
    "raw_data['male'] = raw_data['sex_upon_outcome'].apply(lambda x: 1 if 'Male' in x else 2 if 'Unknown' in x else 0)"
   ]
  },
  {
   "cell_type": "code",
   "execution_count": 21,
   "metadata": {},
   "outputs": [],
   "source": [
    "raw_data['intact'] = raw_data['sex_upon_outcome'].apply(lambda x: 1 if 'Intact' in x else 2 if 'Unknown' in x else 0)"
   ]
  },
  {
   "cell_type": "markdown",
   "metadata": {},
   "source": [
    "### Age in Days, Years\n",
    "Currently, age_upon_outcome is listed as a string.  I would like to convert this into days so we can plug it.  We can do this by spliting the string by the number and the time period and multiplying it by the correct factor to get the number in days."
   ]
  },
  {
   "cell_type": "code",
   "execution_count": 22,
   "metadata": {},
   "outputs": [
    {
     "data": {
      "text/plain": [
       "6"
      ]
     },
     "execution_count": 22,
     "metadata": {},
     "output_type": "execute_result"
    }
   ],
   "source": [
    "raw_data.age_upon_outcome.isnull().sum()"
   ]
  },
  {
   "cell_type": "markdown",
   "metadata": {},
   "source": [
    "There are 8 nulls in the age_upon_outcome column.  This is a relatively small number of missing data points, so we will fill in the nulls with the most common value"
   ]
  },
  {
   "cell_type": "code",
   "execution_count": 23,
   "metadata": {},
   "outputs": [],
   "source": [
    "raw_data['age_upon_outcome'].fillna(raw_data['age_upon_outcome'].value_counts().index[0], inplace=True)"
   ]
  },
  {
   "cell_type": "markdown",
   "metadata": {},
   "source": [
    "Alright, now we can split the string and convert it into days!"
   ]
  },
  {
   "cell_type": "code",
   "execution_count": 24,
   "metadata": {},
   "outputs": [],
   "source": [
    "# Spliting the string and storing it into different columns\n",
    "raw_data['number'] = raw_data['age_upon_outcome'].str.split(' ').str[0].astype(int)\n",
    "raw_data['time_period'] = raw_data['age_upon_outcome'].str.split(' ').str[1]"
   ]
  },
  {
   "cell_type": "code",
   "execution_count": 25,
   "metadata": {},
   "outputs": [],
   "source": [
    "raw_data['time_period'] = np.where(raw_data['time_period'].str.contains('day'), 1, \n",
    "                                   np.where(raw_data['time_period'].str.contains('week'), 7, \n",
    "                                            np.where(raw_data['time_period'].str.contains('month'), 30, \n",
    "                                                     np.where(raw_data['time_period'].str.contains('year'), 365, 0)))).astype(int)\n"
   ]
  },
  {
   "cell_type": "code",
   "execution_count": 26,
   "metadata": {},
   "outputs": [],
   "source": [
    "# Now, multply to get the age in days and years!\n",
    "\n",
    "raw_data['outcome_age_days'] = raw_data['number'] * raw_data['time_period']\n",
    "raw_data['outcome_age_years'] = (raw_data['outcome_age_days'] / 365).round(5)"
   ]
  },
  {
   "cell_type": "code",
   "execution_count": 27,
   "metadata": {},
   "outputs": [
    {
     "data": {
      "text/html": [
       "<div>\n",
       "<style>\n",
       "    .dataframe thead tr:only-child th {\n",
       "        text-align: right;\n",
       "    }\n",
       "\n",
       "    .dataframe thead th {\n",
       "        text-align: left;\n",
       "    }\n",
       "\n",
       "    .dataframe tbody tr th {\n",
       "        vertical-align: top;\n",
       "    }\n",
       "</style>\n",
       "<table border=\"1\" class=\"dataframe\">\n",
       "  <thead>\n",
       "    <tr style=\"text-align: right;\">\n",
       "      <th></th>\n",
       "      <th>age_upon_outcome</th>\n",
       "      <th>animal_id</th>\n",
       "      <th>animal_type</th>\n",
       "      <th>breed</th>\n",
       "      <th>color</th>\n",
       "      <th>date_of_birth</th>\n",
       "      <th>datetime</th>\n",
       "      <th>monthyear</th>\n",
       "      <th>name</th>\n",
       "      <th>outcome_subtype</th>\n",
       "      <th>outcome_type</th>\n",
       "      <th>sex_upon_outcome</th>\n",
       "      <th>adopt_bi</th>\n",
       "      <th>name_bi</th>\n",
       "      <th>male</th>\n",
       "      <th>intact</th>\n",
       "      <th>number</th>\n",
       "      <th>time_period</th>\n",
       "      <th>outcome_age_days</th>\n",
       "      <th>outcome_age_years</th>\n",
       "    </tr>\n",
       "  </thead>\n",
       "  <tbody>\n",
       "    <tr>\n",
       "      <th>0</th>\n",
       "      <td>2 weeks</td>\n",
       "      <td>A684346</td>\n",
       "      <td>Cat</td>\n",
       "      <td>Domestic Shorthair Mix</td>\n",
       "      <td>Orange Tabby</td>\n",
       "      <td>2014-07-07T00:00:00</td>\n",
       "      <td>2014-07-22T16:04:00</td>\n",
       "      <td>2014-07-22T16:04:00</td>\n",
       "      <td>NaN</td>\n",
       "      <td>Partner</td>\n",
       "      <td>Transfer</td>\n",
       "      <td>Intact Male</td>\n",
       "      <td>0</td>\n",
       "      <td>0</td>\n",
       "      <td>1</td>\n",
       "      <td>1</td>\n",
       "      <td>2</td>\n",
       "      <td>7</td>\n",
       "      <td>14</td>\n",
       "      <td>0.03836</td>\n",
       "    </tr>\n",
       "    <tr>\n",
       "      <th>1</th>\n",
       "      <td>1 year</td>\n",
       "      <td>A666430</td>\n",
       "      <td>Dog</td>\n",
       "      <td>Beagle Mix</td>\n",
       "      <td>White/Brown</td>\n",
       "      <td>2012-11-06T00:00:00</td>\n",
       "      <td>2013-11-07T11:47:00</td>\n",
       "      <td>2013-11-07T11:47:00</td>\n",
       "      <td>Lucy</td>\n",
       "      <td>Partner</td>\n",
       "      <td>Transfer</td>\n",
       "      <td>Spayed Female</td>\n",
       "      <td>0</td>\n",
       "      <td>1</td>\n",
       "      <td>0</td>\n",
       "      <td>0</td>\n",
       "      <td>1</td>\n",
       "      <td>365</td>\n",
       "      <td>365</td>\n",
       "      <td>1.00000</td>\n",
       "    </tr>\n",
       "    <tr>\n",
       "      <th>2</th>\n",
       "      <td>1 year</td>\n",
       "      <td>A675708</td>\n",
       "      <td>Dog</td>\n",
       "      <td>Pit Bull</td>\n",
       "      <td>Blue/White</td>\n",
       "      <td>2013-03-31T00:00:00</td>\n",
       "      <td>2014-06-03T14:20:00</td>\n",
       "      <td>2014-06-03T14:20:00</td>\n",
       "      <td>*Johnny</td>\n",
       "      <td>NaN</td>\n",
       "      <td>Adoption</td>\n",
       "      <td>Neutered Male</td>\n",
       "      <td>1</td>\n",
       "      <td>1</td>\n",
       "      <td>1</td>\n",
       "      <td>0</td>\n",
       "      <td>1</td>\n",
       "      <td>365</td>\n",
       "      <td>365</td>\n",
       "      <td>1.00000</td>\n",
       "    </tr>\n",
       "    <tr>\n",
       "      <th>3</th>\n",
       "      <td>9 years</td>\n",
       "      <td>A680386</td>\n",
       "      <td>Dog</td>\n",
       "      <td>Miniature Schnauzer Mix</td>\n",
       "      <td>White</td>\n",
       "      <td>2005-06-02T00:00:00</td>\n",
       "      <td>2014-06-15T15:50:00</td>\n",
       "      <td>2014-06-15T15:50:00</td>\n",
       "      <td>Monday</td>\n",
       "      <td>Partner</td>\n",
       "      <td>Transfer</td>\n",
       "      <td>Neutered Male</td>\n",
       "      <td>0</td>\n",
       "      <td>1</td>\n",
       "      <td>1</td>\n",
       "      <td>0</td>\n",
       "      <td>9</td>\n",
       "      <td>365</td>\n",
       "      <td>3285</td>\n",
       "      <td>9.00000</td>\n",
       "    </tr>\n",
       "    <tr>\n",
       "      <th>4</th>\n",
       "      <td>5 months</td>\n",
       "      <td>A683115</td>\n",
       "      <td>Other</td>\n",
       "      <td>Bat Mix</td>\n",
       "      <td>Brown</td>\n",
       "      <td>2014-01-07T00:00:00</td>\n",
       "      <td>2014-07-07T14:04:00</td>\n",
       "      <td>2014-07-07T14:04:00</td>\n",
       "      <td>NaN</td>\n",
       "      <td>Rabies Risk</td>\n",
       "      <td>Euthanasia</td>\n",
       "      <td>Unknown</td>\n",
       "      <td>0</td>\n",
       "      <td>0</td>\n",
       "      <td>2</td>\n",
       "      <td>2</td>\n",
       "      <td>5</td>\n",
       "      <td>30</td>\n",
       "      <td>150</td>\n",
       "      <td>0.41096</td>\n",
       "    </tr>\n",
       "  </tbody>\n",
       "</table>\n",
       "</div>"
      ],
      "text/plain": [
       "  age_upon_outcome animal_id animal_type                    breed  \\\n",
       "0          2 weeks   A684346         Cat   Domestic Shorthair Mix   \n",
       "1           1 year   A666430         Dog               Beagle Mix   \n",
       "2           1 year   A675708         Dog                 Pit Bull   \n",
       "3          9 years   A680386         Dog  Miniature Schnauzer Mix   \n",
       "4         5 months   A683115       Other                  Bat Mix   \n",
       "\n",
       "          color        date_of_birth             datetime  \\\n",
       "0  Orange Tabby  2014-07-07T00:00:00  2014-07-22T16:04:00   \n",
       "1   White/Brown  2012-11-06T00:00:00  2013-11-07T11:47:00   \n",
       "2    Blue/White  2013-03-31T00:00:00  2014-06-03T14:20:00   \n",
       "3         White  2005-06-02T00:00:00  2014-06-15T15:50:00   \n",
       "4         Brown  2014-01-07T00:00:00  2014-07-07T14:04:00   \n",
       "\n",
       "             monthyear     name outcome_subtype outcome_type sex_upon_outcome  \\\n",
       "0  2014-07-22T16:04:00      NaN         Partner     Transfer      Intact Male   \n",
       "1  2013-11-07T11:47:00     Lucy         Partner     Transfer    Spayed Female   \n",
       "2  2014-06-03T14:20:00  *Johnny             NaN     Adoption    Neutered Male   \n",
       "3  2014-06-15T15:50:00   Monday         Partner     Transfer    Neutered Male   \n",
       "4  2014-07-07T14:04:00      NaN     Rabies Risk   Euthanasia          Unknown   \n",
       "\n",
       "   adopt_bi  name_bi  male  intact  number  time_period  outcome_age_days  \\\n",
       "0         0        0     1       1       2            7                14   \n",
       "1         0        1     0       0       1          365               365   \n",
       "2         1        1     1       0       1          365               365   \n",
       "3         0        1     1       0       9          365              3285   \n",
       "4         0        0     2       2       5           30               150   \n",
       "\n",
       "   outcome_age_years  \n",
       "0            0.03836  \n",
       "1            1.00000  \n",
       "2            1.00000  \n",
       "3            9.00000  \n",
       "4            0.41096  "
      ]
     },
     "execution_count": 27,
     "metadata": {},
     "output_type": "execute_result"
    }
   ],
   "source": [
    "raw_data.head()"
   ]
  },
  {
   "cell_type": "markdown",
   "metadata": {},
   "source": [
    "### Outcome times\n",
    "I have a theory that adoptions are more likely to happen in certain times of the year and maybe even certain times of the week. I need to build additional features for these."
   ]
  },
  {
   "cell_type": "code",
   "execution_count": 28,
   "metadata": {},
   "outputs": [],
   "source": [
    "# Converting 'datetime' column into readable date and times.\n",
    "raw_data['datetime'] = pd.to_datetime(raw_data['datetime'])\n",
    "\n",
    "# Extracting month and year data.\n",
    "raw_data['outcome_month'] = raw_data['datetime'].dt.month\n",
    "raw_data['outcome_year'] = raw_data['datetime'].dt.year\n",
    "raw_data['outcome_weekday'] = raw_data['datetime'].dt.weekday_name\n",
    "\n",
    "# Adding additional season column\n",
    "raw_data['outcome_season'] = np.where(raw_data['outcome_month'].between(3,5, inclusive=True), 'spring',\n",
    "                                      np.where(raw_data['outcome_month'].between(6,8, inclusive=True), 'summer',\n",
    "                                               np.where(raw_data['outcome_month'].between(9,11, inclusive=True), 'fall',\n",
    "                                                        np.where(raw_data['outcome_month'].between(3,4, inclusive=True), 'spring','winter'))))"
   ]
  },
  {
   "cell_type": "markdown",
   "metadata": {},
   "source": [
    "### Life Stage\n",
    "It is common knowledge that kittens and puppies are more likely to get adopted than adult cats and dogs, and senior dogs and cats are less likely to be adopted.  It may be useful to include a feature that distinguishes the animals by life stage."
   ]
  },
  {
   "cell_type": "code",
   "execution_count": 29,
   "metadata": {},
   "outputs": [],
   "source": [
    "# We are only considering cats and dogs here, so let's separate these two animal types \n",
    "#  into separate dataframes.  This will also be helpful when tackling the breed and color features.\n",
    "cat_df = raw_data[raw_data['animal_type'] == 'Cat']\n",
    "dog_df = raw_data[raw_data['animal_type'] == 'Dog']"
   ]
  },
  {
   "cell_type": "code",
   "execution_count": 30,
   "metadata": {},
   "outputs": [],
   "source": [
    "# Kittens and puppies become adults at around 6 months, or 180 days.\n",
    "cat_df['baby'] = np.where(cat_df['outcome_age_days'] < 180, 1, 0)\n",
    "dog_df['baby'] = np.where(dog_df['outcome_age_days'] < 180, 1, 0)\n",
    "\n",
    "# Cats and dogs generally become seniors at around 7 years.\n",
    "cat_df['senior'] = np.where(cat_df['outcome_age_years'] >= 7, 1, 0)\n",
    "dog_df['senior'] = np.where(dog_df['outcome_age_years'] >= 7, 1, 0)\n"
   ]
  },
  {
   "cell_type": "code",
   "execution_count": 31,
   "metadata": {},
   "outputs": [
    {
     "data": {
      "text/html": [
       "<div>\n",
       "<style>\n",
       "    .dataframe thead tr:only-child th {\n",
       "        text-align: right;\n",
       "    }\n",
       "\n",
       "    .dataframe thead th {\n",
       "        text-align: left;\n",
       "    }\n",
       "\n",
       "    .dataframe tbody tr th {\n",
       "        vertical-align: top;\n",
       "    }\n",
       "</style>\n",
       "<table border=\"1\" class=\"dataframe\">\n",
       "  <thead>\n",
       "    <tr style=\"text-align: right;\">\n",
       "      <th></th>\n",
       "      <th>age_upon_outcome</th>\n",
       "      <th>animal_id</th>\n",
       "      <th>animal_type</th>\n",
       "      <th>breed</th>\n",
       "      <th>color</th>\n",
       "      <th>date_of_birth</th>\n",
       "      <th>datetime</th>\n",
       "      <th>monthyear</th>\n",
       "      <th>name</th>\n",
       "      <th>outcome_subtype</th>\n",
       "      <th>...</th>\n",
       "      <th>number</th>\n",
       "      <th>time_period</th>\n",
       "      <th>outcome_age_days</th>\n",
       "      <th>outcome_age_years</th>\n",
       "      <th>outcome_month</th>\n",
       "      <th>outcome_year</th>\n",
       "      <th>outcome_weekday</th>\n",
       "      <th>outcome_season</th>\n",
       "      <th>baby</th>\n",
       "      <th>senior</th>\n",
       "    </tr>\n",
       "  </thead>\n",
       "  <tbody>\n",
       "    <tr>\n",
       "      <th>0</th>\n",
       "      <td>2 weeks</td>\n",
       "      <td>A684346</td>\n",
       "      <td>Cat</td>\n",
       "      <td>Domestic Shorthair Mix</td>\n",
       "      <td>Orange Tabby</td>\n",
       "      <td>2014-07-07T00:00:00</td>\n",
       "      <td>2014-07-22 16:04:00</td>\n",
       "      <td>2014-07-22T16:04:00</td>\n",
       "      <td>NaN</td>\n",
       "      <td>Partner</td>\n",
       "      <td>...</td>\n",
       "      <td>2</td>\n",
       "      <td>7</td>\n",
       "      <td>14</td>\n",
       "      <td>0.03836</td>\n",
       "      <td>7</td>\n",
       "      <td>2014</td>\n",
       "      <td>Tuesday</td>\n",
       "      <td>summer</td>\n",
       "      <td>1</td>\n",
       "      <td>0</td>\n",
       "    </tr>\n",
       "    <tr>\n",
       "      <th>8</th>\n",
       "      <td>1 month</td>\n",
       "      <td>A685067</td>\n",
       "      <td>Cat</td>\n",
       "      <td>Domestic Shorthair Mix</td>\n",
       "      <td>Blue Tabby/White</td>\n",
       "      <td>2014-06-16T00:00:00</td>\n",
       "      <td>2014-08-14 18:45:00</td>\n",
       "      <td>2014-08-14T18:45:00</td>\n",
       "      <td>Lucy</td>\n",
       "      <td>NaN</td>\n",
       "      <td>...</td>\n",
       "      <td>1</td>\n",
       "      <td>30</td>\n",
       "      <td>30</td>\n",
       "      <td>0.08219</td>\n",
       "      <td>8</td>\n",
       "      <td>2014</td>\n",
       "      <td>Thursday</td>\n",
       "      <td>summer</td>\n",
       "      <td>1</td>\n",
       "      <td>0</td>\n",
       "    </tr>\n",
       "    <tr>\n",
       "      <th>9</th>\n",
       "      <td>3 months</td>\n",
       "      <td>A678580</td>\n",
       "      <td>Cat</td>\n",
       "      <td>Domestic Shorthair Mix</td>\n",
       "      <td>White/Black</td>\n",
       "      <td>2014-03-26T00:00:00</td>\n",
       "      <td>2014-06-29 17:45:00</td>\n",
       "      <td>2014-06-29T17:45:00</td>\n",
       "      <td>*Frida</td>\n",
       "      <td>Offsite</td>\n",
       "      <td>...</td>\n",
       "      <td>3</td>\n",
       "      <td>30</td>\n",
       "      <td>90</td>\n",
       "      <td>0.24658</td>\n",
       "      <td>6</td>\n",
       "      <td>2014</td>\n",
       "      <td>Sunday</td>\n",
       "      <td>summer</td>\n",
       "      <td>1</td>\n",
       "      <td>0</td>\n",
       "    </tr>\n",
       "    <tr>\n",
       "      <th>10</th>\n",
       "      <td>1 year</td>\n",
       "      <td>A675405</td>\n",
       "      <td>Cat</td>\n",
       "      <td>Domestic Medium Hair Mix</td>\n",
       "      <td>Black/White</td>\n",
       "      <td>2013-03-27T00:00:00</td>\n",
       "      <td>2014-03-28 14:55:00</td>\n",
       "      <td>2014-03-28T14:55:00</td>\n",
       "      <td>Stella Luna</td>\n",
       "      <td>NaN</td>\n",
       "      <td>...</td>\n",
       "      <td>1</td>\n",
       "      <td>365</td>\n",
       "      <td>365</td>\n",
       "      <td>1.00000</td>\n",
       "      <td>3</td>\n",
       "      <td>2014</td>\n",
       "      <td>Friday</td>\n",
       "      <td>spring</td>\n",
       "      <td>0</td>\n",
       "      <td>0</td>\n",
       "    </tr>\n",
       "    <tr>\n",
       "      <th>17</th>\n",
       "      <td>3 weeks</td>\n",
       "      <td>A670420</td>\n",
       "      <td>Cat</td>\n",
       "      <td>Domestic Shorthair Mix</td>\n",
       "      <td>Black/White</td>\n",
       "      <td>2013-12-16T00:00:00</td>\n",
       "      <td>2014-01-09 19:29:00</td>\n",
       "      <td>2014-01-09T19:29:00</td>\n",
       "      <td>NaN</td>\n",
       "      <td>Partner</td>\n",
       "      <td>...</td>\n",
       "      <td>3</td>\n",
       "      <td>7</td>\n",
       "      <td>21</td>\n",
       "      <td>0.05753</td>\n",
       "      <td>1</td>\n",
       "      <td>2014</td>\n",
       "      <td>Thursday</td>\n",
       "      <td>winter</td>\n",
       "      <td>1</td>\n",
       "      <td>0</td>\n",
       "    </tr>\n",
       "  </tbody>\n",
       "</table>\n",
       "<p>5 rows × 26 columns</p>\n",
       "</div>"
      ],
      "text/plain": [
       "   age_upon_outcome animal_id animal_type                     breed  \\\n",
       "0           2 weeks   A684346         Cat    Domestic Shorthair Mix   \n",
       "8           1 month   A685067         Cat    Domestic Shorthair Mix   \n",
       "9          3 months   A678580         Cat    Domestic Shorthair Mix   \n",
       "10           1 year   A675405         Cat  Domestic Medium Hair Mix   \n",
       "17          3 weeks   A670420         Cat    Domestic Shorthair Mix   \n",
       "\n",
       "               color        date_of_birth            datetime  \\\n",
       "0       Orange Tabby  2014-07-07T00:00:00 2014-07-22 16:04:00   \n",
       "8   Blue Tabby/White  2014-06-16T00:00:00 2014-08-14 18:45:00   \n",
       "9        White/Black  2014-03-26T00:00:00 2014-06-29 17:45:00   \n",
       "10       Black/White  2013-03-27T00:00:00 2014-03-28 14:55:00   \n",
       "17       Black/White  2013-12-16T00:00:00 2014-01-09 19:29:00   \n",
       "\n",
       "              monthyear         name outcome_subtype   ...   number  \\\n",
       "0   2014-07-22T16:04:00          NaN         Partner   ...        2   \n",
       "8   2014-08-14T18:45:00         Lucy             NaN   ...        1   \n",
       "9   2014-06-29T17:45:00       *Frida         Offsite   ...        3   \n",
       "10  2014-03-28T14:55:00  Stella Luna             NaN   ...        1   \n",
       "17  2014-01-09T19:29:00          NaN         Partner   ...        3   \n",
       "\n",
       "   time_period  outcome_age_days  outcome_age_years  outcome_month  \\\n",
       "0            7                14            0.03836              7   \n",
       "8           30                30            0.08219              8   \n",
       "9           30                90            0.24658              6   \n",
       "10         365               365            1.00000              3   \n",
       "17           7                21            0.05753              1   \n",
       "\n",
       "    outcome_year  outcome_weekday  outcome_season  baby  senior  \n",
       "0           2014          Tuesday          summer     1       0  \n",
       "8           2014         Thursday          summer     1       0  \n",
       "9           2014           Sunday          summer     1       0  \n",
       "10          2014           Friday          spring     0       0  \n",
       "17          2014         Thursday          winter     1       0  \n",
       "\n",
       "[5 rows x 26 columns]"
      ]
     },
     "execution_count": 31,
     "metadata": {},
     "output_type": "execute_result"
    }
   ],
   "source": [
    "cat_df.head()"
   ]
  },
  {
   "cell_type": "code",
   "execution_count": 32,
   "metadata": {},
   "outputs": [
    {
     "data": {
      "text/html": [
       "<div>\n",
       "<style>\n",
       "    .dataframe thead tr:only-child th {\n",
       "        text-align: right;\n",
       "    }\n",
       "\n",
       "    .dataframe thead th {\n",
       "        text-align: left;\n",
       "    }\n",
       "\n",
       "    .dataframe tbody tr th {\n",
       "        vertical-align: top;\n",
       "    }\n",
       "</style>\n",
       "<table border=\"1\" class=\"dataframe\">\n",
       "  <thead>\n",
       "    <tr style=\"text-align: right;\">\n",
       "      <th></th>\n",
       "      <th>age_upon_outcome</th>\n",
       "      <th>animal_id</th>\n",
       "      <th>animal_type</th>\n",
       "      <th>breed</th>\n",
       "      <th>color</th>\n",
       "      <th>date_of_birth</th>\n",
       "      <th>datetime</th>\n",
       "      <th>monthyear</th>\n",
       "      <th>name</th>\n",
       "      <th>outcome_subtype</th>\n",
       "      <th>...</th>\n",
       "      <th>number</th>\n",
       "      <th>time_period</th>\n",
       "      <th>outcome_age_days</th>\n",
       "      <th>outcome_age_years</th>\n",
       "      <th>outcome_month</th>\n",
       "      <th>outcome_year</th>\n",
       "      <th>outcome_weekday</th>\n",
       "      <th>outcome_season</th>\n",
       "      <th>baby</th>\n",
       "      <th>senior</th>\n",
       "    </tr>\n",
       "  </thead>\n",
       "  <tbody>\n",
       "    <tr>\n",
       "      <th>1</th>\n",
       "      <td>1 year</td>\n",
       "      <td>A666430</td>\n",
       "      <td>Dog</td>\n",
       "      <td>Beagle Mix</td>\n",
       "      <td>White/Brown</td>\n",
       "      <td>2012-11-06T00:00:00</td>\n",
       "      <td>2013-11-07 11:47:00</td>\n",
       "      <td>2013-11-07T11:47:00</td>\n",
       "      <td>Lucy</td>\n",
       "      <td>Partner</td>\n",
       "      <td>...</td>\n",
       "      <td>1</td>\n",
       "      <td>365</td>\n",
       "      <td>365</td>\n",
       "      <td>1.00000</td>\n",
       "      <td>11</td>\n",
       "      <td>2013</td>\n",
       "      <td>Thursday</td>\n",
       "      <td>fall</td>\n",
       "      <td>0</td>\n",
       "      <td>0</td>\n",
       "    </tr>\n",
       "    <tr>\n",
       "      <th>2</th>\n",
       "      <td>1 year</td>\n",
       "      <td>A675708</td>\n",
       "      <td>Dog</td>\n",
       "      <td>Pit Bull</td>\n",
       "      <td>Blue/White</td>\n",
       "      <td>2013-03-31T00:00:00</td>\n",
       "      <td>2014-06-03 14:20:00</td>\n",
       "      <td>2014-06-03T14:20:00</td>\n",
       "      <td>*Johnny</td>\n",
       "      <td>NaN</td>\n",
       "      <td>...</td>\n",
       "      <td>1</td>\n",
       "      <td>365</td>\n",
       "      <td>365</td>\n",
       "      <td>1.00000</td>\n",
       "      <td>6</td>\n",
       "      <td>2014</td>\n",
       "      <td>Tuesday</td>\n",
       "      <td>summer</td>\n",
       "      <td>0</td>\n",
       "      <td>0</td>\n",
       "    </tr>\n",
       "    <tr>\n",
       "      <th>3</th>\n",
       "      <td>9 years</td>\n",
       "      <td>A680386</td>\n",
       "      <td>Dog</td>\n",
       "      <td>Miniature Schnauzer Mix</td>\n",
       "      <td>White</td>\n",
       "      <td>2005-06-02T00:00:00</td>\n",
       "      <td>2014-06-15 15:50:00</td>\n",
       "      <td>2014-06-15T15:50:00</td>\n",
       "      <td>Monday</td>\n",
       "      <td>Partner</td>\n",
       "      <td>...</td>\n",
       "      <td>9</td>\n",
       "      <td>365</td>\n",
       "      <td>3285</td>\n",
       "      <td>9.00000</td>\n",
       "      <td>6</td>\n",
       "      <td>2014</td>\n",
       "      <td>Sunday</td>\n",
       "      <td>summer</td>\n",
       "      <td>0</td>\n",
       "      <td>1</td>\n",
       "    </tr>\n",
       "    <tr>\n",
       "      <th>5</th>\n",
       "      <td>4 months</td>\n",
       "      <td>A664462</td>\n",
       "      <td>Dog</td>\n",
       "      <td>Leonberger Mix</td>\n",
       "      <td>Brown/White</td>\n",
       "      <td>2013-06-03T00:00:00</td>\n",
       "      <td>2013-10-07 13:06:00</td>\n",
       "      <td>2013-10-07T13:06:00</td>\n",
       "      <td>*Edgar</td>\n",
       "      <td>Partner</td>\n",
       "      <td>...</td>\n",
       "      <td>4</td>\n",
       "      <td>30</td>\n",
       "      <td>120</td>\n",
       "      <td>0.32877</td>\n",
       "      <td>10</td>\n",
       "      <td>2013</td>\n",
       "      <td>Monday</td>\n",
       "      <td>fall</td>\n",
       "      <td>1</td>\n",
       "      <td>0</td>\n",
       "    </tr>\n",
       "    <tr>\n",
       "      <th>7</th>\n",
       "      <td>3 years</td>\n",
       "      <td>A692618</td>\n",
       "      <td>Dog</td>\n",
       "      <td>Chihuahua Shorthair Mix</td>\n",
       "      <td>Brown</td>\n",
       "      <td>2011-11-23T00:00:00</td>\n",
       "      <td>2014-12-08 15:55:00</td>\n",
       "      <td>2014-12-08T15:55:00</td>\n",
       "      <td>*Ella</td>\n",
       "      <td>Partner</td>\n",
       "      <td>...</td>\n",
       "      <td>3</td>\n",
       "      <td>365</td>\n",
       "      <td>1095</td>\n",
       "      <td>3.00000</td>\n",
       "      <td>12</td>\n",
       "      <td>2014</td>\n",
       "      <td>Monday</td>\n",
       "      <td>winter</td>\n",
       "      <td>0</td>\n",
       "      <td>0</td>\n",
       "    </tr>\n",
       "  </tbody>\n",
       "</table>\n",
       "<p>5 rows × 26 columns</p>\n",
       "</div>"
      ],
      "text/plain": [
       "  age_upon_outcome animal_id animal_type                    breed  \\\n",
       "1           1 year   A666430         Dog               Beagle Mix   \n",
       "2           1 year   A675708         Dog                 Pit Bull   \n",
       "3          9 years   A680386         Dog  Miniature Schnauzer Mix   \n",
       "5         4 months   A664462         Dog           Leonberger Mix   \n",
       "7          3 years   A692618         Dog  Chihuahua Shorthair Mix   \n",
       "\n",
       "         color        date_of_birth            datetime            monthyear  \\\n",
       "1  White/Brown  2012-11-06T00:00:00 2013-11-07 11:47:00  2013-11-07T11:47:00   \n",
       "2   Blue/White  2013-03-31T00:00:00 2014-06-03 14:20:00  2014-06-03T14:20:00   \n",
       "3        White  2005-06-02T00:00:00 2014-06-15 15:50:00  2014-06-15T15:50:00   \n",
       "5  Brown/White  2013-06-03T00:00:00 2013-10-07 13:06:00  2013-10-07T13:06:00   \n",
       "7        Brown  2011-11-23T00:00:00 2014-12-08 15:55:00  2014-12-08T15:55:00   \n",
       "\n",
       "      name outcome_subtype   ...   number time_period  outcome_age_days  \\\n",
       "1     Lucy         Partner   ...        1         365               365   \n",
       "2  *Johnny             NaN   ...        1         365               365   \n",
       "3   Monday         Partner   ...        9         365              3285   \n",
       "5   *Edgar         Partner   ...        4          30               120   \n",
       "7    *Ella         Partner   ...        3         365              1095   \n",
       "\n",
       "   outcome_age_years  outcome_month  outcome_year  outcome_weekday  \\\n",
       "1            1.00000             11          2013         Thursday   \n",
       "2            1.00000              6          2014          Tuesday   \n",
       "3            9.00000              6          2014           Sunday   \n",
       "5            0.32877             10          2013           Monday   \n",
       "7            3.00000             12          2014           Monday   \n",
       "\n",
       "   outcome_season  baby  senior  \n",
       "1            fall     0       0  \n",
       "2          summer     0       0  \n",
       "3          summer     0       1  \n",
       "5            fall     1       0  \n",
       "7          winter     0       0  \n",
       "\n",
       "[5 rows x 26 columns]"
      ]
     },
     "execution_count": 32,
     "metadata": {},
     "output_type": "execute_result"
    }
   ],
   "source": [
    "dog_df.head()"
   ]
  },
  {
   "cell_type": "markdown",
   "metadata": {},
   "source": [
    "### Breed\n",
    "\n",
    "#### Cats\n",
    "Cat breeds are a little less complicated than dog breeds, so lets start there.\n",
    "Inspiration on how to create the breed and color features can be found here: https://aaronschlegel.me/extraction-feature-engineering-aac-data-requests-pandas.html"
   ]
  },
  {
   "cell_type": "code",
   "execution_count": 33,
   "metadata": {},
   "outputs": [
    {
     "data": {
      "text/plain": [
       "Domestic Shorthair Mix                     23332\n",
       "Domestic Medium Hair Mix                    2323\n",
       "Domestic Longhair Mix                       1228\n",
       "Siamese Mix                                  998\n",
       "Domestic Shorthair                           386\n",
       "American Shorthair Mix                       211\n",
       "Snowshoe Mix                                 148\n",
       "Domestic Medium Hair                         131\n",
       "Maine Coon Mix                               106\n",
       "Manx Mix                                      79\n",
       "Russian Blue Mix                              65\n",
       "Siamese                                       60\n",
       "Domestic Longhair                             45\n",
       "Himalayan Mix                                 32\n",
       "Ragdoll Mix                                   22\n",
       "Persian Mix                                   20\n",
       "Siamese/Domestic Shorthair                    13\n",
       "Bengal Mix                                    12\n",
       "Angora Mix                                    12\n",
       "American Curl Shorthair Mix                   11\n",
       "Maine Coon                                    10\n",
       "Balinese Mix                                  10\n",
       "Japanese Bobtail Mix                          10\n",
       "Persian                                        9\n",
       "Tonkinese Mix                                  8\n",
       "Snowshoe                                       8\n",
       "Bombay Mix                                     7\n",
       "Cymric Mix                                     6\n",
       "British Shorthair Mix                          6\n",
       "Himalayan                                      6\n",
       "                                           ...  \n",
       "Domestic Shorthair/Siamese                     2\n",
       "Munchkin Longhair Mix                          2\n",
       "Munchkin Shorthair Mix                         2\n",
       "Burmese                                        2\n",
       "Manx/Domestic Longhair                         2\n",
       "Birman Mix                                     2\n",
       "Bengal/Domestic Shorthair                      2\n",
       "Domestic Medium Hair/Maine Coon                2\n",
       "Snowshoe/Ragdoll                               2\n",
       "Chartreux Mix                                  2\n",
       "Turkish Van Mix                                2\n",
       "Domestic Longhair/Rex                          2\n",
       "Devon Rex                                      2\n",
       "Snowshoe/Domestic Shorthair                    1\n",
       "Domestic Shorthair/Maine Coon                  1\n",
       "American Wirehair Mix                          1\n",
       "Siamese/Angora                                 1\n",
       "Domestic Shorthair/British Shorthair           1\n",
       "Domestic Shorthair/Manx                        1\n",
       "Havana Brown Mix                               1\n",
       "Ocicat Mix                                     1\n",
       "Domestic Medium Hair/Manx                      1\n",
       "Domestic Shorthair/Abyssinian                  1\n",
       "Domestic Shorthair/Domestic Shorthair          1\n",
       "Manx                                           1\n",
       "Manx/Siamese                                   1\n",
       "Domestic Longhair/Russian Blue                 1\n",
       "Domestic Longhair/Domestic Longhair            1\n",
       "Domestic Shorthair/Domestic Medium Hair        1\n",
       "Angora/Persian                                 1\n",
       "Name: breed, Length: 79, dtype: int64"
      ]
     },
     "execution_count": 33,
     "metadata": {},
     "output_type": "execute_result"
    }
   ],
   "source": [
    "cat_df.breed.value_counts()"
   ]
  },
  {
   "cell_type": "code",
   "execution_count": 34,
   "metadata": {},
   "outputs": [],
   "source": [
    "cat_df['breed'] = cat_df['breed'].str.lower()"
   ]
  },
  {
   "cell_type": "code",
   "execution_count": 35,
   "metadata": {},
   "outputs": [],
   "source": [
    "cat_df['mix'] = np.where(cat_df['breed'].str.contains(\"mix\"), 1, 0)"
   ]
  },
  {
   "cell_type": "code",
   "execution_count": 36,
   "metadata": {},
   "outputs": [],
   "source": [
    "# Dropping \"mix\", replacing \"medium hair\" with \"mediumhair\" for consistency, and lower-casing.\n",
    "\n",
    "cat_df['breed_edit'] = cat_df['breed'].str.replace('mix', '').str.replace('medium hair', 'mediumhair').str.strip()       "
   ]
  },
  {
   "cell_type": "markdown",
   "metadata": {},
   "source": [
    "According to the [Cat Fancier Association](http://cfa.org/Breeds.aspx), there are 42 cat breeds.  We will use these to recategorize our cat breeds."
   ]
  },
  {
   "cell_type": "code",
   "execution_count": 37,
   "metadata": {},
   "outputs": [
    {
     "data": {
      "text/plain": [
       "'abyssinian|american bobtail|american curl|american shorthair|american wirehair|balinese|bengal|birman|bombay|british shorthair|burmese|burmilla|chartreux|colorpoint shorthair|cornish rex|devon rex|egyptian mau|european burmese|exotic|havana brown|japanese bobtail|korat|laperm|maine coon|manx|norwegian forest cat|ocicat|oriental|persian|ragamuffin|ragdoll|russian blue|scottish fold|selkirk rex|siamese|siberian|singapura|somali|tonkinese|turkish angora|turkish van'"
      ]
     },
     "execution_count": 37,
     "metadata": {},
     "output_type": "execute_result"
    }
   ],
   "source": [
    "cfa_breeds = ['Abyssinian', 'American Bobtail', 'American Curl', 'American Shorthair', 'American Wirehair', \n",
    "              'Balinese', 'Bengal', 'Birman', 'Bombay', 'British Shorthair', 'Burmese', 'Burmilla', \n",
    "              'Chartreux', 'Colorpoint Shorthair', 'Cornish Rex', 'Devon Rex', 'Egyptian Mau', 'European Burmese', \n",
    "              'Exotic', 'Havana Brown', 'Japanese Bobtail', 'Korat', 'LaPerm', 'Maine Coon', 'Manx', \n",
    "              'Norwegian Forest Cat', 'Ocicat', 'Oriental', 'Persian', 'Ragamuffin', 'Ragdoll', 'Russian Blue', \n",
    "              'Scottish Fold', 'Selkirk Rex', 'Siamese', 'Siberian', 'Singapura', 'Somali', 'Tonkinese', \n",
    "              'Turkish Angora', 'Turkish Van']\n",
    "\n",
    "cfa_breeds = [i.lower() for i in cfa_breeds]\n",
    "cfa_breeds = '|'.join(cfa_breeds)\n",
    "\n",
    "cfa_breeds"
   ]
  },
  {
   "cell_type": "markdown",
   "metadata": {},
   "source": [
    "Since some cats have two breeds, we will create a breed1 and breed2 column.\n",
    "We will then distinguish whether the cat is a cfa recongized breed or domestic in separate features.  CFA breeds will hold precedence over the domestic breeds. (e.g. A Siamese/domestic shorthair will categorized as a cfa breed.)"
   ]
  },
  {
   "cell_type": "code",
   "execution_count": 38,
   "metadata": {},
   "outputs": [],
   "source": [
    "# Splitting records with two breeds into two columns for each breed.\n",
    "cat_df = pd.concat([cat_df, \n",
    "                     cat_df['breed_edit'].str.split('/', expand=True).rename(columns={0:'breed1', 1:'breed2'})], \n",
    "                    axis=1)\n",
    "\n",
    "# If the columns is in the cfa list, mark as 1.\n",
    "cat_df['cfa_breed'] = np.where((cat_df['breed1'].str.contains(cfa_breeds)) | \n",
    "                                (cat_df['breed2'].str.contains(cfa_breeds)), \n",
    "                                1, 0)\n",
    "\n",
    "# If neither breed1 or breed2 columns contain a cfa recognized breed, mark as domestic.\n",
    "cat_df['domestic_breed'] = np.where((cat_df['breed1'].str.contains(cfa_breeds) == False) | \n",
    "                                     (cat_df['breed2'].str.contains(cfa_breeds) == False), \n",
    "                                     1, 0)"
   ]
  },
  {
   "cell_type": "code",
   "execution_count": 39,
   "metadata": {},
   "outputs": [
    {
     "data": {
      "text/html": [
       "<div>\n",
       "<style>\n",
       "    .dataframe thead tr:only-child th {\n",
       "        text-align: right;\n",
       "    }\n",
       "\n",
       "    .dataframe thead th {\n",
       "        text-align: left;\n",
       "    }\n",
       "\n",
       "    .dataframe tbody tr th {\n",
       "        vertical-align: top;\n",
       "    }\n",
       "</style>\n",
       "<table border=\"1\" class=\"dataframe\">\n",
       "  <thead>\n",
       "    <tr style=\"text-align: right;\">\n",
       "      <th></th>\n",
       "      <th>age_upon_outcome</th>\n",
       "      <th>animal_id</th>\n",
       "      <th>animal_type</th>\n",
       "      <th>breed</th>\n",
       "      <th>color</th>\n",
       "      <th>date_of_birth</th>\n",
       "      <th>datetime</th>\n",
       "      <th>monthyear</th>\n",
       "      <th>name</th>\n",
       "      <th>outcome_subtype</th>\n",
       "      <th>...</th>\n",
       "      <th>outcome_weekday</th>\n",
       "      <th>outcome_season</th>\n",
       "      <th>baby</th>\n",
       "      <th>senior</th>\n",
       "      <th>mix</th>\n",
       "      <th>breed_edit</th>\n",
       "      <th>breed1</th>\n",
       "      <th>breed2</th>\n",
       "      <th>cfa_breed</th>\n",
       "      <th>domestic_breed</th>\n",
       "    </tr>\n",
       "  </thead>\n",
       "  <tbody>\n",
       "    <tr>\n",
       "      <th>0</th>\n",
       "      <td>2 weeks</td>\n",
       "      <td>A684346</td>\n",
       "      <td>Cat</td>\n",
       "      <td>domestic shorthair mix</td>\n",
       "      <td>Orange Tabby</td>\n",
       "      <td>2014-07-07T00:00:00</td>\n",
       "      <td>2014-07-22 16:04:00</td>\n",
       "      <td>2014-07-22T16:04:00</td>\n",
       "      <td>NaN</td>\n",
       "      <td>Partner</td>\n",
       "      <td>...</td>\n",
       "      <td>Tuesday</td>\n",
       "      <td>summer</td>\n",
       "      <td>1</td>\n",
       "      <td>0</td>\n",
       "      <td>1</td>\n",
       "      <td>domestic shorthair</td>\n",
       "      <td>domestic shorthair</td>\n",
       "      <td>None</td>\n",
       "      <td>0</td>\n",
       "      <td>1</td>\n",
       "    </tr>\n",
       "    <tr>\n",
       "      <th>8</th>\n",
       "      <td>1 month</td>\n",
       "      <td>A685067</td>\n",
       "      <td>Cat</td>\n",
       "      <td>domestic shorthair mix</td>\n",
       "      <td>Blue Tabby/White</td>\n",
       "      <td>2014-06-16T00:00:00</td>\n",
       "      <td>2014-08-14 18:45:00</td>\n",
       "      <td>2014-08-14T18:45:00</td>\n",
       "      <td>Lucy</td>\n",
       "      <td>NaN</td>\n",
       "      <td>...</td>\n",
       "      <td>Thursday</td>\n",
       "      <td>summer</td>\n",
       "      <td>1</td>\n",
       "      <td>0</td>\n",
       "      <td>1</td>\n",
       "      <td>domestic shorthair</td>\n",
       "      <td>domestic shorthair</td>\n",
       "      <td>None</td>\n",
       "      <td>0</td>\n",
       "      <td>1</td>\n",
       "    </tr>\n",
       "    <tr>\n",
       "      <th>9</th>\n",
       "      <td>3 months</td>\n",
       "      <td>A678580</td>\n",
       "      <td>Cat</td>\n",
       "      <td>domestic shorthair mix</td>\n",
       "      <td>White/Black</td>\n",
       "      <td>2014-03-26T00:00:00</td>\n",
       "      <td>2014-06-29 17:45:00</td>\n",
       "      <td>2014-06-29T17:45:00</td>\n",
       "      <td>*Frida</td>\n",
       "      <td>Offsite</td>\n",
       "      <td>...</td>\n",
       "      <td>Sunday</td>\n",
       "      <td>summer</td>\n",
       "      <td>1</td>\n",
       "      <td>0</td>\n",
       "      <td>1</td>\n",
       "      <td>domestic shorthair</td>\n",
       "      <td>domestic shorthair</td>\n",
       "      <td>None</td>\n",
       "      <td>0</td>\n",
       "      <td>1</td>\n",
       "    </tr>\n",
       "    <tr>\n",
       "      <th>10</th>\n",
       "      <td>1 year</td>\n",
       "      <td>A675405</td>\n",
       "      <td>Cat</td>\n",
       "      <td>domestic medium hair mix</td>\n",
       "      <td>Black/White</td>\n",
       "      <td>2013-03-27T00:00:00</td>\n",
       "      <td>2014-03-28 14:55:00</td>\n",
       "      <td>2014-03-28T14:55:00</td>\n",
       "      <td>Stella Luna</td>\n",
       "      <td>NaN</td>\n",
       "      <td>...</td>\n",
       "      <td>Friday</td>\n",
       "      <td>spring</td>\n",
       "      <td>0</td>\n",
       "      <td>0</td>\n",
       "      <td>1</td>\n",
       "      <td>domestic mediumhair</td>\n",
       "      <td>domestic mediumhair</td>\n",
       "      <td>None</td>\n",
       "      <td>0</td>\n",
       "      <td>1</td>\n",
       "    </tr>\n",
       "    <tr>\n",
       "      <th>17</th>\n",
       "      <td>3 weeks</td>\n",
       "      <td>A670420</td>\n",
       "      <td>Cat</td>\n",
       "      <td>domestic shorthair mix</td>\n",
       "      <td>Black/White</td>\n",
       "      <td>2013-12-16T00:00:00</td>\n",
       "      <td>2014-01-09 19:29:00</td>\n",
       "      <td>2014-01-09T19:29:00</td>\n",
       "      <td>NaN</td>\n",
       "      <td>Partner</td>\n",
       "      <td>...</td>\n",
       "      <td>Thursday</td>\n",
       "      <td>winter</td>\n",
       "      <td>1</td>\n",
       "      <td>0</td>\n",
       "      <td>1</td>\n",
       "      <td>domestic shorthair</td>\n",
       "      <td>domestic shorthair</td>\n",
       "      <td>None</td>\n",
       "      <td>0</td>\n",
       "      <td>1</td>\n",
       "    </tr>\n",
       "  </tbody>\n",
       "</table>\n",
       "<p>5 rows × 32 columns</p>\n",
       "</div>"
      ],
      "text/plain": [
       "   age_upon_outcome animal_id animal_type                     breed  \\\n",
       "0           2 weeks   A684346         Cat    domestic shorthair mix   \n",
       "8           1 month   A685067         Cat    domestic shorthair mix   \n",
       "9          3 months   A678580         Cat    domestic shorthair mix   \n",
       "10           1 year   A675405         Cat  domestic medium hair mix   \n",
       "17          3 weeks   A670420         Cat    domestic shorthair mix   \n",
       "\n",
       "               color        date_of_birth            datetime  \\\n",
       "0       Orange Tabby  2014-07-07T00:00:00 2014-07-22 16:04:00   \n",
       "8   Blue Tabby/White  2014-06-16T00:00:00 2014-08-14 18:45:00   \n",
       "9        White/Black  2014-03-26T00:00:00 2014-06-29 17:45:00   \n",
       "10       Black/White  2013-03-27T00:00:00 2014-03-28 14:55:00   \n",
       "17       Black/White  2013-12-16T00:00:00 2014-01-09 19:29:00   \n",
       "\n",
       "              monthyear         name outcome_subtype       ...        \\\n",
       "0   2014-07-22T16:04:00          NaN         Partner       ...         \n",
       "8   2014-08-14T18:45:00         Lucy             NaN       ...         \n",
       "9   2014-06-29T17:45:00       *Frida         Offsite       ...         \n",
       "10  2014-03-28T14:55:00  Stella Luna             NaN       ...         \n",
       "17  2014-01-09T19:29:00          NaN         Partner       ...         \n",
       "\n",
       "   outcome_weekday outcome_season  baby  senior  mix           breed_edit  \\\n",
       "0          Tuesday         summer     1       0    1   domestic shorthair   \n",
       "8         Thursday         summer     1       0    1   domestic shorthair   \n",
       "9           Sunday         summer     1       0    1   domestic shorthair   \n",
       "10          Friday         spring     0       0    1  domestic mediumhair   \n",
       "17        Thursday         winter     1       0    1   domestic shorthair   \n",
       "\n",
       "                 breed1  breed2  cfa_breed  domestic_breed  \n",
       "0    domestic shorthair    None          0               1  \n",
       "8    domestic shorthair    None          0               1  \n",
       "9    domestic shorthair    None          0               1  \n",
       "10  domestic mediumhair    None          0               1  \n",
       "17   domestic shorthair    None          0               1  \n",
       "\n",
       "[5 rows x 32 columns]"
      ]
     },
     "execution_count": 39,
     "metadata": {},
     "output_type": "execute_result"
    }
   ],
   "source": [
    "cat_df.head()"
   ]
  },
  {
   "cell_type": "markdown",
   "metadata": {},
   "source": [
    "#### Dogs\n",
    "There are a lot more dog breeds than cat breeds.  339 dog breeds, to be exact.  It may be helpful to categorize whether or not the dog is a mix, along with the different breeds. "
   ]
  },
  {
   "cell_type": "code",
   "execution_count": 40,
   "metadata": {},
   "outputs": [
    {
     "data": {
      "text/plain": [
       "Pit Bull Mix                                    6133\n",
       "Chihuahua Shorthair Mix                         4733\n",
       "Labrador Retriever Mix                          4607\n",
       "German Shepherd Mix                             1892\n",
       "Australian Cattle Dog Mix                       1059\n",
       "Dachshund Mix                                    798\n",
       "Boxer Mix                                        674\n",
       "Miniature Poodle Mix                             648\n",
       "Border Collie Mix                                646\n",
       "Catahoula Mix                                    476\n",
       "Rat Terrier Mix                                  456\n",
       "Australian Shepherd Mix                          454\n",
       "Yorkshire Terrier Mix                            437\n",
       "Siberian Husky Mix                               418\n",
       "Jack Russell Terrier Mix                         416\n",
       "Miniature Schnauzer Mix                          392\n",
       "Beagle Mix                                       384\n",
       "Chihuahua Longhair Mix                           358\n",
       "Staffordshire Mix                                350\n",
       "Cairn Terrier Mix                                330\n",
       "Great Pyrenees Mix                               330\n",
       "Pointer Mix                                      325\n",
       "Rottweiler Mix                                   321\n",
       "American Bulldog Mix                             314\n",
       "Shih Tzu Mix                                     282\n",
       "Anatol Shepherd Mix                              252\n",
       "Chihuahua Shorthair/Dachshund                    247\n",
       "Plott Hound Mix                                  246\n",
       "Black Mouth Cur Mix                              241\n",
       "Australian Kelpie Mix                            240\n",
       "                                                ... \n",
       "Miniature Schnauzer/Lhasa Apso                     1\n",
       "Basset Hound/Dachshund                             1\n",
       "Black/Tan Hound/Siberian Husky                     1\n",
       "Siberian Husky/Beagle                              1\n",
       "Siberian Husky/Cardigan Welsh Corgi                1\n",
       "Feist/Chihuahua Shorthair                          1\n",
       "Smooth Fox Terrier                                 1\n",
       "Border Collie/American Staffordshire Terrier       1\n",
       "Miniature Pinscher/Pomeranian                      1\n",
       "German Shepherd/Ibizan Hound                       1\n",
       "Black Mouth Cur/Rhod Ridgeback                     1\n",
       "Basenji/Chow Chow                                  1\n",
       "English Bulldog/American Bulldog                   1\n",
       "Pug/Miniature Pinscher                             1\n",
       "Beagle/Border Terrier                              1\n",
       "Hovawart Mix                                       1\n",
       "Collie Smooth/Jack Russell Terrier                 1\n",
       "Labrador Retriever/St. Bernard Smooth Coat         1\n",
       "Cairn Terrier/Border Terrier                       1\n",
       "Shetland Sheepdog/Brittany                         1\n",
       "Toy Poodle/Cocker Spaniel                          1\n",
       "Dachshund Stan Mix                                 1\n",
       "Dachshund/Border Collie                            1\n",
       "Labrador Retriever/Akita                           1\n",
       "Blue Lacy/Black Mouth Cur                          1\n",
       "Pug/Pomeranian                                     1\n",
       "Cavalier Span/Papillon                             1\n",
       "Soft Coated Wheaten Terrier/Standard Poodle        1\n",
       "American Bulldog/Blue Lacy                         1\n",
       "Siberian Husky/Great Pyrenees                      1\n",
       "Name: breed, Length: 1893, dtype: int64"
      ]
     },
     "execution_count": 40,
     "metadata": {},
     "output_type": "execute_result"
    }
   ],
   "source": [
    "dog_df.breed.value_counts()"
   ]
  },
  {
   "cell_type": "code",
   "execution_count": 41,
   "metadata": {},
   "outputs": [],
   "source": [
    "# Lower-casing\n",
    "dog_df['breed'] = dog_df['breed'].str.lower()"
   ]
  },
  {
   "cell_type": "code",
   "execution_count": 42,
   "metadata": {},
   "outputs": [],
   "source": [
    "dog_df['mix'] = np.where(dog_df['breed'].str.contains(\"mix\"), 1, 0)"
   ]
  },
  {
   "cell_type": "code",
   "execution_count": 43,
   "metadata": {},
   "outputs": [],
   "source": [
    "# Dropping \"mix\" and stripping whitespace.\n",
    "\n",
    "dog_df['breed_edit'] = dog_df['breed'].str.replace('mix', '').str.strip()  \n",
    "\n",
    "# Splitting records with two breeds into two columns for each breed.\n",
    "dog_df = pd.concat([dog_df, \n",
    "                     dog_df['breed_edit'].str.split('/', expand=True).rename(columns={0:'breed1', 1:'breed2'})], \n",
    "                    axis=1)"
   ]
  },
  {
   "cell_type": "code",
   "execution_count": 44,
   "metadata": {},
   "outputs": [
    {
     "data": {
      "text/html": [
       "<div>\n",
       "<style>\n",
       "    .dataframe thead tr:only-child th {\n",
       "        text-align: right;\n",
       "    }\n",
       "\n",
       "    .dataframe thead th {\n",
       "        text-align: left;\n",
       "    }\n",
       "\n",
       "    .dataframe tbody tr th {\n",
       "        vertical-align: top;\n",
       "    }\n",
       "</style>\n",
       "<table border=\"1\" class=\"dataframe\">\n",
       "  <thead>\n",
       "    <tr style=\"text-align: right;\">\n",
       "      <th></th>\n",
       "      <th>age_upon_outcome</th>\n",
       "      <th>animal_id</th>\n",
       "      <th>animal_type</th>\n",
       "      <th>breed</th>\n",
       "      <th>color</th>\n",
       "      <th>date_of_birth</th>\n",
       "      <th>datetime</th>\n",
       "      <th>monthyear</th>\n",
       "      <th>name</th>\n",
       "      <th>outcome_subtype</th>\n",
       "      <th>...</th>\n",
       "      <th>outcome_year</th>\n",
       "      <th>outcome_weekday</th>\n",
       "      <th>outcome_season</th>\n",
       "      <th>baby</th>\n",
       "      <th>senior</th>\n",
       "      <th>mix</th>\n",
       "      <th>breed_edit</th>\n",
       "      <th>breed1</th>\n",
       "      <th>breed2</th>\n",
       "      <th>2</th>\n",
       "    </tr>\n",
       "  </thead>\n",
       "  <tbody>\n",
       "    <tr>\n",
       "      <th>1</th>\n",
       "      <td>1 year</td>\n",
       "      <td>A666430</td>\n",
       "      <td>Dog</td>\n",
       "      <td>beagle mix</td>\n",
       "      <td>White/Brown</td>\n",
       "      <td>2012-11-06T00:00:00</td>\n",
       "      <td>2013-11-07 11:47:00</td>\n",
       "      <td>2013-11-07T11:47:00</td>\n",
       "      <td>Lucy</td>\n",
       "      <td>Partner</td>\n",
       "      <td>...</td>\n",
       "      <td>2013</td>\n",
       "      <td>Thursday</td>\n",
       "      <td>fall</td>\n",
       "      <td>0</td>\n",
       "      <td>0</td>\n",
       "      <td>1</td>\n",
       "      <td>beagle</td>\n",
       "      <td>beagle</td>\n",
       "      <td>None</td>\n",
       "      <td>None</td>\n",
       "    </tr>\n",
       "    <tr>\n",
       "      <th>2</th>\n",
       "      <td>1 year</td>\n",
       "      <td>A675708</td>\n",
       "      <td>Dog</td>\n",
       "      <td>pit bull</td>\n",
       "      <td>Blue/White</td>\n",
       "      <td>2013-03-31T00:00:00</td>\n",
       "      <td>2014-06-03 14:20:00</td>\n",
       "      <td>2014-06-03T14:20:00</td>\n",
       "      <td>*Johnny</td>\n",
       "      <td>NaN</td>\n",
       "      <td>...</td>\n",
       "      <td>2014</td>\n",
       "      <td>Tuesday</td>\n",
       "      <td>summer</td>\n",
       "      <td>0</td>\n",
       "      <td>0</td>\n",
       "      <td>0</td>\n",
       "      <td>pit bull</td>\n",
       "      <td>pit bull</td>\n",
       "      <td>None</td>\n",
       "      <td>None</td>\n",
       "    </tr>\n",
       "    <tr>\n",
       "      <th>3</th>\n",
       "      <td>9 years</td>\n",
       "      <td>A680386</td>\n",
       "      <td>Dog</td>\n",
       "      <td>miniature schnauzer mix</td>\n",
       "      <td>White</td>\n",
       "      <td>2005-06-02T00:00:00</td>\n",
       "      <td>2014-06-15 15:50:00</td>\n",
       "      <td>2014-06-15T15:50:00</td>\n",
       "      <td>Monday</td>\n",
       "      <td>Partner</td>\n",
       "      <td>...</td>\n",
       "      <td>2014</td>\n",
       "      <td>Sunday</td>\n",
       "      <td>summer</td>\n",
       "      <td>0</td>\n",
       "      <td>1</td>\n",
       "      <td>1</td>\n",
       "      <td>miniature schnauzer</td>\n",
       "      <td>miniature schnauzer</td>\n",
       "      <td>None</td>\n",
       "      <td>None</td>\n",
       "    </tr>\n",
       "    <tr>\n",
       "      <th>5</th>\n",
       "      <td>4 months</td>\n",
       "      <td>A664462</td>\n",
       "      <td>Dog</td>\n",
       "      <td>leonberger mix</td>\n",
       "      <td>Brown/White</td>\n",
       "      <td>2013-06-03T00:00:00</td>\n",
       "      <td>2013-10-07 13:06:00</td>\n",
       "      <td>2013-10-07T13:06:00</td>\n",
       "      <td>*Edgar</td>\n",
       "      <td>Partner</td>\n",
       "      <td>...</td>\n",
       "      <td>2013</td>\n",
       "      <td>Monday</td>\n",
       "      <td>fall</td>\n",
       "      <td>1</td>\n",
       "      <td>0</td>\n",
       "      <td>1</td>\n",
       "      <td>leonberger</td>\n",
       "      <td>leonberger</td>\n",
       "      <td>None</td>\n",
       "      <td>None</td>\n",
       "    </tr>\n",
       "    <tr>\n",
       "      <th>7</th>\n",
       "      <td>3 years</td>\n",
       "      <td>A692618</td>\n",
       "      <td>Dog</td>\n",
       "      <td>chihuahua shorthair mix</td>\n",
       "      <td>Brown</td>\n",
       "      <td>2011-11-23T00:00:00</td>\n",
       "      <td>2014-12-08 15:55:00</td>\n",
       "      <td>2014-12-08T15:55:00</td>\n",
       "      <td>*Ella</td>\n",
       "      <td>Partner</td>\n",
       "      <td>...</td>\n",
       "      <td>2014</td>\n",
       "      <td>Monday</td>\n",
       "      <td>winter</td>\n",
       "      <td>0</td>\n",
       "      <td>0</td>\n",
       "      <td>1</td>\n",
       "      <td>chihuahua shorthair</td>\n",
       "      <td>chihuahua shorthair</td>\n",
       "      <td>None</td>\n",
       "      <td>None</td>\n",
       "    </tr>\n",
       "  </tbody>\n",
       "</table>\n",
       "<p>5 rows × 31 columns</p>\n",
       "</div>"
      ],
      "text/plain": [
       "  age_upon_outcome animal_id animal_type                    breed  \\\n",
       "1           1 year   A666430         Dog               beagle mix   \n",
       "2           1 year   A675708         Dog                 pit bull   \n",
       "3          9 years   A680386         Dog  miniature schnauzer mix   \n",
       "5         4 months   A664462         Dog           leonberger mix   \n",
       "7          3 years   A692618         Dog  chihuahua shorthair mix   \n",
       "\n",
       "         color        date_of_birth            datetime            monthyear  \\\n",
       "1  White/Brown  2012-11-06T00:00:00 2013-11-07 11:47:00  2013-11-07T11:47:00   \n",
       "2   Blue/White  2013-03-31T00:00:00 2014-06-03 14:20:00  2014-06-03T14:20:00   \n",
       "3        White  2005-06-02T00:00:00 2014-06-15 15:50:00  2014-06-15T15:50:00   \n",
       "5  Brown/White  2013-06-03T00:00:00 2013-10-07 13:06:00  2013-10-07T13:06:00   \n",
       "7        Brown  2011-11-23T00:00:00 2014-12-08 15:55:00  2014-12-08T15:55:00   \n",
       "\n",
       "      name outcome_subtype  ...  outcome_year outcome_weekday  outcome_season  \\\n",
       "1     Lucy         Partner  ...          2013        Thursday            fall   \n",
       "2  *Johnny             NaN  ...          2014         Tuesday          summer   \n",
       "3   Monday         Partner  ...          2014          Sunday          summer   \n",
       "5   *Edgar         Partner  ...          2013          Monday            fall   \n",
       "7    *Ella         Partner  ...          2014          Monday          winter   \n",
       "\n",
       "   baby  senior  mix           breed_edit               breed1  breed2     2  \n",
       "1     0       0    1               beagle               beagle    None  None  \n",
       "2     0       0    0             pit bull             pit bull    None  None  \n",
       "3     0       1    1  miniature schnauzer  miniature schnauzer    None  None  \n",
       "5     1       0    1           leonberger           leonberger    None  None  \n",
       "7     0       0    1  chihuahua shorthair  chihuahua shorthair    None  None  \n",
       "\n",
       "[5 rows x 31 columns]"
      ]
     },
     "execution_count": 44,
     "metadata": {},
     "output_type": "execute_result"
    }
   ],
   "source": [
    "dog_df.head()"
   ]
  },
  {
   "cell_type": "markdown",
   "metadata": {},
   "source": [
    "# Where did the '2' column come from??"
   ]
  },
  {
   "cell_type": "code",
   "execution_count": 45,
   "metadata": {},
   "outputs": [
    {
     "data": {
      "text/plain": [
       "pit bull                        6736\n",
       "labrador retriever              6052\n",
       "chihuahua shorthair             5615\n",
       "german shepherd                 2527\n",
       "australian cattle dog           1400\n",
       "dachshund                       1217\n",
       "boxer                            934\n",
       "border collie                    902\n",
       "miniature poodle                 823\n",
       "catahoula                        630\n",
       "beagle                           625\n",
       "siberian husky                   615\n",
       "yorkshire terrier                605\n",
       "jack russell terrier             605\n",
       "australian shepherd              604\n",
       "rat terrier                      582\n",
       "miniature schnauzer              568\n",
       "great pyrenees                   491\n",
       "rottweiler                       487\n",
       "shih tzu                         449\n",
       "pointer                          435\n",
       "chihuahua longhair               431\n",
       "cairn terrier                    417\n",
       "staffordshire                    390\n",
       "american bulldog                 378\n",
       "anatol shepherd                  340\n",
       "plott hound                      303\n",
       "australian kelpie                301\n",
       "black mouth cur                  287\n",
       "maltese                          283\n",
       "                                ... \n",
       "german pinscher                    6\n",
       "coton de tulear                    5\n",
       "bedlington terr                    5\n",
       "ibizan hound                       5\n",
       "belgian tervuren                   4\n",
       "belgian sheepdog                   4\n",
       "english setter                     4\n",
       "lowchen                            4\n",
       "akbash                             4\n",
       "english cocker spaniel             4\n",
       "old english sheepdog               3\n",
       "spinone italiano                   3\n",
       "dandie dinmont                     2\n",
       "gordon setter                      2\n",
       "port water dog                     2\n",
       "afghan hound                       2\n",
       "treeing tennesse brindle           2\n",
       "hovawart                           2\n",
       "sussex span                        2\n",
       "spanish mastiff                    1\n",
       "eng toy spaniel                    1\n",
       "dachshund stan                     1\n",
       "swiss hound                        1\n",
       "entlebucher                        1\n",
       "sealyham terr                      1\n",
       "bouv flandres                      1\n",
       "lakeland terrier                   1\n",
       "grand basset griffon vendeen       1\n",
       "unknown                            1\n",
       "norwegian elkhound                 1\n",
       "Name: breed1, Length: 197, dtype: int64"
      ]
     },
     "execution_count": 45,
     "metadata": {},
     "output_type": "execute_result"
    }
   ],
   "source": [
    "dog_df.breed1.value_counts()"
   ]
  },
  {
   "cell_type": "markdown",
   "metadata": {},
   "source": [
    "### Color\n",
    "\n",
    "#### Cats\n",
    "There are 231 combinations of colors and coat patterns.  There are sometimes two given colors, much like the breeds.  So we can handle color in similar ways."
   ]
  },
  {
   "cell_type": "code",
   "execution_count": 46,
   "metadata": {
    "scrolled": true
   },
   "outputs": [
    {
     "data": {
      "text/plain": [
       "Brown Tabby                4445\n",
       "Black                      3846\n",
       "Black/White                2804\n",
       "Brown Tabby/White          2338\n",
       "Orange Tabby               2180\n",
       "Tortie                     1335\n",
       "Calico                     1318\n",
       "Blue Tabby                 1130\n",
       "Orange Tabby/White         1095\n",
       "Blue                       1057\n",
       "Torbie                      845\n",
       "Blue/White                  792\n",
       "Blue Tabby/White            545\n",
       "White/Black                 508\n",
       "Cream Tabby                 498\n",
       "Lynx Point                  439\n",
       "White                       334\n",
       "Seal Point                  321\n",
       "White/Brown Tabby           287\n",
       "Cream Tabby/White           236\n",
       "Flame Point                 200\n",
       "White/Blue                  196\n",
       "Black Tabby                 177\n",
       "Torbie/White                175\n",
       "Gray Tabby                  132\n",
       "Black Smoke                 104\n",
       "White/Orange Tabby          101\n",
       "Lilac Point                  77\n",
       "Tortie Point                 75\n",
       "Tortie/White                 74\n",
       "                           ... \n",
       "Apricot                       1\n",
       "Gray/Tan                      1\n",
       "Tricolor/Calico               1\n",
       "Brown/Buff                    1\n",
       "Torbie/Calico                 1\n",
       "Tortie/Tortie                 1\n",
       "Tortie Point/Lynx Point       1\n",
       "Agouti/Brown Tabby            1\n",
       "Blue Tabby/Buff               1\n",
       "Cream Tabby/Cream Tabby       1\n",
       "Tricolor/Orange               1\n",
       "Brown Tabby/Gray Tabby        1\n",
       "Black/Seal Point              1\n",
       "Brown Brindle                 1\n",
       "Lynx Point/Blue               1\n",
       "Black Tabby/Black             1\n",
       "Tricolor                      1\n",
       "Blue Tabby/Orange             1\n",
       "Brown Tiger/White             1\n",
       "Torbie/Silver Tabby           1\n",
       "Cream/Blue Point              1\n",
       "Fawn                          1\n",
       "Black Tabby/Gray Tabby        1\n",
       "Orange Tabby/Black            1\n",
       "White/Calico Point            1\n",
       "Seal Point/Gray               1\n",
       "Cream/Brown                   1\n",
       "Tan/White                     1\n",
       "Brown Merle                   1\n",
       "Blue/Blue                     1\n",
       "Name: color, Length: 231, dtype: int64"
      ]
     },
     "execution_count": 46,
     "metadata": {},
     "output_type": "execute_result"
    }
   ],
   "source": [
    "cat_df.color.value_counts()"
   ]
  },
  {
   "cell_type": "markdown",
   "metadata": {},
   "source": [
    "There are coat patterns along with coat color in the data.  Let's pull this out in a separate column using a regex string and str.extract.\n",
    "\n",
    "Inspiration for this method can be found here: https://aaronschlegel.me/extraction-feature-engineering-aac-data-requests-pandas.html"
   ]
  },
  {
   "cell_type": "code",
   "execution_count": 47,
   "metadata": {},
   "outputs": [],
   "source": [
    "# Coat patterns for cats\n",
    "coat_patterns = ['tabby', 'tortie', 'tortoiseshell', 'calico', 'smoke', 'torbie',\n",
    "                 'colorpoint', 'point', 'brindle', 'agouti', 'bicolor', 'tricolor']"
   ]
  },
  {
   "cell_type": "code",
   "execution_count": 48,
   "metadata": {},
   "outputs": [
    {
     "data": {
      "text/plain": [
       "'(tabby|tortie|tortoiseshell|calico|smoke|torbie|colorpoint|point|brindle|agouti|bicolor|tricolor)'"
      ]
     },
     "execution_count": 48,
     "metadata": {},
     "output_type": "execute_result"
    }
   ],
   "source": [
    "# Create the regex string by joining the coat patterns with | and encapsulating them in parantheses\n",
    "coat_reg = '(' + '|'.join(coat_patterns) + ')'\n",
    "\n",
    "coat_reg"
   ]
  },
  {
   "cell_type": "code",
   "execution_count": 49,
   "metadata": {},
   "outputs": [],
   "source": [
    "# Extracting coat pattern from color and removing it from color column\n",
    "cat_df['color'] = cat_df['color'].str.lower()\n",
    "\n",
    "cat_df['coat_pattern'] = cat_df['color'].str.extract(coat_reg, expand=False)\n",
    "\n",
    "cat_df['color_edit'] = cat_df['color'].str.replace(coat_reg, '').str.strip()"
   ]
  },
  {
   "cell_type": "markdown",
   "metadata": {},
   "source": [
    "Now we can split the cats with two colors into two color columns.\n",
    "With coat patterns extracted, those without a listed color and only a listed coat pattern will be missing color data.  These now blank values signify breed-specific colors, so we can relabel them as such by searching for blanks in the color1 column and replacing it with 'breed specific'."
   ]
  },
  {
   "cell_type": "code",
   "execution_count": 50,
   "metadata": {},
   "outputs": [],
   "source": [
    "#Splitting color column into two color columns\n",
    "cat_df = pd.concat([cat_df, \n",
    "                     cat_df['color_edit'].str.split('/', expand=True).rename(columns={0:'color1', 1:'color2'})], axis=1)\n",
    "\n",
    "#Replacing blanks in color1 with 'breed specific'.\n",
    "cat_df['color1'] = np.where(cat_df['color1'] == '', 'breed specific', cat_df['color1'])\n",
    "\n",
    "# Creating a column that collects the extracted coat colors and patterns.  If the color is breed specific, list \n",
    "# the coat pattern.  Otherwise, list the color.\n",
    "cat_df['coat'] = np.where(cat_df['color1'] == 'breed specific', cat_df['coat_pattern'], cat_df['color1'])"
   ]
  },
  {
   "cell_type": "code",
   "execution_count": 51,
   "metadata": {},
   "outputs": [
    {
     "data": {
      "text/html": [
       "<div>\n",
       "<style>\n",
       "    .dataframe thead tr:only-child th {\n",
       "        text-align: right;\n",
       "    }\n",
       "\n",
       "    .dataframe thead th {\n",
       "        text-align: left;\n",
       "    }\n",
       "\n",
       "    .dataframe tbody tr th {\n",
       "        vertical-align: top;\n",
       "    }\n",
       "</style>\n",
       "<table border=\"1\" class=\"dataframe\">\n",
       "  <thead>\n",
       "    <tr style=\"text-align: right;\">\n",
       "      <th></th>\n",
       "      <th>age_upon_outcome</th>\n",
       "      <th>animal_id</th>\n",
       "      <th>animal_type</th>\n",
       "      <th>breed</th>\n",
       "      <th>color</th>\n",
       "      <th>date_of_birth</th>\n",
       "      <th>datetime</th>\n",
       "      <th>monthyear</th>\n",
       "      <th>name</th>\n",
       "      <th>outcome_subtype</th>\n",
       "      <th>...</th>\n",
       "      <th>breed_edit</th>\n",
       "      <th>breed1</th>\n",
       "      <th>breed2</th>\n",
       "      <th>cfa_breed</th>\n",
       "      <th>domestic_breed</th>\n",
       "      <th>coat_pattern</th>\n",
       "      <th>color_edit</th>\n",
       "      <th>color1</th>\n",
       "      <th>color2</th>\n",
       "      <th>coat</th>\n",
       "    </tr>\n",
       "  </thead>\n",
       "  <tbody>\n",
       "    <tr>\n",
       "      <th>0</th>\n",
       "      <td>2 weeks</td>\n",
       "      <td>A684346</td>\n",
       "      <td>Cat</td>\n",
       "      <td>domestic shorthair mix</td>\n",
       "      <td>orange tabby</td>\n",
       "      <td>2014-07-07T00:00:00</td>\n",
       "      <td>2014-07-22 16:04:00</td>\n",
       "      <td>2014-07-22T16:04:00</td>\n",
       "      <td>NaN</td>\n",
       "      <td>Partner</td>\n",
       "      <td>...</td>\n",
       "      <td>domestic shorthair</td>\n",
       "      <td>domestic shorthair</td>\n",
       "      <td>None</td>\n",
       "      <td>0</td>\n",
       "      <td>1</td>\n",
       "      <td>tabby</td>\n",
       "      <td>orange</td>\n",
       "      <td>orange</td>\n",
       "      <td>None</td>\n",
       "      <td>orange</td>\n",
       "    </tr>\n",
       "    <tr>\n",
       "      <th>8</th>\n",
       "      <td>1 month</td>\n",
       "      <td>A685067</td>\n",
       "      <td>Cat</td>\n",
       "      <td>domestic shorthair mix</td>\n",
       "      <td>blue tabby/white</td>\n",
       "      <td>2014-06-16T00:00:00</td>\n",
       "      <td>2014-08-14 18:45:00</td>\n",
       "      <td>2014-08-14T18:45:00</td>\n",
       "      <td>Lucy</td>\n",
       "      <td>NaN</td>\n",
       "      <td>...</td>\n",
       "      <td>domestic shorthair</td>\n",
       "      <td>domestic shorthair</td>\n",
       "      <td>None</td>\n",
       "      <td>0</td>\n",
       "      <td>1</td>\n",
       "      <td>tabby</td>\n",
       "      <td>blue /white</td>\n",
       "      <td>blue</td>\n",
       "      <td>white</td>\n",
       "      <td>blue</td>\n",
       "    </tr>\n",
       "    <tr>\n",
       "      <th>9</th>\n",
       "      <td>3 months</td>\n",
       "      <td>A678580</td>\n",
       "      <td>Cat</td>\n",
       "      <td>domestic shorthair mix</td>\n",
       "      <td>white/black</td>\n",
       "      <td>2014-03-26T00:00:00</td>\n",
       "      <td>2014-06-29 17:45:00</td>\n",
       "      <td>2014-06-29T17:45:00</td>\n",
       "      <td>*Frida</td>\n",
       "      <td>Offsite</td>\n",
       "      <td>...</td>\n",
       "      <td>domestic shorthair</td>\n",
       "      <td>domestic shorthair</td>\n",
       "      <td>None</td>\n",
       "      <td>0</td>\n",
       "      <td>1</td>\n",
       "      <td>NaN</td>\n",
       "      <td>white/black</td>\n",
       "      <td>white</td>\n",
       "      <td>black</td>\n",
       "      <td>white</td>\n",
       "    </tr>\n",
       "    <tr>\n",
       "      <th>10</th>\n",
       "      <td>1 year</td>\n",
       "      <td>A675405</td>\n",
       "      <td>Cat</td>\n",
       "      <td>domestic medium hair mix</td>\n",
       "      <td>black/white</td>\n",
       "      <td>2013-03-27T00:00:00</td>\n",
       "      <td>2014-03-28 14:55:00</td>\n",
       "      <td>2014-03-28T14:55:00</td>\n",
       "      <td>Stella Luna</td>\n",
       "      <td>NaN</td>\n",
       "      <td>...</td>\n",
       "      <td>domestic mediumhair</td>\n",
       "      <td>domestic mediumhair</td>\n",
       "      <td>None</td>\n",
       "      <td>0</td>\n",
       "      <td>1</td>\n",
       "      <td>NaN</td>\n",
       "      <td>black/white</td>\n",
       "      <td>black</td>\n",
       "      <td>white</td>\n",
       "      <td>black</td>\n",
       "    </tr>\n",
       "    <tr>\n",
       "      <th>17</th>\n",
       "      <td>3 weeks</td>\n",
       "      <td>A670420</td>\n",
       "      <td>Cat</td>\n",
       "      <td>domestic shorthair mix</td>\n",
       "      <td>black/white</td>\n",
       "      <td>2013-12-16T00:00:00</td>\n",
       "      <td>2014-01-09 19:29:00</td>\n",
       "      <td>2014-01-09T19:29:00</td>\n",
       "      <td>NaN</td>\n",
       "      <td>Partner</td>\n",
       "      <td>...</td>\n",
       "      <td>domestic shorthair</td>\n",
       "      <td>domestic shorthair</td>\n",
       "      <td>None</td>\n",
       "      <td>0</td>\n",
       "      <td>1</td>\n",
       "      <td>NaN</td>\n",
       "      <td>black/white</td>\n",
       "      <td>black</td>\n",
       "      <td>white</td>\n",
       "      <td>black</td>\n",
       "    </tr>\n",
       "  </tbody>\n",
       "</table>\n",
       "<p>5 rows × 37 columns</p>\n",
       "</div>"
      ],
      "text/plain": [
       "   age_upon_outcome animal_id animal_type                     breed  \\\n",
       "0           2 weeks   A684346         Cat    domestic shorthair mix   \n",
       "8           1 month   A685067         Cat    domestic shorthair mix   \n",
       "9          3 months   A678580         Cat    domestic shorthair mix   \n",
       "10           1 year   A675405         Cat  domestic medium hair mix   \n",
       "17          3 weeks   A670420         Cat    domestic shorthair mix   \n",
       "\n",
       "               color        date_of_birth            datetime  \\\n",
       "0       orange tabby  2014-07-07T00:00:00 2014-07-22 16:04:00   \n",
       "8   blue tabby/white  2014-06-16T00:00:00 2014-08-14 18:45:00   \n",
       "9        white/black  2014-03-26T00:00:00 2014-06-29 17:45:00   \n",
       "10       black/white  2013-03-27T00:00:00 2014-03-28 14:55:00   \n",
       "17       black/white  2013-12-16T00:00:00 2014-01-09 19:29:00   \n",
       "\n",
       "              monthyear         name outcome_subtype   ...    \\\n",
       "0   2014-07-22T16:04:00          NaN         Partner   ...     \n",
       "8   2014-08-14T18:45:00         Lucy             NaN   ...     \n",
       "9   2014-06-29T17:45:00       *Frida         Offsite   ...     \n",
       "10  2014-03-28T14:55:00  Stella Luna             NaN   ...     \n",
       "17  2014-01-09T19:29:00          NaN         Partner   ...     \n",
       "\n",
       "             breed_edit               breed1  breed2  cfa_breed  \\\n",
       "0    domestic shorthair   domestic shorthair    None          0   \n",
       "8    domestic shorthair   domestic shorthair    None          0   \n",
       "9    domestic shorthair   domestic shorthair    None          0   \n",
       "10  domestic mediumhair  domestic mediumhair    None          0   \n",
       "17   domestic shorthair   domestic shorthair    None          0   \n",
       "\n",
       "    domestic_breed  coat_pattern   color_edit  color1  color2    coat  \n",
       "0                1         tabby       orange  orange    None  orange  \n",
       "8                1         tabby  blue /white   blue    white   blue   \n",
       "9                1           NaN  white/black   white   black   white  \n",
       "10               1           NaN  black/white   black   white   black  \n",
       "17               1           NaN  black/white   black   white   black  \n",
       "\n",
       "[5 rows x 37 columns]"
      ]
     },
     "execution_count": 51,
     "metadata": {},
     "output_type": "execute_result"
    }
   ],
   "source": [
    "cat_df.head()"
   ]
  },
  {
   "cell_type": "markdown",
   "metadata": {},
   "source": [
    "#### Dogs\n",
    "Now for the dogs.  The dogs have 336 combinations of colors and coat patters.  We can treat it a similar way as we did for the cats."
   ]
  },
  {
   "cell_type": "code",
   "execution_count": 52,
   "metadata": {
    "scrolled": true
   },
   "outputs": [
    {
     "data": {
      "text/plain": [
       "Black/White                    5085\n",
       "Black                          2479\n",
       "Brown/White                    2392\n",
       "Tan/White                      2382\n",
       "White                          2313\n",
       "Tan                            1940\n",
       "Tricolor                       1923\n",
       "Black/Tan                      1828\n",
       "Brown                          1807\n",
       "White/Brown                    1501\n",
       "White/Black                    1497\n",
       "Black/Brown                    1372\n",
       "Brown Brindle/White            1353\n",
       "Blue/White                     1276\n",
       "White/Tan                      1132\n",
       "Brown/Black                     998\n",
       "Red                             887\n",
       "Red/White                       856\n",
       "Brown Brindle                   711\n",
       "Tan/Black                       602\n",
       "Chocolate/White                 587\n",
       "Yellow                          494\n",
       "Sable                           442\n",
       "Cream                           394\n",
       "Chocolate                       392\n",
       "Buff                            375\n",
       "Fawn/White                      319\n",
       "White/Brown Brindle             305\n",
       "Blue                            253\n",
       "Brown/Tan                       236\n",
       "                               ... \n",
       "Blue/Silver                       1\n",
       "Chocolate/Chocolate               1\n",
       "Black Tiger/White                 1\n",
       "Blue Merle/Cream                  1\n",
       "Red Tick/Blue Tick                1\n",
       "Chocolate/Gold                    1\n",
       "Liver Tick/White                  1\n",
       "Chocolate/Liver Tick              1\n",
       "Brown Merle/Brown                 1\n",
       "Orange                            1\n",
       "Brown Tiger/Brown                 1\n",
       "Red Merle/Tan                     1\n",
       "Yellow/Yellow                     1\n",
       "Gray/Red                          1\n",
       "Blue Smoke/White                  1\n",
       "Yellow/Black                      1\n",
       "Black Tiger                       1\n",
       "Black Smoke/Black                 1\n",
       "White/Gray Tiger                  1\n",
       "Red Tick/Brown Brindle            1\n",
       "Cream/Brown Merle                 1\n",
       "Blue Merle/Brown Brindle          1\n",
       "Gold/Buff                         1\n",
       "Chocolate/Yellow                  1\n",
       "Blue Smoke                        1\n",
       "Cream/Red Tick                    1\n",
       "Fawn/Chocolate                    1\n",
       "Black Brindle/Brown Brindle       1\n",
       "Chocolate/Gray                    1\n",
       "Brown Brindle/Gray                1\n",
       "Name: color, Length: 336, dtype: int64"
      ]
     },
     "execution_count": 52,
     "metadata": {},
     "output_type": "execute_result"
    }
   ],
   "source": [
    "dog_df.color.value_counts()"
   ]
  },
  {
   "cell_type": "code",
   "execution_count": 53,
   "metadata": {},
   "outputs": [
    {
     "data": {
      "text/plain": [
       "'(bicolor|tricolor|merle|tuxedo|harlequin|spotted|tick|brindle|saddle|sable)'"
      ]
     },
     "execution_count": 53,
     "metadata": {},
     "output_type": "execute_result"
    }
   ],
   "source": [
    "# Coat patterns for dogs\n",
    "coat_patterns = ['bicolor','tricolor','merle','tuxedo','harlequin','spotted','tick','brindle','saddle',\n",
    "                'sable']\n",
    "\n",
    "# Create the regex string by joining the coat patterns with | and encapsulating them in parantheses\n",
    "coat_reg = '(' + '|'.join(coat_patterns) + ')'\n",
    "\n",
    "coat_reg"
   ]
  },
  {
   "cell_type": "code",
   "execution_count": 54,
   "metadata": {},
   "outputs": [],
   "source": [
    "# Extracting coat pattern from color and removing it from color column\n",
    "dog_df['color'] = dog_df['color'].str.lower()\n",
    "\n",
    "dog_df['coat_pattern'] = dog_df['color'].str.extract(coat_reg, expand=False)\n",
    "\n",
    "dog_df['color_edit'] = dog_df['color'].str.replace(coat_reg, '').str.strip()"
   ]
  },
  {
   "cell_type": "code",
   "execution_count": 55,
   "metadata": {},
   "outputs": [],
   "source": [
    "#Splitting color column into two color columns\n",
    "dog_df = pd.concat([dog_df, \n",
    "                     dog_df['color_edit'].str.split('/', expand=True).rename(columns={0:'color1', 1:'color2'})], axis=1)\n",
    "\n",
    "#Replacing blanks in color1 with 'breed specific'.\n",
    "dog_df['color1'] = np.where(dog_df['color1'] == '', 'breed specific', dog_df['color1'])\n",
    "\n",
    "# Creating a column that collects the extracted coat colors and patterns.  If the color is breed specific, list \n",
    "# the coat pattern.  Otherwise, list the color.\n",
    "dog_df['coat'] = np.where(dog_df['color1'] == 'breed specific', dog_df['coat_pattern'], dog_df['color1'])"
   ]
  },
  {
   "cell_type": "code",
   "execution_count": 56,
   "metadata": {},
   "outputs": [
    {
     "data": {
      "text/html": [
       "<div>\n",
       "<style>\n",
       "    .dataframe thead tr:only-child th {\n",
       "        text-align: right;\n",
       "    }\n",
       "\n",
       "    .dataframe thead th {\n",
       "        text-align: left;\n",
       "    }\n",
       "\n",
       "    .dataframe tbody tr th {\n",
       "        vertical-align: top;\n",
       "    }\n",
       "</style>\n",
       "<table border=\"1\" class=\"dataframe\">\n",
       "  <thead>\n",
       "    <tr style=\"text-align: right;\">\n",
       "      <th></th>\n",
       "      <th>age_upon_outcome</th>\n",
       "      <th>animal_id</th>\n",
       "      <th>animal_type</th>\n",
       "      <th>breed</th>\n",
       "      <th>color</th>\n",
       "      <th>date_of_birth</th>\n",
       "      <th>datetime</th>\n",
       "      <th>monthyear</th>\n",
       "      <th>name</th>\n",
       "      <th>outcome_subtype</th>\n",
       "      <th>...</th>\n",
       "      <th>mix</th>\n",
       "      <th>breed_edit</th>\n",
       "      <th>breed1</th>\n",
       "      <th>breed2</th>\n",
       "      <th>2</th>\n",
       "      <th>coat_pattern</th>\n",
       "      <th>color_edit</th>\n",
       "      <th>color1</th>\n",
       "      <th>color2</th>\n",
       "      <th>coat</th>\n",
       "    </tr>\n",
       "  </thead>\n",
       "  <tbody>\n",
       "    <tr>\n",
       "      <th>1</th>\n",
       "      <td>1 year</td>\n",
       "      <td>A666430</td>\n",
       "      <td>Dog</td>\n",
       "      <td>beagle mix</td>\n",
       "      <td>white/brown</td>\n",
       "      <td>2012-11-06T00:00:00</td>\n",
       "      <td>2013-11-07 11:47:00</td>\n",
       "      <td>2013-11-07T11:47:00</td>\n",
       "      <td>Lucy</td>\n",
       "      <td>Partner</td>\n",
       "      <td>...</td>\n",
       "      <td>1</td>\n",
       "      <td>beagle</td>\n",
       "      <td>beagle</td>\n",
       "      <td>None</td>\n",
       "      <td>None</td>\n",
       "      <td>NaN</td>\n",
       "      <td>white/brown</td>\n",
       "      <td>white</td>\n",
       "      <td>brown</td>\n",
       "      <td>white</td>\n",
       "    </tr>\n",
       "    <tr>\n",
       "      <th>2</th>\n",
       "      <td>1 year</td>\n",
       "      <td>A675708</td>\n",
       "      <td>Dog</td>\n",
       "      <td>pit bull</td>\n",
       "      <td>blue/white</td>\n",
       "      <td>2013-03-31T00:00:00</td>\n",
       "      <td>2014-06-03 14:20:00</td>\n",
       "      <td>2014-06-03T14:20:00</td>\n",
       "      <td>*Johnny</td>\n",
       "      <td>NaN</td>\n",
       "      <td>...</td>\n",
       "      <td>0</td>\n",
       "      <td>pit bull</td>\n",
       "      <td>pit bull</td>\n",
       "      <td>None</td>\n",
       "      <td>None</td>\n",
       "      <td>NaN</td>\n",
       "      <td>blue/white</td>\n",
       "      <td>blue</td>\n",
       "      <td>white</td>\n",
       "      <td>blue</td>\n",
       "    </tr>\n",
       "    <tr>\n",
       "      <th>3</th>\n",
       "      <td>9 years</td>\n",
       "      <td>A680386</td>\n",
       "      <td>Dog</td>\n",
       "      <td>miniature schnauzer mix</td>\n",
       "      <td>white</td>\n",
       "      <td>2005-06-02T00:00:00</td>\n",
       "      <td>2014-06-15 15:50:00</td>\n",
       "      <td>2014-06-15T15:50:00</td>\n",
       "      <td>Monday</td>\n",
       "      <td>Partner</td>\n",
       "      <td>...</td>\n",
       "      <td>1</td>\n",
       "      <td>miniature schnauzer</td>\n",
       "      <td>miniature schnauzer</td>\n",
       "      <td>None</td>\n",
       "      <td>None</td>\n",
       "      <td>NaN</td>\n",
       "      <td>white</td>\n",
       "      <td>white</td>\n",
       "      <td>None</td>\n",
       "      <td>white</td>\n",
       "    </tr>\n",
       "    <tr>\n",
       "      <th>5</th>\n",
       "      <td>4 months</td>\n",
       "      <td>A664462</td>\n",
       "      <td>Dog</td>\n",
       "      <td>leonberger mix</td>\n",
       "      <td>brown/white</td>\n",
       "      <td>2013-06-03T00:00:00</td>\n",
       "      <td>2013-10-07 13:06:00</td>\n",
       "      <td>2013-10-07T13:06:00</td>\n",
       "      <td>*Edgar</td>\n",
       "      <td>Partner</td>\n",
       "      <td>...</td>\n",
       "      <td>1</td>\n",
       "      <td>leonberger</td>\n",
       "      <td>leonberger</td>\n",
       "      <td>None</td>\n",
       "      <td>None</td>\n",
       "      <td>NaN</td>\n",
       "      <td>brown/white</td>\n",
       "      <td>brown</td>\n",
       "      <td>white</td>\n",
       "      <td>brown</td>\n",
       "    </tr>\n",
       "    <tr>\n",
       "      <th>7</th>\n",
       "      <td>3 years</td>\n",
       "      <td>A692618</td>\n",
       "      <td>Dog</td>\n",
       "      <td>chihuahua shorthair mix</td>\n",
       "      <td>brown</td>\n",
       "      <td>2011-11-23T00:00:00</td>\n",
       "      <td>2014-12-08 15:55:00</td>\n",
       "      <td>2014-12-08T15:55:00</td>\n",
       "      <td>*Ella</td>\n",
       "      <td>Partner</td>\n",
       "      <td>...</td>\n",
       "      <td>1</td>\n",
       "      <td>chihuahua shorthair</td>\n",
       "      <td>chihuahua shorthair</td>\n",
       "      <td>None</td>\n",
       "      <td>None</td>\n",
       "      <td>NaN</td>\n",
       "      <td>brown</td>\n",
       "      <td>brown</td>\n",
       "      <td>None</td>\n",
       "      <td>brown</td>\n",
       "    </tr>\n",
       "  </tbody>\n",
       "</table>\n",
       "<p>5 rows × 36 columns</p>\n",
       "</div>"
      ],
      "text/plain": [
       "  age_upon_outcome animal_id animal_type                    breed  \\\n",
       "1           1 year   A666430         Dog               beagle mix   \n",
       "2           1 year   A675708         Dog                 pit bull   \n",
       "3          9 years   A680386         Dog  miniature schnauzer mix   \n",
       "5         4 months   A664462         Dog           leonberger mix   \n",
       "7          3 years   A692618         Dog  chihuahua shorthair mix   \n",
       "\n",
       "         color        date_of_birth            datetime            monthyear  \\\n",
       "1  white/brown  2012-11-06T00:00:00 2013-11-07 11:47:00  2013-11-07T11:47:00   \n",
       "2   blue/white  2013-03-31T00:00:00 2014-06-03 14:20:00  2014-06-03T14:20:00   \n",
       "3        white  2005-06-02T00:00:00 2014-06-15 15:50:00  2014-06-15T15:50:00   \n",
       "5  brown/white  2013-06-03T00:00:00 2013-10-07 13:06:00  2013-10-07T13:06:00   \n",
       "7        brown  2011-11-23T00:00:00 2014-12-08 15:55:00  2014-12-08T15:55:00   \n",
       "\n",
       "      name outcome_subtype  ...   mix           breed_edit  \\\n",
       "1     Lucy         Partner  ...     1               beagle   \n",
       "2  *Johnny             NaN  ...     0             pit bull   \n",
       "3   Monday         Partner  ...     1  miniature schnauzer   \n",
       "5   *Edgar         Partner  ...     1           leonberger   \n",
       "7    *Ella         Partner  ...     1  chihuahua shorthair   \n",
       "\n",
       "                breed1  breed2     2  coat_pattern   color_edit  color1  \\\n",
       "1               beagle    None  None           NaN  white/brown   white   \n",
       "2             pit bull    None  None           NaN   blue/white    blue   \n",
       "3  miniature schnauzer    None  None           NaN        white   white   \n",
       "5           leonberger    None  None           NaN  brown/white   brown   \n",
       "7  chihuahua shorthair    None  None           NaN        brown   brown   \n",
       "\n",
       "   color2   coat  \n",
       "1   brown  white  \n",
       "2   white   blue  \n",
       "3    None  white  \n",
       "5   white  brown  \n",
       "7    None  brown  \n",
       "\n",
       "[5 rows x 36 columns]"
      ]
     },
     "execution_count": 56,
     "metadata": {},
     "output_type": "execute_result"
    }
   ],
   "source": [
    "dog_df.head()"
   ]
  },
  {
   "cell_type": "markdown",
   "metadata": {},
   "source": [
    "## Models\n",
    "Let's start by seeing if we can predict overall outcomes of cats and dogs (separately) using our features."
   ]
  },
  {
   "cell_type": "code",
   "execution_count": 57,
   "metadata": {},
   "outputs": [
    {
     "name": "stdout",
     "output_type": "stream",
     "text": [
      "<class 'pandas.core.frame.DataFrame'>\n",
      "Int64Index: 44238 entries, 1 to 78255\n",
      "Data columns (total 36 columns):\n",
      "age_upon_outcome     44238 non-null object\n",
      "animal_id            44238 non-null object\n",
      "animal_type          44238 non-null object\n",
      "breed                44238 non-null object\n",
      "color                44238 non-null object\n",
      "date_of_birth        44238 non-null object\n",
      "datetime             44238 non-null datetime64[ns]\n",
      "monthyear            44238 non-null object\n",
      "name                 37182 non-null object\n",
      "outcome_subtype      13575 non-null object\n",
      "outcome_type         44238 non-null object\n",
      "sex_upon_outcome     44238 non-null object\n",
      "adopt_bi             44238 non-null int64\n",
      "name_bi              44238 non-null int64\n",
      "male                 44238 non-null int64\n",
      "intact               44238 non-null int64\n",
      "number               44238 non-null int64\n",
      "time_period          44238 non-null int64\n",
      "outcome_age_days     44238 non-null int64\n",
      "outcome_age_years    44238 non-null float64\n",
      "outcome_month        44238 non-null int64\n",
      "outcome_year         44238 non-null int64\n",
      "outcome_weekday      44238 non-null object\n",
      "outcome_season       44238 non-null object\n",
      "baby                 44238 non-null int64\n",
      "senior               44238 non-null int64\n",
      "mix                  44238 non-null int64\n",
      "breed_edit           44238 non-null object\n",
      "breed1               44238 non-null object\n",
      "breed2               7149 non-null object\n",
      "2                    20 non-null object\n",
      "coat_pattern         7110 non-null object\n",
      "color_edit           44238 non-null object\n",
      "color1               44238 non-null object\n",
      "color2               28705 non-null object\n",
      "coat                 44238 non-null object\n",
      "dtypes: datetime64[ns](1), float64(1), int64(12), object(22)\n",
      "memory usage: 12.5+ MB\n"
     ]
    }
   ],
   "source": [
    "dog_df.info()"
   ]
  },
  {
   "cell_type": "code",
   "execution_count": 58,
   "metadata": {},
   "outputs": [],
   "source": [
    "# Dropping columns we don't need\n",
    "cat_df2 = cat_df.drop(cat_df.iloc[:, 0:9], axis=1)\n",
    "cat_df2 = cat_df2.drop(['sex_upon_outcome','number','time_period','breed_edit','color_edit','outcome_age_years'], axis=1)"
   ]
  },
  {
   "cell_type": "code",
   "execution_count": 59,
   "metadata": {},
   "outputs": [],
   "source": [
    "# Dropping columns we don't need\n",
    "dog_df2 = dog_df.drop(dog_df.iloc[:, 0:9], axis=1)\n",
    "dog_df2 = dog_df2.drop(['sex_upon_outcome','number','time_period','breed_edit','color_edit','outcome_age_years',2], axis=1)"
   ]
  },
  {
   "cell_type": "code",
   "execution_count": 60,
   "metadata": {},
   "outputs": [],
   "source": [
    "# Also dropping outcome_subtype and adopt_bi, which we will look at later \n",
    "cat_df2 = cat_df2.drop(['outcome_subtype'], axis=1)\n",
    "dog_df2 = dog_df2.drop(['outcome_subtype'], axis=1)"
   ]
  },
  {
   "cell_type": "markdown",
   "metadata": {},
   "source": [
    "And, just so we don't have to deal with the NaNs in the data, we will just use the 'coat' column which shows the prominent coat pattern or coat color of the animal.  We will also just use breed1."
   ]
  },
  {
   "cell_type": "code",
   "execution_count": 61,
   "metadata": {},
   "outputs": [],
   "source": [
    "cat_df2 = cat_df2.drop(['breed2','coat_pattern','color1','color2'], axis=1)\n",
    "dog_df2 = dog_df2.drop(['breed2','coat_pattern','color1','color2'], axis=1)"
   ]
  },
  {
   "cell_type": "code",
   "execution_count": 62,
   "metadata": {},
   "outputs": [
    {
     "name": "stdout",
     "output_type": "stream",
     "text": [
      "<class 'pandas.core.frame.DataFrame'>\n",
      "Int64Index: 44238 entries, 1 to 78255\n",
      "Data columns (total 15 columns):\n",
      "outcome_type        44238 non-null object\n",
      "adopt_bi            44238 non-null int64\n",
      "name_bi             44238 non-null int64\n",
      "male                44238 non-null int64\n",
      "intact              44238 non-null int64\n",
      "outcome_age_days    44238 non-null int64\n",
      "outcome_month       44238 non-null int64\n",
      "outcome_year        44238 non-null int64\n",
      "outcome_weekday     44238 non-null object\n",
      "outcome_season      44238 non-null object\n",
      "baby                44238 non-null int64\n",
      "senior              44238 non-null int64\n",
      "mix                 44238 non-null int64\n",
      "breed1              44238 non-null object\n",
      "coat                44238 non-null object\n",
      "dtypes: int64(10), object(5)\n",
      "memory usage: 5.4+ MB\n"
     ]
    }
   ],
   "source": [
    "dog_df2.info()"
   ]
  },
  {
   "cell_type": "code",
   "execution_count": 63,
   "metadata": {},
   "outputs": [
    {
     "name": "stdout",
     "output_type": "stream",
     "text": [
      "<class 'pandas.core.frame.DataFrame'>\n",
      "Int64Index: 29419 entries, 0 to 78237\n",
      "Data columns (total 17 columns):\n",
      "outcome_type        29419 non-null object\n",
      "adopt_bi            29419 non-null int64\n",
      "name_bi             29419 non-null int64\n",
      "male                29419 non-null int64\n",
      "intact              29419 non-null int64\n",
      "outcome_age_days    29419 non-null int64\n",
      "outcome_month       29419 non-null int64\n",
      "outcome_year        29419 non-null int64\n",
      "outcome_weekday     29419 non-null object\n",
      "outcome_season      29419 non-null object\n",
      "baby                29419 non-null int64\n",
      "senior              29419 non-null int64\n",
      "mix                 29419 non-null int64\n",
      "breed1              29419 non-null object\n",
      "cfa_breed           29419 non-null int64\n",
      "domestic_breed      29419 non-null int64\n",
      "coat                29419 non-null object\n",
      "dtypes: int64(12), object(5)\n",
      "memory usage: 4.0+ MB\n"
     ]
    }
   ],
   "source": [
    "cat_df2.info()"
   ]
  },
  {
   "cell_type": "markdown",
   "metadata": {},
   "source": [
    "## Predicting outcome using Random Forest\n",
    "Let's see if we can use Random Forest to predict the outcomes of cats and dogs in the animal shelter.\n",
    "\n",
    "### Cats"
   ]
  },
  {
   "cell_type": "code",
   "execution_count": 64,
   "metadata": {},
   "outputs": [],
   "source": [
    "rfc = ensemble.RandomForestClassifier()\n",
    "X = cat_df2.drop(['outcome_type','adopt_bi'], 1)\n",
    "y = cat_df2['outcome_type']\n",
    "\n",
    "# We need to get dummy variables for the categorical data\n",
    "X = pd.get_dummies(X)\n",
    "\n",
    "X_train, X_test, y_train, y_test = train_test_split(X, y, test_size=0.3,\n",
    "                                                    random_state=0, stratify=y)"
   ]
  },
  {
   "cell_type": "code",
   "execution_count": 65,
   "metadata": {},
   "outputs": [
    {
     "data": {
      "text/plain": [
       "RandomForestClassifier(bootstrap=True, class_weight=None, criterion='gini',\n",
       "            max_depth=None, max_features='auto', max_leaf_nodes=None,\n",
       "            min_impurity_decrease=0.0, min_impurity_split=None,\n",
       "            min_samples_leaf=1, min_samples_split=2,\n",
       "            min_weight_fraction_leaf=0.0, n_estimators=10, n_jobs=1,\n",
       "            oob_score=False, random_state=None, verbose=0,\n",
       "            warm_start=False)"
      ]
     },
     "execution_count": 65,
     "metadata": {},
     "output_type": "execute_result"
    }
   ],
   "source": [
    "rfc.fit(X_train, y_train)"
   ]
  },
  {
   "cell_type": "code",
   "execution_count": 66,
   "metadata": {},
   "outputs": [
    {
     "data": {
      "text/plain": [
       "0.75583503285746656"
      ]
     },
     "execution_count": 66,
     "metadata": {},
     "output_type": "execute_result"
    }
   ],
   "source": [
    "rfc.score(X_test, y_test)"
   ]
  },
  {
   "cell_type": "code",
   "execution_count": 67,
   "metadata": {},
   "outputs": [
    {
     "data": {
      "text/plain": [
       "array([ 0.74211062,  0.74439919,  0.74804754,  0.73988439,  0.77150629,\n",
       "        0.76062564,  0.75952381,  0.75170068,  0.77339231,  0.75195645])"
      ]
     },
     "execution_count": 67,
     "metadata": {},
     "output_type": "execute_result"
    }
   ],
   "source": [
    "cross_val_score(rfc, X, y, cv=10)"
   ]
  },
  {
   "cell_type": "code",
   "execution_count": 68,
   "metadata": {},
   "outputs": [
    {
     "data": {
      "text/plain": [
       "<matplotlib.axes._subplots.AxesSubplot at 0x1158a69b0>"
      ]
     },
     "execution_count": 68,
     "metadata": {},
     "output_type": "execute_result"
    },
    {
     "data": {
      "image/png": "[encoded data removed]",
      "text/plain": [
       "<matplotlib.figure.Figure at 0x111fad240>"
      ]
     },
     "metadata": {},
     "output_type": "display_data"
    }
   ],
   "source": [
    "feature_importances = rfc.feature_importances_\n",
    "\n",
    "importances = pd.DataFrame({'importance': feature_importances, 'feature': X.columns}, \n",
    "                           index=X.columns).sort_values(by='importance', ascending=False)\n",
    "\n",
    "sns.set(font_scale=1.50)\n",
    "plt.figure(figsize=(15, 5))\n",
    "plt.xticks(rotation=90)\n",
    "sns.barplot(x='feature', y='importance', data=importances[0:15])"
   ]
  },
  {
   "cell_type": "markdown",
   "metadata": {},
   "source": [
    "### Dogs\n",
    "Let's try it for dogs!"
   ]
  },
  {
   "cell_type": "code",
   "execution_count": 69,
   "metadata": {},
   "outputs": [
    {
     "data": {
      "text/plain": [
       "RandomForestClassifier(bootstrap=True, class_weight=None, criterion='gini',\n",
       "            max_depth=None, max_features='auto', max_leaf_nodes=None,\n",
       "            min_impurity_decrease=0.0, min_impurity_split=None,\n",
       "            min_samples_leaf=1, min_samples_split=2,\n",
       "            min_weight_fraction_leaf=0.0, n_estimators=10, n_jobs=1,\n",
       "            oob_score=False, random_state=None, verbose=0,\n",
       "            warm_start=False)"
      ]
     },
     "execution_count": 69,
     "metadata": {},
     "output_type": "execute_result"
    }
   ],
   "source": [
    "rfc = ensemble.RandomForestClassifier()\n",
    "X = dog_df2.drop(['outcome_type','adopt_bi'], 1)\n",
    "y = dog_df2['outcome_type']\n",
    "\n",
    "# We need to get dummy variables for the categorical data\n",
    "X = pd.get_dummies(X)\n",
    "\n",
    "X_train, X_test, y_train, y_test = train_test_split(X, y, test_size=0.3,\n",
    "                                                    random_state=0, stratify=y)\n",
    "\n",
    "rfc.fit(X_train, y_train)"
   ]
  },
  {
   "cell_type": "code",
   "execution_count": 70,
   "metadata": {},
   "outputs": [
    {
     "data": {
      "text/plain": [
       "0.57278481012658233"
      ]
     },
     "execution_count": 70,
     "metadata": {},
     "output_type": "execute_result"
    }
   ],
   "source": [
    "rfc.score(X_test, y_test)"
   ]
  },
  {
   "cell_type": "code",
   "execution_count": 71,
   "metadata": {},
   "outputs": [
    {
     "data": {
      "text/plain": [
       "array([ 0.57872148,  0.55997289,  0.57117036,  0.56394035,  0.58146893,\n",
       "        0.59403255,  0.59041591,  0.5663877 ,  0.59447839,  0.58520027])"
      ]
     },
     "execution_count": 71,
     "metadata": {},
     "output_type": "execute_result"
    }
   ],
   "source": [
    "cross_val_score(rfc, X, y, cv=10)"
   ]
  },
  {
   "cell_type": "code",
   "execution_count": 72,
   "metadata": {},
   "outputs": [
    {
     "data": {
      "text/plain": [
       "<matplotlib.axes._subplots.AxesSubplot at 0x115be6518>"
      ]
     },
     "execution_count": 72,
     "metadata": {},
     "output_type": "execute_result"
    },
    {
     "data": {
      "image/png": "[encoded data removed]",
      "text/plain": [
       "<matplotlib.figure.Figure at 0x115afe400>"
      ]
     },
     "metadata": {},
     "output_type": "display_data"
    }
   ],
   "source": [
    "feature_importances = rfc.feature_importances_\n",
    "\n",
    "importances = pd.DataFrame({'importance': feature_importances, 'feature': X.columns}, \n",
    "                           index=X.columns).sort_values(by='importance', ascending=False)\n",
    "\n",
    "sns.set(font_scale=1.50)\n",
    "plt.figure(figsize=(15, 5))\n",
    "plt.xticks(rotation=90)\n",
    "sns.barplot(x='feature', y='importance', data=importances[0:15])"
   ]
  },
  {
   "cell_type": "markdown",
   "metadata": {},
   "source": [
    "These are features that are important to predicting the outcome of the animal.  \n",
    "\n",
    "## Predicting Adoption using Random Forest\n",
    "What if we just want to look at whether or not the animal is adopted, compared to all other outcomes.\n",
    "\n",
    "### Cats"
   ]
  },
  {
   "cell_type": "code",
   "execution_count": 73,
   "metadata": {},
   "outputs": [
    {
     "data": {
      "text/plain": [
       "RandomForestClassifier(bootstrap=True, class_weight=None, criterion='gini',\n",
       "            max_depth=None, max_features='auto', max_leaf_nodes=None,\n",
       "            min_impurity_decrease=0.0, min_impurity_split=None,\n",
       "            min_samples_leaf=1, min_samples_split=2,\n",
       "            min_weight_fraction_leaf=0.0, n_estimators=10, n_jobs=1,\n",
       "            oob_score=False, random_state=None, verbose=0,\n",
       "            warm_start=False)"
      ]
     },
     "execution_count": 73,
     "metadata": {},
     "output_type": "execute_result"
    }
   ],
   "source": [
    "rfc = ensemble.RandomForestClassifier()\n",
    "Xc = cat_df2.drop(['outcome_type','adopt_bi'], 1)\n",
    "yc = cat_df2['adopt_bi']\n",
    "\n",
    "# We need to get dummy variables for the categorical data\n",
    "Xc = pd.get_dummies(Xc)\n",
    "\n",
    "Xc_train, Xc_test, yc_train, yc_test = train_test_split(Xc, yc, test_size=0.3,\n",
    "                                                    random_state=0, stratify=yc)\n",
    "\n",
    "rfc.fit(Xc_train, yc_train)"
   ]
  },
  {
   "cell_type": "code",
   "execution_count": 74,
   "metadata": {},
   "outputs": [
    {
     "data": {
      "text/plain": [
       "0.84455019261273512"
      ]
     },
     "execution_count": 74,
     "metadata": {},
     "output_type": "execute_result"
    }
   ],
   "source": [
    "rfc.score(Xc_test, yc_test)"
   ]
  },
  {
   "cell_type": "code",
   "execution_count": 75,
   "metadata": {},
   "outputs": [
    {
     "data": {
      "text/plain": [
       "array([ 0.83078491,  0.84165817,  0.81747111,  0.83310673,  0.85690007,\n",
       "        0.85248131,  0.84772264,  0.84257055,  0.85923155,  0.8432506 ])"
      ]
     },
     "execution_count": 75,
     "metadata": {},
     "output_type": "execute_result"
    }
   ],
   "source": [
    "cross_val_score(rfc, Xc, yc, cv=10)"
   ]
  },
  {
   "cell_type": "code",
   "execution_count": 76,
   "metadata": {},
   "outputs": [
    {
     "data": {
      "text/plain": [
       "<matplotlib.axes._subplots.AxesSubplot at 0x115a3e128>"
      ]
     },
     "execution_count": 76,
     "metadata": {},
     "output_type": "execute_result"
    },
    {
     "data": {
      "image/png": "[encoded data removed]",
      "text/plain": [
       "<matplotlib.figure.Figure at 0x115a3e9b0>"
      ]
     },
     "metadata": {},
     "output_type": "display_data"
    }
   ],
   "source": [
    "feature_importances = rfc.feature_importances_\n",
    "\n",
    "importances = pd.DataFrame({'importance': feature_importances, 'feature': Xc.columns}, \n",
    "                           index=Xc.columns).sort_values(by='importance', ascending=False)\n",
    "\n",
    "sns.set(font_scale=1.50)\n",
    "plt.figure(figsize=(15, 5))\n",
    "plt.xticks(rotation=90)\n",
    "sns.barplot(x='feature', y='importance', data=importances[0:15])"
   ]
  },
  {
   "cell_type": "code",
   "execution_count": 77,
   "metadata": {},
   "outputs": [
    {
     "data": {
      "text/plain": [
       "RandomForestClassifier(bootstrap=True, class_weight=None, criterion='gini',\n",
       "            max_depth=None, max_features='auto', max_leaf_nodes=None,\n",
       "            min_impurity_decrease=0.0, min_impurity_split=None,\n",
       "            min_samples_leaf=1, min_samples_split=2,\n",
       "            min_weight_fraction_leaf=0.0, n_estimators=10, n_jobs=1,\n",
       "            oob_score=False, random_state=None, verbose=0,\n",
       "            warm_start=False)"
      ]
     },
     "execution_count": 77,
     "metadata": {},
     "output_type": "execute_result"
    }
   ],
   "source": [
    "rfc = ensemble.RandomForestClassifier()\n",
    "Xd = dog_df2.drop(['outcome_type','adopt_bi'], 1)\n",
    "yd = dog_df2['adopt_bi']\n",
    "\n",
    "# We need to get dummy variables for the categorical data\n",
    "Xd = pd.get_dummies(Xd)\n",
    "\n",
    "Xd_train, Xd_test, yd_train, yd_test = train_test_split(Xd, yd, test_size=0.3,\n",
    "                                                    random_state=0, stratify=yd)\n",
    "\n",
    "rfc.fit(Xd_train, yd_train)"
   ]
  },
  {
   "cell_type": "code",
   "execution_count": 78,
   "metadata": {},
   "outputs": [
    {
     "data": {
      "text/plain": [
       "0.7049427365883062"
      ]
     },
     "execution_count": 78,
     "metadata": {},
     "output_type": "execute_result"
    }
   ],
   "source": [
    "rfc.score(Xd_test, yd_test)"
   ]
  },
  {
   "cell_type": "code",
   "execution_count": 79,
   "metadata": {},
   "outputs": [
    {
     "data": {
      "text/plain": [
       "array([ 0.69107345,  0.69129944,  0.69077758,  0.68535262,  0.7090868 ,\n",
       "        0.71179928,  0.71422112,  0.7121863 ,  0.70992539,  0.70879494])"
      ]
     },
     "execution_count": 79,
     "metadata": {},
     "output_type": "execute_result"
    }
   ],
   "source": [
    "cross_val_score(rfc, Xd, yd, cv=10)"
   ]
  },
  {
   "cell_type": "code",
   "execution_count": 80,
   "metadata": {},
   "outputs": [
    {
     "data": {
      "text/plain": [
       "<matplotlib.axes._subplots.AxesSubplot at 0x115a3e320>"
      ]
     },
     "execution_count": 80,
     "metadata": {},
     "output_type": "execute_result"
    },
    {
     "data": {
      "image/png": "[encoded data removed]",
      "text/plain": [
       "<matplotlib.figure.Figure at 0x115a3e2b0>"
      ]
     },
     "metadata": {},
     "output_type": "display_data"
    }
   ],
   "source": [
    "feature_importances = rfc.feature_importances_\n",
    "\n",
    "importances = pd.DataFrame({'importance': feature_importances, 'feature': Xd.columns}, \n",
    "                           index=Xd.columns).sort_values(by='importance', ascending=False)\n",
    "\n",
    "sns.set(font_scale=1.50)\n",
    "plt.figure(figsize=(15, 5))\n",
    "plt.xticks(rotation=90)\n",
    "sns.barplot(x='feature', y='importance', data=importances[0:15])"
   ]
  },
  {
   "cell_type": "markdown",
   "metadata": {},
   "source": [
    "## Support Vector Machine for predicting adoption\n",
    "\n",
    "### Cats"
   ]
  },
  {
   "cell_type": "code",
   "execution_count": 90,
   "metadata": {},
   "outputs": [
    {
     "data": {
      "text/plain": [
       "SVC(C=1e-09, cache_size=200, class_weight=None, coef0=0.0,\n",
       "  decision_function_shape='ovr', degree=3, gamma='auto', kernel='rbf',\n",
       "  max_iter=-1, probability=False, random_state=None, shrinking=True,\n",
       "  tol=0.001, verbose=False)"
      ]
     },
     "execution_count": 90,
     "metadata": {},
     "output_type": "execute_result"
    }
   ],
   "source": [
    "svc = SVC(C=1e-9, kernel='rbf')\n",
    "svc.fit(Xc_train, yc_train)"
   ]
  },
  {
   "cell_type": "code",
   "execution_count": null,
   "metadata": {},
   "outputs": [
    {
     "data": {
      "text/plain": [
       "0.56718785406752781"
      ]
     },
     "execution_count": 91,
     "metadata": {},
     "output_type": "execute_result"
    }
   ],
   "source": [
    "svc.score(Xc_test, yc_test)"
   ]
  },
  {
   "cell_type": "code",
   "execution_count": null,
   "metadata": {},
   "outputs": [],
   "source": [
    "cross_val_score(svc, Xc, yc, cv=10)"
   ]
  },
  {
   "cell_type": "markdown",
   "metadata": {},
   "source": [
    "### Dogs"
   ]
  },
  {
   "cell_type": "code",
   "execution_count": null,
   "metadata": {},
   "outputs": [],
   "source": [
    "svc = SVC(C=1e-9, kernel='rbf')\n",
    "svc.fit(Xd_train, yd_train)"
   ]
  },
  {
   "cell_type": "code",
   "execution_count": null,
   "metadata": {},
   "outputs": [],
   "source": [
    "svc.score(Xd_test, yd_test)"
   ]
  },
  {
   "cell_type": "code",
   "execution_count": null,
   "metadata": {},
   "outputs": [],
   "source": [
    "cross_val_score(svc, Xd, yd, cv=10)"
   ]
  }
 ],
 "metadata": {
  "kernelspec": {
   "display_name": "Python 3",
   "language": "python",
   "name": "python3"
  },
  "language_info": {
   "codemirror_mode": {
    "name": "ipython",
    "version": 3
   },
   "file_extension": ".py",
   "mimetype": "text/x-python",
   "name": "python",
   "nbconvert_exporter": "python",
   "pygments_lexer": "ipython3",
   "version": "3.4.3"
  }
 },
 "nbformat": 4,
 "nbformat_minor": 2
}

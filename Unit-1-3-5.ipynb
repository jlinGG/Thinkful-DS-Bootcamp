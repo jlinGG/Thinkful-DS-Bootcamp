{
 "cells": [
  {
   "cell_type": "markdown",
   "metadata": {},
   "source": [
    "## Manipulating Strings in Python"
   ]
  },
  {
   "cell_type": "markdown",
   "metadata": {},
   "source": [
    "## Extracting different categories of character from a string.\n",
    "\n",
    "The `.isdigit()` method tests whether each character in a string is a digit.  It is one of a family of string methods including `.isalpha()`, `.isnumeric()`, `.isspace()`, `.isalnum()` that are very useful for extracting different aspects of a string.  For a list of all string methods and more detail on each of the above, see the [Python 3 string method documentation](https://docs.python.org/3/library/stdtypes.html#string-methods)."
   ]
  },
  {
   "cell_type": "code",
   "execution_count": 1,
   "metadata": {},
   "outputs": [
    {
     "name": "stdout",
     "output_type": "stream",
     "text": [
      "False\n"
     ]
    }
   ],
   "source": [
    "import pandas as pd\n",
    "\n",
    "sample_string = 'take 5'\n",
    "print(sample_string.isdigit())\n",
    "\n",
    "# Experiment on the sample string below using the other methods listed above.\n",
    "# What does each do? When would they be useful? What happens when you try them\n",
    "# on different slices of the sample string, like sample_string[:4]?"
   ]
  },
  {
   "cell_type": "code",
   "execution_count": 2,
   "metadata": {},
   "outputs": [
    {
     "name": "stdout",
     "output_type": "stream",
     "text": [
      "True\n"
     ]
    }
   ],
   "source": [
    "m = '123'\n",
    "print(m.isdigit())"
   ]
  },
  {
   "cell_type": "code",
   "execution_count": 3,
   "metadata": {},
   "outputs": [
    {
     "name": "stdout",
     "output_type": "stream",
     "text": [
      "False\n"
     ]
    }
   ],
   "source": [
    "p = 'Hello world'\n",
    "print(p.isalpha())"
   ]
  },
  {
   "cell_type": "code",
   "execution_count": 10,
   "metadata": {},
   "outputs": [
    {
     "name": "stdout",
     "output_type": "stream",
     "text": [
      "True\n"
     ]
    }
   ],
   "source": [
    "n = ' '\n",
    "print(n.isspace())"
   ]
  },
  {
   "cell_type": "code",
   "execution_count": 4,
   "metadata": {},
   "outputs": [
    {
     "name": "stdout",
     "output_type": "stream",
     "text": [
      "True\n"
     ]
    }
   ],
   "source": [
    "p2 = 'Helloworld'\n",
    "print(p2.isalpha())"
   ]
  },
  {
   "cell_type": "code",
   "execution_count": 7,
   "metadata": {},
   "outputs": [
    {
     "name": "stdout",
     "output_type": "stream",
     "text": [
      "True\n"
     ]
    }
   ],
   "source": [
    "a = '365days'\n",
    "print(a[:2].isnumeric())"
   ]
  },
  {
   "cell_type": "code",
   "execution_count": 11,
   "metadata": {},
   "outputs": [
    {
     "name": "stdout",
     "output_type": "stream",
     "text": [
      "True\n"
     ]
    }
   ],
   "source": [
    "print(a.isalnum())"
   ]
  },
  {
   "cell_type": "markdown",
   "metadata": {},
   "source": [
    "### Apply\n",
    "\n",
    "When cleaning data, you will be dealing with data frames made up of variables containing strings, rather than individual strings directly. But `isdigit()` and the other methods described above are string methods, _not_ data frame methods. \n",
    "\n",
    "This is where the [Pandas `.apply()` method](http://pandas.pydata.org/pandas-docs/stable/generated/pandas.DataFrame.apply.html) steps in. `.apply()` lets us specify a function and _apply_ that function to each element in the data frame or series we're working with.\n",
    "\n",
    "**Apply** applies a function to each element of a dataframe.  "
   ]
  },
  {
   "cell_type": "code",
   "execution_count": 12,
   "metadata": {},
   "outputs": [
    {
     "ename": "AttributeError",
     "evalue": "'Series' object has no attribute 'isdigit'",
     "output_type": "error",
     "traceback": [
      "\u001b[0;31m---------------------------------------------------------------------------\u001b[0m",
      "\u001b[0;31mAttributeError\u001b[0m                            Traceback (most recent call last)",
      "\u001b[0;32m<ipython-input-12-36f47f1c0332>\u001b[0m in \u001b[0;36m<module>\u001b[0;34m()\u001b[0m\n\u001b[1;32m      5\u001b[0m \u001b[0;31m# attribute, _not_ a series attribute. Uncomment the line below to see.\u001b[0m\u001b[0;34m\u001b[0m\u001b[0;34m\u001b[0m\u001b[0m\n\u001b[1;32m      6\u001b[0m \u001b[0;34m\u001b[0m\u001b[0m\n\u001b[0;32m----> 7\u001b[0;31m \u001b[0mprint\u001b[0m\u001b[0;34m(\u001b[0m\u001b[0mmoney\u001b[0m\u001b[0;34m.\u001b[0m\u001b[0misdigit\u001b[0m\u001b[0;34m(\u001b[0m\u001b[0;34m)\u001b[0m\u001b[0;34m)\u001b[0m\u001b[0;34m\u001b[0m\u001b[0m\n\u001b[0m",
      "\u001b[0;32m/Library/Frameworks/Python.framework/Versions/3.4/lib/python3.4/site-packages/pandas/core/generic.py\u001b[0m in \u001b[0;36m__getattr__\u001b[0;34m(self, name)\u001b[0m\n\u001b[1;32m   3079\u001b[0m             \u001b[0;32mif\u001b[0m \u001b[0mname\u001b[0m \u001b[0;32min\u001b[0m \u001b[0mself\u001b[0m\u001b[0;34m.\u001b[0m\u001b[0m_info_axis\u001b[0m\u001b[0;34m:\u001b[0m\u001b[0;34m\u001b[0m\u001b[0m\n\u001b[1;32m   3080\u001b[0m                 \u001b[0;32mreturn\u001b[0m \u001b[0mself\u001b[0m\u001b[0;34m[\u001b[0m\u001b[0mname\u001b[0m\u001b[0;34m]\u001b[0m\u001b[0;34m\u001b[0m\u001b[0m\n\u001b[0;32m-> 3081\u001b[0;31m             \u001b[0;32mreturn\u001b[0m \u001b[0mobject\u001b[0m\u001b[0;34m.\u001b[0m\u001b[0m__getattribute__\u001b[0m\u001b[0;34m(\u001b[0m\u001b[0mself\u001b[0m\u001b[0;34m,\u001b[0m \u001b[0mname\u001b[0m\u001b[0;34m)\u001b[0m\u001b[0;34m\u001b[0m\u001b[0m\n\u001b[0m\u001b[1;32m   3082\u001b[0m \u001b[0;34m\u001b[0m\u001b[0m\n\u001b[1;32m   3083\u001b[0m     \u001b[0;32mdef\u001b[0m \u001b[0m__setattr__\u001b[0m\u001b[0;34m(\u001b[0m\u001b[0mself\u001b[0m\u001b[0;34m,\u001b[0m \u001b[0mname\u001b[0m\u001b[0;34m,\u001b[0m \u001b[0mvalue\u001b[0m\u001b[0;34m)\u001b[0m\u001b[0;34m:\u001b[0m\u001b[0;34m\u001b[0m\u001b[0m\n",
      "\u001b[0;31mAttributeError\u001b[0m: 'Series' object has no attribute 'isdigit'"
     ]
    }
   ],
   "source": [
    "# Create a series of dirty, annoying values.\n",
    "money = pd.Series([400, 111, '$20', 57, 'Lots'])\n",
    "\n",
    "# Running `money.isdigit()` throws an error because .isdigit() is a string\n",
    "# attribute, _not_ a series attribute. Uncomment the line below to see.\n",
    "\n",
    "print(money.isdigit())"
   ]
  },
  {
   "cell_type": "code",
   "execution_count": 14,
   "metadata": {},
   "outputs": [
    {
     "name": "stdout",
     "output_type": "stream",
     "text": [
      "0     True\n",
      "1     True\n",
      "2    False\n",
      "3     True\n",
      "4    False\n",
      "dtype: bool\n"
     ]
    }
   ],
   "source": [
    "# Instead, let's define a new function that takes a string as an argument\n",
    "# and returns True if the string is all digits, otherwise False.\n",
    "\n",
    "def is_a_string(x):\n",
    "    # First make sure we're operating on a string, then use our string method.\n",
    "    return str(x).isdigit()\n",
    "\n",
    "# Now let's apply our custom function to each element in our series.\n",
    "print(money.apply(is_a_string))"
   ]
  },
  {
   "cell_type": "markdown",
   "metadata": {},
   "source": [
    "### Lambda functions\n",
    "\n",
    "In the example above we defined a very small function that does basically the same thing as `.isdigit()` but that isn't tied to strings as a method. We had to stretch to find a good name for it because it reproduces functionality we already have. Frequently we'll want to define this new function on the fly rather than using `def` to create a named function like the above that sticks around. That's where lambda functions come in.\n",
    "\n",
    "**Lambda functions** are small, temporary, unnamed (sometimes called \"anonymous\") functions created with the `lambda` keyword. Let's look at an example that's identical to the above except using a lambda function instead of a named function."
   ]
  },
  {
   "cell_type": "code",
   "execution_count": 15,
   "metadata": {},
   "outputs": [
    {
     "name": "stdout",
     "output_type": "stream",
     "text": [
      "0     True\n",
      "1     True\n",
      "2    False\n",
      "3     True\n",
      "4    False\n",
      "dtype: bool\n"
     ]
    }
   ],
   "source": [
    "# Here's a lambda function that mirrors the is_a_digit function above.\n",
    "# Read this print statement carefully and compare to the previous one.\n",
    "print(money.apply(lambda x: str(x).isdigit()))"
   ]
  },
  {
   "cell_type": "markdown",
   "metadata": {},
   "source": [
    "The key here is this bit: `lambda x: str(x).isdigit())`. To break down the syntax, you start with the `lambda` keyword, then follow with the parameters for your function. Here we use just `x`, but we could have multiple parameters separated by a comma like `x, y` if we wanted. Next comes a colon `:` followed by the expression that would normally be in our function body and be preceded by `return`: `str(x).isdigit()`. Here we omit the `return` keyword; it isn't necessary with lambda functions.\n",
    "\n",
    "If you'd like more information on lambda functions in Python see the (very terse) [Python documentation](https://docs.python.org/3/tutorial/controlflow.html#lambda-expressions), or this [detailed tutorial](https://pythonconquerstheuniverse.wordpress.com/2011/08/29/lambda_tutorial/)."
   ]
  },
  {
   "cell_type": "markdown",
   "metadata": {},
   "source": [
    "### Filter \n",
    "\n",
    "We can use the [built-in `filter()` function](https://docs.python.org/3/library/functions.html#filter) to extract parts of our strings. For example, we can use it to extract just the digit information. \n",
    "\n",
    "The `filter()` function expects two arguments. The first argument is a function that takes a single input and returns a boolean value, and the second argument is an iterable where each of elements of the iterable will be fed into the first argument and processed into a boolean. The `filter()` function returns an iterator that picks out the instances of the iterable where the corresponding boolean value is `True`.\n",
    "\n",
    "In our example we can use `filter()` directly on our series to filter out all the elements that aren't nice and clean, or we can _apply_ filter to each element of our series to extract the numeric parts. Let's see both approaches and stick with our lambda functions."
   ]
  },
  {
   "cell_type": "code",
   "execution_count": 18,
   "metadata": {},
   "outputs": [
    {
     "name": "stdout",
     "output_type": "stream",
     "text": [
      "Filtering the whole series:\n",
      "[400, 111, 57]\n",
      "\n",
      "Applying filter() to each value in the series:\n",
      "0    400\n",
      "1    111\n",
      "2     20\n",
      "3     57\n",
      "4       \n",
      "dtype: object\n"
     ]
    }
   ],
   "source": [
    "# We're using list() on the result because filter() returns an iterator.\n",
    "\n",
    "#If element in money running through lambda x: str(x).isdigit() returns True, list it.\n",
    "print('Filtering the whole series:')\n",
    "print(list(filter(lambda x: str(x).isdigit(), money)))\n",
    "\n",
    "# Because it is check if each character is a digit, we need ''.join to join element back together.\n",
    "print('\\nApplying filter() to each value in the series:')\n",
    "print(money.apply(lambda x: ''.join(list(filter(str.isdigit, str(x))))))"
   ]
  },
  {
   "cell_type": "markdown",
   "metadata": {},
   "source": [
    "### Splitting strings apart\n",
    "\n",
    "Sometimes we want to keep all the information in a string but divide it up into several pieces.  The `.split()` string method takes one argument, the character or substring to split on, and returns a list of the pieces of the string it's called on, using the separator as a delimiter for each piece. Conveniently, Pandas gives us its [own version of this built-in method](http://pandas.pydata.org/pandas-docs/stable/generated/pandas.Series.str.split.html) with  `Series.str.split()` that you can use directly on series objects without needing `.apply()`."
   ]
  },
  {
   "cell_type": "code",
   "execution_count": 20,
   "metadata": {},
   "outputs": [
    {
     "name": "stdout",
     "output_type": "stream",
     "text": [
      "0     MollyMalone\n",
      "1    JeffreyJones\n",
      "2      DeadParrot\n",
      "Name: 0, dtype: object \n",
      "\n",
      "0     molmal@gmail.com\n",
      "1    jefjo@hotmail.com\n",
      "2     fjords@gmail.com\n",
      "Name: 1, dtype: object\n"
     ]
    }
   ],
   "source": [
    "# Create a series of dirty, annoying strings.\n",
    "words = pd.Series([\n",
    "    'MollyMalone$molmal@gmail.com',\n",
    "    'JeffreyJones$jefjo@hotmail.com',\n",
    "    'DeadParrot$fjords@gmail.com'\n",
    "])\n",
    "\n",
    "# Split on '$'. We'll use the Pandas split method.\n",
    "word_split = words.str.split('$', expand=True)\n",
    "names = word_split[0]\n",
    "emails = word_split[1]\n",
    "print(names, '\\n')\n",
    "print(emails)"
   ]
  },
  {
   "cell_type": "code",
   "execution_count": 21,
   "metadata": {},
   "outputs": [
    {
     "name": "stdout",
     "output_type": "stream",
     "text": [
      "  0       1      2\n",
      "0      olly  alone\n",
      "1    effrey   ones\n",
      "2       ead  arrot\n"
     ]
    }
   ],
   "source": [
    "# Splitting on capital letters.\n",
    "# Just because we can doesn't mean we should:\n",
    "print(names.str.split('[A-Z]', expand=True))"
   ]
  },
  {
   "cell_type": "markdown",
   "metadata": {},
   "source": [
    "That example is obviously problematic. A better method of dividing on capital letters, which retains the character used as a separator, is to use the '.findall()' method from the re package. The regular expression '\\[A-Z][a-z]*' says to find each instance where an uppercase letter is followed by lowercase letters, and return each instance as an item in a list."
   ]
  },
  {
   "cell_type": "code",
   "execution_count": 22,
   "metadata": {},
   "outputs": [
    {
     "name": "stdout",
     "output_type": "stream",
     "text": [
      "0      Molly\n",
      "1    Jeffrey\n",
      "2       Dead\n",
      "Name: 0, dtype: object \n",
      "\n",
      "0    Malone\n",
      "1     Jones\n",
      "2    Parrot\n",
      "Name: 0, dtype: object\n"
     ]
    }
   ],
   "source": [
    "import re\n",
    "\n",
    "# We expect the first name to follow the first capital letter.\n",
    "firstname = names.apply(lambda x: re.findall('[A-Z][a-z]*', x)[0])\n",
    "\n",
    "# We expect the last name to follow the second capital letter.\n",
    "lastname = names.apply(lambda x: re.findall('[A-Z][a-z]*', x)[1])\n",
    "\n",
    "print(firstname, '\\n')\n",
    "print(lastname)"
   ]
  },
  {
   "cell_type": "markdown",
   "metadata": {},
   "source": [
    "## Changing the content of strings\n",
    "\n",
    "### Replace\n",
    "\n",
    "We can replace specific characters or combinations of characters with a new string, or with nothing at all. Again, [Pandas gives us](http://pandas.pydata.org/pandas-docs/stable/generated/pandas.Series.str.replace.html) the useful  `Series.str.replace()` so we don't need to apply the built-in Python `.replace()` string method."
   ]
  },
  {
   "cell_type": "code",
   "execution_count": null,
   "metadata": {},
   "outputs": [],
   "source": [
    "print(emails.str.replace('@', ' at '),'\\n')\n",
    "\n",
    "print(emails.str.replace('.com', ''))"
   ]
  },
  {
   "cell_type": "markdown",
   "metadata": {},
   "source": [
    "### Changing case\n",
    "\n",
    "If capitalization varies inconsistently in a variable, it may be useful to eliminate the inconsistency by casting each string to a specific case:"
   ]
  },
  {
   "cell_type": "code",
   "execution_count": 23,
   "metadata": {},
   "outputs": [
    {
     "name": "stdout",
     "output_type": "stream",
     "text": [
      "0     mollymalone\n",
      "1    jeffreyjones\n",
      "2      deadparrot\n",
      "Name: 0, dtype: object \n",
      "\n",
      "0     MOLLYMALONE\n",
      "1    JEFFREYJONES\n",
      "2      DEADPARROT\n",
      "Name: 0, dtype: object \n",
      "\n",
      "0     Mollymalone\n",
      "1    Jeffreyjones\n",
      "2      Deadparrot\n",
      "Name: 0, dtype: object\n"
     ]
    }
   ],
   "source": [
    "print(names.str.lower(), '\\n')\n",
    "print(names.str.upper(), '\\n')\n",
    "print(names.str.capitalize())"
   ]
  },
  {
   "cell_type": "markdown",
   "metadata": {},
   "source": [
    "### Stripping whitespace\n",
    "\n",
    "Another common pain in dirty data is irregularly applied whitespace at the beginning or end of a string. The best way to deal with this is to remove leading and trailing whitespace with the `.strip()` string method. We can strip a single string:"
   ]
  },
  {
   "cell_type": "code",
   "execution_count": 25,
   "metadata": {},
   "outputs": [
    {
     "name": "stdout",
     "output_type": "stream",
     "text": [
      "   What, on earth, is going on here?      \n",
      "What, on earth, is going on here?\n"
     ]
    }
   ],
   "source": [
    "spacy = '   What, on earth, is going on here?      '\n",
    "print(spacy)\n",
    "print(spacy.strip())"
   ]
  },
  {
   "cell_type": "code",
   "execution_count": 34,
   "metadata": {},
   "outputs": [
    {
     "name": "stdout",
     "output_type": "stream",
     "text": [
      "0       duck\n",
      "1      duck \n",
      "2     goose \n",
      "3      goose\n",
      "dtype: object\n",
      "\n",
      "\n",
      "0     duck\n",
      "1     duck\n",
      "2    goose\n",
      "3    goose\n",
      "dtype: object\n"
     ]
    }
   ],
   "source": [
    "# Series of strings with annoying whitespace.\n",
    "words = pd.Series([' duck', 'duck ', ' goose ', 'goose'])\n",
    "\n",
    "print(words)\n",
    "print('\\n')\n",
    "\n",
    "stripped = words.str.strip()\n",
    "\n",
    "\n",
    "print(stripped)"
   ]
  },
  {
   "cell_type": "markdown",
   "metadata": {},
   "source": [
    "In the following Challenge, you'll get lots of opportunities to hone your string-wrangling skills.  If you'd like to practice or compose regular expressions, check out [RegExr](http://regexr.com/), a wonderful interactive website that lets you tinker with regular expressions and visually breaks down the pattern matching."
   ]
  },
  {
   "cell_type": "code",
   "execution_count": null,
   "metadata": {},
   "outputs": [],
   "source": []
  }
 ],
 "metadata": {
  "kernelspec": {
   "display_name": "Python 3",
   "language": "python",
   "name": "python3"
  },
  "language_info": {
   "codemirror_mode": {
    "name": "ipython",
    "version": 3
   },
   "file_extension": ".py",
   "mimetype": "text/x-python",
   "name": "python",
   "nbconvert_exporter": "python",
   "pygments_lexer": "ipython3",
   "version": "3.4.3"
  }
 },
 "nbformat": 4,
 "nbformat_minor": 2
}

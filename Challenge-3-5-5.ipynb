{
 "cells": [
  {
   "cell_type": "markdown",
   "metadata": {},
   "source": [
    "# Challenge: what model can answer this question?\n",
    "\n",
    "You now have a fairly substantial starting toolbox of supervised learning methods that you can use to tackle a host of exciting problems. To make sure all of these ideas are organized in your mind, please go through the list of problems below. For each, identify which supervised learning method(s) would be best for addressing that particular problem. Explain your reasoning and discuss your answers with your mentor.\n",
    "\n"
   ]
  },
  {
   "cell_type": "markdown",
   "metadata": {},
   "source": [
    "Model options\n",
    "- Naive Bayes: Classifier. Assumption of independence\n",
    "- Linear Regression: Continuous. Assumption of linear, multivariate normality, homoscedastic, low multicollinearity.\n",
    "- KNN: Classifer and Regression. \n",
    "- Random Forest: Classifier and Regressor\n",
    "- Logistic, Ridge and Lasso regression\n",
    "- SVM: Classifer and Regression\n",
    "- Gradient Boosting with regression trees"
   ]
  },
  {
   "cell_type": "markdown",
   "metadata": {},
   "source": [
    "1. Predict the running times of prospective Olympic sprinters using data from the last 20 Olympics. \n",
    "\n",
    " **KNN Regression: There are many parameters that may affect run times.  Also, run times may be clustered together.**\n",
    " \n",
    " \n",
    " \n",
    "2. You have more features (columns) than rows in your dataset.\n",
    "\n",
    " **Lasso Regression: embedded feature selection**\n",
    "    \n",
    "    \n",
    "3. Identify the most important characteristic predicting likelihood of being jailed before age 20.\n",
    "\n",
    " **Linear Regression: Use coefficients of variables in model to determine most impactful feature.**\n",
    "\n",
    "\n",
    "4. Implement a filter to “highlight” emails that might be important to the recipient\n",
    "\n",
    " **Naive Bayes: Good for binary filtering**\n",
    " \n",
    "\n",
    "5. You have 1000+ features.\n",
    "\n",
    " **Random Forest: Pick a subset of features and data to generate a decision tree, combine decision trees.**\n",
    " \n",
    "\n",
    "6. Predict whether someone who adds items to their cart on a website will purchase the items.\n",
    "\n",
    " **Decision Tree?**\n",
    " \n",
    "\n",
    "7. Your dataset dimensions are 982400 x 500\n",
    "\n",
    " **982400 rows, 500 columns.**\n",
    " **Lasso Regression**\n",
    " \n",
    "\n",
    "8. Identify faces in an image.\n",
    "\n",
    " **KNN: Identifying features in face and picking the most similar person to match it.**\n",
    " \n",
    "\n",
    "9. Predict which of three flavors of ice cream will be most popular with boys vs girls.\n",
    "\n",
    " **Naive Bayes or Random Forest**"
   ]
  },
  {
   "cell_type": "code",
   "execution_count": null,
   "metadata": {},
   "outputs": [],
   "source": []
  }
 ],
 "metadata": {
  "kernelspec": {
   "display_name": "Python 3",
   "language": "python",
   "name": "python3"
  },
  "language_info": {
   "codemirror_mode": {
    "name": "ipython",
    "version": 3
   },
   "file_extension": ".py",
   "mimetype": "text/x-python",
   "name": "python",
   "nbconvert_exporter": "python",
   "pygments_lexer": "ipython3",
   "version": "3.4.3"
  }
 },
 "nbformat": 4,
 "nbformat_minor": 2
}

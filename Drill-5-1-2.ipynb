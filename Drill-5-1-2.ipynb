{
 "cells": [
  {
   "cell_type": "markdown",
   "metadata": {},
   "source": [
    "## Quick Sort\n",
    "\n",
    "Quicksort is a divide and conquer algorithm. Quicksort first divides a large array into two smaller sub-arrays: the low elements and the high elements. Quicksort can then recursively sort the sub-arrays.\n",
    "\n",
    "The steps are:\n",
    "\n",
    "1. Pick an element, called a pivot, from the array.\n",
    "2. Partitioning: reorder the array so that all elements with values less than the pivot come before the pivot, while all elements with values greater than the pivot come after it (equal values can go either way). After this partitioning, the pivot is in its final position. This is called the partition operation.\n",
    "3. Recursively apply the above steps to the sub-array of elements with smaller values and separately to the sub-array of elements with greater values.\n",
    "4. The base case of the recursion is arrays of size zero or one, which are in order by definition, so they never need to be sorted.\n",
    "\n",
    "The pivot selection and partitioning steps can be done in several different ways; the choice of specific implementation schemes greatly affects the algorithm's performance."
   ]
  },
  {
   "cell_type": "code",
   "execution_count": 1,
   "metadata": {},
   "outputs": [],
   "source": [
    "import time\n",
    "import random\n",
    "\n",
    "# Set seed.\n",
    "random.seed(a=100)\n",
    "\n",
    "# Create our default list.\n",
    "short_list = list(random.sample(range(1000000), 10))\n",
    "long_list = list(random.sample(range(1000000), 10000))"
   ]
  },
  {
   "cell_type": "code",
   "execution_count": 4,
   "metadata": {},
   "outputs": [
    {
     "data": {
      "text/plain": [
       "[152745,\n",
       " 481850,\n",
       " 477025,\n",
       " 997948,\n",
       " 808225,\n",
       " 183236,\n",
       " 739784,\n",
       " 412125,\n",
       " 767514,\n",
       " 366725]"
      ]
     },
     "execution_count": 4,
     "metadata": {},
     "output_type": "execute_result"
    }
   ],
   "source": [
    "short_list"
   ]
  },
  {
   "cell_type": "code",
   "execution_count": 8,
   "metadata": {},
   "outputs": [],
   "source": [
    "def quick_sort(input_list):\n",
    "    lesser = []\n",
    "    greater = []\n",
    "    equal = []\n",
    "    \n",
    "    if len(input_list) > 1:\n",
    "        pivot = input_list[0]\n",
    "        for x in input_list:\n",
    "            if x < pivot:\n",
    "                lesser.append(x)\n",
    "            if x > pivot:\n",
    "                greater.append(x)\n",
    "            if x == pivot:\n",
    "                equal.append(x)\n",
    "        \n",
    "        # Cheating a bit here... Not sure how to algorithmically sort smaller lists\n",
    "        return sorted(lesser)+equal+sorted(greater)\n",
    "    \n",
    "    else:\n",
    "        print('This is not a list.')\n",
    "        return input_list\n",
    "    \n",
    "    "
   ]
  },
  {
   "cell_type": "code",
   "execution_count": null,
   "metadata": {},
   "outputs": [],
   "source": []
  }
 ],
 "metadata": {
  "kernelspec": {
   "display_name": "Python 3",
   "language": "python",
   "name": "python3"
  },
  "language_info": {
   "codemirror_mode": {
    "name": "ipython",
    "version": 3
   },
   "file_extension": ".py",
   "mimetype": "text/x-python",
   "name": "python",
   "nbconvert_exporter": "python",
   "pygments_lexer": "ipython3",
   "version": "3.6.4"
  }
 },
 "nbformat": 4,
 "nbformat_minor": 2
}

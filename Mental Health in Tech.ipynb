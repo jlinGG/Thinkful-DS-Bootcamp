{
 "cells": [
  {
   "cell_type": "markdown",
   "metadata": {},
   "source": [
    "## Unit 1 Capstone\n",
    "\n",
    "### Assignment\n",
    "\n",
    "The main component of this capstone is an experimentation RFC. Using the data set you selected, propose and outline an experiment plan. The plan should consist of three key components:\n",
    "\n",
    "- Analysis that highlights your experimental hypothesis.\n",
    "- A rollout plan showing how you would implement and rollout the experiment\n",
    "- An evaluation plan showing what constitutes success in this experiment\n",
    "\n",
    "Your experiment should be as real as possible. Though you obviously will not have access to the full production environment to deploy your experiment, it should be feasible and of interest to the parties involved with your actual data source."
   ]
  },
  {
   "cell_type": "markdown",
   "metadata": {},
   "source": [
    "### Exploring the Data\n",
    "\n",
    "For this capstone project, I will be using 2014 data from the Mental Health in Tech survey.  This survey measures attitudes towatd mental health and frequency of mental health disorders in the tech workplace.\n",
    "\n",
    "More information on the mental health in tech survey [here](https://www.kaggle.com/osmi/mental-health-in-tech-survey/data)."
   ]
  },
  {
   "cell_type": "code",
   "execution_count": 1,
   "metadata": {},
   "outputs": [],
   "source": [
    "import pandas as pd\n",
    "import numpy as np\n",
    "import matplotlib.pyplot as plt\n",
    "from scipy import stats"
   ]
  },
  {
   "cell_type": "code",
   "execution_count": 2,
   "metadata": {},
   "outputs": [],
   "source": [
    "# Uploading file.\n",
    "\n",
    "df = pd.read_csv('datafiles/mental_health_tech_survey.csv')"
   ]
  },
  {
   "cell_type": "code",
   "execution_count": 3,
   "metadata": {},
   "outputs": [
    {
     "data": {
      "text/html": [
       "<div>\n",
       "<style>\n",
       "    .dataframe thead tr:only-child th {\n",
       "        text-align: right;\n",
       "    }\n",
       "\n",
       "    .dataframe thead th {\n",
       "        text-align: left;\n",
       "    }\n",
       "\n",
       "    .dataframe tbody tr th {\n",
       "        vertical-align: top;\n",
       "    }\n",
       "</style>\n",
       "<table border=\"1\" class=\"dataframe\">\n",
       "  <thead>\n",
       "    <tr style=\"text-align: right;\">\n",
       "      <th></th>\n",
       "      <th>Timestamp</th>\n",
       "      <th>Age</th>\n",
       "      <th>Gender</th>\n",
       "      <th>Country</th>\n",
       "      <th>state</th>\n",
       "      <th>self_employed</th>\n",
       "      <th>family_history</th>\n",
       "      <th>treatment</th>\n",
       "      <th>work_interfere</th>\n",
       "      <th>no_employees</th>\n",
       "      <th>...</th>\n",
       "      <th>leave</th>\n",
       "      <th>mental_health_consequence</th>\n",
       "      <th>phys_health_consequence</th>\n",
       "      <th>coworkers</th>\n",
       "      <th>supervisor</th>\n",
       "      <th>mental_health_interview</th>\n",
       "      <th>phys_health_interview</th>\n",
       "      <th>mental_vs_physical</th>\n",
       "      <th>obs_consequence</th>\n",
       "      <th>comments</th>\n",
       "    </tr>\n",
       "  </thead>\n",
       "  <tbody>\n",
       "    <tr>\n",
       "      <th>0</th>\n",
       "      <td>2014-08-27 11:29:31</td>\n",
       "      <td>37</td>\n",
       "      <td>Female</td>\n",
       "      <td>United States</td>\n",
       "      <td>IL</td>\n",
       "      <td>NaN</td>\n",
       "      <td>No</td>\n",
       "      <td>Yes</td>\n",
       "      <td>Often</td>\n",
       "      <td>6-25</td>\n",
       "      <td>...</td>\n",
       "      <td>Somewhat easy</td>\n",
       "      <td>No</td>\n",
       "      <td>No</td>\n",
       "      <td>Some of them</td>\n",
       "      <td>Yes</td>\n",
       "      <td>No</td>\n",
       "      <td>Maybe</td>\n",
       "      <td>Yes</td>\n",
       "      <td>No</td>\n",
       "      <td>NaN</td>\n",
       "    </tr>\n",
       "    <tr>\n",
       "      <th>1</th>\n",
       "      <td>2014-08-27 11:29:37</td>\n",
       "      <td>44</td>\n",
       "      <td>M</td>\n",
       "      <td>United States</td>\n",
       "      <td>IN</td>\n",
       "      <td>NaN</td>\n",
       "      <td>No</td>\n",
       "      <td>No</td>\n",
       "      <td>Rarely</td>\n",
       "      <td>More than 1000</td>\n",
       "      <td>...</td>\n",
       "      <td>Don't know</td>\n",
       "      <td>Maybe</td>\n",
       "      <td>No</td>\n",
       "      <td>No</td>\n",
       "      <td>No</td>\n",
       "      <td>No</td>\n",
       "      <td>No</td>\n",
       "      <td>Don't know</td>\n",
       "      <td>No</td>\n",
       "      <td>NaN</td>\n",
       "    </tr>\n",
       "    <tr>\n",
       "      <th>2</th>\n",
       "      <td>2014-08-27 11:29:44</td>\n",
       "      <td>32</td>\n",
       "      <td>Male</td>\n",
       "      <td>Canada</td>\n",
       "      <td>NaN</td>\n",
       "      <td>NaN</td>\n",
       "      <td>No</td>\n",
       "      <td>No</td>\n",
       "      <td>Rarely</td>\n",
       "      <td>6-25</td>\n",
       "      <td>...</td>\n",
       "      <td>Somewhat difficult</td>\n",
       "      <td>No</td>\n",
       "      <td>No</td>\n",
       "      <td>Yes</td>\n",
       "      <td>Yes</td>\n",
       "      <td>Yes</td>\n",
       "      <td>Yes</td>\n",
       "      <td>No</td>\n",
       "      <td>No</td>\n",
       "      <td>NaN</td>\n",
       "    </tr>\n",
       "    <tr>\n",
       "      <th>3</th>\n",
       "      <td>2014-08-27 11:29:46</td>\n",
       "      <td>31</td>\n",
       "      <td>Male</td>\n",
       "      <td>United Kingdom</td>\n",
       "      <td>NaN</td>\n",
       "      <td>NaN</td>\n",
       "      <td>Yes</td>\n",
       "      <td>Yes</td>\n",
       "      <td>Often</td>\n",
       "      <td>26-100</td>\n",
       "      <td>...</td>\n",
       "      <td>Somewhat difficult</td>\n",
       "      <td>Yes</td>\n",
       "      <td>Yes</td>\n",
       "      <td>Some of them</td>\n",
       "      <td>No</td>\n",
       "      <td>Maybe</td>\n",
       "      <td>Maybe</td>\n",
       "      <td>No</td>\n",
       "      <td>Yes</td>\n",
       "      <td>NaN</td>\n",
       "    </tr>\n",
       "    <tr>\n",
       "      <th>4</th>\n",
       "      <td>2014-08-27 11:30:22</td>\n",
       "      <td>31</td>\n",
       "      <td>Male</td>\n",
       "      <td>United States</td>\n",
       "      <td>TX</td>\n",
       "      <td>NaN</td>\n",
       "      <td>No</td>\n",
       "      <td>No</td>\n",
       "      <td>Never</td>\n",
       "      <td>100-500</td>\n",
       "      <td>...</td>\n",
       "      <td>Don't know</td>\n",
       "      <td>No</td>\n",
       "      <td>No</td>\n",
       "      <td>Some of them</td>\n",
       "      <td>Yes</td>\n",
       "      <td>Yes</td>\n",
       "      <td>Yes</td>\n",
       "      <td>Don't know</td>\n",
       "      <td>No</td>\n",
       "      <td>NaN</td>\n",
       "    </tr>\n",
       "  </tbody>\n",
       "</table>\n",
       "<p>5 rows × 27 columns</p>\n",
       "</div>"
      ],
      "text/plain": [
       "             Timestamp  Age  Gender         Country state self_employed  \\\n",
       "0  2014-08-27 11:29:31   37  Female   United States    IL           NaN   \n",
       "1  2014-08-27 11:29:37   44       M   United States    IN           NaN   \n",
       "2  2014-08-27 11:29:44   32    Male          Canada   NaN           NaN   \n",
       "3  2014-08-27 11:29:46   31    Male  United Kingdom   NaN           NaN   \n",
       "4  2014-08-27 11:30:22   31    Male   United States    TX           NaN   \n",
       "\n",
       "  family_history treatment work_interfere    no_employees   ...     \\\n",
       "0             No       Yes          Often            6-25   ...      \n",
       "1             No        No         Rarely  More than 1000   ...      \n",
       "2             No        No         Rarely            6-25   ...      \n",
       "3            Yes       Yes          Often          26-100   ...      \n",
       "4             No        No          Never         100-500   ...      \n",
       "\n",
       "                leave mental_health_consequence phys_health_consequence  \\\n",
       "0       Somewhat easy                        No                      No   \n",
       "1          Don't know                     Maybe                      No   \n",
       "2  Somewhat difficult                        No                      No   \n",
       "3  Somewhat difficult                       Yes                     Yes   \n",
       "4          Don't know                        No                      No   \n",
       "\n",
       "      coworkers supervisor mental_health_interview phys_health_interview  \\\n",
       "0  Some of them        Yes                      No                 Maybe   \n",
       "1            No         No                      No                    No   \n",
       "2           Yes        Yes                     Yes                   Yes   \n",
       "3  Some of them         No                   Maybe                 Maybe   \n",
       "4  Some of them        Yes                     Yes                   Yes   \n",
       "\n",
       "  mental_vs_physical obs_consequence comments  \n",
       "0                Yes              No      NaN  \n",
       "1         Don't know              No      NaN  \n",
       "2                 No              No      NaN  \n",
       "3                 No             Yes      NaN  \n",
       "4         Don't know              No      NaN  \n",
       "\n",
       "[5 rows x 27 columns]"
      ]
     },
     "execution_count": 3,
     "metadata": {},
     "output_type": "execute_result"
    }
   ],
   "source": [
    "# Let's see what we're working with.\n",
    "\n",
    "df.head()"
   ]
  },
  {
   "cell_type": "code",
   "execution_count": 4,
   "metadata": {},
   "outputs": [
    {
     "data": {
      "text/plain": [
       "array(['Female', 'M', 'Male', 'male', 'female', 'm', 'Male-ish', 'maile',\n",
       "       'Trans-female', 'Cis Female', 'F', 'something kinda male?',\n",
       "       'Cis Male', 'Woman', 'f', 'Mal', 'Male (CIS)', 'queer/she/they',\n",
       "       'non-binary', 'Femake', 'woman', 'Make', 'Nah', 'All', 'Enby',\n",
       "       'fluid', 'Genderqueer', 'Female ', 'Androgyne', 'Agender',\n",
       "       'cis-female/femme', 'Guy (-ish) ^_^', 'male leaning androgynous',\n",
       "       'Male ', 'Man', 'Trans woman', 'msle', 'Neuter', 'Female (trans)',\n",
       "       'queer', 'Female (cis)', 'Mail', 'cis male', 'A little about you',\n",
       "       'Malr', 'p', 'femail', 'Cis Man',\n",
       "       'ostensibly male, unsure what that really means'], dtype=object)"
      ]
     },
     "execution_count": 4,
     "metadata": {},
     "output_type": "execute_result"
    }
   ],
   "source": [
    "# How is Gender being categorized?\n",
    "\n",
    "df['Gender'].unique()"
   ]
  },
  {
   "cell_type": "code",
   "execution_count": 5,
   "metadata": {},
   "outputs": [
    {
     "data": {
      "text/plain": [
       "male                                              989\n",
       "female                                            246\n",
       "female (trans)                                      2\n",
       "androgyne                                           1\n",
       "all                                                 1\n",
       "enby                                                1\n",
       "ostensibly male, unsure what that really means      1\n",
       "p                                                   1\n",
       "trans-female                                        1\n",
       "agender                                             1\n",
       "male-ish                                            1\n",
       "trans female                                        1\n",
       "male leaning androgynous                            1\n",
       "queer/she/they                                      1\n",
       "cis-female/femme                                    1\n",
       "genderqueer                                         1\n",
       "queer                                               1\n",
       "nah                                                 1\n",
       "malee                                               1\n",
       "a little about you                                  1\n",
       "non-binary                                          1\n",
       "guy (-ish) ^_^                                      1\n",
       "something kinda male?                               1\n",
       "neuter                                              1\n",
       "fluid                                               1\n",
       "Name: Gender, dtype: int64"
      ]
     },
     "execution_count": 5,
     "metadata": {},
     "output_type": "execute_result"
    }
   ],
   "source": [
    "# Looks like people wrote in responses.  Data cleaning time!\n",
    "\n",
    "df['Gender'] = df['Gender'].str.lower()\n",
    "df['Gender'] = df['Gender'].replace('m','male')\n",
    "df['Gender'] = df['Gender'].replace('f','female')\n",
    "\n",
    "df['Gender'] = df['Gender'].str.strip()\n",
    "\n",
    "df['Gender'] = df['Gender'].apply(lambda x: str(x).replace('cis ',''))\n",
    "df['Gender'] = df['Gender'].apply(lambda x: str(x).replace('(cis)',''))\n",
    "\n",
    "df['Gender'] = df['Gender'].apply(lambda x: str(x).replace('make','male'))\n",
    "df['Gender'] = df['Gender'].apply(lambda x: str(x).replace('mail','male'))\n",
    "df['Gender'] = df['Gender'].apply(lambda x: str(x).replace('mal','male'))\n",
    "df['Gender'] = df['Gender'].apply(lambda x: str(x).replace('malr','male'))\n",
    "df['Gender'] = df['Gender'].apply(lambda x: str(x).replace('woman','female'))\n",
    "df['Gender'] = df['Gender'].apply(lambda x: str(x).replace('maler','male'))\n",
    "df['Gender'] = df['Gender'].apply(lambda x: str(x).replace('msle','male'))\n",
    "df['Gender'] = df['Gender'].apply(lambda x: str(x).replace('man','male'))\n",
    "df['Gender'] = df['Gender'].apply(lambda x: str(x).replace('cis-female/femme','female'))\n",
    "df['Gender'] = df['Gender'].apply(lambda x: str(x).replace('malee','male'))\n",
    "\n",
    "df['Gender'] = df['Gender'].str.strip()\n",
    "\n",
    "df['Gender'].value_counts()"
   ]
  },
  {
   "cell_type": "markdown",
   "metadata": {},
   "source": [
    "There are 24 individuals who don't identify as male or female.  Because they don't make up a huge percentage of the survey respondents, I am going to aggregate them into one \"other\" category.  "
   ]
  },
  {
   "cell_type": "code",
   "execution_count": 6,
   "metadata": {},
   "outputs": [
    {
     "data": {
      "text/plain": [
       "male      989\n",
       "female    246\n",
       "other      24\n",
       "Name: Gender, dtype: int64"
      ]
     },
     "execution_count": 6,
     "metadata": {},
     "output_type": "execute_result"
    }
   ],
   "source": [
    "# Changing those who didn't reply \"male\" or \"female\" to \"other\".\n",
    "\n",
    "df['Gender'] = df['Gender'].apply(lambda x: 'other' if x != 'male' and x != 'female' else x)\n",
    "\n",
    "df['Gender'].value_counts()"
   ]
  },
  {
   "cell_type": "markdown",
   "metadata": {},
   "source": [
    "### What is the frequency of mental health issues in tech?\n",
    "\n",
    "When trying to determine the frequency of mental health conditions in the tech workplace, the most relevant survey question is this one: Have you sought treatment for a mental health condition?  \n",
    "\n",
    "It is worth mentioning that this question presents some limitations.\n",
    "\n",
    "First, the question does not ask whether or not the respondent has a mental health issue, but rather if s/he has gone in for treatment.  A person who may have a mental health condition but is forgoing treatment would respond \"no.\"  In this case, the data would be under-reporting the frequency of mental health conditions in tech.\n",
    "\n",
    "Second, respondents are not randomly selected take this survey, but are instead self-selected. People who have mental health issues are more likely to complete surveys about mental health.  Therefore, the data would be over-reporting the frequency of mental health conditions in tech.\n",
    "\n"
   ]
  },
  {
   "cell_type": "code",
   "execution_count": 7,
   "metadata": {},
   "outputs": [
    {
     "data": {
      "text/plain": [
       "Yes    637\n",
       "No     622\n",
       "Name: treatment, dtype: int64"
      ]
     },
     "execution_count": 7,
     "metadata": {},
     "output_type": "execute_result"
    }
   ],
   "source": [
    "df['treatment'].value_counts()"
   ]
  },
  {
   "cell_type": "code",
   "execution_count": 8,
   "metadata": {},
   "outputs": [],
   "source": [
    "# Changing treatment responses to binary.\n",
    "\n",
    "df['treatment'] = df.treatment.map({'Yes':1, 'No':0})"
   ]
  },
  {
   "cell_type": "code",
   "execution_count": 9,
   "metadata": {},
   "outputs": [
    {
     "data": {
      "text/plain": [
       "0.50595710881652101"
      ]
     },
     "execution_count": 9,
     "metadata": {},
     "output_type": "execute_result"
    }
   ],
   "source": [
    "# Proportion of survey respondents that say they have sought treatment for a mental health condition.\n",
    "\n",
    "df['treatment'].mean()"
   ]
  },
  {
   "cell_type": "markdown",
   "metadata": {},
   "source": [
    "Over 50% of respondents say they have sought mental health treatment in the past.  According to [National Institute of Health](https://www.nimh.nih.gov/health/statistics/mental-illness.shtml), 18.3% of Americans have a mental illness.  Because this survey involves self-selection, it is not surprising that the percentage of respondents for the Mental Health in tech survey is higher than the national average."
   ]
  },
  {
   "cell_type": "code",
   "execution_count": 10,
   "metadata": {},
   "outputs": [
    {
     "data": {
      "text/plain": [
       "Gender\n",
       "female    0.686992\n",
       "male      0.453994\n",
       "other     0.791667\n",
       "Name: treatment, dtype: float64"
      ]
     },
     "execution_count": 10,
     "metadata": {},
     "output_type": "execute_result"
    }
   ],
   "source": [
    "# Proportion of people who say they went for mental health treatment by gender.\n",
    "\n",
    "df.groupby('Gender')['treatment'].mean()"
   ]
  },
  {
   "cell_type": "markdown",
   "metadata": {},
   "source": [
    "While the majority of survey respondents are male, more females than males say they have sought mental health treatment.  This is on par with [existing research](https://www.theguardian.com/society/2016/nov/05/men-less-likely-to-get-help--mental-health) that men are less likely to seek mental health treatment than women are.  Note that the study is based in the UK.\n",
    "\n",
    "73% of survey respondents in the \"other\" category have sought mental health treatment.  This is also on par with [existing research](https://www.healthypeople.gov/2020/topics-objectives/topic/lesbian-gay-bisexual-and-transgender-health#one).  Most respondents in the \"Other\" category identify as LGBT.  LGBT individuals, who are more likely to experience societal stigma, discrimination, and denial of rights, have higher rates of mental health issues. "
   ]
  },
  {
   "cell_type": "markdown",
   "metadata": {},
   "source": [
    "### Proportion Test\n",
    "To compare proportions of those who have sought treatment between how they responded to each categorical question, I will be running the z-test.  "
   ]
  },
  {
   "cell_type": "code",
   "execution_count": 11,
   "metadata": {},
   "outputs": [],
   "source": [
    "# Adapted from https://github.com/Volodymyrk/stats-testing-in-python/blob/master/03%20-%20AB%20testing%20Proportions%20with%20z-test.ipynb\n",
    "\n",
    "def ztest_proportion(p1, n1, p2, n2, one_sided=False):\n",
    "\n",
    "    p = (p1*n1+p2*n2)/(n1+n2)\n",
    "    se = p*(1-p)*(1/n1+1/n2)\n",
    "    se = np.sqrt(se)\n",
    "    \n",
    "    z = (p1-p2)/se\n",
    "    p = 1-stats.norm.cdf(abs(z))\n",
    "    p *= 2-one_sided # if not one_sided: p *= 2\n",
    "\n",
    "    print(' z-stat = {z} \\n p-value = {p}'.format(z=z,p=p))\n",
    "    \n",
    "    return z, p"
   ]
  },
  {
   "cell_type": "markdown",
   "metadata": {},
   "source": [
    "#### P-value correction \n",
    "Since I am running z-test six times, I need to adjust the p-value cut-off to determine confidence levels. This is known as the [Bonferri Correction](https://en.wikipedia.org/wiki/Bonferroni_correction)."
   ]
  },
  {
   "cell_type": "code",
   "execution_count": 12,
   "metadata": {},
   "outputs": [
    {
     "name": "stdout",
     "output_type": "stream",
     "text": [
      "0.00625\n"
     ]
    }
   ],
   "source": [
    "new_pvalue = 0.05/8\n",
    "\n",
    "print(new_pvalue)"
   ]
  },
  {
   "cell_type": "markdown",
   "metadata": {},
   "source": [
    "Resulting p-values that are lower than 0.00625 signifie that, given the two samples are the same, there is a 0.625% probability that we would expect this z-value or more extreme due to random chance.  This would lead us to reject the null hypothesis that the two group are statistically similar.  \n",
    "\n",
    "Now we are ready to look at the different groups!"
   ]
  },
  {
   "cell_type": "markdown",
   "metadata": {},
   "source": [
    "#### Benefits\n",
    "Proportion of people who say they went for mental health treatment by whether or not the workplace provides mental health benefits.\n"
   ]
  },
  {
   "cell_type": "code",
   "execution_count": 13,
   "metadata": {},
   "outputs": [
    {
     "data": {
      "text/plain": [
       "Yes           477\n",
       "Don't know    408\n",
       "No            374\n",
       "Name: benefits, dtype: int64"
      ]
     },
     "execution_count": 13,
     "metadata": {},
     "output_type": "execute_result"
    }
   ],
   "source": [
    "df.benefits.value_counts()"
   ]
  },
  {
   "cell_type": "code",
   "execution_count": 14,
   "metadata": {},
   "outputs": [
    {
     "data": {
      "text/plain": [
       "benefits\n",
       "Don't know    0.370098\n",
       "No            0.483957\n",
       "Yes           0.639413\n",
       "Name: treatment, dtype: float64"
      ]
     },
     "execution_count": 14,
     "metadata": {},
     "output_type": "execute_result"
    }
   ],
   "source": [
    "# Proportion of people who say they went for mental health treatment by \n",
    "#     whether or not the workplace provides mental health benefits.\n",
    "\n",
    "df.groupby('benefits')['treatment'].mean()"
   ]
  },
  {
   "cell_type": "code",
   "execution_count": 15,
   "metadata": {},
   "outputs": [
    {
     "name": "stdout",
     "output_type": "stream",
     "text": [
      " z-stat = 4.54781385680887 \n",
      " p-value = 5.420604620276492e-06\n"
     ]
    },
    {
     "data": {
      "text/plain": [
       "(4.5478138568088697, 5.4206046202764924e-06)"
      ]
     },
     "execution_count": 15,
     "metadata": {},
     "output_type": "execute_result"
    }
   ],
   "source": [
    "# Is the propotional difference in No and Yes groups statistically significant?\n",
    "p1 = 0.639413\n",
    "n1 = 477\n",
    "p2 = 0.483957\n",
    "n2 = 374\n",
    "\n",
    "ztest_proportion(p1, n1, p2, n2, one_sided=False)"
   ]
  },
  {
   "cell_type": "code",
   "execution_count": 16,
   "metadata": {},
   "outputs": [
    {
     "name": "stdout",
     "output_type": "stream",
     "text": [
      " z-stat = 3.217817004814399 \n",
      " p-value = 0.00129170200204487\n"
     ]
    },
    {
     "data": {
      "text/plain": [
       "(3.2178170048143988, 0.00129170200204487)"
      ]
     },
     "execution_count": 16,
     "metadata": {},
     "output_type": "execute_result"
    }
   ],
   "source": [
    "# Is the difference in No and Don't Know groups statistically significant?\n",
    "p3 = 0.370098\n",
    "n3 = 408\n",
    "\n",
    "ztest_proportion(p2, n2, p3, n3, one_sided=False)"
   ]
  },
  {
   "cell_type": "markdown",
   "metadata": {},
   "source": [
    "The proportional differences of respondents who said they sought treatment between those who said their workplaces offer benefits is statistically different than those who said their workplaces do not.  The proportions is also significantly different between the No and Don't Know groups. "
   ]
  },
  {
   "cell_type": "markdown",
   "metadata": {},
   "source": [
    "#### Care Options \n",
    "Proportion of people who say they went for mental health treatment by whether or not the workplace provides mental health care options."
   ]
  },
  {
   "cell_type": "code",
   "execution_count": 17,
   "metadata": {},
   "outputs": [
    {
     "data": {
      "text/plain": [
       "No          501\n",
       "Yes         444\n",
       "Not sure    314\n",
       "Name: care_options, dtype: int64"
      ]
     },
     "execution_count": 17,
     "metadata": {},
     "output_type": "execute_result"
    }
   ],
   "source": [
    "df.care_options.value_counts()"
   ]
  },
  {
   "cell_type": "code",
   "execution_count": 18,
   "metadata": {},
   "outputs": [
    {
     "data": {
      "text/plain": [
       "care_options\n",
       "No          0.413174\n",
       "Not sure    0.391720\n",
       "Yes         0.691441\n",
       "Name: treatment, dtype: float64"
      ]
     },
     "execution_count": 18,
     "metadata": {},
     "output_type": "execute_result"
    }
   ],
   "source": [
    "# Proportion of people who say they went for mental health treatment by \n",
    "#     whether or not the workplace provides mental health care options.\n",
    "\n",
    "df.groupby('care_options')['treatment'].mean()"
   ]
  },
  {
   "cell_type": "code",
   "execution_count": 19,
   "metadata": {},
   "outputs": [
    {
     "name": "stdout",
     "output_type": "stream",
     "text": [
      " z-stat = 8.583101451121674 \n",
      " p-value = 0.0\n"
     ]
    },
    {
     "data": {
      "text/plain": [
       "(8.5831014511216743, 0.0)"
      ]
     },
     "execution_count": 19,
     "metadata": {},
     "output_type": "execute_result"
    }
   ],
   "source": [
    "# Is the difference in No and Yes groups statistically significant?\n",
    "p1 = 0.691441\n",
    "n1 = 444\n",
    "p2 = 0.413174\n",
    "n2 = 504\n",
    "\n",
    "ztest_proportion(p1, n1, p2, n2, one_sided=False)"
   ]
  },
  {
   "cell_type": "code",
   "execution_count": 20,
   "metadata": {},
   "outputs": [
    {
     "name": "stdout",
     "output_type": "stream",
     "text": [
      " z-stat = -0.6079057315668314 \n",
      " p-value = 0.5432499979706544\n"
     ]
    },
    {
     "data": {
      "text/plain": [
       "(-0.60790573156683136, 0.54324999797065443)"
      ]
     },
     "execution_count": 20,
     "metadata": {},
     "output_type": "execute_result"
    }
   ],
   "source": [
    "# Is the difference in No and Not Sure groups statistically significant?\n",
    "p3 = 0.391720\n",
    "n3 = 314\n",
    "\n",
    "ztest_proportion(p3, n3, p2, n2, one_sided=False)"
   ]
  },
  {
   "cell_type": "markdown",
   "metadata": {},
   "source": [
    "Again, the proportional differences of respondents who said they sought treatment between those who said their workplaces offer care options is statistically different than those who said their workplaces do not.  The proportions is not significantly different between the No and Not Sure groups. "
   ]
  },
  {
   "cell_type": "markdown",
   "metadata": {},
   "source": [
    "#### Wellness Program\n",
    "Proportion of people who say they went for mental health treatment by whether or not the workplace discussed mental health as part of an employee wellness program"
   ]
  },
  {
   "cell_type": "code",
   "execution_count": 21,
   "metadata": {},
   "outputs": [
    {
     "data": {
      "text/plain": [
       "No            842\n",
       "Yes           229\n",
       "Don't know    188\n",
       "Name: wellness_program, dtype: int64"
      ]
     },
     "execution_count": 21,
     "metadata": {},
     "output_type": "execute_result"
    }
   ],
   "source": [
    "df.wellness_program.value_counts()"
   ]
  },
  {
   "cell_type": "code",
   "execution_count": 22,
   "metadata": {},
   "outputs": [
    {
     "data": {
      "text/plain": [
       "wellness_program\n",
       "Don't know    0.430851\n",
       "No            0.498812\n",
       "Yes           0.593886\n",
       "Name: treatment, dtype: float64"
      ]
     },
     "execution_count": 22,
     "metadata": {},
     "output_type": "execute_result"
    }
   ],
   "source": [
    "# Proportion of people who say they went for mental health treatment by \n",
    "#     whether or not the workplace discussed mental health as part of an employee wellness program\n",
    "df.groupby('wellness_program')['treatment'].mean()"
   ]
  },
  {
   "cell_type": "code",
   "execution_count": 23,
   "metadata": {},
   "outputs": [
    {
     "name": "stdout",
     "output_type": "stream",
     "text": [
      " z-stat = 2.5532260434106693 \n",
      " p-value = 0.010673020435427283\n"
     ]
    },
    {
     "data": {
      "text/plain": [
       "(2.5532260434106693, 0.010673020435427283)"
      ]
     },
     "execution_count": 23,
     "metadata": {},
     "output_type": "execute_result"
    }
   ],
   "source": [
    "# Is the difference in No and Yes groups statistically significant?\n",
    "p1 = 0.593886\n",
    "n1 = 229\n",
    "p2 = 0.498812\n",
    "n2 = 842\n",
    "\n",
    "ztest_proportion(p1, n1, p2, n2, one_sided=False)"
   ]
  },
  {
   "cell_type": "code",
   "execution_count": 29,
   "metadata": {},
   "outputs": [
    {
     "name": "stdout",
     "output_type": "stream",
     "text": [
      " z-stat = -1.6697029056054142 \n",
      " p-value = 0.09497815859499625\n"
     ]
    },
    {
     "data": {
      "text/plain": [
       "(-1.6697029056054142, 0.094978158594996254)"
      ]
     },
     "execution_count": 29,
     "metadata": {},
     "output_type": "execute_result"
    }
   ],
   "source": [
    "# Is the difference in No and Not Sure groups statistically significant?\n",
    "p3 = 0.430851\n",
    "n3 = 188\n",
    "\n",
    "ztest_proportion(p3, n3, p2, n2, one_sided=False)"
   ]
  },
  {
   "cell_type": "markdown",
   "metadata": {},
   "source": [
    "The proportional differences of respondents who said they sought treatment between those who said their workplaces offer care options is NOT statistically different than those who said their workplaces do not.  The proportions is also not significantly different between the No and Don't Know groups. "
   ]
  },
  {
   "cell_type": "markdown",
   "metadata": {},
   "source": [
    "#### Seek Help\n",
    "Proportion of people who say they went for mental health treatment by whether or not the workplace provides resources to learn more about mental health and how to seek help.\n"
   ]
  },
  {
   "cell_type": "code",
   "execution_count": 25,
   "metadata": {},
   "outputs": [
    {
     "data": {
      "text/plain": [
       "No            646\n",
       "Don't know    363\n",
       "Yes           250\n",
       "Name: seek_help, dtype: int64"
      ]
     },
     "execution_count": 25,
     "metadata": {},
     "output_type": "execute_result"
    }
   ],
   "source": [
    "df.seek_help.value_counts()"
   ]
  },
  {
   "cell_type": "code",
   "execution_count": 26,
   "metadata": {},
   "outputs": [
    {
     "data": {
      "text/plain": [
       "seek_help\n",
       "Don't know    0.4573\n",
       "No            0.5000\n",
       "Yes           0.5920\n",
       "Name: treatment, dtype: float64"
      ]
     },
     "execution_count": 26,
     "metadata": {},
     "output_type": "execute_result"
    }
   ],
   "source": [
    "# Proportion of people who say they went for mental health treatment by \n",
    "#     whether or not the workplace provides resources to learn more about mental health and\n",
    "#     how to seek help.\n",
    "\n",
    "df.groupby('seek_help')['treatment'].mean()"
   ]
  },
  {
   "cell_type": "code",
   "execution_count": 27,
   "metadata": {},
   "outputs": [
    {
     "name": "stdout",
     "output_type": "stream",
     "text": [
      " z-stat = 2.473564144179719 \n",
      " p-value = 0.013377278748244015\n"
     ]
    },
    {
     "data": {
      "text/plain": [
       "(2.4735641441797189, 0.013377278748244015)"
      ]
     },
     "execution_count": 27,
     "metadata": {},
     "output_type": "execute_result"
    }
   ],
   "source": [
    "# Is the difference in No and Yes groups statistically significant?\n",
    "p1 = 0.5920\n",
    "n1 = 250\n",
    "p2 = .5000\n",
    "n2 = 646\n",
    "\n",
    "ztest_proportion(p1, n1, p2, n2, one_sided=False)"
   ]
  },
  {
   "cell_type": "code",
   "execution_count": 28,
   "metadata": {},
   "outputs": [
    {
     "name": "stdout",
     "output_type": "stream",
     "text": [
      " z-stat = -1.3025275890371322 \n",
      " p-value = 0.19273609305531458\n"
     ]
    },
    {
     "data": {
      "text/plain": [
       "(-1.3025275890371322, 0.19273609305531458)"
      ]
     },
     "execution_count": 28,
     "metadata": {},
     "output_type": "execute_result"
    }
   ],
   "source": [
    "# Is the difference in No and Not Sure groups statistically significant?\n",
    "p3 = 0.4573\n",
    "n3 = 363\n",
    "\n",
    "ztest_proportion(p3, n3, p2, n2, one_sided=False)"
   ]
  },
  {
   "cell_type": "markdown",
   "metadata": {},
   "source": [
    "The proportional differences of respondents who said they sought treatment between those who said their workplaces provide resources is NOT statistically different than those who said their workplaces do not.  The proportions is also not significantly different between the No and Don't Know groups. "
   ]
  },
  {
   "cell_type": "markdown",
   "metadata": {},
   "source": [
    "#### Z-Test conclusions\n",
    "\n",
    "Respondents who have sought mental health treatments are significantly more likely to say that their employers offer mental health benefits and care options.  Comparing proportional differences of respondents who have access to mental health benefits and those who do not, respondents with access are 15.54% more likely to have sought mental health treatment.  Comparing the differences of respondents with access to care options and those who do not, repondents with access are 27.8% more likely to have sought mental health treatment.  The pvalues are both medical benefits and care options are statistically significant at 5.6e-06 and 0.0, respectively.\n",
    "\n",
    "These results could signify that respondents who need mental health services are more aware of the mental health benefits offered by their workplaces.  Or, it could mean that workplaces that offer mental health services are more likely to have employees that seek mental health treatment.  Because this is a survey, it is impossible to establish temporality. \n",
    "\n",
    "On the other hand, z-tests show that the proportional differences for those who have sought mental health treatment and if their workplaces offered mental health wellness programs and resources to seek help were not statistically significant.  It is worth noting that most respondents said that their workplaces do not offer wellness programs or mental health resources, compared to mental health benefits and care options.\n",
    "\n",
    "The \"Don't Know\" and \"Not Sure\" responses also make up a good proportion of the response data, so we are going to get less definitive answers as to whether or not having more mental health support is correlated with more employees seeking out mental health treatment.  Which cases is this the most signiicance.  Include the numbers.\n",
    "\n",
    "It would be interesting to run an experiment to determine: \n",
    "1. If a company adopts a mental health wellness program, would employees use the services?  \n",
    "2. Given that employees are utilizing mental health services, would overall job satisfaction and productivity improve?"
   ]
  },
  {
   "cell_type": "markdown",
   "metadata": {},
   "source": [
    "## Mental Health in Tech: Experimentation RFC\n",
    "\n",
    "### Setting\n",
    "\n",
    "Our theoretical company, BookFace, is concerned about the mental health of their employees.  Currently, BookFace offers employees health insurance and provide physical wellnesss programs that promotes exercise and healthy eating.  While health insurance include mental health benefits and care options, some members of the leadership team believe that more can be done to support their employees' mental wellness.  Of course, robust mental health programs means additional costs.  It is important to learn whether or not such a program would bring additional employee satisfaction and productivity. \n",
    "\n",
    "Thus, they designed a mental health experiment to determine \n",
    "    1. What would usage of mental health services may look like?\n",
    "    2. How mental health benefits could improve overall job satisfaction and productivity?\n",
    "\n",
    "To do this, they will implement a mental health wellness program in randomly selected offices in North America. They will measure employee sick days as a proxy for productivity.  \n",
    "\n",
    "### Experiment overivew:\n",
    "\n",
    "BookFace has 30 locations across North America.  16 of these locations will be randomly assigned to either the test or control groups.\n",
    "\n",
    "For offices in the control group, employees will learn about their current health benefits, including any mental health service offerings with their health insurance plan.  To insure similarities across control offices, employees would be shown an informational video during a staff meeting and reminded that the office HR representative will be available to answer any questions publically or privately.   \n",
    "\n",
    "Offices in the test group will adopt a more comprehensive mental health wellness program.  This program includes a \"wellness week,\" in which leadership and employees openly discuss and address mental health issues in the workplace to combat stigma around mental health conditions.  For the duration of the experiment, a mental health professional will be available to the staff, offering three free counselling session.  Employees will be insured that the names of the clients and the nature of the visit will be kept confidential.  BookFace will also be offering biweekly meditation sessions for staff members.\n",
    "\n",
    "### Hypotheses\n",
    "Hypothesis:\n",
    "Average of employee sick days will drop for test groups relative to that of control groups.\n",
    "\n",
    "Null Hypothesis:\n",
    "There is no difference in the change of average employee sick days between test and control groups.\n",
    "\n",
    "### Success metrics\n",
    "Primary success metric:  Change in average number of sick days.\n",
    "Secondary metrics:  Number of visits to mental health professional (Validation/Manipulation check).  [Employee satisfaction survey](https://www.surveymonkey.com/r/Job-Satisfaction-Survey-Template).\n",
    "\n",
    "### A/A Testing with smaller test group\n",
    "To work out any potential issues in implementation, we would first need to test the program on two test offices and two control offices.  By implementing A/A testing, we could compare the results between the two test office and between the control offices to identify any biases.  \n",
    "\n",
    "Elements of the experiment we would check for include:\n",
    "    - The content provided\n",
    "    - The amount of notice given to the offices to prepare for the experiment\n",
    "    - The date and time the experiment is run\n",
    "    - How the experiment fits into the normal work schedule (contextual bias)\n",
    "    - Office size and location to assess any sampling biases\n",
    "    - Demographic information of employees to asses any sampling biases\n",
    "\n",
    "### Timeline\n",
    "Week 0 - Send employee satisfaction survey for baseline.\n",
    "\n",
    "Week 1 - Implement AA test for 2 test groups and 2 control groups.\n",
    "\n",
    "Week 2 - Wellness Week for test group concludes.  Start evaluating results of AA test.\n",
    "\n",
    "Week 3 - Expand experiment to 6 additional test groups and 6 control groups.\n",
    "\n",
    "Week 4 - Wellness Week concludes for test groups.\n",
    "\n",
    "End of experiment (6 months) - Send out satisfaction survey again \n",
    "\n",
    "### Evaluation plan\n",
    "We will be using average sick days to determine if implementing a wellness program has increase workplace productivity.  We will calcuate the change in sick days for each office before and after experiment, being sure we are comparing similar time periods (e.g. If the experiment is run from January 2018 - June 2018, we would compare average sick days during this time period with that of January 2017 - June 2018).  Using a t-test, if the change in average sick days is statistically significant between test and control groups, we can rule out the null hypothesis.\n",
    "\n",
    "We will also be comparing results of the employee satisfaction survey before and after to experiment to determine if employees in the test group are more satisfied with their workplace that employees in the control group by the end of the experiment.  It is important to beware of the [Hawthorne Effect](https://en.wikipedia.org/wiki/Hawthorne_effect), in which individuals may modify their answers in response to their awareness of being observed.  With the test group undergoing a more intensive experience, it would not be surprising to see this reflected in the Employee Satisfaction survey.\n",
    "\n",
    "We would be unable to note whether or not employees in the control group sought mental health treatment after they were shown the informational video.  For the test groups, we would ask the mental health professionals how many employees have sought their services and how many sessions were scheduled and attended.  For confidentiality, we will not be collecting information on the names of the employees and the content of those sessions.  "
   ]
  },
  {
   "cell_type": "code",
   "execution_count": null,
   "metadata": {},
   "outputs": [],
   "source": []
  }
 ],
 "metadata": {
  "kernelspec": {
   "display_name": "Python 3",
   "language": "python",
   "name": "python3"
  },
  "language_info": {
   "codemirror_mode": {
    "name": "ipython",
    "version": 3
   },
   "file_extension": ".py",
   "mimetype": "text/x-python",
   "name": "python",
   "nbconvert_exporter": "python",
   "pygments_lexer": "ipython3",
   "version": "3.4.3"
  }
 },
 "nbformat": 4,
 "nbformat_minor": 2
}

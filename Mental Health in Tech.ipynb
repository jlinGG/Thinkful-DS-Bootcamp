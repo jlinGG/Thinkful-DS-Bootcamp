{
 "cells": [
  {
   "cell_type": "markdown",
   "metadata": {},
   "source": [
    "## Unit 1 Capstone\n",
    "\n",
    "### Assignment\n",
    "\n",
    "The main component of this capstone is an experimentation RFC. Using the data set you selected, propose and outline an experiment plan. The plan should consist of three key components:\n",
    "\n",
    "- Analysis that highlights your experimental hypothesis.\n",
    "- A rollout plan showing how you would implement and rollout the experiment\n",
    "- An evaluation plan showing what constitutes success in this experiment\n",
    "\n",
    "Your experiment should be as real as possible. Though you obviously will not have access to the full production environment to deploy your experiment, it should be feasible and of interest to the parties involved with your actual data source."
   ]
  },
  {
   "cell_type": "markdown",
   "metadata": {},
   "source": [
    "### Exploring the Data\n",
    "\n",
    "For this capstone project, I will be using 2014 data from the Mental Health in Tech survey.  This survey measures attitudes towatd mental health and frequency of mental health disorders in the tech workplace.\n",
    "\n",
    "More information on the mental health in tech survey [here](https://www.kaggle.com/osmi/mental-health-in-tech-survey/data)."
   ]
  },
  {
   "cell_type": "code",
   "execution_count": 1,
   "metadata": {},
   "outputs": [],
   "source": [
    "import pandas as pd\n",
    "import numpy as np\n",
    "import matplotlib.pyplot as plt\n",
    "from scipy import stats"
   ]
  },
  {
   "cell_type": "code",
   "execution_count": 2,
   "metadata": {},
   "outputs": [],
   "source": [
    "# Uploading file.\n",
    "\n",
    "df = pd.read_csv('datafiles/mental_health_tech_survey.csv')"
   ]
  },
  {
   "cell_type": "code",
   "execution_count": 3,
   "metadata": {},
   "outputs": [
    {
     "data": {
      "text/html": [
       "<div>\n",
       "<style>\n",
       "    .dataframe thead tr:only-child th {\n",
       "        text-align: right;\n",
       "    }\n",
       "\n",
       "    .dataframe thead th {\n",
       "        text-align: left;\n",
       "    }\n",
       "\n",
       "    .dataframe tbody tr th {\n",
       "        vertical-align: top;\n",
       "    }\n",
       "</style>\n",
       "<table border=\"1\" class=\"dataframe\">\n",
       "  <thead>\n",
       "    <tr style=\"text-align: right;\">\n",
       "      <th></th>\n",
       "      <th>Timestamp</th>\n",
       "      <th>Age</th>\n",
       "      <th>Gender</th>\n",
       "      <th>Country</th>\n",
       "      <th>state</th>\n",
       "      <th>self_employed</th>\n",
       "      <th>family_history</th>\n",
       "      <th>treatment</th>\n",
       "      <th>work_interfere</th>\n",
       "      <th>no_employees</th>\n",
       "      <th>...</th>\n",
       "      <th>leave</th>\n",
       "      <th>mental_health_consequence</th>\n",
       "      <th>phys_health_consequence</th>\n",
       "      <th>coworkers</th>\n",
       "      <th>supervisor</th>\n",
       "      <th>mental_health_interview</th>\n",
       "      <th>phys_health_interview</th>\n",
       "      <th>mental_vs_physical</th>\n",
       "      <th>obs_consequence</th>\n",
       "      <th>comments</th>\n",
       "    </tr>\n",
       "  </thead>\n",
       "  <tbody>\n",
       "    <tr>\n",
       "      <th>0</th>\n",
       "      <td>2014-08-27 11:29:31</td>\n",
       "      <td>37</td>\n",
       "      <td>Female</td>\n",
       "      <td>United States</td>\n",
       "      <td>IL</td>\n",
       "      <td>NaN</td>\n",
       "      <td>No</td>\n",
       "      <td>Yes</td>\n",
       "      <td>Often</td>\n",
       "      <td>6-25</td>\n",
       "      <td>...</td>\n",
       "      <td>Somewhat easy</td>\n",
       "      <td>No</td>\n",
       "      <td>No</td>\n",
       "      <td>Some of them</td>\n",
       "      <td>Yes</td>\n",
       "      <td>No</td>\n",
       "      <td>Maybe</td>\n",
       "      <td>Yes</td>\n",
       "      <td>No</td>\n",
       "      <td>NaN</td>\n",
       "    </tr>\n",
       "    <tr>\n",
       "      <th>1</th>\n",
       "      <td>2014-08-27 11:29:37</td>\n",
       "      <td>44</td>\n",
       "      <td>M</td>\n",
       "      <td>United States</td>\n",
       "      <td>IN</td>\n",
       "      <td>NaN</td>\n",
       "      <td>No</td>\n",
       "      <td>No</td>\n",
       "      <td>Rarely</td>\n",
       "      <td>More than 1000</td>\n",
       "      <td>...</td>\n",
       "      <td>Don't know</td>\n",
       "      <td>Maybe</td>\n",
       "      <td>No</td>\n",
       "      <td>No</td>\n",
       "      <td>No</td>\n",
       "      <td>No</td>\n",
       "      <td>No</td>\n",
       "      <td>Don't know</td>\n",
       "      <td>No</td>\n",
       "      <td>NaN</td>\n",
       "    </tr>\n",
       "    <tr>\n",
       "      <th>2</th>\n",
       "      <td>2014-08-27 11:29:44</td>\n",
       "      <td>32</td>\n",
       "      <td>Male</td>\n",
       "      <td>Canada</td>\n",
       "      <td>NaN</td>\n",
       "      <td>NaN</td>\n",
       "      <td>No</td>\n",
       "      <td>No</td>\n",
       "      <td>Rarely</td>\n",
       "      <td>6-25</td>\n",
       "      <td>...</td>\n",
       "      <td>Somewhat difficult</td>\n",
       "      <td>No</td>\n",
       "      <td>No</td>\n",
       "      <td>Yes</td>\n",
       "      <td>Yes</td>\n",
       "      <td>Yes</td>\n",
       "      <td>Yes</td>\n",
       "      <td>No</td>\n",
       "      <td>No</td>\n",
       "      <td>NaN</td>\n",
       "    </tr>\n",
       "    <tr>\n",
       "      <th>3</th>\n",
       "      <td>2014-08-27 11:29:46</td>\n",
       "      <td>31</td>\n",
       "      <td>Male</td>\n",
       "      <td>United Kingdom</td>\n",
       "      <td>NaN</td>\n",
       "      <td>NaN</td>\n",
       "      <td>Yes</td>\n",
       "      <td>Yes</td>\n",
       "      <td>Often</td>\n",
       "      <td>26-100</td>\n",
       "      <td>...</td>\n",
       "      <td>Somewhat difficult</td>\n",
       "      <td>Yes</td>\n",
       "      <td>Yes</td>\n",
       "      <td>Some of them</td>\n",
       "      <td>No</td>\n",
       "      <td>Maybe</td>\n",
       "      <td>Maybe</td>\n",
       "      <td>No</td>\n",
       "      <td>Yes</td>\n",
       "      <td>NaN</td>\n",
       "    </tr>\n",
       "    <tr>\n",
       "      <th>4</th>\n",
       "      <td>2014-08-27 11:30:22</td>\n",
       "      <td>31</td>\n",
       "      <td>Male</td>\n",
       "      <td>United States</td>\n",
       "      <td>TX</td>\n",
       "      <td>NaN</td>\n",
       "      <td>No</td>\n",
       "      <td>No</td>\n",
       "      <td>Never</td>\n",
       "      <td>100-500</td>\n",
       "      <td>...</td>\n",
       "      <td>Don't know</td>\n",
       "      <td>No</td>\n",
       "      <td>No</td>\n",
       "      <td>Some of them</td>\n",
       "      <td>Yes</td>\n",
       "      <td>Yes</td>\n",
       "      <td>Yes</td>\n",
       "      <td>Don't know</td>\n",
       "      <td>No</td>\n",
       "      <td>NaN</td>\n",
       "    </tr>\n",
       "  </tbody>\n",
       "</table>\n",
       "<p>5 rows × 27 columns</p>\n",
       "</div>"
      ],
      "text/plain": [
       "             Timestamp  Age  Gender         Country state self_employed  \\\n",
       "0  2014-08-27 11:29:31   37  Female   United States    IL           NaN   \n",
       "1  2014-08-27 11:29:37   44       M   United States    IN           NaN   \n",
       "2  2014-08-27 11:29:44   32    Male          Canada   NaN           NaN   \n",
       "3  2014-08-27 11:29:46   31    Male  United Kingdom   NaN           NaN   \n",
       "4  2014-08-27 11:30:22   31    Male   United States    TX           NaN   \n",
       "\n",
       "  family_history treatment work_interfere    no_employees   ...     \\\n",
       "0             No       Yes          Often            6-25   ...      \n",
       "1             No        No         Rarely  More than 1000   ...      \n",
       "2             No        No         Rarely            6-25   ...      \n",
       "3            Yes       Yes          Often          26-100   ...      \n",
       "4             No        No          Never         100-500   ...      \n",
       "\n",
       "                leave mental_health_consequence phys_health_consequence  \\\n",
       "0       Somewhat easy                        No                      No   \n",
       "1          Don't know                     Maybe                      No   \n",
       "2  Somewhat difficult                        No                      No   \n",
       "3  Somewhat difficult                       Yes                     Yes   \n",
       "4          Don't know                        No                      No   \n",
       "\n",
       "      coworkers supervisor mental_health_interview phys_health_interview  \\\n",
       "0  Some of them        Yes                      No                 Maybe   \n",
       "1            No         No                      No                    No   \n",
       "2           Yes        Yes                     Yes                   Yes   \n",
       "3  Some of them         No                   Maybe                 Maybe   \n",
       "4  Some of them        Yes                     Yes                   Yes   \n",
       "\n",
       "  mental_vs_physical obs_consequence comments  \n",
       "0                Yes              No      NaN  \n",
       "1         Don't know              No      NaN  \n",
       "2                 No              No      NaN  \n",
       "3                 No             Yes      NaN  \n",
       "4         Don't know              No      NaN  \n",
       "\n",
       "[5 rows x 27 columns]"
      ]
     },
     "execution_count": 3,
     "metadata": {},
     "output_type": "execute_result"
    }
   ],
   "source": [
    "# Let's see what we're working with.\n",
    "\n",
    "df.head()"
   ]
  },
  {
   "cell_type": "code",
   "execution_count": 5,
   "metadata": {},
   "outputs": [
    {
     "data": {
      "text/plain": [
       "array(['Female', 'M', 'Male', 'male', 'female', 'm', 'Male-ish', 'maile',\n",
       "       'Trans-female', 'Cis Female', 'F', 'something kinda male?',\n",
       "       'Cis Male', 'Woman', 'f', 'Mal', 'Male (CIS)', 'queer/she/they',\n",
       "       'non-binary', 'Femake', 'woman', 'Make', 'Nah', 'All', 'Enby',\n",
       "       'fluid', 'Genderqueer', 'Female ', 'Androgyne', 'Agender',\n",
       "       'cis-female/femme', 'Guy (-ish) ^_^', 'male leaning androgynous',\n",
       "       'Male ', 'Man', 'Trans woman', 'msle', 'Neuter', 'Female (trans)',\n",
       "       'queer', 'Female (cis)', 'Mail', 'cis male', 'A little about you',\n",
       "       'Malr', 'p', 'femail', 'Cis Man',\n",
       "       'ostensibly male, unsure what that really means'], dtype=object)"
      ]
     },
     "execution_count": 5,
     "metadata": {},
     "output_type": "execute_result"
    }
   ],
   "source": [
    "# How is Gender being categorized?\n",
    "\n",
    "df['Gender'].unique()"
   ]
  },
  {
   "cell_type": "code",
   "execution_count": 6,
   "metadata": {},
   "outputs": [
    {
     "data": {
      "text/plain": [
       "male                                              988\n",
       "female                                            245\n",
       "female (trans)                                      2\n",
       "male leaning androgynous                            1\n",
       "queer/she/they                                      1\n",
       "queer                                               1\n",
       "neuter                                              1\n",
       "female                                              1\n",
       "a little about you                                  1\n",
       "malee                                               1\n",
       "trans-female                                        1\n",
       "p                                                   1\n",
       "agender                                             1\n",
       "something kinda male?                               1\n",
       "fluid                                               1\n",
       "non-binary                                          1\n",
       "male                                                1\n",
       "enby                                                1\n",
       "androgyne                                           1\n",
       "nah                                                 1\n",
       "cis-female/femme                                    1\n",
       "trans female                                        1\n",
       "ostensibly male, unsure what that really means      1\n",
       "male-ish                                            1\n",
       "all                                                 1\n",
       "genderqueer                                         1\n",
       "guy (-ish) ^_^                                      1\n",
       "Name: Gender, dtype: int64"
      ]
     },
     "execution_count": 6,
     "metadata": {},
     "output_type": "execute_result"
    }
   ],
   "source": [
    "# Looks like people wrote in responses.  Data cleaning time!\n",
    "\n",
    "df['Gender'] = df['Gender'].str.lower()\n",
    "df['Gender'] = df['Gender'].replace('m','male')\n",
    "df['Gender'] = df['Gender'].replace('f','female')\n",
    "\n",
    "df['Gender'] = df['Gender'].str.strip()\n",
    "\n",
    "df['Gender'] = df['Gender'].apply(lambda x: str(x).replace('cis ',''))\n",
    "df['Gender'] = df['Gender'].apply(lambda x: str(x).replace('(cis)',''))\n",
    "\n",
    "df['Gender'] = df['Gender'].apply(lambda x: str(x).replace('make','male'))\n",
    "df['Gender'] = df['Gender'].apply(lambda x: str(x).replace('mail','male'))\n",
    "df['Gender'] = df['Gender'].apply(lambda x: str(x).replace('mal','male'))\n",
    "df['Gender'] = df['Gender'].apply(lambda x: str(x).replace('malee','male'))\n",
    "df['Gender'] = df['Gender'].apply(lambda x: str(x).replace('malr','male'))\n",
    "df['Gender'] = df['Gender'].apply(lambda x: str(x).replace('woman','female'))\n",
    "df['Gender'] = df['Gender'].apply(lambda x: str(x).replace('maler','male'))\n",
    "df['Gender'] = df['Gender'].apply(lambda x: str(x).replace('msle','male'))\n",
    "df['Gender'] = df['Gender'].apply(lambda x: str(x).replace('man','male'))\n",
    "\n",
    "df['Gender'].value_counts()"
   ]
  },
  {
   "cell_type": "code",
   "execution_count": 7,
   "metadata": {},
   "outputs": [
    {
     "data": {
      "text/plain": [
       "male      988\n",
       "female    245\n",
       "other      26\n",
       "Name: Gender, dtype: int64"
      ]
     },
     "execution_count": 7,
     "metadata": {},
     "output_type": "execute_result"
    }
   ],
   "source": [
    "# Changing those who didn't reply \"male\" or \"female\" to \"other\".\n",
    "\n",
    "df['Gender'] = df['Gender'].apply(lambda x: 'other' if x != 'male' and x != 'female' else x)\n",
    "\n",
    "df['Gender'].value_counts()"
   ]
  },
  {
   "cell_type": "markdown",
   "metadata": {},
   "source": [
    "### What is the frequency of mental health issues in tech?\n",
    "\n",
    "When trying to determine the frequency of mental health conditions in the tech workplace, the most relevant survey question is this one: Have you sought treatment for a mental health condition?\n",
    "\n",
    "It is worth mentioning that this question presents some limitations.\n",
    "\n",
    "First, the question does not ask whether or not the respondent has a mental health issue, but rather if s/he has gone in for treatment.  A person who may have a mental health condition but is forgoing treatment would respond \"no.\"  In this case, the data would be under-reporting the frequency of mental health conditions in tech.\n",
    "\n",
    "Second, respondents are not randomly selected take this survey, but are instead self-selected. People who have mental health issues are more likely to complete surveys about mental health.  Therefore, the data would be over-reporting the frequency of mental health conditions in tech."
   ]
  },
  {
   "cell_type": "code",
   "execution_count": 8,
   "metadata": {},
   "outputs": [],
   "source": [
    "# Changing treatment responses to binary.\n",
    "\n",
    "df['treatment'] = df.treatment.map({'Yes':1, 'No':0})"
   ]
  },
  {
   "cell_type": "code",
   "execution_count": 15,
   "metadata": {},
   "outputs": [
    {
     "data": {
      "text/plain": [
       "0.50595710881652101"
      ]
     },
     "execution_count": 15,
     "metadata": {},
     "output_type": "execute_result"
    }
   ],
   "source": [
    "# Proportion of survey respondents that say they have sought treatment for a mental health condition.\n",
    "\n",
    "df['treatment'].mean()"
   ]
  },
  {
   "cell_type": "code",
   "execution_count": 10,
   "metadata": {},
   "outputs": [
    {
     "data": {
      "text/plain": [
       "Gender\n",
       "female    0.689796\n",
       "male      0.454453\n",
       "other     0.730769\n",
       "Name: treatment, dtype: float64"
      ]
     },
     "execution_count": 10,
     "metadata": {},
     "output_type": "execute_result"
    }
   ],
   "source": [
    "# Proportion of people who say they went for mental health treatment by gender.\n",
    "\n",
    "df.groupby('Gender')['treatment'].mean()"
   ]
  },
  {
   "cell_type": "markdown",
   "metadata": {},
   "source": [
    "While the majority of survey respondents are male, more females than males say they have sought mental health treatment.  This is on par with [existing research](https://www.theguardian.com/society/2016/nov/05/men-less-likely-to-get-help--mental-health) that men are less likely to seek mental health treatment than women are.  \n",
    "\n",
    "73% of survey respondents in the \"other\" category have sought mental health treatment.  This is also on par with [existing research](https://www.healthypeople.gov/2020/topics-objectives/topic/lesbian-gay-bisexual-and-transgender-health#one).  Most respondents in the \"Other\" category identify as LGBT.  LGBT individuals, who are more likely to experience societal stigma, discrimination, and denial of rights, have higher rates of mental health issues. "
   ]
  },
  {
   "cell_type": "code",
   "execution_count": 11,
   "metadata": {},
   "outputs": [
    {
     "data": {
      "text/plain": [
       "benefits\n",
       "Don't know    0.370098\n",
       "No            0.483957\n",
       "Yes           0.639413\n",
       "Name: treatment, dtype: float64"
      ]
     },
     "execution_count": 11,
     "metadata": {},
     "output_type": "execute_result"
    }
   ],
   "source": [
    "# Proportion of people who say they went for mental health treatment by \n",
    "#     whether or not the workplace provides mental health benefits.\n",
    "\n",
    "df.groupby('benefits')['treatment'].mean()"
   ]
  },
  {
   "cell_type": "code",
   "execution_count": 17,
   "metadata": {},
   "outputs": [
    {
     "data": {
      "text/plain": [
       "Ttest_indResult(statistic=-4.5986868552563989, pvalue=4.8985435953573476e-06)"
      ]
     },
     "execution_count": 17,
     "metadata": {},
     "output_type": "execute_result"
    }
   ],
   "source": [
    "# Is the difference in No and Yes groups statisticall significant?\n",
    "stats.ttest_ind(df[df.benefits=='No'].treatment, df[df.benefits=='Yes'].treatment)"
   ]
  },
  {
   "cell_type": "code",
   "execution_count": 12,
   "metadata": {},
   "outputs": [
    {
     "data": {
      "text/plain": [
       "care_options\n",
       "No          0.413174\n",
       "Not sure    0.391720\n",
       "Yes         0.691441\n",
       "Name: treatment, dtype: float64"
      ]
     },
     "execution_count": 12,
     "metadata": {},
     "output_type": "execute_result"
    }
   ],
   "source": [
    "# Proportion of people who say they went for mental health treatment by \n",
    "#     whether or not the workplace provides mental health care options.\n",
    "\n",
    "df.groupby('care_options')['treatment'].mean()"
   ]
  },
  {
   "cell_type": "code",
   "execution_count": 18,
   "metadata": {},
   "outputs": [
    {
     "data": {
      "text/plain": [
       "Ttest_indResult(statistic=-8.9163036150785491, pvalue=2.4538096289972692e-18)"
      ]
     },
     "execution_count": 18,
     "metadata": {},
     "output_type": "execute_result"
    }
   ],
   "source": [
    "# Is the difference in No and Yes groups statisticall significant?\n",
    "stats.ttest_ind(df[df.care_options=='No'].treatment, df[df.care_options=='Yes'].treatment)"
   ]
  },
  {
   "cell_type": "code",
   "execution_count": 13,
   "metadata": {},
   "outputs": [
    {
     "data": {
      "text/plain": [
       "wellness_program\n",
       "Don't know    0.430851\n",
       "No            0.498812\n",
       "Yes           0.593886\n",
       "Name: treatment, dtype: float64"
      ]
     },
     "execution_count": 13,
     "metadata": {},
     "output_type": "execute_result"
    }
   ],
   "source": [
    "# Proportion of people who say they went for mental health treatment by \n",
    "#     whether or not the workplace discussed mental health as part of an employee wellness program\n",
    "df.groupby('wellness_program')['treatment'].mean()"
   ]
  },
  {
   "cell_type": "code",
   "execution_count": 19,
   "metadata": {},
   "outputs": [
    {
     "data": {
      "text/plain": [
       "Ttest_indResult(statistic=-2.5586429041817653, pvalue=0.010645001151270303)"
      ]
     },
     "execution_count": 19,
     "metadata": {},
     "output_type": "execute_result"
    }
   ],
   "source": [
    "# Is the difference in No and Yes groups statisticall significant?\n",
    "stats.ttest_ind(df[df.wellness_program=='No'].treatment, df[df.wellness_program=='Yes'].treatment)"
   ]
  },
  {
   "cell_type": "code",
   "execution_count": 14,
   "metadata": {},
   "outputs": [
    {
     "data": {
      "text/plain": [
       "seek_help\n",
       "Don't know    0.4573\n",
       "No            0.5000\n",
       "Yes           0.5920\n",
       "Name: treatment, dtype: float64"
      ]
     },
     "execution_count": 14,
     "metadata": {},
     "output_type": "execute_result"
    }
   ],
   "source": [
    "# Proportion of people who say they went for mental health treatment by \n",
    "#     whether or not the workplace provides resources to learn more about mental health and\n",
    "#     how to seek help.\n",
    "\n",
    "df.groupby('seek_help')['treatment'].mean()"
   ]
  },
  {
   "cell_type": "code",
   "execution_count": 20,
   "metadata": {},
   "outputs": [
    {
     "data": {
      "text/plain": [
       "Ttest_indResult(statistic=-2.4792815697578368, pvalue=0.013348107722419353)"
      ]
     },
     "execution_count": 20,
     "metadata": {},
     "output_type": "execute_result"
    }
   ],
   "source": [
    "# Is the difference in No and Yes groups statisticall significant?\n",
    "stats.ttest_ind(df[df.seek_help=='No'].treatment, df[df.seek_help=='Yes'].treatment)"
   ]
  },
  {
   "cell_type": "markdown",
   "metadata": {},
   "source": [
    "Respondents who have sought mental health treatments are significantly more likely to say that their employers offer mental health benefits.  This could be because respondents who need mental health services are more aware of the mental health benefits offered by their workplaces.  Or, it could mean that workplaces that offer mental health services are more likely to have employees that seek mental health treatment.  Because this is a survey, it is impossible to establish temporality.\n",
    "\n",
    "It would be interesting to run an experiment to determine: \n",
    "1. If a company adopts a mental health program, would employees use the services?  \n",
    "2. Given that employees are utilizing mental health services, would overall job satisfaction and productivity improve?"
   ]
  },
  {
   "cell_type": "markdown",
   "metadata": {},
   "source": [
    "## Mental Health in Tech: Experimentation RFC\n",
    "\n",
    "Setting:\n",
    "\n",
    "(Review current literature on mental health in the workplace)\n",
    "\n",
    "Our theoretical company, BookFace, is concerned about the mental health of their employees.  Currently, BookFace offers employees health insurance and provide physical wellnesss program that promotes exercise and healthy eating.  However, leadership believes more can be done to support their employees' mental wellness.  Thus, they designed a mental health experiment to determine \n",
    "    1. What usage of mental health services may look like?\n",
    "    2. How mental health benefits could improve overall job satisfaction and productivity?\n",
    "\n",
    "To do this, they will implemental a mental health wellness program in randomly selected offices in North America. They will measure employee sick days as a proxy for productivity.  \n",
    "\n",
    "Experiment:\n",
    "\n",
    "BookFace has 30 locations across North America.  These locations will be randomly assigned to either the test or control groups.\n",
    "\n",
    "For offices in the control group, employees will attend an info session that reviews their current health benefits, including any mental health service offerings with their health insurance plan.\n",
    "\n",
    "Offices in the test group will adopt a more comprehensive mental health wellness program.  This program includes a \"wellness week,\" in which leadership and employees openly discuss and address mental health issues in the workplace to combat stigma around mental health conditions.  For the duration of the experiment, a mental health professional will be available on staff, offering three free counselling session.  Employees will be insured that the names of the clients and the nature of the visit will be kept confidential.  BookFace will also be offering biweekly meditation session for staff members.\n",
    "\n",
    "\n",
    "Hypothesis:\n",
    "Employees in the test group will take less sick days on average than employees in the control group.\n",
    "\n",
    "Null Hypothesis:\n",
    "There is no difference in the average number of employee sick days between test and control groups.\n",
    "\n",
    "Success metric: Average number of sick days.\n",
    "Secondary metrics:  Number of visits to mental health professional.  \n",
    "\n",
    "Timeline:\n",
    "\n",
    "Week 1 - Implement \"Wellness Week\" for five offices in the test group and hold info session for control group.\n",
    "Week 3 - Evaluate how Wellness Week went for the five test offices.  "
   ]
  },
  {
   "cell_type": "code",
   "execution_count": null,
   "metadata": {},
   "outputs": [],
   "source": []
  }
 ],
 "metadata": {
  "kernelspec": {
   "display_name": "Python 3",
   "language": "python",
   "name": "python3"
  },
  "language_info": {
   "codemirror_mode": {
    "name": "ipython",
    "version": 3
   },
   "file_extension": ".py",
   "mimetype": "text/x-python",
   "name": "python",
   "nbconvert_exporter": "python",
   "pygments_lexer": "ipython3",
   "version": "3.4.3"
  }
 },
 "nbformat": 4,
 "nbformat_minor": 2
}

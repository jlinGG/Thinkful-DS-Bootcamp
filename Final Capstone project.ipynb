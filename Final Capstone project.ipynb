{
 "cells": [
  {
   "cell_type": "code",
   "execution_count": 1,
   "metadata": {},
   "outputs": [],
   "source": [
    "import os\n",
    "import sys\n",
    "import hashlib\n",
    "import zipfile\n",
    "import json\n",
    "import csv\n",
    "import numpy as np\n",
    "import re\n",
    "import pandas as pd\n",
    "\n",
    "import matplotlib.pyplot as plt\n",
    "\n",
    "from sklearn.model_selection import train_test_split\n",
    "from sklearn.model_selection import cross_val_score\n",
    "from sklearn import ensemble\n",
    "from sklearn.metrics import confusion_matrix\n",
    "from sklearn.linear_model import LogisticRegression\n",
    "\n",
    "from sklearn.feature_extraction.text import TfidfVectorizer\n",
    "from sklearn.cluster import KMeans\n",
    "from sklearn.cluster import MeanShift, estimate_bandwidth\n",
    "from sklearn.preprocessing import normalize\n",
    "from sklearn.decomposition import TruncatedSVD\n",
    "\n",
    "from sklearn.pipeline import make_pipeline\n",
    "from sklearn.preprocessing import Normalizer\n",
    "\n",
    "import scipy\n",
    "import networkx as nx\n",
    "import spacy\n",
    "\n",
    "try:\n",
    "    import requests\n",
    "except ImportError:\n",
    "    print((\n",
    "        \"The requests module is required to download data --\\n\"\n",
    "        \"please install it with pip install requests.\"\n",
    "    ))\n",
    "    sys.exit(1)"
   ]
  },
  {
   "cell_type": "code",
   "execution_count": 2,
   "metadata": {},
   "outputs": [
    {
     "data": {
      "text/plain": [
       "'\\nDownloads the example datasets for running the examples.\\n'"
      ]
     },
     "execution_count": 2,
     "metadata": {},
     "output_type": "execute_result"
    }
   ],
   "source": [
    "# download functions is ADAPTED FROM\n",
    "\n",
    "# download\n",
    "# Downloads the example datasets for running the examples.\n",
    "#\n",
    "# Author:   Rebecca Bilbro <rbilbro@districtdatalabs.com>\n",
    "# Author:   Benjamin Bengfort <bbengfort@districtdatalabs.com>\n",
    "# Author:   Raul Peralta <raulpl25@gmail.com>\n",
    "# Created:  Wed May 18 11:54:45 2016 -0400\n",
    "#\n",
    "# Copyright (C) 2016 District Data Labs\n",
    "# For license information, see LICENSE.txt\n",
    "#\n",
    "# ID: download.py [1f73d2b] benjamin@bengfort.com $\n",
    "\n",
    "\"\"\"\n",
    "Downloads the example datasets for running the examples.\n",
    "\"\"\""
   ]
  },
  {
   "cell_type": "code",
   "execution_count": 3,
   "metadata": {},
   "outputs": [
    {
     "name": "stdout",
     "output_type": "stream",
     "text": [
      "Downloaded datasets to /Users/joannelin410/Code/ds-bootcamp/data\n"
     ]
    }
   ],
   "source": [
    "##########################################################################\n",
    "## Links and MD5 hash of datasets\n",
    "##########################################################################\n",
    "\n",
    "DATASETS = {\n",
    "    'hobbies': {\n",
    "        'url': 'https://s3.amazonaws.com/ddl-data-lake/yellowbrick/hobbies.zip',\n",
    "        'signature': '415c8f68df1486d5d84a1d1757a5aa3035aef5ad63ede5013c261d622fbd29d8'}\n",
    "}\n",
    "\n",
    "\n",
    "##########################################################################\n",
    "## Download functions\n",
    "##########################################################################\n",
    "\n",
    "def sha256sum(path, blocksize=65536):\n",
    "    \"\"\"\n",
    "    Computes the SHA256 signature of a file to verify that the file has not\n",
    "    been modified in transit and that it is the correct version of the data.\n",
    "    \"\"\"\n",
    "    sig = hashlib.sha256()\n",
    "    with open(path, 'rb') as f:\n",
    "        buf = f.read(blocksize)\n",
    "        while len(buf) > 0:\n",
    "            sig.update(buf)\n",
    "            buf = f.read(blocksize)\n",
    "    return sig.hexdigest()\n",
    "\n",
    "\n",
    "def download_data(url, path='data', signature=None, extract=True):\n",
    "    \"\"\"\n",
    "    Downloads the zipped data set specified at the given URL, saving it to\n",
    "    the output path specified. This function verifies the download with the\n",
    "    given signature (if supplied) and extracts the zip file if requested.\n",
    "    \"\"\"\n",
    "    # Create the output directory if it does not exist\n",
    "    if not os.path.exists(path):\n",
    "        os.mkdir(path)\n",
    "\n",
    "    # Get the name of the file from the URL\n",
    "    name = os.path.basename(url)\n",
    "    dlpath = os.path.join(path, name)\n",
    "\n",
    "    # Fetch the response in a streaming fashion and write it to disk.\n",
    "    response = requests.get(url, stream=True)\n",
    "    with open(dlpath, 'wb') as f:\n",
    "        for chunk in response.iter_content(65536):\n",
    "            f.write(chunk)\n",
    "\n",
    "    # If verify, compare the signature\n",
    "    if signature is not None:\n",
    "        dlsignature = sha256sum(dlpath)\n",
    "        if signature != dlsignature:\n",
    "            raise ValueError(\n",
    "                \"Download signature does not match hardcoded signature!\"\n",
    "            )\n",
    "\n",
    "    # If extract, extract the zipfile.\n",
    "    if extract:\n",
    "        zf = zipfile.ZipFile(dlpath)\n",
    "        zf.extractall(path)\n",
    "\n",
    "\n",
    "def download_all(path='data', verify=True, extract=True):\n",
    "    \"\"\"\n",
    "    Downloads all the example datasets. If verify is True then compare the\n",
    "    download signature with the hardcoded signature. If extract is True then\n",
    "    extract the contents of the zipfile to the given path.\n",
    "    \"\"\"\n",
    "    for name, meta in DATASETS.items():\n",
    "        url = meta['url']\n",
    "        signature = meta['signature'] if verify else None\n",
    "\n",
    "        download_data(url, path=path, signature=signature, extract=extract)\n",
    "\n",
    "\n",
    "def _load_file_data(name, path='data', extract=True):\n",
    "    \"\"\"\n",
    "    Returns the information of the specified dataset.\n",
    "    \"\"\"\n",
    "    url = DATASETS[name]['url']\n",
    "    signature = DATASETS[name]['signature']\n",
    "    download_data(url, path=path, signature=signature, extract=extract)\n",
    "    with open(os.path.join(path, name, 'meta.json')) as meta_file:\n",
    "        feature_names = json.load(meta_file)\n",
    "    with open(os.path.join(path, name, 'README.md')) as readme_file:\n",
    "        description = readme_file.read()\n",
    "    with open(os.path.join(path, name, '{0}.csv'.format(name))) as csv_file:\n",
    "        data_file = csv.reader(csv_file)\n",
    "        # removing columns name\n",
    "        next(data_file)\n",
    "        data = np.asarray([line for line in data_file])\n",
    "    result = {'data': data, 'DESCR': description}\n",
    "    for k, v in feature_names.items():\n",
    "        result[k] = v\n",
    "    return result\n",
    "\n",
    "\n",
    "if __name__ == '__main__':\n",
    "    path = 'data'\n",
    "    download_all(path)\n",
    "    print(\"Downloaded datasets to {}\".format(os.path.abspath(path)))\n"
   ]
  },
  {
   "cell_type": "code",
   "execution_count": 4,
   "metadata": {},
   "outputs": [],
   "source": [
    "## Load functions to load hobbies text files.\n",
    "\n",
    "def _load_hobbies_data(name, path='data/hobbies', extract=True):\n",
    "    \"\"\"\n",
    "    Returns the information of the hobbies dataset.\n",
    "    \"\"\"\n",
    "    url = DATASETS['hobbies']['url']\n",
    "    signature = DATASETS['hobbies']['signature']\n",
    "    \n",
    "    hobbies_path = path + '/' + str(name)\n",
    "    \n",
    "    download_data(url, path=path, signature=signature, extract=extract)\n",
    "    \n",
    "    files = []\n",
    "    for i in os.listdir(hobbies_path):\n",
    "        if i.endswith('.txt'):\n",
    "            file = open(hobbies_path + '/' + i)\n",
    "            files.append(file.read())\n",
    "    return files\n",
    "\n",
    "    \n",
    "def load_books(path='data/hobbies', extract=True):\n",
    "    \"\"\"\n",
    "    Downloads the 'books' dataset, saving it to the output\n",
    "    path specified and returns the data.\n",
    "    \"\"\"\n",
    "    # name of the dataset\n",
    "    name = 'books'\n",
    "    files = _load_hobbies_data(name, path, extract)\n",
    "    \n",
    "    df = pd.DataFrame()\n",
    "    df['text'] = files\n",
    "    df['topic'] = name\n",
    "    return df\n",
    "\n",
    "\n",
    "def load_cinema(path='data/hobbies', extract=True):\n",
    "    \"\"\"\n",
    "    Downloads the 'cinema' dataset, saving it to the output\n",
    "    path specified and returns the data.\n",
    "    \"\"\"\n",
    "    # name of the dataset\n",
    "    name = 'cinema'\n",
    "    files = _load_hobbies_data(name, path, extract)\n",
    "\n",
    "    df = pd.DataFrame()\n",
    "    df['text'] = files\n",
    "    df['topic'] = name\n",
    "    return df\n",
    "\n",
    "\n",
    "def load_sports(path='data/hobbies', extract=True):\n",
    "    \"\"\"\n",
    "    Downloads the 'sports' dataset, saving it to the output\n",
    "    path specified and returns the data.\n",
    "    \"\"\"\n",
    "    # name of the dataset\n",
    "    name = 'sports'\n",
    "    files = _load_hobbies_data(name, path, extract)\n",
    "    \n",
    "    df = pd.DataFrame()\n",
    "    df['text'] = files\n",
    "    df['topic'] = name\n",
    "    return df\n",
    "\n",
    "def load_cooking(path='data/hobbies', extract=True):\n",
    "    \"\"\"\n",
    "    Downloads the 'cooking' dataset, saving it to the output\n",
    "    path specified and returns the data.\n",
    "    \"\"\"\n",
    "    # name of the dataset\n",
    "    name = 'cooking'\n",
    "    files = _load_hobbies_data(name, path, extract)\n",
    "    \n",
    "    df = pd.DataFrame()\n",
    "    df['text'] = files\n",
    "    df['topic'] = name\n",
    "    return df\n",
    "\n",
    "\n",
    "def load_gaming(path='data/hobbies', extract=True):\n",
    "    \"\"\"\n",
    "    Downloads the 'gaming' dataset, saving it to the output\n",
    "    path specified and returns the data.\n",
    "    \"\"\"\n",
    "    # name of the dataset\n",
    "    name = 'gaming'\n",
    "    files = _load_hobbies_data(name, path, extract)\n",
    "    \n",
    "    df = pd.DataFrame()\n",
    "    df['text'] = files\n",
    "    df['topic'] = name\n",
    "    return df\n",
    "\n",
    "\n",
    "def load_all(path='data/hobbies', extract=True):\n",
    "    \"\"\"\n",
    "    Downloads the all datasets, saving it to the output\n",
    "    path specified and returns the data.\n",
    "    \"\"\"\n",
    "    books = load_books()\n",
    "    sports = load_sports()\n",
    "    gaming = load_gaming()\n",
    "    cooking = load_cooking()\n",
    "    cinema = load_cinema()\n",
    "    \n",
    "    df = pd.concat([books, sports, gaming, cooking, cinema], ignore_index=True)\n",
    "    return df\n",
    "    \n",
    "    "
   ]
  },
  {
   "cell_type": "code",
   "execution_count": 5,
   "metadata": {},
   "outputs": [],
   "source": [
    "df = load_all()"
   ]
  },
  {
   "cell_type": "code",
   "execution_count": 6,
   "metadata": {},
   "outputs": [
    {
     "data": {
      "text/plain": [
       "gaming     128\n",
       "sports     118\n",
       "cinema     100\n",
       "books       72\n",
       "cooking     30\n",
       "Name: topic, dtype: int64"
      ]
     },
     "execution_count": 6,
     "metadata": {},
     "output_type": "execute_result"
    }
   ],
   "source": [
    "df['topic'].value_counts()"
   ]
  },
  {
   "cell_type": "code",
   "execution_count": 7,
   "metadata": {},
   "outputs": [
    {
     "data": {
      "text/html": [
       "<div>\n",
       "<style scoped>\n",
       "    .dataframe tbody tr th:only-of-type {\n",
       "        vertical-align: middle;\n",
       "    }\n",
       "\n",
       "    .dataframe tbody tr th {\n",
       "        vertical-align: top;\n",
       "    }\n",
       "\n",
       "    .dataframe thead th {\n",
       "        text-align: right;\n",
       "    }\n",
       "</style>\n",
       "<table border=\"1\" class=\"dataframe\">\n",
       "  <thead>\n",
       "    <tr style=\"text-align: right;\">\n",
       "      <th></th>\n",
       "      <th>text</th>\n",
       "      <th>topic</th>\n",
       "    </tr>\n",
       "  </thead>\n",
       "  <tbody>\n",
       "    <tr>\n",
       "      <th>0</th>\n",
       "      <td>\\n\\nFrom \\n\\n to \\n\\n, Oscar voters can't get ...</td>\n",
       "      <td>books</td>\n",
       "    </tr>\n",
       "    <tr>\n",
       "      <th>1</th>\n",
       "      <td>The Lonely City bristles with heart-piercing w...</td>\n",
       "      <td>books</td>\n",
       "    </tr>\n",
       "    <tr>\n",
       "      <th>2</th>\n",
       "      <td>\\n\\n\\n\\nRelated Posts:\\n</td>\n",
       "      <td>books</td>\n",
       "    </tr>\n",
       "    <tr>\n",
       "      <th>3</th>\n",
       "      <td>The first story in Sara Majka’s first book beg...</td>\n",
       "      <td>books</td>\n",
       "    </tr>\n",
       "    <tr>\n",
       "      <th>4</th>\n",
       "      <td>by Sonny Liew\\n\\nHardcover, 320 pages |\\n\\nYou...</td>\n",
       "      <td>books</td>\n",
       "    </tr>\n",
       "  </tbody>\n",
       "</table>\n",
       "</div>"
      ],
      "text/plain": [
       "                                                text  topic\n",
       "0  \\n\\nFrom \\n\\n to \\n\\n, Oscar voters can't get ...  books\n",
       "1  The Lonely City bristles with heart-piercing w...  books\n",
       "2                           \\n\\n\\n\\nRelated Posts:\\n  books\n",
       "3  The first story in Sara Majka’s first book beg...  books\n",
       "4  by Sonny Liew\\n\\nHardcover, 320 pages |\\n\\nYou...  books"
      ]
     },
     "execution_count": 7,
     "metadata": {},
     "output_type": "execute_result"
    }
   ],
   "source": [
    "df.head()"
   ]
  },
  {
   "cell_type": "code",
   "execution_count": 8,
   "metadata": {},
   "outputs": [],
   "source": [
    "# Removing newlines\n",
    "def text_cleaner(text):\n",
    "    text = re.sub(r'\\n',' ',text)\n",
    "    text = re.sub(r'\\t',' ',text)\n",
    "    return text\n",
    "\n",
    "# Applying to rows in dataframe\n",
    "for r in range(len(df['text'])):\n",
    "    df['text'][r] = text_cleaner(df['text'][r])\n",
    "    \n",
    "# Removing empty rows    \n",
    "df['text'].replace(' ', np.nan, inplace=True)\n",
    "df.dropna(subset=['text'], inplace=True)\n",
    "\n",
    "# Dropping articles with less than 10 words.\n",
    "df = df[df.text.str.count(' ') > 9]\n",
    "\n",
    "df = df.reset_index(drop=True)"
   ]
  },
  {
   "cell_type": "code",
   "execution_count": 9,
   "metadata": {},
   "outputs": [
    {
     "data": {
      "text/html": [
       "<div>\n",
       "<style scoped>\n",
       "    .dataframe tbody tr th:only-of-type {\n",
       "        vertical-align: middle;\n",
       "    }\n",
       "\n",
       "    .dataframe tbody tr th {\n",
       "        vertical-align: top;\n",
       "    }\n",
       "\n",
       "    .dataframe thead th {\n",
       "        text-align: right;\n",
       "    }\n",
       "</style>\n",
       "<table border=\"1\" class=\"dataframe\">\n",
       "  <thead>\n",
       "    <tr style=\"text-align: right;\">\n",
       "      <th></th>\n",
       "      <th>text</th>\n",
       "      <th>topic</th>\n",
       "    </tr>\n",
       "  </thead>\n",
       "  <tbody>\n",
       "    <tr>\n",
       "      <th>0</th>\n",
       "      <td>From    to   , Oscar voters can't get enough...</td>\n",
       "      <td>books</td>\n",
       "    </tr>\n",
       "    <tr>\n",
       "      <th>1</th>\n",
       "      <td>The Lonely City bristles with heart-piercing w...</td>\n",
       "      <td>books</td>\n",
       "    </tr>\n",
       "    <tr>\n",
       "      <th>2</th>\n",
       "      <td>The first story in Sara Majka’s first book beg...</td>\n",
       "      <td>books</td>\n",
       "    </tr>\n",
       "    <tr>\n",
       "      <th>3</th>\n",
       "      <td>by Sonny Liew  Hardcover, 320 pages |  Your pu...</td>\n",
       "      <td>books</td>\n",
       "    </tr>\n",
       "    <tr>\n",
       "      <th>4</th>\n",
       "      <td>After forty-five years of playing in Crosby, S...</td>\n",
       "      <td>books</td>\n",
       "    </tr>\n",
       "  </tbody>\n",
       "</table>\n",
       "</div>"
      ],
      "text/plain": [
       "                                                text  topic\n",
       "0    From    to   , Oscar voters can't get enough...  books\n",
       "1  The Lonely City bristles with heart-piercing w...  books\n",
       "2  The first story in Sara Majka’s first book beg...  books\n",
       "3  by Sonny Liew  Hardcover, 320 pages |  Your pu...  books\n",
       "4  After forty-five years of playing in Crosby, S...  books"
      ]
     },
     "execution_count": 9,
     "metadata": {},
     "output_type": "execute_result"
    }
   ],
   "source": [
    "df.head()"
   ]
  },
  {
   "cell_type": "code",
   "execution_count": 10,
   "metadata": {},
   "outputs": [
    {
     "name": "stdout",
     "output_type": "stream",
     "text": [
      "Number of features: 6138\n",
      "number of articles: 428\n"
     ]
    }
   ],
   "source": [
    "# tfidf\n",
    "X = df['text']\n",
    "Y = df['topic']\n",
    "\n",
    "vectorizer = TfidfVectorizer(max_df=0.5, # drop words that occur in more than half the tweets\n",
    "                             min_df=3, # only use words that appear at least three times\n",
    "                             stop_words='english', \n",
    "                             lowercase=True, #convert everything to lower case\n",
    "                             use_idf=True,#we definitely want to use inverse document frequencies in our weighting\n",
    "                             norm=u'l2', #Applies a correction factor so that longer articles and shorter articles get treated equally\n",
    "                             smooth_idf=True #Adds 1 to all document frequencies, as if an extra document existed that used every word once.  Prevents divide-by-zero errors\n",
    "                            )\n",
    "\n",
    "\n",
    "#Applying the vectorizer to training set\n",
    "X_tfidf = vectorizer.fit_transform(X)\n",
    "print(\"Number of features: %d\" % X_tfidf.get_shape()[1])\n",
    "\n",
    "df['tfidf'] = X_tfidf\n",
    "\n",
    "#Reshapes the vectorizer output into something people can read\n",
    "X_tfidf_csr = X_tfidf.tocsr()\n",
    "\n",
    "\n",
    "#number of tweets\n",
    "n = X_tfidf_csr.shape[0]\n",
    "print('number of articles: %d' %n)\n",
    "\n",
    "\n",
    "#A list of dictionaries, one per tweet\n",
    "tfidf_byart = [{} for _ in range(0,n)]\n",
    "\n",
    "\n",
    "#List of features\n",
    "terms = vectorizer.get_feature_names()"
   ]
  },
  {
   "cell_type": "code",
   "execution_count": 11,
   "metadata": {},
   "outputs": [],
   "source": [
    "#for each article, lists the feature words and their tf-idf scores\n",
    "for i, j in zip(*X_tfidf_csr.nonzero()):\n",
    "    tfidf_byart[i][terms[j]] = X_tfidf_csr[i, j]"
   ]
  },
  {
   "cell_type": "code",
   "execution_count": 12,
   "metadata": {},
   "outputs": [
    {
     "name": "stdout",
     "output_type": "stream",
     "text": [
      "Topic: books\n",
      "Original article: After forty-five years of playing in Crosby, Stills, Nash, and Young, Graham Nash has announced that he is done with tolerating—and mollifying—David Crosby’s notoriously big, cantankerous mouth. Nash told Billboard, “In my world, there will never, ever be a Crosby, Stills, Nash, and Young record and there will never be another Crosby, Stills, and Nash record or show.” He went a bit further in an earlier interview with the magazine Lust for Life, saying:  I don’t like David Crosby right now. He’s been awful for me the last two years, just f**king awful. I’ve been there and saved his f**king ass for 45 years, and he treated me like s**t. You can’t do that to me. You can do it for a day or so, until I think you’re going to come around. When it goes on longer, and I keep getting nasty emails from him, I’m done. F**k you. David has ripped the heart out of Crosby, Stills, Nash & Young… How can I not be sad?  On a more positive note, Nash is preparing to tour for his solo album, The Path Tonight, which will be out April 15. You do you, Nash.  Related Posts: \n",
      "Tf_idf vector: {'path': 0.13151916987780368, 'don': 0.069151612743213, 'big': 0.07520650783818048, 'heart': 0.1109054419797892, 'like': 0.10792000902974457, 'goes': 0.10513137355147113, 'world': 0.0664121664119756, 'right': 0.07395414077280847, 'related': 0.0988471841593812, 'posts': 0.12946736858707952, 'years': 0.20287855467910842, 've': 0.06617519844095875, 'sad': 0.12946736858707952, 'day': 0.07585304032305233, 'young': 0.28650649523531324, 'just': 0.055403165858889096, 'life': 0.07858962007536682, 'tour': 0.1415256264074875, 'playing': 0.08873974511157412, 'graham': 0.16213935430550197, 'announced': 0.09426284729937108, 'david': 0.31539412065441336, 'mouth': 0.15213289777581812, 'told': 0.08774834254114909, 'record': 0.21203836093093145, 'went': 0.09307311573106314, 'bit': 0.0882399127910506, 'earlier': 0.10261669407579437, 'interview': 0.11198699109699778, 'magazine': 0.13372309079949934, 'saying': 0.11198699109699778, 'awful': 0.2674461815989987, 'king': 0.24809049783481157, 'saved': 0.13372309079949934, 'ass': 0.16213935430550197, '45': 0.1415256264074875, 'treated': 0.14465897681542025, 'think': 0.07488843718042329, 'going': 0.07131542668241363, 'come': 0.07488843718042329, 'longer': 0.1109054419797892, 'getting': 0.0867889263389732, 'nasty': 0.1481617645582218, 'ripped': 0.16213935430550197, 'positive': 0.11946091205739565, 'note': 0.10986184988497988, 'preparing': 0.15213289777581812, 'solo': 0.15671723463582823, 'album': 0.1481617645582218, 'tonight': 0.13610350673781377, 'april': 0.08540545256745127, '15': 0.09366203246072433}\n"
     ]
    }
   ],
   "source": [
    "#Keep in mind that the log base 2 of 1 is 0, so a tf-idf score of 0 indicates that the word was present once in that sentence.\n",
    "print('Topic:', Y.iloc[4])\n",
    "print('Original article:', X.iloc[4])\n",
    "print('Tf_idf vector:', tfidf_byart[4])"
   ]
  },
  {
   "cell_type": "markdown",
   "metadata": {},
   "source": [
    "# Battle Plan\n",
    "\n",
    "- Supervised learning models (features: tfidf vectors? BoW?) that categorize articles into topics.  Determine best model. Test-Train split.\n",
    "- k means clustering.  Which topics are clustered together?\n",
    "- Unsupervised learning: determine topic sentence for each topic and keywords (shared and unique).  Determine unique topics within a topic."
   ]
  },
  {
   "cell_type": "markdown",
   "metadata": {},
   "source": [
    "# Supervised Learning models\n",
    "Training models to recognize topics."
   ]
  },
  {
   "cell_type": "code",
   "execution_count": 13,
   "metadata": {},
   "outputs": [],
   "source": [
    "# Train-test split\n",
    "Y = df['topic']\n",
    "X = X_tfidf\n",
    "\n",
    "X_train, X_test, y_train, y_test = train_test_split(X, \n",
    "                                                    Y,\n",
    "                                                    test_size=0.3,\n",
    "                                                    random_state=0,\n",
    "                                                    stratify=Y\n",
    "                                                   )"
   ]
  },
  {
   "cell_type": "markdown",
   "metadata": {},
   "source": [
    "## Random Forest"
   ]
  },
  {
   "cell_type": "code",
   "execution_count": 14,
   "metadata": {},
   "outputs": [
    {
     "name": "stdout",
     "output_type": "stream",
     "text": [
      "Training set score: 0.9966555183946488\n",
      "\n",
      "Test set score: 0.7054263565891473\n"
     ]
    }
   ],
   "source": [
    "rfc = ensemble.RandomForestClassifier()\n",
    "train = rfc.fit(X_train, y_train)\n",
    "\n",
    "print('Training set score:', rfc.score(X_train, y_train))\n",
    "print('\\nTest set score:', rfc.score(X_test, y_test))"
   ]
  },
  {
   "cell_type": "code",
   "execution_count": 15,
   "metadata": {},
   "outputs": [
    {
     "data": {
      "text/plain": [
       "array([0.75862069, 0.6744186 , 0.72093023, 0.81176471, 0.79761905])"
      ]
     },
     "execution_count": 15,
     "metadata": {},
     "output_type": "execute_result"
    }
   ],
   "source": [
    "cross_val_score(rfc, X, Y, cv=5)"
   ]
  },
  {
   "cell_type": "code",
   "execution_count": 16,
   "metadata": {},
   "outputs": [],
   "source": [
    "y_pred = rfc.fit(X_train, y_train).predict(X_test)"
   ]
  },
  {
   "cell_type": "code",
   "execution_count": 17,
   "metadata": {},
   "outputs": [
    {
     "data": {
      "text/html": [
       "<div>\n",
       "<style scoped>\n",
       "    .dataframe tbody tr th:only-of-type {\n",
       "        vertical-align: middle;\n",
       "    }\n",
       "\n",
       "    .dataframe tbody tr th {\n",
       "        vertical-align: top;\n",
       "    }\n",
       "\n",
       "    .dataframe thead th {\n",
       "        text-align: right;\n",
       "    }\n",
       "</style>\n",
       "<table border=\"1\" class=\"dataframe\">\n",
       "  <thead>\n",
       "    <tr style=\"text-align: right;\">\n",
       "      <th>Predicted</th>\n",
       "      <th>books</th>\n",
       "      <th>cinema</th>\n",
       "      <th>cooking</th>\n",
       "      <th>gaming</th>\n",
       "      <th>sports</th>\n",
       "      <th>All</th>\n",
       "    </tr>\n",
       "    <tr>\n",
       "      <th>True</th>\n",
       "      <th></th>\n",
       "      <th></th>\n",
       "      <th></th>\n",
       "      <th></th>\n",
       "      <th></th>\n",
       "      <th></th>\n",
       "    </tr>\n",
       "  </thead>\n",
       "  <tbody>\n",
       "    <tr>\n",
       "      <th>books</th>\n",
       "      <td>11</td>\n",
       "      <td>4</td>\n",
       "      <td>1</td>\n",
       "      <td>3</td>\n",
       "      <td>0</td>\n",
       "      <td>19</td>\n",
       "    </tr>\n",
       "    <tr>\n",
       "      <th>cinema</th>\n",
       "      <td>1</td>\n",
       "      <td>18</td>\n",
       "      <td>0</td>\n",
       "      <td>6</td>\n",
       "      <td>5</td>\n",
       "      <td>30</td>\n",
       "    </tr>\n",
       "    <tr>\n",
       "      <th>cooking</th>\n",
       "      <td>4</td>\n",
       "      <td>0</td>\n",
       "      <td>4</td>\n",
       "      <td>1</td>\n",
       "      <td>0</td>\n",
       "      <td>9</td>\n",
       "    </tr>\n",
       "    <tr>\n",
       "      <th>gaming</th>\n",
       "      <td>1</td>\n",
       "      <td>4</td>\n",
       "      <td>0</td>\n",
       "      <td>30</td>\n",
       "      <td>1</td>\n",
       "      <td>36</td>\n",
       "    </tr>\n",
       "    <tr>\n",
       "      <th>sports</th>\n",
       "      <td>2</td>\n",
       "      <td>1</td>\n",
       "      <td>0</td>\n",
       "      <td>8</td>\n",
       "      <td>24</td>\n",
       "      <td>35</td>\n",
       "    </tr>\n",
       "    <tr>\n",
       "      <th>All</th>\n",
       "      <td>19</td>\n",
       "      <td>27</td>\n",
       "      <td>5</td>\n",
       "      <td>48</td>\n",
       "      <td>30</td>\n",
       "      <td>129</td>\n",
       "    </tr>\n",
       "  </tbody>\n",
       "</table>\n",
       "</div>"
      ],
      "text/plain": [
       "Predicted  books  cinema  cooking  gaming  sports  All\n",
       "True                                                  \n",
       "books         11       4        1       3       0   19\n",
       "cinema         1      18        0       6       5   30\n",
       "cooking        4       0        4       1       0    9\n",
       "gaming         1       4        0      30       1   36\n",
       "sports         2       1        0       8      24   35\n",
       "All           19      27        5      48      30  129"
      ]
     },
     "execution_count": 17,
     "metadata": {},
     "output_type": "execute_result"
    }
   ],
   "source": [
    "# Taking a look at the confusion matrix\n",
    "pd.crosstab(y_test, y_pred, rownames=['True'], colnames=['Predicted'], margins=True)"
   ]
  },
  {
   "cell_type": "markdown",
   "metadata": {},
   "source": [
    "## Multinomial Logistic Regression"
   ]
  },
  {
   "cell_type": "code",
   "execution_count": 18,
   "metadata": {},
   "outputs": [
    {
     "name": "stdout",
     "output_type": "stream",
     "text": [
      "Training set score: 0.9765886287625418\n",
      "\n",
      "Test set score: 0.8372093023255814\n"
     ]
    }
   ],
   "source": [
    "lr = LogisticRegression(solver='lbfgs', multi_class='multinomial')\n",
    "train = lr.fit(X_train, y_train)\n",
    "\n",
    "print('Training set score:', lr.score(X_train, y_train))\n",
    "print('\\nTest set score:', lr.score(X_test, y_test))"
   ]
  },
  {
   "cell_type": "code",
   "execution_count": 19,
   "metadata": {},
   "outputs": [
    {
     "data": {
      "text/plain": [
       "array([0.87356322, 0.84883721, 0.81395349, 0.84705882, 0.77380952])"
      ]
     },
     "execution_count": 19,
     "metadata": {},
     "output_type": "execute_result"
    }
   ],
   "source": [
    "cross_val_score(lr, X, Y, cv=5)"
   ]
  },
  {
   "cell_type": "code",
   "execution_count": 20,
   "metadata": {},
   "outputs": [
    {
     "data": {
      "text/html": [
       "<div>\n",
       "<style scoped>\n",
       "    .dataframe tbody tr th:only-of-type {\n",
       "        vertical-align: middle;\n",
       "    }\n",
       "\n",
       "    .dataframe tbody tr th {\n",
       "        vertical-align: top;\n",
       "    }\n",
       "\n",
       "    .dataframe thead th {\n",
       "        text-align: right;\n",
       "    }\n",
       "</style>\n",
       "<table border=\"1\" class=\"dataframe\">\n",
       "  <thead>\n",
       "    <tr style=\"text-align: right;\">\n",
       "      <th>Predicted</th>\n",
       "      <th>books</th>\n",
       "      <th>cinema</th>\n",
       "      <th>cooking</th>\n",
       "      <th>gaming</th>\n",
       "      <th>sports</th>\n",
       "      <th>All</th>\n",
       "    </tr>\n",
       "    <tr>\n",
       "      <th>True</th>\n",
       "      <th></th>\n",
       "      <th></th>\n",
       "      <th></th>\n",
       "      <th></th>\n",
       "      <th></th>\n",
       "      <th></th>\n",
       "    </tr>\n",
       "  </thead>\n",
       "  <tbody>\n",
       "    <tr>\n",
       "      <th>books</th>\n",
       "      <td>10</td>\n",
       "      <td>2</td>\n",
       "      <td>0</td>\n",
       "      <td>6</td>\n",
       "      <td>1</td>\n",
       "      <td>19</td>\n",
       "    </tr>\n",
       "    <tr>\n",
       "      <th>cinema</th>\n",
       "      <td>0</td>\n",
       "      <td>25</td>\n",
       "      <td>0</td>\n",
       "      <td>3</td>\n",
       "      <td>2</td>\n",
       "      <td>30</td>\n",
       "    </tr>\n",
       "    <tr>\n",
       "      <th>cooking</th>\n",
       "      <td>0</td>\n",
       "      <td>0</td>\n",
       "      <td>3</td>\n",
       "      <td>5</td>\n",
       "      <td>1</td>\n",
       "      <td>9</td>\n",
       "    </tr>\n",
       "    <tr>\n",
       "      <th>gaming</th>\n",
       "      <td>0</td>\n",
       "      <td>0</td>\n",
       "      <td>0</td>\n",
       "      <td>36</td>\n",
       "      <td>0</td>\n",
       "      <td>36</td>\n",
       "    </tr>\n",
       "    <tr>\n",
       "      <th>sports</th>\n",
       "      <td>0</td>\n",
       "      <td>0</td>\n",
       "      <td>0</td>\n",
       "      <td>1</td>\n",
       "      <td>34</td>\n",
       "      <td>35</td>\n",
       "    </tr>\n",
       "    <tr>\n",
       "      <th>All</th>\n",
       "      <td>10</td>\n",
       "      <td>27</td>\n",
       "      <td>3</td>\n",
       "      <td>51</td>\n",
       "      <td>38</td>\n",
       "      <td>129</td>\n",
       "    </tr>\n",
       "  </tbody>\n",
       "</table>\n",
       "</div>"
      ],
      "text/plain": [
       "Predicted  books  cinema  cooking  gaming  sports  All\n",
       "True                                                  \n",
       "books         10       2        0       6       1   19\n",
       "cinema         0      25        0       3       2   30\n",
       "cooking        0       0        3       5       1    9\n",
       "gaming         0       0        0      36       0   36\n",
       "sports         0       0        0       1      34   35\n",
       "All           10      27        3      51      38  129"
      ]
     },
     "execution_count": 20,
     "metadata": {},
     "output_type": "execute_result"
    }
   ],
   "source": [
    "y_pred = lr.fit(X_train, y_train).predict(X_test)\n",
    "\n",
    "# Taking a look at the confusion matrix\n",
    "pd.crosstab(y_test, y_pred, rownames=['True'], colnames=['Predicted'], margins=True)"
   ]
  },
  {
   "cell_type": "markdown",
   "metadata": {},
   "source": [
    "## Gradient Boost"
   ]
  },
  {
   "cell_type": "code",
   "execution_count": 21,
   "metadata": {},
   "outputs": [
    {
     "name": "stdout",
     "output_type": "stream",
     "text": [
      "Training set score: 1.0\n",
      "\n",
      "Test set score: 0.7674418604651163\n"
     ]
    }
   ],
   "source": [
    "clf = ensemble.GradientBoostingClassifier()\n",
    "train = clf.fit(X_train, y_train)\n",
    "\n",
    "print('Training set score:', clf.score(X_train, y_train))\n",
    "print('\\nTest set score:', clf.score(X_test, y_test))"
   ]
  },
  {
   "cell_type": "code",
   "execution_count": 22,
   "metadata": {},
   "outputs": [
    {
     "data": {
      "text/plain": [
       "array([0.81609195, 0.76744186, 0.81395349, 0.82352941, 0.77380952])"
      ]
     },
     "execution_count": 22,
     "metadata": {},
     "output_type": "execute_result"
    }
   ],
   "source": [
    "cross_val_score(clf, X, Y, cv=5)"
   ]
  },
  {
   "cell_type": "code",
   "execution_count": 23,
   "metadata": {},
   "outputs": [
    {
     "data": {
      "text/html": [
       "<div>\n",
       "<style scoped>\n",
       "    .dataframe tbody tr th:only-of-type {\n",
       "        vertical-align: middle;\n",
       "    }\n",
       "\n",
       "    .dataframe tbody tr th {\n",
       "        vertical-align: top;\n",
       "    }\n",
       "\n",
       "    .dataframe thead th {\n",
       "        text-align: right;\n",
       "    }\n",
       "</style>\n",
       "<table border=\"1\" class=\"dataframe\">\n",
       "  <thead>\n",
       "    <tr style=\"text-align: right;\">\n",
       "      <th>Predicted</th>\n",
       "      <th>books</th>\n",
       "      <th>cinema</th>\n",
       "      <th>cooking</th>\n",
       "      <th>gaming</th>\n",
       "      <th>sports</th>\n",
       "      <th>All</th>\n",
       "    </tr>\n",
       "    <tr>\n",
       "      <th>True</th>\n",
       "      <th></th>\n",
       "      <th></th>\n",
       "      <th></th>\n",
       "      <th></th>\n",
       "      <th></th>\n",
       "      <th></th>\n",
       "    </tr>\n",
       "  </thead>\n",
       "  <tbody>\n",
       "    <tr>\n",
       "      <th>books</th>\n",
       "      <td>16</td>\n",
       "      <td>2</td>\n",
       "      <td>0</td>\n",
       "      <td>0</td>\n",
       "      <td>1</td>\n",
       "      <td>19</td>\n",
       "    </tr>\n",
       "    <tr>\n",
       "      <th>cinema</th>\n",
       "      <td>1</td>\n",
       "      <td>15</td>\n",
       "      <td>0</td>\n",
       "      <td>8</td>\n",
       "      <td>6</td>\n",
       "      <td>30</td>\n",
       "    </tr>\n",
       "    <tr>\n",
       "      <th>cooking</th>\n",
       "      <td>3</td>\n",
       "      <td>0</td>\n",
       "      <td>6</td>\n",
       "      <td>0</td>\n",
       "      <td>0</td>\n",
       "      <td>9</td>\n",
       "    </tr>\n",
       "    <tr>\n",
       "      <th>gaming</th>\n",
       "      <td>0</td>\n",
       "      <td>1</td>\n",
       "      <td>0</td>\n",
       "      <td>34</td>\n",
       "      <td>1</td>\n",
       "      <td>36</td>\n",
       "    </tr>\n",
       "    <tr>\n",
       "      <th>sports</th>\n",
       "      <td>1</td>\n",
       "      <td>2</td>\n",
       "      <td>0</td>\n",
       "      <td>6</td>\n",
       "      <td>26</td>\n",
       "      <td>35</td>\n",
       "    </tr>\n",
       "    <tr>\n",
       "      <th>All</th>\n",
       "      <td>21</td>\n",
       "      <td>20</td>\n",
       "      <td>6</td>\n",
       "      <td>48</td>\n",
       "      <td>34</td>\n",
       "      <td>129</td>\n",
       "    </tr>\n",
       "  </tbody>\n",
       "</table>\n",
       "</div>"
      ],
      "text/plain": [
       "Predicted  books  cinema  cooking  gaming  sports  All\n",
       "True                                                  \n",
       "books         16       2        0       0       1   19\n",
       "cinema         1      15        0       8       6   30\n",
       "cooking        3       0        6       0       0    9\n",
       "gaming         0       1        0      34       1   36\n",
       "sports         1       2        0       6      26   35\n",
       "All           21      20        6      48      34  129"
      ]
     },
     "execution_count": 23,
     "metadata": {},
     "output_type": "execute_result"
    }
   ],
   "source": [
    "y_pred = clf.fit(X_train, y_train).predict(X_test)\n",
    "\n",
    "# Taking a look at the confusion matrix\n",
    "pd.crosstab(y_test, y_pred, rownames=['True'], colnames=['Predicted'], margins=True)"
   ]
  },
  {
   "cell_type": "markdown",
   "metadata": {},
   "source": [
    "# Clustering"
   ]
  },
  {
   "cell_type": "code",
   "execution_count": 24,
   "metadata": {},
   "outputs": [
    {
     "data": {
      "image/png": "[encoded data removed]",
      "text/plain": [
       "<matplotlib.figure.Figure at 0x1a1bf262b0>"
      ]
     },
     "metadata": {},
     "output_type": "display_data"
    },
    {
     "name": "stdout",
     "output_type": "stream",
     "text": [
      "Comparing k-means clusters against the data:\n",
      "topic  books  cinema  cooking  gaming  sports\n",
      "row_0                                        \n",
      "0         36      48       28      35       1\n",
      "1          0       4        0      48      72\n",
      "2         27      40        2       6       0\n",
      "3          0       0        0       0      39\n",
      "4          1       8        0      29       4\n"
     ]
    }
   ],
   "source": [
    "# We are limiting our feature space to 2 components here. \n",
    "#  This makes it easier to graph and see the clusters.\n",
    "svd= TruncatedSVD(2)\n",
    "\n",
    "# Normalize the data.\n",
    "X_norm = normalize(X_tfidf)\n",
    "\n",
    "# Reduce it to two components.\n",
    "X_svd = svd.fit_transform(X_norm)\n",
    "\n",
    "# Calculate predicted values.\n",
    "y_pred = KMeans(n_clusters=5, random_state=42).fit_predict(X_svd)\n",
    "\n",
    "# Plot the solution.\n",
    "plt.scatter(X_svd[:, 0], X_svd[:, 1], c=y_pred)\n",
    "plt.show()\n",
    "\n",
    "# Check the solution against the data.\n",
    "print('Comparing k-means clusters against the data:')\n",
    "print(pd.crosstab(y_pred, Y))"
   ]
  },
  {
   "cell_type": "code",
   "execution_count": 25,
   "metadata": {},
   "outputs": [
    {
     "data": {
      "image/png": "[encoded data removed]",
      "text/plain": [
       "<matplotlib.figure.Figure at 0x1a1bf21470>"
      ]
     },
     "metadata": {},
     "output_type": "display_data"
    },
    {
     "name": "stdout",
     "output_type": "stream",
     "text": [
      "Comparing k-means clusters against the data:\n",
      "topic  books  cinema  cooking  gaming  sports\n",
      "row_0                                        \n",
      "0         32      38       24      84      34\n",
      "1         32      59        6      23       1\n",
      "2          0       3        0      11      81\n"
     ]
    }
   ],
   "source": [
    "# Calculate predicted values.\n",
    "y_pred = KMeans(n_clusters=3, random_state=42).fit_predict(X_svd)\n",
    "\n",
    "# Plot the solution.\n",
    "plt.scatter(X_svd[:, 0], X_svd[:, 1], c=y_pred)\n",
    "plt.show()\n",
    "\n",
    "# Check the solution against the data.\n",
    "print('Comparing k-means clusters against the data:')\n",
    "print(pd.crosstab(y_pred, Y))"
   ]
  },
  {
   "cell_type": "code",
   "execution_count": 26,
   "metadata": {},
   "outputs": [
    {
     "data": {
      "image/png": "[encoded data removed]",
      "text/plain": [
       "<matplotlib.figure.Figure at 0x1a1bf3dd68>"
      ]
     },
     "metadata": {},
     "output_type": "display_data"
    },
    {
     "name": "stdout",
     "output_type": "stream",
     "text": [
      "Comparing k-means clusters against the data:\n",
      "topic  books  cinema  cooking  gaming  sports\n",
      "row_0                                        \n",
      "0         37      52       28      34       1\n",
      "1         27      40        2      22       1\n",
      "2          0       0        0       0      39\n",
      "3          0       8        0      62      75\n"
     ]
    }
   ],
   "source": [
    "# Calculate predicted values.\n",
    "y_pred = KMeans(n_clusters=4, random_state=42).fit_predict(X_svd)\n",
    "\n",
    "# Plot the solution.\n",
    "plt.scatter(X_svd[:, 0], X_svd[:, 1], c=y_pred)\n",
    "plt.show()\n",
    "\n",
    "# Check the solution against the data.\n",
    "print('Comparing k-means clusters against the data:')\n",
    "print(pd.crosstab(y_pred, Y))"
   ]
  },
  {
   "cell_type": "markdown",
   "metadata": {},
   "source": [
    "# Topic Sentence\n",
    "Find main sentence for each article, then a topic topic sentence for each topic?"
   ]
  },
  {
   "cell_type": "code",
   "execution_count": 27,
   "metadata": {
    "scrolled": true
   },
   "outputs": [],
   "source": [
    "parser = spacy.load('en')\n",
    "\n",
    "parsed = []\n",
    "for r in range(len(df)):\n",
    "    try:\n",
    "        parsed_text = parser(df['text'][r])\n",
    "        parsed.append(parsed_text)\n",
    "    except KeyError:\n",
    "        pass  "
   ]
  },
  {
   "cell_type": "code",
   "execution_count": 28,
   "metadata": {},
   "outputs": [],
   "source": [
    "df['parsed'] = parsed"
   ]
  },
  {
   "cell_type": "code",
   "execution_count": 29,
   "metadata": {},
   "outputs": [],
   "source": [
    "def main_sent(text):    \n",
    "    sentences=[]\n",
    "\n",
    "    for span in text.sents:\n",
    "            # go from the start to the end of each span, returning each token in the sentence\n",
    "            # combine each token using join()\n",
    "        sent = ''.join(text[i].string for i in range(span.start, span.end)).strip()\n",
    "        sentences.append(sent)\n",
    "\n",
    "        # Creating the tf-idf matrix.\n",
    "    counter = TfidfVectorizer(lowercase=False, \n",
    "                              stop_words=None,\n",
    "                              ngram_range=(1, 1), \n",
    "                              analyzer=u'word', \n",
    "                              max_df=.5, \n",
    "                              min_df=1,\n",
    "                              max_features=None, \n",
    "                              vocabulary=None, \n",
    "                              binary=False)\n",
    "\n",
    "        #Applying the vectorizer\n",
    "    data_counts=counter.fit_transform(sentences)\n",
    "\n",
    "    # Calculating similarity\n",
    "    similarity = data_counts * data_counts.T\n",
    "\n",
    "    # Identifying the sentence with the highest rank.\n",
    "    nx_graph = nx.from_scipy_sparse_matrix(similarity)\n",
    "    ranks=nx.pagerank(nx_graph, alpha=.85, tol=.00000001)\n",
    "\n",
    "    ranked = sorted(((ranks[i],s) for i,s in enumerate(sentences)),\n",
    "                    reverse=True)\n",
    "    \n",
    "    return(ranked[0][1])"
   ]
  },
  {
   "cell_type": "code",
   "execution_count": 30,
   "metadata": {},
   "outputs": [
    {
     "data": {
      "text/plain": [
       "'The Lonely City, an exploration of loneliness based on her own and others’ experiences in New York City.'"
      ]
     },
     "execution_count": 30,
     "metadata": {},
     "output_type": "execute_result"
    }
   ],
   "source": [
    "main_sent(df['parsed'][1])"
   ]
  },
  {
   "cell_type": "code",
   "execution_count": 31,
   "metadata": {},
   "outputs": [],
   "source": [
    "df_mini = df.head(20)"
   ]
  },
  {
   "cell_type": "code",
   "execution_count": 32,
   "metadata": {},
   "outputs": [
    {
     "ename": "TypeError",
     "evalue": "'str' object is not callable",
     "output_type": "error",
     "traceback": [
      "\u001b[0;31m---------------------------------------------------------------------------\u001b[0m",
      "\u001b[0;31mTypeError\u001b[0m                                 Traceback (most recent call last)",
      "\u001b[0;32m<ipython-input-32-73a9b432ee91>\u001b[0m in \u001b[0;36m<module>\u001b[0;34m()\u001b[0m\n\u001b[1;32m      3\u001b[0m \u001b[0;32mfor\u001b[0m \u001b[0mr\u001b[0m \u001b[0;32min\u001b[0m \u001b[0mrange\u001b[0m\u001b[0;34m(\u001b[0m\u001b[0mlen\u001b[0m\u001b[0;34m(\u001b[0m\u001b[0mdf_mini\u001b[0m\u001b[0;34m)\u001b[0m\u001b[0;34m)\u001b[0m\u001b[0;34m:\u001b[0m\u001b[0;34m\u001b[0m\u001b[0m\n\u001b[1;32m      4\u001b[0m     \u001b[0;32mtry\u001b[0m\u001b[0;34m:\u001b[0m\u001b[0;34m\u001b[0m\u001b[0m\n\u001b[0;32m----> 5\u001b[0;31m         \u001b[0mmain_sent\u001b[0m \u001b[0;34m=\u001b[0m \u001b[0mmain_sent\u001b[0m\u001b[0;34m(\u001b[0m\u001b[0mdf_mini\u001b[0m\u001b[0;34m[\u001b[0m\u001b[0;34m'parsed'\u001b[0m\u001b[0;34m]\u001b[0m\u001b[0;34m[\u001b[0m\u001b[0mr\u001b[0m\u001b[0;34m]\u001b[0m\u001b[0;34m)\u001b[0m\u001b[0;34m\u001b[0m\u001b[0m\n\u001b[0m\u001b[1;32m      6\u001b[0m         \u001b[0mmain_sentences\u001b[0m\u001b[0;34m.\u001b[0m\u001b[0mappend\u001b[0m\u001b[0;34m(\u001b[0m\u001b[0mmain_sent\u001b[0m\u001b[0;34m)\u001b[0m\u001b[0;34m\u001b[0m\u001b[0m\n\u001b[1;32m      7\u001b[0m     \u001b[0;32mexcept\u001b[0m \u001b[0mValueError\u001b[0m\u001b[0;34m:\u001b[0m\u001b[0;34m\u001b[0m\u001b[0m\n",
      "\u001b[0;31mTypeError\u001b[0m: 'str' object is not callable"
     ]
    }
   ],
   "source": [
    "main_sentences = []\n",
    "\n",
    "for r in range(len(df_mini)):\n",
    "    try:\n",
    "        main_sent = main_sent(df_mini['parsed'][r])\n",
    "        main_sentences.append(main_sent)\n",
    "    except ValueError:\n",
    "        pass\n",
    "        \n"
   ]
  },
  {
   "cell_type": "markdown",
   "metadata": {},
   "source": [
    "# Keywords\n",
    "What are the key words for each topic?"
   ]
  },
  {
   "cell_type": "code",
   "execution_count": 33,
   "metadata": {},
   "outputs": [],
   "source": [
    "def keywords(text):\n",
    "    # Removing stop words and punctuation, then getting a list of all unique words in the text\n",
    "    text_filt = [word for word in text if word.is_stop==False and (word.pos_=='NOUN' or word.pos_=='ADJ')]\n",
    "    words=set(text_filt)\n",
    "\n",
    "    #Creating a grid indicating whether words are within 4 places of the target word\n",
    "    adjacency=pd.DataFrame(columns=words,index=words,data=0)\n",
    "\n",
    "    #Iterating through each word in the text and indicating which of the unique words are its neighbors\n",
    "    for i,word in enumerate(text):\n",
    "        # Checking if any of the word's next four neighbors are in the word list \n",
    "        if any([word == item for item in text_filt]):\n",
    "            # Making sure to stop at the end of the string, even if there are less than four words left after the target.\n",
    "            end=max(0,len(text)-(len(text)-(i+5)))\n",
    "            # The potential neighbors.\n",
    "            nextwords=text[i+1:end]\n",
    "            # Filtering the neighbors to select only those in the word list\n",
    "            inset=[x in text_filt for x in nextwords]\n",
    "            neighbors=[nextwords[i] for i in range(len(nextwords)) if inset[i]]\n",
    "            # Adding 1 to the adjacency matrix for neighbors of the target word\n",
    "            if neighbors:\n",
    "                adjacency.loc[word,neighbors]=adjacency.loc[word,neighbors]+1\n",
    "\n",
    "    print('done!')\n",
    "    \n",
    "    # Running TextRank\n",
    "    nx_words = nx.from_numpy_matrix(adjacency.as_matrix())\n",
    "    ranks=nx.pagerank(nx_words, alpha=.85, tol=.00000001)\n",
    "\n",
    "    # Identifying the five most highly ranked keywords\n",
    "    ranked = sorted(((ranks[i],s) for i,s in enumerate(words)),\n",
    "                    reverse=True)\n",
    "    print(ranked[:5])"
   ]
  },
  {
   "cell_type": "code",
   "execution_count": 34,
   "metadata": {},
   "outputs": [],
   "source": [
    "books = ' '.join(df[df['topic']=='books']['text'])\n",
    "books = parser(books)"
   ]
  },
  {
   "cell_type": "code",
   "execution_count": 35,
   "metadata": {},
   "outputs": [
    {
     "name": "stdout",
     "output_type": "stream",
     "text": [
      "done!\n",
      "[(0.00019088158152087389, interests), (0.00018940362751230556, volumes), (0.00018919414331158596, world), (0.0001876679473457359, work), (0.0001876679473457359, brown)]\n"
     ]
    }
   ],
   "source": [
    "keywords(books)"
   ]
  },
  {
   "cell_type": "code",
   "execution_count": 36,
   "metadata": {},
   "outputs": [
    {
     "name": "stdout",
     "output_type": "stream",
     "text": [
      "done!\n",
      "[(0.0001533136904219879, relationship), (0.0001521266160668421, 2-guard), (0.0001521266160668421, offseason), (0.00015073253943664237, leader), (0.00015073253943664237, competition)]\n"
     ]
    }
   ],
   "source": [
    "sports = ' '.join(df[df['topic']=='sports']['text'])\n",
    "sports = parser(sports)\n",
    "\n",
    "keywords(sports)"
   ]
  },
  {
   "cell_type": "code",
   "execution_count": null,
   "metadata": {},
   "outputs": [],
   "source": []
  }
 ],
 "metadata": {
  "kernelspec": {
   "display_name": "Python 3",
   "language": "python",
   "name": "python3"
  },
  "language_info": {
   "codemirror_mode": {
    "name": "ipython",
    "version": 3
   },
   "file_extension": ".py",
   "mimetype": "text/x-python",
   "name": "python",
   "nbconvert_exporter": "python",
   "pygments_lexer": "ipython3",
   "version": "3.6.4"
  }
 },
 "nbformat": 4,
 "nbformat_minor": 2
}

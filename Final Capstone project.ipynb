{
 "cells": [
  {
   "cell_type": "code",
   "execution_count": 1,
   "metadata": {},
   "outputs": [],
   "source": [
    "import os\n",
    "import sys\n",
    "import hashlib\n",
    "import zipfile\n",
    "import json\n",
    "import csv\n",
    "import numpy as np\n",
    "import re\n",
    "import pandas as pd\n",
    "\n",
    "import matplotlib.pyplot as plt\n",
    "\n",
    "from yellowbrick.classifier import ClassificationReport\n",
    "from yellowbrick.classifier import ConfusionMatrix\n",
    "from yellowbrick.text import TSNEVisualizer\n",
    "\n",
    "from sklearn.utils import resample\n",
    "from sklearn.model_selection import train_test_split\n",
    "from sklearn.model_selection import cross_val_score\n",
    "from sklearn import ensemble\n",
    "from sklearn.metrics import confusion_matrix\n",
    "from sklearn.linear_model import LogisticRegression\n",
    "\n",
    "from sklearn.feature_extraction.text import TfidfVectorizer\n",
    "from sklearn.cluster import KMeans\n",
    "from sklearn.cluster import MeanShift, estimate_bandwidth\n",
    "from sklearn.preprocessing import normalize\n",
    "from sklearn.decomposition import TruncatedSVD\n",
    "\n",
    "from sklearn.pipeline import make_pipeline\n",
    "from sklearn.preprocessing import Normalizer\n",
    "\n",
    "import scipy\n",
    "import networkx as nx\n",
    "import spacy\n",
    "import nltk\n",
    "\n",
    "from nltk.tokenize import RegexpTokenizer\n",
    "\n",
    "from itertools import tee, islice\n",
    "from collections import Counter\n",
    "import re\n",
    "\n",
    "try:\n",
    "    import requests\n",
    "except ImportError:\n",
    "    print((\n",
    "        \"The requests module is required to download data --\\n\"\n",
    "        \"please install it with pip install requests.\"\n",
    "    ))\n",
    "    sys.exit(1)"
   ]
  },
  {
   "cell_type": "code",
   "execution_count": 2,
   "metadata": {},
   "outputs": [
    {
     "data": {
      "text/plain": [
       "'\\nDownloads the example datasets for running the examples.\\n'"
      ]
     },
     "execution_count": 2,
     "metadata": {},
     "output_type": "execute_result"
    }
   ],
   "source": [
    "# download functions is ADAPTED FROM\n",
    "\n",
    "# download\n",
    "# Downloads the example datasets for running the examples.\n",
    "#\n",
    "# Author:   Rebecca Bilbro <rbilbro@districtdatalabs.com>\n",
    "# Author:   Benjamin Bengfort <bbengfort@districtdatalabs.com>\n",
    "# Author:   Raul Peralta <raulpl25@gmail.com>\n",
    "# Created:  Wed May 18 11:54:45 2016 -0400\n",
    "#\n",
    "# Copyright (C) 2016 District Data Labs\n",
    "# For license information, see LICENSE.txt\n",
    "#\n",
    "# ID: download.py [1f73d2b] benjamin@bengfort.com $\n",
    "\n",
    "\"\"\"\n",
    "Downloads the example datasets for running the examples.\n",
    "\"\"\""
   ]
  },
  {
   "cell_type": "code",
   "execution_count": 3,
   "metadata": {},
   "outputs": [
    {
     "name": "stdout",
     "output_type": "stream",
     "text": [
      "Downloaded datasets to /Users/joannelin410/Code/ds-bootcamp/data\n"
     ]
    }
   ],
   "source": [
    "##########################################################################\n",
    "## Links and MD5 hash of datasets\n",
    "##########################################################################\n",
    "\n",
    "DATASETS = {\n",
    "    'hobbies': {\n",
    "        'url': 'https://s3.amazonaws.com/ddl-data-lake/yellowbrick/hobbies.zip',\n",
    "        'signature': '415c8f68df1486d5d84a1d1757a5aa3035aef5ad63ede5013c261d622fbd29d8'}\n",
    "}\n",
    "\n",
    "\n",
    "##########################################################################\n",
    "## Download functions\n",
    "##########################################################################\n",
    "\n",
    "def sha256sum(path, blocksize=65536):\n",
    "    \"\"\"\n",
    "    Computes the SHA256 signature of a file to verify that the file has not\n",
    "    been modified in transit and that it is the correct version of the data.\n",
    "    \"\"\"\n",
    "    sig = hashlib.sha256()\n",
    "    with open(path, 'rb') as f:\n",
    "        buf = f.read(blocksize)\n",
    "        while len(buf) > 0:\n",
    "            sig.update(buf)\n",
    "            buf = f.read(blocksize)\n",
    "    return sig.hexdigest()\n",
    "\n",
    "\n",
    "def download_data(url, path='data', signature=None, extract=True):\n",
    "    \"\"\"\n",
    "    Downloads the zipped data set specified at the given URL, saving it to\n",
    "    the output path specified. This function verifies the download with the\n",
    "    given signature (if supplied) and extracts the zip file if requested.\n",
    "    \"\"\"\n",
    "    # Create the output directory if it does not exist\n",
    "    if not os.path.exists(path):\n",
    "        os.mkdir(path)\n",
    "\n",
    "    # Get the name of the file from the URL\n",
    "    name = os.path.basename(url)\n",
    "    dlpath = os.path.join(path, name)\n",
    "\n",
    "    # Fetch the response in a streaming fashion and write it to disk.\n",
    "    response = requests.get(url, stream=True)\n",
    "    with open(dlpath, 'wb') as f:\n",
    "        for chunk in response.iter_content(65536):\n",
    "            f.write(chunk)\n",
    "\n",
    "    # If verify, compare the signature\n",
    "    if signature is not None:\n",
    "        dlsignature = sha256sum(dlpath)\n",
    "        if signature != dlsignature:\n",
    "            raise ValueError(\n",
    "                \"Download signature does not match hardcoded signature!\"\n",
    "            )\n",
    "\n",
    "    # If extract, extract the zipfile.\n",
    "    if extract:\n",
    "        zf = zipfile.ZipFile(dlpath)\n",
    "        zf.extractall(path)\n",
    "\n",
    "\n",
    "def download_all(path='data', verify=True, extract=True):\n",
    "    \"\"\"\n",
    "    Downloads all the example datasets. If verify is True then compare the\n",
    "    download signature with the hardcoded signature. If extract is True then\n",
    "    extract the contents of the zipfile to the given path.\n",
    "    \"\"\"\n",
    "    for name, meta in DATASETS.items():\n",
    "        url = meta['url']\n",
    "        signature = meta['signature'] if verify else None\n",
    "\n",
    "        download_data(url, path=path, signature=signature, extract=extract)\n",
    "\n",
    "\n",
    "def _load_file_data(name, path='data', extract=True):\n",
    "    \"\"\"\n",
    "    Returns the information of the specified dataset.\n",
    "    \"\"\"\n",
    "    url = DATASETS[name]['url']\n",
    "    signature = DATASETS[name]['signature']\n",
    "    download_data(url, path=path, signature=signature, extract=extract)\n",
    "    with open(os.path.join(path, name, 'meta.json')) as meta_file:\n",
    "        feature_names = json.load(meta_file)\n",
    "    with open(os.path.join(path, name, 'README.md')) as readme_file:\n",
    "        description = readme_file.read()\n",
    "    with open(os.path.join(path, name, '{0}.csv'.format(name))) as csv_file:\n",
    "        data_file = csv.reader(csv_file)\n",
    "        # removing columns name\n",
    "        next(data_file)\n",
    "        data = np.asarray([line for line in data_file])\n",
    "    result = {'data': data, 'DESCR': description}\n",
    "    for k, v in feature_names.items():\n",
    "        result[k] = v\n",
    "    return result\n",
    "\n",
    "\n",
    "if __name__ == '__main__':\n",
    "    path = 'data'\n",
    "    download_all(path)\n",
    "    print(\"Downloaded datasets to {}\".format(os.path.abspath(path)))\n"
   ]
  },
  {
   "cell_type": "code",
   "execution_count": 4,
   "metadata": {},
   "outputs": [],
   "source": [
    "## Load functions to load hobbies text files.\n",
    "\n",
    "def _load_hobbies_data(name, path='data/hobbies', extract=True):\n",
    "    \"\"\"\n",
    "    Returns the information of the hobbies dataset.\n",
    "    \"\"\"\n",
    "    url = DATASETS['hobbies']['url']\n",
    "    signature = DATASETS['hobbies']['signature']\n",
    "    \n",
    "    hobbies_path = path + '/' + str(name)\n",
    "    \n",
    "    download_data(url, path=path, signature=signature, extract=extract)\n",
    "    \n",
    "    files = []\n",
    "    for i in os.listdir(hobbies_path):\n",
    "        if i.endswith('.txt'):\n",
    "            file = open(hobbies_path + '/' + i)\n",
    "            files.append(file.read())\n",
    "    return files\n",
    "\n",
    "    \n",
    "def load_books(path='data/hobbies', extract=True):\n",
    "    \"\"\"\n",
    "    Downloads the 'books' dataset, saving it to the output\n",
    "    path specified and returns the data.\n",
    "    \"\"\"\n",
    "    # name of the dataset\n",
    "    name = 'books'\n",
    "    files = _load_hobbies_data(name, path, extract)\n",
    "    \n",
    "    df = pd.DataFrame()\n",
    "    df['text'] = files\n",
    "    df['topic'] = name\n",
    "    return df\n",
    "\n",
    "\n",
    "def load_cinema(path='data/hobbies', extract=True):\n",
    "    \"\"\"\n",
    "    Downloads the 'cinema' dataset, saving it to the output\n",
    "    path specified and returns the data.\n",
    "    \"\"\"\n",
    "    # name of the dataset\n",
    "    name = 'cinema'\n",
    "    files = _load_hobbies_data(name, path, extract)\n",
    "\n",
    "    df = pd.DataFrame()\n",
    "    df['text'] = files\n",
    "    df['topic'] = name\n",
    "    return df\n",
    "\n",
    "\n",
    "def load_sports(path='data/hobbies', extract=True):\n",
    "    \"\"\"\n",
    "    Downloads the 'sports' dataset, saving it to the output\n",
    "    path specified and returns the data.\n",
    "    \"\"\"\n",
    "    # name of the dataset\n",
    "    name = 'sports'\n",
    "    files = _load_hobbies_data(name, path, extract)\n",
    "    \n",
    "    df = pd.DataFrame()\n",
    "    df['text'] = files\n",
    "    df['topic'] = name\n",
    "    return df\n",
    "\n",
    "def load_cooking(path='data/hobbies', extract=True):\n",
    "    \"\"\"\n",
    "    Downloads the 'cooking' dataset, saving it to the output\n",
    "    path specified and returns the data.\n",
    "    \"\"\"\n",
    "    # name of the dataset\n",
    "    name = 'cooking'\n",
    "    files = _load_hobbies_data(name, path, extract)\n",
    "    \n",
    "    df = pd.DataFrame()\n",
    "    df['text'] = files\n",
    "    df['topic'] = name\n",
    "    return df\n",
    "\n",
    "\n",
    "def load_gaming(path='data/hobbies', extract=True):\n",
    "    \"\"\"\n",
    "    Downloads the 'gaming' dataset, saving it to the output\n",
    "    path specified and returns the data.\n",
    "    \"\"\"\n",
    "    # name of the dataset\n",
    "    name = 'gaming'\n",
    "    files = _load_hobbies_data(name, path, extract)\n",
    "    \n",
    "    df = pd.DataFrame()\n",
    "    df['text'] = files\n",
    "    df['topic'] = name\n",
    "    return df\n",
    "\n",
    "\n",
    "def load_all(path='data/hobbies', extract=True):\n",
    "    \"\"\"\n",
    "    Downloads the all datasets, saving it to the output\n",
    "    path specified and returns the data.\n",
    "    \"\"\"\n",
    "    books = load_books()\n",
    "    sports = load_sports()\n",
    "    gaming = load_gaming()\n",
    "    cooking = load_cooking()\n",
    "    cinema = load_cinema()\n",
    "    \n",
    "    df = pd.concat([books, sports, gaming, cooking, cinema], ignore_index=True)\n",
    "    return df\n",
    "    \n",
    "    "
   ]
  },
  {
   "cell_type": "code",
   "execution_count": 5,
   "metadata": {},
   "outputs": [],
   "source": [
    "df = load_all()"
   ]
  },
  {
   "cell_type": "code",
   "execution_count": 6,
   "metadata": {},
   "outputs": [
    {
     "data": {
      "text/plain": [
       "gaming     128\n",
       "sports     118\n",
       "cinema     100\n",
       "books       72\n",
       "cooking     30\n",
       "Name: topic, dtype: int64"
      ]
     },
     "execution_count": 6,
     "metadata": {},
     "output_type": "execute_result"
    }
   ],
   "source": [
    "df['topic'].value_counts()"
   ]
  },
  {
   "cell_type": "code",
   "execution_count": 7,
   "metadata": {},
   "outputs": [],
   "source": [
    "# Removing newlines\n",
    "def text_cleaner(text):\n",
    "    text = re.sub(r'\\n',' ',text)\n",
    "    text = re.sub(r'\\t',' ',text)\n",
    "    return text\n",
    "\n",
    "# Applying to rows in dataframe\n",
    "for r in range(len(df['text'])):\n",
    "    df['text'][r] = text_cleaner(df['text'][r])\n",
    "    \n",
    "# Removing empty rows    \n",
    "df['text'].replace(' ', np.nan, inplace=True)\n",
    "df.dropna(subset=['text'], inplace=True)\n",
    "\n",
    "# Dropping articles with less than 10 words.\n",
    "df = df[df.text.str.count(' ') > 9]\n",
    "\n",
    "df = df.reset_index(drop=True)"
   ]
  },
  {
   "cell_type": "code",
   "execution_count": 8,
   "metadata": {},
   "outputs": [
    {
     "data": {
      "text/html": [
       "<div>\n",
       "<style scoped>\n",
       "    .dataframe tbody tr th:only-of-type {\n",
       "        vertical-align: middle;\n",
       "    }\n",
       "\n",
       "    .dataframe tbody tr th {\n",
       "        vertical-align: top;\n",
       "    }\n",
       "\n",
       "    .dataframe thead th {\n",
       "        text-align: right;\n",
       "    }\n",
       "</style>\n",
       "<table border=\"1\" class=\"dataframe\">\n",
       "  <thead>\n",
       "    <tr style=\"text-align: right;\">\n",
       "      <th></th>\n",
       "      <th>text</th>\n",
       "      <th>topic</th>\n",
       "    </tr>\n",
       "  </thead>\n",
       "  <tbody>\n",
       "    <tr>\n",
       "      <th>0</th>\n",
       "      <td>From    to   , Oscar voters can't get enough...</td>\n",
       "      <td>books</td>\n",
       "    </tr>\n",
       "    <tr>\n",
       "      <th>1</th>\n",
       "      <td>The Lonely City bristles with heart-piercing w...</td>\n",
       "      <td>books</td>\n",
       "    </tr>\n",
       "    <tr>\n",
       "      <th>2</th>\n",
       "      <td>The first story in Sara Majka’s first book beg...</td>\n",
       "      <td>books</td>\n",
       "    </tr>\n",
       "    <tr>\n",
       "      <th>3</th>\n",
       "      <td>by Sonny Liew  Hardcover, 320 pages |  Your pu...</td>\n",
       "      <td>books</td>\n",
       "    </tr>\n",
       "    <tr>\n",
       "      <th>4</th>\n",
       "      <td>After forty-five years of playing in Crosby, S...</td>\n",
       "      <td>books</td>\n",
       "    </tr>\n",
       "  </tbody>\n",
       "</table>\n",
       "</div>"
      ],
      "text/plain": [
       "                                                text  topic\n",
       "0    From    to   , Oscar voters can't get enough...  books\n",
       "1  The Lonely City bristles with heart-piercing w...  books\n",
       "2  The first story in Sara Majka’s first book beg...  books\n",
       "3  by Sonny Liew  Hardcover, 320 pages |  Your pu...  books\n",
       "4  After forty-five years of playing in Crosby, S...  books"
      ]
     },
     "execution_count": 8,
     "metadata": {},
     "output_type": "execute_result"
    }
   ],
   "source": [
    "df.head()"
   ]
  },
  {
   "cell_type": "markdown",
   "metadata": {},
   "source": [
    "## Vectorizing articles"
   ]
  },
  {
   "cell_type": "code",
   "execution_count": 9,
   "metadata": {},
   "outputs": [
    {
     "name": "stdout",
     "output_type": "stream",
     "text": [
      "Number of features: 6138\n",
      "number of articles: 428\n"
     ]
    }
   ],
   "source": [
    "# tfidf\n",
    "X = df['text']\n",
    "Y = df['topic']\n",
    "\n",
    "vectorizer = TfidfVectorizer(max_df=0.5, # drop words that occur in more than half the tweets\n",
    "                             min_df=3, # only use words that appear at least three times\n",
    "                             stop_words='english', \n",
    "                             lowercase=True, #convert everything to lower case\n",
    "                             use_idf=True,#we definitely want to use inverse document frequencies in our weighting\n",
    "                             norm=u'l2', #Applies a correction factor so that longer articles and shorter articles get treated equally\n",
    "                             smooth_idf=True #Adds 1 to all document frequencies, as if an extra document existed that used every word once.  Prevents divide-by-zero errors\n",
    "                            )\n",
    "\n",
    "\n",
    "#Applying the vectorizer to training set\n",
    "X_tfidf = vectorizer.fit_transform(X)\n",
    "print(\"Number of features: %d\" % X_tfidf.get_shape()[1])\n",
    "\n",
    "df['tfidf'] = X_tfidf\n",
    "\n",
    "#Reshapes the vectorizer output into something people can read\n",
    "X_tfidf_csr = X_tfidf.tocsr()\n",
    "\n",
    "\n",
    "#number of tweets\n",
    "n = X_tfidf_csr.shape[0]\n",
    "print('number of articles: %d' %n)\n",
    "\n",
    "\n",
    "#A list of dictionaries, one per tweet\n",
    "tfidf_byart = [{} for _ in range(0,n)]\n",
    "\n",
    "\n",
    "#List of features\n",
    "terms = vectorizer.get_feature_names()"
   ]
  },
  {
   "cell_type": "code",
   "execution_count": 10,
   "metadata": {},
   "outputs": [],
   "source": [
    "#for each article, lists the feature words and their tf-idf scores\n",
    "for i, j in zip(*X_tfidf_csr.nonzero()):\n",
    "    tfidf_byart[i][terms[j]] = X_tfidf_csr[i, j]"
   ]
  },
  {
   "cell_type": "code",
   "execution_count": 69,
   "metadata": {},
   "outputs": [
    {
     "data": {
      "image/png": "[encoded data removed]",
      "text/plain": [
       "<matplotlib.figure.Figure at 0x1a307be320>"
      ]
     },
     "metadata": {},
     "output_type": "display_data"
    }
   ],
   "source": [
    "#http://www.scikit-yb.org/en/latest/api/text/tsne.html\n",
    "\n",
    "# Create the visualizer and draw the vectors\n",
    "tsne = TSNEVisualizer()\n",
    "tsne.fit(X_tfidf, Y)\n",
    "tsne.poof()"
   ]
  },
  {
   "cell_type": "code",
   "execution_count": 67,
   "metadata": {},
   "outputs": [
    {
     "data": {
      "image/png": "[encoded data removed]",
      "text/plain": [
       "<matplotlib.figure.Figure at 0x1a1b230e48>"
      ]
     },
     "metadata": {},
     "output_type": "display_data"
    }
   ],
   "source": [
    "from yellowbrick.classifier import ClassBalance\n",
    "classes = ['books','cinema','cooking','gaming','sports',]\n",
    "\n",
    "# Instantiate the classification model and visualizer\n",
    "visualizer = ClassBalance(rfc, classes= classes)\n",
    "\n",
    "visualizer.fit(X_tfidf, Y)  # Fit the training data to the visualizer\n",
    "visualizer.score(X_tfidf, Y)  # Evaluate the model on the test data\n",
    "g = visualizer.poof()             # Draw/show/poof the data\n"
   ]
  },
  {
   "cell_type": "markdown",
   "metadata": {},
   "source": [
    "## Upsampling\n",
    "For predictive models."
   ]
  },
  {
   "cell_type": "code",
   "execution_count": 11,
   "metadata": {},
   "outputs": [
    {
     "data": {
      "text/plain": [
       "books      118\n",
       "cinema     118\n",
       "gaming     118\n",
       "sports     118\n",
       "cooking    118\n",
       "Name: topic, dtype: int64"
      ]
     },
     "execution_count": 11,
     "metadata": {},
     "output_type": "execute_result"
    }
   ],
   "source": [
    "# Upsample categories so they are 128\n",
    "df_majority = df[df.topic=='gaming']\n",
    "\n",
    "df_cooking = resample(df[df['topic'] == 'cooking'], \n",
    "                                 replace=True,     # sample with replacement\n",
    "                                 n_samples=len(df_majority))    # to match majority class\n",
    "\n",
    "df_books = resample(df[df['topic'] == 'books'], \n",
    "                                 replace=True,     # sample with replacement\n",
    "                                 n_samples=len(df_majority))    # to match majority class\n",
    "\n",
    "df_cinema = resample(df[df['topic'] == 'cinema'], \n",
    "                                 replace=True,     # sample with replacement\n",
    "                                 n_samples=len(df_majority))    # to match majority class\n",
    "\n",
    "df_sports = resample(df[df['topic'] == 'sports'], \n",
    "                                 replace=True,     # sample with replacement\n",
    "                                 n_samples=len(df_majority))    # to match majority class\n",
    "                                 \n",
    "# Combine majority class with upsampled minority class\n",
    "df2 = pd.concat([df_majority, df_sports, df_cinema, df_books, df_cooking])\n",
    "\n",
    "df2 = df2.reset_index(drop=True)\n",
    "\n",
    "# Display new class counts\n",
    "df2.topic.value_counts()"
   ]
  },
  {
   "cell_type": "code",
   "execution_count": 12,
   "metadata": {},
   "outputs": [
    {
     "name": "stdout",
     "output_type": "stream",
     "text": [
      "Number of features: 8866\n",
      "number of articles: 590\n"
     ]
    }
   ],
   "source": [
    "# tfidf\n",
    "X2 = df2['text']\n",
    "Y2 = df2['topic']\n",
    "\n",
    "vectorizer = TfidfVectorizer(max_df=0.5, # drop words that occur in more than half the tweets\n",
    "                             min_df=3, # only use words that appear at least three times\n",
    "                             stop_words='english', \n",
    "                             lowercase=True, #convert everything to lower case\n",
    "                             use_idf=True,#we definitely want to use inverse document frequencies in our weighting\n",
    "                             norm=u'l2', #Applies a correction factor so that longer articles and shorter articles get treated equally\n",
    "                             smooth_idf=True #Adds 1 to all document frequencies, as if an extra document existed that used every word once.  Prevents divide-by-zero errors\n",
    "                            )\n",
    "\n",
    "\n",
    "#Applying the vectorizer to training set\n",
    "X2_tfidf = vectorizer.fit_transform(X2)\n",
    "print(\"Number of features: %d\" % X2_tfidf.get_shape()[1])\n",
    "\n",
    "df2['tfidf'] = X2_tfidf\n",
    "\n",
    "\n",
    "#Reshapes the vectorizer output into something people can read\n",
    "X2_tfidf_csr = X2_tfidf.tocsr()\n",
    "\n",
    "\n",
    "#number of tweets\n",
    "n = X2_tfidf_csr.shape[0]\n",
    "print('number of articles: %d' %n)\n",
    "\n",
    "\n",
    "#A list of dictionaries, one per tweet\n",
    "tfidf_byart = [{} for _ in range(0,n)]\n",
    "\n",
    "\n",
    "#List of features\n",
    "terms = vectorizer.get_feature_names()"
   ]
  },
  {
   "cell_type": "code",
   "execution_count": 13,
   "metadata": {},
   "outputs": [],
   "source": [
    "#for each article, lists the feature words and their tf-idf scores\n",
    "for i, j in zip(*X2_tfidf_csr.nonzero()):\n",
    "    tfidf_byart[i][terms[j]] = X2_tfidf_csr[i, j]"
   ]
  },
  {
   "cell_type": "code",
   "execution_count": 14,
   "metadata": {},
   "outputs": [
    {
     "data": {
      "text/html": [
       "<div>\n",
       "<style scoped>\n",
       "    .dataframe tbody tr th:only-of-type {\n",
       "        vertical-align: middle;\n",
       "    }\n",
       "\n",
       "    .dataframe tbody tr th {\n",
       "        vertical-align: top;\n",
       "    }\n",
       "\n",
       "    .dataframe thead th {\n",
       "        text-align: right;\n",
       "    }\n",
       "</style>\n",
       "<table border=\"1\" class=\"dataframe\">\n",
       "  <thead>\n",
       "    <tr style=\"text-align: right;\">\n",
       "      <th></th>\n",
       "      <th>text</th>\n",
       "      <th>topic</th>\n",
       "      <th>tfidf</th>\n",
       "    </tr>\n",
       "  </thead>\n",
       "  <tbody>\n",
       "    <tr>\n",
       "      <th>0</th>\n",
       "      <td>It is that time of year again, the long threat...</td>\n",
       "      <td>gaming</td>\n",
       "      <td>(0, 8051)\\t0.07518988385823872\\n  (0, 8817)\\...</td>\n",
       "    </tr>\n",
       "    <tr>\n",
       "      <th>1</th>\n",
       "      <td>Mercenaries come to life instead in the (typo-...</td>\n",
       "      <td>gaming</td>\n",
       "      <td>(0, 8051)\\t0.07518988385823872\\n  (0, 8817)\\...</td>\n",
       "    </tr>\n",
       "    <tr>\n",
       "      <th>2</th>\n",
       "      <td>Microsoft has a flurry of new Xbox One feature...</td>\n",
       "      <td>gaming</td>\n",
       "      <td>(0, 8051)\\t0.07518988385823872\\n  (0, 8817)\\...</td>\n",
       "    </tr>\n",
       "    <tr>\n",
       "      <th>3</th>\n",
       "      <td>It's hard to tell from this flat trade show de...</td>\n",
       "      <td>gaming</td>\n",
       "      <td>(0, 8051)\\t0.07518988385823872\\n  (0, 8817)\\...</td>\n",
       "    </tr>\n",
       "    <tr>\n",
       "      <th>4</th>\n",
       "      <td>It's not just Rocket League that's getting DLC...</td>\n",
       "      <td>gaming</td>\n",
       "      <td>(0, 8051)\\t0.07518988385823872\\n  (0, 8817)\\...</td>\n",
       "    </tr>\n",
       "  </tbody>\n",
       "</table>\n",
       "</div>"
      ],
      "text/plain": [
       "                                                text   topic  \\\n",
       "0  It is that time of year again, the long threat...  gaming   \n",
       "1  Mercenaries come to life instead in the (typo-...  gaming   \n",
       "2  Microsoft has a flurry of new Xbox One feature...  gaming   \n",
       "3  It's hard to tell from this flat trade show de...  gaming   \n",
       "4  It's not just Rocket League that's getting DLC...  gaming   \n",
       "\n",
       "                                               tfidf  \n",
       "0    (0, 8051)\\t0.07518988385823872\\n  (0, 8817)\\...  \n",
       "1    (0, 8051)\\t0.07518988385823872\\n  (0, 8817)\\...  \n",
       "2    (0, 8051)\\t0.07518988385823872\\n  (0, 8817)\\...  \n",
       "3    (0, 8051)\\t0.07518988385823872\\n  (0, 8817)\\...  \n",
       "4    (0, 8051)\\t0.07518988385823872\\n  (0, 8817)\\...  "
      ]
     },
     "execution_count": 14,
     "metadata": {},
     "output_type": "execute_result"
    }
   ],
   "source": [
    "df2.head()"
   ]
  },
  {
   "cell_type": "markdown",
   "metadata": {},
   "source": [
    "# Battle Plan\n",
    "\n",
    "- Supervised learning models (features: tfidf vectors? BoW?) that categorize articles into topics.  Determine best model. Test-Train split.\n",
    "- k means clustering.  Which topics are clustered together?\n",
    "- Unsupervised learning: determine topic sentence for each topic and keywords (shared and unique).  Determine unique topics within a topic."
   ]
  },
  {
   "cell_type": "markdown",
   "metadata": {},
   "source": [
    "# Supervised Learning models\n",
    "Training models to recognize topics."
   ]
  },
  {
   "cell_type": "code",
   "execution_count": 18,
   "metadata": {},
   "outputs": [],
   "source": [
    "# Train-test split\n",
    "Y2 = df2['topic']\n",
    "X2 = X2_tfidf\n",
    "\n",
    "X2_train, X2_test, y2_train, y2_test = train_test_split(X2, \n",
    "                                                    Y2,\n",
    "                                                    test_size=0.3,\n",
    "                                                    random_state=0,\n",
    "                                                    stratify=Y2\n",
    "                                                   )"
   ]
  },
  {
   "cell_type": "markdown",
   "metadata": {},
   "source": [
    "## Random Forest\n",
    "\n",
    "Overfitted. tfidf isn't probably the best thing to fit into the random forest model. Also class imbalance.  Upsampling needed so all categories have 120 cases. \n",
    "\n",
    "Play around the depth parameters.  More deep = More prone to overfit\n",
    "\n",
    "Stilll do test-train split?"
   ]
  },
  {
   "cell_type": "code",
   "execution_count": 19,
   "metadata": {},
   "outputs": [
    {
     "name": "stdout",
     "output_type": "stream",
     "text": [
      "Training set score: 0.9975786924939467\n",
      "\n",
      "Test set score: 0.8135593220338984\n"
     ]
    }
   ],
   "source": [
    "rfc = ensemble.RandomForestClassifier()\n",
    "train = rfc.fit(X2_train, y2_train)\n",
    "\n",
    "print('Training set score:', rfc.score(X2_train, y2_train))\n",
    "print('\\nTest set score:', rfc.score(X2_test, y2_test))"
   ]
  },
  {
   "cell_type": "code",
   "execution_count": 21,
   "metadata": {},
   "outputs": [
    {
     "data": {
      "text/plain": [
       "array([0.88333333, 0.9       , 0.9       , 0.86666667, 0.86666667,\n",
       "       0.88333333, 0.81666667, 0.93333333, 0.87272727, 0.92727273])"
      ]
     },
     "execution_count": 21,
     "metadata": {},
     "output_type": "execute_result"
    }
   ],
   "source": [
    "cross_val_score(rfc, X2, Y2, cv=10)"
   ]
  },
  {
   "cell_type": "code",
   "execution_count": 22,
   "metadata": {},
   "outputs": [],
   "source": [
    "y2_pred = rfc.fit(X2_train, y2_train).predict(X2_test)"
   ]
  },
  {
   "cell_type": "code",
   "execution_count": 23,
   "metadata": {},
   "outputs": [
    {
     "data": {
      "text/html": [
       "<div>\n",
       "<style scoped>\n",
       "    .dataframe tbody tr th:only-of-type {\n",
       "        vertical-align: middle;\n",
       "    }\n",
       "\n",
       "    .dataframe tbody tr th {\n",
       "        vertical-align: top;\n",
       "    }\n",
       "\n",
       "    .dataframe thead th {\n",
       "        text-align: right;\n",
       "    }\n",
       "</style>\n",
       "<table border=\"1\" class=\"dataframe\">\n",
       "  <thead>\n",
       "    <tr style=\"text-align: right;\">\n",
       "      <th>Predicted</th>\n",
       "      <th>books</th>\n",
       "      <th>cinema</th>\n",
       "      <th>cooking</th>\n",
       "      <th>gaming</th>\n",
       "      <th>sports</th>\n",
       "      <th>All</th>\n",
       "    </tr>\n",
       "    <tr>\n",
       "      <th>True</th>\n",
       "      <th></th>\n",
       "      <th></th>\n",
       "      <th></th>\n",
       "      <th></th>\n",
       "      <th></th>\n",
       "      <th></th>\n",
       "    </tr>\n",
       "  </thead>\n",
       "  <tbody>\n",
       "    <tr>\n",
       "      <th>books</th>\n",
       "      <td>32</td>\n",
       "      <td>0</td>\n",
       "      <td>2</td>\n",
       "      <td>1</td>\n",
       "      <td>0</td>\n",
       "      <td>35</td>\n",
       "    </tr>\n",
       "    <tr>\n",
       "      <th>cinema</th>\n",
       "      <td>4</td>\n",
       "      <td>28</td>\n",
       "      <td>1</td>\n",
       "      <td>2</td>\n",
       "      <td>0</td>\n",
       "      <td>35</td>\n",
       "    </tr>\n",
       "    <tr>\n",
       "      <th>cooking</th>\n",
       "      <td>0</td>\n",
       "      <td>0</td>\n",
       "      <td>35</td>\n",
       "      <td>0</td>\n",
       "      <td>0</td>\n",
       "      <td>35</td>\n",
       "    </tr>\n",
       "    <tr>\n",
       "      <th>gaming</th>\n",
       "      <td>7</td>\n",
       "      <td>1</td>\n",
       "      <td>0</td>\n",
       "      <td>25</td>\n",
       "      <td>3</td>\n",
       "      <td>36</td>\n",
       "    </tr>\n",
       "    <tr>\n",
       "      <th>sports</th>\n",
       "      <td>2</td>\n",
       "      <td>0</td>\n",
       "      <td>0</td>\n",
       "      <td>3</td>\n",
       "      <td>31</td>\n",
       "      <td>36</td>\n",
       "    </tr>\n",
       "    <tr>\n",
       "      <th>All</th>\n",
       "      <td>45</td>\n",
       "      <td>29</td>\n",
       "      <td>38</td>\n",
       "      <td>31</td>\n",
       "      <td>34</td>\n",
       "      <td>177</td>\n",
       "    </tr>\n",
       "  </tbody>\n",
       "</table>\n",
       "</div>"
      ],
      "text/plain": [
       "Predicted  books  cinema  cooking  gaming  sports  All\n",
       "True                                                  \n",
       "books         32       0        2       1       0   35\n",
       "cinema         4      28        1       2       0   35\n",
       "cooking        0       0       35       0       0   35\n",
       "gaming         7       1        0      25       3   36\n",
       "sports         2       0        0       3      31   36\n",
       "All           45      29       38      31      34  177"
      ]
     },
     "execution_count": 23,
     "metadata": {},
     "output_type": "execute_result"
    }
   ],
   "source": [
    "# Taking a look at the confusion matrix\n",
    "pd.crosstab(y2_test, y2_pred, rownames=['True'], colnames=['Predicted'], margins=True)"
   ]
  },
  {
   "cell_type": "code",
   "execution_count": 24,
   "metadata": {},
   "outputs": [
    {
     "data": {
      "image/png": "[encoded data removed]",
      "text/plain": [
       "<matplotlib.figure.Figure at 0x1a1ad2df60>"
      ]
     },
     "metadata": {},
     "output_type": "display_data"
    }
   ],
   "source": [
    "# The ConfusionMatrix visualizer taxes a model\n",
    "cm = ConfusionMatrix(rfc, classes=classes)\n",
    "\n",
    "# Fit fits the passed model. This is unnecessary if you pass the visualizer a pre-fitted model\n",
    "cm.fit(X2_train, y2_train)\n",
    "\n",
    "# To create the ConfusionMatrix, we need some test data. Score runs predict() on the data\n",
    "# and then creates the confusion_matrix from scikit-learn.\n",
    "cm.score(X2_test, y2_test)\n",
    "\n",
    "# How did we do?\n",
    "cm.poof()"
   ]
  },
  {
   "cell_type": "markdown",
   "metadata": {},
   "source": [
    "## Multinomial Logistic Regression"
   ]
  },
  {
   "cell_type": "code",
   "execution_count": 25,
   "metadata": {},
   "outputs": [
    {
     "name": "stdout",
     "output_type": "stream",
     "text": [
      "Training set score: 0.9975786924939467\n",
      "\n",
      "Test set score: 0.9661016949152542\n"
     ]
    }
   ],
   "source": [
    "lr = LogisticRegression(solver='lbfgs', multi_class='multinomial')\n",
    "train = lr.fit(X2_train, y2_train)\n",
    "\n",
    "print('Training set score:', lr.score(X2_train, y2_train))\n",
    "print('\\nTest set score:', lr.score(X2_test, y2_test))"
   ]
  },
  {
   "cell_type": "code",
   "execution_count": 26,
   "metadata": {},
   "outputs": [
    {
     "data": {
      "image/png": "[encoded data removed]",
      "text/plain": [
       "<matplotlib.figure.Figure at 0x1a1ad6e710>"
      ]
     },
     "metadata": {},
     "output_type": "display_data"
    }
   ],
   "source": [
    "visualizer = ClassificationReport(lr)\n",
    "\n",
    "visualizer.fit(X2_train, y2_train)\n",
    "visualizer.score(X2_test, y2_test)\n",
    "visualizer.poof()"
   ]
  },
  {
   "cell_type": "code",
   "execution_count": 27,
   "metadata": {},
   "outputs": [
    {
     "data": {
      "text/plain": [
       "array([0.96666667, 1.        , 0.98333333, 0.96666667, 0.98333333,\n",
       "       0.96666667, 0.9       , 0.98333333, 0.96363636, 0.96363636])"
      ]
     },
     "execution_count": 27,
     "metadata": {},
     "output_type": "execute_result"
    }
   ],
   "source": [
    "cross_val_score(lr, X2, Y2, cv=10)"
   ]
  },
  {
   "cell_type": "code",
   "execution_count": 28,
   "metadata": {},
   "outputs": [
    {
     "data": {
      "text/html": [
       "<div>\n",
       "<style scoped>\n",
       "    .dataframe tbody tr th:only-of-type {\n",
       "        vertical-align: middle;\n",
       "    }\n",
       "\n",
       "    .dataframe tbody tr th {\n",
       "        vertical-align: top;\n",
       "    }\n",
       "\n",
       "    .dataframe thead th {\n",
       "        text-align: right;\n",
       "    }\n",
       "</style>\n",
       "<table border=\"1\" class=\"dataframe\">\n",
       "  <thead>\n",
       "    <tr style=\"text-align: right;\">\n",
       "      <th>Predicted</th>\n",
       "      <th>books</th>\n",
       "      <th>cinema</th>\n",
       "      <th>cooking</th>\n",
       "      <th>gaming</th>\n",
       "      <th>sports</th>\n",
       "      <th>All</th>\n",
       "    </tr>\n",
       "    <tr>\n",
       "      <th>True</th>\n",
       "      <th></th>\n",
       "      <th></th>\n",
       "      <th></th>\n",
       "      <th></th>\n",
       "      <th></th>\n",
       "      <th></th>\n",
       "    </tr>\n",
       "  </thead>\n",
       "  <tbody>\n",
       "    <tr>\n",
       "      <th>books</th>\n",
       "      <td>34</td>\n",
       "      <td>0</td>\n",
       "      <td>0</td>\n",
       "      <td>1</td>\n",
       "      <td>0</td>\n",
       "      <td>35</td>\n",
       "    </tr>\n",
       "    <tr>\n",
       "      <th>cinema</th>\n",
       "      <td>0</td>\n",
       "      <td>33</td>\n",
       "      <td>0</td>\n",
       "      <td>2</td>\n",
       "      <td>0</td>\n",
       "      <td>35</td>\n",
       "    </tr>\n",
       "    <tr>\n",
       "      <th>cooking</th>\n",
       "      <td>0</td>\n",
       "      <td>0</td>\n",
       "      <td>35</td>\n",
       "      <td>0</td>\n",
       "      <td>0</td>\n",
       "      <td>35</td>\n",
       "    </tr>\n",
       "    <tr>\n",
       "      <th>gaming</th>\n",
       "      <td>0</td>\n",
       "      <td>2</td>\n",
       "      <td>0</td>\n",
       "      <td>34</td>\n",
       "      <td>0</td>\n",
       "      <td>36</td>\n",
       "    </tr>\n",
       "    <tr>\n",
       "      <th>sports</th>\n",
       "      <td>0</td>\n",
       "      <td>0</td>\n",
       "      <td>0</td>\n",
       "      <td>1</td>\n",
       "      <td>35</td>\n",
       "      <td>36</td>\n",
       "    </tr>\n",
       "    <tr>\n",
       "      <th>All</th>\n",
       "      <td>34</td>\n",
       "      <td>35</td>\n",
       "      <td>35</td>\n",
       "      <td>38</td>\n",
       "      <td>35</td>\n",
       "      <td>177</td>\n",
       "    </tr>\n",
       "  </tbody>\n",
       "</table>\n",
       "</div>"
      ],
      "text/plain": [
       "Predicted  books  cinema  cooking  gaming  sports  All\n",
       "True                                                  \n",
       "books         34       0        0       1       0   35\n",
       "cinema         0      33        0       2       0   35\n",
       "cooking        0       0       35       0       0   35\n",
       "gaming         0       2        0      34       0   36\n",
       "sports         0       0        0       1      35   36\n",
       "All           34      35       35      38      35  177"
      ]
     },
     "execution_count": 28,
     "metadata": {},
     "output_type": "execute_result"
    }
   ],
   "source": [
    "y_pred = lr.fit(X2_train, y2_train).predict(X2_test)\n",
    "\n",
    "# Taking a look at the confusion matrix\n",
    "pd.crosstab(y2_test, y_pred, rownames=['True'], colnames=['Predicted'], margins=True)"
   ]
  },
  {
   "cell_type": "code",
   "execution_count": 29,
   "metadata": {},
   "outputs": [
    {
     "data": {
      "image/png": "[encoded data removed]",
      "text/plain": [
       "<matplotlib.figure.Figure at 0x1a1ad79b38>"
      ]
     },
     "metadata": {},
     "output_type": "display_data"
    }
   ],
   "source": [
    "# The ConfusionMatrix visualizer taxes a model\n",
    "cm = ConfusionMatrix(lr, classes=classes)\n",
    "\n",
    "# Fit fits the passed model. This is unnecessary if you pass the visualizer a pre-fitted model\n",
    "cm.fit(X2_train, y2_train)\n",
    "\n",
    "# To create the ConfusionMatrix, we need some test data. Score runs predict() on the data\n",
    "# and then creates the confusion_matrix from scikit-learn.\n",
    "cm.score(X2_test, y2_test)\n",
    "\n",
    "# How did we do?\n",
    "cm.poof()"
   ]
  },
  {
   "cell_type": "markdown",
   "metadata": {},
   "source": [
    "## Gradient Boost"
   ]
  },
  {
   "cell_type": "code",
   "execution_count": 30,
   "metadata": {},
   "outputs": [
    {
     "name": "stdout",
     "output_type": "stream",
     "text": [
      "Training set score: 1.0\n",
      "\n",
      "Test set score: 0.9096045197740112\n"
     ]
    }
   ],
   "source": [
    "clf = ensemble.GradientBoostingClassifier()\n",
    "train = clf.fit(X2_train, y2_train)\n",
    "\n",
    "print('Training set score:', clf.score(X2_train, y2_train))\n",
    "print('\\nTest set score:', clf.score(X2_test, y2_test))"
   ]
  },
  {
   "cell_type": "code",
   "execution_count": 31,
   "metadata": {},
   "outputs": [
    {
     "data": {
      "text/plain": [
       "array([0.88333333, 0.93333333, 0.9       , 0.93333333, 0.96666667,\n",
       "       0.9       , 0.91666667, 0.96666667, 0.87272727, 0.94545455])"
      ]
     },
     "execution_count": 31,
     "metadata": {},
     "output_type": "execute_result"
    }
   ],
   "source": [
    "cross_val_score(clf, X2, Y2, cv=10)"
   ]
  },
  {
   "cell_type": "code",
   "execution_count": 32,
   "metadata": {},
   "outputs": [
    {
     "data": {
      "text/html": [
       "<div>\n",
       "<style scoped>\n",
       "    .dataframe tbody tr th:only-of-type {\n",
       "        vertical-align: middle;\n",
       "    }\n",
       "\n",
       "    .dataframe tbody tr th {\n",
       "        vertical-align: top;\n",
       "    }\n",
       "\n",
       "    .dataframe thead th {\n",
       "        text-align: right;\n",
       "    }\n",
       "</style>\n",
       "<table border=\"1\" class=\"dataframe\">\n",
       "  <thead>\n",
       "    <tr style=\"text-align: right;\">\n",
       "      <th>Predicted</th>\n",
       "      <th>books</th>\n",
       "      <th>cinema</th>\n",
       "      <th>cooking</th>\n",
       "      <th>gaming</th>\n",
       "      <th>sports</th>\n",
       "      <th>All</th>\n",
       "    </tr>\n",
       "    <tr>\n",
       "      <th>True</th>\n",
       "      <th></th>\n",
       "      <th></th>\n",
       "      <th></th>\n",
       "      <th></th>\n",
       "      <th></th>\n",
       "      <th></th>\n",
       "    </tr>\n",
       "  </thead>\n",
       "  <tbody>\n",
       "    <tr>\n",
       "      <th>books</th>\n",
       "      <td>32</td>\n",
       "      <td>2</td>\n",
       "      <td>0</td>\n",
       "      <td>1</td>\n",
       "      <td>0</td>\n",
       "      <td>35</td>\n",
       "    </tr>\n",
       "    <tr>\n",
       "      <th>cinema</th>\n",
       "      <td>2</td>\n",
       "      <td>30</td>\n",
       "      <td>0</td>\n",
       "      <td>1</td>\n",
       "      <td>2</td>\n",
       "      <td>35</td>\n",
       "    </tr>\n",
       "    <tr>\n",
       "      <th>cooking</th>\n",
       "      <td>0</td>\n",
       "      <td>0</td>\n",
       "      <td>35</td>\n",
       "      <td>0</td>\n",
       "      <td>0</td>\n",
       "      <td>35</td>\n",
       "    </tr>\n",
       "    <tr>\n",
       "      <th>gaming</th>\n",
       "      <td>2</td>\n",
       "      <td>1</td>\n",
       "      <td>0</td>\n",
       "      <td>33</td>\n",
       "      <td>0</td>\n",
       "      <td>36</td>\n",
       "    </tr>\n",
       "    <tr>\n",
       "      <th>sports</th>\n",
       "      <td>0</td>\n",
       "      <td>3</td>\n",
       "      <td>0</td>\n",
       "      <td>2</td>\n",
       "      <td>31</td>\n",
       "      <td>36</td>\n",
       "    </tr>\n",
       "    <tr>\n",
       "      <th>All</th>\n",
       "      <td>36</td>\n",
       "      <td>36</td>\n",
       "      <td>35</td>\n",
       "      <td>37</td>\n",
       "      <td>33</td>\n",
       "      <td>177</td>\n",
       "    </tr>\n",
       "  </tbody>\n",
       "</table>\n",
       "</div>"
      ],
      "text/plain": [
       "Predicted  books  cinema  cooking  gaming  sports  All\n",
       "True                                                  \n",
       "books         32       2        0       1       0   35\n",
       "cinema         2      30        0       1       2   35\n",
       "cooking        0       0       35       0       0   35\n",
       "gaming         2       1        0      33       0   36\n",
       "sports         0       3        0       2      31   36\n",
       "All           36      36       35      37      33  177"
      ]
     },
     "execution_count": 32,
     "metadata": {},
     "output_type": "execute_result"
    }
   ],
   "source": [
    "y_pred = clf.fit(X2_train, y2_train).predict(X2_test)\n",
    "\n",
    "# Taking a look at the confusion matrix\n",
    "pd.crosstab(y2_test, y_pred, rownames=['True'], colnames=['Predicted'], margins=True)"
   ]
  },
  {
   "cell_type": "code",
   "execution_count": 33,
   "metadata": {},
   "outputs": [
    {
     "data": {
      "image/png": "[encoded data removed]",
      "text/plain": [
       "<matplotlib.figure.Figure at 0x1a1af0c668>"
      ]
     },
     "metadata": {},
     "output_type": "display_data"
    }
   ],
   "source": [
    "# The ConfusionMatrix visualizer taxes a model\n",
    "cm = ConfusionMatrix(clf, classes=classes)\n",
    "\n",
    "# Fit fits the passed model. This is unnecessary if you pass the visualizer a pre-fitted model\n",
    "cm.fit(X2_train, y2_train)\n",
    "\n",
    "# To create the ConfusionMatrix, we need some test data. Score runs predict() on the data\n",
    "# and then creates the confusion_matrix from scikit-learn.\n",
    "cm.score(X2_test, y2_test)\n",
    "\n",
    "# How did we do?\n",
    "cm.poof()"
   ]
  },
  {
   "cell_type": "markdown",
   "metadata": {},
   "source": [
    "# Clustering\n",
    "\n",
    "Run clusters without upsampling.  A lot of the cooking cases will stick together since cooking is upsampled."
   ]
  },
  {
   "cell_type": "code",
   "execution_count": 34,
   "metadata": {
    "scrolled": true
   },
   "outputs": [
    {
     "data": {
      "image/png": "[encoded data removed]",
      "text/plain": [
       "<matplotlib.figure.Figure at 0x1a1ad75908>"
      ]
     },
     "metadata": {},
     "output_type": "display_data"
    },
    {
     "name": "stdout",
     "output_type": "stream",
     "text": [
      "Comparing k-means clusters against the data:\n",
      "topic  books  cinema  cooking  gaming  sports\n",
      "row_0                                        \n",
      "0          0       0        0       0      40\n",
      "1         38      49       28      27       1\n",
      "2          1       7        0      29       4\n",
      "3         25      36        2       5       0\n",
      "4          0       8        0      57      71\n"
     ]
    }
   ],
   "source": [
    "# We are limiting our feature space to 2 components here. \n",
    "#  This makes it easier to graph and see the clusters.\n",
    "svd= TruncatedSVD(2)\n",
    "\n",
    "# Normalize the data.\n",
    "X_norm = normalize(X_tfidf)\n",
    "\n",
    "# Reduce it to two components.\n",
    "X_svd = svd.fit_transform(X_norm)\n",
    "\n",
    "# Calculate predicted values.\n",
    "y_pred = KMeans(n_clusters=5, random_state=42).fit_predict(X_svd)\n",
    "\n",
    "# Plot the solution.\n",
    "plt.scatter(X_svd[:, 0], X_svd[:, 1], c=y_pred, cmap='viridis')\n",
    "plt.show()\n",
    "\n",
    "# Check the solution against the data.\n",
    "print('Comparing k-means clusters against the data:')\n",
    "print(pd.crosstab(y_pred, Y))"
   ]
  },
  {
   "cell_type": "code",
   "execution_count": 35,
   "metadata": {},
   "outputs": [
    {
     "data": {
      "image/png": "[encoded data removed]",
      "text/plain": [
       "<matplotlib.figure.Figure at 0x1a1ad96c88>"
      ]
     },
     "metadata": {},
     "output_type": "display_data"
    },
    {
     "name": "stdout",
     "output_type": "stream",
     "text": [
      "Comparing k-means clusters against the data:\n",
      "topic  books  cinema  cooking  gaming  sports\n",
      "row_0                                        \n",
      "0          0       3        0      11      81\n",
      "1         32      42       24      84      34\n",
      "2         32      55        6      23       1\n"
     ]
    }
   ],
   "source": [
    "# Calculate predicted values.\n",
    "y_pred = KMeans(n_clusters=3, random_state=42).fit_predict(X_svd)\n",
    "\n",
    "# Plot the solution.\n",
    "plt.scatter(X_svd[:, 0], X_svd[:, 1], c=y_pred, cmap='viridis')\n",
    "plt.show()\n",
    "\n",
    "# Check the solution against the data.\n",
    "print('Comparing k-means clusters against the data:')\n",
    "print(pd.crosstab(y_pred, Y))"
   ]
  },
  {
   "cell_type": "code",
   "execution_count": 36,
   "metadata": {},
   "outputs": [
    {
     "data": {
      "image/png": "[encoded data removed]",
      "text/plain": [
       "<matplotlib.figure.Figure at 0x1a1ada2240>"
      ]
     },
     "metadata": {},
     "output_type": "display_data"
    },
    {
     "name": "stdout",
     "output_type": "stream",
     "text": [
      "Comparing k-means clusters against the data:\n",
      "topic  books  cinema  cooking  gaming  sports\n",
      "row_0                                        \n",
      "0         38      53       28      30       1\n",
      "1          0       0        0       0      40\n",
      "2         26      37        2      22       1\n",
      "3          0      10        0      66      74\n"
     ]
    }
   ],
   "source": [
    "# Calculate predicted values.\n",
    "y_pred = KMeans(n_clusters=4, random_state=42).fit_predict(X_svd)\n",
    "\n",
    "# Plot the solution.\n",
    "plt.scatter(X_svd[:, 0], X_svd[:, 1], c=y_pred, cmap='viridis')\n",
    "plt.show()\n",
    "\n",
    "# Check the solution against the data.\n",
    "print('Comparing k-means clusters against the data:')\n",
    "print(pd.crosstab(y_pred, Y))"
   ]
  },
  {
   "cell_type": "code",
   "execution_count": 37,
   "metadata": {},
   "outputs": [
    {
     "data": {
      "image/png": "[encoded data removed]",
      "text/plain": [
       "<matplotlib.figure.Figure at 0x1a1b222cf8>"
      ]
     },
     "metadata": {},
     "output_type": "display_data"
    }
   ],
   "source": [
    "# Apply clustering instead of class names.\n",
    "from sklearn.cluster import KMeans\n",
    "\n",
    "clusters = KMeans(n_clusters=5)\n",
    "clusters.fit(X_tfidf)\n",
    "\n",
    "tsne = TSNEVisualizer()\n",
    "tsne.fit(X_tfidf, [\"c{}\".format(c) for c in clusters.labels_])\n",
    "tsne.poof()"
   ]
  },
  {
   "cell_type": "markdown",
   "metadata": {},
   "source": [
    "# Topic Sentence\n",
    "Find main sentence for each article, then a topic topic sentence for each topic?"
   ]
  },
  {
   "cell_type": "code",
   "execution_count": 38,
   "metadata": {},
   "outputs": [
    {
     "data": {
      "text/plain": [
       "text     428\n",
       "topic    428\n",
       "tfidf    428\n",
       "dtype: int64"
      ]
     },
     "execution_count": 38,
     "metadata": {},
     "output_type": "execute_result"
    }
   ],
   "source": [
    "df.count()"
   ]
  },
  {
   "cell_type": "code",
   "execution_count": 39,
   "metadata": {
    "scrolled": true
   },
   "outputs": [],
   "source": [
    "parser = spacy.load('en')\n",
    "\n",
    "parsed = []\n",
    "for r in range(len(df)):\n",
    "    try:\n",
    "        parsed_text = parser(df['text'][r])\n",
    "        parsed.append(parsed_text)\n",
    "    except KeyError:\n",
    "        pass  "
   ]
  },
  {
   "cell_type": "code",
   "execution_count": 40,
   "metadata": {},
   "outputs": [],
   "source": [
    "df['parsed'] = parsed"
   ]
  },
  {
   "cell_type": "code",
   "execution_count": 41,
   "metadata": {},
   "outputs": [],
   "source": [
    "def main_sent(text):    \n",
    "    sentences=[]\n",
    "\n",
    "    for span in text.sents:\n",
    "            # go from the start to the end of each span, returning each token in the sentence\n",
    "            # combine each token using join()\n",
    "        sent = ''.join(text[i].string for i in range(span.start, span.end)).strip()\n",
    "        sentences.append(sent)\n",
    "\n",
    "        # Creating the tf-idf matrix.\n",
    "    counter = TfidfVectorizer(lowercase=False, \n",
    "                              stop_words=None,\n",
    "                              ngram_range=(1, 1), \n",
    "                              analyzer=u'word', \n",
    "                              max_df=.5, \n",
    "                              min_df=1,\n",
    "                              max_features=None, \n",
    "                              vocabulary=None, \n",
    "                              binary=False)\n",
    "\n",
    "        #Applying the vectorizer\n",
    "    data_counts=counter.fit_transform(sentences)\n",
    "\n",
    "    # Calculating similarity\n",
    "    similarity = data_counts * data_counts.T\n",
    "\n",
    "    # Identifying the sentence with the highest rank.\n",
    "    nx_graph = nx.from_scipy_sparse_matrix(similarity)\n",
    "    ranks=nx.pagerank(nx_graph, alpha=.85, tol=.00000001)\n",
    "\n",
    "    ranked = sorted(((ranks[i],s) for i,s in enumerate(sentences)),\n",
    "                    reverse=True)\n",
    "    \n",
    "    return(ranked[0][1])"
   ]
  },
  {
   "cell_type": "code",
   "execution_count": 42,
   "metadata": {},
   "outputs": [],
   "source": [
    "main_sentences = []\n",
    "\n",
    "for r in range(len(df)):\n",
    "    try:\n",
    "        m = main_sent(df['parsed'][r]) \n",
    "        main_sentences.append(m)\n",
    "    except ValueError:\n",
    "        main_sentences.append(np.nan)\n",
    "        \n"
   ]
  },
  {
   "cell_type": "code",
   "execution_count": 43,
   "metadata": {},
   "outputs": [],
   "source": [
    "df3 = pd.DataFrame()\n",
    "df3['topic'] = df['topic']\n",
    "df3['main_sentence'] = main_sentences"
   ]
  },
  {
   "cell_type": "code",
   "execution_count": 44,
   "metadata": {},
   "outputs": [
    {
     "data": {
      "text/html": [
       "<div>\n",
       "<style scoped>\n",
       "    .dataframe tbody tr th:only-of-type {\n",
       "        vertical-align: middle;\n",
       "    }\n",
       "\n",
       "    .dataframe tbody tr th {\n",
       "        vertical-align: top;\n",
       "    }\n",
       "\n",
       "    .dataframe thead th {\n",
       "        text-align: right;\n",
       "    }\n",
       "</style>\n",
       "<table border=\"1\" class=\"dataframe\">\n",
       "  <thead>\n",
       "    <tr style=\"text-align: right;\">\n",
       "      <th></th>\n",
       "      <th>topic</th>\n",
       "      <th>main_sentence</th>\n",
       "    </tr>\n",
       "  </thead>\n",
       "  <tbody>\n",
       "    <tr>\n",
       "      <th>0</th>\n",
       "      <td>books</td>\n",
       "      <td>While two out of the past three Best Actress w...</td>\n",
       "    </tr>\n",
       "    <tr>\n",
       "      <th>1</th>\n",
       "      <td>books</td>\n",
       "      <td>The Lonely City, an exploration of loneliness ...</td>\n",
       "    </tr>\n",
       "    <tr>\n",
       "      <th>2</th>\n",
       "      <td>books</td>\n",
       "      <td>There are doppelgängers throughout the stories...</td>\n",
       "    </tr>\n",
       "    <tr>\n",
       "      <th>3</th>\n",
       "      <td>books</td>\n",
       "      <td>The new graphic novel by Malaysia-born cartoon...</td>\n",
       "    </tr>\n",
       "    <tr>\n",
       "      <th>4</th>\n",
       "      <td>books</td>\n",
       "      <td>You do you, Nash.</td>\n",
       "    </tr>\n",
       "  </tbody>\n",
       "</table>\n",
       "</div>"
      ],
      "text/plain": [
       "   topic                                      main_sentence\n",
       "0  books  While two out of the past three Best Actress w...\n",
       "1  books  The Lonely City, an exploration of loneliness ...\n",
       "2  books  There are doppelgängers throughout the stories...\n",
       "3  books  The new graphic novel by Malaysia-born cartoon...\n",
       "4  books                                  You do you, Nash."
      ]
     },
     "execution_count": 44,
     "metadata": {},
     "output_type": "execute_result"
    }
   ],
   "source": [
    "df3.head()"
   ]
  },
  {
   "cell_type": "code",
   "execution_count": 45,
   "metadata": {},
   "outputs": [],
   "source": [
    "parser = spacy.load('en')\n",
    "\n",
    "parsed = []\n",
    "for r in range(len(df3)):\n",
    "    try:\n",
    "        parsed_text = parser(df3['main_sentence'][r])\n",
    "        parsed.append(parsed_text)\n",
    "    except TypeError:\n",
    "        parsed.append(np.nan) "
   ]
  },
  {
   "cell_type": "code",
   "execution_count": 46,
   "metadata": {},
   "outputs": [],
   "source": [
    "df3['parsed'] = parsed"
   ]
  },
  {
   "cell_type": "code",
   "execution_count": 47,
   "metadata": {},
   "outputs": [],
   "source": [
    "df3 = df3.dropna().reset_index(drop=True)"
   ]
  },
  {
   "cell_type": "code",
   "execution_count": 48,
   "metadata": {},
   "outputs": [
    {
     "name": "stdout",
     "output_type": "stream",
     "text": [
      "Number of features: 515\n",
      "number of sents: 427\n"
     ]
    }
   ],
   "source": [
    "X3 = df3['main_sentence']\n",
    "Y3 = df3['topic']\n",
    "\n",
    "vectorizer = TfidfVectorizer(max_df=0.5, # drop words that occur in more than half the tweets\n",
    "                             min_df=3, # only use words that appear at least three times\n",
    "                             stop_words='english', \n",
    "                             lowercase=True, #convert everything to lower case\n",
    "                             use_idf=True,#we definitely want to use inverse document frequencies in our weighting\n",
    "                             norm=u'l2', #Applies a correction factor so that longer tweets and shorter tweets get treated equally\n",
    "                             smooth_idf=True #Adds 1 to all document frequencies, as if an extra document existed that used every word once.  Prevents divide-by-zero errors\n",
    "                            )\n",
    "\n",
    "\n",
    "#Applying the vectorizer to training set\n",
    "X3_tfidf = vectorizer.fit_transform(X3)\n",
    "print(\"Number of features: %d\" % X3_tfidf.get_shape()[1])\n",
    "\n",
    "\n",
    "\n",
    "#Reshapes the vectorizer output into something people can read\n",
    "X3_tfidf_csr = X3_tfidf.tocsr()\n",
    "\n",
    "\n",
    "#number of tweets\n",
    "n = X3_tfidf_csr.shape[0]\n",
    "print('number of sents: %d' %n)\n",
    "\n",
    "\n",
    "#A list of dictionaries, one per tweet\n",
    "tfidf_bysent = [{} for _ in range(0,n)]\n",
    "\n",
    "\n",
    "#List of features\n",
    "terms = vectorizer.get_feature_names()"
   ]
  },
  {
   "cell_type": "code",
   "execution_count": 49,
   "metadata": {},
   "outputs": [],
   "source": [
    "#for each tweet, lists the feature words and their tf-idf scores\n",
    "for i, j in zip(*X3_tfidf_csr.nonzero()):\n",
    "    tfidf_bysent[i][terms[j]] = X3_tfidf_csr[i, j]"
   ]
  },
  {
   "cell_type": "markdown",
   "metadata": {},
   "source": [
    "## LSA"
   ]
  },
  {
   "cell_type": "code",
   "execution_count": 50,
   "metadata": {},
   "outputs": [
    {
     "name": "stdout",
     "output_type": "stream",
     "text": [
      "Percent variance captured by all components: 84.20970015320705 \n",
      "\n",
      "Component 0:\n",
      "main_sentence\n",
      "Luke Pope, developer of award-winning indie game Papers, Please, has launched a new demo for his next game, Return of the Obra Dinn.                                                                                   0.419315\n",
      "Now that we know the release date of Square Enix’s next Star Ocean game, it’s time to learn more about the game.                                                                                                       0.415121\n",
      "If you don't know anything about the game,    is the digital version of the Kickstarter-darling card game that broke many records and landed on many tables.                                                           0.400540\n",
      "Like AMC's post-Walking Dead talkshow series, The Talking Dead, HBO has a new show that will air on Mondays following the newest episode of Game of Thrones called After the Thrones.                                  0.399371\n",
      "Stevens and the team met to watch film Wednesday and the third-year coach said he won't overreact to Boston's Game 5 struggles when putting a plan in place for Game 6.                                                0.397457\n",
      "We’re just about done with development and are currently optimizing the game, polishing the audio design, and adding the final touches to the game’s multilayered narrative.                                           0.387764\n",
      "Miyamoto goes on to say that he hasn't actually been credited as a director on a game since Super Mario 64, and that the next closest game where he had as much influence was The Legend of Zelda: Ocarina of Time.    0.382834\n",
      "The game is out now in the US, and is, of course, F2P, so if you like Sailor Moon, go pick it up.                                                                                                                      0.365766\n",
      "Return to our hub throughout the month for more information on the new weapons and enemies, the history of The Coalition, and a roundtable with the game’s voice actors.                                               0.364715\n",
      "The real question is: What would happen if video game power-up got mixed-up and thrown into the wrong game?                                                                                                            0.363324\n",
      "Name: 0, dtype: float64\n",
      "\n",
      "\n",
      "Component 1:\n",
      "main_sentence\n",
      "If you don't know anything about the game,    is the digital version of the Kickstarter-darling card game that broke many records and landed on many tables.                                                           0.439726\n",
      "Luke Pope, developer of award-winning indie game Papers, Please, has launched a new demo for his next game, Return of the Obra Dinn.                                                                                   0.407429\n",
      "The game is compatible with a large variety of amiibo figures, and some give Kirby character-specific abilities.                                                                                                       0.406590\n",
      "The real question is: What would happen if video game power-up got mixed-up and thrown into the wrong game?                                                                                                            0.371355\n",
      "Now that we know the release date of Square Enix’s next Star Ocean game, it’s time to learn more about the game.                                                                                                       0.363441\n",
      "Miyamoto goes on to say that he hasn't actually been credited as a director on a game since Super Mario 64, and that the next closest game where he had as much influence was The Legend of Zelda: Ocarina of Time.    0.355101\n",
      "We’re just about done with development and are currently optimizing the game, polishing the audio design, and adding the final touches to the game’s multilayered narrative.                                           0.327881\n",
      "Return to our hub throughout the month for more information on the new weapons and enemies, the history of The Coalition, and a roundtable with the game’s voice actors.                                               0.312751\n",
      "Swedish developer Might and Delight have revealed a new trailer for the soon to be released Shelter 2 spinoff game Paws.                                                                                               0.297547\n",
      "Updates to the Prey 2 and Prey 3 domains have sparked speculation that Bethesda may reintroduce the game at E3 2016 in June.                                                                                           0.280182\n",
      "Name: 1, dtype: float64\n",
      "\n",
      "\n",
      "Component 2:\n",
      "main_sentence\n",
      "The new graphic novel by Malaysia-born cartoonist Sonny Liew spans 80 years as it tells the story of a fictional comic-book.                                                                                                                     0.525685\n",
      "The above short explores the surprisingly troubled history of pinball in New York and why it was banned there for over 35 years.                                                                                                                 0.490572\n",
      "Highlights of the free add-on include a new strike and new Prison of Elders challenges which see you facing Taken enemies.                                                                                                                       0.485281\n",
      "Essentially it's four new maps, a new game mode and a smattering of new items - some of which have been made free to other players of vanilla Battlefront, some of them exclusive to the DLC owners.                                             0.458102\n",
      "The Lonely City, an exploration of loneliness based on her own and others’ experiences in New York City.                                                                                                                                         0.375637\n",
      "From director Diego Echeverria and named for the nickname locals gave to the area, the film is a deep dive into the Southside of Williamsburg, Brooklyn, decades before the neighborhood became synonymous with New York City gentrification.    0.367165\n",
      "Scottish indie pop group Chvrches released a new song today: \"Warning Call,\" written for the upcoming Mirrors Edge Catalyst.                                                                                                                     0.356830\n",
      "On Thursday, New York Knicks center Kevin Seraphin captured the Latvian rookie sinking a mammoth shot from well beyond the backboard.                                                                                                            0.341156\n",
      "DC Universe: Rebirth Special #1 will be the first comic published by the company to feature the new logo.                                                                                                                                        0.326400\n",
      "The Anthony Hopkins-starring rural thriller Blackway has been acquired by Dean Devlin’s Electric Entertainment and will be the first theatrical release from the company’s new domestic distribution outfit.                                     0.318495\n",
      "Name: 2, dtype: float64\n",
      "\n",
      "\n",
      "Component 3:\n",
      "main_sentence\n",
      "Season 1                                                                                                                                                                                                                                                                                                              0.607358\n",
      "Based on the hoopla, I did go back and just like you suffered through the early half of season one (most people should just watch the pilot and skip deep into the first season somewhere), only to like where it was going and watch it become something much better in the second season and early third season.    0.534718\n",
      "Following GoT, HBO had the Season 3 debut of Silicon Valley and the Season 5 premiere of Veep.                                                                                                                                                                                                                        0.510086\n",
      "The second leg of the play-off, which decides who will play in the Bundesliga next season, is on Monday in Nuremberg.                                                                                                                                                                                                 0.452933\n",
      "The second season of the PlayStation Original series Powers is quickly approaching, and we can’t wait for you to watch the premiere.                                                                                                                                                                                  0.423583\n",
      "We can’t wait for you to watch the second season of Powers – an explosive thrill ride where the true powers are those who stand up to chaos and destruction.                                                                                                                                                          0.401738\n",
      "The reboot based on the feature film franchise of the same name has added six new faces to its cast (two of them series regulars) and set a May 31 premiere date for its second season.                                                                                                                               0.351054\n",
      "Now suppose you'd like to buy the rest of the games in the season and you'd like to buy the bundle, but you already own half of the tables, and you want to buy Pro Versions for only two of the tables you don't have.                                                                                               0.325589\n",
      "La Liga returns after the international break with one of the biggest fixtures of the season, El Clasico, as Barcelona host Real Madrid at the Camp Nou.                                                                                                                                                              0.297159\n",
      "Earlier in the season, Leah claimed to Ben that Lauren (who is now in the Top 2) was a different person around him than she was with the other women.                                                                                                                                                                 0.250695\n",
      "Name: 3, dtype: float64\n",
      "\n",
      "\n",
      "Component 4:\n",
      "main_sentence\n",
      "It was like a great therapy session, in that she was saying that the right answer to anyone who wants you to work for less than you can live on, or do work that does not have a measurable gain for your writing career, is no,” he said.                                                                                       0.434593\n",
      "If you like something…  Click the heart, it's called favoriting.                                                                                                                                                                                                                                                                 0.353374\n",
      "If you like something…  Click the heart, it's called favoriting.                                                                                                                                                                                                                                                                 0.353374\n",
      "In music, you start out learning to play a few songs, focusing on those that will teach you the basic mechanics of finger and arm movements, just as you may focus your early cooking on simple recipes that emphasize knife skills or a technique like sautéing.                                                                0.320262\n",
      "\"    RIP the great Garry Shandling.                                                                                                                                                                                                                                                                                              0.316438\n",
      "The Nice Guys is great.                                                                                                                                                                                                                                                                                                          0.316438\n",
      "Will sushi donuts be the next great breakfast treat?                                                                                                                                                                                                                                                                             0.316438\n",
      "When play was finally called off at 18:00 BST, Rogers was on 104, with Hildreth on 60, in a total of 219-2.                                                                                                                                                                                                                      0.301838\n",
      "Anyway, I would like to see both sides of the correspondence kept together and if you could see your way clear to returning the letters if you have them, I would be happy to go through my files, pull Louisâs letters, see if they might be publishable and then forward the collection to the Kerlan on indefinite loan.    0.281110\n",
      "In a Capcom blog post, Guild Style is said to play similarly to Monster Hunter 4 Ultimate, but the others each offer a new twist.                                                                                                                                                                                                0.260121\n",
      "Name: 4, dtype: float64\n",
      "\n",
      "\n",
      "Component 5:\n",
      "main_sentence\n",
      "The True Story of the World’s                                                                                                                                                                                                                   0.484932\n",
      "Whose story is next in the series, or will you continue to explore the evolution of Lou and Callum’s relationship in the next book?                                                                                                             0.363798\n",
      "The true story of El Chapo, fraught with murder, drugs, corruption and celebrity, has been and continues to be one of the most disturbing and fascinating of the past decade.                                                                   0.333166\n",
      "The Wellcome Book Prize shortlist has been revealed.                                                                                                                                                                                            0.304408\n",
      "The world of All the Birds in the Sky is as rich and wonderful as it is cruel, and even as situations spiral out of the characters’ control, there’s a fundamental optimism about humanity at the heart of the book.                            0.284336\n",
      "Her Story (Sam Barlow)  Excellence in Audio ($3,000)                                                                                                                                                                                            0.280701\n",
      "Her Story  Life is Strange  Ori and the Blind Forest  Splatoon  Until Dawn - WINNER                                                                                                                                                             0.277367\n",
      "Jeff and Michael Zimbalist are co-writers and co-directors of the film which, according to Imagine Entertainment, is more of a coming-of-age story that traces Pelé's childhood until he won his first World Cup in Sweden at the age of 17.    0.273345\n",
      "The new graphic novel by Malaysia-born cartoonist Sonny Liew spans 80 years as it tells the story of a fictional comic-book.                                                                                                                    0.262705\n",
      "\"There is still a large Diablo II community around the world, and we thank you for continuing to play and slay with us.                                                                                                                         0.262414\n",
      "Name: 5, dtype: float64\n",
      "\n",
      "\n",
      "Component 6:\n",
      "main_sentence\n",
      "Vale of the Silent, March 26, 2016                                                                                                                                                                                        0.549736\n",
      "I went to go get info on a gym that was closed and 2 ladies called the cops on me  — Kameron (@Kam_Chancellor) March 3, 2016                                                                                              0.419905\n",
      "Bradford's desire to get out of Philadelphia comes as little surprise after the Eagles traded with the Cleveland Browns last week to obtain the No. 2 overall pick in the 2016 NFL draft.                                 0.409719\n",
      "Updates to the Prey 2 and Prey 3 domains have sparked speculation that Bethesda may reintroduce the game at E3 2016 in June.                                                                                              0.404890\n",
      "The San Francisco 49ers made a surprise late trade with the Kansas City Chiefs to get back into the first round of the 2016 NFL draft on Thursday, acquiring Stanford guard Joshua Garnett with the 28th overall pick.    0.396657\n",
      "Some of the cast may have found their way to some \"Kool-Aid,\" as Hader called it, after his friend and co-star Ike Barinholtz snuck behind him and whispered, \"Trump 2016\" in his ear.                                    0.367947\n",
      "Look for Richardson to come out of nowhere and steal a spot in the first round of the 2016 draft.                                                                                                                         0.365058\n",
      "Reelz has renewed Gangsters: America’s Most Evil for premiere in winter 2016/2017, and Collision Course and Autopsy:                                                                                                      0.362324\n",
      "The Chiefs' appeal of anti-tampering sanctions was denied by NFL, NFL Media Insider Ian Rapoport reported, via a league source.                                                                                           0.341415\n",
      "The Cowboys have nine picks in the 2016 NFL draft, which they will use in an attempt to return to the success of their 2014 season.                                                                                       0.338462\n",
      "Name: 6, dtype: float64\n",
      "\n",
      "\n",
      "Component 7:\n",
      "main_sentence\n",
      "\"    RIP the great Garry Shandling.                                                                                                                                                                                                           0.745266\n",
      "Will sushi donuts be the next great breakfast treat?                                                                                                                                                                                          0.745266\n",
      "The Nice Guys is great.                                                                                                                                                                                                                       0.745266\n",
      "” joked Perry, “That I wasn’t invited to be in”  Perry is traveling the country on tour with his show, showing the trailer at the end to great response.                                                                                      0.468371\n",
      "For its part, Big Huge Games CEO Train said, \"We've had such a great relationship with Nexon on DomiNations, and we're very excited to become part of the family.                                                                             0.434846\n",
      "It was like a great therapy session, in that she was saying that the right answer to anyone who wants you to work for less than you can live on, or do work that does not have a measurable gain for your writing career, is no,” he said.    0.386097\n",
      "Exploding Kittens [$1.99] continues to be great fun, and it's a game I'll often pick up, play a couple of rounds, explode more than a few times, and put it down with a smile on my face because the game is still hilarious.                 0.307500\n",
      "At the Sundance Film Festival, Ethan gave Indignation a 9 out of 10 and called Lerman’s performance “the best of his career,” and said that “it helps that the film surrounding his stellar work is brilliant as well.                        0.180328\n",
      "The emotion that comes from the faces of these computer generated creatures is astounding and it’s no surprise that ILM considers their facial capture work on this film to be “groundbreaking.                                               0.179013\n",
      "( 0 )   Eight novelists writing in Arabic have won 2016 grants from the Arab Fund for Arts and Culture (AFAC) to work with the acclaimed, award-winning Lebanese novelist Jabbour Douaihy on a fiction project:                               0.158473\n",
      "Name: 7, dtype: float64\n",
      "\n",
      "\n",
      "Component 8:\n",
      "main_sentence\n",
      "If you like something…  Click the heart, it's called favoriting.                                                                                                                                                                                                                                                                                                                              0.372208\n",
      "If you like something…  Click the heart, it's called favoriting.                                                                                                                                                                                                                                                                                                                              0.372208\n",
      "Now suppose you'd like to buy the rest of the games in the season and you'd like to buy the bundle, but you already own half of the tables, and you want to buy Pro Versions for only two of the tables you don't have.                                                                                                                                                                       0.341869\n",
      "The Wellcome Book Prize shortlist has been revealed.                                                                                                                                                                                                                                                                                                                                          0.311065\n",
      "When the concept of Batman moved from the comic book shop to television in the 60s, there was an uprising of rage among the comic book fans of the time that the show in all of it’s candy-colored, ridiculous, pop-art glory wasn’t the “real” Batman, and suddenly all these people who hadn’t put in their time appreciating the “pure” Batman of the comic felt like they KNEW Batman.    0.291726\n",
      "Where would you like to see the Call of Duty franchise go from here?                                                                                                                                                                                                                                                                                                                          0.291190\n",
      "Anyway, I would like to see both sides of the correspondence kept together and if you could see your way clear to returning the letters if you have them, I would be happy to go through my files, pull Louisâs letters, see if they might be publishable and then forward the collection to the Kerlan on indefinite loan.                                                                 0.278586\n",
      "It's not too surprising that, a few years after EC began publishing, it became the focus of Congressional hearings and comic-book bonfires.                                                                                                                                                                                                                                                   0.268721\n",
      "The major two that appear in Broken, the first book in the series, are Broken herself, and Michael Forward.                                                                                                                                                                                                                                                                                   0.263374\n",
      "You do you, Nash.                                                                                                                                                                                                                                                                                                                                                                             0.248775\n",
      "Name: 8, dtype: float64\n",
      "\n",
      "\n",
      "Component 9:\n",
      "main_sentence\n",
      "The top show of the night among the key demo by leaps and bounds, the Steve Harvey hosted series was almost even with its last original of April 17 – and could see an adjustment in the final numbers.    0.340473\n",
      "\"There is still a large Diablo II community around the world, and we thank you for continuing to play and slay with us.                                                                                    0.328886\n",
      "You can now play the original Legend of Zelda in your browser in 3D thanks to the magic of Javascript.                                                                                                     0.328712\n",
      "When play was finally called off at 18:00 BST, Rogers was on 104, with Hildreth on 60, in a total of 219-2.                                                                                                0.326800\n",
      "The Nice Guys is great.                                                                                                                                                                                    0.257565\n",
      "Will sushi donuts be the next great breakfast treat?                                                                                                                                                       0.257565\n",
      "\"    RIP the great Garry Shandling.                                                                                                                                                                        0.257565\n",
      "The rain was heavy but inconsistent early on in Kildare, and before play was halted, McIlroy was shooting an impressive round.                                                                             0.230350\n",
      "Former NFL and rugby league player Jarryd Hayne is in Fiji's squad for this weekend's final round of the World Rugby Sevens Series in London.                                                              0.228065\n",
      "If you like something…  Click the heart, it's called favoriting.                                                                                                                                           0.224828\n",
      "Name: 9, dtype: float64\n",
      "\n",
      "\n"
     ]
    }
   ],
   "source": [
    "#Our SVD data reducer.  We are going to reduce the feature space to 200 components.\n",
    "svd= TruncatedSVD(200)\n",
    "lsa = make_pipeline(svd, Normalizer(copy=False))\n",
    "# Run SVD on the training data, then project the training data.\n",
    "X_lsa = lsa.fit_transform(X3_tfidf)\n",
    "\n",
    "variance_explained=svd.explained_variance_ratio_\n",
    "total_variance = variance_explained.sum()\n",
    "print(\"Percent variance captured by all components:\",total_variance*100, '\\n')\n",
    "\n",
    "#Looking at what sorts of tweets our solution considers similar, for the first five identified topics\n",
    "paras_by_component=pd.DataFrame(X_lsa, index=X3)\n",
    "for i in range(10):\n",
    "    print('Component {}:'.format(i))\n",
    "    print(paras_by_component.loc[:,i].sort_values(ascending=False)[0:10])\n",
    "    print('\\n')"
   ]
  },
  {
   "cell_type": "markdown",
   "metadata": {},
   "source": [
    "# Keywords\n",
    "What are the key words for each topic?\n",
    "\n",
    "enumerate takes an object an generates an iterator.\n",
    "http://locallyoptimal.com/blog/2013/01/20/elegant-n-gram-generation-in-python/\n",
    "\n",
    "Google python enumerate over ngrams\n",
    "spacy.doc ngrams"
   ]
  },
  {
   "cell_type": "code",
   "execution_count": 51,
   "metadata": {},
   "outputs": [],
   "source": [
    "def keywords(text):\n",
    "    # Removing stop words and punctuation, then getting a list of all unique words in the text\n",
    "    text_filt = [word for word in text if word.is_stop==False and (word.pos_=='NOUN' or word.pos_=='ADJ')]\n",
    "    words=set(text_filt)\n",
    "\n",
    "    #Creating a grid indicating whether words are within 4 places of the target word\n",
    "    adjacency=pd.DataFrame(columns=words,index=words,data=0)\n",
    "\n",
    "    #Iterating through each word in the text and indicating which of the unique words are its neighbors\n",
    "    for i,word in enumerate(text):\n",
    "        # Checking if any of the word's next four neighbors are in the word list \n",
    "        if any([word == item for item in text_filt]):\n",
    "            # Making sure to stop at the end of the string, even if there are less than four words left after the target.\n",
    "            end=max(0,len(text)-(len(text)-(i+5)))\n",
    "            # The potential neighbors.\n",
    "            nextwords=text[i+1:end]\n",
    "            # Filtering the neighbors to select only those in the word list\n",
    "            inset=[x in text_filt for x in nextwords]\n",
    "            neighbors=[nextwords[i] for i in range(len(nextwords)) if inset[i]]\n",
    "            # Adding 1 to the adjacency matrix for neighbors of the target word\n",
    "            if neighbors:\n",
    "                adjacency.loc[word,neighbors]=adjacency.loc[word,neighbors]+1\n",
    "\n",
    "    print('done!')\n",
    "    \n",
    "    # Running TextRank\n",
    "    nx_words = nx.from_numpy_matrix(adjacency.as_matrix())\n",
    "    ranks=nx.pagerank(nx_words, alpha=.85, tol=.00000001)\n",
    "\n",
    "    # Identifying the five most highly ranked keywords\n",
    "    ranked = sorted(((ranks[i],s) for i,s in enumerate(words)),\n",
    "                    reverse=True)\n",
    "    print(ranked[:5])"
   ]
  },
  {
   "cell_type": "code",
   "execution_count": 52,
   "metadata": {},
   "outputs": [],
   "source": [
    "books = ' '.join(df[df['topic']=='books']['text'])\n",
    "books_parsed = parser(books)"
   ]
  },
  {
   "cell_type": "code",
   "execution_count": 53,
   "metadata": {},
   "outputs": [
    {
     "name": "stdout",
     "output_type": "stream",
     "text": [
      "done!\n",
      "[(0.00019088158152087389, interests), (0.00018940362751230556, volumes), (0.00018919414331158596, world), (0.0001876679473457359, work), (0.0001876679473457359, man)]\n"
     ]
    }
   ],
   "source": [
    "keywords(books_parsed)"
   ]
  },
  {
   "cell_type": "code",
   "execution_count": 54,
   "metadata": {},
   "outputs": [
    {
     "name": "stdout",
     "output_type": "stream",
     "text": [
      "done!\n",
      "[(0.0001533136904219879, relationship), (0.0001521266160668421, 2-guard), (0.0001521266160668421, offseason), (0.00015073253943664237, leader), (0.00015073253943664237, competition)]\n"
     ]
    }
   ],
   "source": [
    "sports = ' '.join(df[df['topic']=='sports']['text'])\n",
    "sports_parsed = parser(sports)\n",
    "\n",
    "keywords(sports_parsed)"
   ]
  },
  {
   "cell_type": "code",
   "execution_count": 55,
   "metadata": {},
   "outputs": [
    {
     "name": "stdout",
     "output_type": "stream",
     "text": [
      "done!\n",
      "[(0.00011753231325066225, Risk), (0.00011451269934348021, writer), (0.0001145126993434802, cars), (0.0001145126993434802, cars), (0.00011398573415603492, kind)]\n"
     ]
    }
   ],
   "source": [
    "gaming = ' '.join(df[df['topic']=='gaming']['text'])\n",
    "gaming_parsed = parser(gaming)\n",
    "\n",
    "keywords(gaming_parsed)"
   ]
  },
  {
   "cell_type": "code",
   "execution_count": 56,
   "metadata": {},
   "outputs": [
    {
     "name": "stdout",
     "output_type": "stream",
     "text": [
      "done!\n",
      "[(0.00020984223227158216, jackfruit), (0.00020275693603646344, squeeze), (0.000200261210766853, optional), (0.00020026121076685297, thanks), (0.00019934337169598068, way)]\n"
     ]
    }
   ],
   "source": [
    "cooking = ' '.join(df[df['topic']=='cooking']['text'])\n",
    "cooking_parsed = parser(cooking)\n",
    "\n",
    "keywords(cooking_parsed)"
   ]
  },
  {
   "cell_type": "code",
   "execution_count": 57,
   "metadata": {},
   "outputs": [
    {
     "name": "stdout",
     "output_type": "stream",
     "text": [
      "done!\n",
      "[(0.000135184208071151, pic), (0.00013167426651464632, players), (0.00013167426651464632, second), (0.00013167426651464632, members), (0.00013167426651464632, contrast)]\n"
     ]
    }
   ],
   "source": [
    "cinema = ' '.join(df[df['topic']=='cinema']['text'])\n",
    "cinema_parsed = parser(cinema)\n",
    "\n",
    "keywords(cinema_parsed)"
   ]
  },
  {
   "cell_type": "markdown",
   "metadata": {},
   "source": [
    "ALTERNATIVE WAY TO LOOK AT KEY WORDS\n",
    "http://www.scikit-yb.org/en/latest/api/text/freqdist.html"
   ]
  },
  {
   "cell_type": "markdown",
   "metadata": {},
   "source": [
    "# nGrams"
   ]
  },
  {
   "cell_type": "code",
   "execution_count": 58,
   "metadata": {},
   "outputs": [],
   "source": [
    "# Creates ngrams\n",
    "# From stackoverflow thread: https://stackoverflow.com/\n",
    "#    questions/12488722/counting-bigrams-pair-of-two-words-in-a-file-using-python\n",
    "def ngrams(lst, n):\n",
    "  tlst = lst\n",
    "  while True:\n",
    "    a, b = tee(tlst)\n",
    "    l = tuple(islice(a, n))\n",
    "    if len(l) == n:\n",
    "      yield l\n",
    "      next(b)\n",
    "      tlst = b\n",
    "    else:\n",
    "      break\n",
    "\n",
    "# Removes punctuation and numbers. Returns token string\n",
    "def no_punc(text):\n",
    "    # Removes apostrophes (badly...)\n",
    "    text = text.replace(\"'\", \"\")\n",
    "    # Remove digits\n",
    "    text = re.sub(r'\\d+', '', text)\n",
    "    # Removes punctuation\n",
    "    tokenizer = RegexpTokenizer(r'\\w+')\n",
    "    tokens = tokenizer.tokenize(text)\n",
    "\n",
    "    token_string = ' '.join(tokens)\n",
    "    \n",
    "    return token_string\n",
    "\n",
    "\n",
    "def find_ngrams(text, n):\n",
    "    token_string = no_punc(text)\n",
    "    \n",
    "    words = nltk.word_tokenize(token_string)\n",
    "    word_count = Counter(ngrams(words, n))\n",
    "    most_common = word_count.most_common()[:5]\n",
    "    \n",
    "    return most_common"
   ]
  },
  {
   "cell_type": "code",
   "execution_count": 59,
   "metadata": {},
   "outputs": [
    {
     "data": {
      "text/plain": [
       "[(('a', 'lot', 'of'), 15),\n",
       " (('I', 'don', 't'), 11),\n",
       " (('I', 'didn', 't'), 11),\n",
       " (('one', 'of', 'the'), 10),\n",
       " (('of', 'the', 'world'), 9)]"
      ]
     },
     "execution_count": 59,
     "metadata": {},
     "output_type": "execute_result"
    }
   ],
   "source": [
    "find_ngrams(books,3)"
   ]
  },
  {
   "cell_type": "code",
   "execution_count": 70,
   "metadata": {},
   "outputs": [
    {
     "name": "stdout",
     "output_type": "stream",
     "text": [
      "books\n",
      "\n",
      "[(('a', 'lot', 'of'), 15), (('I', 'don', 't'), 11), (('I', 'didn', 't'), 11), (('one', 'of', 'the'), 10), (('of', 'the', 'world'), 9)]\n",
      "\n",
      "\n",
      "cinema\n",
      "\n",
      "[(('a', 'lot', 'of'), 22), (('one', 'of', 'the'), 21), (('as', 'well', 'as'), 18), (('some', 'of', 'the'), 14), (('in', 'the', 'film'), 13)]\n",
      "\n",
      "\n",
      "cooking\n",
      "\n",
      "[(('t', 'wait', 'to'), 16), (('and', 'it', 'was'), 15), (('I', 'can', 't'), 13), (('in', 'the', 'oven'), 13), (('you', 'want', 'to'), 13)]\n",
      "\n",
      "\n",
      "sports\n",
      "\n",
      "[(('one', 'of', 'the'), 34), (('Offseason', 'Workouts', 'May'), 32), (('Mandatory', 'Minicamp', 'June'), 32), (('Report', 'April', 'OTA'), 31), (('April', 'OTA', 'Offseason'), 31)]\n",
      "\n",
      "\n",
      "gaming\n",
      "\n",
      "[(('a', 'lot', 'of'), 36), (('Gears', 'of', 'War'), 28), (('one', 'of', 'the'), 22), (('you', 'want', 'to'), 19), (('to', 'be', 'a'), 17)]\n",
      "\n",
      "\n"
     ]
    }
   ],
   "source": [
    "topics = {'books':books, 'cinema':cinema, 'cooking':cooking, 'sports':sports, 'gaming':gaming}\n",
    "\n",
    "for k, v in topics.items():\n",
    "    print(k + '\\n')\n",
    "    print(find_ngrams(v, 3)) \n",
    "    print('\\n')"
   ]
  },
  {
   "cell_type": "markdown",
   "metadata": {},
   "source": [
    "# NEXT STEPS\n",
    "- Try it out on a larger corpus.\n",
    "- Streamline processes with pipelines and classes\n"
   ]
  },
  {
   "cell_type": "code",
   "execution_count": null,
   "metadata": {},
   "outputs": [],
   "source": []
  }
 ],
 "metadata": {
  "kernelspec": {
   "display_name": "Python 3",
   "language": "python",
   "name": "python3"
  },
  "language_info": {
   "codemirror_mode": {
    "name": "ipython",
    "version": 3
   },
   "file_extension": ".py",
   "mimetype": "text/x-python",
   "name": "python",
   "nbconvert_exporter": "python",
   "pygments_lexer": "ipython3",
   "version": "3.6.4"
  }
 },
 "nbformat": 4,
 "nbformat_minor": 2
}

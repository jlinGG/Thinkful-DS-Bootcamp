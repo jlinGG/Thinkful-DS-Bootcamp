{
 "cells": [
  {
   "cell_type": "markdown",
   "metadata": {},
   "source": [
    "# Twitter Classifier\n",
    "\n",
    "## Description\n",
    "For this project, I will be building a Twitter classifier.  I am pulling the most recent ~3200 tweets from four twitter handles: realDonaldTrump, junstinbieber, hillaryclinton, and katyperry.  I will then be using a variety of supervised and unsupervised models to classify the tweets in different ways.\n",
    "\n",
    "Let the fun begin!"
   ]
  },
  {
   "cell_type": "code",
   "execution_count": 1,
   "metadata": {},
   "outputs": [],
   "source": [
    "import tweepy\n",
    "\n",
    "%matplotlib inline\n",
    "import numpy as np\n",
    "import pandas as pd\n",
    "import scipy\n",
    "import sklearn\n",
    "import spacy\n",
    "import matplotlib.pyplot as plt\n",
    "import seaborn as sns\n",
    "import re\n",
    "from collections import Counter\n",
    "from sklearn.model_selection import train_test_split\n",
    "from sklearn.metrics import confusion_matrix\n",
    "from sklearn.cluster import KMeans\n",
    "from sklearn.preprocessing import normalize\n",
    "from sklearn.decomposition import PCA\n",
    "from sklearn.cluster import MiniBatchKMeans\n",
    "\n",
    "\n",
    "consumer_key = '9SRz5HMehrEVQf2m7AoN4shrq'\n",
    "consumer_secret = 'zZa9j55quKFTmTwm4PKx4B6RUn3OyCsEtVJmvqbLAX9d8K3Adu'\n",
    "access_token = '2801486303-55EJTjYXUPvw5uzXmRQV8wTHDmiLh70BJoASUj9'\n",
    "access_token_secret = 'aRGfnR8N4if56loNt0yhwChXBe61go8qTpEanmXV2RBRp'"
   ]
  },
  {
   "cell_type": "code",
   "execution_count": 2,
   "metadata": {},
   "outputs": [],
   "source": [
    "# Thank you, yanofsky! Adapted from: https://gist.github.com/yanofsky/5436496\n",
    "\n",
    "def get_all_tweets(screen_names):\n",
    "\n",
    "    #authorize twitter, initialize tweepy\n",
    "    auth = tweepy.OAuthHandler(consumer_key, consumer_secret)\n",
    "    auth.set_access_token(access_token, access_token_secret)\n",
    "    api = tweepy.API(auth)\n",
    "\n",
    "    \n",
    "    #initialize a list to hold all the tweepy Tweets\n",
    "    df = pd.DataFrame()\n",
    "    \n",
    "    for screen_name in screen_names:\n",
    "        \n",
    "        alltweets = []\n",
    "\n",
    "        #make initial request for most recent tweets (200 is the maximum allowed count)\n",
    "        new_tweets = api.user_timeline(screen_name = screen_name ,count=200)\n",
    "\n",
    "        #save most recent tweets\n",
    "        alltweets.extend(new_tweets)\n",
    "\n",
    "        #save the id of the oldest tweet less one\n",
    "        oldest = alltweets[-1].id - 1\n",
    "\n",
    "        #keep grabbing tweets until there are no tweets left to grab\n",
    "        while len(new_tweets) > 0:\n",
    "            print(\"getting tweets before %s\" % (oldest))\n",
    "\n",
    "            #all subsiquent requests use the max_id param to prevent duplicates\n",
    "            new_tweets = api.user_timeline(screen_name = screen_name,count=200,max_id=oldest)\n",
    "\n",
    "            #save most recent tweets\n",
    "            alltweets.extend(new_tweets)\n",
    "\n",
    "            #update the id of the oldest tweet less one\n",
    "            oldest = alltweets[-1].id - 1\n",
    "\n",
    "            print(\"...%s tweets downloaded so far\" % (len(alltweets)))\n",
    "\n",
    "        #transform the tweepy tweets into a 2D array that will populate the csv\t\n",
    "        outtweets = [[tweet.user.screen_name, tweet.text] for tweet in alltweets]\n",
    "\n",
    "        df = df.append(pd.DataFrame(data=outtweets)).reset_index(drop=True)\n",
    "        \n",
    "    return df\n",
    "    \n",
    "    print('done!')"
   ]
  },
  {
   "cell_type": "markdown",
   "metadata": {},
   "source": [
    "These twitter accounts were chosen with some trial and error.  Since we are only allowed to pull tweets from the last week or so, I wanted to make sure to get prolific tweeters in the dataset.  That way we have a well balanced dataset."
   ]
  },
  {
   "cell_type": "code",
   "execution_count": 3,
   "metadata": {},
   "outputs": [
    {
     "name": "stdout",
     "output_type": "stream",
     "text": [
      "getting tweets before 989813047773614079\n",
      "...400 tweets downloaded so far\n",
      "getting tweets before 980958298445885445\n",
      "...600 tweets downloaded so far\n",
      "getting tweets before 967597887545896960\n",
      "...800 tweets downloaded so far\n",
      "getting tweets before 954681839419101184\n",
      "...1000 tweets downloaded so far\n",
      "getting tweets before 945030174290186240\n",
      "...1197 tweets downloaded so far\n",
      "getting tweets before 935339687006429184\n",
      "...1397 tweets downloaded so far\n",
      "getting tweets before 925716689064427519\n",
      "...1597 tweets downloaded so far\n",
      "getting tweets before 918275261011038209\n",
      "...1796 tweets downloaded so far\n",
      "getting tweets before 911546774267006975\n",
      "...1996 tweets downloaded so far\n",
      "getting tweets before 902507855584092159\n",
      "...2196 tweets downloaded so far\n",
      "getting tweets before 894367017054208000\n",
      "...2396 tweets downloaded so far\n",
      "getting tweets before 885109663217352703\n",
      "...2596 tweets downloaded so far\n",
      "getting tweets before 875843513761583103\n",
      "...2795 tweets downloaded so far\n",
      "getting tweets before 861592420043157503\n",
      "...2995 tweets downloaded so far\n",
      "getting tweets before 847558426557337599\n",
      "...3195 tweets downloaded so far\n",
      "getting tweets before 830751875578355712\n",
      "...3232 tweets downloaded so far\n",
      "getting tweets before 828797801630937088\n",
      "...3232 tweets downloaded so far\n",
      "getting tweets before 807285316444794879\n",
      "...397 tweets downloaded so far\n",
      "getting tweets before 771836683063005183\n",
      "...593 tweets downloaded so far\n",
      "getting tweets before 740569808727511040\n",
      "...790 tweets downloaded so far\n",
      "getting tweets before 711309440088039424\n",
      "...989 tweets downloaded so far\n",
      "getting tweets before 687289379371393025\n",
      "...1188 tweets downloaded so far\n",
      "getting tweets before 672429383861145599\n",
      "...1388 tweets downloaded so far\n",
      "getting tweets before 666532918655741951\n",
      "...1587 tweets downloaded so far\n",
      "getting tweets before 663762968341942271\n",
      "...1780 tweets downloaded so far\n",
      "getting tweets before 658594189568004095\n",
      "...1970 tweets downloaded so far\n",
      "getting tweets before 655100823626760191\n",
      "...2168 tweets downloaded so far\n",
      "getting tweets before 644936379307192319\n",
      "...2368 tweets downloaded so far\n",
      "getting tweets before 639154479359754239\n",
      "...2568 tweets downloaded so far\n",
      "getting tweets before 634777354297036801\n",
      "...2768 tweets downloaded so far\n",
      "getting tweets before 627351538906742783\n",
      "...2968 tweets downloaded so far\n",
      "getting tweets before 610638888382521345\n",
      "...3166 tweets downloaded so far\n",
      "getting tweets before 592389661730873343\n",
      "...3171 tweets downloaded so far\n",
      "getting tweets before 590916763505721343\n",
      "...3171 tweets downloaded so far\n",
      "getting tweets before 913498006615359487\n",
      "...400 tweets downloaded so far\n",
      "getting tweets before 795870702834515967\n",
      "...600 tweets downloaded so far\n",
      "getting tweets before 794294763335929855\n",
      "...800 tweets downloaded so far\n",
      "getting tweets before 791717576434941951\n",
      "...1000 tweets downloaded so far\n",
      "getting tweets before 789206611764060159\n",
      "...1200 tweets downloaded so far\n",
      "getting tweets before 786611445630984191\n",
      "...1399 tweets downloaded so far\n",
      "getting tweets before 785187786047520769\n",
      "...1599 tweets downloaded so far\n",
      "getting tweets before 782999359889768447\n",
      "...1799 tweets downloaded so far\n",
      "getting tweets before 780603720191148031\n",
      "...1999 tweets downloaded so far\n",
      "getting tweets before 777896080080003071\n",
      "...2199 tweets downloaded so far\n",
      "getting tweets before 775755273873068032\n",
      "...2399 tweets downloaded so far\n",
      "getting tweets before 771742094985666559\n",
      "...2598 tweets downloaded so far\n",
      "getting tweets before 767468704317661183\n",
      "...2797 tweets downloaded so far\n",
      "getting tweets before 763458289149575167\n",
      "...2997 tweets downloaded so far\n",
      "getting tweets before 758865879266242569\n",
      "...3197 tweets downloaded so far\n",
      "getting tweets before 758443213116043263\n",
      "...3236 tweets downloaded so far\n",
      "getting tweets before 758126093912113152\n",
      "...3236 tweets downloaded so far\n",
      "getting tweets before 977707727030906879\n",
      "...400 tweets downloaded so far\n",
      "getting tweets before 952349668876275712\n",
      "...600 tweets downloaded so far\n",
      "getting tweets before 895720147612180479\n",
      "...797 tweets downloaded so far\n",
      "getting tweets before 873585700469301248\n",
      "...997 tweets downloaded so far\n",
      "getting tweets before 863654315692507136\n",
      "...1195 tweets downloaded so far\n",
      "getting tweets before 857404678778245119\n",
      "...1394 tweets downloaded so far\n",
      "getting tweets before 837438506846695423\n",
      "...1594 tweets downloaded so far\n",
      "getting tweets before 828729592974237695\n",
      "...1794 tweets downloaded so far\n",
      "getting tweets before 788911631921061887\n",
      "...1993 tweets downloaded so far\n",
      "getting tweets before 776496237491134463\n",
      "...2193 tweets downloaded so far\n",
      "getting tweets before 756747221622718463\n",
      "...2389 tweets downloaded so far\n",
      "getting tweets before 689559511787556863\n",
      "...2588 tweets downloaded so far\n",
      "getting tweets before 646766850286727168\n",
      "...2788 tweets downloaded so far\n",
      "getting tweets before 583304996739014655\n",
      "...2986 tweets downloaded so far\n",
      "getting tweets before 540363561856282623\n",
      "...3180 tweets downloaded so far\n",
      "getting tweets before 504062666189455359\n",
      "...3218 tweets downloaded so far\n",
      "getting tweets before 502169736118300672\n",
      "...3218 tweets downloaded so far\n"
     ]
    }
   ],
   "source": [
    "# Getting the most recent 3200 tweets from Donald Trump, Justin Bieber, Hillary Clinton, \n",
    "# and Katy Perry.\n",
    "tweets = get_all_tweets(['realDonaldTrump','justinbieber','hillaryclinton','katyperry'])"
   ]
  },
  {
   "cell_type": "code",
   "execution_count": 4,
   "metadata": {},
   "outputs": [
    {
     "data": {
      "text/plain": [
       "HillaryClinton     3236\n",
       "realDonaldTrump    3232\n",
       "katyperry          3218\n",
       "justinbieber       3171\n",
       "Name: 0, dtype: int64"
      ]
     },
     "execution_count": 4,
     "metadata": {},
     "output_type": "execute_result"
    }
   ],
   "source": [
    "tweets[0].value_counts()"
   ]
  },
  {
   "cell_type": "markdown",
   "metadata": {},
   "source": [
    "Great! We have about 3200 tweets from each twitter account.  Having a balanced dataset will make the predictive models more accurate. "
   ]
  },
  {
   "cell_type": "code",
   "execution_count": 5,
   "metadata": {},
   "outputs": [
    {
     "name": "stdout",
     "output_type": "stream",
     "text": [
      "<class 'pandas.core.frame.DataFrame'>\n",
      "RangeIndex: 12857 entries, 0 to 12856\n",
      "Data columns (total 2 columns):\n",
      "0    12857 non-null object\n",
      "1    12857 non-null object\n",
      "dtypes: object(2)\n",
      "memory usage: 201.0+ KB\n"
     ]
    }
   ],
   "source": [
    "tweets.info()"
   ]
  },
  {
   "cell_type": "code",
   "execution_count": 6,
   "metadata": {},
   "outputs": [],
   "source": [
    "tweets.columns = ['screenname','tweet']"
   ]
  },
  {
   "cell_type": "code",
   "execution_count": 7,
   "metadata": {},
   "outputs": [],
   "source": [
    "tweets['tweet'] = tweets['tweet'].astype(str)"
   ]
  },
  {
   "cell_type": "markdown",
   "metadata": {},
   "source": [
    "Let's clean the tweets to remove links and drop tweets that are retweets."
   ]
  },
  {
   "cell_type": "code",
   "execution_count": 8,
   "metadata": {},
   "outputs": [],
   "source": [
    "def text_cleaner(tweet):\n",
    "    tweet = re.sub(r'http.*','',tweet)\n",
    "    tweet = re.sub(r'bit/ly.*', \"\", tweet)\n",
    "    tweet = re.sub(r'b\\'', \"\", tweet)\n",
    "    tweet = re.sub(r'b\"', \"\", tweet)\n",
    "    return tweet"
   ]
  },
  {
   "cell_type": "code",
   "execution_count": 9,
   "metadata": {},
   "outputs": [],
   "source": [
    "for r in range(len(tweets['tweet'])):\n",
    "    tweets['tweet'][r] = text_cleaner(tweets['tweet'][r])\n",
    "\n",
    "#Dropping retweets    \n",
    "tweets = tweets[tweets['tweet'].str.contains(\"RT\") == False].reset_index(drop=True)\n",
    "    "
   ]
  },
  {
   "cell_type": "markdown",
   "metadata": {},
   "source": [
    "Now to parse the tweens using spacy.\n",
    "\n",
    "Helpful link about disabling piplines to make nlp run faster: https://spacy.io/usage/processing-pipelines#disabling"
   ]
  },
  {
   "cell_type": "code",
   "execution_count": 10,
   "metadata": {},
   "outputs": [],
   "source": [
    "# Concatenizing all tweets into one text and parsing.\n",
    "nlp = spacy.load('en', disable=['parser'])\n",
    "\n",
    "text = tweets['tweet'].str.cat()\n",
    "text = nlp(text)"
   ]
  },
  {
   "cell_type": "code",
   "execution_count": 11,
   "metadata": {},
   "outputs": [],
   "source": [
    "# Parse tweets\n",
    "nlp = spacy.load('en')\n",
    "\n",
    "parsed = []\n",
    "\n",
    "for r in tweets['tweet']:\n",
    "    p = nlp(r)\n",
    "    parsed.append(p)\n",
    "    \n",
    "    "
   ]
  },
  {
   "cell_type": "code",
   "execution_count": 12,
   "metadata": {},
   "outputs": [],
   "source": [
    "tweets['parsed'] = parsed"
   ]
  },
  {
   "cell_type": "code",
   "execution_count": 13,
   "metadata": {},
   "outputs": [
    {
     "data": {
      "text/html": [
       "<div>\n",
       "<style scoped>\n",
       "    .dataframe tbody tr th:only-of-type {\n",
       "        vertical-align: middle;\n",
       "    }\n",
       "\n",
       "    .dataframe tbody tr th {\n",
       "        vertical-align: top;\n",
       "    }\n",
       "\n",
       "    .dataframe thead th {\n",
       "        text-align: right;\n",
       "    }\n",
       "</style>\n",
       "<table border=\"1\" class=\"dataframe\">\n",
       "  <thead>\n",
       "    <tr style=\"text-align: right;\">\n",
       "      <th></th>\n",
       "      <th>screenname</th>\n",
       "      <th>tweet</th>\n",
       "      <th>parsed</th>\n",
       "    </tr>\n",
       "  </thead>\n",
       "  <tbody>\n",
       "    <tr>\n",
       "      <th>0</th>\n",
       "      <td>realDonaldTrump</td>\n",
       "      <td>Crippling loopholes in our laws have enabled M...</td>\n",
       "      <td>(Crippling, loopholes, in, our, laws, have, en...</td>\n",
       "    </tr>\n",
       "    <tr>\n",
       "      <th>1</th>\n",
       "      <td>realDonaldTrump</td>\n",
       "      <td>Today on Long Island, we were all moved to be ...</td>\n",
       "      <td>(Today, on, Long, Island, ,, we, were, all, mo...</td>\n",
       "    </tr>\n",
       "    <tr>\n",
       "      <th>2</th>\n",
       "      <td>realDonaldTrump</td>\n",
       "      <td>Thank you @SBAList! #SBAGala</td>\n",
       "      <td>(Thank, you, @SBAList, !, #, SBAGala)</td>\n",
       "    </tr>\n",
       "    <tr>\n",
       "      <th>3</th>\n",
       "      <td>realDonaldTrump</td>\n",
       "      <td>WITCH HUNT!</td>\n",
       "      <td>(WITCH, HUNT, !)</td>\n",
       "    </tr>\n",
       "    <tr>\n",
       "      <th>4</th>\n",
       "      <td>realDonaldTrump</td>\n",
       "      <td>There will be big news coming soon for our gre...</td>\n",
       "      <td>(There, will, be, big, news, coming, soon, for...</td>\n",
       "    </tr>\n",
       "  </tbody>\n",
       "</table>\n",
       "</div>"
      ],
      "text/plain": [
       "        screenname                                              tweet  \\\n",
       "0  realDonaldTrump  Crippling loopholes in our laws have enabled M...   \n",
       "1  realDonaldTrump  Today on Long Island, we were all moved to be ...   \n",
       "2  realDonaldTrump                      Thank you @SBAList! #SBAGala    \n",
       "3  realDonaldTrump                                        WITCH HUNT!   \n",
       "4  realDonaldTrump  There will be big news coming soon for our gre...   \n",
       "\n",
       "                                              parsed  \n",
       "0  (Crippling, loopholes, in, our, laws, have, en...  \n",
       "1  (Today, on, Long, Island, ,, we, were, all, mo...  \n",
       "2              (Thank, you, @SBAList, !, #, SBAGala)  \n",
       "3                                   (WITCH, HUNT, !)  \n",
       "4  (There, will, be, big, news, coming, soon, for...  "
      ]
     },
     "execution_count": 13,
     "metadata": {},
     "output_type": "execute_result"
    }
   ],
   "source": [
    "tweets.head()"
   ]
  },
  {
   "cell_type": "markdown",
   "metadata": {},
   "source": [
    "Success!"
   ]
  },
  {
   "cell_type": "markdown",
   "metadata": {},
   "source": [
    "# Supervised Learning Models\n",
    "\n",
    "## Bag of Words\n",
    "Let's use bag of words! For each tweet, we will count how many times each word appears and use those counts as features for our supervised learning models.  To keep our feature space manageable, we will be using lemmas (root words), and we will only use the top 1000 most common words for each text."
   ]
  },
  {
   "cell_type": "code",
   "execution_count": 14,
   "metadata": {},
   "outputs": [],
   "source": [
    "# Utility function to create a list of the 1000 most common words.\n",
    "def bag_of_words(text):\n",
    "    \n",
    "    # Filter out punctuation and stop words.\n",
    "    allwords = [token.lemma_\n",
    "                for token in text\n",
    "                if not token.is_punct\n",
    "                and not token.is_stop]\n",
    "    \n",
    "    # Return the most common words.\n",
    "    return [item[0] for item in Counter(allwords).most_common(1000)]\n",
    "    \n",
    "\n",
    "# Creates a data frame with features for each word in our common word set.\n",
    "# Each value is the count of the times the word appears in each sentence.\n",
    "def bow_features(tweets, common_words):\n",
    "    \n",
    "    # Scaffold the data frame and initialize counts to zero.\n",
    "    df = pd.DataFrame(columns=common_words)\n",
    "    df['text_sentence'] = tweets['parsed']\n",
    "    df['text_source'] = tweets['screenname']\n",
    "    df.loc[:, common_words] = 0\n",
    "    \n",
    "    # Process each row, counting the occurrence of words in each sentence.\n",
    "    for i, sentence in enumerate(df['text_sentence']):\n",
    "        \n",
    "        # Convert the sentence to lemmas, then filter out punctuation,\n",
    "        # stop words, and uncommon words.\n",
    "        words = [token.lemma_\n",
    "                 for token in sentence\n",
    "                 if (\n",
    "                     not token.is_punct\n",
    "                     and not token.is_stop\n",
    "                     and token.lemma_ in common_words\n",
    "                 )]\n",
    "        \n",
    "        # Populate the row with word counts.\n",
    "        for word in words:\n",
    "            df.loc[i, word] += 1\n",
    "        \n",
    "        # This counter is just to make sure the kernel didn't hang.\n",
    "        if i % 500 == 0:\n",
    "            print(\"Processing row {}\".format(i))\n",
    "            \n",
    "    return df\n"
   ]
  },
  {
   "cell_type": "code",
   "execution_count": 15,
   "metadata": {},
   "outputs": [],
   "source": [
    "# Finding the top 1000 common words in all the tweets.\n",
    "\n",
    "common_words = bag_of_words(text)"
   ]
  },
  {
   "cell_type": "code",
   "execution_count": 16,
   "metadata": {},
   "outputs": [
    {
     "name": "stdout",
     "output_type": "stream",
     "text": [
      "Processing row 0\n",
      "Processing row 500\n",
      "Processing row 1000\n",
      "Processing row 1500\n",
      "Processing row 2000\n",
      "Processing row 2500\n",
      "Processing row 3000\n",
      "Processing row 3500\n",
      "Processing row 4000\n",
      "Processing row 4500\n",
      "Processing row 5000\n",
      "Processing row 5500\n",
      "Processing row 6000\n",
      "Processing row 6500\n",
      "Processing row 7000\n",
      "Processing row 7500\n",
      "Processing row 8000\n",
      "Processing row 8500\n",
      "Processing row 9000\n",
      "Processing row 9500\n",
      "Processing row 10000\n"
     ]
    },
    {
     "data": {
      "text/html": [
       "<div>\n",
       "<style scoped>\n",
       "    .dataframe tbody tr th:only-of-type {\n",
       "        vertical-align: middle;\n",
       "    }\n",
       "\n",
       "    .dataframe tbody tr th {\n",
       "        vertical-align: top;\n",
       "    }\n",
       "\n",
       "    .dataframe thead th {\n",
       "        text-align: right;\n",
       "    }\n",
       "</style>\n",
       "<table border=\"1\" class=\"dataframe\">\n",
       "  <thead>\n",
       "    <tr style=\"text-align: right;\">\n",
       "      <th></th>\n",
       "      <th>-PRON-</th>\n",
       "      <th>be</th>\n",
       "      <th>trump</th>\n",
       "      <th>not</th>\n",
       "      <th>great</th>\n",
       "      <th>amp</th>\n",
       "      <th></th>\n",
       "      <th>the</th>\n",
       "      <th>thank</th>\n",
       "      <th>'s</th>\n",
       "      <th>...</th>\n",
       "      <th>primary</th>\n",
       "      <th>loss</th>\n",
       "      <th>representative</th>\n",
       "      <th>nothing</th>\n",
       "      <th>h</th>\n",
       "      <th>august</th>\n",
       "      <th>budget</th>\n",
       "      <th>june</th>\n",
       "      <th>text_sentence</th>\n",
       "      <th>text_source</th>\n",
       "    </tr>\n",
       "  </thead>\n",
       "  <tbody>\n",
       "    <tr>\n",
       "      <th>0</th>\n",
       "      <td>0</td>\n",
       "      <td>0</td>\n",
       "      <td>0</td>\n",
       "      <td>0</td>\n",
       "      <td>0</td>\n",
       "      <td>0</td>\n",
       "      <td>0</td>\n",
       "      <td>0</td>\n",
       "      <td>0</td>\n",
       "      <td>0</td>\n",
       "      <td>...</td>\n",
       "      <td>0</td>\n",
       "      <td>0</td>\n",
       "      <td>0</td>\n",
       "      <td>0</td>\n",
       "      <td>0</td>\n",
       "      <td>0</td>\n",
       "      <td>0</td>\n",
       "      <td>0</td>\n",
       "      <td>(Crippling, loopholes, in, our, laws, have, en...</td>\n",
       "      <td>realDonaldTrump</td>\n",
       "    </tr>\n",
       "    <tr>\n",
       "      <th>1</th>\n",
       "      <td>0</td>\n",
       "      <td>0</td>\n",
       "      <td>0</td>\n",
       "      <td>0</td>\n",
       "      <td>0</td>\n",
       "      <td>0</td>\n",
       "      <td>0</td>\n",
       "      <td>0</td>\n",
       "      <td>0</td>\n",
       "      <td>0</td>\n",
       "      <td>...</td>\n",
       "      <td>0</td>\n",
       "      <td>0</td>\n",
       "      <td>0</td>\n",
       "      <td>0</td>\n",
       "      <td>0</td>\n",
       "      <td>0</td>\n",
       "      <td>0</td>\n",
       "      <td>0</td>\n",
       "      <td>(Today, on, Long, Island, ,, we, were, all, mo...</td>\n",
       "      <td>realDonaldTrump</td>\n",
       "    </tr>\n",
       "    <tr>\n",
       "      <th>2</th>\n",
       "      <td>0</td>\n",
       "      <td>0</td>\n",
       "      <td>0</td>\n",
       "      <td>0</td>\n",
       "      <td>0</td>\n",
       "      <td>0</td>\n",
       "      <td>0</td>\n",
       "      <td>0</td>\n",
       "      <td>1</td>\n",
       "      <td>0</td>\n",
       "      <td>...</td>\n",
       "      <td>0</td>\n",
       "      <td>0</td>\n",
       "      <td>0</td>\n",
       "      <td>0</td>\n",
       "      <td>0</td>\n",
       "      <td>0</td>\n",
       "      <td>0</td>\n",
       "      <td>0</td>\n",
       "      <td>(Thank, you, @SBAList, !, #, SBAGala)</td>\n",
       "      <td>realDonaldTrump</td>\n",
       "    </tr>\n",
       "    <tr>\n",
       "      <th>3</th>\n",
       "      <td>0</td>\n",
       "      <td>0</td>\n",
       "      <td>0</td>\n",
       "      <td>0</td>\n",
       "      <td>0</td>\n",
       "      <td>0</td>\n",
       "      <td>0</td>\n",
       "      <td>0</td>\n",
       "      <td>0</td>\n",
       "      <td>0</td>\n",
       "      <td>...</td>\n",
       "      <td>0</td>\n",
       "      <td>0</td>\n",
       "      <td>0</td>\n",
       "      <td>0</td>\n",
       "      <td>0</td>\n",
       "      <td>0</td>\n",
       "      <td>0</td>\n",
       "      <td>0</td>\n",
       "      <td>(WITCH, HUNT, !)</td>\n",
       "      <td>realDonaldTrump</td>\n",
       "    </tr>\n",
       "    <tr>\n",
       "      <th>4</th>\n",
       "      <td>0</td>\n",
       "      <td>0</td>\n",
       "      <td>0</td>\n",
       "      <td>0</td>\n",
       "      <td>1</td>\n",
       "      <td>0</td>\n",
       "      <td>0</td>\n",
       "      <td>0</td>\n",
       "      <td>0</td>\n",
       "      <td>0</td>\n",
       "      <td>...</td>\n",
       "      <td>0</td>\n",
       "      <td>0</td>\n",
       "      <td>0</td>\n",
       "      <td>0</td>\n",
       "      <td>0</td>\n",
       "      <td>0</td>\n",
       "      <td>0</td>\n",
       "      <td>0</td>\n",
       "      <td>(There, will, be, big, news, coming, soon, for...</td>\n",
       "      <td>realDonaldTrump</td>\n",
       "    </tr>\n",
       "  </tbody>\n",
       "</table>\n",
       "<p>5 rows × 1002 columns</p>\n",
       "</div>"
      ],
      "text/plain": [
       "  -PRON- be trump not great amp \\n the thank 's       ...        primary loss  \\\n",
       "0      0  0     0   0     0   0  0   0     0  0       ...              0    0   \n",
       "1      0  0     0   0     0   0  0   0     0  0       ...              0    0   \n",
       "2      0  0     0   0     0   0  0   0     1  0       ...              0    0   \n",
       "3      0  0     0   0     0   0  0   0     0  0       ...              0    0   \n",
       "4      0  0     0   0     1   0  0   0     0  0       ...              0    0   \n",
       "\n",
       "  representative nothing  h august budget june  \\\n",
       "0              0       0  0      0      0    0   \n",
       "1              0       0  0      0      0    0   \n",
       "2              0       0  0      0      0    0   \n",
       "3              0       0  0      0      0    0   \n",
       "4              0       0  0      0      0    0   \n",
       "\n",
       "                                       text_sentence      text_source  \n",
       "0  (Crippling, loopholes, in, our, laws, have, en...  realDonaldTrump  \n",
       "1  (Today, on, Long, Island, ,, we, were, all, mo...  realDonaldTrump  \n",
       "2              (Thank, you, @SBAList, !, #, SBAGala)  realDonaldTrump  \n",
       "3                                   (WITCH, HUNT, !)  realDonaldTrump  \n",
       "4  (There, will, be, big, news, coming, soon, for...  realDonaldTrump  \n",
       "\n",
       "[5 rows x 1002 columns]"
      ]
     },
     "execution_count": 16,
     "metadata": {},
     "output_type": "execute_result"
    }
   ],
   "source": [
    "# Create our data frame with features. \n",
    "word_counts = bow_features(tweets, common_words)\n",
    "word_counts.head()"
   ]
  },
  {
   "cell_type": "markdown",
   "metadata": {},
   "source": [
    "Each row represents a tweet.  Each column contains one of the top 1000 common words.  If the tweet contains that word the corresponding space is marked '1'. "
   ]
  },
  {
   "cell_type": "code",
   "execution_count": 17,
   "metadata": {},
   "outputs": [
    {
     "name": "stdout",
     "output_type": "stream",
     "text": [
      "<class 'pandas.core.frame.DataFrame'>\n",
      "RangeIndex: 10279 entries, 0 to 10278\n",
      "Columns: 1002 entries, -PRON- to text_source\n",
      "dtypes: object(1002)\n",
      "memory usage: 78.6+ MB\n"
     ]
    }
   ],
   "source": [
    "word_counts.info()\n"
   ]
  },
  {
   "cell_type": "code",
   "execution_count": 18,
   "metadata": {},
   "outputs": [],
   "source": [
    "#word_counts.to_csv('tweet_word_counts.csv')"
   ]
  },
  {
   "cell_type": "markdown",
   "metadata": {},
   "source": [
    "### Models for BoW\n",
    "I will be using the dataframe created from Bag of Words to classify our tweets with Random Forest, Multinomial Logistic Regression, Gradient Boost, and Support Vector Machine.  "
   ]
  },
  {
   "cell_type": "code",
   "execution_count": 19,
   "metadata": {},
   "outputs": [],
   "source": [
    "# Train-test split\n",
    "from sklearn import ensemble\n",
    "from sklearn.model_selection import train_test_split\n",
    "\n",
    "rfc = ensemble.RandomForestClassifier()\n",
    "Y = word_counts['text_source']\n",
    "X = np.array(word_counts.drop(['text_sentence','text_source'], 1))\n",
    "\n",
    "X_train, X_test, y_train, y_test = train_test_split(X, \n",
    "                                                    Y,\n",
    "                                                    test_size=0.4,\n",
    "                                                    random_state=0,\n",
    "                                                    stratify=Y\n",
    "                                                   )"
   ]
  },
  {
   "cell_type": "code",
   "execution_count": 20,
   "metadata": {},
   "outputs": [
    {
     "data": {
      "text/plain": [
       "realDonaldTrump    1720\n",
       "katyperry          1714\n",
       "HillaryClinton     1532\n",
       "justinbieber       1201\n",
       "Name: text_source, dtype: int64"
      ]
     },
     "execution_count": 20,
     "metadata": {},
     "output_type": "execute_result"
    }
   ],
   "source": [
    "y_train.value_counts()"
   ]
  },
  {
   "cell_type": "code",
   "execution_count": 21,
   "metadata": {},
   "outputs": [
    {
     "data": {
      "text/plain": [
       "realDonaldTrump    1147\n",
       "katyperry          1142\n",
       "HillaryClinton     1022\n",
       "justinbieber        801\n",
       "Name: text_source, dtype: int64"
      ]
     },
     "execution_count": 21,
     "metadata": {},
     "output_type": "execute_result"
    }
   ],
   "source": [
    "y_test.value_counts()"
   ]
  },
  {
   "cell_type": "markdown",
   "metadata": {},
   "source": [
    "#### Random forest"
   ]
  },
  {
   "cell_type": "code",
   "execution_count": 22,
   "metadata": {},
   "outputs": [
    {
     "name": "stdout",
     "output_type": "stream",
     "text": [
      "Training set score: 0.948435219717853\n",
      "\n",
      "Test set score: 0.7412451361867705\n"
     ]
    }
   ],
   "source": [
    "train = rfc.fit(X_train, y_train)\n",
    "\n",
    "print('Training set score:', rfc.score(X_train, y_train))\n",
    "print('\\nTest set score:', rfc.score(X_test, y_test))"
   ]
  },
  {
   "cell_type": "markdown",
   "metadata": {},
   "source": [
    "Looks like there is an issue with overfitting here.  The training score is much higher than the test set.  "
   ]
  },
  {
   "cell_type": "code",
   "execution_count": 23,
   "metadata": {},
   "outputs": [
    {
     "data": {
      "text/plain": [
       "array([0.60544218, 0.72581429, 0.71581509, 0.71970803, 0.69376826])"
      ]
     },
     "execution_count": 23,
     "metadata": {},
     "output_type": "execute_result"
    }
   ],
   "source": [
    "from sklearn.model_selection import cross_val_score\n",
    "cross_val_score(rfc, X, Y, cv=5)"
   ]
  },
  {
   "cell_type": "markdown",
   "metadata": {},
   "source": [
    "There is some variations in the cross validation scores, which again points to overfitting.  Random forest is probably not the best model for this dataset."
   ]
  },
  {
   "cell_type": "code",
   "execution_count": 151,
   "metadata": {
    "scrolled": true
   },
   "outputs": [
    {
     "ename": "ValueError",
     "evalue": "could not convert string to float: 'Thank you to @exxonmobil for your $20 billion investment that is creating more than 45,000 manufacturing &amp; construction jobs in the USA!'",
     "output_type": "error",
     "traceback": [
      "\u001b[0;31m---------------------------------------------------------------------------\u001b[0m",
      "\u001b[0;31mValueError\u001b[0m                                Traceback (most recent call last)",
      "\u001b[0;32m<ipython-input-151-f2d1f7576755>\u001b[0m in \u001b[0;36m<module>\u001b[0;34m()\u001b[0m\n\u001b[0;32m----> 1\u001b[0;31m \u001b[0my_pred\u001b[0m \u001b[0;34m=\u001b[0m \u001b[0mrfc\u001b[0m\u001b[0;34m.\u001b[0m\u001b[0mfit\u001b[0m\u001b[0;34m(\u001b[0m\u001b[0mX_train\u001b[0m\u001b[0;34m,\u001b[0m \u001b[0my_train\u001b[0m\u001b[0;34m)\u001b[0m\u001b[0;34m.\u001b[0m\u001b[0mpredict\u001b[0m\u001b[0;34m(\u001b[0m\u001b[0mX_train\u001b[0m\u001b[0;34m)\u001b[0m\u001b[0;34m\u001b[0m\u001b[0m\n\u001b[0m",
      "\u001b[0;32m/anaconda3/lib/python3.6/site-packages/sklearn/ensemble/forest.py\u001b[0m in \u001b[0;36mfit\u001b[0;34m(self, X, y, sample_weight)\u001b[0m\n\u001b[1;32m    245\u001b[0m         \"\"\"\n\u001b[1;32m    246\u001b[0m         \u001b[0;31m# Validate or convert input data\u001b[0m\u001b[0;34m\u001b[0m\u001b[0;34m\u001b[0m\u001b[0m\n\u001b[0;32m--> 247\u001b[0;31m         \u001b[0mX\u001b[0m \u001b[0;34m=\u001b[0m \u001b[0mcheck_array\u001b[0m\u001b[0;34m(\u001b[0m\u001b[0mX\u001b[0m\u001b[0;34m,\u001b[0m \u001b[0maccept_sparse\u001b[0m\u001b[0;34m=\u001b[0m\u001b[0;34m\"csc\"\u001b[0m\u001b[0;34m,\u001b[0m \u001b[0mdtype\u001b[0m\u001b[0;34m=\u001b[0m\u001b[0mDTYPE\u001b[0m\u001b[0;34m)\u001b[0m\u001b[0;34m\u001b[0m\u001b[0m\n\u001b[0m\u001b[1;32m    248\u001b[0m         \u001b[0my\u001b[0m \u001b[0;34m=\u001b[0m \u001b[0mcheck_array\u001b[0m\u001b[0;34m(\u001b[0m\u001b[0my\u001b[0m\u001b[0;34m,\u001b[0m \u001b[0maccept_sparse\u001b[0m\u001b[0;34m=\u001b[0m\u001b[0;34m'csc'\u001b[0m\u001b[0;34m,\u001b[0m \u001b[0mensure_2d\u001b[0m\u001b[0;34m=\u001b[0m\u001b[0;32mFalse\u001b[0m\u001b[0;34m,\u001b[0m \u001b[0mdtype\u001b[0m\u001b[0;34m=\u001b[0m\u001b[0;32mNone\u001b[0m\u001b[0;34m)\u001b[0m\u001b[0;34m\u001b[0m\u001b[0m\n\u001b[1;32m    249\u001b[0m         \u001b[0;32mif\u001b[0m \u001b[0msample_weight\u001b[0m \u001b[0;32mis\u001b[0m \u001b[0;32mnot\u001b[0m \u001b[0;32mNone\u001b[0m\u001b[0;34m:\u001b[0m\u001b[0;34m\u001b[0m\u001b[0m\n",
      "\u001b[0;32m/anaconda3/lib/python3.6/site-packages/sklearn/utils/validation.py\u001b[0m in \u001b[0;36mcheck_array\u001b[0;34m(array, accept_sparse, dtype, order, copy, force_all_finite, ensure_2d, allow_nd, ensure_min_samples, ensure_min_features, warn_on_dtype, estimator)\u001b[0m\n\u001b[1;32m    431\u001b[0m                                       force_all_finite)\n\u001b[1;32m    432\u001b[0m     \u001b[0;32melse\u001b[0m\u001b[0;34m:\u001b[0m\u001b[0;34m\u001b[0m\u001b[0m\n\u001b[0;32m--> 433\u001b[0;31m         \u001b[0marray\u001b[0m \u001b[0;34m=\u001b[0m \u001b[0mnp\u001b[0m\u001b[0;34m.\u001b[0m\u001b[0marray\u001b[0m\u001b[0;34m(\u001b[0m\u001b[0marray\u001b[0m\u001b[0;34m,\u001b[0m \u001b[0mdtype\u001b[0m\u001b[0;34m=\u001b[0m\u001b[0mdtype\u001b[0m\u001b[0;34m,\u001b[0m \u001b[0morder\u001b[0m\u001b[0;34m=\u001b[0m\u001b[0morder\u001b[0m\u001b[0;34m,\u001b[0m \u001b[0mcopy\u001b[0m\u001b[0;34m=\u001b[0m\u001b[0mcopy\u001b[0m\u001b[0;34m)\u001b[0m\u001b[0;34m\u001b[0m\u001b[0m\n\u001b[0m\u001b[1;32m    434\u001b[0m \u001b[0;34m\u001b[0m\u001b[0m\n\u001b[1;32m    435\u001b[0m         \u001b[0;32mif\u001b[0m \u001b[0mensure_2d\u001b[0m\u001b[0;34m:\u001b[0m\u001b[0;34m\u001b[0m\u001b[0m\n",
      "\u001b[0;31mValueError\u001b[0m: could not convert string to float: 'Thank you to @exxonmobil for your $20 billion investment that is creating more than 45,000 manufacturing &amp; construction jobs in the USA!'"
     ]
    }
   ],
   "source": [
    "y_pred = rfc.fit(X_train, y_train).predict(X_train)"
   ]
  },
  {
   "cell_type": "code",
   "execution_count": 25,
   "metadata": {},
   "outputs": [
    {
     "data": {
      "text/plain": [
       "Counter({'HillaryClinton': 1524,\n",
       "         'justinbieber': 1428,\n",
       "         'katyperry': 1520,\n",
       "         'realDonaldTrump': 1695})"
      ]
     },
     "execution_count": 25,
     "metadata": {},
     "output_type": "execute_result"
    }
   ],
   "source": [
    "from collections import Counter\n",
    "Counter(y_pred)"
   ]
  },
  {
   "cell_type": "code",
   "execution_count": 26,
   "metadata": {},
   "outputs": [
    {
     "data": {
      "text/plain": [
       "array([[1502,   24,    4,    2],\n",
       "       [   4, 1176,   18,    3],\n",
       "       [   6,  210, 1494,    4],\n",
       "       [  12,   18,    4, 1686]])"
      ]
     },
     "execution_count": 26,
     "metadata": {},
     "output_type": "execute_result"
    }
   ],
   "source": [
    "# Taking a look at the confusion matrix\n",
    "conf_matrix = confusion_matrix(y_train, y_pred)\n",
    "conf_matrix"
   ]
  },
  {
   "cell_type": "markdown",
   "metadata": {},
   "source": [
    "#### Multinomial Logistic Regression\n",
    "\n",
    "Multinomail Logistic regression allows us to classify the tweets into multiple categories.  It is a multi-equation model"
   ]
  },
  {
   "cell_type": "code",
   "execution_count": 27,
   "metadata": {},
   "outputs": [
    {
     "name": "stdout",
     "output_type": "stream",
     "text": [
      "(6167, 1000) (6167,)\n",
      "Training set score: 0.8963839792443652\n",
      "\n",
      "Test set score: 0.8132295719844358\n"
     ]
    }
   ],
   "source": [
    "from sklearn.linear_model import LogisticRegression\n",
    "\n",
    "lr = LogisticRegression(solver='lbfgs', multi_class='multinomial')\n",
    "train = lr.fit(X_train, y_train)\n",
    "print(X_train.shape, y_train.shape)\n",
    "print('Training set score:', lr.score(X_train, y_train))\n",
    "print('\\nTest set score:', lr.score(X_test, y_test))"
   ]
  },
  {
   "cell_type": "markdown",
   "metadata": {},
   "source": [
    "Hey not bad!  The training set is pretty close to the test set.  And it is a pretty high score!  Looks like logistic regression is pretty good at predicting which tweets belong to which tweeter.  "
   ]
  },
  {
   "cell_type": "code",
   "execution_count": 28,
   "metadata": {},
   "outputs": [
    {
     "data": {
      "text/plain": [
       "array([0.71282799, 0.81623724, 0.80145985, 0.82238443, 0.78578384])"
      ]
     },
     "execution_count": 28,
     "metadata": {},
     "output_type": "execute_result"
    }
   ],
   "source": [
    "cross_val_score(lr, X, Y, cv=5)"
   ]
  },
  {
   "cell_type": "markdown",
   "metadata": {},
   "source": [
    "#### Gradient Boost"
   ]
  },
  {
   "cell_type": "code",
   "execution_count": 29,
   "metadata": {},
   "outputs": [
    {
     "name": "stdout",
     "output_type": "stream",
     "text": [
      "Training set score: 0.7814172206907735\n",
      "\n",
      "Test set score: 0.7456225680933852\n"
     ]
    }
   ],
   "source": [
    "clf = ensemble.GradientBoostingClassifier()\n",
    "train = clf.fit(X_train, y_train)\n",
    "\n",
    "print('Training set score:', clf.score(X_train, y_train))\n",
    "print('\\nTest set score:', clf.score(X_test, y_test))\n"
   ]
  },
  {
   "cell_type": "code",
   "execution_count": 30,
   "metadata": {},
   "outputs": [
    {
     "data": {
      "text/plain": [
       "array([0.61758989, 0.73164803, 0.75523114, 0.77761557, 0.74148004])"
      ]
     },
     "execution_count": 30,
     "metadata": {},
     "output_type": "execute_result"
    }
   ],
   "source": [
    "cross_val_score(clf, X, Y, cv=5)"
   ]
  },
  {
   "cell_type": "markdown",
   "metadata": {},
   "source": [
    "#### SVM"
   ]
  },
  {
   "cell_type": "code",
   "execution_count": 31,
   "metadata": {},
   "outputs": [],
   "source": [
    "from sklearn.model_selection import GridSearchCV\n",
    "from sklearn.metrics import classification_report\n",
    "from sklearn.svm import SVC\n",
    "\n",
    "# Code adapted from http://scikit-learn.org/stable/auto_examples/model_selection/plot_grid_search_digits.html\n",
    "# Set the parameters by cross-validation\n",
    "def gridsearch(X_train, y_train, X_test, y_test):\n",
    "    \n",
    "    tuned_parameters = [{'kernel': ['rbf'], 'gamma': [1e-3, 1e-4, 1e-5, 1e-6, 1e-7, 1e-8, 1e-9],\n",
    "                     'C': [1, 10, 100, 1000, 10000]}]\n",
    "\n",
    "    scores = ['precision', 'recall']\n",
    "\n",
    "    for score in scores:\n",
    "        print(\"# Tuning hyper-parameters for %s\" % score)\n",
    "        print()\n",
    "\n",
    "        clf = GridSearchCV(SVC(), tuned_parameters, cv=5,\n",
    "                           scoring='%s_macro' % score)\n",
    "        clf.fit(X_train, y_train)\n",
    "\n",
    "        print(\"Best parameters set found on development set:\")\n",
    "        print()\n",
    "        print(clf.best_params_)\n",
    "        print()\n",
    "        print(\"Grid scores on development set:\")\n",
    "        print()\n",
    "        means = clf.cv_results_['mean_test_score']\n",
    "        stds = clf.cv_results_['std_test_score']\n",
    "        for mean, std, params in zip(means, stds, clf.cv_results_['params']):\n",
    "            print(\"%0.3f (+/-%0.03f) for %r\"\n",
    "                  % (mean, std * 2, params))\n",
    "        print()\n",
    "\n",
    "        print(\"Detailed classification report:\")\n",
    "        print()\n",
    "        print(\"The model is trained on the full development set.\")\n",
    "        print(\"The scores are computed on the full evaluation set.\")\n",
    "        print()\n",
    "        y_true, y_pred = y_test, clf.predict(X_test)\n",
    "        print(classification_report(y_true, y_pred))\n",
    "        print()"
   ]
  },
  {
   "cell_type": "code",
   "execution_count": 32,
   "metadata": {},
   "outputs": [],
   "source": [
    "# To speed up production, we are going to take the X and Y test dataset, split it for testing and training\n",
    "#  and use grid search on that.  A smaller dataset will hopefully make this run faster.\n",
    "X2_train, X2_test, y2_train, y2_test = train_test_split(X_test, y_test, test_size=0.4,\n",
    "                                                    random_state=0, stratify=y_test)"
   ]
  },
  {
   "cell_type": "code",
   "execution_count": 33,
   "metadata": {},
   "outputs": [
    {
     "data": {
      "text/plain": [
       "realDonaldTrump    0.278881\n",
       "katyperry          0.277665\n",
       "HillaryClinton     0.248480\n",
       "justinbieber       0.194974\n",
       "Name: text_source, dtype: float64"
      ]
     },
     "execution_count": 33,
     "metadata": {},
     "output_type": "execute_result"
    }
   ],
   "source": [
    "y2_train.value_counts(1)"
   ]
  },
  {
   "cell_type": "code",
   "execution_count": 34,
   "metadata": {},
   "outputs": [
    {
     "name": "stdout",
     "output_type": "stream",
     "text": [
      "# Tuning hyper-parameters for precision\n",
      "\n"
     ]
    },
    {
     "name": "stderr",
     "output_type": "stream",
     "text": [
      "/anaconda3/lib/python3.6/site-packages/sklearn/metrics/classification.py:1135: UndefinedMetricWarning: Precision is ill-defined and being set to 0.0 in labels with no predicted samples.\n",
      "  'precision', 'predicted', average, warn_for)\n",
      "/anaconda3/lib/python3.6/site-packages/sklearn/metrics/classification.py:1135: UndefinedMetricWarning: Precision is ill-defined and being set to 0.0 in labels with no predicted samples.\n",
      "  'precision', 'predicted', average, warn_for)\n",
      "/anaconda3/lib/python3.6/site-packages/sklearn/metrics/classification.py:1135: UndefinedMetricWarning: Precision is ill-defined and being set to 0.0 in labels with no predicted samples.\n",
      "  'precision', 'predicted', average, warn_for)\n",
      "/anaconda3/lib/python3.6/site-packages/sklearn/metrics/classification.py:1135: UndefinedMetricWarning: Precision is ill-defined and being set to 0.0 in labels with no predicted samples.\n",
      "  'precision', 'predicted', average, warn_for)\n",
      "/anaconda3/lib/python3.6/site-packages/sklearn/metrics/classification.py:1135: UndefinedMetricWarning: Precision is ill-defined and being set to 0.0 in labels with no predicted samples.\n",
      "  'precision', 'predicted', average, warn_for)\n",
      "/anaconda3/lib/python3.6/site-packages/sklearn/metrics/classification.py:1135: UndefinedMetricWarning: Precision is ill-defined and being set to 0.0 in labels with no predicted samples.\n",
      "  'precision', 'predicted', average, warn_for)\n",
      "/anaconda3/lib/python3.6/site-packages/sklearn/metrics/classification.py:1135: UndefinedMetricWarning: Precision is ill-defined and being set to 0.0 in labels with no predicted samples.\n",
      "  'precision', 'predicted', average, warn_for)\n",
      "/anaconda3/lib/python3.6/site-packages/sklearn/metrics/classification.py:1135: UndefinedMetricWarning: Precision is ill-defined and being set to 0.0 in labels with no predicted samples.\n",
      "  'precision', 'predicted', average, warn_for)\n",
      "/anaconda3/lib/python3.6/site-packages/sklearn/metrics/classification.py:1135: UndefinedMetricWarning: Precision is ill-defined and being set to 0.0 in labels with no predicted samples.\n",
      "  'precision', 'predicted', average, warn_for)\n",
      "/anaconda3/lib/python3.6/site-packages/sklearn/metrics/classification.py:1135: UndefinedMetricWarning: Precision is ill-defined and being set to 0.0 in labels with no predicted samples.\n",
      "  'precision', 'predicted', average, warn_for)\n",
      "/anaconda3/lib/python3.6/site-packages/sklearn/metrics/classification.py:1135: UndefinedMetricWarning: Precision is ill-defined and being set to 0.0 in labels with no predicted samples.\n",
      "  'precision', 'predicted', average, warn_for)\n",
      "/anaconda3/lib/python3.6/site-packages/sklearn/metrics/classification.py:1135: UndefinedMetricWarning: Precision is ill-defined and being set to 0.0 in labels with no predicted samples.\n",
      "  'precision', 'predicted', average, warn_for)\n",
      "/anaconda3/lib/python3.6/site-packages/sklearn/metrics/classification.py:1135: UndefinedMetricWarning: Precision is ill-defined and being set to 0.0 in labels with no predicted samples.\n",
      "  'precision', 'predicted', average, warn_for)\n",
      "/anaconda3/lib/python3.6/site-packages/sklearn/metrics/classification.py:1135: UndefinedMetricWarning: Precision is ill-defined and being set to 0.0 in labels with no predicted samples.\n",
      "  'precision', 'predicted', average, warn_for)\n",
      "/anaconda3/lib/python3.6/site-packages/sklearn/metrics/classification.py:1135: UndefinedMetricWarning: Precision is ill-defined and being set to 0.0 in labels with no predicted samples.\n",
      "  'precision', 'predicted', average, warn_for)\n",
      "/anaconda3/lib/python3.6/site-packages/sklearn/metrics/classification.py:1135: UndefinedMetricWarning: Precision is ill-defined and being set to 0.0 in labels with no predicted samples.\n",
      "  'precision', 'predicted', average, warn_for)\n",
      "/anaconda3/lib/python3.6/site-packages/sklearn/metrics/classification.py:1135: UndefinedMetricWarning: Precision is ill-defined and being set to 0.0 in labels with no predicted samples.\n",
      "  'precision', 'predicted', average, warn_for)\n",
      "/anaconda3/lib/python3.6/site-packages/sklearn/metrics/classification.py:1135: UndefinedMetricWarning: Precision is ill-defined and being set to 0.0 in labels with no predicted samples.\n",
      "  'precision', 'predicted', average, warn_for)\n",
      "/anaconda3/lib/python3.6/site-packages/sklearn/metrics/classification.py:1135: UndefinedMetricWarning: Precision is ill-defined and being set to 0.0 in labels with no predicted samples.\n",
      "  'precision', 'predicted', average, warn_for)\n",
      "/anaconda3/lib/python3.6/site-packages/sklearn/metrics/classification.py:1135: UndefinedMetricWarning: Precision is ill-defined and being set to 0.0 in labels with no predicted samples.\n",
      "  'precision', 'predicted', average, warn_for)\n",
      "/anaconda3/lib/python3.6/site-packages/sklearn/metrics/classification.py:1135: UndefinedMetricWarning: Precision is ill-defined and being set to 0.0 in labels with no predicted samples.\n",
      "  'precision', 'predicted', average, warn_for)\n",
      "/anaconda3/lib/python3.6/site-packages/sklearn/metrics/classification.py:1135: UndefinedMetricWarning: Precision is ill-defined and being set to 0.0 in labels with no predicted samples.\n",
      "  'precision', 'predicted', average, warn_for)\n",
      "/anaconda3/lib/python3.6/site-packages/sklearn/metrics/classification.py:1135: UndefinedMetricWarning: Precision is ill-defined and being set to 0.0 in labels with no predicted samples.\n",
      "  'precision', 'predicted', average, warn_for)\n",
      "/anaconda3/lib/python3.6/site-packages/sklearn/metrics/classification.py:1135: UndefinedMetricWarning: Precision is ill-defined and being set to 0.0 in labels with no predicted samples.\n",
      "  'precision', 'predicted', average, warn_for)\n",
      "/anaconda3/lib/python3.6/site-packages/sklearn/metrics/classification.py:1135: UndefinedMetricWarning: Precision is ill-defined and being set to 0.0 in labels with no predicted samples.\n",
      "  'precision', 'predicted', average, warn_for)\n",
      "/anaconda3/lib/python3.6/site-packages/sklearn/metrics/classification.py:1135: UndefinedMetricWarning: Precision is ill-defined and being set to 0.0 in labels with no predicted samples.\n",
      "  'precision', 'predicted', average, warn_for)\n",
      "/anaconda3/lib/python3.6/site-packages/sklearn/metrics/classification.py:1135: UndefinedMetricWarning: Precision is ill-defined and being set to 0.0 in labels with no predicted samples.\n",
      "  'precision', 'predicted', average, warn_for)\n",
      "/anaconda3/lib/python3.6/site-packages/sklearn/metrics/classification.py:1135: UndefinedMetricWarning: Precision is ill-defined and being set to 0.0 in labels with no predicted samples.\n",
      "  'precision', 'predicted', average, warn_for)\n",
      "/anaconda3/lib/python3.6/site-packages/sklearn/metrics/classification.py:1135: UndefinedMetricWarning: Precision is ill-defined and being set to 0.0 in labels with no predicted samples.\n",
      "  'precision', 'predicted', average, warn_for)\n",
      "/anaconda3/lib/python3.6/site-packages/sklearn/metrics/classification.py:1135: UndefinedMetricWarning: Precision is ill-defined and being set to 0.0 in labels with no predicted samples.\n",
      "  'precision', 'predicted', average, warn_for)\n",
      "/anaconda3/lib/python3.6/site-packages/sklearn/metrics/classification.py:1135: UndefinedMetricWarning: Precision is ill-defined and being set to 0.0 in labels with no predicted samples.\n",
      "  'precision', 'predicted', average, warn_for)\n",
      "/anaconda3/lib/python3.6/site-packages/sklearn/metrics/classification.py:1135: UndefinedMetricWarning: Precision is ill-defined and being set to 0.0 in labels with no predicted samples.\n",
      "  'precision', 'predicted', average, warn_for)\n",
      "/anaconda3/lib/python3.6/site-packages/sklearn/metrics/classification.py:1135: UndefinedMetricWarning: Precision is ill-defined and being set to 0.0 in labels with no predicted samples.\n",
      "  'precision', 'predicted', average, warn_for)\n",
      "/anaconda3/lib/python3.6/site-packages/sklearn/metrics/classification.py:1135: UndefinedMetricWarning: Precision is ill-defined and being set to 0.0 in labels with no predicted samples.\n",
      "  'precision', 'predicted', average, warn_for)\n",
      "/anaconda3/lib/python3.6/site-packages/sklearn/metrics/classification.py:1135: UndefinedMetricWarning: Precision is ill-defined and being set to 0.0 in labels with no predicted samples.\n",
      "  'precision', 'predicted', average, warn_for)\n",
      "/anaconda3/lib/python3.6/site-packages/sklearn/metrics/classification.py:1135: UndefinedMetricWarning: Precision is ill-defined and being set to 0.0 in labels with no predicted samples.\n",
      "  'precision', 'predicted', average, warn_for)\n"
     ]
    },
    {
     "name": "stderr",
     "output_type": "stream",
     "text": [
      "/anaconda3/lib/python3.6/site-packages/sklearn/metrics/classification.py:1135: UndefinedMetricWarning: Precision is ill-defined and being set to 0.0 in labels with no predicted samples.\n",
      "  'precision', 'predicted', average, warn_for)\n",
      "/anaconda3/lib/python3.6/site-packages/sklearn/metrics/classification.py:1135: UndefinedMetricWarning: Precision is ill-defined and being set to 0.0 in labels with no predicted samples.\n",
      "  'precision', 'predicted', average, warn_for)\n",
      "/anaconda3/lib/python3.6/site-packages/sklearn/metrics/classification.py:1135: UndefinedMetricWarning: Precision is ill-defined and being set to 0.0 in labels with no predicted samples.\n",
      "  'precision', 'predicted', average, warn_for)\n",
      "/anaconda3/lib/python3.6/site-packages/sklearn/metrics/classification.py:1135: UndefinedMetricWarning: Precision is ill-defined and being set to 0.0 in labels with no predicted samples.\n",
      "  'precision', 'predicted', average, warn_for)\n",
      "/anaconda3/lib/python3.6/site-packages/sklearn/metrics/classification.py:1135: UndefinedMetricWarning: Precision is ill-defined and being set to 0.0 in labels with no predicted samples.\n",
      "  'precision', 'predicted', average, warn_for)\n",
      "/anaconda3/lib/python3.6/site-packages/sklearn/metrics/classification.py:1135: UndefinedMetricWarning: Precision is ill-defined and being set to 0.0 in labels with no predicted samples.\n",
      "  'precision', 'predicted', average, warn_for)\n",
      "/anaconda3/lib/python3.6/site-packages/sklearn/metrics/classification.py:1135: UndefinedMetricWarning: Precision is ill-defined and being set to 0.0 in labels with no predicted samples.\n",
      "  'precision', 'predicted', average, warn_for)\n",
      "/anaconda3/lib/python3.6/site-packages/sklearn/metrics/classification.py:1135: UndefinedMetricWarning: Precision is ill-defined and being set to 0.0 in labels with no predicted samples.\n",
      "  'precision', 'predicted', average, warn_for)\n",
      "/anaconda3/lib/python3.6/site-packages/sklearn/metrics/classification.py:1135: UndefinedMetricWarning: Precision is ill-defined and being set to 0.0 in labels with no predicted samples.\n",
      "  'precision', 'predicted', average, warn_for)\n",
      "/anaconda3/lib/python3.6/site-packages/sklearn/metrics/classification.py:1135: UndefinedMetricWarning: Precision is ill-defined and being set to 0.0 in labels with no predicted samples.\n",
      "  'precision', 'predicted', average, warn_for)\n",
      "/anaconda3/lib/python3.6/site-packages/sklearn/metrics/classification.py:1135: UndefinedMetricWarning: Precision is ill-defined and being set to 0.0 in labels with no predicted samples.\n",
      "  'precision', 'predicted', average, warn_for)\n",
      "/anaconda3/lib/python3.6/site-packages/sklearn/metrics/classification.py:1135: UndefinedMetricWarning: Precision is ill-defined and being set to 0.0 in labels with no predicted samples.\n",
      "  'precision', 'predicted', average, warn_for)\n",
      "/anaconda3/lib/python3.6/site-packages/sklearn/metrics/classification.py:1135: UndefinedMetricWarning: Precision is ill-defined and being set to 0.0 in labels with no predicted samples.\n",
      "  'precision', 'predicted', average, warn_for)\n",
      "/anaconda3/lib/python3.6/site-packages/sklearn/metrics/classification.py:1135: UndefinedMetricWarning: Precision is ill-defined and being set to 0.0 in labels with no predicted samples.\n",
      "  'precision', 'predicted', average, warn_for)\n",
      "/anaconda3/lib/python3.6/site-packages/sklearn/metrics/classification.py:1135: UndefinedMetricWarning: Precision is ill-defined and being set to 0.0 in labels with no predicted samples.\n",
      "  'precision', 'predicted', average, warn_for)\n",
      "/anaconda3/lib/python3.6/site-packages/sklearn/metrics/classification.py:1135: UndefinedMetricWarning: Precision is ill-defined and being set to 0.0 in labels with no predicted samples.\n",
      "  'precision', 'predicted', average, warn_for)\n",
      "/anaconda3/lib/python3.6/site-packages/sklearn/metrics/classification.py:1135: UndefinedMetricWarning: Precision is ill-defined and being set to 0.0 in labels with no predicted samples.\n",
      "  'precision', 'predicted', average, warn_for)\n",
      "/anaconda3/lib/python3.6/site-packages/sklearn/metrics/classification.py:1135: UndefinedMetricWarning: Precision is ill-defined and being set to 0.0 in labels with no predicted samples.\n",
      "  'precision', 'predicted', average, warn_for)\n",
      "/anaconda3/lib/python3.6/site-packages/sklearn/metrics/classification.py:1135: UndefinedMetricWarning: Precision is ill-defined and being set to 0.0 in labels with no predicted samples.\n",
      "  'precision', 'predicted', average, warn_for)\n",
      "/anaconda3/lib/python3.6/site-packages/sklearn/metrics/classification.py:1135: UndefinedMetricWarning: Precision is ill-defined and being set to 0.0 in labels with no predicted samples.\n",
      "  'precision', 'predicted', average, warn_for)\n",
      "/anaconda3/lib/python3.6/site-packages/sklearn/metrics/classification.py:1135: UndefinedMetricWarning: Precision is ill-defined and being set to 0.0 in labels with no predicted samples.\n",
      "  'precision', 'predicted', average, warn_for)\n",
      "/anaconda3/lib/python3.6/site-packages/sklearn/metrics/classification.py:1135: UndefinedMetricWarning: Precision is ill-defined and being set to 0.0 in labels with no predicted samples.\n",
      "  'precision', 'predicted', average, warn_for)\n",
      "/anaconda3/lib/python3.6/site-packages/sklearn/metrics/classification.py:1135: UndefinedMetricWarning: Precision is ill-defined and being set to 0.0 in labels with no predicted samples.\n",
      "  'precision', 'predicted', average, warn_for)\n",
      "/anaconda3/lib/python3.6/site-packages/sklearn/metrics/classification.py:1135: UndefinedMetricWarning: Precision is ill-defined and being set to 0.0 in labels with no predicted samples.\n",
      "  'precision', 'predicted', average, warn_for)\n",
      "/anaconda3/lib/python3.6/site-packages/sklearn/metrics/classification.py:1135: UndefinedMetricWarning: Precision is ill-defined and being set to 0.0 in labels with no predicted samples.\n",
      "  'precision', 'predicted', average, warn_for)\n",
      "/anaconda3/lib/python3.6/site-packages/sklearn/metrics/classification.py:1135: UndefinedMetricWarning: Precision is ill-defined and being set to 0.0 in labels with no predicted samples.\n",
      "  'precision', 'predicted', average, warn_for)\n",
      "/anaconda3/lib/python3.6/site-packages/sklearn/metrics/classification.py:1135: UndefinedMetricWarning: Precision is ill-defined and being set to 0.0 in labels with no predicted samples.\n",
      "  'precision', 'predicted', average, warn_for)\n",
      "/anaconda3/lib/python3.6/site-packages/sklearn/metrics/classification.py:1135: UndefinedMetricWarning: Precision is ill-defined and being set to 0.0 in labels with no predicted samples.\n",
      "  'precision', 'predicted', average, warn_for)\n",
      "/anaconda3/lib/python3.6/site-packages/sklearn/metrics/classification.py:1135: UndefinedMetricWarning: Precision is ill-defined and being set to 0.0 in labels with no predicted samples.\n",
      "  'precision', 'predicted', average, warn_for)\n",
      "/anaconda3/lib/python3.6/site-packages/sklearn/metrics/classification.py:1135: UndefinedMetricWarning: Precision is ill-defined and being set to 0.0 in labels with no predicted samples.\n",
      "  'precision', 'predicted', average, warn_for)\n",
      "/anaconda3/lib/python3.6/site-packages/sklearn/metrics/classification.py:1135: UndefinedMetricWarning: Precision is ill-defined and being set to 0.0 in labels with no predicted samples.\n",
      "  'precision', 'predicted', average, warn_for)\n",
      "/anaconda3/lib/python3.6/site-packages/sklearn/metrics/classification.py:1135: UndefinedMetricWarning: Precision is ill-defined and being set to 0.0 in labels with no predicted samples.\n",
      "  'precision', 'predicted', average, warn_for)\n",
      "/anaconda3/lib/python3.6/site-packages/sklearn/metrics/classification.py:1135: UndefinedMetricWarning: Precision is ill-defined and being set to 0.0 in labels with no predicted samples.\n",
      "  'precision', 'predicted', average, warn_for)\n",
      "/anaconda3/lib/python3.6/site-packages/sklearn/metrics/classification.py:1135: UndefinedMetricWarning: Precision is ill-defined and being set to 0.0 in labels with no predicted samples.\n",
      "  'precision', 'predicted', average, warn_for)\n",
      "/anaconda3/lib/python3.6/site-packages/sklearn/metrics/classification.py:1135: UndefinedMetricWarning: Precision is ill-defined and being set to 0.0 in labels with no predicted samples.\n",
      "  'precision', 'predicted', average, warn_for)\n",
      "/anaconda3/lib/python3.6/site-packages/sklearn/metrics/classification.py:1135: UndefinedMetricWarning: Precision is ill-defined and being set to 0.0 in labels with no predicted samples.\n",
      "  'precision', 'predicted', average, warn_for)\n"
     ]
    },
    {
     "name": "stderr",
     "output_type": "stream",
     "text": [
      "/anaconda3/lib/python3.6/site-packages/sklearn/metrics/classification.py:1135: UndefinedMetricWarning: Precision is ill-defined and being set to 0.0 in labels with no predicted samples.\n",
      "  'precision', 'predicted', average, warn_for)\n",
      "/anaconda3/lib/python3.6/site-packages/sklearn/metrics/classification.py:1135: UndefinedMetricWarning: Precision is ill-defined and being set to 0.0 in labels with no predicted samples.\n",
      "  'precision', 'predicted', average, warn_for)\n",
      "/anaconda3/lib/python3.6/site-packages/sklearn/metrics/classification.py:1135: UndefinedMetricWarning: Precision is ill-defined and being set to 0.0 in labels with no predicted samples.\n",
      "  'precision', 'predicted', average, warn_for)\n",
      "/anaconda3/lib/python3.6/site-packages/sklearn/metrics/classification.py:1135: UndefinedMetricWarning: Precision is ill-defined and being set to 0.0 in labels with no predicted samples.\n",
      "  'precision', 'predicted', average, warn_for)\n",
      "/anaconda3/lib/python3.6/site-packages/sklearn/metrics/classification.py:1135: UndefinedMetricWarning: Precision is ill-defined and being set to 0.0 in labels with no predicted samples.\n",
      "  'precision', 'predicted', average, warn_for)\n",
      "/anaconda3/lib/python3.6/site-packages/sklearn/metrics/classification.py:1135: UndefinedMetricWarning: Precision is ill-defined and being set to 0.0 in labels with no predicted samples.\n",
      "  'precision', 'predicted', average, warn_for)\n",
      "/anaconda3/lib/python3.6/site-packages/sklearn/metrics/classification.py:1135: UndefinedMetricWarning: Precision is ill-defined and being set to 0.0 in labels with no predicted samples.\n",
      "  'precision', 'predicted', average, warn_for)\n",
      "/anaconda3/lib/python3.6/site-packages/sklearn/metrics/classification.py:1135: UndefinedMetricWarning: Precision is ill-defined and being set to 0.0 in labels with no predicted samples.\n",
      "  'precision', 'predicted', average, warn_for)\n",
      "/anaconda3/lib/python3.6/site-packages/sklearn/metrics/classification.py:1135: UndefinedMetricWarning: Precision is ill-defined and being set to 0.0 in labels with no predicted samples.\n",
      "  'precision', 'predicted', average, warn_for)\n",
      "/anaconda3/lib/python3.6/site-packages/sklearn/metrics/classification.py:1135: UndefinedMetricWarning: Precision is ill-defined and being set to 0.0 in labels with no predicted samples.\n",
      "  'precision', 'predicted', average, warn_for)\n",
      "/anaconda3/lib/python3.6/site-packages/sklearn/metrics/classification.py:1135: UndefinedMetricWarning: Precision is ill-defined and being set to 0.0 in labels with no predicted samples.\n",
      "  'precision', 'predicted', average, warn_for)\n",
      "/anaconda3/lib/python3.6/site-packages/sklearn/metrics/classification.py:1135: UndefinedMetricWarning: Precision is ill-defined and being set to 0.0 in labels with no predicted samples.\n",
      "  'precision', 'predicted', average, warn_for)\n",
      "/anaconda3/lib/python3.6/site-packages/sklearn/metrics/classification.py:1135: UndefinedMetricWarning: Precision is ill-defined and being set to 0.0 in labels with no predicted samples.\n",
      "  'precision', 'predicted', average, warn_for)\n",
      "/anaconda3/lib/python3.6/site-packages/sklearn/metrics/classification.py:1135: UndefinedMetricWarning: Precision is ill-defined and being set to 0.0 in labels with no predicted samples.\n",
      "  'precision', 'predicted', average, warn_for)\n",
      "/anaconda3/lib/python3.6/site-packages/sklearn/metrics/classification.py:1135: UndefinedMetricWarning: Precision is ill-defined and being set to 0.0 in labels with no predicted samples.\n",
      "  'precision', 'predicted', average, warn_for)\n",
      "/anaconda3/lib/python3.6/site-packages/sklearn/metrics/classification.py:1135: UndefinedMetricWarning: Precision is ill-defined and being set to 0.0 in labels with no predicted samples.\n",
      "  'precision', 'predicted', average, warn_for)\n",
      "/anaconda3/lib/python3.6/site-packages/sklearn/metrics/classification.py:1135: UndefinedMetricWarning: Precision is ill-defined and being set to 0.0 in labels with no predicted samples.\n",
      "  'precision', 'predicted', average, warn_for)\n",
      "/anaconda3/lib/python3.6/site-packages/sklearn/metrics/classification.py:1135: UndefinedMetricWarning: Precision is ill-defined and being set to 0.0 in labels with no predicted samples.\n",
      "  'precision', 'predicted', average, warn_for)\n",
      "/anaconda3/lib/python3.6/site-packages/sklearn/metrics/classification.py:1135: UndefinedMetricWarning: Precision is ill-defined and being set to 0.0 in labels with no predicted samples.\n",
      "  'precision', 'predicted', average, warn_for)\n",
      "/anaconda3/lib/python3.6/site-packages/sklearn/metrics/classification.py:1135: UndefinedMetricWarning: Precision is ill-defined and being set to 0.0 in labels with no predicted samples.\n",
      "  'precision', 'predicted', average, warn_for)\n",
      "/anaconda3/lib/python3.6/site-packages/sklearn/metrics/classification.py:1135: UndefinedMetricWarning: Precision is ill-defined and being set to 0.0 in labels with no predicted samples.\n",
      "  'precision', 'predicted', average, warn_for)\n",
      "/anaconda3/lib/python3.6/site-packages/sklearn/metrics/classification.py:1135: UndefinedMetricWarning: Precision is ill-defined and being set to 0.0 in labels with no predicted samples.\n",
      "  'precision', 'predicted', average, warn_for)\n",
      "/anaconda3/lib/python3.6/site-packages/sklearn/metrics/classification.py:1135: UndefinedMetricWarning: Precision is ill-defined and being set to 0.0 in labels with no predicted samples.\n",
      "  'precision', 'predicted', average, warn_for)\n",
      "/anaconda3/lib/python3.6/site-packages/sklearn/metrics/classification.py:1135: UndefinedMetricWarning: Precision is ill-defined and being set to 0.0 in labels with no predicted samples.\n",
      "  'precision', 'predicted', average, warn_for)\n",
      "/anaconda3/lib/python3.6/site-packages/sklearn/metrics/classification.py:1135: UndefinedMetricWarning: Precision is ill-defined and being set to 0.0 in labels with no predicted samples.\n",
      "  'precision', 'predicted', average, warn_for)\n",
      "/anaconda3/lib/python3.6/site-packages/sklearn/metrics/classification.py:1135: UndefinedMetricWarning: Precision is ill-defined and being set to 0.0 in labels with no predicted samples.\n",
      "  'precision', 'predicted', average, warn_for)\n",
      "/anaconda3/lib/python3.6/site-packages/sklearn/metrics/classification.py:1135: UndefinedMetricWarning: Precision is ill-defined and being set to 0.0 in labels with no predicted samples.\n",
      "  'precision', 'predicted', average, warn_for)\n",
      "/anaconda3/lib/python3.6/site-packages/sklearn/metrics/classification.py:1135: UndefinedMetricWarning: Precision is ill-defined and being set to 0.0 in labels with no predicted samples.\n",
      "  'precision', 'predicted', average, warn_for)\n",
      "/anaconda3/lib/python3.6/site-packages/sklearn/metrics/classification.py:1135: UndefinedMetricWarning: Precision is ill-defined and being set to 0.0 in labels with no predicted samples.\n",
      "  'precision', 'predicted', average, warn_for)\n",
      "/anaconda3/lib/python3.6/site-packages/sklearn/metrics/classification.py:1135: UndefinedMetricWarning: Precision is ill-defined and being set to 0.0 in labels with no predicted samples.\n",
      "  'precision', 'predicted', average, warn_for)\n",
      "/anaconda3/lib/python3.6/site-packages/sklearn/metrics/classification.py:1135: UndefinedMetricWarning: Precision is ill-defined and being set to 0.0 in labels with no predicted samples.\n",
      "  'precision', 'predicted', average, warn_for)\n",
      "/anaconda3/lib/python3.6/site-packages/sklearn/metrics/classification.py:1135: UndefinedMetricWarning: Precision is ill-defined and being set to 0.0 in labels with no predicted samples.\n",
      "  'precision', 'predicted', average, warn_for)\n",
      "/anaconda3/lib/python3.6/site-packages/sklearn/metrics/classification.py:1135: UndefinedMetricWarning: Precision is ill-defined and being set to 0.0 in labels with no predicted samples.\n",
      "  'precision', 'predicted', average, warn_for)\n",
      "/anaconda3/lib/python3.6/site-packages/sklearn/metrics/classification.py:1135: UndefinedMetricWarning: Precision is ill-defined and being set to 0.0 in labels with no predicted samples.\n",
      "  'precision', 'predicted', average, warn_for)\n",
      "/anaconda3/lib/python3.6/site-packages/sklearn/metrics/classification.py:1135: UndefinedMetricWarning: Precision is ill-defined and being set to 0.0 in labels with no predicted samples.\n",
      "  'precision', 'predicted', average, warn_for)\n",
      "/anaconda3/lib/python3.6/site-packages/sklearn/metrics/classification.py:1135: UndefinedMetricWarning: Precision is ill-defined and being set to 0.0 in labels with no predicted samples.\n",
      "  'precision', 'predicted', average, warn_for)\n"
     ]
    },
    {
     "name": "stderr",
     "output_type": "stream",
     "text": [
      "/anaconda3/lib/python3.6/site-packages/sklearn/metrics/classification.py:1135: UndefinedMetricWarning: Precision is ill-defined and being set to 0.0 in labels with no predicted samples.\n",
      "  'precision', 'predicted', average, warn_for)\n",
      "/anaconda3/lib/python3.6/site-packages/sklearn/metrics/classification.py:1135: UndefinedMetricWarning: Precision is ill-defined and being set to 0.0 in labels with no predicted samples.\n",
      "  'precision', 'predicted', average, warn_for)\n",
      "/anaconda3/lib/python3.6/site-packages/sklearn/metrics/classification.py:1135: UndefinedMetricWarning: Precision is ill-defined and being set to 0.0 in labels with no predicted samples.\n",
      "  'precision', 'predicted', average, warn_for)\n",
      "/anaconda3/lib/python3.6/site-packages/sklearn/metrics/classification.py:1135: UndefinedMetricWarning: Precision is ill-defined and being set to 0.0 in labels with no predicted samples.\n",
      "  'precision', 'predicted', average, warn_for)\n",
      "/anaconda3/lib/python3.6/site-packages/sklearn/metrics/classification.py:1135: UndefinedMetricWarning: Precision is ill-defined and being set to 0.0 in labels with no predicted samples.\n",
      "  'precision', 'predicted', average, warn_for)\n",
      "/anaconda3/lib/python3.6/site-packages/sklearn/metrics/classification.py:1135: UndefinedMetricWarning: Precision is ill-defined and being set to 0.0 in labels with no predicted samples.\n",
      "  'precision', 'predicted', average, warn_for)\n",
      "/anaconda3/lib/python3.6/site-packages/sklearn/metrics/classification.py:1135: UndefinedMetricWarning: Precision is ill-defined and being set to 0.0 in labels with no predicted samples.\n",
      "  'precision', 'predicted', average, warn_for)\n",
      "/anaconda3/lib/python3.6/site-packages/sklearn/metrics/classification.py:1135: UndefinedMetricWarning: Precision is ill-defined and being set to 0.0 in labels with no predicted samples.\n",
      "  'precision', 'predicted', average, warn_for)\n",
      "/anaconda3/lib/python3.6/site-packages/sklearn/metrics/classification.py:1135: UndefinedMetricWarning: Precision is ill-defined and being set to 0.0 in labels with no predicted samples.\n",
      "  'precision', 'predicted', average, warn_for)\n",
      "/anaconda3/lib/python3.6/site-packages/sklearn/metrics/classification.py:1135: UndefinedMetricWarning: Precision is ill-defined and being set to 0.0 in labels with no predicted samples.\n",
      "  'precision', 'predicted', average, warn_for)\n",
      "/anaconda3/lib/python3.6/site-packages/sklearn/metrics/classification.py:1135: UndefinedMetricWarning: Precision is ill-defined and being set to 0.0 in labels with no predicted samples.\n",
      "  'precision', 'predicted', average, warn_for)\n",
      "/anaconda3/lib/python3.6/site-packages/sklearn/metrics/classification.py:1135: UndefinedMetricWarning: Precision is ill-defined and being set to 0.0 in labels with no predicted samples.\n",
      "  'precision', 'predicted', average, warn_for)\n",
      "/anaconda3/lib/python3.6/site-packages/sklearn/metrics/classification.py:1135: UndefinedMetricWarning: Precision is ill-defined and being set to 0.0 in labels with no predicted samples.\n",
      "  'precision', 'predicted', average, warn_for)\n",
      "/anaconda3/lib/python3.6/site-packages/sklearn/metrics/classification.py:1135: UndefinedMetricWarning: Precision is ill-defined and being set to 0.0 in labels with no predicted samples.\n",
      "  'precision', 'predicted', average, warn_for)\n",
      "/anaconda3/lib/python3.6/site-packages/sklearn/metrics/classification.py:1135: UndefinedMetricWarning: Precision is ill-defined and being set to 0.0 in labels with no predicted samples.\n",
      "  'precision', 'predicted', average, warn_for)\n",
      "/anaconda3/lib/python3.6/site-packages/sklearn/metrics/classification.py:1135: UndefinedMetricWarning: Precision is ill-defined and being set to 0.0 in labels with no predicted samples.\n",
      "  'precision', 'predicted', average, warn_for)\n",
      "/anaconda3/lib/python3.6/site-packages/sklearn/metrics/classification.py:1135: UndefinedMetricWarning: Precision is ill-defined and being set to 0.0 in labels with no predicted samples.\n",
      "  'precision', 'predicted', average, warn_for)\n"
     ]
    },
    {
     "name": "stdout",
     "output_type": "stream",
     "text": [
      "Best parameters set found on development set:\n",
      "\n",
      "{'C': 100, 'gamma': 0.001, 'kernel': 'rbf'}\n",
      "\n",
      "Grid scores on development set:\n",
      "\n",
      "0.320 (+/-0.000) for {'C': 1, 'gamma': 0.001, 'kernel': 'rbf'}\n",
      "0.070 (+/-0.000) for {'C': 1, 'gamma': 0.0001, 'kernel': 'rbf'}\n",
      "0.070 (+/-0.000) for {'C': 1, 'gamma': 1e-05, 'kernel': 'rbf'}\n",
      "0.070 (+/-0.000) for {'C': 1, 'gamma': 1e-06, 'kernel': 'rbf'}\n",
      "0.070 (+/-0.000) for {'C': 1, 'gamma': 1e-07, 'kernel': 'rbf'}\n",
      "0.070 (+/-0.000) for {'C': 1, 'gamma': 1e-08, 'kernel': 'rbf'}\n",
      "0.070 (+/-0.000) for {'C': 1, 'gamma': 1e-09, 'kernel': 'rbf'}\n",
      "0.732 (+/-0.057) for {'C': 10, 'gamma': 0.001, 'kernel': 'rbf'}\n",
      "0.320 (+/-0.000) for {'C': 10, 'gamma': 0.0001, 'kernel': 'rbf'}\n",
      "0.070 (+/-0.000) for {'C': 10, 'gamma': 1e-05, 'kernel': 'rbf'}\n",
      "0.070 (+/-0.000) for {'C': 10, 'gamma': 1e-06, 'kernel': 'rbf'}\n",
      "0.070 (+/-0.000) for {'C': 10, 'gamma': 1e-07, 'kernel': 'rbf'}\n",
      "0.070 (+/-0.000) for {'C': 10, 'gamma': 1e-08, 'kernel': 'rbf'}\n",
      "0.070 (+/-0.000) for {'C': 10, 'gamma': 1e-09, 'kernel': 'rbf'}\n",
      "0.742 (+/-0.033) for {'C': 100, 'gamma': 0.001, 'kernel': 'rbf'}\n",
      "0.731 (+/-0.060) for {'C': 100, 'gamma': 0.0001, 'kernel': 'rbf'}\n",
      "0.320 (+/-0.000) for {'C': 100, 'gamma': 1e-05, 'kernel': 'rbf'}\n",
      "0.070 (+/-0.000) for {'C': 100, 'gamma': 1e-06, 'kernel': 'rbf'}\n",
      "0.070 (+/-0.000) for {'C': 100, 'gamma': 1e-07, 'kernel': 'rbf'}\n",
      "0.070 (+/-0.000) for {'C': 100, 'gamma': 1e-08, 'kernel': 'rbf'}\n",
      "0.070 (+/-0.000) for {'C': 100, 'gamma': 1e-09, 'kernel': 'rbf'}\n",
      "0.710 (+/-0.022) for {'C': 1000, 'gamma': 0.001, 'kernel': 'rbf'}\n",
      "0.740 (+/-0.038) for {'C': 1000, 'gamma': 0.0001, 'kernel': 'rbf'}\n",
      "0.730 (+/-0.060) for {'C': 1000, 'gamma': 1e-05, 'kernel': 'rbf'}\n",
      "0.320 (+/-0.000) for {'C': 1000, 'gamma': 1e-06, 'kernel': 'rbf'}\n",
      "0.070 (+/-0.000) for {'C': 1000, 'gamma': 1e-07, 'kernel': 'rbf'}\n",
      "0.070 (+/-0.000) for {'C': 1000, 'gamma': 1e-08, 'kernel': 'rbf'}\n",
      "0.070 (+/-0.000) for {'C': 1000, 'gamma': 1e-09, 'kernel': 'rbf'}\n",
      "0.685 (+/-0.024) for {'C': 10000, 'gamma': 0.001, 'kernel': 'rbf'}\n",
      "0.708 (+/-0.019) for {'C': 10000, 'gamma': 0.0001, 'kernel': 'rbf'}\n",
      "0.740 (+/-0.039) for {'C': 10000, 'gamma': 1e-05, 'kernel': 'rbf'}\n",
      "0.732 (+/-0.059) for {'C': 10000, 'gamma': 1e-06, 'kernel': 'rbf'}\n",
      "0.320 (+/-0.000) for {'C': 10000, 'gamma': 1e-07, 'kernel': 'rbf'}\n",
      "0.070 (+/-0.000) for {'C': 10000, 'gamma': 1e-08, 'kernel': 'rbf'}\n",
      "0.070 (+/-0.000) for {'C': 10000, 'gamma': 1e-09, 'kernel': 'rbf'}\n",
      "\n",
      "Detailed classification report:\n",
      "\n",
      "The model is trained on the full development set.\n",
      "The scores are computed on the full evaluation set.\n",
      "\n",
      "                 precision    recall  f1-score   support\n",
      "\n",
      " HillaryClinton       0.82      0.78      0.80       409\n",
      "   justinbieber       0.79      0.66      0.72       320\n",
      "      katyperry       0.67      0.87      0.76       457\n",
      "realDonaldTrump       0.88      0.75      0.81       459\n",
      "\n",
      "    avg / total       0.79      0.77      0.77      1645\n",
      "\n",
      "\n",
      "# Tuning hyper-parameters for recall\n",
      "\n",
      "Best parameters set found on development set:\n",
      "\n",
      "{'C': 100, 'gamma': 0.001, 'kernel': 'rbf'}\n",
      "\n",
      "Grid scores on development set:\n",
      "\n",
      "0.253 (+/-0.003) for {'C': 1, 'gamma': 0.001, 'kernel': 'rbf'}\n",
      "0.250 (+/-0.000) for {'C': 1, 'gamma': 0.0001, 'kernel': 'rbf'}\n",
      "0.250 (+/-0.000) for {'C': 1, 'gamma': 1e-05, 'kernel': 'rbf'}\n",
      "0.250 (+/-0.000) for {'C': 1, 'gamma': 1e-06, 'kernel': 'rbf'}\n",
      "0.250 (+/-0.000) for {'C': 1, 'gamma': 1e-07, 'kernel': 'rbf'}\n",
      "0.250 (+/-0.000) for {'C': 1, 'gamma': 1e-08, 'kernel': 'rbf'}\n",
      "0.250 (+/-0.000) for {'C': 1, 'gamma': 1e-09, 'kernel': 'rbf'}\n",
      "0.592 (+/-0.030) for {'C': 10, 'gamma': 0.001, 'kernel': 'rbf'}\n",
      "0.253 (+/-0.003) for {'C': 10, 'gamma': 0.0001, 'kernel': 'rbf'}\n",
      "0.250 (+/-0.000) for {'C': 10, 'gamma': 1e-05, 'kernel': 'rbf'}\n",
      "0.250 (+/-0.000) for {'C': 10, 'gamma': 1e-06, 'kernel': 'rbf'}\n",
      "0.250 (+/-0.000) for {'C': 10, 'gamma': 1e-07, 'kernel': 'rbf'}\n",
      "0.250 (+/-0.000) for {'C': 10, 'gamma': 1e-08, 'kernel': 'rbf'}\n",
      "0.250 (+/-0.000) for {'C': 10, 'gamma': 1e-09, 'kernel': 'rbf'}\n",
      "0.718 (+/-0.029) for {'C': 100, 'gamma': 0.001, 'kernel': 'rbf'}\n",
      "0.592 (+/-0.032) for {'C': 100, 'gamma': 0.0001, 'kernel': 'rbf'}\n",
      "0.253 (+/-0.003) for {'C': 100, 'gamma': 1e-05, 'kernel': 'rbf'}\n",
      "0.250 (+/-0.000) for {'C': 100, 'gamma': 1e-06, 'kernel': 'rbf'}\n",
      "0.250 (+/-0.000) for {'C': 100, 'gamma': 1e-07, 'kernel': 'rbf'}\n",
      "0.250 (+/-0.000) for {'C': 100, 'gamma': 1e-08, 'kernel': 'rbf'}\n",
      "0.250 (+/-0.000) for {'C': 100, 'gamma': 1e-09, 'kernel': 'rbf'}\n",
      "0.707 (+/-0.020) for {'C': 1000, 'gamma': 0.001, 'kernel': 'rbf'}\n",
      "0.717 (+/-0.030) for {'C': 1000, 'gamma': 0.0001, 'kernel': 'rbf'}\n",
      "0.592 (+/-0.032) for {'C': 1000, 'gamma': 1e-05, 'kernel': 'rbf'}\n",
      "0.253 (+/-0.003) for {'C': 1000, 'gamma': 1e-06, 'kernel': 'rbf'}\n",
      "0.250 (+/-0.000) for {'C': 1000, 'gamma': 1e-07, 'kernel': 'rbf'}\n",
      "0.250 (+/-0.000) for {'C': 1000, 'gamma': 1e-08, 'kernel': 'rbf'}\n",
      "0.250 (+/-0.000) for {'C': 1000, 'gamma': 1e-09, 'kernel': 'rbf'}\n",
      "0.688 (+/-0.028) for {'C': 10000, 'gamma': 0.001, 'kernel': 'rbf'}\n",
      "0.704 (+/-0.021) for {'C': 10000, 'gamma': 0.0001, 'kernel': 'rbf'}\n",
      "0.717 (+/-0.032) for {'C': 10000, 'gamma': 1e-05, 'kernel': 'rbf'}\n",
      "0.592 (+/-0.032) for {'C': 10000, 'gamma': 1e-06, 'kernel': 'rbf'}\n",
      "0.253 (+/-0.003) for {'C': 10000, 'gamma': 1e-07, 'kernel': 'rbf'}\n",
      "0.250 (+/-0.000) for {'C': 10000, 'gamma': 1e-08, 'kernel': 'rbf'}\n",
      "0.250 (+/-0.000) for {'C': 10000, 'gamma': 1e-09, 'kernel': 'rbf'}\n",
      "\n",
      "Detailed classification report:\n",
      "\n",
      "The model is trained on the full development set.\n",
      "The scores are computed on the full evaluation set.\n",
      "\n",
      "                 precision    recall  f1-score   support\n",
      "\n",
      " HillaryClinton       0.82      0.78      0.80       409\n",
      "   justinbieber       0.79      0.66      0.72       320\n",
      "      katyperry       0.67      0.87      0.76       457\n",
      "realDonaldTrump       0.88      0.75      0.81       459\n",
      "\n",
      "    avg / total       0.79      0.77      0.77      1645\n",
      "\n",
      "\n"
     ]
    }
   ],
   "source": [
    "#Show warning once\n",
    "import warnings\n",
    "warnings.filterwarnings('once')\n",
    "\n",
    "gridsearch(X2_train, y2_train, X2_test, y2_test)"
   ]
  },
  {
   "cell_type": "code",
   "execution_count": 35,
   "metadata": {},
   "outputs": [
    {
     "name": "stdout",
     "output_type": "stream",
     "text": [
      "Training set score: 0.8639532998216313\n",
      "\n",
      "Test set score: 0.796692607003891\n"
     ]
    }
   ],
   "source": [
    "svc = SVC(C=100, gamma=0.001, kernel='rbf')\n",
    "\n",
    "svc.fit(X_train, y_train)\n",
    "\n",
    "\n",
    "print('Training set score:', svc.score(X_train, y_train))\n",
    "print('\\nTest set score:', svc.score(X_test, y_test))"
   ]
  },
  {
   "cell_type": "code",
   "execution_count": 36,
   "metadata": {},
   "outputs": [
    {
     "data": {
      "text/plain": [
       "array([0.6797862 , 0.79484686, 0.79026764, 0.82189781, 0.77702045])"
      ]
     },
     "execution_count": 36,
     "metadata": {},
     "output_type": "execute_result"
    }
   ],
   "source": [
    "cross_val_score(svc, X, Y, cv=5)"
   ]
  },
  {
   "cell_type": "markdown",
   "metadata": {},
   "source": [
    "Of the different models built on BoW, it looks like logistic regression is least prone to overfitting and has the highest cross validation scores.  "
   ]
  },
  {
   "cell_type": "markdown",
   "metadata": {},
   "source": [
    "# Unsupervised Learning Models\n",
    "\n",
    "## Latent Semantic Analysis\n",
    "What if we don't have information on the handle that the tweet belongs to?  How could the tweets be categorized?  For this unsupervised learning problem, I will be using Latent Semantic Analysis to generate clusters of terms that reflects a topic.  First, I will use tf-idf, which converts the tweets into vectors.  Then I will apply dimension reduction (Singular Value Decomposition SVD) to reduce the feature space and generate the clusters."
   ]
  },
  {
   "cell_type": "code",
   "execution_count": 37,
   "metadata": {},
   "outputs": [
    {
     "name": "stderr",
     "output_type": "stream",
     "text": [
      "/anaconda3/lib/python3.6/importlib/_bootstrap.py:219: RuntimeWarning: numpy.dtype size changed, may indicate binary incompatibility. Expected 96, got 88\n",
      "  return f(*args, **kwds)\n",
      "/anaconda3/lib/python3.6/importlib/_bootstrap.py:219: ImportWarning: can't resolve package from __spec__ or __package__, falling back on __name__ and __path__\n",
      "  return f(*args, **kwds)\n"
     ]
    }
   ],
   "source": [
    "from sklearn.feature_extraction.text import TfidfVectorizer"
   ]
  },
  {
   "cell_type": "code",
   "execution_count": 117,
   "metadata": {},
   "outputs": [
    {
     "name": "stdout",
     "output_type": "stream",
     "text": [
      "Number of features for training set: 3447\n",
      "number of tweets in training set: 7709\n"
     ]
    }
   ],
   "source": [
    "X3_train, X3_test, y3_train, y3_test  = train_test_split(tweets['tweet'], tweets['screenname'],\n",
    "                                                test_size=0.25, stratify=tweets['screenname'])\n",
    "\n",
    "vectorizer = TfidfVectorizer(max_df=0.5, # drop words that occur in more than half the tweets\n",
    "                             min_df=3, # only use words that appear at least three times\n",
    "                             stop_words='english', \n",
    "                             lowercase=True, #convert everything to lower case (since Donald Trump has the HABIT of CAPITALIZING WORDS for EMPHASIS)\n",
    "                             use_idf=True,#we definitely want to use inverse document frequencies in our weighting\n",
    "                             norm=u'l2', #Applies a correction factor so that longer tweets and shorter tweets get treated equally\n",
    "                             smooth_idf=True #Adds 1 to all document frequencies, as if an extra document existed that used every word once.  Prevents divide-by-zero errors\n",
    "                            )\n",
    "\n",
    "\n",
    "#Applying the vectorizer to training set\n",
    "X3_train_tfidf = vectorizer.fit_transform(X3_train)\n",
    "print(\"Number of features for training set: %d\" % X3_train_tfidf.get_shape()[1])\n",
    "\n",
    "\n",
    "\n",
    "#Reshapes the vectorizer output into something people can read\n",
    "X3_train_tfidf_csr = X3_train_tfidf.tocsr()\n",
    "\n",
    "\n",
    "#number of tweets\n",
    "n = X3_train_tfidf_csr.shape[0]\n",
    "print('number of tweets in training set: %d' %n)\n",
    "\n",
    "\n",
    "#A list of dictionaries, one per tweet\n",
    "train_tfidf_bytweet = [{} for _ in range(0,n)]\n",
    "\n",
    "\n",
    "#List of features\n",
    "terms = vectorizer.get_feature_names()"
   ]
  },
  {
   "cell_type": "code",
   "execution_count": 118,
   "metadata": {},
   "outputs": [],
   "source": [
    "#for each tweet, lists the feature words and their tf-idf scores\n",
    "for i, j in zip(*X3_train_tfidf_csr.nonzero()):\n",
    "    train_tfidf_bytweet[i][terms[j]] = X3_train_tfidf_csr[i, j]"
   ]
  },
  {
   "cell_type": "code",
   "execution_count": 119,
   "metadata": {},
   "outputs": [
    {
     "name": "stdout",
     "output_type": "stream",
     "text": [
      "Original sentence: If Sophia Grace plays her new trap hit at Coachella... I'll go. cc @yungskeeter @sofifii\n",
      "Tf_idf vector: {'grace': 0.375351063445984, 'new': 0.21379439819596613, 'trap': 0.375351063445984, 'hit': 0.3096933172037104, 'coachella': 0.3682590094735298, 'll': 0.25734471212717297, 'cc': 0.3474644019121213, 'yungskeeter': 0.375351063445984, 'sofifii': 0.3363691908824324}\n"
     ]
    }
   ],
   "source": [
    "#Keep in mind that the log base 2 of 1 is 0, so a tf-idf score of 0 indicates that the word was present once in that sentence.\n",
    "print('Original sentence:', X3_train.iloc[4])\n",
    "print('Tf_idf vector:', train_tfidf_bytweet[4])"
   ]
  },
  {
   "cell_type": "code",
   "execution_count": 120,
   "metadata": {},
   "outputs": [
    {
     "name": "stdout",
     "output_type": "stream",
     "text": [
      "Number of features for test set: 1354\n",
      "number of tweets in test set: 2570\n"
     ]
    }
   ],
   "source": [
    "#Applying the vectorizer to test set\n",
    "X3_test_tfidf = vectorizer.fit_transform(X3_test)\n",
    "print(\"Number of features for test set: %d\" % X3_test_tfidf.get_shape()[1])\n",
    "\n",
    "#Reshapes the vectorizer output into something people can read\n",
    "X3_test_tfidf_csr = X3_test_tfidf.tocsr()\n",
    "\n",
    "#Number of tweets\n",
    "m = X3_test_tfidf_csr.shape[0]\n",
    "print('number of tweets in test set: %d' %m)\n",
    "\n",
    "#A list of dictionaries, one per tweet\n",
    "test_tfidf_bytweet = [{} for _ in range(0,m)]"
   ]
  },
  {
   "cell_type": "code",
   "execution_count": 121,
   "metadata": {},
   "outputs": [],
   "source": [
    "#for each tweet, lists the feature words and their tf-idf scores\n",
    "for i, j in zip(*X3_test_tfidf_csr.nonzero()):\n",
    "    test_tfidf_bytweet[i][terms[j]] = X3_test_tfidf_csr[i, j]"
   ]
  },
  {
   "cell_type": "code",
   "execution_count": 122,
   "metadata": {},
   "outputs": [
    {
     "name": "stdout",
     "output_type": "stream",
     "text": [
      "Original sentence: Not mad. Thanks \n",
      "Tf_idf vector: {'fit': 1.0}\n"
     ]
    }
   ],
   "source": [
    "#Keep in mind that the log base 2 of 1 is 0, so a tf-idf score of 0 indicates that the word was present once in that sentence.\n",
    "print('Original sentence:', X3_test.iloc[0])\n",
    "print('Tf_idf vector:', test_tfidf_bytweet[0])"
   ]
  },
  {
   "cell_type": "markdown",
   "metadata": {},
   "source": [
    "## K-means clustering\n",
    "K-Means groups data into clusters of similar data points with similar variances.  It uses an algorithm that chooses means (centroids) that minimize the cost function.  In this case, the cost function is inertia, calculated as the sum of squared differences between the centroid of the cluster and the data points in the cluster.  The goal is to define cluster means so that the distance between the cluster mean and all the data points in that cluster is as small as possible.\n",
    "\n",
    "Let's see how k-means clusters our tweets!\n"
   ]
  },
  {
   "cell_type": "code",
   "execution_count": 123,
   "metadata": {},
   "outputs": [
    {
     "data": {
      "image/png": "[encoded data removed]",
      "text/plain": [
       "<matplotlib.figure.Figure at 0x1a1569cc50>"
      ]
     },
     "metadata": {},
     "output_type": "display_data"
    },
    {
     "name": "stdout",
     "output_type": "stream",
     "text": [
      "Comparing k-means clusters against the data:\n",
      "screenname  HillaryClinton  justinbieber  katyperry  realDonaldTrump\n",
      "row_0                                                               \n",
      "0                      986           196        163              737\n",
      "1                       10           108         15                3\n",
      "2                       16            81         13               66\n",
      "3                      903          1117       1951             1344\n"
     ]
    }
   ],
   "source": [
    "from sklearn.decomposition import TruncatedSVD\n",
    "\n",
    "# We are limiting our feature space to 2 components here. \n",
    "#  This makes it easier to graph and see the clusters.\n",
    "svd= TruncatedSVD(2)\n",
    "\n",
    "# Normalize the data.\n",
    "X_train_norm = normalize(X3_train_tfidf)\n",
    "X_test_norm = normalize(X3_test_tfidf)\n",
    "\n",
    "# Reduce it to two components.\n",
    "X_train_svd = svd.fit_transform(X_train_norm)\n",
    "X_test_svd = svd.fit_transform(X_test_norm)\n",
    "\n",
    "# Calculate predicted values.\n",
    "y_pred = KMeans(n_clusters=4, random_state=42).fit_predict(X_train_svd)\n",
    "\n",
    "# Plot the solution.\n",
    "plt.scatter(X_train_svd[:, 0], X_train_svd[:, 1], c=y_pred)\n",
    "plt.show()\n",
    "\n",
    "# Check the solution against the data.\n",
    "print('Comparing k-means clusters against the data:')\n",
    "print(pd.crosstab(y_pred, y3_train))"
   ]
  },
  {
   "cell_type": "code",
   "execution_count": 124,
   "metadata": {},
   "outputs": [
    {
     "data": {
      "image/png": "[encoded data removed]",
      "text/plain": [
       "<matplotlib.figure.Figure at 0x1a12c7c160>"
      ]
     },
     "metadata": {},
     "output_type": "display_data"
    },
    {
     "name": "stdout",
     "output_type": "stream",
     "text": [
      "Comparing k-means clusters against the data:\n",
      "screenname  HillaryClinton  justinbieber  katyperry  realDonaldTrump\n",
      "row_0                                                               \n",
      "0                      360            57         54              243\n",
      "1                        0            17          4                5\n",
      "2                      270           408        645              417\n",
      "3                        9            18         11               52\n"
     ]
    }
   ],
   "source": [
    "# Calculate predicted values.\n",
    "y_test_pred = KMeans(n_clusters=4, random_state=42).fit_predict(X_test_svd)\n",
    "\n",
    "# Plot the solution.\n",
    "plt.scatter(X_test_svd[:, 0], X_test_svd[:, 1], c=y_test_pred)\n",
    "plt.show()\n",
    "\n",
    "# Check the solution against the data.\n",
    "print('Comparing k-means clusters against the data:')\n",
    "print(pd.crosstab(y_test_pred, y3_test))"
   ]
  },
  {
   "cell_type": "code",
   "execution_count": 125,
   "metadata": {},
   "outputs": [
    {
     "data": {
      "image/png": "[encoded data removed]",
      "text/plain": [
       "<matplotlib.figure.Figure at 0x1a10ef1da0>"
      ]
     },
     "metadata": {},
     "output_type": "display_data"
    },
    {
     "name": "stdout",
     "output_type": "stream",
     "text": [
      "Comparing k-means clusters against the data:\n",
      "screenname  HillaryClinton  justinbieber  katyperry  realDonaldTrump\n",
      "row_0                                                               \n",
      "0                     1903          1384       2125             2147\n",
      "1                       12           118         17                3\n"
     ]
    }
   ],
   "source": [
    "# Calculate predicted values.\n",
    "y_pred = KMeans(n_clusters=2, random_state=42).fit_predict(X_train_svd)\n",
    "\n",
    "# Plot the solution.\n",
    "plt.scatter(X_train_svd[:, 0], X_train_svd[:, 1], c=y_pred)\n",
    "plt.show()\n",
    "\n",
    "# Check the solution against the data.\n",
    "print('Comparing k-means clusters against the data:')\n",
    "print(pd.crosstab(y_pred, y3_train))"
   ]
  },
  {
   "cell_type": "code",
   "execution_count": 126,
   "metadata": {},
   "outputs": [
    {
     "data": {
      "image/png": "[encoded data removed]",
      "text/plain": [
       "<matplotlib.figure.Figure at 0x1a22fcf710>"
      ]
     },
     "metadata": {},
     "output_type": "display_data"
    },
    {
     "name": "stdout",
     "output_type": "stream",
     "text": [
      "Comparing k-means clusters against the data:\n",
      "screenname  HillaryClinton  justinbieber  katyperry  realDonaldTrump\n",
      "row_0                                                               \n",
      "0                      635           468        703              688\n",
      "1                        4            32         11               29\n"
     ]
    }
   ],
   "source": [
    "# Calculate predicted values.\n",
    "y_test_pred = KMeans(n_clusters=2, random_state=42).fit_predict(X_test_svd)\n",
    "\n",
    "# Plot the solution.\n",
    "plt.scatter(X_test_svd[:, 0], X_test_svd[:, 1], c=y_test_pred)\n",
    "plt.show()\n",
    "\n",
    "# Check the solution against the data.\n",
    "print('Comparing k-means clusters against the data:')\n",
    "print(pd.crosstab(y_test_pred, y3_test))"
   ]
  },
  {
   "cell_type": "markdown",
   "metadata": {},
   "source": [
    "There are several assumptions of k-means that make it not the best fit for our Twitter data.  First of all, it assumes that the clusters are the same size.  While we have about equal number of tweets from each twitter account, it is clear from the graphs that the clusters are not the same size.  Additionally, k-means assume that the clusters are radially symmetrical (isotropic), meaning the clusters are uniform in all directions and have edges that curve outward.  Lastly, k-means assumes that the clusters have similar variances.  The graphs show that the clusters are not radially symmetrical or have similar variances.  "
   ]
  },
  {
   "cell_type": "markdown",
   "metadata": {},
   "source": [
    "## Mean-shift clustering\n",
    "Mean-shift works by calculating the probability that a datapoint will be present at any point in an n-dimensional space, forming a kernel density surface.  Areas with \"hills\" have a high concentration of datapoints.  Flat areas or valleys have very few data points.  Then, each data point is iteratively shifted \"up\" a tiny bit the nearest hill.  Once all the data points have reached their peaks and any further shifts are smaller than a given thresholds, the algorithm ends and the data points are assigned a cluster based on their peak. \n",
    "\n",
    "Mean-shift clustering is more flexible than k-means, because it does not assume that the clusters have to be the same size or radially symmetric.  The clusters can have non-flay geometry."
   ]
  },
  {
   "cell_type": "code",
   "execution_count": 129,
   "metadata": {},
   "outputs": [
    {
     "name": "stdout",
     "output_type": "stream",
     "text": [
      "Number of estimated clusters: 28\n"
     ]
    }
   ],
   "source": [
    "from sklearn.cluster import MeanShift, estimate_bandwidth\n",
    "\n",
    "# Here we set the bandwidth. This function automatically derives a bandwidth\n",
    "# number based on an inspection of the distances among points in the data.\n",
    "bandwidth = estimate_bandwidth(X_train_pca, quantile=0.2, n_samples=500)\n",
    "\n",
    "# Declare and fit the model.\n",
    "ms = MeanShift(bandwidth=bandwidth, bin_seeding=True)\n",
    "ms.fit(X_train_svd)\n",
    "\n",
    "# Extract cluster assignments for each data point.\n",
    "labels = ms.labels_\n",
    "\n",
    "# Coordinates of the cluster centers.\n",
    "cluster_centers = ms.cluster_centers_\n",
    "\n",
    "# Count our clusters.\n",
    "n_clusters_ = len(np.unique(labels))\n",
    "\n",
    "print(\"Number of estimated clusters: {}\".format(n_clusters_))"
   ]
  },
  {
   "cell_type": "code",
   "execution_count": 130,
   "metadata": {},
   "outputs": [
    {
     "data": {
      "image/png": "[encoded data removed]",
      "text/plain": [
       "<matplotlib.figure.Figure at 0x1a16b25828>"
      ]
     },
     "metadata": {},
     "output_type": "display_data"
    },
    {
     "name": "stdout",
     "output_type": "stream",
     "text": [
      "Comparing the assigned categories to the ones in the data:\n",
      "col_0              0    1   2   3   4   5   6   7   8   9  ...  18  19  20  \\\n",
      "screenname                                                 ...               \n",
      "HillaryClinton   1701   33   7  13   7   0   1   1   1   1 ...   0   0   0   \n",
      "justinbieber     1236   14   8  47  22  32  20  23  25  10 ...   5   3   1   \n",
      "katyperry        2065   28   2  14   4   2   2   5   1   1 ...   0   0   1   \n",
      "realDonaldTrump  1868  130  40   5  13   0   7   6   0   0 ...   1   0   0   \n",
      "\n",
      "col_0            21  22  23  24   25  26  27  \n",
      "screenname                                    \n",
      "HillaryClinton    0   0   0   0  139   0   0  \n",
      "justinbieber      1   0   0   1   17   0   0  \n",
      "katyperry         0   0   0   0    6   0   0  \n",
      "realDonaldTrump   1   1   1   0   44   1   1  \n",
      "\n",
      "[4 rows x 28 columns]\n"
     ]
    }
   ],
   "source": [
    "plt.scatter(X_train_svd[:, 0], X_train_svd[:, 1], c=labels)\n",
    "plt.show()\n",
    "\n",
    "print('Comparing the assigned categories to the ones in the data:')\n",
    "print(pd.crosstab(y3_train,labels))"
   ]
  },
  {
   "cell_type": "code",
   "execution_count": 131,
   "metadata": {},
   "outputs": [
    {
     "name": "stdout",
     "output_type": "stream",
     "text": [
      "Number of estimated clusters: 15\n"
     ]
    }
   ],
   "source": [
    "# Here we set the bandwidth. This function automatically derives a bandwidth\n",
    "# number based on an inspection of the distances among points in the data.\n",
    "bandwidth = estimate_bandwidth(X_test_svd, quantile=0.2, n_samples=500)\n",
    "\n",
    "# Declare and fit the model.\n",
    "ms = MeanShift(bandwidth=bandwidth, bin_seeding=True)\n",
    "ms.fit(X_test_svd)\n",
    "\n",
    "# Extract cluster assignments for each data point.\n",
    "labels = ms.labels_\n",
    "\n",
    "# Coordinates of the cluster centers.\n",
    "cluster_centers = ms.cluster_centers_\n",
    "\n",
    "# Count our clusters.\n",
    "n_clusters_ = len(np.unique(labels))\n",
    "\n",
    "print(\"Number of estimated clusters: {}\".format(n_clusters_))"
   ]
  },
  {
   "cell_type": "code",
   "execution_count": 135,
   "metadata": {},
   "outputs": [
    {
     "data": {
      "image/png": "[encoded data removed]",
      "text/plain": [
       "<matplotlib.figure.Figure at 0x1a1aa63ba8>"
      ]
     },
     "metadata": {},
     "output_type": "display_data"
    },
    {
     "name": "stdout",
     "output_type": "stream",
     "text": [
      "Comparing the assigned categories to the ones in the data:\n",
      "col_0             0   1   2   3   4   5   6   7   8   9   10  11  12  13  14\n",
      "screenname                                                                  \n",
      "HillaryClinton   588   6   0   0   0   0  40   1   0   1   2   0   1   0   0\n",
      "justinbieber     460   5  13   5   5   0   5   3   3   0   0   1   0   0   0\n",
      "katyperry        699   6   2   1   1   2   0   1   2   0   0   0   0   0   0\n",
      "realDonaldTrump  637  29   5   6   1   8  23   3   0   3   0   0   0   1   1\n"
     ]
    }
   ],
   "source": [
    "plt.scatter(X_test_svd[:, 0], X_test_svd[:, 1], c=labels)\n",
    "plt.show()\n",
    "\n",
    "print('Comparing the assigned categories to the ones in the data:')\n",
    "print(pd.crosstab(y3_test,labels))"
   ]
  },
  {
   "cell_type": "markdown",
   "metadata": {},
   "source": [
    "## Spectral Clustering"
   ]
  },
  {
   "cell_type": "code",
   "execution_count": 133,
   "metadata": {},
   "outputs": [
    {
     "data": {
      "image/png": "[encoded data removed]",
      "text/plain": [
       "<matplotlib.figure.Figure at 0x1a1aa18a20>"
      ]
     },
     "metadata": {},
     "output_type": "display_data"
    },
    {
     "name": "stdout",
     "output_type": "stream",
     "text": [
      "Comparing the assigned categories to the ones in the data:\n",
      "col_0               0   1     2   3\n",
      "screenname                         \n",
      "HillaryClinton    886  12  1016   1\n",
      "justinbieber     1081  78   291  52\n",
      "katyperry        1941  12   182   7\n",
      "realDonaldTrump  1350  46   752   2\n"
     ]
    }
   ],
   "source": [
    "from sklearn.cluster import SpectralClustering\n",
    "\n",
    "# We know we're looking for three clusters.\n",
    "n_clusters=4\n",
    "\n",
    "# Declare and fit the model.\n",
    "sc = SpectralClustering(n_clusters=n_clusters)\n",
    "sc.fit(X_train_svd)\n",
    "\n",
    "#Predicted clusters.\n",
    "predict=sc.fit_predict(X_train_svd)\n",
    "\n",
    "#Graph results.\n",
    "plt.scatter(X_train_svd[:, 0], X_train_svd[:, 1], c=predict)\n",
    "plt.show()\n",
    "\n",
    "print('Comparing the assigned categories to the ones in the data:')\n",
    "print(pd.crosstab(y3_train,predict))"
   ]
  },
  {
   "cell_type": "code",
   "execution_count": 134,
   "metadata": {},
   "outputs": [
    {
     "data": {
      "image/png": "[encoded data removed]",
      "text/plain": [
       "<matplotlib.figure.Figure at 0x1a12c72ac8>"
      ]
     },
     "metadata": {},
     "output_type": "display_data"
    },
    {
     "name": "stdout",
     "output_type": "stream",
     "text": [
      "Comparing the assigned categories to the ones in the data:\n",
      "col_0              0    1   2   3\n",
      "screenname                       \n",
      "HillaryClinton   269  361   9   0\n",
      "justinbieber     408   57  22  13\n",
      "katyperry        644   55  13   2\n",
      "realDonaldTrump  416  244  52   5\n"
     ]
    }
   ],
   "source": [
    "# We know we're looking for three clusters.\n",
    "n_clusters=4\n",
    "\n",
    "# Declare and fit the model.\n",
    "sc = SpectralClustering(n_clusters=n_clusters)\n",
    "sc.fit(X_test_svd)\n",
    "\n",
    "#Predicted clusters.\n",
    "predict=sc.fit_predict(X_test_svd)\n",
    "\n",
    "#Graph results.\n",
    "plt.scatter(X_test_svd[:, 0], X_test_svd[:, 1], c=predict)\n",
    "plt.show()\n",
    "\n",
    "print('Comparing the assigned categories to the ones in the data:')\n",
    "print(pd.crosstab(y3_test,predict))"
   ]
  },
  {
   "cell_type": "markdown",
   "metadata": {},
   "source": [
    "## SVD"
   ]
  },
  {
   "cell_type": "markdown",
   "metadata": {},
   "source": [
    "So we see that reducing the feature space to 2 components is too limiting, though it does provide nice visuals into how each type of clustering algorithm may group the tweets based on these two vectors.  Let's increase our feature space to 200.  We won't be able to visuallize it, but we can better see how unsupervised learning is grouping these tweets."
   ]
  },
  {
   "cell_type": "code",
   "execution_count": 54,
   "metadata": {},
   "outputs": [
    {
     "name": "stdout",
     "output_type": "stream",
     "text": [
      "Percent variance captured by all components: 33.51348978169217 \n",
      "\n",
      "Component 0:\n",
      "tweet\n",
      "Great show. Thank you                                                                                                                   0.708475\n",
      "#PurposeTourGlendale another great show. Thank u                                                                                        0.708475\n",
      "THANK YOU to all of the great volunteers helping out with #HurricaneHarvey relief in Texas!                                             0.677287\n",
      "Thank you Louisville, Kentucky. Together, we will MAKE AMERICA SAFE AND GREAT AGAIN!                                                    0.634421\n",
      "Thank you to the GREAT NYPD, First Responders and all govt officials for having handled the terrible West Side atta…                    0.616605\n",
      "My experience yesterday in Poland was a great one. Thank you to everyone, including the haters, for the great reviews of the speech!    0.611713\n",
      "Thank you for the great rallies all across the country. Tremendous support. Make America Great Again!                                   0.611648\n",
      "Thank you Kirkwood Community College. Heading to the U.S. Cellular Center now for an 8pmE MAKE AMERICA GREAT AGAIN…                     0.599997\n",
      "Thank you, our great honor!                                                                                                             0.596838\n",
      "@ladygaga thank u for the kindness                                                                                                      0.592481\n",
      "Name: 0, dtype: float64\n",
      "\n",
      "\n",
      "Component 1:\n",
      "tweet\n",
      "@POWERATL thank u                       0.785541\n",
      "Thank you #mybeliebers                  0.785541\n",
      "Thank you @SBAList! #SBAGala            0.785455\n",
      "Thank u                                 0.785455\n",
      "Thank you                               0.785455\n",
      "@perryschild thank you for this foto    0.785455\n",
      "No thank you                            0.785455\n",
      "Thank you                               0.785455\n",
      "Thank you                               0.785455\n",
      "Thank u                                 0.785455\n",
      "Name: 1, dtype: float64\n",
      "\n",
      "\n",
      "Component 2:\n",
      "tweet\n",
      "Thanks @TeenChoiceFOX                           0.965776\n",
      "@greenIight thanks but painful                  0.965776\n",
      "Thanks                                          0.965776\n",
      "Thanks                                          0.965776\n",
      "Thanks!                                         0.965776\n",
      "See more on my @OfficialFahlo #cosmo thanks     0.965776\n",
      "@HilaryDuff thanks                              0.965776\n",
      "Thanks @billybush                               0.965776\n",
      "Thanks                                          0.965776\n",
      "Thanks.                                         0.965776\n",
      "Name: 2, dtype: float64\n",
      "\n",
      "\n",
      "Component 3:\n",
      "tweet\n",
      "It's great                                                                                                               0.616795\n",
      "Great show                                                                                                               0.616795\n",
      "@etnow  @ladygaga she is great                                                                                           0.605484\n",
      "Great to be back in Brooklyn sharing #ItTakesAVillage with readers of all ages!                                          0.598164\n",
      "So exciting! I have agreed to be the Commencement Speaker at our GREAT Naval Academy on May 25th in Annapolis, Mary…     0.575092\n",
      "MAKE AMERICA GREAT AGAIN!                                                                                                0.568479\n",
      "MAKE AMERICA GREAT AGAIN!                                                                                                0.568479\n",
      "MAKE AMERICA GREAT AGAIN!                                                                                                0.568479\n",
      "MAKE AMERICA GREAT AGAIN!                                                                                                0.568479\n",
      "MAKE AMERICA GREAT AGAIN!                                                                                                0.568479\n",
      "Name: 3, dtype: float64\n",
      "\n",
      "\n",
      "Component 4:\n",
      "tweet\n",
      "Lol                    0.900272\n",
      "Lol                    0.900272\n",
      "@girlposts lol         0.900272\n",
      "@smanhanga lol         0.900272\n",
      "Lol                    0.900272\n",
      "@Christian_Zamo lol    0.900272\n",
      "Never lol              0.900272\n",
      "LOL!                   0.900272\n",
      "Lol                    0.900272\n",
      "Me too. Lol            0.900272\n",
      "Name: 4, dtype: float64\n",
      "\n",
      "\n",
      "Component 5:\n",
      "tweet\n",
      "love this                                      0.903688\n",
      "@ConditionalBabe too much for me but I love    0.903688\n",
      "I love it too                                  0.903688\n",
      "Love this!                                     0.903688\n",
      "I love you                                     0.903688\n",
      "Love u all                                     0.903688\n",
      "Love                                           0.903688\n",
      "i love you                                     0.903688\n",
      "Love jazz                                      0.903688\n",
      "Love u too                                     0.903688\n",
      "Name: 5, dtype: float64\n",
      "\n",
      "\n",
      "Component 6:\n",
      "tweet\n",
      "Donald Trump's foundation: paying off would-be opponents, stiffing actual charities.        0.588416\n",
      "We have some questions about this letter from Donald Trump's doctor.                        0.565538\n",
      "“I will never lie to you.” —Donald Trump, August 18, 2016                                   0.545045\n",
      "America is better than Donald Trump.                                                        0.531211\n",
      "\"The richest thing about Donald Trump is his hypocrisy.\" —@MikeBloomberg                    0.514218\n",
      "“Statement from President Donald J. Trump on #GivingTuesday”                                0.510272\n",
      "Any of these examples proves that Donald Trump is unfit to be president.                    0.504535\n",
      "Here’s the sad truth: There is no other Donald Trump. This is it.                           0.503439\n",
      "This is...unhinged, even for Trump. A few notes.                                            0.499476\n",
      "“It’s becoming clear that, to him, most of America is ‘them.’” —@FLOTUS on Donald Trump     0.498244\n",
      "Name: 6, dtype: float64\n",
      "\n",
      "\n",
      "Component 7:\n",
      "tweet\n",
      "#Purpose prizes on @Lyft today. Signed board &amp; more. DL &amp; ride:                                                         0.468473\n",
      "Today is for this girl. She had the dream, always believed in herself &amp; her worth. Today she is the one smiling.             0.463607\n",
      "Today                                                                                                                            0.448088\n",
      "@snowhiteperry not today satan!                                                                                                  0.448088\n",
      "Today. #PopUpStore #PurposeTourToronto                                                                                           0.448088\n",
      "@Scott_Myrick TODAY IS ALL ABOUT YOU                                                                                             0.448088\n",
      "Today.                                                                                                                           0.448088\n",
      "Fucking devastated, furious and heartbroken. I mourn today.                                                                      0.442964\n",
      "Texas &amp; Louisiana: We are w/ you today, we are w/ you tomorrow, &amp; we will be w/ you EVERY SINGLE DAY AFTER, to rest…     0.442864\n",
      "Today, on #VoterRegistrationDay, I, @funnyordie and @rockthevote invite you to... #IRegistered                                   0.442380\n",
      "Name: 7, dtype: float64\n",
      "\n",
      "\n",
      "Component 8:\n",
      "tweet\n",
      "THAT’S the signature thrust, @lukebryan?? 🤔 #americanidol                         0.899953\n",
      "💋#BenjaminGlaze #AmericanIdol                                                     0.899953\n",
      "I’m such a punk 🤦🏼‍♂#americanidol                                                 0.899953\n",
      "#americanidol                                                                     0.899953\n",
      "🎶OOOWEEEEOOOOWEEEEOOOOWOWWOWWOW🎶 #americanidol                                    0.899953\n",
      "#AmericanIdol                                                                     0.899953\n",
      "❤️❤️❤️ @maddiezahm ❤️❤️❤️ #americanidol                                           0.899953\n",
      "❗️FIND YOUR TRIBE❗️#americanidol                                                  0.898524\n",
      "Me hiciste tan feliz que me caí en mi bum bum 🍑 @MichelleSussett #americanidol    0.898033\n",
      "Shout out @hotelcafe 🎸🎹🎼 #americanidol                                            0.897509\n",
      "Name: 8, dtype: float64\n",
      "\n",
      "\n",
      "Component 9:\n",
      "tweet\n",
      "Today. #IllShowYou #PURPOSE                     0.713119\n",
      "#PURPOSE                                        0.653198\n",
      "#PURPOSE                                        0.653198\n",
      "Purpose                                         0.653198\n",
      "#1hour #PURPOSE                                 0.653198\n",
      "#PURPOSE                                        0.653198\n",
      "PURPOSE                                         0.653198\n",
      "#PURPOSE #TheMovement #MarkMyWords \\n           0.653198\n",
      "#purpose standard Purpose by Justin Bieber\\n    0.651969\n",
      "The preorder is almost here...... #purpose      0.647258\n",
      "Name: 9, dtype: float64\n",
      "\n",
      "\n"
     ]
    }
   ],
   "source": [
    "from sklearn.decomposition import TruncatedSVD\n",
    "from sklearn.pipeline import make_pipeline\n",
    "from sklearn.preprocessing import Normalizer\n",
    "\n",
    "#Our SVD data reducer.  We are going to reduce the feature space to 200 components.\n",
    "svd= TruncatedSVD(200)\n",
    "lsa = make_pipeline(svd, Normalizer(copy=False))\n",
    "# Run SVD on the training data, then project the training data.\n",
    "X_train_lsa = lsa.fit_transform(X_train_tfidf)\n",
    "\n",
    "variance_explained=svd.explained_variance_ratio_\n",
    "total_variance = variance_explained.sum()\n",
    "print(\"Percent variance captured by all components:\",total_variance*100, '\\n')\n",
    "\n",
    "#Looking at what sorts of paragraphs our solution considers similar, for the first five identified topics\n",
    "paras_by_component=pd.DataFrame(X_train_lsa,index=X_train)\n",
    "for i in range(10):\n",
    "    print('Component {}:'.format(i))\n",
    "    print(paras_by_component.loc[:,i].sort_values(ascending=False)[0:10])\n",
    "    print('\\n')\n"
   ]
  },
  {
   "cell_type": "markdown",
   "metadata": {},
   "source": [
    "SVD compresses features into independent components that are not correlated with any other components.  We are going to lose some of the information due to this compression.  But we can explain 34% of the variance. \n",
    "\n",
    "The first three clusters have to do with thanks.  The fourth cluster capture tweets with the word \"great.\"  Make America Great Again tweets compose a good potion of this cluster.  Fifth cluster is around \"love\".  Sixth cluster are tweets that contain amperstands (&). Seventh cluster are lols.  Eighth and ninth cluster has the word \"purpose\", which is the title of Justin Beiber's new album.   The final cluster is about American Idol, which currently stars Katy Perry. \n",
    "\n",
    "In summary, some of the clusters do focus more on one twitter handle over the others. The \"great\" cluster is Donald Trump MAGA oriented.  #Purpose is mostly Justin Beiber.  #AmericanIdol is Katy Perry.  "
   ]
  },
  {
   "cell_type": "markdown",
   "metadata": {},
   "source": [
    "# Word2vec\n",
    "Word2vec is the most common unsupervised neural network approach for NLP.  It converts words to vectors using distributed representation, where each word is represented by many neurons, and each neuron represents multiple words.  word2vec is powerful because it assigns a vector of random values to each word W, then shifts the vectors for the words around W in the sentence.  Words that are close to W have vectors that are closer together, while words that are not near W have vectors that are also far away.  Word2vec is great for tweets because tweets can contain the same concepts written in many different ways (e.g. expressing thanks).\n",
    "\n",
    "We do need are larger corpus when using word2vec.  So first, let's generate more tweets!"
   ]
  },
  {
   "cell_type": "code",
   "execution_count": 136,
   "metadata": {},
   "outputs": [
    {
     "name": "stdout",
     "output_type": "stream",
     "text": [
      "getting tweets before 989192672408563711\n"
     ]
    },
    {
     "name": "stderr",
     "output_type": "stream",
     "text": [
      "/anaconda3/lib/python3.6/json/decoder.py:355: ResourceWarning: unclosed <socket.socket fd=61, family=AddressFamily.AF_INET, type=SocketKind.SOCK_STREAM, proto=6, laddr=('192.168.29.239', 59091), raddr=('104.244.42.2', 443)>\n",
      "  obj, end = self.scan_once(s, idx)\n"
     ]
    },
    {
     "name": "stdout",
     "output_type": "stream",
     "text": [
      "...400 tweets downloaded so far\n",
      "getting tweets before 978109113581400064\n"
     ]
    },
    {
     "name": "stderr",
     "output_type": "stream",
     "text": [
      "/anaconda3/lib/python3.6/json/decoder.py:355: ResourceWarning: unclosed <socket.socket fd=65, family=AddressFamily.AF_INET, type=SocketKind.SOCK_STREAM, proto=6, laddr=('192.168.29.239', 59092), raddr=('104.244.42.2', 443)>\n",
      "  obj, end = self.scan_once(s, idx)\n"
     ]
    },
    {
     "name": "stdout",
     "output_type": "stream",
     "text": [
      "...600 tweets downloaded so far\n",
      "getting tweets before 967173094610644991\n",
      "...800 tweets downloaded so far\n",
      "getting tweets before 958905464091156480\n",
      "...1000 tweets downloaded so far\n",
      "getting tweets before 953014839001018367\n"
     ]
    },
    {
     "name": "stderr",
     "output_type": "stream",
     "text": [
      "/anaconda3/lib/python3.6/site-packages/tweepy/binder.py:222: ResourceWarning: unclosed <socket.socket fd=68, family=AddressFamily.AF_INET, type=SocketKind.SOCK_STREAM, proto=6, laddr=('192.168.29.239', 59096), raddr=('104.244.42.2', 443)>\n",
      "  self.api.last_response = resp\n"
     ]
    },
    {
     "name": "stdout",
     "output_type": "stream",
     "text": [
      "...1200 tweets downloaded so far\n",
      "getting tweets before 942824254365687811\n",
      "...1400 tweets downloaded so far\n",
      "getting tweets before 933072091447902207\n",
      "...1600 tweets downloaded so far\n",
      "getting tweets before 925442246907797503\n",
      "...1800 tweets downloaded so far\n",
      "getting tweets before 917439283652259839\n",
      "...2000 tweets downloaded so far\n",
      "getting tweets before 908800595087126527\n"
     ]
    },
    {
     "name": "stderr",
     "output_type": "stream",
     "text": [
      "/anaconda3/lib/python3.6/json/decoder.py:355: ResourceWarning: unclosed <socket.socket fd=71, family=AddressFamily.AF_INET, type=SocketKind.SOCK_STREAM, proto=6, laddr=('192.168.29.239', 59101), raddr=('104.244.42.2', 443)>\n",
      "  obj, end = self.scan_once(s, idx)\n"
     ]
    },
    {
     "name": "stdout",
     "output_type": "stream",
     "text": [
      "...2200 tweets downloaded so far\n",
      "getting tweets before 898318851942699008\n",
      "...2400 tweets downloaded so far\n",
      "getting tweets before 870415574395781120\n",
      "...2600 tweets downloaded so far\n",
      "getting tweets before 859119904129036287\n",
      "...2800 tweets downloaded so far\n",
      "getting tweets before 848972479225667583\n",
      "...3000 tweets downloaded so far\n",
      "getting tweets before 835254083057393663\n"
     ]
    },
    {
     "name": "stderr",
     "output_type": "stream",
     "text": [
      "/anaconda3/lib/python3.6/json/decoder.py:355: ResourceWarning: unclosed <socket.socket fd=75, family=AddressFamily.AF_INET, type=SocketKind.SOCK_STREAM, proto=6, laddr=('192.168.29.239', 59112), raddr=('104.244.42.2', 443)>\n",
      "  obj, end = self.scan_once(s, idx)\n"
     ]
    },
    {
     "name": "stdout",
     "output_type": "stream",
     "text": [
      "...3200 tweets downloaded so far\n",
      "getting tweets before 826165858791665663\n",
      "...3224 tweets downloaded so far\n",
      "getting tweets before 824717621383737343\n",
      "...3224 tweets downloaded so far\n"
     ]
    },
    {
     "name": "stderr",
     "output_type": "stream",
     "text": [
      "/anaconda3/lib/python3.6/site-packages/ipykernel_launcher.py:43: ResourceWarning: unclosed <socket.socket fd=78, family=AddressFamily.AF_INET, type=SocketKind.SOCK_STREAM, proto=6, laddr=('192.168.29.239', 59114), raddr=('104.244.42.2', 443)>\n",
      "/anaconda3/lib/python3.6/site-packages/ipykernel_launcher.py:43: ResourceWarning: unclosed <socket.socket fd=61, family=AddressFamily.AF_INET, type=SocketKind.SOCK_STREAM, proto=6, laddr=('192.168.29.239', 59094), raddr=('104.244.42.2', 443)>\n",
      "/anaconda3/lib/python3.6/site-packages/ipykernel_launcher.py:43: ResourceWarning: unclosed <socket.socket fd=65, family=AddressFamily.AF_INET, type=SocketKind.SOCK_STREAM, proto=6, laddr=('192.168.29.239', 59095), raddr=('104.244.42.2', 443)>\n",
      "/anaconda3/lib/python3.6/site-packages/ipykernel_launcher.py:43: ResourceWarning: unclosed <socket.socket fd=69, family=AddressFamily.AF_INET, type=SocketKind.SOCK_STREAM, proto=6, laddr=('192.168.29.239', 59097), raddr=('104.244.42.2', 443)>\n",
      "/anaconda3/lib/python3.6/site-packages/ipykernel_launcher.py:43: ResourceWarning: unclosed <socket.socket fd=68, family=AddressFamily.AF_INET, type=SocketKind.SOCK_STREAM, proto=6, laddr=('192.168.29.239', 59098), raddr=('104.244.42.2', 443)>\n",
      "/anaconda3/lib/python3.6/site-packages/ipykernel_launcher.py:43: ResourceWarning: unclosed <socket.socket fd=70, family=AddressFamily.AF_INET, type=SocketKind.SOCK_STREAM, proto=6, laddr=('192.168.29.239', 59099), raddr=('104.244.42.2', 443)>\n",
      "/anaconda3/lib/python3.6/site-packages/ipykernel_launcher.py:43: ResourceWarning: unclosed <socket.socket fd=73, family=AddressFamily.AF_INET, type=SocketKind.SOCK_STREAM, proto=6, laddr=('192.168.29.239', 59100), raddr=('104.244.42.2', 443)>\n",
      "/anaconda3/lib/python3.6/site-packages/ipykernel_launcher.py:43: ResourceWarning: unclosed <socket.socket fd=72, family=AddressFamily.AF_INET, type=SocketKind.SOCK_STREAM, proto=6, laddr=('192.168.29.239', 59105), raddr=('104.244.42.2', 443)>\n",
      "/anaconda3/lib/python3.6/site-packages/ipykernel_launcher.py:43: ResourceWarning: unclosed <socket.socket fd=71, family=AddressFamily.AF_INET, type=SocketKind.SOCK_STREAM, proto=6, laddr=('192.168.29.239', 59109), raddr=('104.244.42.2', 443)>\n",
      "/anaconda3/lib/python3.6/site-packages/ipykernel_launcher.py:43: ResourceWarning: unclosed <socket.socket fd=74, family=AddressFamily.AF_INET, type=SocketKind.SOCK_STREAM, proto=6, laddr=('192.168.29.239', 59110), raddr=('104.244.42.2', 443)>\n",
      "/anaconda3/lib/python3.6/site-packages/ipykernel_launcher.py:43: ResourceWarning: unclosed <socket.socket fd=77, family=AddressFamily.AF_INET, type=SocketKind.SOCK_STREAM, proto=6, laddr=('192.168.29.239', 59111), raddr=('104.244.42.2', 443)>\n",
      "/anaconda3/lib/python3.6/site-packages/ipykernel_launcher.py:43: ResourceWarning: unclosed <socket.socket fd=79, family=AddressFamily.AF_INET, type=SocketKind.SOCK_STREAM, proto=6, laddr=('192.168.29.239', 59113), raddr=('104.244.42.2', 443)>\n",
      "/anaconda3/lib/python3.6/site-packages/tweepy/binder.py:222: ResourceWarning: unclosed <socket.socket fd=75, family=AddressFamily.AF_INET, type=SocketKind.SOCK_STREAM, proto=6, laddr=('192.168.29.239', 59115), raddr=('104.244.42.2', 443)>\n",
      "  self.api.last_response = resp\n"
     ]
    },
    {
     "name": "stdout",
     "output_type": "stream",
     "text": [
      "getting tweets before 782987406949486591\n"
     ]
    },
    {
     "name": "stderr",
     "output_type": "stream",
     "text": [
      "/anaconda3/lib/python3.6/json/decoder.py:355: ResourceWarning: unclosed <socket.socket fd=61, family=AddressFamily.AF_INET, type=SocketKind.SOCK_STREAM, proto=6, laddr=('192.168.29.239', 59116), raddr=('104.244.42.2', 443)>\n",
      "  obj, end = self.scan_once(s, idx)\n"
     ]
    },
    {
     "name": "stdout",
     "output_type": "stream",
     "text": [
      "...400 tweets downloaded so far\n",
      "getting tweets before 759102500343537663\n",
      "...600 tweets downloaded so far\n",
      "getting tweets before 732589315478290431\n",
      "...800 tweets downloaded so far\n",
      "getting tweets before 710856454333288447\n",
      "...1000 tweets downloaded so far\n",
      "getting tweets before 688844894518034433\n"
     ]
    },
    {
     "name": "stderr",
     "output_type": "stream",
     "text": [
      "/anaconda3/lib/python3.6/json/decoder.py:355: ResourceWarning: unclosed <socket.socket fd=69, family=AddressFamily.AF_INET, type=SocketKind.SOCK_STREAM, proto=6, laddr=('192.168.29.239', 59124), raddr=('104.244.42.2', 443)>\n",
      "  obj, end = self.scan_once(s, idx)\n"
     ]
    },
    {
     "name": "stdout",
     "output_type": "stream",
     "text": [
      "...1200 tweets downloaded so far\n",
      "getting tweets before 675347103254736895\n",
      "...1400 tweets downloaded so far\n",
      "getting tweets before 654361922104504319\n",
      "...1600 tweets downloaded so far\n",
      "getting tweets before 632211730509119487\n",
      "...1800 tweets downloaded so far\n",
      "getting tweets before 618472259481698303\n"
     ]
    },
    {
     "name": "stderr",
     "output_type": "stream",
     "text": [
      "/anaconda3/lib/python3.6/json/decoder.py:355: ResourceWarning: unclosed <socket.socket fd=74, family=AddressFamily.AF_INET, type=SocketKind.SOCK_STREAM, proto=6, laddr=('192.168.29.239', 59128), raddr=('104.244.42.2', 443)>\n",
      "  obj, end = self.scan_once(s, idx)\n"
     ]
    },
    {
     "name": "stdout",
     "output_type": "stream",
     "text": [
      "...2000 tweets downloaded so far\n",
      "getting tweets before 604004625725829119\n",
      "...2200 tweets downloaded so far\n",
      "getting tweets before 585555324402274304\n",
      "...2399 tweets downloaded so far\n",
      "getting tweets before 567018521901932543\n"
     ]
    },
    {
     "name": "stderr",
     "output_type": "stream",
     "text": [
      "/anaconda3/lib/python3.6/json/decoder.py:355: ResourceWarning: unclosed <socket.socket fd=74, family=AddressFamily.AF_INET, type=SocketKind.SOCK_STREAM, proto=6, laddr=('192.168.29.239', 59131), raddr=('104.244.42.2', 443)>\n",
      "  obj, end = self.scan_once(s, idx)\n"
     ]
    },
    {
     "name": "stdout",
     "output_type": "stream",
     "text": [
      "...2599 tweets downloaded so far\n",
      "getting tweets before 552193266142040063\n",
      "...2798 tweets downloaded so far\n",
      "getting tweets before 535898294883323903\n"
     ]
    },
    {
     "name": "stderr",
     "output_type": "stream",
     "text": [
      "/anaconda3/lib/python3.6/json/decoder.py:355: ResourceWarning: unclosed <socket.socket fd=74, family=AddressFamily.AF_INET, type=SocketKind.SOCK_STREAM, proto=6, laddr=('192.168.29.239', 59133), raddr=('104.244.42.2', 443)>\n",
      "  obj, end = self.scan_once(s, idx)\n"
     ]
    },
    {
     "name": "stdout",
     "output_type": "stream",
     "text": [
      "...2996 tweets downloaded so far\n",
      "getting tweets before 520643982833897471\n"
     ]
    },
    {
     "name": "stderr",
     "output_type": "stream",
     "text": [
      "/anaconda3/lib/python3.6/json/decoder.py:355: ResourceWarning: unclosed <socket.socket fd=65, family=AddressFamily.AF_INET, type=SocketKind.SOCK_STREAM, proto=6, laddr=('192.168.29.239', 59117), raddr=('104.244.42.2', 443)>\n",
      "  obj, end = self.scan_once(s, idx)\n",
      "/anaconda3/lib/python3.6/json/decoder.py:355: ResourceWarning: unclosed <socket.socket fd=61, family=AddressFamily.AF_INET, type=SocketKind.SOCK_STREAM, proto=6, laddr=('192.168.29.239', 59122), raddr=('104.244.42.2', 443)>\n",
      "  obj, end = self.scan_once(s, idx)\n",
      "/anaconda3/lib/python3.6/json/decoder.py:355: ResourceWarning: unclosed <socket.socket fd=68, family=AddressFamily.AF_INET, type=SocketKind.SOCK_STREAM, proto=6, laddr=('192.168.29.239', 59123), raddr=('104.244.42.2', 443)>\n",
      "  obj, end = self.scan_once(s, idx)\n",
      "/anaconda3/lib/python3.6/json/decoder.py:355: ResourceWarning: unclosed <socket.socket fd=70, family=AddressFamily.AF_INET, type=SocketKind.SOCK_STREAM, proto=6, laddr=('192.168.29.239', 59125), raddr=('104.244.42.2', 443)>\n",
      "  obj, end = self.scan_once(s, idx)\n",
      "/anaconda3/lib/python3.6/json/decoder.py:355: ResourceWarning: unclosed <socket.socket fd=69, family=AddressFamily.AF_INET, type=SocketKind.SOCK_STREAM, proto=6, laddr=('192.168.29.239', 59126), raddr=('104.244.42.2', 443)>\n",
      "  obj, end = self.scan_once(s, idx)\n",
      "/anaconda3/lib/python3.6/json/decoder.py:355: ResourceWarning: unclosed <socket.socket fd=71, family=AddressFamily.AF_INET, type=SocketKind.SOCK_STREAM, proto=6, laddr=('192.168.29.239', 59127), raddr=('104.244.42.2', 443)>\n",
      "  obj, end = self.scan_once(s, idx)\n",
      "/anaconda3/lib/python3.6/json/decoder.py:355: ResourceWarning: unclosed <socket.socket fd=72, family=AddressFamily.AF_INET, type=SocketKind.SOCK_STREAM, proto=6, laddr=('192.168.29.239', 59129), raddr=('104.244.42.2', 443)>\n",
      "  obj, end = self.scan_once(s, idx)\n",
      "/anaconda3/lib/python3.6/json/decoder.py:355: ResourceWarning: unclosed <socket.socket fd=73, family=AddressFamily.AF_INET, type=SocketKind.SOCK_STREAM, proto=6, laddr=('192.168.29.239', 59130), raddr=('104.244.42.2', 443)>\n",
      "  obj, end = self.scan_once(s, idx)\n",
      "/anaconda3/lib/python3.6/json/decoder.py:355: ResourceWarning: unclosed <socket.socket fd=75, family=AddressFamily.AF_INET, type=SocketKind.SOCK_STREAM, proto=6, laddr=('192.168.29.239', 59132), raddr=('104.244.42.2', 443)>\n",
      "  obj, end = self.scan_once(s, idx)\n",
      "/anaconda3/lib/python3.6/json/decoder.py:355: ResourceWarning: unclosed <socket.socket fd=76, family=AddressFamily.AF_INET, type=SocketKind.SOCK_STREAM, proto=6, laddr=('192.168.29.239', 59134), raddr=('104.244.42.2', 443)>\n",
      "  obj, end = self.scan_once(s, idx)\n"
     ]
    },
    {
     "name": "stdout",
     "output_type": "stream",
     "text": [
      "...3196 tweets downloaded so far\n",
      "getting tweets before 507182148411871231\n",
      "...3204 tweets downloaded so far\n",
      "getting tweets before 505111372565209087\n",
      "...3204 tweets downloaded so far\n"
     ]
    },
    {
     "name": "stderr",
     "output_type": "stream",
     "text": [
      "/anaconda3/lib/python3.6/site-packages/tweepy/binder.py:222: ResourceWarning: unclosed <socket.socket fd=65, family=AddressFamily.AF_INET, type=SocketKind.SOCK_STREAM, proto=6, laddr=('192.168.29.239', 59137), raddr=('104.244.42.2', 443)>\n",
      "  self.api.last_response = resp\n",
      "/anaconda3/lib/python3.6/json/decoder.py:355: ResourceWarning: unclosed <socket.socket fd=61, family=AddressFamily.AF_INET, type=SocketKind.SOCK_STREAM, proto=6, laddr=('192.168.29.239', 59136), raddr=('104.244.42.2', 443)>\n",
      "  obj, end = self.scan_once(s, idx)\n"
     ]
    },
    {
     "name": "stdout",
     "output_type": "stream",
     "text": [
      "getting tweets before 903620682948456447\n",
      "...399 tweets downloaded so far\n",
      "getting tweets before 700159431410057215\n",
      "...595 tweets downloaded so far\n",
      "getting tweets before 564911968796962815\n",
      "...793 tweets downloaded so far\n",
      "getting tweets before 532514009720061951\n",
      "...993 tweets downloaded so far\n",
      "getting tweets before 492419786161545215\n"
     ]
    },
    {
     "name": "stderr",
     "output_type": "stream",
     "text": [
      "/anaconda3/lib/python3.6/json/decoder.py:355: ResourceWarning: unclosed <socket.socket fd=69, family=AddressFamily.AF_INET, type=SocketKind.SOCK_STREAM, proto=6, laddr=('192.168.29.239', 59142), raddr=('104.244.42.2', 443)>\n",
      "  obj, end = self.scan_once(s, idx)\n"
     ]
    },
    {
     "name": "stdout",
     "output_type": "stream",
     "text": [
      "...1192 tweets downloaded so far\n",
      "getting tweets before 479302410632839167\n",
      "...1390 tweets downloaded so far\n",
      "getting tweets before 447236206498443264\n",
      "...1585 tweets downloaded so far\n",
      "getting tweets before 394762058732154879\n",
      "...1782 tweets downloaded so far\n",
      "getting tweets before 381658609316552703\n"
     ]
    },
    {
     "name": "stderr",
     "output_type": "stream",
     "text": [
      "/anaconda3/lib/python3.6/json/decoder.py:355: ResourceWarning: unclosed <socket.socket fd=73, family=AddressFamily.AF_INET, type=SocketKind.SOCK_STREAM, proto=6, laddr=('192.168.29.239', 59146), raddr=('104.244.42.2', 443)>\n",
      "  obj, end = self.scan_once(s, idx)\n"
     ]
    },
    {
     "name": "stdout",
     "output_type": "stream",
     "text": [
      "...1980 tweets downloaded so far\n",
      "getting tweets before 366734657192079359\n",
      "...2177 tweets downloaded so far\n",
      "getting tweets before 349170706283642883\n"
     ]
    },
    {
     "name": "stderr",
     "output_type": "stream",
     "text": [
      "/anaconda3/lib/python3.6/site-packages/tweepy/binder.py:222: ResourceWarning: unclosed <socket.socket fd=76, family=AddressFamily.AF_INET, type=SocketKind.SOCK_STREAM, proto=6, laddr=('192.168.29.239', 59148), raddr=('104.244.42.2', 443)>\n",
      "  self.api.last_response = resp\n"
     ]
    },
    {
     "name": "stdout",
     "output_type": "stream",
     "text": [
      "...2372 tweets downloaded so far\n",
      "getting tweets before 335440927877369857\n",
      "...2572 tweets downloaded so far\n",
      "getting tweets before 317733549195272192\n",
      "...2761 tweets downloaded so far\n",
      "getting tweets before 298521381086310400\n"
     ]
    },
    {
     "name": "stderr",
     "output_type": "stream",
     "text": [
      "/anaconda3/lib/python3.6/json/decoder.py:355: ResourceWarning: unclosed <socket.socket fd=75, family=AddressFamily.AF_INET, type=SocketKind.SOCK_STREAM, proto=6, laddr=('192.168.29.239', 59151), raddr=('104.244.42.2', 443)>\n",
      "  obj, end = self.scan_once(s, idx)\n",
      "/anaconda3/lib/python3.6/json/decoder.py:355: ResourceWarning: unclosed <socket.socket fd=74, family=AddressFamily.AF_INET, type=SocketKind.SOCK_STREAM, proto=6, laddr=('192.168.29.239', 59135), raddr=('104.244.42.2', 443)>\n",
      "  obj, end = self.scan_once(s, idx)\n",
      "/anaconda3/lib/python3.6/json/decoder.py:355: ResourceWarning: unclosed <socket.socket fd=70, family=AddressFamily.AF_INET, type=SocketKind.SOCK_STREAM, proto=6, laddr=('192.168.29.239', 59138), raddr=('104.244.42.2', 443)>\n",
      "  obj, end = self.scan_once(s, idx)\n",
      "/anaconda3/lib/python3.6/json/decoder.py:355: ResourceWarning: unclosed <socket.socket fd=61, family=AddressFamily.AF_INET, type=SocketKind.SOCK_STREAM, proto=6, laddr=('192.168.29.239', 59139), raddr=('104.244.42.2', 443)>\n",
      "  obj, end = self.scan_once(s, idx)\n",
      "/anaconda3/lib/python3.6/json/decoder.py:355: ResourceWarning: unclosed <socket.socket fd=65, family=AddressFamily.AF_INET, type=SocketKind.SOCK_STREAM, proto=6, laddr=('192.168.29.239', 59140), raddr=('104.244.42.2', 443)>\n",
      "  obj, end = self.scan_once(s, idx)\n",
      "/anaconda3/lib/python3.6/json/decoder.py:355: ResourceWarning: unclosed <socket.socket fd=68, family=AddressFamily.AF_INET, type=SocketKind.SOCK_STREAM, proto=6, laddr=('192.168.29.239', 59141), raddr=('104.244.42.2', 443)>\n",
      "  obj, end = self.scan_once(s, idx)\n",
      "/anaconda3/lib/python3.6/json/decoder.py:355: ResourceWarning: unclosed <socket.socket fd=71, family=AddressFamily.AF_INET, type=SocketKind.SOCK_STREAM, proto=6, laddr=('192.168.29.239', 59143), raddr=('104.244.42.2', 443)>\n",
      "  obj, end = self.scan_once(s, idx)\n",
      "/anaconda3/lib/python3.6/json/decoder.py:355: ResourceWarning: unclosed <socket.socket fd=69, family=AddressFamily.AF_INET, type=SocketKind.SOCK_STREAM, proto=6, laddr=('192.168.29.239', 59144), raddr=('104.244.42.2', 443)>\n",
      "  obj, end = self.scan_once(s, idx)\n",
      "/anaconda3/lib/python3.6/json/decoder.py:355: ResourceWarning: unclosed <socket.socket fd=72, family=AddressFamily.AF_INET, type=SocketKind.SOCK_STREAM, proto=6, laddr=('192.168.29.239', 59145), raddr=('104.244.42.2', 443)>\n",
      "  obj, end = self.scan_once(s, idx)\n",
      "/anaconda3/lib/python3.6/json/decoder.py:355: ResourceWarning: unclosed <socket.socket fd=77, family=AddressFamily.AF_INET, type=SocketKind.SOCK_STREAM, proto=6, laddr=('192.168.29.239', 59147), raddr=('104.244.42.2', 443)>\n",
      "  obj, end = self.scan_once(s, idx)\n",
      "/anaconda3/lib/python3.6/json/decoder.py:355: ResourceWarning: unclosed <socket.socket fd=73, family=AddressFamily.AF_INET, type=SocketKind.SOCK_STREAM, proto=6, laddr=('192.168.29.239', 59149), raddr=('104.244.42.2', 443)>\n",
      "  obj, end = self.scan_once(s, idx)\n",
      "/anaconda3/lib/python3.6/json/decoder.py:355: ResourceWarning: unclosed <socket.socket fd=78, family=AddressFamily.AF_INET, type=SocketKind.SOCK_STREAM, proto=6, laddr=('192.168.29.239', 59150), raddr=('104.244.42.2', 443)>\n",
      "  obj, end = self.scan_once(s, idx)\n"
     ]
    },
    {
     "name": "stdout",
     "output_type": "stream",
     "text": [
      "...2960 tweets downloaded so far\n",
      "getting tweets before 283940715455721471\n",
      "...3156 tweets downloaded so far\n",
      "getting tweets before 270934455357673471\n",
      "...3205 tweets downloaded so far\n",
      "getting tweets before 268363645673680895\n",
      "...3205 tweets downloaded so far\n"
     ]
    },
    {
     "name": "stderr",
     "output_type": "stream",
     "text": [
      "/anaconda3/lib/python3.6/site-packages/tweepy/binder.py:222: ResourceWarning: unclosed <socket.socket fd=68, family=AddressFamily.AF_INET, type=SocketKind.SOCK_STREAM, proto=6, laddr=('192.168.29.239', 59155), raddr=('104.244.42.2', 443)>\n",
      "  self.api.last_response = resp\n",
      "/anaconda3/lib/python3.6/json/decoder.py:355: ResourceWarning: unclosed <socket.socket fd=65, family=AddressFamily.AF_INET, type=SocketKind.SOCK_STREAM, proto=6, laddr=('192.168.29.239', 59154), raddr=('104.244.42.2', 443)>\n",
      "  obj, end = self.scan_once(s, idx)\n"
     ]
    },
    {
     "name": "stdout",
     "output_type": "stream",
     "text": [
      "getting tweets before 956205052909244415\n",
      "...400 tweets downloaded so far\n",
      "getting tweets before 931196363848781823\n"
     ]
    },
    {
     "name": "stderr",
     "output_type": "stream",
     "text": [
      "/anaconda3/lib/python3.6/json/decoder.py:355: ResourceWarning: unclosed <socket.socket fd=69, family=AddressFamily.AF_INET, type=SocketKind.SOCK_STREAM, proto=6, laddr=('192.168.29.239', 59157), raddr=('104.244.42.2', 443)>\n",
      "  obj, end = self.scan_once(s, idx)\n"
     ]
    },
    {
     "name": "stdout",
     "output_type": "stream",
     "text": [
      "...600 tweets downloaded so far\n",
      "getting tweets before 920342221907484671\n",
      "...800 tweets downloaded so far\n",
      "getting tweets before 909068993834704895\n",
      "...1000 tweets downloaded so far\n",
      "getting tweets before 898969341907140607\n"
     ]
    },
    {
     "name": "stderr",
     "output_type": "stream",
     "text": [
      "/anaconda3/lib/python3.6/json/decoder.py:355: ResourceWarning: unclosed <socket.socket fd=68, family=AddressFamily.AF_INET, type=SocketKind.SOCK_STREAM, proto=6, laddr=('192.168.29.239', 59160), raddr=('104.244.42.130', 443)>\n",
      "  obj, end = self.scan_once(s, idx)\n"
     ]
    },
    {
     "name": "stdout",
     "output_type": "stream",
     "text": [
      "...1200 tweets downloaded so far\n",
      "getting tweets before 886905954264068095\n",
      "...1400 tweets downloaded so far\n",
      "getting tweets before 872823443208769535\n",
      "...1600 tweets downloaded so far\n",
      "getting tweets before 857665563249831935\n"
     ]
    },
    {
     "name": "stderr",
     "output_type": "stream",
     "text": [
      "/anaconda3/lib/python3.6/json/decoder.py:355: ResourceWarning: unclosed <socket.socket fd=72, family=AddressFamily.AF_INET, type=SocketKind.SOCK_STREAM, proto=6, laddr=('192.168.29.239', 59163), raddr=('104.244.42.130', 443)>\n",
      "  obj, end = self.scan_once(s, idx)\n"
     ]
    },
    {
     "name": "stdout",
     "output_type": "stream",
     "text": [
      "...1800 tweets downloaded so far\n",
      "getting tweets before 846464868647620607\n",
      "...2000 tweets downloaded so far\n",
      "getting tweets before 830151231825919999\n",
      "...2200 tweets downloaded so far\n",
      "getting tweets before 811320470247272447\n"
     ]
    },
    {
     "name": "stderr",
     "output_type": "stream",
     "text": [
      "/anaconda3/lib/python3.6/json/decoder.py:355: ResourceWarning: unclosed <socket.socket fd=77, family=AddressFamily.AF_INET, type=SocketKind.SOCK_STREAM, proto=6, laddr=('192.168.29.239', 59166), raddr=('104.244.42.130', 443)>\n",
      "  obj, end = self.scan_once(s, idx)\n"
     ]
    },
    {
     "name": "stdout",
     "output_type": "stream",
     "text": [
      "...2400 tweets downloaded so far\n",
      "getting tweets before 788177169239465983\n",
      "...2600 tweets downloaded so far\n",
      "getting tweets before 773625658836647935\n"
     ]
    },
    {
     "name": "stderr",
     "output_type": "stream",
     "text": [
      "/anaconda3/lib/python3.6/json/decoder.py:355: ResourceWarning: unclosed <socket.socket fd=75, family=AddressFamily.AF_INET, type=SocketKind.SOCK_STREAM, proto=6, laddr=('192.168.29.239', 59168), raddr=('104.244.42.130', 443)>\n",
      "  obj, end = self.scan_once(s, idx)\n"
     ]
    },
    {
     "name": "stdout",
     "output_type": "stream",
     "text": [
      "...2800 tweets downloaded so far\n",
      "getting tweets before 755774799176142847\n",
      "...3000 tweets downloaded so far\n",
      "getting tweets before 743517535140777984\n"
     ]
    },
    {
     "name": "stderr",
     "output_type": "stream",
     "text": [
      "/anaconda3/lib/python3.6/site-packages/requests/adapters.py:120: ResourceWarning: unclosed <socket.socket fd=76, family=AddressFamily.AF_INET, type=SocketKind.SOCK_STREAM, proto=6, laddr=('192.168.29.239', 59152), raddr=('104.244.42.2', 443)>\n",
      "  super(HTTPAdapter, self).__init__()\n",
      "/anaconda3/lib/python3.6/site-packages/requests/adapters.py:120: ResourceWarning: unclosed <socket.socket fd=61, family=AddressFamily.AF_INET, type=SocketKind.SOCK_STREAM, proto=6, laddr=('192.168.29.239', 59153), raddr=('104.244.42.2', 443)>\n",
      "  super(HTTPAdapter, self).__init__()\n",
      "/anaconda3/lib/python3.6/site-packages/requests/adapters.py:120: ResourceWarning: unclosed <socket.socket fd=71, family=AddressFamily.AF_INET, type=SocketKind.SOCK_STREAM, proto=6, laddr=('192.168.29.239', 59156), raddr=('104.244.42.2', 443)>\n",
      "  super(HTTPAdapter, self).__init__()\n",
      "/anaconda3/lib/python3.6/site-packages/requests/adapters.py:120: ResourceWarning: unclosed <socket.socket fd=70, family=AddressFamily.AF_INET, type=SocketKind.SOCK_STREAM, proto=6, laddr=('192.168.29.239', 59158), raddr=('104.244.42.2', 443)>\n",
      "  super(HTTPAdapter, self).__init__()\n",
      "/anaconda3/lib/python3.6/site-packages/requests/adapters.py:120: ResourceWarning: unclosed <socket.socket fd=65, family=AddressFamily.AF_INET, type=SocketKind.SOCK_STREAM, proto=6, laddr=('192.168.29.239', 59159), raddr=('104.244.42.2', 443)>\n",
      "  super(HTTPAdapter, self).__init__()\n",
      "/anaconda3/lib/python3.6/site-packages/requests/adapters.py:120: ResourceWarning: unclosed <socket.socket fd=69, family=AddressFamily.AF_INET, type=SocketKind.SOCK_STREAM, proto=6, laddr=('192.168.29.239', 59161), raddr=('104.244.42.130', 443)>\n",
      "  super(HTTPAdapter, self).__init__()\n",
      "/anaconda3/lib/python3.6/site-packages/requests/adapters.py:120: ResourceWarning: unclosed <socket.socket fd=68, family=AddressFamily.AF_INET, type=SocketKind.SOCK_STREAM, proto=6, laddr=('192.168.29.239', 59162), raddr=('104.244.42.130', 443)>\n",
      "  super(HTTPAdapter, self).__init__()\n",
      "/anaconda3/lib/python3.6/site-packages/requests/adapters.py:120: ResourceWarning: unclosed <socket.socket fd=73, family=AddressFamily.AF_INET, type=SocketKind.SOCK_STREAM, proto=6, laddr=('192.168.29.239', 59164), raddr=('104.244.42.130', 443)>\n",
      "  super(HTTPAdapter, self).__init__()\n",
      "/anaconda3/lib/python3.6/site-packages/requests/adapters.py:120: ResourceWarning: unclosed <socket.socket fd=72, family=AddressFamily.AF_INET, type=SocketKind.SOCK_STREAM, proto=6, laddr=('192.168.29.239', 59165), raddr=('104.244.42.130', 443)>\n",
      "  super(HTTPAdapter, self).__init__()\n",
      "/anaconda3/lib/python3.6/site-packages/requests/adapters.py:120: ResourceWarning: unclosed <socket.socket fd=74, family=AddressFamily.AF_INET, type=SocketKind.SOCK_STREAM, proto=6, laddr=('192.168.29.239', 59167), raddr=('104.244.42.130', 443)>\n",
      "  super(HTTPAdapter, self).__init__()\n",
      "/anaconda3/lib/python3.6/site-packages/requests/adapters.py:120: ResourceWarning: unclosed <socket.socket fd=77, family=AddressFamily.AF_INET, type=SocketKind.SOCK_STREAM, proto=6, laddr=('192.168.29.239', 59169), raddr=('104.244.42.130', 443)>\n",
      "  super(HTTPAdapter, self).__init__()\n",
      "/anaconda3/lib/python3.6/site-packages/tweepy/binder.py:222: ResourceWarning: unclosed <socket.socket fd=75, family=AddressFamily.AF_INET, type=SocketKind.SOCK_STREAM, proto=6, laddr=('192.168.29.239', 59170), raddr=('104.244.42.130', 443)>\n",
      "  self.api.last_response = resp\n"
     ]
    },
    {
     "name": "stdout",
     "output_type": "stream",
     "text": [
      "...3200 tweets downloaded so far\n",
      "getting tweets before 730162874706964479\n",
      "...3243 tweets downloaded so far\n",
      "getting tweets before 726147260879364095\n",
      "...3243 tweets downloaded so far\n"
     ]
    },
    {
     "name": "stderr",
     "output_type": "stream",
     "text": [
      "/anaconda3/lib/python3.6/site-packages/ipykernel_launcher.py:43: ResourceWarning: unclosed <socket.socket fd=61, family=AddressFamily.AF_INET, type=SocketKind.SOCK_STREAM, proto=6, laddr=('192.168.29.239', 59172), raddr=('104.244.42.130', 443)>\n",
      "/anaconda3/lib/python3.6/site-packages/ipykernel_launcher.py:43: ResourceWarning: unclosed <socket.socket fd=68, family=AddressFamily.AF_INET, type=SocketKind.SOCK_STREAM, proto=6, laddr=('192.168.29.239', 59171), raddr=('104.244.42.130', 443)>\n",
      "/anaconda3/lib/python3.6/site-packages/tweepy/binder.py:222: ResourceWarning: unclosed <socket.socket fd=65, family=AddressFamily.AF_INET, type=SocketKind.SOCK_STREAM, proto=6, laddr=('192.168.29.239', 59173), raddr=('104.244.42.130', 443)>\n",
      "  self.api.last_response = resp\n"
     ]
    },
    {
     "name": "stdout",
     "output_type": "stream",
     "text": [
      "getting tweets before 936233373474938879\n"
     ]
    },
    {
     "name": "stderr",
     "output_type": "stream",
     "text": [
      "/anaconda3/lib/python3.6/site-packages/tweepy/models.py:140: ResourceWarning: unclosed <socket.socket fd=69, family=AddressFamily.AF_INET, type=SocketKind.SOCK_STREAM, proto=6, laddr=('192.168.29.239', 59174), raddr=('104.244.42.130', 443)>\n",
      "  for k, v in json.items():\n"
     ]
    },
    {
     "name": "stdout",
     "output_type": "stream",
     "text": [
      "...400 tweets downloaded so far\n",
      "getting tweets before 859369379968028671\n",
      "...600 tweets downloaded so far\n",
      "getting tweets before 787978973124792319\n",
      "...800 tweets downloaded so far\n",
      "getting tweets before 719072454551797759\n"
     ]
    },
    {
     "name": "stderr",
     "output_type": "stream",
     "text": [
      "/anaconda3/lib/python3.6/json/decoder.py:355: ResourceWarning: unclosed <socket.socket fd=61, family=AddressFamily.AF_INET, type=SocketKind.SOCK_STREAM, proto=6, laddr=('192.168.29.239', 59176), raddr=('104.244.42.130', 443)>\n",
      "  obj, end = self.scan_once(s, idx)\n",
      "/anaconda3/lib/python3.6/json/decoder.py:355: ResourceWarning: unclosed <socket.socket fd=65, family=AddressFamily.AF_INET, type=SocketKind.SOCK_STREAM, proto=6, laddr=('192.168.29.239', 59177), raddr=('104.244.42.130', 443)>\n",
      "  obj, end = self.scan_once(s, idx)\n"
     ]
    },
    {
     "name": "stdout",
     "output_type": "stream",
     "text": [
      "...1000 tweets downloaded so far\n",
      "getting tweets before 611558998022553601\n",
      "...1200 tweets downloaded so far\n",
      "getting tweets before 498091387242311680\n"
     ]
    },
    {
     "name": "stderr",
     "output_type": "stream",
     "text": [
      "/anaconda3/lib/python3.6/json/decoder.py:355: ResourceWarning: unclosed <socket.socket fd=61, family=AddressFamily.AF_INET, type=SocketKind.SOCK_STREAM, proto=6, laddr=('192.168.29.239', 59179), raddr=('104.244.42.130', 443)>\n",
      "  obj, end = self.scan_once(s, idx)\n"
     ]
    },
    {
     "name": "stdout",
     "output_type": "stream",
     "text": [
      "...1400 tweets downloaded so far\n",
      "getting tweets before 394376817429053439\n",
      "...1580 tweets downloaded so far\n",
      "getting tweets before 313247631054864383\n",
      "...1580 tweets downloaded so far\n"
     ]
    }
   ],
   "source": [
    "# Getting more tweets from Ellen Degeneres, Barack Obama, Rihanna, Senator John Mccain, and Pope Francis\n",
    "more_twts = get_all_tweets(['TheEllenShow','BarackObama','Rihanna','senjohnmccain','pontifex'])"
   ]
  },
  {
   "cell_type": "code",
   "execution_count": 137,
   "metadata": {},
   "outputs": [
    {
     "data": {
      "text/plain": [
       "SenJohnMcCain    3243\n",
       "TheEllenShow     3224\n",
       "rihanna          3205\n",
       "BarackObama      3204\n",
       "Pontifex         1580\n",
       "Name: 0, dtype: int64"
      ]
     },
     "execution_count": 137,
     "metadata": {},
     "output_type": "execute_result"
    }
   ],
   "source": [
    "more_twts[0].value_counts()"
   ]
  },
  {
   "cell_type": "code",
   "execution_count": 138,
   "metadata": {},
   "outputs": [],
   "source": [
    "more_twts.columns = ['screenname','tweet']"
   ]
  },
  {
   "cell_type": "code",
   "execution_count": 139,
   "metadata": {},
   "outputs": [],
   "source": [
    "more_twts['tweet'] = more_twts['tweet'].astype(str)\n"
   ]
  },
  {
   "cell_type": "code",
   "execution_count": 140,
   "metadata": {},
   "outputs": [
    {
     "name": "stderr",
     "output_type": "stream",
     "text": [
      "/anaconda3/lib/python3.6/site-packages/pandas/core/internals.py:5010: ResourceWarning: unclosed <socket.socket fd=61, family=AddressFamily.AF_INET, type=SocketKind.SOCK_STREAM, proto=6, laddr=('192.168.29.239', 59181), raddr=('104.244.42.130', 443)>\n",
      "  yield blkno, BlockPlacement(indexer)\n"
     ]
    }
   ],
   "source": [
    "for r in range(len(tweets['tweet'])):\n",
    "    more_twts['tweet'][r] = text_cleaner(more_twts['tweet'][r])\n",
    "\n",
    "#Dropping retweets    \n",
    "more_twts = more_twts[more_twts['tweet'].str.contains(\"RT\") == False].reset_index(drop=True)"
   ]
  },
  {
   "cell_type": "code",
   "execution_count": 141,
   "metadata": {},
   "outputs": [
    {
     "name": "stderr",
     "output_type": "stream",
     "text": [
      "/anaconda3/lib/python3.6/site-packages/msgpack_numpy.py:84: DeprecationWarning: The binary mode of fromstring is deprecated, as it behaves surprisingly on unicode inputs. Use frombuffer instead\n",
      "  dtype=np.dtype(descr)).reshape(obj[b'shape'])\n",
      "/anaconda3/lib/python3.6/site-packages/numpy/core/shape_base.py:101: ResourceWarning: unclosed <socket.socket fd=68, family=AddressFamily.AF_INET, type=SocketKind.SOCK_STREAM, proto=6, laddr=('192.168.29.239', 59175), raddr=('104.244.42.130', 443)>\n",
      "  for ary in arys:\n",
      "/anaconda3/lib/python3.6/site-packages/numpy/core/shape_base.py:101: ResourceWarning: unclosed <socket.socket fd=69, family=AddressFamily.AF_INET, type=SocketKind.SOCK_STREAM, proto=6, laddr=('192.168.29.239', 59178), raddr=('104.244.42.130', 443)>\n",
      "  for ary in arys:\n",
      "/anaconda3/lib/python3.6/site-packages/numpy/core/shape_base.py:101: ResourceWarning: unclosed <socket.socket fd=65, family=AddressFamily.AF_INET, type=SocketKind.SOCK_STREAM, proto=6, laddr=('192.168.29.239', 59180), raddr=('104.244.42.130', 443)>\n",
      "  for ary in arys:\n",
      "/anaconda3/lib/python3.6/site-packages/numpy/core/shape_base.py:101: ResourceWarning: unclosed <socket.socket fd=70, family=AddressFamily.AF_INET, type=SocketKind.SOCK_STREAM, proto=6, laddr=('192.168.29.239', 59182), raddr=('104.244.42.130', 443)>\n",
      "  for ary in arys:\n"
     ]
    }
   ],
   "source": [
    "# Parse tweets\n",
    "nlp = spacy.load('en')\n",
    "\n",
    "parsed = []\n",
    "\n",
    "for r in more_twts['tweet']:\n",
    "    p = nlp(r)\n",
    "    parsed.append(p)"
   ]
  },
  {
   "cell_type": "code",
   "execution_count": 142,
   "metadata": {},
   "outputs": [],
   "source": [
    "more_twts['parsed'] = parsed"
   ]
  },
  {
   "cell_type": "code",
   "execution_count": 143,
   "metadata": {},
   "outputs": [],
   "source": [
    "# Adding tweets from previous pull to dataframe.\n",
    "df = pd.concat([more_twts, tweets], axis=0)"
   ]
  },
  {
   "cell_type": "code",
   "execution_count": 149,
   "metadata": {},
   "outputs": [
    {
     "name": "stdout",
     "output_type": "stream",
     "text": [
      "<class 'pandas.core.frame.DataFrame'>\n",
      "RangeIndex: 23603 entries, 0 to 23602\n",
      "Data columns (total 3 columns):\n",
      "screenname    23603 non-null object\n",
      "tweet         23603 non-null object\n",
      "parsed        23603 non-null object\n",
      "dtypes: object(3)\n",
      "memory usage: 553.3+ KB\n"
     ]
    }
   ],
   "source": [
    "df = df.reset_index(drop=True)\n",
    "df.info()"
   ]
  },
  {
   "cell_type": "code",
   "execution_count": 145,
   "metadata": {},
   "outputs": [
    {
     "name": "stdout",
     "output_type": "stream",
     "text": [
      "['omg', '-pron-', 'scar', '@bts_twt', 'btsxellen']\n",
      "We have 23603 tweets and 169941 tokens.\n"
     ]
    }
   ],
   "source": [
    "# Organize the parsed doc into sentences, while filtering out punctuation\n",
    "# and stop words, and converting words to lower case lemmas.\n",
    "twts = []\n",
    "for tweet in df['parsed']:\n",
    "    tweet = [\n",
    "        token.lemma_.lower()\n",
    "        for token in tweet\n",
    "        if not token.is_stop\n",
    "        and not token.is_punct\n",
    "    ]\n",
    "    twts.append(tweet)\n",
    "\n",
    "\n",
    "print(twts[10])\n",
    "print('We have {} tweets and {} tokens.'.format(len(twts), len(text)))"
   ]
  },
  {
   "cell_type": "code",
   "execution_count": 146,
   "metadata": {},
   "outputs": [
    {
     "name": "stderr",
     "output_type": "stream",
     "text": [
      "/anaconda3/lib/python3.6/importlib/_bootstrap.py:219: ImportWarning: can't resolve package from __spec__ or __package__, falling back on __name__ and __path__\n",
      "  return f(*args, **kwds)\n",
      "/anaconda3/lib/python3.6/site-packages/scipy/sparse/sparsetools.py:20: DeprecationWarning: `scipy.sparse.sparsetools` is deprecated!\n",
      "scipy.sparse.sparsetools is a private module for scipy.sparse, and should not be used.\n",
      "  _deprecated()\n"
     ]
    },
    {
     "name": "stdout",
     "output_type": "stream",
     "text": [
      "done!\n"
     ]
    }
   ],
   "source": [
    "import gensim\n",
    "from gensim.models import word2vec\n",
    "\n",
    "model = word2vec.Word2Vec(\n",
    "    twts,\n",
    "    workers=4,     # Number of threads to run in parallel (if your computer does parallel processing).\n",
    "    min_count=10,  # Minimum word count threshold.\n",
    "    window=6,      # Number of words around target word to consider.\n",
    "    sg=0,          # Use CBOW because our corpus is small.\n",
    "    sample=1e-3 ,  # Penalize frequent words.\n",
    "    size=300,      # Word vector length.\n",
    "    hs=1           # Use hierarchical softmax.\n",
    ")\n",
    "\n",
    "print('done!')"
   ]
  },
  {
   "cell_type": "code",
   "execution_count": 147,
   "metadata": {},
   "outputs": [
    {
     "name": "stdout",
     "output_type": "stream",
     "text": [
      "dict_keys(['here', '’', 'look', 'new', '-pron-', 'be', 'sure', '@edwildlifefund', 'if', 'mean', 'effect', 'grateful', 'two', 'more', 'day', '@bts_twt', 'btsxellen', '\\n\\n', 'watch', 'clip', 'definitely', 'think', 'dance', 'not', 'know', 'dare', 'challenge', 'winner', 'thank', '@nickiminaj', 'put', 'music', 'video', 'bless', 'surprise', 'easily', 'get', 'love', 'west', 'coast', 'the', 'season', 'finale', 'splittinguptogether', 'then', 'will', 'summer', 'excited', '2', 'start', '5', 'minute', 'stop', 'little', 'omg', 'scar', 'catch', 'hide', 'audience', 'today', 'pet', 'that', 'support', 'take', 'action', 'learn', 'lot', 'woman', 'date', 'apology', 'meet', 'middle', 'performance', 'great', 'time', 'red', 'carpet', 'bbma', 'sound', 'like', 'somebody', 'steal', 'wig', 'sneak', 'peek', 'tomorrow', 'abc', 'one', 'pull', 'win', '$', 'thankssponsor', 'sister', 'cute', 'go', 'wrong', 'turn', 'w', 'hold', 'amp', 'f', 'good', 'luck', 'tonight', 'to', 'job', 'host', 'billboard', 'bring', 'nice', 'happy', 'birthday', 'mama', '❤', '️', 'week', 'leave', 'ticket', 'chance', 'weekend', 'hope', 'year', 'fill', 'joy', 'album', 'just', 'kid', 'wonderful', 'morning', 'saturday', 'believe', 'sleep', 'late', 'do', 'miss', 'family', 'santa', 'texas', '@jimmykimmel', 'andy', 'guess', ' ', 'incredibly', 'incredible', 'friend', 'help', 'premiere', '@official_twitch', 'understand', 'game', 'work', 'make', 'celebrity', 'want', 'camera', 'fun', 'agree', 'invite', 'send', 'student', 'answer', 'scene', 'favorite', 'show', 'light', 'air', 'feeling', 'wear', 'with', 'tell', 'secret', 'try', 'talk', 'prince', 'harry', 'hey', 'california', 'wanna', 'difference', 'there', 'register', 'primary', 'some', 'people', 'hear', 'congratulation', 'baby', 'legend', 'have', 'ask', 'x', 'right', 'this', 'dog', 'read', '1', 'clean', 'car', '3', 'national', 'television', 'lady', 'iowa', 'in', 'mr.', 'big', 'stuff', 'dream', 'long', 'lose', 's', 'who', 'glass', 'pink', 'proud', 'wife', 'general', 'public', 'art', 'sale', 'finally', '15', 'say', 'easy', 'now', 'why', 'tweet', 'literally', 'vip', 'perform', 'place', 'would', 'touch', 'man', 'each', 'road', 'word', 'call', 'ellen', 'come', 'high', 'school', 'imagine', 'special', 'beautiful', 'write', 'song', '@rihanna', 'guy', 'animal', 'court', 'wedding', 'hit', 'internet', 'glad', 'scare', 'outside', 'box', 'and', 'inside', 'world', 'endure', 'difficult', 'mom', 'celebrate', 'mothersday', 'b', 'these', 'military', 'message', 'barbara', 'bowl', 'montecito', 'o', 'thing', 'sign', 'shop', '20', 'view', 'fund', 'mountain', 'so', 'wind', 'lucky', 'gameofgames', '80', 'average', '@andylassner', '11', 'what', 'because', 'tie', 'tip', 'home', 'please', 'jennifer', 'pregnant', 'doctor', 'test', 'thousand', 'dollar', 'worth', 'giveaway', 'y', 'boy', 'let', 'need', 'direction', 'street', 'name', 'but', 'wait', 'plane', 'well', 'mystery', 'huge', 'introduce', 'way', 'east', 'consider', 'warning', 'stand', 'buy', 'how', 'give', 'cool', 'note', 'self', '’s', 'book', 'movie', 'for', 'appreciate', 'teacher', 'launch', 'may', '7', '2018', '\\n', 'sometimes', 'exactly', 'plan', 'play', 'enter', 'idea', 'rose', 'feel', 'joke', 'quick', 'prayer', 'gif', 'someone', 'cast', 'drinking', 'update', '@melissamccarthy', '@kanyew', 'find', 'app', 'happen', 'amber', 'kind', 'person', 'especially', 'h', 'bad', 'news', 'keep', 'last', 'when', 'commercial', 'david', 'head', 'crew', '@jlo', 'tough', 'p', '@therock', 'rock', 'house', 'hero', 'james', 'shooter', 'party', '@jtimberlake', 'round', 'never', 'ever', 'no', 'nobody', 'example', 'hard', 'justin', 'control', 'twitter', 'star', 'walk', 'all', 'trouble', 'night', 'kim', 'kanye', '@kimkardashian', 'on', 'reason', 'amazing', 'littlebigshot', 'confirm', 'smell', 'sing', 'continue', 'break', 'tour', 'cut', 'sunday', 'episode', \"'s\", 'change', 'monday', 'got', 'second', 'a', 'tribute', 'body', 'post', 'zero', '@channingtatum', 'wonder', 'enjoy', 'kelly', 'important', 'role', 'chip', 'life', 'knock', 'tuesday', 'young', 'power', 'december', '5th', 'sweat', 'gentleman', 'president', 'run', 'remember', 'see', 'thursday', 'welcome', 'anytime', 'live', 'brilliant', 'child', 'free', 'available', 'sit', 'crazy', 'rich', 'kate', 'line', 'trailer', 'ready', 'blow', 'away', 'tiny', 'genius', 'remind', '@eminem', 'old', 'billy', 'shout', 'excuse', 'accomplish', 'charge', 'hour', 'earth', '9', 'planet', 'option', 'oh', 'honor', 'present', 'defend', 'store', 'raise', 'thebachelor', 'beat', 'rule', 'mine', 'brother', 'better', 'announce', '50', 'cat', 'cover', 'issue', 'st', 'real', 'bush', 'magic', 'las', 'vegas', 'maybe', 'hilarious', 'forget', 'lord', 'talent', 'gift', 'card', 'yep', 'direct', 'black', 'promise', 'phone', 'double', 'edbypetsmart', 'vote', '@ellentube', '@headsup', 'lie', '@chancetherapper', 'rain', 'american', 'til', 'girl', '10', 'attend', 'sorry', 'perfect', 'suffer', 'leg', 'golden', 'white', 'set', 'iphone', '8', 'sell', 'save', 'lead', 'mad', 'about', '25', 'million', 'shirt', 'interview', 'face', 'nominate', 'check', 'jack', 'husband', 'john', 'follow', 'instagram', 'hurry', 'choose', 'marry', '@blakeshelton', 'water', '@pharrell', 'shoe', 'age', 'forward', 'equal', 'pay', '100', 'ago', 'fair', 'funny', 'couple', 'lgbt', 'navy', 'drink', 'unbelievable', 'warn', 'heart', 'entire', 'community', 'affect', 'eat', 'dedication', 'studio', 'e', '+', 'shoot', 'deal', 'stage', 'cheer', 'even', 'yeah', 'hat', 'tbt', '@imkristenbell', '@daxshepard1', 'deserve', 'ride', 'speech', 'unity', 'laugh', 'french', 'pro', 'positive', 'thought', '@youtube', 'hop', 'everyday', 'wish', 'propose', 'statement', 'marriage', 'pretty', 'political', 'office', 'share', 'easter', 'ear', 'april', 'story', 'seriously', 'meeting', '@oprah', 'involve', '@ladygaga', 'tune', 'spring', 'everybody', 'm', 'where', 'hand', 'use', 'grab', 'winter', 'soon', 'tv', 'teach', 'jim', 'march', 'speak', 'inspiring', 'powerful', 'donate', 'san', 'goodness', 'friday', 'naked', 'concert', 'code', 'truth', 'photo', 'true', '8/7c', '@nbc', 't', '@rwitherspoon', 'bold', 'opinion', 'clearly', 'close', 'room', 'first', 'out', 'handle', 'event', 'ya', 'lesson', 'open', 'exclusive', 'warm', 'tag', 'guest', 'christian', 'suit', 'yes', 'protect', 'canadian', 'gold', 'or', 'rest', 'shoulder', 'oscar', 'burn', 'absolutely', 'listen', 'shape', 'shot', 'adorable', '@adamlevine', 'mind', 'top', 'moment', 'donation', 'professional', 'level', 'explain', 'oscars', 'nbc', 'everyone', 'every', 'drop', 'sweet', 'strange', 'smile', 'end', 'lip', '@ddlovato', 'reveal', 'spot', 'nick', 'stay', 'n', 'debut', 'far', 'trump', 'also', 'expert', 'review', 'bill', 'impression', 'prepare', 'actually', 'later', 'mrs.', 'selfie', 'bae', 'internationalwomensday', 'spread', 'impressive', 'credit', 'ban', 'equality', 'trip', 'anybody', 'fine', 'spin', 'k', 'straight', 'holy', 'bachelor', 'recap', 'facebook', 'coach', 'suppose', 'picture', 'award', 'bird', 'chris', 'martin', 'nothing', 'moore', 'cry', '⚡', '@kerrywashington', 'mood', 'inspire', 'ice', 'notice', 'medal', 'follower', 'unforgettable', 'olympic', 'success', 'small', 'scandal', 'member', 'pitch', 'can', 'release', 'target', 'repeat', 'foundation', 'yo', 'month', 'us', 'team', 'fully', 'north', 'korean', '@drake', 'phoenix', 'victory', '@michelleobama', 'america', 'create', 'massive', 'joyful', 'green', 'hurt', 'bff', 'point', 'hug', '😉', 'mess', 'producer', 'wow', 'brielle', 'scientist', 'price', 'cold', 'momsplaining', 'digital', 'series', 'push', 'up', 'shin', 'bright', 'diamond', 'th', '6', 'olympics', 'havana', 'lyric', 'presidential', 'macey', 'download', 'deck', 'realize', 'single', '@edsheeran', 'awesome', '@theweeknd', 'lol', 'interested', 'final', 'sex', 'response', 'shooting', 'voice', 'food', 'critic', 'bit', 'include', 'law', 'epidemic', 'country', 'advice', 'dr.', 'spend', 'portia', 'throw', 'philly', 'rat', 'honored', 'humble', '🙏', '🏼', 'simple', 'talented', 'cup', 'deliver', 'impossible', '@pink', 'noise', 'carry', 'comment', 'class', 'wrap', 'brand', 'most', 'tradition', 'salt', 'superbowl', 'begin', '30', 'ft', 'living', 'aka', '@diddy', '🙌', '♀', '😂', 'record', 'executive', 'longer', 'able', 'film', 'city', 'mother', 'company', 'death', 'tree', 'contestant', 'knoworgo', 'require', 'excellent', 'strategy', 'grammy', 'choice', 'partner', 'hang', 'paris', 'fall', 'rise', 'midnight', 'really', 'trap', 'door', 'puppy', 'philadelphia', 'safe', 'kill', 'always', '@hillaryclinton', 'hundred', 'volunteer', 'fantastic', 'actor', 'deeply', 'probably', 'reach', 'onemillionactsofgood', 'highlight', '  ', 'five', 'encounter', 'melania', 'backstage', 'retweet', 'bell', 'mental', 'health', 'initiative', 'my', 'beach', 'sotu', 'de', 'poor', 'base', 'text', 'bet', 'pick', 'pie', 'debate', 'plus', 'decide', 'visit', 'treat', 'staff', 'best', 'theme', 'mouth', 'fly', 'neighbor', 'emergency', 'train', 'actual', 'character', 'grace', '24', 'u.', 'such', 'only', 'god', '@jkcorden', '🍷', 'grow', '🤔', '💁', '4', 'you', 'tax', 'allow', 'ed', 'too', 'sun', 'money', 'closer', 'capital', '3rd', 'united', 'states', 'since', 'u', 'case', 'chief', 'officer', 'daddy', 'possible', 'result', 'jeff', 'd', '60', 'rate', 'montage', 'interesting', 'island', 'stream', 'alive', 'relationship', 'early', 'queen', 'fan', 'wall', 'survey', 'kindness', 'wisdom', 'daughter', 'college', 'government', 'monster', 'goal', 'dear', 'clear', 'ball', 'match', 'drive', 'nose', 'fire', 'greatest', 'confidence', 'campaign', 'recognize', '@fallontonight', '@jimmyfallon', 'wide', 'football', 'field', 'dad', 'business', 'father', 'pass', 'hq', 'list', 'bomb', 'bar', 'resident', 'mexico', 'worry', 'eye', 'l', 'detail', 'chair', 'goldenglobes', 'river', 'rescue', 'worker', 'brave', 'smart', 'bed', 'still', 'mention', '4th', 'disaster', 'artist', 'finish', 'terrific', 'figure', 'hall', 'area', 'mike', 'player', 'wake', 'discover', 'conspiracy', 'battle', 'wildfire', 'tight', 'congrat', 'joe', 'fast', 'certain', 'honestly', 'twin', 'hot', 'wh', 'zone', 'danger', 'another', 'seat', '@todayshow', 'co', 'resolution', 'thrill', 'purpose', '2017', 'christmas', 'makeup', 'merry', 'draw', '@ryanseacr', 'holiday', 'ellenshowmemore', 'bear', 'question', 'could', 'tom', 'fact', 'kevin', '@mileycyrus', 'preview', 'after', 'traffic', 'terrible', 'p.m.', 'prime', 'afraid', 'firefighter', 'order', 'sexy', 'sue', 'at', '@lukebryanonline', 'suspend', 'foot', 'add', 'summit', 'journey', 'alabama', 'ha', 'roy', 'attorney', 'matter', '12day', 'gay', 'safety', 'threat', 'pray', 'pic', '1st', 'yesterday', '12daysofgiveaways', '13', 'expect', 'deny', 'legal', 'county', 'apple', 'fragrance', 'commitment', 'son', '12', 'step', 'australia', 'lovewins', 'shake', 'memory', 'southern', 'impact', '=', 'civil', 'election', 'loser', 'fight', 'competition', 'attention', 'repost', 'together', 'graduate', 'academy', 'short', 'nomination', 'while', 'hair', 'bts', 'thanksgiving', 'gratitude', 'table', 'thankful', 'act', 'earn', 'employee', 'ama', 'anniversary', 'pop', 'band', '@joebiden', 'snapchat', 'noah', 'petition', 'extra', 'puerto', 'rico', 'row', 'popular', 'history', 'compassion', 'social', 'intelligence', 'patience', 'quality', 'limit', 'space', 'group', 'idol', 'replace', 'gender', 'care', 'politic', 'w/', '😭', 'risk', 'reward', 'respect', 'veteran', 'build', 'receive', 'hotel', 'join', 'as', 'happiness', 'honest', 'lil', 'search', 'nashville', 'past', 'future', 'exciting', 'halloween', 'effort', 'arena', 'announcement', 'china', 'dress', 'orlando', 'near', 'amazon', 'human', 'account', 'justice', 'prize', '@uhouston', 'serve', 'c', 'ny', 'trust', 'return', 'costume', 'legislation', 'george', 'number', ' \\n', 'half', 'americanidol', 'matt', 'crowd', 'houston', 'russian', 'ad', 'compare', '@katyperry', 'turnout', '2nd', 'kiss', 'color', 'nfl', 'everything', 'building', 'any', 'ryan', 'image', 'dangerous', 'arrive', 'sad', 'kat', 'billion', 'contribute', 'silence', 'epic', 'damage', 'devastating', 'common', 'spirit', 'bout', 'sexual', 'assault', 'jesus', 'security', 'guard', 'wild', 'andrew', 'emmy', 'puertorico', 'model', 'damn', 'cake', 'afford', 'swear', 'playing', 'ten', 'responder', 'ford', 'mississippi', 'refuse', 'service', 'treatment', 'beauty', 'cancer', '@usher', '✔', 'hi', 'anti', 'totally', 'courageous', 'hurricane', 'victim', 'center', 'paper', 'succeed', 'reporter', 'count', 'privilege', 'robert', 'grand', '23', 'kick', 'destroy', 'fellow', 'americans', 'style', 'protest', 'fit', 'strong', 'spell', 'angel', 'ellen15', 'feature', 'bob', 'conversation', 'exchange', '🇲', '🇽', 'root', 'language', 'path', 'till', '🔥', 'tape', 'piece', 'emmys', 'african', 'apologize', 'which', 'sock', 'produce', 'september', 'youtube', 'should', 'three', 'preorder', 'parent', '51', 'coverage', 'florida', 'bro', 'hate', 'strength', 'prove', 'benefit', 'relief', 'charlottesville', \"i'm\", 'an', 'labor', 'ridiculous', 'aid', 'boston', 'vma', 'back', 'chicago', 'virginia', 'from', 'harvey', 'down', 'under', 'hurricaneharvey', 'belong', '14', 'invest', 'jerry', 'original', 'odd', 'hill', 'darkness', 'corner', 'virgin', 'bday', 'progress', 'cross', 'laughdancepartner', 'lover', 'tea', 'instead', 'retirement', '500', 'before', 'visa', '@arianagrande', 'opponent', 'something', 'move', 'friendship', 'achievement', 'wednesday', 'cruise', 'prescription', 'pride', 'material', 'officially', 'fail', 'michael', 'skill', 'complete', 'four', 'me', 'london', 'manchester', 'congratulations', 'jet', 'anyone', '90', 'g', 'attitude', 'freedom', 'firstdates', 'much', 'accident', 'war', 'ok', 'bitch', '👩', '🎤', 'accord', 'spill', 'own', 'chart', 'stick', 'hire', 'stake', 'captain', 'hospital', 'deep', '2015', 'different', 'loveislove', 'putin', 'judge', 'gun', 'nearly', 'package', 'confession', 'apply', 'reality', 'noon', 'knowledge', 'education', 'tear', 'track', 'blue', 'total', 'doubt', 'willing', 'tim', 'yrs', 'state', 'online', 'organization', '16', 'market', 'europe', 'career', 'heaven', 'mary', 'faith', 'global', 'official', 'r', 'rating', 'fix', 'forever', '420', 'roll', 'bank', 'hollywood', 'nugget', 'rihanna', 'exist', 'sport', 'productive', 'lipstick', 'ceiling', 'nyc', 'dark', 'combat', 'saint', 'sailor', 'represent', 'club', 'native', 'session', 'science', 'personal', 'spy', 'rehearsal', 'pre', 'society', \"y'all\", 'shut', 'block', 'super', 'lay', 'opportunity', 'focus', 'offer', 'improve', 'york', 'outstanding', 'project', 'crash', 'full', 'fashion', 'develop', 'dead', 'healthy', 'jackson', 'la', 'land', 'accept', 'treasure', 'opening', '40', 'embrace', 'remove', 'muslim', 'attack', '😘', 'mar', 'champion', 'werk', '@bigsean', 'product', 'apart', 'loan', 'letter', 'valentine', 'low', 'cap', 'basketball', 'consecutive', 'trade', 'debt', 'course', 'subject', 'chemical', 'main', 'ass', 'georgia', 'tech', 'energy', 'pose', 'cuz', 'immediately', 'border', 'patrol', 'size', 'stadium', 'source', 'atl', 'est', 'arm', 'steel', 'atlanta', 'immigrant', 'current', 'of', 'decision', 'leader', 'michelle', 'remarkable', 'potential', 'nuclear', 'weapon', 'africa', 'passing', 'task', 'nation', 'achieve', 'singapore', 'advocate', 'dan', 'movement', 'graham', 'servant', 'king', '26', 'bus', 'rally', 'engage', 'al', 'mission', 'v', 'reflect', 'ahead', 'behalf', 'obama', 'peace', 'folk', 'congratulate', 'determine', 'grant', 'concrete', 'reduce', 'violence', 'midst', 'harm', 'hatred', 'survivor', 'hello', 'thrilled', 'rebuild', 'lifetime', 'tragedy', 'usa', 'expand', 'soldier', 'citizen', 'legacy', 'mexican', 'un', 'ideal', 'terror', 'religion', 'mccain', 'fighter', 'awareness', 'sacrifice', 'discuss', 'condolence', 'through', 'resolve', 'wound', 'uk', 'ally', 'chuck', 'international', 'women', 'almost', '28', 'part', 'hearing', 'pm', 'et', 'weekly', 'address', 'obamacare', 'economy', 'force', 'actonclimate', 'october', 'wage', 'percent', 'getcovered', 'marketplace', 'organizing', 'condition', 'fear', 'uninsured', 'affordable', 'insurance', 'enrollment', 'senate', 'obstruction', 'supreme', 'process', 'unacceptable', 'depend', 'november', 'climate', 'report', 'gain', 'sick', 'system', '@ofa', 'mark', 'policy', 'claim', 'financial', 'miami', 'editorial', 'board', 'doyourjob', 'supporter', '@flotus', 'ensure', 'access', 'decade', 'generation', \"don't\", 'garland', 'overcome', 'recent', 'carbon', 'pollution', '—president', 'individual', 'remain', 'qualified', 'deadline', 'vulnerable', 'administration', 'consumer', 'economic', 'unique', 'extend', 'streak', 'growth', 'icymi', 'historic', 'cost', 'technology', 'agreement', 'vacancy', 'democracy', 'side', 'leadonleave', 'congress', 'senator', 'nominee', 'fairly', 'income', 'poverty', 'praise', 'unprecedented', 'seek', 'broken', 'heat', 'threaten', 'highly', 'pressure', 'sacred', 'responsibility', 'experience', 'leadership', 'nations', 'basic', 'partisan', 'ii', 'sen.', 'mile', '2016', 'conference', 'ignore', 'constitutional', 'u.s.', 'solar', 'scotus', '⬇', 'large', 'vice', 'biden', 'meaningful', '@nytime', 'sea', 'flood', 'few', 'solve', 'unemployment', 'jobs', 'august', 'dedicate', 'solution', 'ofa', '@senatemajldr', 'federal', 'truly', 'organize', 'director', 'restore', 'prosperity', 'consequence', 'evidence', 'standard', 'duty', 'truck', 'sense', 'guarantee', 'obstruct', 'reminder', 'major', 'critical', 'essential', 'progressive', 'travel', 'extreme', 'cause', 'underscore', 'july', 'private', 'sector', 'organizer', 'plant', 'weaken', '0', 'republicans', '🎶', '@vp', 'republican', 'prevent', 'aside', 'minimum', 'raisethewage', 'crisis', 'reform', 'bipartisan', 'by', 'measure', 'confirmation', 'majority', 'op', '@wsj', 'remark', 'town', 'discussion', '@abc', 'memorial', 'police', 'dallas', 'boost', 'spending', 'slow', 'overwhelming', 'ruling', 'tackle', 'demand', 'prevention', 'd.c.', 'mayor', 'council', 'reaffirm', 'strike', 'discrimination', 'solidarity', 'ongoing', 'immigration', 'grassroots', 'struggle', 'term', 'immigrationaction', 'merrick', 'park', 'inform', 'timely', 'deficit', 'secretary', 'tpp', 'annual', 'increase', 'loud', 'calm', 'seven', 'commander', '✓', 'completely', 'overtime', 'despite', 'protection', 'ohio', 'democrats', 'forum', 'key', 'strengthen', 'transparency', 'michigan', 'obstructionist', 'poll', 'denier', 'gas', 'constitution', 'june', 'criminal', 'unfair', 'industry', 'consideration', 'trillion', 'gap', 'a.m.', 'proposal', 'century', 'currently', 'flight', 'tickets', '@flotu', 'participate', 'blessed', 'christians', 'urge', 'approval', 'february', 'panel', 'canada', 'committee', 'delay', 'investment', 'natural', 'desire', 'january', 'recovery', '@theellenshow', 'commit', 'environment', 'overdue', 'budget', 'funding', 'creation', 'importance', 'stopgunviolence', '@facebook', 'attempt', 'waste', 'repeal', 'advance', 'period', 'crime', 'prison', 'study', '21st', 'encourage', 'prepared', 'auto', 'madeinamerica', 'detroit', 'diplomacy', 'secure', 'irandeal', 'iran', 'vision', 'reject', 'bigotry', 'form', 'louisiana', 'race', 'pacific', 'partnership', 'leadontrade', 'troop', 'arizona', 'valley', 'washington', 'thrive', 'collegeopportunity', 'training', 'priority', 'union', '@cnn', 'alaska', 'contribution', 'speed', 'press', 'briefing', 'aim', 'unitedonclimate', 'ceremony', 'pentagon', 'local', 'wisconsin', 'amendment', 'loophole', 'dosomething', 'terrorism', 'undermine', 'turkey', 'tennessee', 'limited', 'ofafallsummit', 'vital', 'proof', 'ship', 'lower', 'eliminate', 'negotiation', 'taxpayer', 'applaud', 'drug', 'abuse', 'prisoner', 'celebration', 'representative', 'recently', 'manufacturing', 'governor', '@whitehouse', 'die', 'lift', 'shutdown', 'tucson', 'greet', 'joint', 'extraordinary', 'pledge', 'earlier', 'value', 'universal', 'foreign', 'non', 'avoid', 'negative', 'problem', 'information', 'favor', 'illegal', 'marines', 'flag', 'cuba', 'voting', 'provide', '50th', 'conflict', 'oppose', 'respond', 'weak', 'those', 'sanction', 'violation', 'without', 'type', 'program', 'pursue', 'comprehensive', 'proclaim', 'mistake', 'approach', 'effective', 'ability', 'u.n.', 'negotiate', 'peaceful', 'iraq', 'committed', 'advantage', 'disability', 'presence', 'tolerate', 'rid', 'latinos', 'department', 'over', 'convention', 'housing', '17', 'acaworks', 'hawaii', 'quickly', 'failure', 'medical', '19', 'epa', 'south', 'carolina', '200', 'resource', 'courage', 'brief', 'glory', 'armed', 'forces', 'israel', 'rhetoric', 'homeland', 'era', 'enforcement', 'jersey', '@potu', 'elect', 'accountable', 'anger', 'alliance', 'dinner', 'farmer', 'presidency', 'edit', 'conversion', 'understanding', 'patient', '2013', 'jump', 'ground', 'interest', 'bridge', 'modern', '18', 'opposition', 'position', 'cleveland', 'selma50', 'marchon', 'dignity', 'army', 'meaning', 'congressional', '@dhsgov', 'lawmaker', 'isil', 'countdown', 'premium', 'itsonus', '2014', 'agenda', 'next', 'kansas', 'americaleads', 'generosity', 'infrastructure', 'development', 'ceo', 'owe', 'link', 'salute', '9:00', 'cybersecurity', 'connect', 'uniform', 'express', 'preserve', 'blessing', 'during', 'moral', 'tired', 'pardon', 'tool', 'authority', 'necessary', 'latino', 'authorize', 'accountability', 'transform', 'rick', 'medium', 'veterans', 'voter', 'anymore', 'none', '@epa', 'owner', 'renew', 'marine', 'drought', 'storm', 'minister', 'condemn', 'culture', 'passage', 'guide', 'burden', 'confront', 'page', 'sustain', '@fentybeauty', '😍', 'edition', 'collection', '21', 'shade', '✨', 'must', 'hunt', '🏿', '💪', 'worldwide', '@savagexfenty', 'sis', 'cia', 'tbh', '@voguemagazine', 'saudi', 'arabia', '🇸', '🇦', '@sephora', '@harveynichol', 'dat', '🇹', 'fentyxpuma', 'gang', '🇬', '🇧', '🇺', '@emmanuelmacron', 'france', '🇫', '🇷', 'mattemoiselle', 'dem', 'doe', '💋', 'fenty', 'stunna', 'af', '@yusefhairnyc', '@inezandvinoodh', '👀', 'da', 'shortly', '🤷', 'paint', 'pt', 'galaxycollection', '👑', 'fam', '⚓', 'university', 'horrific', '@puma', 'situation', '@realdonaldtrump', '----&gt', 'suffering', '@claralionelfdn', 'ultimate', 'horrible', '@ellemagazine', 'moscow', 'passion', 'germany', '🇪', '🇨', '--&gt', '➡', '—&gt', 'soul', 'innocent', '😳', 'parih', '@billboard', '🎈', '🎉', 'thecreeper', 'design', 'wing', 'dis', 'tragic', '@tidalhifi', '🤗', 'tix', 'brooklyn', 'merch', '@mtv', '🎨', 'wit', '@wmag', 'stock', 'antiworldtour', 'click', '@vevo', 'itune', '22', '7th', 'vevo', 'lastnight', 'navyrdie', '@spotify', '---&gt', 'diamondball', '@lionelrichie', 'presale', 'select', 'phuck', 'ill', 'brazil', 'are', '-----&gt', 'riri', 'bbhmmvideo', '@applemusic', 'bbhmm', 'info', 'rih', 'shit', 'fuck', 'r8', '@iheartradio', '💘', 'tremendous', 'dennisleupold', 'korea', 'charity', '👏', 'again', 'majesty', 'heauxm', 'rihpost', 'barbados', 'nigga', 'very', 'bravo', 'evening', 'forest', 'rogue', 'rogueman', 'independence', 'barbado', 'phuckin', 'your', '1love', 'murder', 'tho', 'many', '@rorreyfenty', 'kinda', 'dc', '@noellaalstrom', 'behavior', 'tush', 'cuts', 'email', '😩', 'balmain', 'cr', 'yas', 'fav', 'mueller', 'counter', '@jennnrosale', 'yea', '@mforde11', 'fave', 'pain', 'bye', 'leak', 'iranian', 'defense', 'wyd', 'italy', 'thuglife', '@gnlstudio', 'generous', 'buddy', 'audition', 'believer', 'ig', '@leleboo246', 'catfish', 'iheartrihanna', 'boo', 'ur', 'adamselman', 'venezuela', 'rip', 'unapologetic', 'peter', 'chinese', 'heaux', 'ririheartsmac', 'az', 'it', 'philippines', 'whatnow', 'diamondsworldtour', 'dwt', 'rihannaforriverisland', '@gnlstudios', 'greece', 'takeoff', 'mac', 'sydney', 'pouritupvideo', 'pour', 'pouritup', 'forgive', 'rihverisland', 'thailand', 'nom', 'clique', 'indian', 'alert', 'throwbackriri', 'niggaz', 'rainbow', 'glam', 'sweden', 'poland', 'honey', 'ratedr', 'nasty', 'remix', '777tour', 'museum', 'montreal', 'radical', 'exit', 'mail', 'we', 'toronto', 'universe', 'dopedealershit', 'times', 'dope', 'dn', '👊', 'fake', 'complex', 'floor', 'moon', 'mercy', 'ppl', 'mo', 'htc', 'colleague', 'cindy', '@cindymccain', 'sec', 'mattis', 'amb', 'successful', 'vladimir', 'evil', 'patriot', '@washingtonpost', 'johnson', 'assad', 'regime', 'russia', 'meddling', '.@potus', 'withdraw', 'syria', 'aggression', '@deptofdefense', 'uss', 'pilot', '@azcentral', '@dougducey', 'enhance', 'arizonans', '@dback', 'concern', 'gop', 'republic', 'declare', '@meghanmccain', '@theview', 'kosovo', \"imp't\", 'sadden', 'afghanistan', 'wasteful', 'disturb', '@ap', 'admin', '@usnavy', 'beardown', '45', 'wwii', 'distinguished', 'naval', 'sergei', 'torture', 'capability', 'humanitarian', 'aluminum', 'trail', 'nato', 'rio', 'salado', 'vietnam', 'trafficking', 'yr', 'navajo', 'kremlin', 'troll', 'northkorea', 'readiness', '@azcardinal', '@larryfitzgerald', 'slaughter', 'faithful', 'cyber', 'democratic', 'pres', 'hanoi', 'simply', 'secdef', 'daca', 'posture', 'fbi', 'beginning', 'nafta', 'sasc', 'witness', 'corruption', 'a-10', 'loss', 'aboard', 'cooperation', 'pleased', '@jeffflake', '@potus', 'closely', 'lake', \"gov't\", 'journalist', 'reporting', 'injure', 'missile', 'opioid', '@asu', 'pearl', 'sow', 'islamic', 'ukraine', '@navalacademy', 'flake', 'russians', 'magnitsky', 'approve', 'enemy', 'fy18ndaa', 'khan', 'sin', 'terrorist', 'bravery', 'fmr', '@mactxpress', \"fed'l\", 'lack', 'boot', 'aircraft', '@usairforce', 'promote', 'humanity', 'civilian', 'dback', '@reuter', '@usatoday', '.@dcexaminer', '.@ap', 'capitol', \"intro'd\", 'prgm', 'conduct', 'investigation', 'request', '→', 'cc', 'jonesact', 'anthem', 'operation', 'fwd', 'dialogue', 'insult', 'abe', 'japan', 'va', 'amdt', 'isis', 'defeat', 'concerned', 'agency', 'assist', 'strongly', 'amid', 'divide', '@foxnew', '@uofa', 'wk', '@facethenation', 'reg', 'testify', 'dept', 'chairman', '@cbsnew', 'sequestration', 'kara', 'murza', 'camp', 'capable', 'terminate', 'kerry', 'monitor', 'disgraceful', '@lindseygrahamsc', 'inspection', 'tokyo', 'egypt', 'correct', 'assistance', 'hike', 'adm', 'abandon', 'racist', 'vet', 'unite', 'steve', 'worthy', 'probe', 'firm', '@broomheadshow', '@kfyi', 'pence', 'fy17ndaa', 'whistleblower', 'stmt', 'canyon', 'strategic', 'daily', 'healthcare', 'humility', 'syrian', 'dems', 'montenegro', 'xi', 'impt', 'delegation', 'advisor', 'pakistan', 'mtg', 'exec', 'asia', 'cmte', 'mourn', '@timkaine', 'comey', 'intel', 'sen', 'badly', 'memorialday', 'gen', \"nat'l\", 'afternoon', '@msnbc', 'endorse', 'investigate', 'clapper', 'jong', 'pleasure', 'hoax', 'separate', 'choice4vet', 'gorsuch', 'cont', 'lawyer', 'seed', 'religious', 'bully', 'democrat', 'refugee', 'mohave', 'rocket', 'muslims', '@foxandfriend', 'aleppo', 'sessions', 'chat', 'donald', 'ballot', 'flagstaff', 'prescott', 'payment', 'proclamation', 'regulation', 'colorado', 'blame', 'clinton', 'hillary', 'sanctuary', 'division', 'cedarfire', 'false', 'paul', 'barrier', 'admit', 'feast', 'church', 'gospel', 'forgiveness', 'holiness', 'accompany', 'difficulty', 'gaze', 'communion', 'christ', 'sinner', 'neighbour', 'authentic', 'constantly', 'hunger', 'lent', 'spiritual', 'sacrament', 'reconciliation', 'tenderness', 'merciful', 'missionary', 'disciple', 'heal', 'fruit', 'entrust', 'inclusive', 'kingdom', 'enthusiasm', 'nature', 'migrant', 'centre', 'precious', 'comfort', 'indifference', 'diversity', 'jubilee', 'laudatosi', 'elderly', 'garden', 'ng', 'prayforpeace', 'rio2013', 'jmj', 'angry', 'witch', 'phony', 'collusion', 'barack', 'disgrace', 'schumer', 'failing', 'crooked', 'mccabe', 'media', 'pennsylvania', 'cnn', 'maga', 'candidate', 'etc', 'u.s.a.', 'classified', '.@flotus', 'dishonest', 'hopefully', 'leaker', 'rig', 'a.g.', 'luther', 'our', 'j.', 'responders', 'oval', 'politically', 'dnc', 'quit', 'dow', 'optimism', 'disrespect', 'fakenews', '📸', '🇵', 'bernie', '🎥', 'americafirst', 'corker', 'newspaper', 'fema', 'endorsement', '☑', 'bedminster', '🇱', '🏈', '@bloodpop', 'purposetourstadium', 'purposetour', 'belieber', 'purposeworldtour', '@martingarrix', 'coldwater', '@scooterbraun', '@diplo', '@skrillex', '🏻', '😜', 'loveyourself', '@carlyraejepsen', 'whatdoyoumean', 'whereareunow', '✈', 'eveningwithjb', '@halsey', 'purposethemovement', 'illshowyou', 'nov13', 'preorderpurpose', 'purposealbum', '@astrid_nv', '@iammarleydia', '@aijenpoo', '@domesticworker', 'tuition', '-h', '—hillary', '—@potu', '—@flotus', '—@flotu', '—@billclinton', 'divisive', '—donald', '47246', 'temperament', 'unfit', 'debatenight', 'vpdebate', '—@joebiden', 'demsinphilly', 'americanidolfinale', 'katy', '❗', '@americanidol', 'bb', '☝', '🏼\\u200d', '🌎', '🎟', '@ronyalwin', '✌', '🚨', '😑', '@kpcollection', '💃', '👁', '💅', '👠', '👋', '😔', '🌴', '🌈', '🌟', '🐶', '🙅', '@covergirl', '💄', 'witnessthetour', '⤵️', '🇿', 'fbf', '🎄', '@sofifii', '🎅', '🎃', 'perry', '👼', '🇳', 'swishswish', '🙍', 'kpwww', '-teamkp', 'kp', '@shannonwoodward', 'pls', '🍒', 'chainedtotherhythm', '⛓', 'appstorechat', 'theprismaticworldtour', '˚'])\n"
     ]
    }
   ],
   "source": [
    "# List of words in model.\n",
    "vocab = model.wv.vocab.keys()\n",
    "\n",
    "print(vocab)"
   ]
  },
  {
   "cell_type": "code",
   "execution_count": 148,
   "metadata": {},
   "outputs": [
    {
     "name": "stdout",
     "output_type": "stream",
     "text": [
      "[('korean', 0.7802276611328125), ('investigate', 0.759813666343689), ('clinton', 0.757969856262207), ('relationship', 0.7487144470214844), ('department', 0.7408115267753601), ('carolina', 0.7201663255691528), ('korea', 0.7201630473136902), ('lawmaker', 0.7073200941085815), ('guard', 0.7057759761810303), ('👋', 0.7038559317588806)]\n",
      "0.8464465027932389\n",
      "0.6248068323191849\n",
      "0.4949306941740206\n",
      "👏\n",
      "forgiveness\n"
     ]
    },
    {
     "name": "stderr",
     "output_type": "stream",
     "text": [
      "/anaconda3/lib/python3.6/site-packages/ipykernel_launcher.py:10: DeprecationWarning: Call to deprecated `doesnt_match` (Method will be removed in 4.0.0, use self.wv.doesnt_match() instead).\n",
      "  # Remove the CWD from sys.path while we load stuff.\n"
     ]
    }
   ],
   "source": [
    "print(model.wv.most_similar(positive=['crooked', 'honest'], negative=['dishonest']))\n",
    "\n",
    "# Similarity is calculated using the cosine, so again 1 is total\n",
    "# similarity and 0 is no similarity.\n",
    "print(model.wv.similarity('💄', '👠'))\n",
    "print(model.wv.similarity('repeal', 'delay'))\n",
    "print(model.wv.similarity('laugh', 'joy'))\n",
    "\n",
    "# One of these things is not like the other...\n",
    "print(model.doesnt_match(\"💪 🙌 🍕 👏\".split()))\n",
    "print(model.doesnt_match(\"phony dishonest crooked forgiveness\".split()))"
   ]
  },
  {
   "cell_type": "code",
   "execution_count": null,
   "metadata": {},
   "outputs": [],
   "source": []
  },
  {
   "cell_type": "code",
   "execution_count": null,
   "metadata": {},
   "outputs": [],
   "source": []
  }
 ],
 "metadata": {
  "kernelspec": {
   "display_name": "Python 3",
   "language": "python",
   "name": "python3"
  },
  "language_info": {
   "codemirror_mode": {
    "name": "ipython",
    "version": 3
   },
   "file_extension": ".py",
   "mimetype": "text/x-python",
   "name": "python",
   "nbconvert_exporter": "python",
   "pygments_lexer": "ipython3",
   "version": "3.6.4"
  }
 },
 "nbformat": 4,
 "nbformat_minor": 2
}

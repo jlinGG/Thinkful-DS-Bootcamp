{
 "cells": [
  {
   "cell_type": "markdown",
   "metadata": {},
   "source": [
    "# Twitter Classifier\n",
    "\n",
    "## Abstract\n",
    "For this project, I will be using tweets and natural language processing (NLP) to build classification models through supervised and unsupervised learning.  I pull the most recent 3200 tweets (as of May 28, 2018) from four twitter handles (realDonaldTrump, junstinbieber, hillaryclinton, and katyperry) to perform my analysis.  \n",
    "\n",
    "First, I use Bag of Words to build features and perform supervised learning models.  Multinomial Logistic Regression performed the best with the highest accuracies.  Justin Bieber tweets had the lowest sensitivity and accuracy across all models, while Trump had the highest sensitivity and accuracy for Random Forest and Multinomial Logistic Regression.  \n",
    "\n",
    "I then use tfidf to convert the tweets into vectors, reduce the vectors to two components using Singular Value Decomposition, and generate visual clusters using k-means and mean-shift.  I found that most of the tweets, regardless of the tweeter, seem to be concentrated in one cluster.  Interestingly, when generating 3 or 4 clusters, Hillary Clinton and Donald Trump would make up the majority of one of the clusters.  My theory is that this is the \"politics\" cluster.  To get a better look at cluster topics, I used Latent Semantic Analysis (LSA).  I exapanded the tfidf feature space to 200 components, and examine the top 10 clusters of terms that reflect a topic.  LSA create three clusters of \"Thank you\" tweets, two clusters of \"love\" tweets, and one cluster of \"lol\" tweets.  There was also a Donald Trump cluster, a \"#PURPOSE\" cluster (Justin Bieber's new album), and an American Idol cluster (Katy Perry is a judge).\n",
    "\n",
    "Lastly I generated a word2vec model, the most common neural network approach for NLP.  word2vec is a way of \"teaching\" a machine human language, in this case through tweets.  We can then look at the similarities between words.  In order to run word2vec, I expanded the corpus to include five more twitter handles.  However, word2vec works best with a corpus that is at least several billion words long (beyond the limitation of my computer), so the model is not great.  \n",
    "\n",
    "\n",
    "\n",
    "# Table of Contents\n",
    "- [Introduction](#intro)\n",
    "    - Models\n",
    "- [Imports](#imports)\n",
    "- [Accessing and Cleaning Tweets](#tweets)\n",
    "- [Supervised Learning](#SL)\n",
    "    - [Random Forest](#forest)\n",
    "    - [Multinomial Logistic Regression](#log)\n",
    "    - [Gradient Boost](#boost)\n",
    "    - [SVM](#svm)\n",
    "    - [Conclusion](#conclude)\n",
    "- [Unsupervised Learning](#SL)\n",
    "    - [K-Means Clusters](#kmeans)\n",
    "    - [Mean-Shift Clusters](#meansshift)\n",
    "    - [Latent Semantic Analysis](#lsa)\n",
    "    - [Conclusion](#conclude2)\n",
    "- [Word2Vec](#word)\n",
    "- [Conclusion](#conclude3)"
   ]
  },
  {
   "cell_type": "markdown",
   "metadata": {},
   "source": [
    "<a id='intro'></a>\n",
    "# Introduction\n",
    "For this project, I will be using tweets and natural language processing (NLP) to build classification models.  I am pulling the most recent ~3200 tweets (run date: May 25, 2018) from four twitter handles: realDonaldTrump, junstinbieber, hillaryclinton, and katyperry.  I will then be using a variety of supervised and unsupervised models to group and cluster the tweets in various ways.\n",
    "\n",
    "## Models\n",
    "First, I will be using supervised learning to train the model to correctly identify the tweeter from the tweet.  I use Bag of Words to contruct the feature space, and then I run Random Forest, Multinomial Logistic Regression, Gradient Boost, and Support Vector Machine to classify the tweets and compare the models for accuracy.\n",
    "\n",
    "Next, I will convert the tweets into vectors using tfidf and use these vectors to create unsupervised k-means clusters.  Then, I will apply Latent Semantic Analysis, a process of applying PCA to a tfidf term-document matrix to generate clusters of terms that presumably reflect a topic.\n",
    "\n",
    "Lastly, I will play around with word2vec, the most common unsupervised neural network approach for NLP.  I expand on the corpus to include tweets from Ellen Degeneres, Barack Obama, Rihanna, Senator John Mccain, and Pope Francis.  I use the model to identify similarities between words and emojis.    "
   ]
  },
  {
   "cell_type": "markdown",
   "metadata": {},
   "source": [
    "<a id='imports'></a>\n",
    "# Imports"
   ]
  },
  {
   "cell_type": "code",
   "execution_count": 1,
   "metadata": {},
   "outputs": [],
   "source": [
    "import tweepy\n",
    "\n",
    "%matplotlib inline\n",
    "import numpy as np\n",
    "import pandas as pd\n",
    "import scipy\n",
    "import sklearn\n",
    "import spacy\n",
    "import matplotlib.pyplot as plt\n",
    "import seaborn as sns\n",
    "import re\n",
    "from collections import Counter\n",
    "\n",
    "from sklearn.model_selection import train_test_split\n",
    "from sklearn import ensemble\n",
    "from sklearn.metrics import confusion_matrix\n",
    "from sklearn.linear_model import LogisticRegression\n",
    "\n",
    "from sklearn.feature_extraction.text import TfidfVectorizer\n",
    "from sklearn.cluster import KMeans\n",
    "from sklearn.cluster import MeanShift, estimate_bandwidth\n",
    "from sklearn.preprocessing import normalize\n",
    "from sklearn.decomposition import TruncatedSVD\n",
    "\n",
    "from sklearn.pipeline import make_pipeline\n",
    "from sklearn.preprocessing import Normalizer\n",
    "\n",
    "#Ignore warnings\n",
    "import warnings\n",
    "warnings.filterwarnings('ignore')\n",
    "\n",
    "\n",
    "# Twitter API Authorizations\n",
    "consumer_key = '9SRz5HMehrEVQf2m7AoN4shrq'\n",
    "consumer_secret = 'zZa9j55quKFTmTwm4PKx4B6RUn3OyCsEtVJmvqbLAX9d8K3Adu'\n",
    "access_token = '2801486303-55EJTjYXUPvw5uzXmRQV8wTHDmiLh70BJoASUj9'\n",
    "access_token_secret = 'aRGfnR8N4if56loNt0yhwChXBe61go8qTpEanmXV2RBRp'"
   ]
  },
  {
   "cell_type": "markdown",
   "metadata": {},
   "source": [
    "<a id='tweets'></a>\n",
    "# Accessing and Cleaning Tweets"
   ]
  },
  {
   "cell_type": "code",
   "execution_count": 2,
   "metadata": {},
   "outputs": [],
   "source": [
    "# Thank you, yanofsky! Adapted from: https://gist.github.com/yanofsky/5436496\n",
    "\n",
    "def get_all_tweets(screen_names):\n",
    "\n",
    "    #authorize twitter, initialize tweepy\n",
    "    auth = tweepy.OAuthHandler(consumer_key, consumer_secret)\n",
    "    auth.set_access_token(access_token, access_token_secret)\n",
    "    api = tweepy.API(auth)\n",
    "\n",
    "    \n",
    "    #initialize a list to hold all the tweepy Tweets\n",
    "    df = pd.DataFrame()\n",
    "    \n",
    "    for screen_name in screen_names:\n",
    "        \n",
    "        alltweets = []\n",
    "\n",
    "        #make initial request for most recent tweets (200 is the maximum allowed count)\n",
    "        new_tweets = api.user_timeline(screen_name = screen_name ,count=200)\n",
    "\n",
    "        #save most recent tweets\n",
    "        alltweets.extend(new_tweets)\n",
    "\n",
    "        #save the id of the oldest tweet less one\n",
    "        oldest = alltweets[-1].id - 1\n",
    "\n",
    "        #keep grabbing tweets until there are no tweets left to grab\n",
    "        while len(new_tweets) > 0:\n",
    "            print(\"getting tweets before %s\" % (oldest))\n",
    "\n",
    "            #all subsiquent requests use the max_id param to prevent duplicates\n",
    "            new_tweets = api.user_timeline(screen_name = screen_name,count=200,max_id=oldest)\n",
    "\n",
    "            #save most recent tweets\n",
    "            alltweets.extend(new_tweets)\n",
    "\n",
    "            #update the id of the oldest tweet less one\n",
    "            oldest = alltweets[-1].id - 1\n",
    "\n",
    "            print(\"...%s tweets downloaded so far\" % (len(alltweets)))\n",
    "\n",
    "        #transform the tweepy tweets into a 2D array that will populate the csv\t\n",
    "        outtweets = [[tweet.user.screen_name, tweet.text] for tweet in alltweets]\n",
    "\n",
    "        df = df.append(pd.DataFrame(data=outtweets)).reset_index(drop=True)\n",
    "        \n",
    "    return df\n",
    "    \n",
    "    print('done!')"
   ]
  },
  {
   "cell_type": "markdown",
   "metadata": {},
   "source": [
    "These twitter accounts were chosen with some trial and error.  Since we are only allowed to pull tweets from the last week or so, I wanted to make sure to get prolific tweeters in the dataset.  That way we have a well balanced dataset."
   ]
  },
  {
   "cell_type": "code",
   "execution_count": 3,
   "metadata": {},
   "outputs": [
    {
     "name": "stdout",
     "output_type": "stream",
     "text": [
      "getting tweets before 992083738531192832\n",
      "...400 tweets downloaded so far\n",
      "getting tweets before 984015782521835520\n",
      "...600 tweets downloaded so far\n",
      "getting tweets before 971009285181276159\n",
      "...800 tweets downloaded so far\n",
      "getting tweets before 959488037766955008\n",
      "...1000 tweets downloaded so far\n",
      "getting tweets before 948202173049049087\n",
      "...1200 tweets downloaded so far\n",
      "getting tweets before 936555753946705919\n",
      "...1397 tweets downloaded so far\n",
      "getting tweets before 927077305876434944\n",
      "...1597 tweets downloaded so far\n",
      "getting tweets before 920406959320371199\n",
      "...1796 tweets downloaded so far\n",
      "getting tweets before 913004378486984703\n",
      "...1996 tweets downloaded so far\n",
      "getting tweets before 905770927526432767\n",
      "...2196 tweets downloaded so far\n",
      "getting tweets before 896431205549318143\n",
      "...2396 tweets downloaded so far\n",
      "getting tweets before 888088029428150271\n",
      "...2596 tweets downloaded so far\n",
      "getting tweets before 878341007103987711\n",
      "...2795 tweets downloaded so far\n",
      "getting tweets before 865957909565366271\n",
      "...2995 tweets downloaded so far\n",
      "getting tweets before 851997299454742527\n",
      "...3195 tweets downloaded so far\n",
      "getting tweets before 835104946034991105\n",
      "...3234 tweets downloaded so far\n",
      "getting tweets before 831830548565852159\n",
      "...3234 tweets downloaded so far\n",
      "getting tweets before 807285316444794879\n",
      "...397 tweets downloaded so far\n",
      "getting tweets before 771836683063005183\n",
      "...593 tweets downloaded so far\n",
      "getting tweets before 740569808727511040\n",
      "...790 tweets downloaded so far\n",
      "getting tweets before 711309440088039424\n",
      "...988 tweets downloaded so far\n",
      "getting tweets before 687289379371393025\n",
      "...1187 tweets downloaded so far\n",
      "getting tweets before 672429383861145599\n",
      "...1387 tweets downloaded so far\n",
      "getting tweets before 666532918655741951\n",
      "...1586 tweets downloaded so far\n",
      "getting tweets before 663762968341942271\n",
      "...1779 tweets downloaded so far\n",
      "getting tweets before 658594189568004095\n",
      "...1969 tweets downloaded so far\n",
      "getting tweets before 655100823626760191\n",
      "...2167 tweets downloaded so far\n",
      "getting tweets before 644936379307192319\n",
      "...2367 tweets downloaded so far\n",
      "getting tweets before 639154479359754239\n",
      "...2567 tweets downloaded so far\n",
      "getting tweets before 634777354297036801\n",
      "...2767 tweets downloaded so far\n",
      "getting tweets before 627351538906742783\n",
      "...2967 tweets downloaded so far\n",
      "getting tweets before 610638888382521345\n",
      "...3165 tweets downloaded so far\n",
      "getting tweets before 592389661730873343\n",
      "...3170 tweets downloaded so far\n",
      "getting tweets before 590916763505721343\n",
      "...3170 tweets downloaded so far\n",
      "getting tweets before 914853465926639617\n",
      "...400 tweets downloaded so far\n",
      "getting tweets before 795955854059171839\n",
      "...600 tweets downloaded so far\n",
      "getting tweets before 794342914247770111\n",
      "...800 tweets downloaded so far\n",
      "getting tweets before 791719570499330049\n",
      "...1000 tweets downloaded so far\n",
      "getting tweets before 789214423969828863\n",
      "...1200 tweets downloaded so far\n",
      "getting tweets before 786612869429354495\n",
      "...1399 tweets downloaded so far\n",
      "getting tweets before 785216762853883903\n",
      "...1599 tweets downloaded so far\n",
      "getting tweets before 783001736248172543\n",
      "...1799 tweets downloaded so far\n",
      "getting tweets before 780611407221960703\n",
      "...1999 tweets downloaded so far\n",
      "getting tweets before 777908063265251327\n",
      "...2199 tweets downloaded so far\n",
      "getting tweets before 775759018149179391\n",
      "...2399 tweets downloaded so far\n",
      "getting tweets before 771899397437259775\n",
      "...2598 tweets downloaded so far\n",
      "getting tweets before 767731061103157247\n",
      "...2797 tweets downloaded so far\n",
      "getting tweets before 763460083313434624\n",
      "...2997 tweets downloaded so far\n",
      "getting tweets before 758867285167644671\n",
      "...3197 tweets downloaded so far\n",
      "getting tweets before 758448562061602816\n",
      "...3215 tweets downloaded so far\n",
      "getting tweets before 758370570069237759\n",
      "...3215 tweets downloaded so far\n",
      "getting tweets before 977707727030906879\n",
      "...399 tweets downloaded so far\n",
      "getting tweets before 952349668876275712\n",
      "...599 tweets downloaded so far\n",
      "getting tweets before 895720147612180479\n",
      "...796 tweets downloaded so far\n",
      "getting tweets before 873585700469301248\n",
      "...996 tweets downloaded so far\n",
      "getting tweets before 863654315692507136\n",
      "...1194 tweets downloaded so far\n",
      "getting tweets before 857404678778245119\n",
      "...1393 tweets downloaded so far\n",
      "getting tweets before 837438506846695423\n",
      "...1593 tweets downloaded so far\n",
      "getting tweets before 828729592974237695\n",
      "...1793 tweets downloaded so far\n",
      "getting tweets before 788911631921061887\n",
      "...1992 tweets downloaded so far\n",
      "getting tweets before 776496237491134463\n",
      "...2192 tweets downloaded so far\n",
      "getting tweets before 756747221622718463\n",
      "...2388 tweets downloaded so far\n",
      "getting tweets before 689559511787556863\n",
      "...2587 tweets downloaded so far\n",
      "getting tweets before 646766850286727168\n",
      "...2787 tweets downloaded so far\n",
      "getting tweets before 583304996739014655\n",
      "...2985 tweets downloaded so far\n",
      "getting tweets before 540363561856282623\n",
      "...3179 tweets downloaded so far\n",
      "getting tweets before 504062666189455359\n",
      "...3217 tweets downloaded so far\n",
      "getting tweets before 502169736118300672\n",
      "...3217 tweets downloaded so far\n"
     ]
    }
   ],
   "source": [
    "# Getting the most recent 3200 tweets from Donald Trump, Justin Bieber, Hillary Clinton, \n",
    "# and Katy Perry.\n",
    "tweets = get_all_tweets(['realDonaldTrump','justinbieber','hillaryclinton','katyperry'])"
   ]
  },
  {
   "cell_type": "code",
   "execution_count": 4,
   "metadata": {},
   "outputs": [
    {
     "data": {
      "text/plain": [
       "realDonaldTrump    3234\n",
       "katyperry          3217\n",
       "HillaryClinton     3215\n",
       "justinbieber       3170\n",
       "Name: 0, dtype: int64"
      ]
     },
     "execution_count": 4,
     "metadata": {},
     "output_type": "execute_result"
    }
   ],
   "source": [
    "tweets[0].value_counts()"
   ]
  },
  {
   "cell_type": "markdown",
   "metadata": {},
   "source": [
    "Great! We have about 3200 tweets from each twitter account.  Having a balanced dataset will make the predictive models more accurate. "
   ]
  },
  {
   "cell_type": "code",
   "execution_count": 5,
   "metadata": {},
   "outputs": [
    {
     "name": "stdout",
     "output_type": "stream",
     "text": [
      "<class 'pandas.core.frame.DataFrame'>\n",
      "RangeIndex: 12836 entries, 0 to 12835\n",
      "Data columns (total 2 columns):\n",
      "0    12836 non-null object\n",
      "1    12836 non-null object\n",
      "dtypes: object(2)\n",
      "memory usage: 200.6+ KB\n"
     ]
    }
   ],
   "source": [
    "tweets.info()"
   ]
  },
  {
   "cell_type": "code",
   "execution_count": 6,
   "metadata": {},
   "outputs": [],
   "source": [
    "# Naming the columns\n",
    "tweets.columns = ['screenname','tweet']"
   ]
  },
  {
   "cell_type": "code",
   "execution_count": 7,
   "metadata": {},
   "outputs": [],
   "source": [
    "# Changing tweets to str types.\n",
    "tweets['tweet'] = tweets['tweet'].astype(str)"
   ]
  },
  {
   "cell_type": "markdown",
   "metadata": {},
   "source": [
    "Let's clean the tweets to remove links and drop tweets that are retweets."
   ]
  },
  {
   "cell_type": "code",
   "execution_count": 8,
   "metadata": {},
   "outputs": [],
   "source": [
    "def text_cleaner(tweet):\n",
    "    tweet = re.sub(r'http.*','',tweet)\n",
    "    tweet = re.sub(r'bit/ly.*', \"\", tweet)\n",
    "    tweet = re.sub(r'b\\'', \"\", tweet)\n",
    "    tweet = re.sub(r'b\"', \"\", tweet)\n",
    "    return tweet"
   ]
  },
  {
   "cell_type": "code",
   "execution_count": 9,
   "metadata": {},
   "outputs": [],
   "source": [
    "for r in range(len(tweets['tweet'])):\n",
    "    tweets['tweet'][r] = text_cleaner(tweets['tweet'][r])\n",
    "\n",
    "#Dropping retweets    \n",
    "tweets = tweets[tweets['tweet'].str.contains(\"RT\") == False].reset_index(drop=True)\n",
    "    "
   ]
  },
  {
   "cell_type": "markdown",
   "metadata": {},
   "source": [
    "Now to parse the tweens using spacy.\n",
    "\n",
    "Helpful link about disabling piplines to make nlp run faster: https://spacy.io/usage/processing-pipelines#disabling"
   ]
  },
  {
   "cell_type": "code",
   "execution_count": 10,
   "metadata": {},
   "outputs": [],
   "source": [
    "# Concatenizing all tweets into one text and parsing.\n",
    "nlp = spacy.load('en', disable=['parser'])\n",
    "\n",
    "text = tweets['tweet'].str.cat()\n",
    "text = nlp(text)"
   ]
  },
  {
   "cell_type": "code",
   "execution_count": 11,
   "metadata": {},
   "outputs": [],
   "source": [
    "# Parse tweets\n",
    "nlp = spacy.load('en')\n",
    "\n",
    "parsed = []\n",
    "\n",
    "for r in tweets['tweet']:\n",
    "    p = nlp(r)\n",
    "    parsed.append(p)\n",
    "    \n",
    "    "
   ]
  },
  {
   "cell_type": "code",
   "execution_count": 12,
   "metadata": {},
   "outputs": [],
   "source": [
    "tweets['parsed'] = parsed"
   ]
  },
  {
   "cell_type": "code",
   "execution_count": 13,
   "metadata": {},
   "outputs": [
    {
     "data": {
      "text/html": [
       "<div>\n",
       "<style scoped>\n",
       "    .dataframe tbody tr th:only-of-type {\n",
       "        vertical-align: middle;\n",
       "    }\n",
       "\n",
       "    .dataframe tbody tr th {\n",
       "        vertical-align: top;\n",
       "    }\n",
       "\n",
       "    .dataframe thead th {\n",
       "        text-align: right;\n",
       "    }\n",
       "</style>\n",
       "<table border=\"1\" class=\"dataframe\">\n",
       "  <thead>\n",
       "    <tr style=\"text-align: right;\">\n",
       "      <th></th>\n",
       "      <th>screenname</th>\n",
       "      <th>tweet</th>\n",
       "      <th>parsed</th>\n",
       "    </tr>\n",
       "  </thead>\n",
       "  <tbody>\n",
       "    <tr>\n",
       "      <th>0</th>\n",
       "      <td>realDonaldTrump</td>\n",
       "      <td>California has a rare opportunity to turn thin...</td>\n",
       "      <td>(California, has, a, rare, opportunity, to, tu...</td>\n",
       "    </tr>\n",
       "    <tr>\n",
       "      <th>1</th>\n",
       "      <td>realDonaldTrump</td>\n",
       "      <td>A Democratic lawmaker just introduced a bill t...</td>\n",
       "      <td>(A, Democratic, lawmaker, just, introduced, a,...</td>\n",
       "    </tr>\n",
       "    <tr>\n",
       "      <th>2</th>\n",
       "      <td>realDonaldTrump</td>\n",
       "      <td>Our fallen heroes have not only written our hi...</td>\n",
       "      <td>(Our, fallen, heroes, have, not, only, written...</td>\n",
       "    </tr>\n",
       "    <tr>\n",
       "      <th>3</th>\n",
       "      <td>realDonaldTrump</td>\n",
       "      <td>The heroes who rest in these hallowed fields, ...</td>\n",
       "      <td>(The, heroes, who, rest, in, these, hallowed, ...</td>\n",
       "    </tr>\n",
       "    <tr>\n",
       "      <th>4</th>\n",
       "      <td>realDonaldTrump</td>\n",
       "      <td>Thank you for joining us on this solemn day of...</td>\n",
       "      <td>(Thank, you, for, joining, us, on, this, solem...</td>\n",
       "    </tr>\n",
       "  </tbody>\n",
       "</table>\n",
       "</div>"
      ],
      "text/plain": [
       "        screenname                                              tweet  \\\n",
       "0  realDonaldTrump  California has a rare opportunity to turn thin...   \n",
       "1  realDonaldTrump  A Democratic lawmaker just introduced a bill t...   \n",
       "2  realDonaldTrump  Our fallen heroes have not only written our hi...   \n",
       "3  realDonaldTrump  The heroes who rest in these hallowed fields, ...   \n",
       "4  realDonaldTrump  Thank you for joining us on this solemn day of...   \n",
       "\n",
       "                                              parsed  \n",
       "0  (California, has, a, rare, opportunity, to, tu...  \n",
       "1  (A, Democratic, lawmaker, just, introduced, a,...  \n",
       "2  (Our, fallen, heroes, have, not, only, written...  \n",
       "3  (The, heroes, who, rest, in, these, hallowed, ...  \n",
       "4  (Thank, you, for, joining, us, on, this, solem...  "
      ]
     },
     "execution_count": 13,
     "metadata": {},
     "output_type": "execute_result"
    }
   ],
   "source": [
    "tweets.head()"
   ]
  },
  {
   "cell_type": "markdown",
   "metadata": {},
   "source": [
    "Success!"
   ]
  },
  {
   "cell_type": "markdown",
   "metadata": {},
   "source": [
    "<a id='SL'></a>\n",
    "# Supervised Learning Models"
   ]
  },
  {
   "cell_type": "markdown",
   "metadata": {},
   "source": [
    "To generate the features for the supervised learning models I am running, I will be using Bag of Words (BoW). For each tweet, we will count how many times each word appears and use those counts as features for our supervised learning models.  To keep our feature space manageable, we will be using lemmas (root words), and we will only use the top 1000 most common words for each text.\n",
    "\n",
    "With our Bag of Words features, I will be running four supervised learning models: Random Forest, Multinomial Logistic Regression, Gradient Boost, and Support Vector Machine.  I will compare the results from these tables by testing the models with a holdout group and looking at cross validation scores.  I will also be examining the resulting confusion matrices to find patterns in our results."
   ]
  },
  {
   "cell_type": "code",
   "execution_count": 14,
   "metadata": {},
   "outputs": [],
   "source": [
    "# Utility function to create a list of the 1000 most common words.\n",
    "def bag_of_words(text):\n",
    "    \n",
    "    # Filter out punctuation and stop words.\n",
    "    allwords = [token.lemma_\n",
    "                for token in text\n",
    "                if not token.is_punct\n",
    "                and not token.is_stop]\n",
    "    \n",
    "    # Return the most common words.\n",
    "    return [item[0] for item in Counter(allwords).most_common(1000)]\n",
    "    \n",
    "\n",
    "# Creates a data frame with features for each word in our common word set.\n",
    "# Each value is the count of the times the word appears in each sentence.\n",
    "def bow_features(tweets, common_words):\n",
    "    \n",
    "    # Scaffold the data frame and initialize counts to zero.\n",
    "    df = pd.DataFrame(columns=common_words)\n",
    "    df['text_sentence'] = tweets['parsed']\n",
    "    df['text_source'] = tweets['screenname']\n",
    "    df.loc[:, common_words] = 0\n",
    "    \n",
    "    # Process each row, counting the occurrence of words in each sentence.\n",
    "    for i, sentence in enumerate(df['text_sentence']):\n",
    "        \n",
    "        # Convert the sentence to lemmas, then filter out punctuation,\n",
    "        # stop words, and uncommon words.\n",
    "        words = [token.lemma_\n",
    "                 for token in sentence\n",
    "                 if (\n",
    "                     not token.is_punct\n",
    "                     and not token.is_stop\n",
    "                     and token.lemma_ in common_words\n",
    "                 )]\n",
    "        \n",
    "        # Populate the row with word counts.\n",
    "        for word in words:\n",
    "            df.loc[i, word] += 1\n",
    "        \n",
    "        # This counter is just to make sure the kernel didn't hang.\n",
    "        if i % 500 == 0:\n",
    "            print(\"Processing row {}\".format(i))\n",
    "            \n",
    "    return df\n"
   ]
  },
  {
   "cell_type": "code",
   "execution_count": 15,
   "metadata": {},
   "outputs": [],
   "source": [
    "# Finding the top 1000 common words in all the tweets.\n",
    "\n",
    "common_words = bag_of_words(text)"
   ]
  },
  {
   "cell_type": "code",
   "execution_count": 16,
   "metadata": {},
   "outputs": [
    {
     "name": "stdout",
     "output_type": "stream",
     "text": [
      "Processing row 0\n",
      "Processing row 500\n",
      "Processing row 1000\n",
      "Processing row 1500\n",
      "Processing row 2000\n",
      "Processing row 2500\n",
      "Processing row 3000\n",
      "Processing row 3500\n",
      "Processing row 4000\n",
      "Processing row 4500\n",
      "Processing row 5000\n",
      "Processing row 5500\n",
      "Processing row 6000\n",
      "Processing row 6500\n",
      "Processing row 7000\n",
      "Processing row 7500\n",
      "Processing row 8000\n",
      "Processing row 8500\n",
      "Processing row 9000\n",
      "Processing row 9500\n",
      "Processing row 10000\n"
     ]
    },
    {
     "data": {
      "text/html": [
       "<div>\n",
       "<style scoped>\n",
       "    .dataframe tbody tr th:only-of-type {\n",
       "        vertical-align: middle;\n",
       "    }\n",
       "\n",
       "    .dataframe tbody tr th {\n",
       "        vertical-align: top;\n",
       "    }\n",
       "\n",
       "    .dataframe thead th {\n",
       "        text-align: right;\n",
       "    }\n",
       "</style>\n",
       "<table border=\"1\" class=\"dataframe\">\n",
       "  <thead>\n",
       "    <tr style=\"text-align: right;\">\n",
       "      <th></th>\n",
       "      <th>-PRON-</th>\n",
       "      <th>be</th>\n",
       "      <th>trump</th>\n",
       "      <th>not</th>\n",
       "      <th>great</th>\n",
       "      <th>amp</th>\n",
       "      <th></th>\n",
       "      <th>the</th>\n",
       "      <th>thank</th>\n",
       "      <th>'s</th>\n",
       "      <th>...</th>\n",
       "      <th>admit</th>\n",
       "      <th>mccabe</th>\n",
       "      <th>legislation</th>\n",
       "      <th>probably</th>\n",
       "      <th>primary</th>\n",
       "      <th>loss</th>\n",
       "      <th>opponent</th>\n",
       "      <th>nothing</th>\n",
       "      <th>text_sentence</th>\n",
       "      <th>text_source</th>\n",
       "    </tr>\n",
       "  </thead>\n",
       "  <tbody>\n",
       "    <tr>\n",
       "      <th>0</th>\n",
       "      <td>0</td>\n",
       "      <td>0</td>\n",
       "      <td>0</td>\n",
       "      <td>0</td>\n",
       "      <td>0</td>\n",
       "      <td>0</td>\n",
       "      <td>0</td>\n",
       "      <td>0</td>\n",
       "      <td>0</td>\n",
       "      <td>0</td>\n",
       "      <td>...</td>\n",
       "      <td>0</td>\n",
       "      <td>0</td>\n",
       "      <td>0</td>\n",
       "      <td>0</td>\n",
       "      <td>0</td>\n",
       "      <td>0</td>\n",
       "      <td>0</td>\n",
       "      <td>0</td>\n",
       "      <td>(California, has, a, rare, opportunity, to, tu...</td>\n",
       "      <td>realDonaldTrump</td>\n",
       "    </tr>\n",
       "    <tr>\n",
       "      <th>1</th>\n",
       "      <td>0</td>\n",
       "      <td>0</td>\n",
       "      <td>0</td>\n",
       "      <td>0</td>\n",
       "      <td>0</td>\n",
       "      <td>0</td>\n",
       "      <td>0</td>\n",
       "      <td>0</td>\n",
       "      <td>0</td>\n",
       "      <td>0</td>\n",
       "      <td>...</td>\n",
       "      <td>0</td>\n",
       "      <td>0</td>\n",
       "      <td>0</td>\n",
       "      <td>0</td>\n",
       "      <td>0</td>\n",
       "      <td>0</td>\n",
       "      <td>0</td>\n",
       "      <td>0</td>\n",
       "      <td>(A, Democratic, lawmaker, just, introduced, a,...</td>\n",
       "      <td>realDonaldTrump</td>\n",
       "    </tr>\n",
       "    <tr>\n",
       "      <th>2</th>\n",
       "      <td>2</td>\n",
       "      <td>0</td>\n",
       "      <td>0</td>\n",
       "      <td>0</td>\n",
       "      <td>0</td>\n",
       "      <td>0</td>\n",
       "      <td>0</td>\n",
       "      <td>0</td>\n",
       "      <td>0</td>\n",
       "      <td>0</td>\n",
       "      <td>...</td>\n",
       "      <td>0</td>\n",
       "      <td>0</td>\n",
       "      <td>0</td>\n",
       "      <td>0</td>\n",
       "      <td>0</td>\n",
       "      <td>0</td>\n",
       "      <td>0</td>\n",
       "      <td>0</td>\n",
       "      <td>(Our, fallen, heroes, have, not, only, written...</td>\n",
       "      <td>realDonaldTrump</td>\n",
       "    </tr>\n",
       "    <tr>\n",
       "      <th>3</th>\n",
       "      <td>0</td>\n",
       "      <td>0</td>\n",
       "      <td>0</td>\n",
       "      <td>0</td>\n",
       "      <td>0</td>\n",
       "      <td>0</td>\n",
       "      <td>0</td>\n",
       "      <td>1</td>\n",
       "      <td>0</td>\n",
       "      <td>0</td>\n",
       "      <td>...</td>\n",
       "      <td>0</td>\n",
       "      <td>0</td>\n",
       "      <td>0</td>\n",
       "      <td>0</td>\n",
       "      <td>0</td>\n",
       "      <td>0</td>\n",
       "      <td>0</td>\n",
       "      <td>0</td>\n",
       "      <td>(The, heroes, who, rest, in, these, hallowed, ...</td>\n",
       "      <td>realDonaldTrump</td>\n",
       "    </tr>\n",
       "    <tr>\n",
       "      <th>4</th>\n",
       "      <td>1</td>\n",
       "      <td>0</td>\n",
       "      <td>0</td>\n",
       "      <td>0</td>\n",
       "      <td>0</td>\n",
       "      <td>0</td>\n",
       "      <td>0</td>\n",
       "      <td>0</td>\n",
       "      <td>1</td>\n",
       "      <td>0</td>\n",
       "      <td>...</td>\n",
       "      <td>0</td>\n",
       "      <td>0</td>\n",
       "      <td>0</td>\n",
       "      <td>0</td>\n",
       "      <td>0</td>\n",
       "      <td>0</td>\n",
       "      <td>0</td>\n",
       "      <td>0</td>\n",
       "      <td>(Thank, you, for, joining, us, on, this, solem...</td>\n",
       "      <td>realDonaldTrump</td>\n",
       "    </tr>\n",
       "  </tbody>\n",
       "</table>\n",
       "<p>5 rows × 1002 columns</p>\n",
       "</div>"
      ],
      "text/plain": [
       "  -PRON- be trump not great amp \\n the thank 's       ...        admit mccabe  \\\n",
       "0      0  0     0   0     0   0  0   0     0  0       ...            0      0   \n",
       "1      0  0     0   0     0   0  0   0     0  0       ...            0      0   \n",
       "2      2  0     0   0     0   0  0   0     0  0       ...            0      0   \n",
       "3      0  0     0   0     0   0  0   1     0  0       ...            0      0   \n",
       "4      1  0     0   0     0   0  0   0     1  0       ...            0      0   \n",
       "\n",
       "  legislation probably primary loss opponent nothing  \\\n",
       "0           0        0       0    0        0       0   \n",
       "1           0        0       0    0        0       0   \n",
       "2           0        0       0    0        0       0   \n",
       "3           0        0       0    0        0       0   \n",
       "4           0        0       0    0        0       0   \n",
       "\n",
       "                                       text_sentence      text_source  \n",
       "0  (California, has, a, rare, opportunity, to, tu...  realDonaldTrump  \n",
       "1  (A, Democratic, lawmaker, just, introduced, a,...  realDonaldTrump  \n",
       "2  (Our, fallen, heroes, have, not, only, written...  realDonaldTrump  \n",
       "3  (The, heroes, who, rest, in, these, hallowed, ...  realDonaldTrump  \n",
       "4  (Thank, you, for, joining, us, on, this, solem...  realDonaldTrump  \n",
       "\n",
       "[5 rows x 1002 columns]"
      ]
     },
     "execution_count": 16,
     "metadata": {},
     "output_type": "execute_result"
    }
   ],
   "source": [
    "# Create our data frame with features. \n",
    "word_counts = bow_features(tweets, common_words)\n",
    "word_counts.head()"
   ]
  },
  {
   "cell_type": "markdown",
   "metadata": {},
   "source": [
    "Each row represents a tweet.  Each column contains one of the top 1000 common words.  If the tweet contains that word the corresponding space is marked '1'. "
   ]
  },
  {
   "cell_type": "code",
   "execution_count": 17,
   "metadata": {},
   "outputs": [
    {
     "name": "stdout",
     "output_type": "stream",
     "text": [
      "<class 'pandas.core.frame.DataFrame'>\n",
      "RangeIndex: 10263 entries, 0 to 10262\n",
      "Columns: 1002 entries, -PRON- to text_source\n",
      "dtypes: object(1002)\n",
      "memory usage: 78.5+ MB\n"
     ]
    }
   ],
   "source": [
    "word_counts.info()\n"
   ]
  },
  {
   "cell_type": "markdown",
   "metadata": {},
   "source": [
    "## Models for BoW\n",
    "I will be using the dataframe created from Bag of Words to classify our tweets with Random Forest, Multinomial Logistic Regression, Gradient Boost, and Support Vector Machine.  "
   ]
  },
  {
   "cell_type": "code",
   "execution_count": 19,
   "metadata": {},
   "outputs": [],
   "source": [
    "# Train-test split\n",
    "rfc = ensemble.RandomForestClassifier()\n",
    "Y = word_counts['text_source']\n",
    "X = np.array(word_counts.drop(['text_sentence','text_source'], 1))\n",
    "\n",
    "X_train, X_test, y_train, y_test = train_test_split(X, \n",
    "                                                    Y,\n",
    "                                                    test_size=0.4,\n",
    "                                                    random_state=0,\n",
    "                                                    stratify=Y\n",
    "                                                   )"
   ]
  },
  {
   "cell_type": "code",
   "execution_count": 20,
   "metadata": {},
   "outputs": [
    {
     "data": {
      "text/plain": [
       "realDonaldTrump    1720\n",
       "katyperry          1713\n",
       "HillaryClinton     1523\n",
       "justinbieber       1201\n",
       "Name: text_source, dtype: int64"
      ]
     },
     "execution_count": 20,
     "metadata": {},
     "output_type": "execute_result"
    }
   ],
   "source": [
    "y_train.value_counts()"
   ]
  },
  {
   "cell_type": "code",
   "execution_count": 21,
   "metadata": {},
   "outputs": [
    {
     "data": {
      "text/plain": [
       "realDonaldTrump    1147\n",
       "katyperry          1143\n",
       "HillaryClinton     1015\n",
       "justinbieber        801\n",
       "Name: text_source, dtype: int64"
      ]
     },
     "execution_count": 21,
     "metadata": {},
     "output_type": "execute_result"
    }
   ],
   "source": [
    "y_test.value_counts()"
   ]
  },
  {
   "cell_type": "markdown",
   "metadata": {},
   "source": [
    "<a id='forest'></a>\n",
    "### Random forest"
   ]
  },
  {
   "cell_type": "code",
   "execution_count": 22,
   "metadata": {},
   "outputs": [
    {
     "name": "stdout",
     "output_type": "stream",
     "text": [
      "Training set score: 0.9504628877700179\n",
      "\n",
      "Test set score: 0.735021919142718\n"
     ]
    }
   ],
   "source": [
    "train = rfc.fit(X_train, y_train)\n",
    "\n",
    "print('Training set score:', rfc.score(X_train, y_train))\n",
    "print('\\nTest set score:', rfc.score(X_test, y_test))"
   ]
  },
  {
   "cell_type": "markdown",
   "metadata": {},
   "source": [
    "Looks like there is an issue with overfitting here.  The training score is much higher than the test set.  "
   ]
  },
  {
   "cell_type": "code",
   "execution_count": 23,
   "metadata": {},
   "outputs": [
    {
     "data": {
      "text/plain": [
       "array([0.62871046, 0.72736125, 0.71101365, 0.70648464, 0.69624573])"
      ]
     },
     "execution_count": 23,
     "metadata": {},
     "output_type": "execute_result"
    }
   ],
   "source": [
    "from sklearn.model_selection import cross_val_score\n",
    "cross_val_score(rfc, X, Y, cv=5)"
   ]
  },
  {
   "cell_type": "markdown",
   "metadata": {},
   "source": [
    "There are some variations in the cross validation scores, which again points to overfitting.  Random forest is probably not the best model for this dataset."
   ]
  },
  {
   "cell_type": "code",
   "execution_count": 24,
   "metadata": {
    "scrolled": true
   },
   "outputs": [],
   "source": [
    "y_pred = rfc.fit(X_train, y_train).predict(X_train)"
   ]
  },
  {
   "cell_type": "code",
   "execution_count": 25,
   "metadata": {},
   "outputs": [
    {
     "data": {
      "text/plain": [
       "Counter({'HillaryClinton': 1525,\n",
       "         'justinbieber': 1067,\n",
       "         'katyperry': 1882,\n",
       "         'realDonaldTrump': 1683})"
      ]
     },
     "execution_count": 25,
     "metadata": {},
     "output_type": "execute_result"
    }
   ],
   "source": [
    "Counter(y_pred)"
   ]
  },
  {
   "cell_type": "markdown",
   "metadata": {},
   "source": [
    "It looks like Justin Bieber has the least amount of predicted tweets.  Let's take a look at the confusion matrix."
   ]
  },
  {
   "cell_type": "code",
   "execution_count": 26,
   "metadata": {},
   "outputs": [
    {
     "data": {
      "text/plain": [
       "array([[1501,    7,   13,    2],\n",
       "       [   5, 1010,  186,    0],\n",
       "       [   7,   36, 1666,    4],\n",
       "       [  12,   14,   17, 1677]])"
      ]
     },
     "execution_count": 26,
     "metadata": {},
     "output_type": "execute_result"
    }
   ],
   "source": [
    "# Taking a look at the confusion matrix\n",
    "conf_matrix = confusion_matrix(y_train, y_pred)\n",
    "conf_matrix"
   ]
  },
  {
   "cell_type": "markdown",
   "metadata": {},
   "source": [
    "1010 out of 1201 (84%) Justin Beiber tweets are correctly identified, making it the lowest accuracy of the four Twitter handles.  This model has the highest sensitivity to Donald Trump tweets, where 1677 Trump tweets are correctly identified and only 6 are not.  \n",
    "\n",
    "Let's take a look at the confusion matrix for the test set."
   ]
  },
  {
   "cell_type": "code",
   "execution_count": 27,
   "metadata": {},
   "outputs": [],
   "source": [
    "y_pred = rfc.fit(X_train, y_train).predict(X_test)"
   ]
  },
  {
   "cell_type": "code",
   "execution_count": 28,
   "metadata": {},
   "outputs": [
    {
     "data": {
      "text/plain": [
       "array([[769,  62,  93,  91],\n",
       "       [ 13, 552, 209,  27],\n",
       "       [ 60, 174, 871,  38],\n",
       "       [137,  81,  86, 843]])"
      ]
     },
     "execution_count": 28,
     "metadata": {},
     "output_type": "execute_result"
    }
   ],
   "source": [
    "# Taking a look at the confusion matrix\n",
    "conf_matrix = confusion_matrix(y_test, y_pred)\n",
    "conf_matrix"
   ]
  },
  {
   "cell_type": "markdown",
   "metadata": {},
   "source": [
    "In the test set, 249 of Bieber tweets are misclassified, giving Bieber an accuracy of 69%.  The Bieber sensitivity is the lowest at 63%.  Trump has the highest sensitivity of about 84%.  This may mean that Trump tweets are easier to classify using Random Forest that Bieber tweets. "
   ]
  },
  {
   "cell_type": "markdown",
   "metadata": {},
   "source": [
    "<a id='log'></a>\n",
    "### Multinomial Logistic Regression\n",
    "\n",
    "Multinomial Logistic regression allows us to classify the tweets into multiple categories.  It is a multi-equation model that estimates the probability that each tweet belongs to a Twitter handle.  Then cut points are established to determine which handle is most likely."
   ]
  },
  {
   "cell_type": "code",
   "execution_count": 29,
   "metadata": {},
   "outputs": [
    {
     "name": "stdout",
     "output_type": "stream",
     "text": [
      "(6157, 1000) (6157,)\n",
      "Training set score: 0.8993016079259379\n",
      "\n",
      "Test set score: 0.8127131027764247\n"
     ]
    }
   ],
   "source": [
    "lr = LogisticRegression(solver='lbfgs', multi_class='multinomial')\n",
    "train = lr.fit(X_train, y_train)\n",
    "print(X_train.shape, y_train.shape)\n",
    "print('Training set score:', lr.score(X_train, y_train))\n",
    "print('\\nTest set score:', lr.score(X_test, y_test))"
   ]
  },
  {
   "cell_type": "code",
   "execution_count": 30,
   "metadata": {},
   "outputs": [
    {
     "data": {
      "text/plain": [
       "array([0.71094891, 0.81596884, 0.80409357, 0.80594832, 0.78644564])"
      ]
     },
     "execution_count": 30,
     "metadata": {},
     "output_type": "execute_result"
    }
   ],
   "source": [
    "cross_val_score(lr, X, Y, cv=5)"
   ]
  },
  {
   "cell_type": "markdown",
   "metadata": {},
   "source": [
    "Hey not bad!  The training set is pretty close to the test set.  And it is a pretty high score!  Looks like logistic regression is pretty good at predicting which tweets belong to which tweeter.  \n",
    "\n",
    "Let's take a look at the confusion matrix for the test set."
   ]
  },
  {
   "cell_type": "code",
   "execution_count": 31,
   "metadata": {},
   "outputs": [
    {
     "data": {
      "text/plain": [
       "array([[821,  28,  70,  96],\n",
       "       [  8, 580, 208,   5],\n",
       "       [ 34, 103, 976,  30],\n",
       "       [ 96,  40,  51, 960]])"
      ]
     },
     "execution_count": 31,
     "metadata": {},
     "output_type": "execute_result"
    }
   ],
   "source": [
    "y_pred = lr.fit(X_train, y_train).predict(X_test)\n",
    "\n",
    "# Taking a look at the confusion matrix\n",
    "conf_matrix = confusion_matrix(y_test, y_pred)\n",
    "conf_matrix"
   ]
  },
  {
   "cell_type": "markdown",
   "metadata": {},
   "source": [
    "Again, Justin Bieber has the lowest sensitivity (580/(28+580+103+40)) at about 77% and Trump has the highest sensitivty (960/(96+5+30+960)) at 88%.  Similar to Random Forest, Multinomial Logistic Regression has an easier time identifying Trump tweets compared to the other handles. "
   ]
  },
  {
   "cell_type": "markdown",
   "metadata": {},
   "source": [
    "<a id='boost'></a>\n",
    "### Gradient Boost"
   ]
  },
  {
   "cell_type": "code",
   "execution_count": 32,
   "metadata": {},
   "outputs": [
    {
     "name": "stdout",
     "output_type": "stream",
     "text": [
      "Training set score: 0.7820367061880786\n",
      "\n",
      "Test set score: 0.7515830491962981\n"
     ]
    }
   ],
   "source": [
    "clf = ensemble.GradientBoostingClassifier()\n",
    "train = clf.fit(X_train, y_train)\n",
    "\n",
    "print('Training set score:', clf.score(X_train, y_train))\n",
    "print('\\nTest set score:', clf.score(X_test, y_test))\n"
   ]
  },
  {
   "cell_type": "code",
   "execution_count": 33,
   "metadata": {},
   "outputs": [
    {
     "data": {
      "text/plain": [
       "array([0.62238443, 0.73709834, 0.75974659, 0.77620673, 0.74500244])"
      ]
     },
     "execution_count": 33,
     "metadata": {},
     "output_type": "execute_result"
    }
   ],
   "source": [
    "cross_val_score(clf, X, Y, cv=5)"
   ]
  },
  {
   "cell_type": "markdown",
   "metadata": {},
   "source": [
    "While the test and training scores are similar and the cross validation scores show some consistency, Gradient Boost is not as accurate as Multinomial Logistic Regression in correctly classifying the tweets.  Let's take a look at the confusion matrix for Gradient Boost."
   ]
  },
  {
   "cell_type": "code",
   "execution_count": 34,
   "metadata": {},
   "outputs": [
    {
     "data": {
      "text/plain": [
       "array([[ 729,   14,  136,  136],\n",
       "       [   6,  441,  318,   36],\n",
       "       [  13,   63, 1010,   57],\n",
       "       [  77,   31,  138,  901]])"
      ]
     },
     "execution_count": 34,
     "metadata": {},
     "output_type": "execute_result"
    }
   ],
   "source": [
    "y_pred = clf.fit(X_train, y_train).predict(X_test)\n",
    "\n",
    "# Taking a look at the confusion matrix\n",
    "conf_matrix = confusion_matrix(y_test, y_pred)\n",
    "conf_matrix"
   ]
  },
  {
   "cell_type": "markdown",
   "metadata": {},
   "source": [
    "Look at the confusion matrix, Gradient Boost is most accurate in predicting Katy Perry tweets.  About 88% of Perry tweet were correctly identified (1010/1143).  Hilary Clinton tweets had the highest sensitivity at about 88% (729/825).  Meanwhile, Bieber tweets have the lowest accuracy (55%) and sensitivity (62%).    "
   ]
  },
  {
   "cell_type": "markdown",
   "metadata": {},
   "source": [
    "<a id='svm'></a>\n",
    "### SVM\n",
    "\n",
    "Lastly, I am going to run a Support Vector Machine model on our Bag of Words features.  Because SVM requires more tuning to get accurate results, I am going to use grid search to identify the best SVM parameters of gammma and C for our dataset."
   ]
  },
  {
   "cell_type": "code",
   "execution_count": 35,
   "metadata": {},
   "outputs": [],
   "source": [
    "from sklearn.model_selection import GridSearchCV\n",
    "from sklearn.metrics import classification_report\n",
    "from sklearn.svm import SVC\n",
    "\n",
    "# Code adapted from http://scikit-learn.org/stable/auto_examples/model_selection/plot_grid_search_digits.html\n",
    "# Set the parameters by cross-validation\n",
    "def gridsearch(X_train, y_train, X_test, y_test):\n",
    "    \n",
    "    tuned_parameters = [{'kernel': ['rbf'], 'gamma': [1e-3, 1e-4, 1e-5, 1e-6, 1e-7, 1e-8, 1e-9],\n",
    "                     'C': [1, 10, 100, 1000, 10000]}]\n",
    "\n",
    "    scores = ['precision', 'recall']\n",
    "\n",
    "    for score in scores:\n",
    "        print(\"# Tuning hyper-parameters for %s\" % score)\n",
    "        print()\n",
    "\n",
    "        clf = GridSearchCV(SVC(), tuned_parameters, cv=5,\n",
    "                           scoring='%s_macro' % score)\n",
    "        clf.fit(X_train, y_train)\n",
    "\n",
    "        print(\"Best parameters set found on development set:\")\n",
    "        print()\n",
    "        print(clf.best_params_)\n",
    "        print()\n",
    "        print(\"Grid scores on development set:\")\n",
    "        print()\n",
    "        means = clf.cv_results_['mean_test_score']\n",
    "        stds = clf.cv_results_['std_test_score']\n",
    "        for mean, std, params in zip(means, stds, clf.cv_results_['params']):\n",
    "            print(\"%0.3f (+/-%0.03f) for %r\"\n",
    "                  % (mean, std * 2, params))\n",
    "        print()\n",
    "\n",
    "        print(\"Detailed classification report:\")\n",
    "        print()\n",
    "        print(\"The model is trained on the full development set.\")\n",
    "        print(\"The scores are computed on the full evaluation set.\")\n",
    "        print()\n",
    "        y_true, y_pred = y_test, clf.predict(X_test)\n",
    "        print(classification_report(y_true, y_pred))\n",
    "        print()"
   ]
  },
  {
   "cell_type": "markdown",
   "metadata": {},
   "source": [
    "To speed up production, we are going to take the X and Y test dataset, split it for testing and training, and use grid search on that.  A smaller dataset will hopefully make this run faster."
   ]
  },
  {
   "cell_type": "code",
   "execution_count": 36,
   "metadata": {},
   "outputs": [],
   "source": [
    "X2_train, X2_test, y2_train, y2_test = train_test_split(X_test, y_test, test_size=0.4,\n",
    "                                                    random_state=0, stratify=y_test)"
   ]
  },
  {
   "cell_type": "code",
   "execution_count": 37,
   "metadata": {},
   "outputs": [
    {
     "data": {
      "text/plain": [
       "realDonaldTrump    0.279334\n",
       "katyperry          0.278522\n",
       "HillaryClinton     0.247259\n",
       "justinbieber       0.194884\n",
       "Name: text_source, dtype: float64"
      ]
     },
     "execution_count": 37,
     "metadata": {},
     "output_type": "execute_result"
    }
   ],
   "source": [
    "y2_train.value_counts(1)"
   ]
  },
  {
   "cell_type": "markdown",
   "metadata": {},
   "source": [
    "Great! Now to run grid search on our miniture dataset."
   ]
  },
  {
   "cell_type": "code",
   "execution_count": 38,
   "metadata": {},
   "outputs": [
    {
     "name": "stdout",
     "output_type": "stream",
     "text": [
      "# Tuning hyper-parameters for precision\n",
      "\n",
      "Best parameters set found on development set:\n",
      "\n",
      "{'C': 100, 'gamma': 0.001, 'kernel': 'rbf'}\n",
      "\n",
      "Grid scores on development set:\n",
      "\n",
      "0.255 (+/-0.191) for {'C': 1, 'gamma': 0.001, 'kernel': 'rbf'}\n",
      "0.070 (+/-0.000) for {'C': 1, 'gamma': 0.0001, 'kernel': 'rbf'}\n",
      "0.070 (+/-0.000) for {'C': 1, 'gamma': 1e-05, 'kernel': 'rbf'}\n",
      "0.070 (+/-0.000) for {'C': 1, 'gamma': 1e-06, 'kernel': 'rbf'}\n",
      "0.070 (+/-0.000) for {'C': 1, 'gamma': 1e-07, 'kernel': 'rbf'}\n",
      "0.070 (+/-0.000) for {'C': 1, 'gamma': 1e-08, 'kernel': 'rbf'}\n",
      "0.070 (+/-0.000) for {'C': 1, 'gamma': 1e-09, 'kernel': 'rbf'}\n",
      "0.747 (+/-0.049) for {'C': 10, 'gamma': 0.001, 'kernel': 'rbf'}\n",
      "0.304 (+/-0.304) for {'C': 10, 'gamma': 0.0001, 'kernel': 'rbf'}\n",
      "0.070 (+/-0.000) for {'C': 10, 'gamma': 1e-05, 'kernel': 'rbf'}\n",
      "0.070 (+/-0.000) for {'C': 10, 'gamma': 1e-06, 'kernel': 'rbf'}\n",
      "0.070 (+/-0.000) for {'C': 10, 'gamma': 1e-07, 'kernel': 'rbf'}\n",
      "0.070 (+/-0.000) for {'C': 10, 'gamma': 1e-08, 'kernel': 'rbf'}\n",
      "0.070 (+/-0.000) for {'C': 10, 'gamma': 1e-09, 'kernel': 'rbf'}\n",
      "0.766 (+/-0.022) for {'C': 100, 'gamma': 0.001, 'kernel': 'rbf'}\n",
      "0.749 (+/-0.045) for {'C': 100, 'gamma': 0.0001, 'kernel': 'rbf'}\n",
      "0.304 (+/-0.304) for {'C': 100, 'gamma': 1e-05, 'kernel': 'rbf'}\n",
      "0.070 (+/-0.000) for {'C': 100, 'gamma': 1e-06, 'kernel': 'rbf'}\n",
      "0.070 (+/-0.000) for {'C': 100, 'gamma': 1e-07, 'kernel': 'rbf'}\n",
      "0.070 (+/-0.000) for {'C': 100, 'gamma': 1e-08, 'kernel': 'rbf'}\n",
      "0.070 (+/-0.000) for {'C': 100, 'gamma': 1e-09, 'kernel': 'rbf'}\n",
      "0.729 (+/-0.037) for {'C': 1000, 'gamma': 0.001, 'kernel': 'rbf'}\n",
      "0.765 (+/-0.020) for {'C': 1000, 'gamma': 0.0001, 'kernel': 'rbf'}\n",
      "0.751 (+/-0.043) for {'C': 1000, 'gamma': 1e-05, 'kernel': 'rbf'}\n",
      "0.305 (+/-0.305) for {'C': 1000, 'gamma': 1e-06, 'kernel': 'rbf'}\n",
      "0.070 (+/-0.000) for {'C': 1000, 'gamma': 1e-07, 'kernel': 'rbf'}\n",
      "0.070 (+/-0.000) for {'C': 1000, 'gamma': 1e-08, 'kernel': 'rbf'}\n",
      "0.070 (+/-0.000) for {'C': 1000, 'gamma': 1e-09, 'kernel': 'rbf'}\n",
      "0.695 (+/-0.044) for {'C': 10000, 'gamma': 0.001, 'kernel': 'rbf'}\n",
      "0.728 (+/-0.038) for {'C': 10000, 'gamma': 0.0001, 'kernel': 'rbf'}\n",
      "0.764 (+/-0.022) for {'C': 10000, 'gamma': 1e-05, 'kernel': 'rbf'}\n",
      "0.749 (+/-0.043) for {'C': 10000, 'gamma': 1e-06, 'kernel': 'rbf'}\n",
      "0.305 (+/-0.305) for {'C': 10000, 'gamma': 1e-07, 'kernel': 'rbf'}\n",
      "0.070 (+/-0.000) for {'C': 10000, 'gamma': 1e-08, 'kernel': 'rbf'}\n",
      "0.070 (+/-0.000) for {'C': 10000, 'gamma': 1e-09, 'kernel': 'rbf'}\n",
      "\n",
      "Detailed classification report:\n",
      "\n",
      "The model is trained on the full development set.\n",
      "The scores are computed on the full evaluation set.\n",
      "\n",
      "                 precision    recall  f1-score   support\n",
      "\n",
      " HillaryClinton       0.84      0.75      0.79       406\n",
      "   justinbieber       0.76      0.64      0.70       321\n",
      "      katyperry       0.66      0.86      0.75       457\n",
      "realDonaldTrump       0.87      0.79      0.83       459\n",
      "\n",
      "    avg / total       0.78      0.77      0.77      1643\n",
      "\n",
      "\n",
      "# Tuning hyper-parameters for recall\n",
      "\n",
      "Best parameters set found on development set:\n",
      "\n",
      "{'C': 100, 'gamma': 0.001, 'kernel': 'rbf'}\n",
      "\n",
      "Grid scores on development set:\n",
      "\n",
      "0.261 (+/-0.022) for {'C': 1, 'gamma': 0.001, 'kernel': 'rbf'}\n",
      "0.250 (+/-0.000) for {'C': 1, 'gamma': 0.0001, 'kernel': 'rbf'}\n",
      "0.250 (+/-0.000) for {'C': 1, 'gamma': 1e-05, 'kernel': 'rbf'}\n",
      "0.250 (+/-0.000) for {'C': 1, 'gamma': 1e-06, 'kernel': 'rbf'}\n",
      "0.250 (+/-0.000) for {'C': 1, 'gamma': 1e-07, 'kernel': 'rbf'}\n",
      "0.250 (+/-0.000) for {'C': 1, 'gamma': 1e-08, 'kernel': 'rbf'}\n",
      "0.250 (+/-0.000) for {'C': 1, 'gamma': 1e-09, 'kernel': 'rbf'}\n",
      "0.603 (+/-0.031) for {'C': 10, 'gamma': 0.001, 'kernel': 'rbf'}\n",
      "0.261 (+/-0.022) for {'C': 10, 'gamma': 0.0001, 'kernel': 'rbf'}\n",
      "0.250 (+/-0.000) for {'C': 10, 'gamma': 1e-05, 'kernel': 'rbf'}\n",
      "0.250 (+/-0.000) for {'C': 10, 'gamma': 1e-06, 'kernel': 'rbf'}\n",
      "0.250 (+/-0.000) for {'C': 10, 'gamma': 1e-07, 'kernel': 'rbf'}\n",
      "0.250 (+/-0.000) for {'C': 10, 'gamma': 1e-08, 'kernel': 'rbf'}\n",
      "0.250 (+/-0.000) for {'C': 10, 'gamma': 1e-09, 'kernel': 'rbf'}\n",
      "0.737 (+/-0.022) for {'C': 100, 'gamma': 0.001, 'kernel': 'rbf'}\n",
      "0.603 (+/-0.027) for {'C': 100, 'gamma': 0.0001, 'kernel': 'rbf'}\n",
      "0.261 (+/-0.022) for {'C': 100, 'gamma': 1e-05, 'kernel': 'rbf'}\n",
      "0.250 (+/-0.000) for {'C': 100, 'gamma': 1e-06, 'kernel': 'rbf'}\n",
      "0.250 (+/-0.000) for {'C': 100, 'gamma': 1e-07, 'kernel': 'rbf'}\n",
      "0.250 (+/-0.000) for {'C': 100, 'gamma': 1e-08, 'kernel': 'rbf'}\n",
      "0.250 (+/-0.000) for {'C': 100, 'gamma': 1e-09, 'kernel': 'rbf'}\n",
      "0.732 (+/-0.034) for {'C': 1000, 'gamma': 0.001, 'kernel': 'rbf'}\n",
      "0.736 (+/-0.023) for {'C': 1000, 'gamma': 0.0001, 'kernel': 'rbf'}\n",
      "0.603 (+/-0.026) for {'C': 1000, 'gamma': 1e-05, 'kernel': 'rbf'}\n",
      "0.261 (+/-0.023) for {'C': 1000, 'gamma': 1e-06, 'kernel': 'rbf'}\n",
      "0.250 (+/-0.000) for {'C': 1000, 'gamma': 1e-07, 'kernel': 'rbf'}\n",
      "0.250 (+/-0.000) for {'C': 1000, 'gamma': 1e-08, 'kernel': 'rbf'}\n",
      "0.250 (+/-0.000) for {'C': 1000, 'gamma': 1e-09, 'kernel': 'rbf'}\n",
      "0.699 (+/-0.049) for {'C': 10000, 'gamma': 0.001, 'kernel': 'rbf'}\n",
      "0.730 (+/-0.036) for {'C': 10000, 'gamma': 0.0001, 'kernel': 'rbf'}\n",
      "0.734 (+/-0.023) for {'C': 10000, 'gamma': 1e-05, 'kernel': 'rbf'}\n",
      "0.603 (+/-0.026) for {'C': 10000, 'gamma': 1e-06, 'kernel': 'rbf'}\n",
      "0.261 (+/-0.023) for {'C': 10000, 'gamma': 1e-07, 'kernel': 'rbf'}\n",
      "0.250 (+/-0.000) for {'C': 10000, 'gamma': 1e-08, 'kernel': 'rbf'}\n",
      "0.250 (+/-0.000) for {'C': 10000, 'gamma': 1e-09, 'kernel': 'rbf'}\n",
      "\n",
      "Detailed classification report:\n",
      "\n",
      "The model is trained on the full development set.\n",
      "The scores are computed on the full evaluation set.\n",
      "\n",
      "                 precision    recall  f1-score   support\n",
      "\n",
      " HillaryClinton       0.84      0.75      0.79       406\n",
      "   justinbieber       0.76      0.64      0.70       321\n",
      "      katyperry       0.66      0.86      0.75       457\n",
      "realDonaldTrump       0.87      0.79      0.83       459\n",
      "\n",
      "    avg / total       0.78      0.77      0.77      1643\n",
      "\n",
      "\n"
     ]
    }
   ],
   "source": [
    "gridsearch(X2_train, y2_train, X2_test, y2_test)"
   ]
  },
  {
   "cell_type": "markdown",
   "metadata": {},
   "source": [
    "It looks like SVM is optimized with a C of 100 and a gamma of 0.001. Let's run SVM with these parameters on the full dataset."
   ]
  },
  {
   "cell_type": "code",
   "execution_count": 39,
   "metadata": {},
   "outputs": [
    {
     "name": "stdout",
     "output_type": "stream",
     "text": [
      "Training set score: 0.8653565047912944\n",
      "\n",
      "Test set score: 0.7968826108134437\n"
     ]
    }
   ],
   "source": [
    "svc = SVC(C=100, gamma=0.001, kernel='rbf')\n",
    "\n",
    "svc.fit(X_train, y_train)\n",
    "\n",
    "\n",
    "print('Training set score:', svc.score(X_train, y_train))\n",
    "print('\\nTest set score:', svc.score(X_test, y_test))"
   ]
  },
  {
   "cell_type": "code",
   "execution_count": 40,
   "metadata": {},
   "outputs": [
    {
     "data": {
      "text/plain": [
       "array([0.67883212, 0.79308666, 0.78898635, 0.82447587, 0.77279376])"
      ]
     },
     "execution_count": 40,
     "metadata": {},
     "output_type": "execute_result"
    }
   ],
   "source": [
    "cross_val_score(svc, X, Y, cv=5)"
   ]
  },
  {
   "cell_type": "markdown",
   "metadata": {},
   "source": [
    "It looks like there is an issue of overfitting here, even with the adjusted parameters.  The training set score very different than the test set score.  The cross-validation scores also show evidence of over-fitting.  SVM is not the best supervised learning model for identifying tweets in our dataset."
   ]
  },
  {
   "cell_type": "markdown",
   "metadata": {},
   "source": [
    "<a id='conclude'></a>\n",
    "## Supervised Learning Conclusion\n",
    "\n",
    "In this section, I used Bag of Words to engineer features from our tweet dataset, and then built four different supervised learning models to classify the tweets: Random Forest, Multinomial Logistic Regression, Gradient Boost and SVM.  Of the four models, multinomial logistic regression is the most successful in correctly classifying the tweets.  It is also interesting to note that Justin Bieber's tweets seems to be the most elusive to all models across the board, while Trump tweets are easier to identify in Random Forest and Logistic Regression models."
   ]
  },
  {
   "cell_type": "markdown",
   "metadata": {},
   "source": [
    "<a id='unsup'></a>\n",
    "# Unsupervised Learning Models\n",
    "\n",
    "What if we don't have information on the twitter handle that the tweet belongs to?  How would the tweets be categorized?  For this unsupervised learning problem, I will be generating a feature space using tfidf, which converts the tweets into vectors.  Then I will apply dimension reduction (Singular Value Decomposition or SVD) to reduce the feature space to two features and create the visual clusters using k-means and mean-shift algorithms.\n",
    "\n",
    "Of course, reducing the feature space to two vectors may be limiting to the dataset at hand.  So I will also being running Latent Semantic Analysis on a reduced eature space of 200 components.  This will create clusters of terms that presumably reflects a topic, with a score for each topic that indicates the topic's relevancy to our tweets.  This is a good way to see characterize tweets.  We may also be able to see which topics are more representative of which tweeters. "
   ]
  },
  {
   "cell_type": "code",
   "execution_count": 41,
   "metadata": {},
   "outputs": [
    {
     "name": "stdout",
     "output_type": "stream",
     "text": [
      "Number of features: 4142\n",
      "number of tweets: 10263\n"
     ]
    }
   ],
   "source": [
    "X = tweets['tweet']\n",
    "Y = tweets['screenname']\n",
    "\n",
    "vectorizer = TfidfVectorizer(max_df=0.5, # drop words that occur in more than half the tweets\n",
    "                             min_df=3, # only use words that appear at least three times\n",
    "                             stop_words='english', \n",
    "                             lowercase=True, #convert everything to lower case (since Donald Trump has the HABIT of CAPITALIZING WORDS for EMPHASIS)\n",
    "                             use_idf=True,#we definitely want to use inverse document frequencies in our weighting\n",
    "                             norm=u'l2', #Applies a correction factor so that longer tweets and shorter tweets get treated equally\n",
    "                             smooth_idf=True #Adds 1 to all document frequencies, as if an extra document existed that used every word once.  Prevents divide-by-zero errors\n",
    "                            )\n",
    "\n",
    "\n",
    "#Applying the vectorizer to training set\n",
    "X_tfidf = vectorizer.fit_transform(X)\n",
    "print(\"Number of features: %d\" % X_tfidf.get_shape()[1])\n",
    "\n",
    "\n",
    "\n",
    "#Reshapes the vectorizer output into something people can read\n",
    "X_tfidf_csr = X_tfidf.tocsr()\n",
    "\n",
    "\n",
    "#number of tweets\n",
    "n = X_tfidf_csr.shape[0]\n",
    "print('number of tweets: %d' %n)\n",
    "\n",
    "\n",
    "#A list of dictionaries, one per tweet\n",
    "tfidf_bytweet = [{} for _ in range(0,n)]\n",
    "\n",
    "\n",
    "#List of features\n",
    "terms = vectorizer.get_feature_names()"
   ]
  },
  {
   "cell_type": "markdown",
   "metadata": {},
   "source": [
    "Great! We have 4126 vectors making up our feature space."
   ]
  },
  {
   "cell_type": "code",
   "execution_count": 42,
   "metadata": {},
   "outputs": [],
   "source": [
    "#for each tweet, lists the feature words and their tf-idf scores\n",
    "for i, j in zip(*X_tfidf_csr.nonzero()):\n",
    "    tfidf_bytweet[i][terms[j]] = X_tfidf_csr[i, j]"
   ]
  },
  {
   "cell_type": "code",
   "execution_count": 43,
   "metadata": {},
   "outputs": [
    {
     "name": "stdout",
     "output_type": "stream",
     "text": [
      "Tweeter: realDonaldTrump\n",
      "Original sentence: Thank you for joining us on this solemn day of remembrance. We are gathered here on the sacred soil of… \n",
      "Tf_idf vector: {'thank': 0.2421764529079264, 'joining': 0.4396061458115794, 'day': 0.2673956802169538, 'remembrance': 0.45592130413462395, 'gathered': 0.4892561324620297, 'sacred': 0.4789162282773645}\n"
     ]
    }
   ],
   "source": [
    "#Keep in mind that the log base 2 of 1 is 0, so a tf-idf score of 0 indicates that the word was present once in that sentence.\n",
    "print('Tweeter:', Y.iloc[4])\n",
    "print('Original sentence:', X.iloc[4])\n",
    "print('Tf_idf vector:', tfidf_bytweet[4])"
   ]
  },
  {
   "cell_type": "markdown",
   "metadata": {},
   "source": [
    "Here we can see how the original Trump tweet is broken up into vectors determined by the words in the tweet.  \n",
    "\n",
    "Let's get to clustering!"
   ]
  },
  {
   "cell_type": "markdown",
   "metadata": {},
   "source": [
    "<a id='kmeans'></a>\n",
    "## K-means clustering\n",
    "K-Means groups data into clusters of similar data points with similar variances.  It uses an algorithm that chooses means (centroids) that minimize the cost function.  In this case, the cost function is inertia, calculated as the sum of squared differences between the centroid of the cluster and the data points in the cluster.  The goal is to define cluster means so that the distance between the cluster mean and all the data points in that cluster is as small as possible.\n",
    "\n",
    "Let's see how k-means clusters our tweets!\n",
    "\n",
    "### Two clusters\n",
    "Let's first visualize how K-means would group our tweets into two clusters. Perhaps all political tweets (by Donald Trump and Hilary Clinton) will fall into one cluster and tweets from pop stars (Katy Perry and Justin Beiber) will fall in the other."
   ]
  },
  {
   "cell_type": "code",
   "execution_count": 44,
   "metadata": {},
   "outputs": [
    {
     "data": {
      "image/png": "[encoded data removed]",
      "text/plain": [
       "<matplotlib.figure.Figure at 0x1a0dd33eb8>"
      ]
     },
     "metadata": {},
     "output_type": "display_data"
    },
    {
     "name": "stdout",
     "output_type": "stream",
     "text": [
      "Comparing k-means clusters against the data:\n",
      "screenname  HillaryClinton  justinbieber  katyperry  realDonaldTrump\n",
      "row_0                                                               \n",
      "0                     2519          1886       2832             2792\n",
      "1                       19           116         24               75\n"
     ]
    }
   ],
   "source": [
    "# We are limiting our feature space to 2 components here. \n",
    "#  This makes it easier to graph and see the clusters.\n",
    "svd= TruncatedSVD(2)\n",
    "\n",
    "# Normalize the data.\n",
    "X_norm = normalize(X_tfidf)\n",
    "\n",
    "# Reduce it to two components.\n",
    "X_svd = svd.fit_transform(X_norm)\n",
    "\n",
    "# Calculate predicted values.\n",
    "y_pred = KMeans(n_clusters=2, random_state=42).fit_predict(X_svd)\n",
    "\n",
    "# Plot the solution.\n",
    "plt.scatter(X_svd[:, 0], X_svd[:, 1], c=y_pred)\n",
    "plt.show()\n",
    "\n",
    "# Check the solution against the data.\n",
    "print('Comparing k-means clusters against the data:')\n",
    "print(pd.crosstab(y_pred, Y))"
   ]
  },
  {
   "cell_type": "markdown",
   "metadata": {},
   "source": [
    "So it looks like K-means is not breaking out tweets into two groups based on political or pop music content.  Most of the tweets, regardless of the tweeter, falls in one cluster.  Interestingly, Justin Bieber has the most tweets in the second cluster.  \n",
    "\n",
    "### 3 clusters"
   ]
  },
  {
   "cell_type": "code",
   "execution_count": 45,
   "metadata": {},
   "outputs": [
    {
     "data": {
      "image/png": "[encoded data removed]",
      "text/plain": [
       "<matplotlib.figure.Figure at 0x1a0dd33550>"
      ]
     },
     "metadata": {},
     "output_type": "display_data"
    },
    {
     "name": "stdout",
     "output_type": "stream",
     "text": [
      "Comparing k-means clusters against the data:\n",
      "screenname  HillaryClinton  justinbieber  katyperry  realDonaldTrump\n",
      "row_0                                                               \n",
      "0                     1286           338        178              910\n",
      "1                       15           113         23               64\n",
      "2                     1237          1551       2655             1893\n"
     ]
    }
   ],
   "source": [
    "# We are limiting our feature space to 2 components here. \n",
    "#  This makes it easier to graph and see the clusters.\n",
    "svd= TruncatedSVD(2)\n",
    "\n",
    "# Normalize the data.\n",
    "X_norm = normalize(X_tfidf)\n",
    "\n",
    "# Reduce it to two components.\n",
    "X_svd = svd.fit_transform(X_norm)\n",
    "\n",
    "# Calculate predicted values.\n",
    "y_pred = KMeans(n_clusters=3, random_state=42).fit_predict(X_svd)\n",
    "\n",
    "# Plot the solution.\n",
    "plt.scatter(X_svd[:, 0], X_svd[:, 1], c=y_pred)\n",
    "plt.show()\n",
    "\n",
    "# Check the solution against the data.\n",
    "print('Comparing k-means clusters against the data:')\n",
    "print(pd.crosstab(y_pred, Y))"
   ]
  },
  {
   "cell_type": "markdown",
   "metadata": {},
   "source": [
    "If we break it up into three clusters, we see that Hillary Clinton and Donald Trump tweets are more prevalent in the first cluster.  It is possible that this first cluster is the \"politics\" cluster.  The second cluster is made up of mostly Bieber tweets.  There seems to be something that separates Bieber tweets from the rest.  It's also interesting that Clinton tweets are pretty evenly split between the first and third clusters, while the rest have most of their tweets in the third cluster. \n",
    "\n",
    "### 4 clusters"
   ]
  },
  {
   "cell_type": "code",
   "execution_count": 46,
   "metadata": {},
   "outputs": [
    {
     "data": {
      "image/png": "[encoded data removed]",
      "text/plain": [
       "<matplotlib.figure.Figure at 0x1a1449bc88>"
      ]
     },
     "metadata": {},
     "output_type": "display_data"
    },
    {
     "name": "stdout",
     "output_type": "stream",
     "text": [
      "Comparing k-means clusters against the data:\n",
      "screenname  HillaryClinton  justinbieber  katyperry  realDonaldTrump\n",
      "row_0                                                               \n",
      "0                     1228          1543       2634             1823\n",
      "1                        1            36          3               12\n",
      "2                       33            92         44              166\n",
      "3                     1276           331        175              866\n"
     ]
    }
   ],
   "source": [
    "# Calculate predicted values.\n",
    "y_pred = KMeans(n_clusters=4, random_state=42).fit_predict(X_svd)\n",
    "\n",
    "# Plot the solution.\n",
    "plt.scatter(X_svd[:, 0], X_svd[:, 1], c=y_pred)\n",
    "plt.show()\n",
    "\n",
    "# Check the solution against the data.\n",
    "print('Comparing k-means clusters against the data:')\n",
    "print(pd.crosstab(y_pred, Y))\n",
    "\n"
   ]
  },
  {
   "cell_type": "markdown",
   "metadata": {},
   "source": [
    "Again, Clinton tweets fall in the first two clusters while the rest of the tweeters have the majority of their tweets in the first cluster.  Clinton and Trump tweets make up the majority of the second cluster.  Trump tweets make up half of the third cluster.   \n",
    "\n",
    "There are other clustering algorithms we can employ, especially since the assumptions of k-means may indicate that it is not the best fit for our Twitter data.  First of all, k-means assume that the clusters are the same size.  While we have about equal number of tweets from each twitter account, it is clear from the graphs that the clusters are not the same size.  Additionally, k-means assume that the clusters are radially symmetrical (isotropic), meaning the clusters are uniform in all directions and have edges that curve outward.  Lastly, k-means assumes that the clusters have similar variances.  The graphs show that the clusters are neither radially symmetrical nor have similar variances.  \n",
    "\n",
    "Let's try a different clustering algorithm: Mean-Shift."
   ]
  },
  {
   "cell_type": "markdown",
   "metadata": {},
   "source": [
    "<a id='meansshift'></a>\n",
    "## Mean-shift clustering\n",
    "Mean-shift works by calculating the probability that a datapoint will be present at any point in an n-dimensional space, forming a kernel density surface.  Areas with \"hills\" have a high concentration of datapoints.  Flat areas or valleys have very few data points.  Then, each data point is iteratively shifted \"up\" a tiny bit the nearest hill.  Once all the data points have reached their peaks and any further shifts are smaller than a given thresholds, the algorithm ends and the data points are assigned a cluster based on their peak. \n",
    "\n",
    "Mean-shift clustering is more flexible than k-means, because it does not assume that the clusters have to be the same size or radially symmetric.  The clusters can have non-flat geometry.  We can also use mean-shift to predict how many clusters to look for!  This may give us more insight into how the tweets are clustered."
   ]
  },
  {
   "cell_type": "code",
   "execution_count": 47,
   "metadata": {},
   "outputs": [
    {
     "name": "stdout",
     "output_type": "stream",
     "text": [
      "Number of estimated clusters: 24\n"
     ]
    }
   ],
   "source": [
    "# Here we set the bandwidth. This function automatically derives a bandwidth\n",
    "# number based on an inspection of the distances among points in the data.\n",
    "bandwidth = estimate_bandwidth(X_svd, quantile=0.2, n_samples=500)\n",
    "\n",
    "# Declare and fit the model.\n",
    "ms = MeanShift(bandwidth=bandwidth, bin_seeding=True)\n",
    "ms.fit(X_svd)\n",
    "\n",
    "# Extract cluster assignments for each data point.\n",
    "labels = ms.labels_\n",
    "\n",
    "# Coordinates of the cluster centers.\n",
    "cluster_centers = ms.cluster_centers_\n",
    "\n",
    "# Count our clusters.\n",
    "n_clusters_ = len(np.unique(labels))\n",
    "\n",
    "print(\"Number of estimated clusters: {}\".format(n_clusters_))"
   ]
  },
  {
   "cell_type": "markdown",
   "metadata": {},
   "source": [
    "Wow, that's a lot of clusters.   Let's take a look at what that looks like visually."
   ]
  },
  {
   "cell_type": "code",
   "execution_count": 48,
   "metadata": {},
   "outputs": [
    {
     "data": {
      "image/png": "[encoded data removed]",
      "text/plain": [
       "<matplotlib.figure.Figure at 0x1a1691af98>"
      ]
     },
     "metadata": {},
     "output_type": "display_data"
    },
    {
     "name": "stdout",
     "output_type": "stream",
     "text": [
      "Comparing the assigned categories to the ones in the data:\n",
      "col_0              0   1   2   3   4   5   6    7   8   9  ...  14  15  16  \\\n",
      "screenname                                                 ...               \n",
      "HillaryClinton   2242  10  11   8   1   2   7  247   0   3 ...   4   0   0   \n",
      "justinbieber     1764  10  55   5  32  18  13   50  24  10 ...   4   1   1   \n",
      "katyperry        2790  23   5   1   2   6   5   14   5   1 ...   0   0   0   \n",
      "realDonaldTrump  2516  69   2  36  11  10  11  152   5   4 ...   2   5   4   \n",
      "\n",
      "col_0            17  18  19  20  21  22  23  \n",
      "screenname                                   \n",
      "HillaryClinton    0   0   0   0   0   0   0  \n",
      "justinbieber      1   0   2   0   0   0   0  \n",
      "katyperry         0   0   0   0   0   0   1  \n",
      "realDonaldTrump   6   2   0   1   1   1   0  \n",
      "\n",
      "[4 rows x 24 columns]\n"
     ]
    }
   ],
   "source": [
    "plt.scatter(X_svd[:, 0], X_svd[:, 1], c=labels)\n",
    "plt.show()\n",
    "\n",
    "print('Comparing the assigned categories to the ones in the data:')\n",
    "print(pd.crosstab(Y,labels))"
   ]
  },
  {
   "cell_type": "markdown",
   "metadata": {},
   "source": [
    "From our table, we can see that a lot of the clusters only contain 1 or 2 tweets.  Still, most tweets seem to reside in the first cluster. It doesn't look like mean-shift is much more effective at grouping our tweets than k-means was."
   ]
  },
  {
   "cell_type": "markdown",
   "metadata": {},
   "source": [
    "<a id='lsa'></a>\n",
    "## Latent Semantic Analysis"
   ]
  },
  {
   "cell_type": "markdown",
   "metadata": {},
   "source": [
    "Though reducing our space to two vectors allow us to visualize our clusters on a 2-D plane, it may be too limiting.  Let's increase our feature space to 200.  We won't be able to visuallize it, but with Latent Semantic Analysis we can see the topics that are generated from our corpus."
   ]
  },
  {
   "cell_type": "code",
   "execution_count": 49,
   "metadata": {},
   "outputs": [
    {
     "name": "stdout",
     "output_type": "stream",
     "text": [
      "Percent variance captured by all components: 32.387547767090815 \n",
      "\n",
      "Component 0:\n",
      "tweet\n",
      "#PurposeTourGlendale another great show. Thank u    0.779816\n",
      "Great show. Thank you                               0.779816\n",
      "Thank you #mybeliebers                              0.777688\n",
      "@ladygaga thank u for the kindness                  0.777111\n",
      "Thank you Nashville, Tennessee!                     0.776522\n",
      "Thank you                                           0.776248\n",
      "Thank u                                             0.776248\n",
      "Thank you                                           0.776248\n",
      "Thank you                                           0.776248\n",
      "Thank you                                           0.776248\n",
      "Name: 0, dtype: float64\n",
      "\n",
      "\n",
      "Component 1:\n",
      "tweet\n",
      "Thank u                         0.612488\n",
      "Thank you                       0.612488\n",
      "Thank you Nicole!               0.612488\n",
      "Thank you                       0.612488\n",
      "Thank you!                      0.612488\n",
      "Thank u #PurposeTourSanDiego    0.612488\n",
      "Thank you                       0.612488\n",
      "Thank you :)                    0.612488\n",
      "Thank you                       0.612488\n",
      "Thank you Maria B!              0.612488\n",
      "Name: 1, dtype: float64\n",
      "\n",
      "\n",
      "Component 2:\n",
      "tweet\n",
      "Thanks!                                0.923555\n",
      "Thanks                                 0.923555\n",
      "@DefJamRecords @SB_Projects thanks!    0.923555\n",
      "Thanks                                 0.923555\n",
      "Thanks                                 0.923555\n",
      "@flatlinebling thanks                  0.923555\n",
      "Thanks @TeenChoiceFOX                  0.923555\n",
      "@wendywild  @1035KTU thanks            0.923555\n",
      "Thanks                                 0.923555\n",
      "Thanks :)                              0.923555\n",
      "Name: 2, dtype: float64\n",
      "\n",
      "\n",
      "Component 3:\n",
      "tweet\n",
      "rt if u used to wear love spell        0.638939\n",
      "Love this!                             0.635015\n",
      "Love                                   0.635015\n",
      "Love jazz                              0.635015\n",
      "I love you                             0.635015\n",
      "I love Beyoncé                         0.635015\n",
      "love this                              0.635015\n",
      "@cholewheeler but I love symmetry 😩    0.635015\n",
      "i love you                             0.635015\n",
      "Love u too                             0.635015\n",
      "Name: 3, dtype: float64\n",
      "\n",
      "\n",
      "Component 4:\n",
      "tweet\n",
      "@SarahBol @FoxFM love it                       0.623798\n",
      "i love you                                     0.623798\n",
      "love this                                      0.623798\n",
      "Love                                           0.623798\n",
      "Love u too                                     0.623798\n",
      "I love it too                                  0.623798\n",
      "I love you                                     0.623798\n",
      "Love u too                                     0.623798\n",
      "I love Beyoncé                                 0.623798\n",
      "@ConditionalBabe too much for me but I love    0.623798\n",
      "Name: 4, dtype: float64\n",
      "\n",
      "\n",
      "Component 5:\n",
      "tweet\n",
      "Lol                    0.933802\n",
      "@Popjustice lol        0.933802\n",
      "Me too. Lol            0.933802\n",
      "LOL!                   0.933802\n",
      "What are those. Lol    0.933802\n",
      "@kingsleyyy lol        0.933802\n",
      "Lol                    0.933802\n",
      "@MichAnnTan lol        0.933802\n",
      "@Christian_Zamo lol    0.933802\n",
      "@Smallzy lol           0.933802\n",
      "Name: 5, dtype: float64\n",
      "\n",
      "\n",
      "Component 6:\n",
      "tweet\n",
      "\"Most of them deserved it.\" —Donald Trump\\n\\n                                                                            0.549100\n",
      "There is no other Donald Trump. This is it.                                                                              0.549100\n",
      "Donald Trump's foundation: paying off would-be opponents, stiffing actual charities.                                     0.529939\n",
      "We have some questions about this letter from Donald Trump's doctor.                                                     0.529059\n",
      "So what exactly is Donald Trump hiding from voters? Pretty much everything.                                              0.528991\n",
      "Donald Trump's ties to Russia may conflict with America's interests—but they're great for his bottom line.               0.526113\n",
      "FACT: Donald Trump used his charitable foundation to purchase *multiple* six-foot-tall paintings of himself.             0.512554\n",
      "“I will never lie to you.” —Donald Trump, August 18, 2016                                                                0.506804\n",
      "Here’s the sad truth: There is no other Donald Trump. This is it.                                                        0.484640\n",
      "“Russians had no compromising information on Donald Trump” @FoxNews  Of course not, because there is none, and neve…     0.482774\n",
      "Name: 6, dtype: float64\n",
      "\n",
      "\n",
      "Component 7:\n",
      "tweet\n",
      "#purpose standard Purpose by Justin Bieber\\n    0.813394\n",
      "The preorder is almost here...... #purpose      0.811616\n",
      "#PURPOSE Tracklist now up                       0.811328\n",
      "#PURPOSE                                        0.811328\n",
      "#PURPOSE                                        0.811328\n",
      "#PURPOSE                                        0.811328\n",
      "#PURPOSE                                        0.811328\n",
      "#whererunow #PURPOSE                            0.811328\n",
      "#PURPOSE                                        0.811328\n",
      "#PURPOSE                                        0.811328\n",
      "Name: 7, dtype: float64\n",
      "\n",
      "\n",
      "Component 8:\n",
      "tweet\n",
      "MAKE AMERICA SAFE AGAIN!\\n\\n#NoSanctuaryForCriminalsAct \\n#KatesLaw #SaveAmericanLives \\n\\n                             0.429631\n",
      "\"We have to get out and make sure we vote.” —@KingJames in Ohio with HIllary                                            0.427243\n",
      "“He and his family exemplify the values that make America great.” —Hillary on Khizr Khan                                0.425104\n",
      "In 1994, Ryan Moore made an impression on First Lady Hillary Clinton—and she him: \"She has helped make me into the…     0.421815\n",
      "The preorder is almost here...... #purpose                                                                              0.411050\n",
      "#PURPOSE                                                                                                                0.410489\n",
      "#PURPOSE                                                                                                                0.410489\n",
      "PURPOSE                                                                                                                 0.410489\n",
      "#PURPOSE                                                                                                                0.410489\n",
      "#PURPOSE                                                                                                                0.410489\n",
      "Name: 8, dtype: float64\n",
      "\n",
      "\n",
      "Component 9:\n",
      "tweet\n",
      "Who has the most teeth? #AmericanIdol             0.876306\n",
      "🎶OOOWEEEEOOOOWEEEEOOOOWOWWOWWOW🎶 #americanidol    0.875916\n",
      "I’m such a punk 🤦🏼‍♂#americanidol                 0.875916\n",
      "#AmericanIdol                                     0.875916\n",
      "❤️❤️❤️ @maddiezahm ❤️❤️❤️ #americanidol           0.875916\n",
      "#americanidol                                     0.875916\n",
      "#americanidol                                     0.875916\n",
      "#AmericanIdol                                     0.875916\n",
      "💋#BenjaminGlaze #AmericanIdol                     0.875916\n",
      "#AmericanIdol ✨                                   0.875916\n",
      "Name: 9, dtype: float64\n",
      "\n",
      "\n"
     ]
    }
   ],
   "source": [
    "#Our SVD data reducer.  We are going to reduce the feature space to 200 components.\n",
    "svd= TruncatedSVD(200)\n",
    "lsa = make_pipeline(svd, Normalizer(copy=False))\n",
    "# Run SVD on the training data, then project the training data.\n",
    "X_lsa = lsa.fit_transform(X_tfidf)\n",
    "\n",
    "variance_explained=svd.explained_variance_ratio_\n",
    "total_variance = variance_explained.sum()\n",
    "print(\"Percent variance captured by all components:\",total_variance*100, '\\n')\n",
    "\n",
    "#Looking at what sorts of tweets our solution considers similar, for the first five identified topics\n",
    "paras_by_component=pd.DataFrame(X_lsa, index=X)\n",
    "for i in range(10):\n",
    "    print('Component {}:'.format(i))\n",
    "    print(paras_by_component.loc[:,i].sort_values(ascending=False)[0:10])\n",
    "    print('\\n')\n"
   ]
  },
  {
   "cell_type": "markdown",
   "metadata": {},
   "source": [
    "SVD compresses features into independent components that are not correlated with any other components.  We are going to lose some of the information due to this compression.  But we can explain 32% of the variance. \n",
    "\n",
    "The first three components have to do with thanks.  The fourth and fifth components is around \"love\".  Sixth component are tweets that contain \"lol\". Seventh component is made up of tweets about Donald Trump.  Eighth component has the word \"purpose\", which is the title of Justin Beiber's new album.   THe ninth component is a little confusing. There are some Hillary Clinton tweets and some #Purpose tweets. The final cluster is about American Idol, which currently stars Katy Perry. \n",
    "\n",
    "In summary, some of the clusters do focus more on one twitter handle over the others. #Purpose is mostly Justin Beiber.  #AmericanIdol is Katy Perry.  Other tweets topics, e.g. those expressing thanks, are more ubiquitous."
   ]
  },
  {
   "cell_type": "markdown",
   "metadata": {},
   "source": [
    "<a id='conclude2'></a>\n",
    "## Unsupervised Learning Conclusion"
   ]
  },
  {
   "cell_type": "markdown",
   "metadata": {},
   "source": [
    "<a id='word'></a>\n",
    "# Word2vec\n",
    "Word2vec is the most common unsupervised neural network approach for NLP.  It converts words to vectors using distributed representation, where each word is represented by many neurons, and each neuron represents multiple words.  word2vec is powerful because it assigns a vector of random values to each word W, then shifts the vectors for the words around W in the sentence.  Words that are close to W have vectors that are closer together, while words that are not near W have vectors that are also far away.  Word2vec is great for tweets because tweets can contain the same concepts written in many different ways (e.g. expressing thanks).\n",
    "\n",
    "We do need are larger corpus when using word2vec.  So first, let's generate more tweets!"
   ]
  },
  {
   "cell_type": "code",
   "execution_count": 50,
   "metadata": {},
   "outputs": [
    {
     "name": "stdout",
     "output_type": "stream",
     "text": [
      "getting tweets before 991007542498086914\n",
      "...400 tweets downloaded so far\n",
      "getting tweets before 980920147828293631\n",
      "...600 tweets downloaded so far\n",
      "getting tweets before 968657293888839679\n",
      "...800 tweets downloaded so far\n",
      "getting tweets before 959844632090722303\n",
      "...1000 tweets downloaded so far\n",
      "getting tweets before 953446632741158911\n",
      "...1200 tweets downloaded so far\n",
      "getting tweets before 943915391377641474\n",
      "...1400 tweets downloaded so far\n",
      "getting tweets before 935224030608613375\n",
      "...1600 tweets downloaded so far\n",
      "getting tweets before 926176839189479423\n",
      "...1800 tweets downloaded so far\n",
      "getting tweets before 918203705500958719\n",
      "...2000 tweets downloaded so far\n",
      "getting tweets before 910183648543965183\n",
      "...2200 tweets downloaded so far\n",
      "getting tweets before 900491419185324031\n",
      "...2400 tweets downloaded so far\n",
      "getting tweets before 872220989421101055\n",
      "...2600 tweets downloaded so far\n",
      "getting tweets before 860218128541687807\n",
      "...2800 tweets downloaded so far\n",
      "getting tweets before 850058836991922175\n",
      "...3000 tweets downloaded so far\n",
      "getting tweets before 836701356211593215\n",
      "...3200 tweets downloaded so far\n",
      "getting tweets before 826848349257019391\n",
      "...3249 tweets downloaded so far\n",
      "getting tweets before 824717621383737343\n",
      "...3249 tweets downloaded so far\n",
      "getting tweets before 783009809356304384\n",
      "...400 tweets downloaded so far\n",
      "getting tweets before 759121818758373375\n",
      "...600 tweets downloaded so far\n",
      "getting tweets before 732620510031290367\n",
      "...800 tweets downloaded so far\n",
      "getting tweets before 710874353068421123\n",
      "...1000 tweets downloaded so far\n",
      "getting tweets before 689124766888886272\n",
      "...1200 tweets downloaded so far\n",
      "getting tweets before 675380721062690815\n",
      "...1400 tweets downloaded so far\n",
      "getting tweets before 654390469539966975\n",
      "...1600 tweets downloaded so far\n",
      "getting tweets before 632231021715415039\n",
      "...1800 tweets downloaded so far\n",
      "getting tweets before 618504199429599232\n",
      "...2000 tweets downloaded so far\n",
      "getting tweets before 604032788086411265\n",
      "...2200 tweets downloaded so far\n",
      "getting tweets before 585819219473735679\n",
      "...2399 tweets downloaded so far\n",
      "getting tweets before 567128132474662911\n",
      "...2598 tweets downloaded so far\n",
      "getting tweets before 552513147907891200\n",
      "...2797 tweets downloaded so far\n",
      "getting tweets before 535902125654417407\n",
      "...2995 tweets downloaded so far\n",
      "getting tweets before 520658354293575679\n",
      "...3195 tweets downloaded so far\n",
      "getting tweets before 507239680010506239\n",
      "...3205 tweets downloaded so far\n",
      "getting tweets before 505111372565209087\n",
      "...3205 tweets downloaded so far\n",
      "getting tweets before 903675756684779519\n",
      "...397 tweets downloaded so far\n",
      "getting tweets before 700520913079406591\n",
      "...594 tweets downloaded so far\n",
      "getting tweets before 566419883744059391\n",
      "...792 tweets downloaded so far\n",
      "getting tweets before 532957705313718271\n",
      "...992 tweets downloaded so far\n",
      "getting tweets before 492887332782358527\n",
      "...1191 tweets downloaded so far\n",
      "getting tweets before 479310535653982207\n",
      "...1389 tweets downloaded so far\n",
      "getting tweets before 448113782431444991\n",
      "...1584 tweets downloaded so far\n",
      "getting tweets before 395135419232559103\n",
      "...1781 tweets downloaded so far\n",
      "getting tweets before 381659993835327487\n",
      "...1979 tweets downloaded so far\n",
      "getting tweets before 366754439777894399\n",
      "...2176 tweets downloaded so far\n",
      "getting tweets before 349176722576510975\n",
      "...2371 tweets downloaded so far\n",
      "getting tweets before 335454445951406079\n",
      "...2571 tweets downloaded so far\n",
      "getting tweets before 317739102990659583\n",
      "...2761 tweets downloaded so far\n",
      "getting tweets before 298978969632522239\n",
      "...2960 tweets downloaded so far\n",
      "getting tweets before 283944094508658687\n",
      "...3156 tweets downloaded so far\n",
      "getting tweets before 270987891386224641\n",
      "...3158 tweets downloaded so far\n",
      "getting tweets before 270934455357673471\n",
      "...3158 tweets downloaded so far\n",
      "getting tweets before 957683059092058111\n",
      "...400 tweets downloaded so far\n",
      "getting tweets before 931296384283590655\n",
      "...600 tweets downloaded so far\n",
      "getting tweets before 921005983853314048\n",
      "...800 tweets downloaded so far\n",
      "getting tweets before 909461315181273087\n",
      "...1000 tweets downloaded so far\n",
      "getting tweets before 899754463648518145\n",
      "...1200 tweets downloaded so far\n",
      "getting tweets before 888099930660909055\n",
      "...1400 tweets downloaded so far\n",
      "getting tweets before 874773889011912703\n",
      "...1600 tweets downloaded so far\n",
      "getting tweets before 859066072720441344\n",
      "...1800 tweets downloaded so far\n",
      "getting tweets before 847095772608958463\n",
      "...2000 tweets downloaded so far\n",
      "getting tweets before 831881626716164096\n",
      "...2200 tweets downloaded so far\n",
      "getting tweets before 812384110387859455\n",
      "...2400 tweets downloaded so far\n",
      "getting tweets before 788841610549133311\n",
      "...2600 tweets downloaded so far\n",
      "getting tweets before 774007216282165248\n",
      "...2800 tweets downloaded so far\n",
      "getting tweets before 756147022151942147\n",
      "...3000 tweets downloaded so far\n",
      "getting tweets before 744934452984446975\n",
      "...3200 tweets downloaded so far\n",
      "getting tweets before 731094127287410687\n",
      "...3203 tweets downloaded so far\n",
      "getting tweets before 730881023848927232\n",
      "...3203 tweets downloaded so far\n",
      "getting tweets before 937297871212367872\n",
      "...400 tweets downloaded so far\n",
      "getting tweets before 860818930117394432\n",
      "...600 tweets downloaded so far\n",
      "getting tweets before 789428527275778048\n",
      "...800 tweets downloaded so far\n",
      "getting tweets before 719223466218508287\n",
      "...1000 tweets downloaded so far\n",
      "getting tweets before 611579165154762751\n",
      "...1200 tweets downloaded so far\n",
      "getting tweets before 498517922034114559\n",
      "...1400 tweets downloaded so far\n",
      "getting tweets before 396638429443670015\n",
      "...1584 tweets downloaded so far\n",
      "getting tweets before 313247631054864383\n",
      "...1584 tweets downloaded so far\n"
     ]
    }
   ],
   "source": [
    "# Getting more tweets from Ellen Degeneres, Barack Obama, Rihanna, Senator John Mccain, and Pope Francis\n",
    "more_twts = get_all_tweets(['TheEllenShow','BarackObama','Rihanna','senjohnmccain','pontifex'])"
   ]
  },
  {
   "cell_type": "code",
   "execution_count": 51,
   "metadata": {},
   "outputs": [
    {
     "data": {
      "text/plain": [
       "TheEllenShow     3249\n",
       "BarackObama      3205\n",
       "SenJohnMcCain    3203\n",
       "rihanna          3158\n",
       "Pontifex         1584\n",
       "Name: 0, dtype: int64"
      ]
     },
     "execution_count": 51,
     "metadata": {},
     "output_type": "execute_result"
    }
   ],
   "source": [
    "more_twts[0].value_counts()"
   ]
  },
  {
   "cell_type": "code",
   "execution_count": 52,
   "metadata": {},
   "outputs": [],
   "source": [
    "more_twts.columns = ['screenname','tweet']"
   ]
  },
  {
   "cell_type": "code",
   "execution_count": 53,
   "metadata": {},
   "outputs": [],
   "source": [
    "more_twts['tweet'] = more_twts['tweet'].astype(str)\n"
   ]
  },
  {
   "cell_type": "code",
   "execution_count": 54,
   "metadata": {},
   "outputs": [],
   "source": [
    "for r in range(len(tweets['tweet'])):\n",
    "    more_twts['tweet'][r] = text_cleaner(more_twts['tweet'][r])\n",
    "\n",
    "#Dropping retweets    \n",
    "more_twts = more_twts[more_twts['tweet'].str.contains(\"RT\") == False].reset_index(drop=True)"
   ]
  },
  {
   "cell_type": "code",
   "execution_count": 55,
   "metadata": {},
   "outputs": [],
   "source": [
    "# Parse tweets\n",
    "nlp = spacy.load('en')\n",
    "\n",
    "parsed = []\n",
    "\n",
    "for r in more_twts['tweet']:\n",
    "    p = nlp(r)\n",
    "    parsed.append(p)"
   ]
  },
  {
   "cell_type": "code",
   "execution_count": 56,
   "metadata": {},
   "outputs": [],
   "source": [
    "more_twts['parsed'] = parsed"
   ]
  },
  {
   "cell_type": "code",
   "execution_count": 57,
   "metadata": {},
   "outputs": [],
   "source": [
    "# Adding tweets from previous pull to dataframe.\n",
    "df = pd.concat([more_twts, tweets], axis=0)"
   ]
  },
  {
   "cell_type": "code",
   "execution_count": 58,
   "metadata": {},
   "outputs": [
    {
     "name": "stdout",
     "output_type": "stream",
     "text": [
      "<class 'pandas.core.frame.DataFrame'>\n",
      "RangeIndex: 23536 entries, 0 to 23535\n",
      "Data columns (total 3 columns):\n",
      "screenname    23536 non-null object\n",
      "tweet         23536 non-null object\n",
      "parsed        23536 non-null object\n",
      "dtypes: object(3)\n",
      "memory usage: 551.7+ KB\n"
     ]
    }
   ],
   "source": [
    "df = df.reset_index(drop=True)\n",
    "df.info()"
   ]
  },
  {
   "cell_type": "code",
   "execution_count": 59,
   "metadata": {},
   "outputs": [
    {
     "name": "stdout",
     "output_type": "stream",
     "text": [
      "['.@official_twitch', 'help', 'sweet', 'guy', 'propose', 'absolutely', 'go', 'weekend', 'twitchplease']\n",
      "We have 23536 tweets and 169542 tokens.\n"
     ]
    }
   ],
   "source": [
    "# Organize the parsed doc into sentences, while filtering out punctuation\n",
    "# and stop words, and converting words to lower case lemmas.\n",
    "twts = []\n",
    "for tweet in df['parsed']:\n",
    "    tweet = [\n",
    "        token.lemma_.lower()\n",
    "        for token in tweet\n",
    "        if not token.is_stop\n",
    "        and not token.is_punct\n",
    "    ]\n",
    "    twts.append(tweet)\n",
    "\n",
    "\n",
    "print(twts[10])\n",
    "print('We have {} tweets and {} tokens.'.format(len(twts), len(text)))"
   ]
  },
  {
   "cell_type": "code",
   "execution_count": 60,
   "metadata": {},
   "outputs": [
    {
     "name": "stdout",
     "output_type": "stream",
     "text": [
      "done!\n"
     ]
    }
   ],
   "source": [
    "import gensim\n",
    "from gensim.models import word2vec\n",
    "\n",
    "model = word2vec.Word2Vec(\n",
    "    twts,\n",
    "    workers=4,     # Number of threads to run in parallel (if your computer does parallel processing).\n",
    "    min_count=10,  # Minimum word count threshold.\n",
    "    window=6,      # Number of words around target word to consider.\n",
    "    sg=0,          # Use CBOW because our corpus is small.\n",
    "    sample=1e-3 ,  # Penalize frequent words.\n",
    "    size=300,      # Word vector length.\n",
    "    hs=1           # Use hierarchical softmax.\n",
    ")\n",
    "\n",
    "print('done!')"
   ]
  },
  {
   "cell_type": "code",
   "execution_count": 61,
   "metadata": {},
   "outputs": [
    {
     "name": "stdout",
     "output_type": "stream",
     "text": [
      "dict_keys(['-pron-', '’', 'love', 'amazing', 'proposal', '@official_twitch', 'pull', 'couple', 'thank', 'make', 'p', 'just', 'order', 'vacation', 'quick', 'question', 'who', 'like', 'good', 'deal', 'have', 'little', 'rehearsal', 'army', 'follower', 'even', 'express', 'fan', 'thankssponsor', 'btsxellen', 'go', 'to', 'teach', 'baby', 'how', '❤', '️', 'help', 'sweet', 'guy', 'propose', 'absolutely', 'weekend', 'play', 'what', 'hear', 'raise', 'hand', 'real', '@bts_twt', 'happy', 'birthday', 'ask', 'lady', '’s', 'scar', 's', 'bts', '\\n\\n', 'watch', 'clip', 'check', 'exclusive', 'trailer', 'debut', 'right', 'august', 'believe', 'happen', 'tomorrow', ' ', '5th', '@headsup', 'exciting', 'new', 'update', 'tonight', '@nbc', 'do', 'not', 'donate', 'adorable', 'kid', 'but', 'now', 'know', 'exactly', 'be', 'get', 'twin', 'tell', 'beautiful', 'reason', 'change', 'think', 'incredible', 'would', 'season', 'people', '10', 'year', 'favorite', 'far', 'here', 'look', 'sure', '@edwildlifefund', 'if', 'mean', 'effect', 'grateful', 'two', 'more', 'day', 'definitely', 'dance', 'dare', 'challenge', 'winner', '@nickiminaj', 'put', 'music', 'video', 'bless', 'surprise', 'easily', 'west', 'coast', 'the', 'finale', 'splittinguptogether', 'then', 'will', 'summer', 'excited', '2', 'start', '5', 'minute', 'stop', 'omg', 'catch', 'hide', 'audience', 'today', 'pet', 'that', 'support', 'take', 'action', 'learn', 'lot', 'woman', 'date', 'apology', 'meet', 'middle', 'performance', 'great', 'time', 'red', 'carpet', 'bbma', 'sound', 'somebody', 'steal', 'wig', 'sneak', 'peek', 'abc', 'one', 'win', '$', 'sister', 'cute', 'wrong', 'turn', 'w', 'hold', 'amp', 'f', 'luck', 'job', 'host', 'billboard', 'bring', 'nice', 'mama', 'week', 'leave', 'ticket', 'chance', 'hope', 'fill', 'joy', 'album', 'wonderful', 'morning', 'saturday', 'sleep', 'late', 'miss', 'family', 'santa', 'texas', '@jimmykimmel', 'andy', 'guess', 'incredibly', 'friend', 'premiere', 'understand', 'game', 'work', 'celebrity', 'want', 'camera', 'fun', 'agree', 'invite', 'send', 'student', 'answer', 'scene', 'show', 'light', 'air', 'feeling', 'wear', 'with', 'secret', 'try', 'talk', 'prince', 'hey', 'california', 'wanna', 'difference', 'there', 'register', 'primary', 'some', 'congratulation', 'legend', 'x', 'this', 'dog', 'read', '1', 'clean', 'car', '3', 'national', 'television', 'iowa', 'in', 'mr.', 'big', 'stuff', 'dream', 'long', 'lose', 'glass', 'pink', 'proud', 'wife', 'general', 'public', 'art', 'sale', 'finally', '15', 'say', 'easy', 'why', 'tweet', 'literally', 'vip', 'perform', 'place', 'touch', 'man', 'each', 'road', 'word', 'call', 'ellen', 'come', 'high', 'school', 'imagine', 'special', 'write', 'song', '@rihanna', 'animal', 'court', 'wedding', 'hit', 'internet', 'glad', 'scare', 'outside', 'box', 'and', 'inside', 'world', 'endure', 'difficult', 'mom', 'celebrate', 'mothersday', 'b', 'these', 'military', 'message', 'barbara', 'bowl', 'montecito', 'o', 'thing', 'sign', 'shop', '20', 'view', 'fund', 'mountain', 'so', 'wind', 'lucky', 'gameofgames', '80', 'average', '@andylassner', '11', 'because', 'tie', 'tip', 'home', 'please', 'jennifer', 'pregnant', 'doctor', 'test', 'thousand', 'dollar', 'worth', 'giveaway', 'y', 'boy', 'let', 'need', 'direction', 'street', 'name', 'wait', 'plane', 'well', 'mystery', 'huge', 'introduce', 'way', 'east', 'consider', 'warning', 'stand', 'buy', 'give', 'cool', 'note', 'self', 'book', 'movie', 'for', 'appreciate', 'teacher', 'launch', 'may', '7', '2018', '\\n', 'sometimes', 'plan', 'enter', 'idea', 'rose', 'feel', 'joke', 'prayer', 'gif', 'someone', 'cast', 'drinking', '@melissamccarthy', '@kanyew', 'find', 'app', 'amber', 'kind', 'person', 'especially', 'h', 'bad', 'news', 'keep', 'last', 'when', 'commercial', 'david', 'head', 'crew', '@jlo', 'tough', '@therock', 'rock', 'house', 'hero', 'james', 'shooter', 'party', '@jtimberlake', 'round', 'never', 'ever', 'no', 'nobody', 'example', 'hard', 'justin', 'control', 'twitter', 'star', 'walk', 'all', 'trouble', 'night', 'kim', 'kanye', '@kimkardashian', 'on', 'littlebigshot', 'confirm', 'smell', 'sing', 'continue', 'break', 'tour', 'cut', 'sunday', 'episode', \"'s\", 'monday', 'got', 'second', 'a', 'tribute', 'body', 'post', 'zero', '@channingtatum', 'wonder', 'enjoy', 'kelly', 'important', 'role', 'chip', 'life', 'knock', 'tuesday', 'young', 'power', 'december', 'sweat', 'gentleman', 'president', 'run', 'remember', 'see', 'thursday', 'welcome', 'anytime', 'live', 'brilliant', 'child', 'free', 'available', 'sit', 'crazy', 'rich', 'kate', 'line', 'ready', 'blow', 'away', 'tiny', 'genius', 'remind', '@eminem', 'old', 'billy', 'shout', 'excuse', 'accomplish', 'charge', 'hour', 'earth', '9', 'planet', 'option', 'oh', 'honor', 'present', 'defend', 'store', 'thebachelor', 'beat', 'rule', 'mine', 'brother', 'better', 'announce', '50', 'cat', 'cover', 'issue', 'st', 'bush', 'magic', 'las', 'vegas', 'maybe', 'hilarious', 'forget', 'lord', 'talent', 'gift', 'card', 'yep', 'direct', 'black', 'promise', 'phone', 'double', 'edbypetsmart', 'vote', '@ellentube', 'lie', '@chancetherapper', 'rain', 'american', 'til', 'girl', 'attend', 'sorry', 'perfect', 'suffer', 'leg', 'golden', 'white', 'set', 'iphone', '8', 'sell', 'save', 'lead', 'mad', 'about', '25', 'million', 'shirt', 'interview', 'face', 'nominate', 'jack', 'husband', 'john', 'follow', 'instagram', 'hurry', 'choose', 'marry', '@blakeshelton', 'water', '@pharrell', 'shoe', 'age', 'forward', 'equal', 'pay', '100', 'ago', 'fair', 'funny', 'lgbt', 'navy', 'drink', 'unbelievable', 'warn', 'heart', 'entire', 'community', 'affect', 'eat', 'dedication', 'studio', 'e', '+', 'shoot', 'stage', 'cheer', 'yeah', 'hat', 'tbt', '@imkristenbell', '@daxshepard1', 'deserve', 'ride', 'speech', 'unity', 'laugh', 'french', 'pro', 'positive', 'thought', '@youtube', 'hop', 'everyday', 'wish', 'statement', 'marriage', 'pretty', 'political', 'office', 'share', 'easter', 'ear', 'april', 'story', 'seriously', 'meeting', '@oprah', 'involve', '@ladygaga', 'tune', 'spring', 'everybody', 'm', 'where', 'use', 'grab', 'winter', 'soon', 'tv', 'jim', 'march', 'speak', 'inspiring', 'powerful', 'san', 'goodness', 'friday', 'naked', 'concert', 'code', 'truth', 'photo', 'true', '8/7c', 't', '@rwitherspoon', 'bold', 'opinion', 'clearly', 'close', 'room', 'first', 'out', 'handle', 'event', 'ya', 'lesson', 'open', 'warm', 'tag', 'guest', 'christian', 'suit', 'yes', 'protect', 'canadian', 'gold', 'or', 'rest', 'shoulder', 'oscar', 'burn', 'listen', 'shape', 'shot', '@adamlevine', 'mind', 'top', 'moment', 'donation', 'professional', 'level', 'explain', 'oscars', 'nbc', 'everyone', 'every', 'drop', 'strange', 'smile', 'end', 'lip', '@ddlovato', 'reveal', 'spot', 'nick', 'stay', 'n', 'trump', 'also', 'expert', 'review', 'bill', 'impression', 'prepare', 'actually', 'later', 'mrs.', 'selfie', 'bae', 'internationalwomensday', 'spread', 'impressive', 'credit', 'ban', 'equality', 'trip', 'anybody', 'fine', 'k', 'straight', 'holy', 'bachelor', 'recap', 'facebook', 'coach', 'suppose', 'picture', 'award', 'bird', 'chris', 'martin', 'nothing', 'moore', 'cry', '⚡', '@kerrywashington', 'mood', 'inspire', 'ice', 'notice', 'medal', 'unforgettable', 'olympic', 'success', 'small', 'scandal', 'member', 'pitch', 'can', 'release', 'target', 'repeat', 'foundation', 'yo', 'month', 'us', 'team', 'fully', 'north', 'korean', '@drake', 'phoenix', 'victory', '@michelleobama', 'america', 'create', 'massive', 'joyful', 'green', 'hurt', 'bff', 'point', 'hug', '😉', 'mess', 'producer', 'wow', 'brielle', 'scientist', 'price', 'cold', 'momsplaining', 'digital', 'series', 'push', 'up', 'shin', 'bright', 'diamond', 'th', '6', 'olympics', 'havana', 'lyric', 'presidential', 'macey', 'download', 'deck', 'realize', 'single', '@edsheeran', 'awesome', '@theweeknd', 'lol', 'interested', 'final', 'sex', 'response', 'shooting', 'voice', 'food', 'critic', 'bit', 'include', 'law', 'epidemic', 'country', 'advice', 'dr.', 'spend', 'portia', 'throw', 'philly', 'rat', 'honored', 'humble', '🙏', '🏼', 'simple', 'talented', 'cup', 'deliver', 'impossible', '@pink', 'noise', 'carry', 'comment', 'class', 'wrap', 'brand', 'most', 'tradition', 'salt', 'superbowl', 'begin', '30', 'ft', 'living', 'aka', '@diddy', '🙌', '♀', '😂', 'record', 'executive', 'longer', 'able', 'film', 'city', 'mother', 'company', 'death', 'tree', 'contestant', 'knoworgo', 'require', 'excellent', 'strategy', 'grammy', 'choice', 'partner', 'hang', 'paris', 'fall', 'rise', 'midnight', 'really', 'trap', 'door', 'puppy', 'philadelphia', 'safe', 'kill', 'always', '@hillaryclinton', 'hundred', 'volunteer', 'fantastic', 'actor', 'deeply', 'probably', 'reach', 'onemillionactsofgood', 'highlight', '  ', 'five', 'encounter', 'melania', 'backstage', 'retweet', 'bell', 'mental', 'health', 'initiative', 'my', 'beach', 'sotu', 'de', 'poor', 'base', 'text', 'bet', 'pick', 'pie', 'debate', 'plus', 'decide', 'visit', 'treat', 'staff', 'best', 'theme', 'mouth', 'fly', 'neighbor', 'emergency', 'train', 'actual', 'character', 'grace', '24', 'u.', 'such', 'only', 'god', '@jkcorden', '🍷', 'grow', '🤔', '💁', '4', 'you', 'tax', 'allow', 'ed', 'too', 'sun', 'money', 'closer', 'capital', '3rd', 'united', 'states', 'since', 'u', 'case', 'chief', 'officer', 'daddy', 'possible', 'result', 'jeff', 'd', '60', 'rate', 'montage', 'interesting', 'island', 'stream', 'alive', 'relationship', 'early', 'queen', 'wall', 'survey', 'kindness', 'wisdom', 'daughter', 'college', 'government', 'monster', 'goal', 'dear', 'clear', 'ball', 'match', 'drive', 'nose', 'fire', 'greatest', 'confidence', 'campaign', 'recognize', '@fallontonight', '@jimmyfallon', 'wide', 'football', 'field', 'dad', 'business', 'father', 'pass', 'hq', 'list', 'bomb', 'bar', 'resident', 'mexico', 'worry', 'eye', 'l', 'detail', 'chair', 'goldenglobes', 'river', 'rescue', 'worker', 'brave', 'smart', 'bed', 'still', 'mention', '4th', 'disaster', 'artist', 'finish', 'terrific', 'figure', 'hall', 'area', 'mike', 'player', 'wake', 'discover', 'conspiracy', 'battle', 'wildfire', 'tight', 'congrat', 'joe', 'fast', 'certain', 'honestly', 'hot', 'wh', 'zone', 'danger', 'another', 'seat', '@todayshow', 'co', 'resolution', 'thrill', 'purpose', '2017', 'christmas', 'makeup', 'merry', 'draw', '@ryanseacr', 'holiday', 'ellenshowmemore', 'bear', 'could', 'tom', 'fact', 'kevin', '@mileycyrus', 'preview', 'after', 'terrible', 'p.m.', 'prime', 'afraid', 'firefighter', 'sexy', 'sue', 'at', '@lukebryanonline', 'suspend', 'foot', 'add', 'summit', 'journey', 'alabama', 'ha', 'roy', 'attorney', 'matter', '12day', 'gay', 'safety', 'threat', 'pray', 'pic', '1st', 'yesterday', '12daysofgiveaways', '13', 'expect', 'deny', 'legal', 'county', 'apple', 'fragrance', 'commitment', 'son', '12', 'step', 'australia', 'lovewins', 'shake', 'memory', 'southern', 'impact', '=', 'civil', 'election', 'loser', 'fight', 'competition', 'attention', 'repost', 'together', 'graduate', 'academy', 'short', 'nomination', 'while', 'hair', 'thanksgiving', 'gratitude', 'table', 'thankful', 'act', 'earn', 'employee', 'ama', 'anniversary', 'pop', 'band', '@joebiden', 'snapchat', 'noah', 'petition', 'extra', 'puerto', 'rico', 'row', 'popular', 'history', 'compassion', 'social', 'intelligence', 'patience', 'quality', 'limit', 'space', 'group', 'idol', 'replace', 'gender', 'care', 'politic', 'w/', '😭', 'risk', 'reward', 'respect', 'veteran', 'build', 'receive', 'hotel', 'join', 'as', 'happiness', 'honest', 'lil', 'search', 'nashville', 'past', 'future', 'halloween', 'effort', 'arena', 'announcement', 'china', 'dress', 'orlando', 'near', 'amazon', 'human', 'account', 'justice', 'prize', '@uhouston', 'serve', 'c', 'ny', 'trust', 'return', 'costume', 'legislation', 'george', 'number', ' \\n', 'half', 'americanidol', 'matt', 'crowd', 'houston', 'russian', 'ad', 'compare', '@katyperry', 'turnout', '2nd', 'kiss', 'color', 'nfl', 'everything', 'building', 'any', 'ryan', 'image', 'dangerous', 'arrive', 'sad', 'kat', 'billion', 'contribute', 'silence', 'epic', 'damage', 'devastating', 'common', 'spirit', 'bout', 'sexual', 'assault', 'jesus', 'security', 'guard', 'wild', 'andrew', 'emmy', 'puertorico', 'model', 'damn', 'cake', 'afford', 'swear', 'playing', 'ten', 'responder', 'ford', 'mississippi', 'refuse', 'service', 'treatment', 'beauty', 'cancer', '@usher', '✔', 'hi', 'anti', 'totally', 'courageous', 'hurricane', 'victim', 'center', 'paper', 'succeed', 'reporter', 'count', 'privilege', 'grand', '23', 'kick', 'destroy', 'fellow', 'americans', 'style', 'protest', 'fit', 'strong', 'spell', 'angel', 'ellen15', 'feature', 'bob', 'conversation', 'exchange', '🇲', '🇽', 'root', 'language', 'path', 'till', '🔥', 'tape', 'piece', 'emmys', 'african', 'apologize', 'which', 'sock', 'produce', 'september', 'youtube', 'should', 'three', 'preorder', 'parent', '51', 'coverage', 'florida', 'bro', 'hate', 'strength', 'prove', 'benefit', 'relief', 'charlottesville', \"i'm\", 'an', 'labor', 'ridiculous', 'aid', 'boston', 'vma', 'back', 'chicago', 'virginia', 'from', 'harvey', 'under', 'hurricaneharvey', 'belong', '14', 'invest', 'jerry', 'original', 'odd', 'hill', 'darkness', 'corner', 'virgin', 'bday', 'progress', 'cross', 'laughdancepartner', 'lover', 'tea', 'instead', 'retirement', '500', 'before', 'visa', '@arianagrande', 'opponent', 'something', 'move', 'friendship', 'achievement', 'wednesday', 'cruise', 'prescription', 'pride', 'material', 'officially', 'fail', 'michael', 'skill', 'complete', 'four', 'me', 'london', 'manchester', 'congratulations', 'jet', 'anyone', '90', 'g', 'attitude', 'freedom', 'firstdates', 'much', 'accident', 'war', 'ok', 'bitch', '👩', '🎤', 'accord', 'spill', 'own', 'chart', 'stick', 'hire', 'stake', 'captain', 'hospital', 'deep', '2015', 'different', 'loveislove', 'putin', 'judge', 'gun', 'nearly', 'package', 'confession', 'apply', 'reality', 'noon', 'knowledge', 'education', 'tear', 'track', 'blue', 'total', 'doubt', 'willing', 'tim', 'yrs', 'state', 'online', 'organization', '16', 'market', 'europe', 'career', 'heaven', 'mary', 'faith', 'global', 'official', 'r', 'rating', 'fix', 'forever', '420', 'roll', 'bank', 'hollywood', 'nugget', 'rihanna', 'exist', 'sport', 'productive', 'lipstick', 'ceiling', 'nyc', 'dark', 'combat', 'saint', 'sailor', 'represent', 'club', 'native', 'session', 'science', 'personal', 'spy', 'pre', 'society', \"y'all\", 'shut', 'block', 'super', 'lay', 'opportunity', 'focus', 'offer', 'improve', 'york', 'outstanding', 'project', 'crash', 'full', 'fashion', 'develop', 'dead', 'men', 'healthy', 'jackson', 'la', 'land', 'accept', 'treasure', 'opening', '40', 'embrace', 'remove', 'muslim', 'attack', '😘', 'champion', 'werk', '@bigsean', 'product', 'apart', 'loan', 'letter', 'valentine', 'low', 'cap', 'basketball', 'consecutive', 'trade', 'debt', 'course', 'subject', 'chemical', 'main', 'ass', 'georgia', 'tech', 'energy', 'pose', 'cuz', 'immediately', 'border', 'patrol', 'size', 'stadium', 'source', 'atl', 'est', 'arm', 'steel', 'atlanta', 'immigrant', 'current', 'of', 'decision', 'truly', 'owe', 'sacrifice', 'af', 'leader', 'michelle', 'remarkable', 'potential', 'nuclear', 'weapon', 'africa', 'passing', 'task', 'nation', 'achieve', 'singapore', 'advocate', 'dan', 'movement', 'graham', 'servant', 'king', '26', 'bus', 'rally', 'engage', 'al', 'mission', 'v', 'reflect', 'ahead', 'behalf', 'obama', 'peace', 'folk', 'congratulate', 'determine', 'grant', 'concrete', 'reduce', 'violence', 'midst', 'harm', 'hatred', 'survivor', 'hello', 'thrilled', 'rebuild', 'lifetime', 'tragedy', 'usa', 'expand', 'soldier', 'citizen', 'legacy', 'mexican', 'un', 'compete', 'ideal', 'terror', 'religion', 'mccain', 'fighter', 'awareness', 'discuss', 'condolence', 'through', 'resolve', 'wound', 'uk', 'ally', 'chuck', 'international', 'women', 'almost', '28', 'part', 'hearing', 'pm', 'et', 'weekly', 'address', 'obamacare', 'economy', 'force', 'actonclimate', 'october', 'wage', 'percent', 'getcovered', 'marketplace', 'organizing', 'condition', 'fear', 'uninsured', 'affordable', 'insurance', 'enrollment', 'senate', 'obstruction', 'supreme', 'process', 'unacceptable', 'depend', 'november', 'climate', 'report', 'gain', 'sick', 'system', '@ofa', 'mark', 'policy', 'claim', 'financial', 'miami', 'editorial', 'board', 'doyourjob', 'supporter', '@flotus', 'ensure', 'access', 'decade', 'generation', \"don't\", 'garland', 'overcome', 'recent', 'carbon', 'pollution', '—president', 'individual', 'remain', 'qualified', 'deadline', 'vulnerable', 'administration', 'consumer', 'economic', 'unique', 'extend', 'streak', 'growth', 'icymi', 'historic', 'cost', 'technology', 'agreement', 'vacancy', 'democracy', 'side', 'leadonleave', 'congress', 'senator', 'nominee', 'fairly', 'income', 'poverty', 'praise', 'unprecedented', 'seek', 'broken', 'heat', 'threaten', 'highly', 'pressure', 'sacred', 'responsibility', 'experience', 'leadership', 'nations', 'basic', 'partisan', 'ii', 'sen.', 'mile', '2016', 'conference', 'ignore', 'constitutional', 'u.s.', 'solar', 'scotus', '⬇', 'large', 'vice', 'biden', 'meaningful', '@nytime', 'sea', 'flood', 'few', 'solve', 'unemployment', 'jobs', 'dedicate', 'solution', 'ofa', '@senatemajldr', 'federal', 'organize', 'director', 'restore', 'prosperity', 'consequence', 'evidence', 'standard', 'duty', 'truck', 'sense', 'guarantee', 'obstruct', 'reminder', 'major', 'critical', 'essential', 'progressive', 'travel', 'extreme', 'cause', 'underscore', 'july', 'private', 'sector', 'organizer', 'plant', 'weaken', '0', 'republicans', '🎶', '@vp', 'republican', 'prevent', 'aside', 'minimum', 'raisethewage', 'crisis', 'reform', 'bipartisan', 'by', 'measure', 'confirmation', 'majority', 'op', '@wsj', 'remark', 'town', 'discussion', '@abc', 'memorial', 'police', 'dallas', 'boost', 'spending', 'slow', 'overwhelming', 'ruling', 'tackle', 'demand', 'prevention', 'd.c.', 'mayor', 'council', 'reaffirm', 'strike', 'discrimination', 'solidarity', 'ongoing', 'immigration', 'grassroots', 'struggle', 'term', 'immigrationaction', 'merrick', 'park', 'inform', 'timely', 'deficit', 'secretary', 'tpp', 'annual', 'increase', 'loud', 'calm', 'indiana', 'seven', 'remembrance', 'commander', '✓', 'completely', 'overtime', 'despite', 'protection', 'ohio', 'democrats', 'forum', 'key', 'strengthen', 'transparency', 'michigan', 'obstructionist', 'poll', 'denier', 'gas', 'june', 'criminal', 'unfair', 'industry', 'consideration', 'trillion', 'gap', 'a.m.', 'century', 'currently', 'flight', 'tickets', '@flotu', 'participate', 'blessed', 'christians', 'urge', 'approval', 'february', 'panel', 'canada', 'committee', 'delay', 'investment', 'natural', 'hostage', 'desire', 'january', 'recovery', '@theellenshow', 'commit', 'environment', 'overdue', 'budget', 'funding', 'creation', 'importance', 'stopgunviolence', '@facebook', 'attempt', 'waste', 'repeal', 'advance', 'period', 'crime', 'prison', 'study', '21st', 'encourage', 'prepared', 'auto', 'madeinamerica', 'detroit', 'diplomacy', 'secure', 'irandeal', 'iran', 'vision', 'reject', 'bigotry', 'form', 'louisiana', 'race', 'pacific', 'partnership', 'leadontrade', 'troop', 'arizona', 'valley', 'washington', 'thrive', 'collegeopportunity', 'training', 'priority', 'union', '@cnn', 'alaska', 'contribution', 'speed', 'press', 'briefing', 'aim', 'unitedonclimate', 'ceremony', 'pentagon', 'local', 'wisconsin', 'amendment', 'loophole', 'dosomething', 'terrorism', 'undermine', 'turkey', 'tennessee', 'limited', 'ofafallsummit', 'vital', 'proof', 'ship', 'lower', 'eliminate', 'negotiation', 'taxpayer', 'applaud', 'drug', 'abuse', 'prisoner', 'celebration', 'representative', 'recently', 'manufacturing', 'governor', '@whitehouse', 'die', 'lift', 'shutdown', 'tucson', 'greet', 'joint', 'extraordinary', 'pledge', 'earlier', 'value', 'universal', 'foreign', 'non', 'avoid', 'negative', 'problem', 'information', 'favor', 'illegal', 'marines', 'flag', 'cuba', 'voting', 'provide', '50th', 'conflict', 'oppose', 'respond', 'weak', 'those', 'sanction', 'violation', 'without', 'type', 'program', 'pursue', 'comprehensive', 'proclaim', 'mistake', 'approach', 'effective', 'ability', 'u.n.', 'negotiate', 'peaceful', 'iraq', 'committed', 'advantage', 'disability', 'presence', 'tolerate', 'rid', 'latinos', 'department', 'over', 'convention', 'housing', '17', 'acaworks', 'hawaii', 'quickly', 'failure', 'medical', '19', 'epa', 'south', 'carolina', '200', 'resource', 'courage', 'brief', 'glory', 'armed', 'forces', 'israel', 'rhetoric', 'homeland', 'era', 'enforcement', 'jersey', '@potu', 'elect', 'accountable', 'anger', 'alliance', 'dinner', 'farmer', 'presidency', 'edit', 'conversion', 'understanding', 'patient', '2013', 'jump', 'ground', 'interest', 'bridge', 'modern', '18', 'opposition', 'position', 'cleveland', 'selma50', 'marchon', 'dignity', 'meaning', 'congressional', '@dhsgov', 'lawmaker', 'isil', 'countdown', 'premium', 'itsonus', '2014', 'agenda', 'next', 'kansas', 'americaleads', 'generosity', 'infrastructure', 'development', 'ceo', 'link', 'salute', '9:00', 'cybersecurity', 'connect', 'uniform', 'preserve', 'blessing', 'during', 'moral', 'tired', 'pardon', 'tool', 'authority', 'necessary', 'latino', 'authorize', 'accountability', 'transform', 'rick', 'medium', 'veterans', 'voter', 'anymore', 'none', 'owner', 'renew', 'marine', 'storm', 'minister', 'condemn', 'culture', 'passage', 'guide', 'burden', 'confront', 'page', 'sustain', '💅', '🏾', '@fentybeauty', '😍', 'edition', 'collection', '21', 'shade', '✨', 'must', 'hunt', '🏿', '💪', 'worldwide', '@savagexfenty', 'sis', 'cia', 'tbh', '@voguemagazine', 'saudi', 'arabia', '🇸', '🇦', '@sephora', '@harveynichol', 'dat', '🇹', 'fentyxpuma', 'gang', '🇬', '🇧', '🇺', '@emmanuelmacron', 'france', '🇫', '🇷', 'mattemoiselle', 'dem', 'doe', '💋', 'fenty', 'stunna', '@yusefhairnyc', '@inezandvinoodh', '👀', 'da', 'shortly', '🤷', 'paint', 'pt', 'galaxycollection', '👑', 'fam', '⚓', 'university', 'horrific', '@puma', 'situation', '@realdonaldtrump', '----&gt', 'suffering', '@claralionelfdn', 'ultimate', 'horrible', '@ellemagazine', 'moscow', 'passion', 'germany', '🇪', '🇨', '--&gt', '➡', '—&gt', 'soul', 'innocent', '😳', 'parih', '@billboard', '🎈', '🎉', 'thecreeper', 'design', 'wing', 'dis', 'tragic', '@tidalhifi', '🤗', 'tix', 'brooklyn', 'merch', '@mtv', '🎨', 'wit', '@wmag', 'stock', 'antiworldtour', 'click', '@vevo', 'itune', '22', '7th', 'vevo', 'lastnight', 'navyrdie', '@spotify', '---&gt', 'diamondball', '@lionelrichie', 'presale', 'select', 'phuck', 'ill', 'brazil', 'are', '-----&gt', 'riri', 'bbhmmvideo', '@applemusic', 'bbhmm', 'info', 'rih', 'shit', 'fuck', 'r8', '@iheartradio', '💘', 'tremendous', 'dennisleupold', 'korea', 'charity', '👏', 'again', 'majesty', 'heauxm', 'barbados', 'nigga', 'very', 'bravo', 'evening', 'forest', 'rogue', 'rogueman', 'independence', 'barbado', 'phuckin', 'your', '1love', 'murder', 'tho', 'many', '@rorreyfenty', 'kinda', 'dc', '@noellaalstrom', 'behavior', 'tush', 'cuts', 'email', '😩', 'balmain', 'cr', 'yas', 'fav', 'mueller', 'counter', '@jennnrosale', 'yea', '@mforde11', 'fave', 'pain', 'bye', 'leak', 'iranian', 'defense', 'wyd', 'italy', 'thuglife', '@gnlstudio', 'generous', 'buddy', 'audition', 'believer', 'ig', '@leleboo246', 'catfish', 'iheartrihanna', 'boo', 'ur', 'adamselman', 'venezuela', 'rip', 'unapologetic', 'peter', 'chinese', 'heaux', 'ririheartsmac', 'az', 'it', 'philippines', 'whatnow', 'diamondsworldtour', 'dwt', 'rihannaforriverisland', '@gnlstudios', 'greece', 'takeoff', 'mac', 'sydney', 'pouritupvideo', 'pour', 'pouritup', 'forgive', 'rihverisland', 'thailand', 'nom', 'clique', 'indian', 'alert', 'throwbackriri', 'niggaz', 'rainbow', 'glam', 'poland', 'honey', 'ratedr', 'nasty', 'remix', 'museum', 'montreal', 'radical', 'exit', 'mail', 'we', 'toronto', 'universe', 'dopedealershit', 'times', 'dope', 'dn', '👊', 'fake', 'complex', 'floor', 'moon', 'mercy', 'ppl', 'mo', 'sasc', 'chairman', 'johnson', 'colleague', 'cindy', '@cindymccain', 'sec', 'mattis', 'amb', 'successful', 'vladimir', 'evil', 'patriot', '@washingtonpost', 'assad', 'regime', 'russia', 'meddling', '.@potus', 'withdraw', 'syria', 'aggression', '@deptofdefense', 'uss', 'pilot', '@azcentral', '@dougducey', 'enhance', 'arizonans', '@dback', 'concern', 'gop', 'republic', 'declare', '@meghanmccain', '@theview', 'kosovo', \"imp't\", 'sadden', 'afghanistan', 'wasteful', 'disturb', '@ap', 'admin', '@usnavy', 'beardown', '45', 'wwii', 'distinguished', 'naval', 'sergei', 'torture', 'capability', 'humanitarian', 'aluminum', 'trail', 'nato', 'rio', 'salado', 'vietnam', 'trafficking', 'yr', 'navajo', 'kremlin', 'troll', 'northkorea', 'readiness', '@azcardinal', '@larryfitzgerald', 'slaughter', 'faithful', 'cyber', 'democratic', 'pres', 'hanoi', 'simply', 'secdef', 'daca', 'posture', 'fbi', 'beginning', 'nafta', 'witness', 'corruption', 'a-10', 'loss', 'aboard', 'cooperation', 'pleased', '@jeffflake', '@potus', 'closely', 'lake', \"gov't\", 'journalist', 'reporting', 'injure', 'missile', 'opioid', '@asu', 'pearl', 'sow', 'islamic', 'ukraine', '@navalacademy', 'flake', 'russians', 'magnitsky', 'corrupt', 'approve', 'enemy', 'fy18ndaa', 'khan', 'sin', 'terrorist', 'bravery', 'fmr', '@mactxpress', \"fed'l\", 'lack', 'boot', 'aircraft', '@usairforce', 'promote', 'humanity', 'civilian', 'dback', '@reuter', '@usatoday', '.@dcexaminer', '.@ap', 'capitol', \"intro'd\", 'prgm', 'conduct', 'investigation', 'request', '→', 'cc', 'jonesact', 'anthem', 'operation', 'fwd', 'dialogue', 'insult', 'abe', 'japan', 'va', 'amdt', 'isis', 'defeat', 'concerned', 'agency', 'assist', 'strongly', 'amid', 'divide', '@foxnew', '@uofa', 'wk', '@facethenation', 'reg', 'testify', 'dept', '@cbsnew', 'sequestration', 'kara', 'murza', 'camp', 'capable', 'terminate', 'kerry', 'monitor', 'disgraceful', '@lindseygrahamsc', 'inspection', 'tokyo', 'egypt', 'correct', 'assistance', 'hike', 'adm', 'abandon', 'racist', 'vet', 'unite', 'steve', 'worthy', 'probe', 'firm', '@broomheadshow', '@kfyi', 'pence', 'fy17ndaa', 'whistleblower', 'stmt', 'canyon', 'strategic', 'daily', 'healthcare', 'humility', 'syrian', 'dems', 'montenegro', 'xi', 'impt', 'delegation', 'advisor', 'pakistan', 'mtg', 'exec', 'asia', 'cmte', 'mourn', '@timkaine', 'comey', 'intel', 'sen', 'badly', 'memorialday', 'gen', \"nat'l\", 'afternoon', '@msnbc', 'endorse', 'investigate', 'clapper', 'jong', 'pleasure', 'hoax', 'separate', 'choice4vet', 'gorsuch', 'cont', 'lawyer', 'seed', 'religious', 'bully', 'democrat', 'mohave', 'rocket', 'muslims', '@foxandfriend', 'aleppo', 'sessions', 'chat', 'donald', 'ballot', 'flagstaff', 'prescott', 'payment', 'proclamation', 'regulation', 'criticize', 'blame', 'clinton', 'hillary', 'sanctuary', 'division', 'cedarfire', 'false', 'paul', 'barrier', 'admit', 'communion', 'gospel', 'comfort', 'neighbour', 'feast', 'church', 'forgiveness', 'holiness', 'accompany', 'difficulty', 'gaze', 'christ', 'sinner', 'authentic', 'constantly', 'hunger', 'lent', 'spiritual', 'sacrament', 'reconciliation', 'tenderness', 'merciful', 'missionary', 'disciple', 'heal', 'fruit', 'entrust', 'inclusive', 'kingdom', 'enthusiasm', 'nature', 'migrant', 'centre', 'precious', 'indifference', 'diversity', 'jubilee', 'laudatosi', 'elderly', 'garden', 'ng', 'prayforpeace', 'rio2013', 'jmj', 'angry', 'candidate', 'crooked', 'collusion', 'rig', 'schumer', 'ms-13', 'mccabe', 'witch', 'phony', 'barack', 'disgrace', 'failing', 'media', 'pennsylvania', 'cnn', 'maga', 'etc', 'u.s.a.', 'classified', '.@flotus', 'dishonest', 'hopefully', 'leaker', 'a.g.', 'luther', 'our', 'j.', 'responders', 'oval', 'politically', 'dnc', 'quit', 'dow', 'optimism', 'disrespect', 'fakenews', '📸', '🇵', 'bernie', '🎥', 'americafirst', 'corker', 'newspaper', 'fema', 'endorsement', '☑', 'bedminster', '🇱', '🏈', '@bloodpop', 'purposetourstadium', 'purposetour', 'belieber', 'purposeworldtour', '@martingarrix', 'coldwater', '@scooterbraun', '@diplo', '@skrillex', '🏻', '😜', 'loveyourself', '@carlyraejepsen', 'whatdoyoumean', 'whereareunow', '✈', 'eveningwithjb', '@halsey', 'purposethemovement', 'illshowyou', 'nov13', 'preorderpurpose', 'purposealbum', '@astrid_nv', '@iammarleydia', '@aijenpoo', '@domesticworker', 'tuition', '-h', '—hillary', '—@potu', '—@flotus', '—@flotu', 'divisive', '—donald', '47246', 'temperament', 'unfit', 'debatenight', 'vpdebate', '—@joebiden', 'demsinphilly', 'americanidolfinale', 'katy', '❗', '@americanidol', 'bb', '☝', '🏼\\u200d', '🌎', '🎟', '@ronyalwin', '✌', '🚨', '😑', '@kpcollection', '💃', '👁', '👠', '👋', '😔', '🌴', '🌈', '🌟', '🐶', '🙅', '@covergirl', '💄', 'witnessthetour', '⤵️', '🇿', 'fbf', '🎄', '@sofifii', '🎅', '🎃', 'perry', '👼', '🇳', 'swishswish', '🙍', 'kpwww', '-teamkp', 'kp', '@shannonwoodward', 'pls', '🍒', 'chainedtotherhythm', '⛓', 'appstorechat', 'theprismaticworldtour', '˚'])\n"
     ]
    }
   ],
   "source": [
    "# List of words in model.\n",
    "vocab = model.wv.vocab.keys()\n",
    "\n",
    "print(vocab)"
   ]
  },
  {
   "cell_type": "code",
   "execution_count": 62,
   "metadata": {},
   "outputs": [
    {
     "name": "stdout",
     "output_type": "stream",
     "text": [
      "[('9:00', 0.7895216941833496), ('clinton', 0.736916184425354), ('8/7c', 0.7279561758041382), ('@nbc', 0.7056699991226196), ('cast', 0.6953930854797363), ('littlebigshot', 0.6950119733810425), ('47246', 0.6933400630950928), ('gameofgames', 0.6930747628211975), ('demsinphilly', 0.6830839514732361), ('stage', 0.6798983812332153)]\n",
      "0.809544089347198\n",
      "0.698721578835333\n",
      "0.49064126311857414\n",
      "👏\n",
      "forgiveness\n"
     ]
    }
   ],
   "source": [
    "print(model.wv.most_similar(positive=['crooked', 'honest'], negative=['dishonest']))\n",
    "\n",
    "# Similarity is calculated using the cosine, so again 1 is total\n",
    "# similarity and 0 is no similarity.\n",
    "print(model.wv.similarity('💄', '👠'))\n",
    "print(model.wv.similarity('repeal', 'delay'))\n",
    "print(model.wv.similarity('laugh', 'joy'))\n",
    "\n",
    "# One of these things is not like the other...\n",
    "print(model.doesnt_match(\"💪 🙌 🍕 👏\".split()))\n",
    "print(model.doesnt_match(\"phony dishonest crooked forgiveness\".split()))"
   ]
  },
  {
   "cell_type": "markdown",
   "metadata": {},
   "source": [
    "Because word2vec requires a corpus of several billion words, this model is not very accurate.  In the analogy of crooked is to dishonest as honest is to (blank), the model generated some nonsense answers (9:00, @nbc, stage).  The model did pick up on the similarities between the lipstick and high heel show emoji, but not the similarities between laugh and joy.  It was able to find \"forgiveness\" as the odd one out, but not the pizza emoji."
   ]
  },
  {
   "cell_type": "markdown",
   "metadata": {},
   "source": [
    "<a id='conclude3'></a>\n",
    "# Conclusion"
   ]
  },
  {
   "cell_type": "code",
   "execution_count": null,
   "metadata": {},
   "outputs": [],
   "source": []
  }
 ],
 "metadata": {
  "kernelspec": {
   "display_name": "Python 3",
   "language": "python",
   "name": "python3"
  },
  "language_info": {
   "codemirror_mode": {
    "name": "ipython",
    "version": 3
   },
   "file_extension": ".py",
   "mimetype": "text/x-python",
   "name": "python",
   "nbconvert_exporter": "python",
   "pygments_lexer": "ipython3",
   "version": "3.6.4"
  }
 },
 "nbformat": 4,
 "nbformat_minor": 2
}

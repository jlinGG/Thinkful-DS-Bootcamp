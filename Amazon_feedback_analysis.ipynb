{
 "cells": [
  {
   "cell_type": "markdown",
   "metadata": {},
   "source": [
    "# Challenge 2.2.7"
   ]
  },
  {
   "cell_type": "code",
   "execution_count": 29,
   "metadata": {},
   "outputs": [],
   "source": [
    "%matplotlib inline\n",
    "import numpy as np\n",
    "import pandas as pd\n",
    "import scipy\n",
    "from sklearn.naive_bayes import BernoulliNB\n",
    "import matplotlib.pyplot as plt\n",
    "import seaborn as sns"
   ]
  },
  {
   "cell_type": "markdown",
   "metadata": {},
   "source": [
    "I will be building a text classifier on Amazon reviews for electronics.  There are 500 positive and 500 negative reviews in the dataset.\n",
    "\n",
    "[This dataset](https://archive.ics.uci.edu/ml/datasets/Sentiment+Labelled+Sentences) is from the UCI Machine Learning database. It was created for the paper [From Group to Individual Labels using Deep Features](http://mdenil.com/media/papers/2015-deep-multi-instance-learning.pdf), Kotzias et. al., KDD 2015."
   ]
  },
  {
   "cell_type": "code",
   "execution_count": 30,
   "metadata": {},
   "outputs": [],
   "source": [
    "# Grab and process the raw data.\n",
    "df_raw = pd.read_csv('datafiles/sentiment labelled sentences/amazon_cells_labelled.txt', \n",
    "                     sep=\"\\t\", header=None, error_bad_lines=False)\n",
    "df_raw.columns = ['comment','positive']"
   ]
  },
  {
   "cell_type": "code",
   "execution_count": 31,
   "metadata": {},
   "outputs": [
    {
     "data": {
      "text/html": [
       "<div>\n",
       "<style>\n",
       "    .dataframe thead tr:only-child th {\n",
       "        text-align: right;\n",
       "    }\n",
       "\n",
       "    .dataframe thead th {\n",
       "        text-align: left;\n",
       "    }\n",
       "\n",
       "    .dataframe tbody tr th {\n",
       "        vertical-align: top;\n",
       "    }\n",
       "</style>\n",
       "<table border=\"1\" class=\"dataframe\">\n",
       "  <thead>\n",
       "    <tr style=\"text-align: right;\">\n",
       "      <th></th>\n",
       "      <th>comment</th>\n",
       "      <th>positive</th>\n",
       "    </tr>\n",
       "  </thead>\n",
       "  <tbody>\n",
       "    <tr>\n",
       "      <th>0</th>\n",
       "      <td>So there is no way for me to plug it in here i...</td>\n",
       "      <td>0</td>\n",
       "    </tr>\n",
       "    <tr>\n",
       "      <th>1</th>\n",
       "      <td>Good case, Excellent value.</td>\n",
       "      <td>1</td>\n",
       "    </tr>\n",
       "    <tr>\n",
       "      <th>2</th>\n",
       "      <td>Great for the jawbone.</td>\n",
       "      <td>1</td>\n",
       "    </tr>\n",
       "    <tr>\n",
       "      <th>3</th>\n",
       "      <td>Tied to charger for conversations lasting more...</td>\n",
       "      <td>0</td>\n",
       "    </tr>\n",
       "    <tr>\n",
       "      <th>4</th>\n",
       "      <td>The mic is great.</td>\n",
       "      <td>1</td>\n",
       "    </tr>\n",
       "  </tbody>\n",
       "</table>\n",
       "</div>"
      ],
      "text/plain": [
       "                                             comment  positive\n",
       "0  So there is no way for me to plug it in here i...         0\n",
       "1                        Good case, Excellent value.         1\n",
       "2                             Great for the jawbone.         1\n",
       "3  Tied to charger for conversations lasting more...         0\n",
       "4                                  The mic is great.         1"
      ]
     },
     "execution_count": 31,
     "metadata": {},
     "output_type": "execute_result"
    }
   ],
   "source": [
    "df_raw.head()"
   ]
  },
  {
   "cell_type": "code",
   "execution_count": 32,
   "metadata": {},
   "outputs": [
    {
     "data": {
      "text/plain": [
       "1    500\n",
       "0    500\n",
       "Name: positive, dtype: int64"
      ]
     },
     "execution_count": 32,
     "metadata": {},
     "output_type": "execute_result"
    }
   ],
   "source": [
    "df_raw.positive.value_counts()"
   ]
  },
  {
   "cell_type": "markdown",
   "metadata": {},
   "source": [
    "Creating columns that indiate whether or not the comment contains select positive keywords."
   ]
  },
  {
   "cell_type": "code",
   "execution_count": 33,
   "metadata": {},
   "outputs": [],
   "source": [
    "keywords = ['great','good','love','recommend','nice','excellent', 'best','simple','reasonabl', 'beautiful'\n",
    "            ,'satisfied','quality','easy','well', 'must have','happy', 'sturdy','fast','pleased',\n",
    "           'superb', 'value', 'must have', 'incredible','helpful','fine','quick','!','fit','comfortable','deal']\n",
    "\n",
    "for key in keywords:\n",
    "    df_raw[str(key)] = df_raw.comment.str.contains(str(key), case=False)"
   ]
  },
  {
   "cell_type": "code",
   "execution_count": 34,
   "metadata": {},
   "outputs": [
    {
     "data": {
      "text/html": [
       "<div>\n",
       "<style>\n",
       "    .dataframe thead tr:only-child th {\n",
       "        text-align: right;\n",
       "    }\n",
       "\n",
       "    .dataframe thead th {\n",
       "        text-align: left;\n",
       "    }\n",
       "\n",
       "    .dataframe tbody tr th {\n",
       "        vertical-align: top;\n",
       "    }\n",
       "</style>\n",
       "<table border=\"1\" class=\"dataframe\">\n",
       "  <thead>\n",
       "    <tr style=\"text-align: right;\">\n",
       "      <th></th>\n",
       "      <th>comment</th>\n",
       "      <th>positive</th>\n",
       "      <th>great</th>\n",
       "      <th>good</th>\n",
       "      <th>love</th>\n",
       "      <th>recommend</th>\n",
       "      <th>nice</th>\n",
       "      <th>excellent</th>\n",
       "      <th>best</th>\n",
       "      <th>simple</th>\n",
       "      <th>...</th>\n",
       "      <th>superb</th>\n",
       "      <th>value</th>\n",
       "      <th>incredible</th>\n",
       "      <th>helpful</th>\n",
       "      <th>fine</th>\n",
       "      <th>quick</th>\n",
       "      <th>!</th>\n",
       "      <th>fit</th>\n",
       "      <th>comfortable</th>\n",
       "      <th>deal</th>\n",
       "    </tr>\n",
       "  </thead>\n",
       "  <tbody>\n",
       "    <tr>\n",
       "      <th>0</th>\n",
       "      <td>So there is no way for me to plug it in here i...</td>\n",
       "      <td>0</td>\n",
       "      <td>False</td>\n",
       "      <td>False</td>\n",
       "      <td>False</td>\n",
       "      <td>False</td>\n",
       "      <td>False</td>\n",
       "      <td>False</td>\n",
       "      <td>False</td>\n",
       "      <td>False</td>\n",
       "      <td>...</td>\n",
       "      <td>False</td>\n",
       "      <td>False</td>\n",
       "      <td>False</td>\n",
       "      <td>False</td>\n",
       "      <td>False</td>\n",
       "      <td>False</td>\n",
       "      <td>False</td>\n",
       "      <td>False</td>\n",
       "      <td>False</td>\n",
       "      <td>False</td>\n",
       "    </tr>\n",
       "    <tr>\n",
       "      <th>1</th>\n",
       "      <td>Good case, Excellent value.</td>\n",
       "      <td>1</td>\n",
       "      <td>False</td>\n",
       "      <td>True</td>\n",
       "      <td>False</td>\n",
       "      <td>False</td>\n",
       "      <td>False</td>\n",
       "      <td>True</td>\n",
       "      <td>False</td>\n",
       "      <td>False</td>\n",
       "      <td>...</td>\n",
       "      <td>False</td>\n",
       "      <td>True</td>\n",
       "      <td>False</td>\n",
       "      <td>False</td>\n",
       "      <td>False</td>\n",
       "      <td>False</td>\n",
       "      <td>False</td>\n",
       "      <td>False</td>\n",
       "      <td>False</td>\n",
       "      <td>False</td>\n",
       "    </tr>\n",
       "    <tr>\n",
       "      <th>2</th>\n",
       "      <td>Great for the jawbone.</td>\n",
       "      <td>1</td>\n",
       "      <td>True</td>\n",
       "      <td>False</td>\n",
       "      <td>False</td>\n",
       "      <td>False</td>\n",
       "      <td>False</td>\n",
       "      <td>False</td>\n",
       "      <td>False</td>\n",
       "      <td>False</td>\n",
       "      <td>...</td>\n",
       "      <td>False</td>\n",
       "      <td>False</td>\n",
       "      <td>False</td>\n",
       "      <td>False</td>\n",
       "      <td>False</td>\n",
       "      <td>False</td>\n",
       "      <td>False</td>\n",
       "      <td>False</td>\n",
       "      <td>False</td>\n",
       "      <td>False</td>\n",
       "    </tr>\n",
       "    <tr>\n",
       "      <th>3</th>\n",
       "      <td>Tied to charger for conversations lasting more...</td>\n",
       "      <td>0</td>\n",
       "      <td>False</td>\n",
       "      <td>False</td>\n",
       "      <td>False</td>\n",
       "      <td>False</td>\n",
       "      <td>False</td>\n",
       "      <td>False</td>\n",
       "      <td>False</td>\n",
       "      <td>False</td>\n",
       "      <td>...</td>\n",
       "      <td>False</td>\n",
       "      <td>False</td>\n",
       "      <td>False</td>\n",
       "      <td>False</td>\n",
       "      <td>False</td>\n",
       "      <td>False</td>\n",
       "      <td>True</td>\n",
       "      <td>False</td>\n",
       "      <td>False</td>\n",
       "      <td>False</td>\n",
       "    </tr>\n",
       "    <tr>\n",
       "      <th>4</th>\n",
       "      <td>The mic is great.</td>\n",
       "      <td>1</td>\n",
       "      <td>True</td>\n",
       "      <td>False</td>\n",
       "      <td>False</td>\n",
       "      <td>False</td>\n",
       "      <td>False</td>\n",
       "      <td>False</td>\n",
       "      <td>False</td>\n",
       "      <td>False</td>\n",
       "      <td>...</td>\n",
       "      <td>False</td>\n",
       "      <td>False</td>\n",
       "      <td>False</td>\n",
       "      <td>False</td>\n",
       "      <td>False</td>\n",
       "      <td>False</td>\n",
       "      <td>False</td>\n",
       "      <td>False</td>\n",
       "      <td>False</td>\n",
       "      <td>False</td>\n",
       "    </tr>\n",
       "  </tbody>\n",
       "</table>\n",
       "<p>5 rows × 31 columns</p>\n",
       "</div>"
      ],
      "text/plain": [
       "                                             comment  positive  great   good  \\\n",
       "0  So there is no way for me to plug it in here i...         0  False  False   \n",
       "1                        Good case, Excellent value.         1  False   True   \n",
       "2                             Great for the jawbone.         1   True  False   \n",
       "3  Tied to charger for conversations lasting more...         0  False  False   \n",
       "4                                  The mic is great.         1   True  False   \n",
       "\n",
       "    love  recommend   nice  excellent   best  simple  ...    superb  value  \\\n",
       "0  False      False  False      False  False   False  ...     False  False   \n",
       "1  False      False  False       True  False   False  ...     False   True   \n",
       "2  False      False  False      False  False   False  ...     False  False   \n",
       "3  False      False  False      False  False   False  ...     False  False   \n",
       "4  False      False  False      False  False   False  ...     False  False   \n",
       "\n",
       "   incredible  helpful   fine  quick      !    fit  comfortable   deal  \n",
       "0       False    False  False  False  False  False        False  False  \n",
       "1       False    False  False  False  False  False        False  False  \n",
       "2       False    False  False  False  False  False        False  False  \n",
       "3       False    False  False  False   True  False        False  False  \n",
       "4       False    False  False  False  False  False        False  False  \n",
       "\n",
       "[5 rows x 31 columns]"
      ]
     },
     "execution_count": 34,
     "metadata": {},
     "output_type": "execute_result"
    }
   ],
   "source": [
    "df_raw.head()"
   ]
  },
  {
   "cell_type": "markdown",
   "metadata": {},
   "source": [
    "Checking Naive Bayes assumption that variables are independent from each other using a correlation heatmap.\n",
    "\n",
    "It looks pretty good!"
   ]
  },
  {
   "cell_type": "code",
   "execution_count": 35,
   "metadata": {},
   "outputs": [
    {
     "data": {
      "text/plain": [
       "<matplotlib.axes._subplots.AxesSubplot at 0x10af3ca58>"
      ]
     },
     "execution_count": 35,
     "metadata": {},
     "output_type": "execute_result"
    },
    {
     "data": {
      "image/png": "[encoded data removed]",
      "text/plain": [
       "<matplotlib.figure.Figure at 0x10b8882b0>"
      ]
     },
     "metadata": {},
     "output_type": "display_data"
    }
   ],
   "source": [
    "#Set up matplotlib\n",
    "f, ax = plt.subplots(figsize=(12,9))\n",
    "\n",
    "sns.heatmap(df_raw.corr(), cmap='BuPu')"
   ]
  },
  {
   "cell_type": "markdown",
   "metadata": {},
   "source": [
    "Setting up input and output variables to put in model."
   ]
  },
  {
   "cell_type": "code",
   "execution_count": 36,
   "metadata": {},
   "outputs": [],
   "source": [
    "data = df_raw[keywords]\n",
    "target = df_raw['positive']"
   ]
  },
  {
   "cell_type": "markdown",
   "metadata": {},
   "source": [
    "Building model using Bernoulli classifier, since our data is binary (0, 1 positive comment)."
   ]
  },
  {
   "cell_type": "code",
   "execution_count": 37,
   "metadata": {},
   "outputs": [
    {
     "name": "stdout",
     "output_type": "stream",
     "text": [
      "Number of mislabeled points out of a total 1000 points : 223\n"
     ]
    }
   ],
   "source": [
    "# Instantiate model and store it in variable bnb\n",
    "bnb = BernoulliNB()\n",
    "\n",
    "# Fit model to data\n",
    "# This is the fitted model for Amazon data.\n",
    "amazon_fit = bnb.fit(data, target)\n",
    "\n",
    "# Classify and store result in new variable\n",
    "# \n",
    "y_pred = bnb.predict(data)\n",
    "\n",
    "# Display our results.\n",
    "print(\"Number of mislabeled points out of a total {} points : {}\".format(\n",
    "    data.shape[0],\n",
    "    (target != y_pred).sum()\n",
    "))"
   ]
  },
  {
   "cell_type": "markdown",
   "metadata": {},
   "source": [
    "Model has a 78.2% accuracy.\n",
    "\n",
    "Now let's try it on yelp reviews!"
   ]
  },
  {
   "cell_type": "code",
   "execution_count": 38,
   "metadata": {},
   "outputs": [],
   "source": [
    "# Grab and process the raw data.\n",
    "yelp = pd.read_csv('datafiles/sentiment labelled sentences/yelp_labelled.txt', \n",
    "                     sep=\"\\t\", header=None, error_bad_lines=False)\n",
    "yelp.columns = ['comment','positive']"
   ]
  },
  {
   "cell_type": "code",
   "execution_count": 39,
   "metadata": {},
   "outputs": [
    {
     "data": {
      "text/html": [
       "<div>\n",
       "<style>\n",
       "    .dataframe thead tr:only-child th {\n",
       "        text-align: right;\n",
       "    }\n",
       "\n",
       "    .dataframe thead th {\n",
       "        text-align: left;\n",
       "    }\n",
       "\n",
       "    .dataframe tbody tr th {\n",
       "        vertical-align: top;\n",
       "    }\n",
       "</style>\n",
       "<table border=\"1\" class=\"dataframe\">\n",
       "  <thead>\n",
       "    <tr style=\"text-align: right;\">\n",
       "      <th></th>\n",
       "      <th>comment</th>\n",
       "      <th>positive</th>\n",
       "    </tr>\n",
       "  </thead>\n",
       "  <tbody>\n",
       "    <tr>\n",
       "      <th>0</th>\n",
       "      <td>Wow... Loved this place.</td>\n",
       "      <td>1</td>\n",
       "    </tr>\n",
       "    <tr>\n",
       "      <th>1</th>\n",
       "      <td>Crust is not good.</td>\n",
       "      <td>0</td>\n",
       "    </tr>\n",
       "    <tr>\n",
       "      <th>2</th>\n",
       "      <td>Not tasty and the texture was just nasty.</td>\n",
       "      <td>0</td>\n",
       "    </tr>\n",
       "    <tr>\n",
       "      <th>3</th>\n",
       "      <td>Stopped by during the late May bank holiday of...</td>\n",
       "      <td>1</td>\n",
       "    </tr>\n",
       "    <tr>\n",
       "      <th>4</th>\n",
       "      <td>The selection on the menu was great and so wer...</td>\n",
       "      <td>1</td>\n",
       "    </tr>\n",
       "  </tbody>\n",
       "</table>\n",
       "</div>"
      ],
      "text/plain": [
       "                                             comment  positive\n",
       "0                           Wow... Loved this place.         1\n",
       "1                                 Crust is not good.         0\n",
       "2          Not tasty and the texture was just nasty.         0\n",
       "3  Stopped by during the late May bank holiday of...         1\n",
       "4  The selection on the menu was great and so wer...         1"
      ]
     },
     "execution_count": 39,
     "metadata": {},
     "output_type": "execute_result"
    }
   ],
   "source": [
    "yelp.head()"
   ]
  },
  {
   "cell_type": "markdown",
   "metadata": {},
   "source": [
    "Creating columns with positive keywords to indicate whether or not they are present in comment."
   ]
  },
  {
   "cell_type": "code",
   "execution_count": 40,
   "metadata": {},
   "outputs": [],
   "source": [
    "for key in keywords:\n",
    "    yelp[str(key)] = yelp.comment.str.contains(str(key), case=False)"
   ]
  },
  {
   "cell_type": "code",
   "execution_count": 41,
   "metadata": {},
   "outputs": [
    {
     "data": {
      "text/html": [
       "<div>\n",
       "<style>\n",
       "    .dataframe thead tr:only-child th {\n",
       "        text-align: right;\n",
       "    }\n",
       "\n",
       "    .dataframe thead th {\n",
       "        text-align: left;\n",
       "    }\n",
       "\n",
       "    .dataframe tbody tr th {\n",
       "        vertical-align: top;\n",
       "    }\n",
       "</style>\n",
       "<table border=\"1\" class=\"dataframe\">\n",
       "  <thead>\n",
       "    <tr style=\"text-align: right;\">\n",
       "      <th></th>\n",
       "      <th>comment</th>\n",
       "      <th>positive</th>\n",
       "      <th>great</th>\n",
       "      <th>good</th>\n",
       "      <th>love</th>\n",
       "      <th>recommend</th>\n",
       "      <th>nice</th>\n",
       "      <th>excellent</th>\n",
       "      <th>best</th>\n",
       "      <th>simple</th>\n",
       "      <th>...</th>\n",
       "      <th>superb</th>\n",
       "      <th>value</th>\n",
       "      <th>incredible</th>\n",
       "      <th>helpful</th>\n",
       "      <th>fine</th>\n",
       "      <th>quick</th>\n",
       "      <th>!</th>\n",
       "      <th>fit</th>\n",
       "      <th>comfortable</th>\n",
       "      <th>deal</th>\n",
       "    </tr>\n",
       "  </thead>\n",
       "  <tbody>\n",
       "    <tr>\n",
       "      <th>0</th>\n",
       "      <td>Wow... Loved this place.</td>\n",
       "      <td>1</td>\n",
       "      <td>False</td>\n",
       "      <td>False</td>\n",
       "      <td>True</td>\n",
       "      <td>False</td>\n",
       "      <td>False</td>\n",
       "      <td>False</td>\n",
       "      <td>False</td>\n",
       "      <td>False</td>\n",
       "      <td>...</td>\n",
       "      <td>False</td>\n",
       "      <td>False</td>\n",
       "      <td>False</td>\n",
       "      <td>False</td>\n",
       "      <td>False</td>\n",
       "      <td>False</td>\n",
       "      <td>False</td>\n",
       "      <td>False</td>\n",
       "      <td>False</td>\n",
       "      <td>False</td>\n",
       "    </tr>\n",
       "    <tr>\n",
       "      <th>1</th>\n",
       "      <td>Crust is not good.</td>\n",
       "      <td>0</td>\n",
       "      <td>False</td>\n",
       "      <td>True</td>\n",
       "      <td>False</td>\n",
       "      <td>False</td>\n",
       "      <td>False</td>\n",
       "      <td>False</td>\n",
       "      <td>False</td>\n",
       "      <td>False</td>\n",
       "      <td>...</td>\n",
       "      <td>False</td>\n",
       "      <td>False</td>\n",
       "      <td>False</td>\n",
       "      <td>False</td>\n",
       "      <td>False</td>\n",
       "      <td>False</td>\n",
       "      <td>False</td>\n",
       "      <td>False</td>\n",
       "      <td>False</td>\n",
       "      <td>False</td>\n",
       "    </tr>\n",
       "    <tr>\n",
       "      <th>2</th>\n",
       "      <td>Not tasty and the texture was just nasty.</td>\n",
       "      <td>0</td>\n",
       "      <td>False</td>\n",
       "      <td>False</td>\n",
       "      <td>False</td>\n",
       "      <td>False</td>\n",
       "      <td>False</td>\n",
       "      <td>False</td>\n",
       "      <td>False</td>\n",
       "      <td>False</td>\n",
       "      <td>...</td>\n",
       "      <td>False</td>\n",
       "      <td>False</td>\n",
       "      <td>False</td>\n",
       "      <td>False</td>\n",
       "      <td>False</td>\n",
       "      <td>False</td>\n",
       "      <td>False</td>\n",
       "      <td>False</td>\n",
       "      <td>False</td>\n",
       "      <td>False</td>\n",
       "    </tr>\n",
       "    <tr>\n",
       "      <th>3</th>\n",
       "      <td>Stopped by during the late May bank holiday of...</td>\n",
       "      <td>1</td>\n",
       "      <td>False</td>\n",
       "      <td>False</td>\n",
       "      <td>True</td>\n",
       "      <td>True</td>\n",
       "      <td>False</td>\n",
       "      <td>False</td>\n",
       "      <td>False</td>\n",
       "      <td>False</td>\n",
       "      <td>...</td>\n",
       "      <td>False</td>\n",
       "      <td>False</td>\n",
       "      <td>False</td>\n",
       "      <td>False</td>\n",
       "      <td>False</td>\n",
       "      <td>False</td>\n",
       "      <td>False</td>\n",
       "      <td>False</td>\n",
       "      <td>False</td>\n",
       "      <td>False</td>\n",
       "    </tr>\n",
       "    <tr>\n",
       "      <th>4</th>\n",
       "      <td>The selection on the menu was great and so wer...</td>\n",
       "      <td>1</td>\n",
       "      <td>True</td>\n",
       "      <td>False</td>\n",
       "      <td>False</td>\n",
       "      <td>False</td>\n",
       "      <td>False</td>\n",
       "      <td>False</td>\n",
       "      <td>False</td>\n",
       "      <td>False</td>\n",
       "      <td>...</td>\n",
       "      <td>False</td>\n",
       "      <td>False</td>\n",
       "      <td>False</td>\n",
       "      <td>False</td>\n",
       "      <td>False</td>\n",
       "      <td>False</td>\n",
       "      <td>False</td>\n",
       "      <td>False</td>\n",
       "      <td>False</td>\n",
       "      <td>False</td>\n",
       "    </tr>\n",
       "  </tbody>\n",
       "</table>\n",
       "<p>5 rows × 31 columns</p>\n",
       "</div>"
      ],
      "text/plain": [
       "                                             comment  positive  great   good  \\\n",
       "0                           Wow... Loved this place.         1  False  False   \n",
       "1                                 Crust is not good.         0  False   True   \n",
       "2          Not tasty and the texture was just nasty.         0  False  False   \n",
       "3  Stopped by during the late May bank holiday of...         1  False  False   \n",
       "4  The selection on the menu was great and so wer...         1   True  False   \n",
       "\n",
       "    love  recommend   nice  excellent   best  simple  ...    superb  value  \\\n",
       "0   True      False  False      False  False   False  ...     False  False   \n",
       "1  False      False  False      False  False   False  ...     False  False   \n",
       "2  False      False  False      False  False   False  ...     False  False   \n",
       "3   True       True  False      False  False   False  ...     False  False   \n",
       "4  False      False  False      False  False   False  ...     False  False   \n",
       "\n",
       "   incredible  helpful   fine  quick      !    fit  comfortable   deal  \n",
       "0       False    False  False  False  False  False        False  False  \n",
       "1       False    False  False  False  False  False        False  False  \n",
       "2       False    False  False  False  False  False        False  False  \n",
       "3       False    False  False  False  False  False        False  False  \n",
       "4       False    False  False  False  False  False        False  False  \n",
       "\n",
       "[5 rows x 31 columns]"
      ]
     },
     "execution_count": 41,
     "metadata": {},
     "output_type": "execute_result"
    }
   ],
   "source": [
    "yelp.head()"
   ]
  },
  {
   "cell_type": "markdown",
   "metadata": {},
   "source": [
    "Storing inputs and outputs..."
   ]
  },
  {
   "cell_type": "code",
   "execution_count": 42,
   "metadata": {},
   "outputs": [],
   "source": [
    "y_data = yelp[keywords]\n",
    "y_target = yelp['positive']"
   ]
  },
  {
   "cell_type": "code",
   "execution_count": 43,
   "metadata": {},
   "outputs": [
    {
     "name": "stdout",
     "output_type": "stream",
     "text": [
      "Number of mislabeled points out of a total 1000 points : 496\n"
     ]
    }
   ],
   "source": [
    "# Using Amazon model to predict yelp data\n",
    "\n",
    "yelp_pred = amazon_fit.predict(y_data)\n",
    "\n",
    "# Display our results.\n",
    "print(\"Number of mislabeled points out of a total {} points : {}\".format(\n",
    "    data.shape[0],\n",
    "    (target != yelp_pred).sum()\n",
    "))"
   ]
  },
  {
   "cell_type": "markdown",
   "metadata": {},
   "source": [
    "Not surprisingly, the model performed worse on Yelp reviews, as some of the keywords are more product-oriented (eg. study, easy, simple).  The accuracy of the model on yelp reviews is a dismal 50.4%"
   ]
  },
  {
   "cell_type": "markdown",
   "metadata": {},
   "source": [
    "### Sensitivity and Specificity\n",
    "\n",
    "Let's see how sensitive and specific this model is for Amazon reviews."
   ]
  },
  {
   "cell_type": "code",
   "execution_count": 44,
   "metadata": {},
   "outputs": [
    {
     "name": "stdout",
     "output_type": "stream",
     "text": [
      "[[449  51]\n",
      " [172 328]]\n"
     ]
    }
   ],
   "source": [
    "from sklearn.metrics import confusion_matrix\n",
    "\n",
    "cm = confusion_matrix(target, y_pred)\n",
    "print(cm)"
   ]
  },
  {
   "cell_type": "code",
   "execution_count": 47,
   "metadata": {},
   "outputs": [
    {
     "name": "stdout",
     "output_type": "stream",
     "text": [
      "Sensitivity: 0.898\n",
      "Specificity: 0.344\n"
     ]
    }
   ],
   "source": [
    "# Sensitivity - Ability to correctly identify a positive review\n",
    "print('Sensitivity: ' + str(cm[0][0]/(cm[0][0]+cm[0][1])))\n",
    "\n",
    "# Specificity: Ability to correctly identify negative review\n",
    "print('Specificity: ' + str(cm[1][0]/(cm[1][0]+cm[1][1])))"
   ]
  },
  {
   "cell_type": "markdown",
   "metadata": {},
   "source": [
    "The ability to predict a positive review is at 89.9%, which is pretty good.  The specificity is at 65.6%, which is not so great.  If you are a product developer, the negative reviews are probably more important than the positive reviews, so you would want to increase the specificity of the model.  "
   ]
  },
  {
   "cell_type": "markdown",
   "metadata": {},
   "source": [
    "### Holdout group"
   ]
  },
  {
   "cell_type": "code",
   "execution_count": 18,
   "metadata": {},
   "outputs": [],
   "source": [
    "#Pull 30% of cases and store it in holdout\n",
    "holdout = df_raw.sample(frac = 0.3, random_state=4566)\n",
    "\n",
    "#Training data is the rest of the data (70%).\n",
    "train = df_raw.drop(holdout.index)"
   ]
  },
  {
   "cell_type": "code",
   "execution_count": 19,
   "metadata": {},
   "outputs": [],
   "source": [
    "datasets = [train, holdout]\n",
    "\n",
    "for d in datasets:\n",
    "    for key in keywords:\n",
    "        d[key] = d['comment'].str.contains(key, case=False)"
   ]
  },
  {
   "cell_type": "code",
   "execution_count": 20,
   "metadata": {},
   "outputs": [],
   "source": [
    "# Setting up training data for modeling\n",
    "data = train[keywords]\n",
    "target = train['positive']\n",
    "\n",
    "h_data = holdout[keywords]\n",
    "h_target = holdout['positive']"
   ]
  },
  {
   "cell_type": "code",
   "execution_count": 21,
   "metadata": {},
   "outputs": [
    {
     "name": "stdout",
     "output_type": "stream",
     "text": [
      "Number of mislabelled points out of 300 points: 72\n"
     ]
    }
   ],
   "source": [
    "# Using training data to build model\n",
    "bnb = BernoulliNB()\n",
    "\n",
    "# Fitting model to data\n",
    "a_model = bnb.fit(data,target)\n",
    "\n",
    "# Testing holdout data on model\n",
    "holdout_pred = a_model.predict(h_data)\n",
    "\n",
    "# Printing results\n",
    "print('Number of mislabelled points out of {} points: {}'.format(h_data.shape[0], \n",
    "                                                                 (h_target != holdout_pred).sum()))"
   ]
  },
  {
   "cell_type": "markdown",
   "metadata": {},
   "source": [
    "The accuracy when using the fitted model to test the holdout group is 76.0%, which is not too far from the accuracy we got (78.2%) when we used the entire dataset to train and test the model."
   ]
  },
  {
   "cell_type": "markdown",
   "metadata": {},
   "source": [
    "### Cross Validation\n",
    "Building the model and testing it on 10 folds."
   ]
  },
  {
   "cell_type": "code",
   "execution_count": 22,
   "metadata": {},
   "outputs": [
    {
     "name": "stdout",
     "output_type": "stream",
     "text": [
      "100\n"
     ]
    }
   ],
   "source": [
    "# Doing 10 folds\n",
    "k = 10\n",
    "\n",
    "# Size of folds\n",
    "f_size = df_raw.shape[0] // k\n",
    "print(f_size)    "
   ]
  },
  {
   "cell_type": "code",
   "execution_count": 23,
   "metadata": {},
   "outputs": [
    {
     "data": {
      "text/plain": [
       "range(0, 10)"
      ]
     },
     "execution_count": 23,
     "metadata": {},
     "output_type": "execute_result"
    }
   ],
   "source": [
    "range(k)"
   ]
  },
  {
   "cell_type": "code",
   "execution_count": 112,
   "metadata": {},
   "outputs": [],
   "source": [
    "def cross_val(df, k):\n",
    "    index = 0\n",
    "    fold_size = df.shape[0] // k\n",
    "    \n",
    "    for i in range(k):\n",
    "        start = index\n",
    "        end = index + fold_size\n",
    "\n",
    "        cross_val = df[start:end]\n",
    "        train_data = df.drop(cross_val.index)\n",
    "\n",
    "        t_data = train_data[keywords]\n",
    "        t_target = train_data['positive']\n",
    "\n",
    "        cv_data = cross_val[keywords]\n",
    "        cv_target = cross_val['positive']\n",
    "\n",
    "    # Building model with training data\n",
    "        bnb = BernoulliNB()\n",
    "        t_model = bnb.fit(t_data, t_target)\n",
    "\n",
    "    # Testing model on cross validation group\n",
    "        cv_pred = t_model.predict(cv_data)\n",
    "\n",
    "    # Printing confusion matrix and sensitivity and specificity calculations\n",
    "        cm = confusion_matrix(cv_target, cv_pred)\n",
    "\n",
    "        print('Confusion Matrix for Cross Validation Group ' + str(start) + ' : ' + str(end))\n",
    "        print(cm)\n",
    "\n",
    "        # Sensitivity - Ability to correctly identify a positive review\n",
    "        print('Sensitivity: ' + str((cm[0][0]/(cm[0][0]+cm[0][1])).round(4)))\n",
    "\n",
    "        # Specificity: Ability to correctly identify negative review\n",
    "        print('Specificity: ' + str((cm[1][0]/(cm[1][0]+cm[1][1])).round(4)))\n",
    "        \n",
    "        # Accuracy\n",
    "        print('Accuracy:' + str(1-((cv_target != cv_pred).sum()/cross_val.shape[0])))\n",
    "        print('\\n')\n",
    "\n",
    "    # Resetting index\n",
    "        index = index + fold_size\n"
   ]
  },
  {
   "cell_type": "code",
   "execution_count": 113,
   "metadata": {},
   "outputs": [
    {
     "name": "stdout",
     "output_type": "stream",
     "text": [
      "Confusion Matrix for Cross Validation Group 0 : 100\n",
      "[[45  4]\n",
      " [10 41]]\n",
      "Sensitivity: 0.9184\n",
      "Specificity: 0.1961\n",
      "Accuracy:0.86\n",
      "\n",
      "\n",
      "Confusion Matrix for Cross Validation Group 100 : 200\n",
      "[[47  3]\n",
      " [22 28]]\n",
      "Sensitivity: 0.94\n",
      "Specificity: 0.44\n",
      "Accuracy:0.75\n",
      "\n",
      "\n",
      "Confusion Matrix for Cross Validation Group 200 : 300\n",
      "[[41  2]\n",
      " [17 40]]\n",
      "Sensitivity: 0.9535\n",
      "Specificity: 0.2982\n",
      "Accuracy:0.81\n",
      "\n",
      "\n",
      "Confusion Matrix for Cross Validation Group 300 : 400\n",
      "[[38  9]\n",
      " [21 32]]\n",
      "Sensitivity: 0.8085\n",
      "Specificity: 0.3962\n",
      "Accuracy:0.7\n",
      "\n",
      "\n",
      "Confusion Matrix for Cross Validation Group 400 : 500\n",
      "[[46  4]\n",
      " [27 23]]\n",
      "Sensitivity: 0.92\n",
      "Specificity: 0.54\n",
      "Accuracy:0.69\n",
      "\n",
      "\n",
      "Confusion Matrix for Cross Validation Group 500 : 600\n",
      "[[45  4]\n",
      " [22 29]]\n",
      "Sensitivity: 0.9184\n",
      "Specificity: 0.4314\n",
      "Accuracy:0.74\n",
      "\n",
      "\n",
      "Confusion Matrix for Cross Validation Group 600 : 700\n",
      "[[50  6]\n",
      " [22 22]]\n",
      "Sensitivity: 0.8929\n",
      "Specificity: 0.5\n",
      "Accuracy:0.72\n",
      "\n",
      "\n",
      "Confusion Matrix for Cross Validation Group 700 : 800\n",
      "[[44  3]\n",
      " [27 26]]\n",
      "Sensitivity: 0.9362\n",
      "Specificity: 0.5094\n",
      "Accuracy:0.7\n",
      "\n",
      "\n",
      "Confusion Matrix for Cross Validation Group 800 : 900\n",
      "[[48  3]\n",
      " [21 28]]\n",
      "Sensitivity: 0.9412\n",
      "Specificity: 0.4286\n",
      "Accuracy:0.76\n",
      "\n",
      "\n",
      "Confusion Matrix for Cross Validation Group 900 : 1000\n",
      "[[55  3]\n",
      " [27 15]]\n",
      "Sensitivity: 0.9483\n",
      "Specificity: 0.6429\n",
      "Accuracy:0.7\n",
      "\n",
      "\n"
     ]
    }
   ],
   "source": [
    "cross_val(df_raw, 10)"
   ]
  },
  {
   "cell_type": "markdown",
   "metadata": {},
   "source": [
    "Both the Sensitivity and the Specificity fluctuates with cross validation.  This indicates that there is some over-fitting going on, so some samples do better than others.\n",
    "\n",
    "# Model 2\n",
    "Model 2 will have less keywords."
   ]
  },
  {
   "cell_type": "code",
   "execution_count": 114,
   "metadata": {},
   "outputs": [],
   "source": [
    "# Starting anew with raw data\n",
    "df_raw = pd.read_csv('datafiles/sentiment labelled sentences/amazon_cells_labelled.txt', \n",
    "                     sep=\"\\t\", header=None, error_bad_lines=False)\n",
    "df_raw.columns = ['comment','positive']"
   ]
  },
  {
   "cell_type": "code",
   "execution_count": 115,
   "metadata": {},
   "outputs": [],
   "source": [
    "# Creating a copy of the dataframe just for the model\n",
    "df_model2 = df_raw"
   ]
  },
  {
   "cell_type": "code",
   "execution_count": 116,
   "metadata": {},
   "outputs": [],
   "source": [
    "keywords = ['great','good','love','nice','excellent', 'best','simple','beautiful'\n",
    "            ,'satisfied','quality','well', 'must have','happy', 'sturdy','fast','pleased',\n",
    "           'superb', 'must have', 'incredible']\n",
    "\n",
    "for key in keywords:\n",
    "    df_model2[str(key)] = df_model2.comment.str.contains(str(key), case=False)"
   ]
  },
  {
   "cell_type": "code",
   "execution_count": 117,
   "metadata": {},
   "outputs": [
    {
     "data": {
      "text/html": [
       "<div>\n",
       "<style>\n",
       "    .dataframe thead tr:only-child th {\n",
       "        text-align: right;\n",
       "    }\n",
       "\n",
       "    .dataframe thead th {\n",
       "        text-align: left;\n",
       "    }\n",
       "\n",
       "    .dataframe tbody tr th {\n",
       "        vertical-align: top;\n",
       "    }\n",
       "</style>\n",
       "<table border=\"1\" class=\"dataframe\">\n",
       "  <thead>\n",
       "    <tr style=\"text-align: right;\">\n",
       "      <th></th>\n",
       "      <th>comment</th>\n",
       "      <th>positive</th>\n",
       "      <th>great</th>\n",
       "      <th>good</th>\n",
       "      <th>love</th>\n",
       "      <th>nice</th>\n",
       "      <th>excellent</th>\n",
       "      <th>best</th>\n",
       "      <th>simple</th>\n",
       "      <th>beautiful</th>\n",
       "      <th>satisfied</th>\n",
       "      <th>quality</th>\n",
       "      <th>well</th>\n",
       "      <th>must have</th>\n",
       "      <th>happy</th>\n",
       "      <th>sturdy</th>\n",
       "      <th>fast</th>\n",
       "      <th>pleased</th>\n",
       "      <th>superb</th>\n",
       "      <th>incredible</th>\n",
       "    </tr>\n",
       "  </thead>\n",
       "  <tbody>\n",
       "    <tr>\n",
       "      <th>0</th>\n",
       "      <td>So there is no way for me to plug it in here in the US unless I go by a converter.</td>\n",
       "      <td>0</td>\n",
       "      <td>False</td>\n",
       "      <td>False</td>\n",
       "      <td>False</td>\n",
       "      <td>False</td>\n",
       "      <td>False</td>\n",
       "      <td>False</td>\n",
       "      <td>False</td>\n",
       "      <td>False</td>\n",
       "      <td>False</td>\n",
       "      <td>False</td>\n",
       "      <td>False</td>\n",
       "      <td>False</td>\n",
       "      <td>False</td>\n",
       "      <td>False</td>\n",
       "      <td>False</td>\n",
       "      <td>False</td>\n",
       "      <td>False</td>\n",
       "      <td>False</td>\n",
       "    </tr>\n",
       "    <tr>\n",
       "      <th>1</th>\n",
       "      <td>Good case, Excellent value.</td>\n",
       "      <td>1</td>\n",
       "      <td>False</td>\n",
       "      <td>True</td>\n",
       "      <td>False</td>\n",
       "      <td>False</td>\n",
       "      <td>True</td>\n",
       "      <td>False</td>\n",
       "      <td>False</td>\n",
       "      <td>False</td>\n",
       "      <td>False</td>\n",
       "      <td>False</td>\n",
       "      <td>False</td>\n",
       "      <td>False</td>\n",
       "      <td>False</td>\n",
       "      <td>False</td>\n",
       "      <td>False</td>\n",
       "      <td>False</td>\n",
       "      <td>False</td>\n",
       "      <td>False</td>\n",
       "    </tr>\n",
       "    <tr>\n",
       "      <th>2</th>\n",
       "      <td>Great for the jawbone.</td>\n",
       "      <td>1</td>\n",
       "      <td>True</td>\n",
       "      <td>False</td>\n",
       "      <td>False</td>\n",
       "      <td>False</td>\n",
       "      <td>False</td>\n",
       "      <td>False</td>\n",
       "      <td>False</td>\n",
       "      <td>False</td>\n",
       "      <td>False</td>\n",
       "      <td>False</td>\n",
       "      <td>False</td>\n",
       "      <td>False</td>\n",
       "      <td>False</td>\n",
       "      <td>False</td>\n",
       "      <td>False</td>\n",
       "      <td>False</td>\n",
       "      <td>False</td>\n",
       "      <td>False</td>\n",
       "    </tr>\n",
       "    <tr>\n",
       "      <th>3</th>\n",
       "      <td>Tied to charger for conversations lasting more than 45 minutes.MAJOR PROBLEMS!!</td>\n",
       "      <td>0</td>\n",
       "      <td>False</td>\n",
       "      <td>False</td>\n",
       "      <td>False</td>\n",
       "      <td>False</td>\n",
       "      <td>False</td>\n",
       "      <td>False</td>\n",
       "      <td>False</td>\n",
       "      <td>False</td>\n",
       "      <td>False</td>\n",
       "      <td>False</td>\n",
       "      <td>False</td>\n",
       "      <td>False</td>\n",
       "      <td>False</td>\n",
       "      <td>False</td>\n",
       "      <td>False</td>\n",
       "      <td>False</td>\n",
       "      <td>False</td>\n",
       "      <td>False</td>\n",
       "    </tr>\n",
       "    <tr>\n",
       "      <th>4</th>\n",
       "      <td>The mic is great.</td>\n",
       "      <td>1</td>\n",
       "      <td>True</td>\n",
       "      <td>False</td>\n",
       "      <td>False</td>\n",
       "      <td>False</td>\n",
       "      <td>False</td>\n",
       "      <td>False</td>\n",
       "      <td>False</td>\n",
       "      <td>False</td>\n",
       "      <td>False</td>\n",
       "      <td>False</td>\n",
       "      <td>False</td>\n",
       "      <td>False</td>\n",
       "      <td>False</td>\n",
       "      <td>False</td>\n",
       "      <td>False</td>\n",
       "      <td>False</td>\n",
       "      <td>False</td>\n",
       "      <td>False</td>\n",
       "    </tr>\n",
       "  </tbody>\n",
       "</table>\n",
       "</div>"
      ],
      "text/plain": [
       "                                                                              comment  \\\n",
       "0  So there is no way for me to plug it in here in the US unless I go by a converter.   \n",
       "1                                                         Good case, Excellent value.   \n",
       "2                                                              Great for the jawbone.   \n",
       "3     Tied to charger for conversations lasting more than 45 minutes.MAJOR PROBLEMS!!   \n",
       "4                                                                   The mic is great.   \n",
       "\n",
       "   positive  great   good   love   nice  excellent   best  simple  beautiful  \\\n",
       "0         0  False  False  False  False      False  False   False      False   \n",
       "1         1  False   True  False  False       True  False   False      False   \n",
       "2         1   True  False  False  False      False  False   False      False   \n",
       "3         0  False  False  False  False      False  False   False      False   \n",
       "4         1   True  False  False  False      False  False   False      False   \n",
       "\n",
       "   satisfied  quality   well  must have  happy  sturdy   fast  pleased  \\\n",
       "0      False    False  False      False  False   False  False    False   \n",
       "1      False    False  False      False  False   False  False    False   \n",
       "2      False    False  False      False  False   False  False    False   \n",
       "3      False    False  False      False  False   False  False    False   \n",
       "4      False    False  False      False  False   False  False    False   \n",
       "\n",
       "   superb  incredible  \n",
       "0   False       False  \n",
       "1   False       False  \n",
       "2   False       False  \n",
       "3   False       False  \n",
       "4   False       False  "
      ]
     },
     "execution_count": 117,
     "metadata": {},
     "output_type": "execute_result"
    }
   ],
   "source": [
    "df_model2.head()"
   ]
  },
  {
   "cell_type": "code",
   "execution_count": 119,
   "metadata": {},
   "outputs": [
    {
     "name": "stdout",
     "output_type": "stream",
     "text": [
      "Confusion Matrix for Cross Validation Group 0 : 100\n",
      "[[45  4]\n",
      " [10 41]]\n",
      "Sensitivity: 0.9184\n",
      "Specificity: 0.1961\n",
      "Accuracy:0.86\n",
      "\n",
      "\n",
      "Confusion Matrix for Cross Validation Group 100 : 200\n",
      "[[47  3]\n",
      " [22 28]]\n",
      "Sensitivity: 0.94\n",
      "Specificity: 0.44\n",
      "Accuracy:0.75\n",
      "\n",
      "\n",
      "Confusion Matrix for Cross Validation Group 200 : 300\n",
      "[[41  2]\n",
      " [17 40]]\n",
      "Sensitivity: 0.9535\n",
      "Specificity: 0.2982\n",
      "Accuracy:0.81\n",
      "\n",
      "\n",
      "Confusion Matrix for Cross Validation Group 300 : 400\n",
      "[[38  9]\n",
      " [21 32]]\n",
      "Sensitivity: 0.8085\n",
      "Specificity: 0.3962\n",
      "Accuracy:0.7\n",
      "\n",
      "\n",
      "Confusion Matrix for Cross Validation Group 400 : 500\n",
      "[[46  4]\n",
      " [27 23]]\n",
      "Sensitivity: 0.92\n",
      "Specificity: 0.54\n",
      "Accuracy:0.69\n",
      "\n",
      "\n",
      "Confusion Matrix for Cross Validation Group 500 : 600\n",
      "[[45  4]\n",
      " [22 29]]\n",
      "Sensitivity: 0.9184\n",
      "Specificity: 0.4314\n",
      "Accuracy:0.74\n",
      "\n",
      "\n",
      "Confusion Matrix for Cross Validation Group 600 : 700\n",
      "[[50  6]\n",
      " [22 22]]\n",
      "Sensitivity: 0.8929\n",
      "Specificity: 0.5\n",
      "Accuracy:0.72\n",
      "\n",
      "\n",
      "Confusion Matrix for Cross Validation Group 700 : 800\n",
      "[[44  3]\n",
      " [27 26]]\n",
      "Sensitivity: 0.9362\n",
      "Specificity: 0.5094\n",
      "Accuracy:0.7\n",
      "\n",
      "\n",
      "Confusion Matrix for Cross Validation Group 800 : 900\n",
      "[[48  3]\n",
      " [21 28]]\n",
      "Sensitivity: 0.9412\n",
      "Specificity: 0.4286\n",
      "Accuracy:0.76\n",
      "\n",
      "\n",
      "Confusion Matrix for Cross Validation Group 900 : 1000\n",
      "[[55  3]\n",
      " [27 15]]\n",
      "Sensitivity: 0.9483\n",
      "Specificity: 0.6429\n",
      "Accuracy:0.7\n",
      "\n",
      "\n"
     ]
    }
   ],
   "source": [
    "cross_val(df_model2, 10)"
   ]
  },
  {
   "cell_type": "markdown",
   "metadata": {},
   "source": [
    "A little better.  More consistent sensitivity across samples.  Specificity is still not great.  "
   ]
  },
  {
   "cell_type": "markdown",
   "metadata": {},
   "source": [
    "# Challenge prompt\n",
    "Then go back and iterate by engineering new features, removing poor features, or tuning parameters. Repeat this process until you have five different versions of your classifier. Once you've iterated, answer these questions to compare the performance of each:\n",
    "\n",
    "- Do any of your classifiers seem to overfit?\n",
    "- Which seem to perform the best? Why?\n",
    "- What features seemed to be most impactful to performance?\n"
   ]
  },
  {
   "cell_type": "markdown",
   "metadata": {},
   "source": [
    "### Is there a better way to answer those questions besides trial and error???"
   ]
  },
  {
   "cell_type": "code",
   "execution_count": null,
   "metadata": {},
   "outputs": [],
   "source": []
  }
 ],
 "metadata": {
  "kernelspec": {
   "display_name": "Python 3",
   "language": "python",
   "name": "python3"
  },
  "language_info": {
   "codemirror_mode": {
    "name": "ipython",
    "version": 3
   },
   "file_extension": ".py",
   "mimetype": "text/x-python",
   "name": "python",
   "nbconvert_exporter": "python",
   "pygments_lexer": "ipython3",
   "version": "3.4.3"
  }
 },
 "nbformat": 4,
 "nbformat_minor": 2
}
